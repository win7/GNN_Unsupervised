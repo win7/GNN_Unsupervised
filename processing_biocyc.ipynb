{
 "cells": [
  {
   "attachments": {},
   "cell_type": "markdown",
   "metadata": {},
   "source": [
    "### Imports"
   ]
  },
  {
   "cell_type": "code",
   "execution_count": 49,
   "metadata": {
    "notebookRunGroups": {
     "groupValue": "1"
    }
   },
   "outputs": [
    {
     "name": "stdout",
     "output_type": "stream",
     "text": [
      "The autotime extension is already loaded. To reload it, use:\n",
      "  %reload_ext autotime\n",
      "time: 993 µs (started: 2023-06-15 09:35:15 -05:00)\n"
     ]
    }
   ],
   "source": [
    "from mpl_toolkits import mplot3d\n",
    "from sklearn.metrics import silhouette_score\n",
    "from sklearn.model_selection import RandomizedSearchCV\n",
    "from tqdm import tqdm\n",
    "from utils.utils import *\n",
    "\n",
    "import hdbscan\n",
    "import matplotlib.pyplot as plt\n",
    "import networkx as nx\n",
    "import numpy as np\n",
    "import os\n",
    "import pandas as pd\n",
    "import sys\n",
    "\n",
    "%load_ext autotime"
   ]
  },
  {
   "attachments": {},
   "cell_type": "markdown",
   "metadata": {},
   "source": [
    "### Parameters"
   ]
  },
  {
   "cell_type": "code",
   "execution_count": 50,
   "metadata": {
    "notebookRunGroups": {
     "groupValue": "1"
    }
   },
   "outputs": [
    {
     "name": "stdout",
     "output_type": "stream",
     "text": [
      "Raw folder:\t Edwin_proyecto2\n",
      "Exp:\t\t exp1\n",
      "Methods:\t ['vgae', 'vgae']\n",
      "Groups id:\t ['WT', 'zwf1^']\n",
      "Options:\t ['dyn', 'dyn']\n",
      "time: 14.9 ms (started: 2023-06-15 09:35:15 -05:00)\n"
     ]
    }
   ],
   "source": [
    "import json\n",
    "  \n",
    "# Opening JSON file\n",
    "file = open(\"parameters.json\")\n",
    "params = json.load(file)\n",
    "\n",
    "raw_data_folder =  params[\"raw_folder\"]\n",
    "print(\"Raw folder:\\t\", raw_data_folder)\n",
    "\n",
    "exp = params[\"exp\"]\n",
    "print(\"Exp:\\t\\t\", exp)\n",
    "\n",
    "methods = [\"vgae\", \"vgae\"] # change\n",
    "print(\"Methods:\\t\", methods)\n",
    "\n",
    "groups_id = [\"WT\", \"zwf1^\"] # change\n",
    "print(\"Groups id:\\t\", groups_id)\n",
    "\n",
    "options = [\"dyn\", \"dyn\"] # change\n",
    "print(\"Options:\\t\", options)"
   ]
  },
  {
   "attachments": {},
   "cell_type": "markdown",
   "metadata": {},
   "source": [
    "### Load data"
   ]
  },
  {
   "cell_type": "code",
   "execution_count": 51,
   "metadata": {},
   "outputs": [
    {
     "name": "stdout",
     "output_type": "stream",
     "text": [
      "(85, 7)\n"
     ]
    },
    {
     "data": {
      "text/html": [
       "<div>\n",
       "<style scoped>\n",
       "    .dataframe tbody tr th:only-of-type {\n",
       "        vertical-align: middle;\n",
       "    }\n",
       "\n",
       "    .dataframe tbody tr th {\n",
       "        vertical-align: top;\n",
       "    }\n",
       "\n",
       "    .dataframe thead th {\n",
       "        text-align: right;\n",
       "    }\n",
       "</style>\n",
       "<table border=\"1\" class=\"dataframe\">\n",
       "  <thead>\n",
       "    <tr style=\"text-align: right;\">\n",
       "      <th></th>\n",
       "      <th>Metabolites - Approved by Nicola</th>\n",
       "      <th>Metabolites - Used by Florian</th>\n",
       "      <th>Theoretical - m/z (based on BioCyc)</th>\n",
       "      <th>Chemical Formula (based on BioCyc)</th>\n",
       "      <th>Adduct (negative mode)</th>\n",
       "      <th>Error in mDa (oTOF)</th>\n",
       "      <th>Error in PPM (Theoretical vs Corrected)</th>\n",
       "    </tr>\n",
       "    <tr>\n",
       "      <th>Corrected (m/z)</th>\n",
       "      <th></th>\n",
       "      <th></th>\n",
       "      <th></th>\n",
       "      <th></th>\n",
       "      <th></th>\n",
       "      <th></th>\n",
       "      <th></th>\n",
       "    </tr>\n",
       "  </thead>\n",
       "  <tbody>\n",
       "    <tr>\n",
       "      <th>59.0137</th>\n",
       "      <td>Acetic acid</td>\n",
       "      <td>*</td>\n",
       "      <td>59.013568</td>\n",
       "      <td>C2H4O2</td>\n",
       "      <td>H</td>\n",
       "      <td>NaN</td>\n",
       "      <td>NaN</td>\n",
       "    </tr>\n",
       "    <tr>\n",
       "      <th>71.0139</th>\n",
       "      <td>Acrylic acid</td>\n",
       "      <td>*</td>\n",
       "      <td>71.013568</td>\n",
       "      <td>C3H4O2</td>\n",
       "      <td>H</td>\n",
       "      <td>NaN</td>\n",
       "      <td>NaN</td>\n",
       "    </tr>\n",
       "    <tr>\n",
       "      <th>74.0249</th>\n",
       "      <td>Glycine</td>\n",
       "      <td>*</td>\n",
       "      <td>74.024467</td>\n",
       "      <td>C2H5NO2</td>\n",
       "      <td>H</td>\n",
       "      <td>NaN</td>\n",
       "      <td>NaN</td>\n",
       "    </tr>\n",
       "    <tr>\n",
       "      <th>85.0296</th>\n",
       "      <td>Methyl Acrylate</td>\n",
       "      <td>*</td>\n",
       "      <td>85.029218</td>\n",
       "      <td>C4H6O2</td>\n",
       "      <td>H</td>\n",
       "      <td>NaN</td>\n",
       "      <td>NaN</td>\n",
       "    </tr>\n",
       "    <tr>\n",
       "      <th>87.0086</th>\n",
       "      <td>Pyruvic acid</td>\n",
       "      <td>*</td>\n",
       "      <td>87.008482</td>\n",
       "      <td>C3H4O3</td>\n",
       "      <td>H</td>\n",
       "      <td>NaN</td>\n",
       "      <td>NaN</td>\n",
       "    </tr>\n",
       "  </tbody>\n",
       "</table>\n",
       "</div>"
      ],
      "text/plain": [
       "                Metabolites - Approved by Nicola  \\\n",
       "Corrected (m/z)                                    \n",
       "59.0137                              Acetic acid   \n",
       "71.0139                             Acrylic acid   \n",
       "74.0249                                  Glycine   \n",
       "85.0296                          Methyl Acrylate   \n",
       "87.0086                             Pyruvic acid   \n",
       "\n",
       "                Metabolites - Used by Florian  \\\n",
       "Corrected (m/z)                                 \n",
       "59.0137                                     *   \n",
       "71.0139                                     *   \n",
       "74.0249                                     *   \n",
       "85.0296                                     *   \n",
       "87.0086                                     *   \n",
       "\n",
       "                 Theoretical - m/z (based on BioCyc)  \\\n",
       "Corrected (m/z)                                        \n",
       "59.0137                                    59.013568   \n",
       "71.0139                                    71.013568   \n",
       "74.0249                                    74.024467   \n",
       "85.0296                                    85.029218   \n",
       "87.0086                                    87.008482   \n",
       "\n",
       "                Chemical Formula (based on BioCyc) Adduct (negative mode)  \\\n",
       "Corrected (m/z)                                                             \n",
       "59.0137                                     C2H4O2                      H   \n",
       "71.0139                                     C3H4O2                      H   \n",
       "74.0249                                    C2H5NO2                      H   \n",
       "85.0296                                     C4H6O2                      H   \n",
       "87.0086                                     C3H4O3                      H   \n",
       "\n",
       "                 Error in mDa (oTOF)  Error in PPM (Theoretical vs Corrected)  \n",
       "Corrected (m/z)                                                                \n",
       "59.0137                          NaN                                      NaN  \n",
       "71.0139                          NaN                                      NaN  \n",
       "74.0249                          NaN                                      NaN  \n",
       "85.0296                          NaN                                      NaN  \n",
       "87.0086                          NaN                                      NaN  "
      ]
     },
     "execution_count": 51,
     "metadata": {},
     "output_type": "execute_result"
    },
    {
     "name": "stdout",
     "output_type": "stream",
     "text": [
      "time: 80.5 ms (started: 2023-06-15 09:35:15 -05:00)\n"
     ]
    }
   ],
   "source": [
    "# Load metadata\n",
    "\n",
    "df_metadata = pd.read_excel(\"temp/{}/{}.xlsx\".format(raw_data_folder, \"Edwin_Set2-processed\"), header=0, sheet_name=1)\n",
    "df_metadata.dropna(subset=[\"Corrected (m/z)\"], inplace=True)\n",
    "df_metadata = df_metadata.astype({\"Corrected (m/z)\": str})\n",
    "df_metadata.set_index(\"Corrected (m/z)\", inplace=True)\n",
    "print(df_metadata.shape)\n",
    "df_metadata.head()"
   ]
  },
  {
   "cell_type": "code",
   "execution_count": 52,
   "metadata": {},
   "outputs": [
    {
     "data": {
      "text/plain": [
       "Index(['59.0137', '71.0139', '74.0249', '85.0296', '87.0086', '88.0405',\n",
       "       '89.0245', '101.0243', '102.0562', '109.0407', '112.0518', '113.0246',\n",
       "       '115.0038', '117.0195', '118.051', '118.9807', '122.0247', '128.0355',\n",
       "       '129.0192', '130.0506', '130.0875', '131.0355', '131.0824', '132.0303',\n",
       "       '133.014', '135.0311', '145.0144', '145.0617', '145.0984', '146.0458',\n",
       "       '147.0297', '147.0655', '151.0403', '152.0354', '153.0173', '154.062',\n",
       "       '165.0554', '166.0506', '166.9758', '168.0663', '171.0302', '173.0095',\n",
       "       '173.0454', '173.0711', '179.0348', '179.0561', '184.0021', '186.1139',\n",
       "       '211.0603', '213.0145', '218.1033', '225.0991', '237.0282', '249.0552',\n",
       "       '251.0776', '259.0227', '266.0886', '279.2331', '307.0311', '316.2857',\n",
       "       '317.2143', '323.0277', '338.9889', '346.0558', '347.0589', '362.0509',\n",
       "       '365.0531', '367.0185', '388.9441', '397.1319', '401.0173', '426.0221',\n",
       "       '441.3372', '489.9937', '505.9889', '521.984', '545.3994', '604.0696',\n",
       "       '606.0744', '611.144', '664.117', '665.2139', '766.1076', '784.1495',\n",
       "       '808.118'],\n",
       "      dtype='object', name='Corrected (m/z)')"
      ]
     },
     "execution_count": 52,
     "metadata": {},
     "output_type": "execute_result"
    },
    {
     "name": "stdout",
     "output_type": "stream",
     "text": [
      "time: 4.14 ms (started: 2023-06-15 09:35:15 -05:00)\n"
     ]
    }
   ],
   "source": [
    "df_metadata.index"
   ]
  },
  {
   "cell_type": "code",
   "execution_count": 53,
   "metadata": {},
   "outputs": [
    {
     "name": "stdout",
     "output_type": "stream",
     "text": [
      "time: 1.1 ms (started: 2023-06-15 09:35:15 -05:00)\n"
     ]
    }
   ],
   "source": [
    "#df_metadata.loc[\"131\"]"
   ]
  },
  {
   "cell_type": "code",
   "execution_count": 54,
   "metadata": {},
   "outputs": [
    {
     "data": {
      "text/html": [
       "<div>\n",
       "<style scoped>\n",
       "    .dataframe tbody tr th:only-of-type {\n",
       "        vertical-align: middle;\n",
       "    }\n",
       "\n",
       "    .dataframe tbody tr th {\n",
       "        vertical-align: top;\n",
       "    }\n",
       "\n",
       "    .dataframe thead th {\n",
       "        text-align: right;\n",
       "    }\n",
       "</style>\n",
       "<table border=\"1\" class=\"dataframe\">\n",
       "  <thead>\n",
       "    <tr style=\"text-align: right;\">\n",
       "      <th></th>\n",
       "      <th>zwf1^3.4</th>\n",
       "      <th>zwf1^3.4.1</th>\n",
       "      <th>zwf1^3.4.2</th>\n",
       "      <th>zwf1^3.4.3</th>\n",
       "      <th>zwf1^3.4.4</th>\n",
       "      <th>zwf1^3.4.5</th>\n",
       "      <th>zwf1^3.4.6</th>\n",
       "      <th>zwf1^3.4.7</th>\n",
       "      <th>zwf1^3.4.8</th>\n",
       "      <th>zwf1^3.4.9</th>\n",
       "      <th>...</th>\n",
       "      <th>WT3.4</th>\n",
       "      <th>WT3.4.1</th>\n",
       "      <th>WT3.4.2</th>\n",
       "      <th>WT3.4.3</th>\n",
       "      <th>WT3.4.4</th>\n",
       "      <th>WT3.4.5</th>\n",
       "      <th>WT3.4.6</th>\n",
       "      <th>WT3.4.7</th>\n",
       "      <th>WT3.4.8</th>\n",
       "      <th>WT3.4.9</th>\n",
       "    </tr>\n",
       "  </thead>\n",
       "  <tbody>\n",
       "    <tr>\n",
       "      <th>59.0049</th>\n",
       "      <td>1</td>\n",
       "      <td>47</td>\n",
       "      <td>508</td>\n",
       "      <td>360</td>\n",
       "      <td>675</td>\n",
       "      <td>232</td>\n",
       "      <td>59</td>\n",
       "      <td>345</td>\n",
       "      <td>346</td>\n",
       "      <td>504</td>\n",
       "      <td>...</td>\n",
       "      <td>45</td>\n",
       "      <td>817</td>\n",
       "      <td>32</td>\n",
       "      <td>307</td>\n",
       "      <td>410</td>\n",
       "      <td>716</td>\n",
       "      <td>228</td>\n",
       "      <td>187</td>\n",
       "      <td>361</td>\n",
       "      <td>952</td>\n",
       "    </tr>\n",
       "    <tr>\n",
       "      <th>59.0137</th>\n",
       "      <td>53182</td>\n",
       "      <td>57902</td>\n",
       "      <td>51861</td>\n",
       "      <td>62812</td>\n",
       "      <td>54291</td>\n",
       "      <td>54395</td>\n",
       "      <td>59054</td>\n",
       "      <td>52547</td>\n",
       "      <td>57544</td>\n",
       "      <td>63538</td>\n",
       "      <td>...</td>\n",
       "      <td>45747</td>\n",
       "      <td>39677</td>\n",
       "      <td>47205</td>\n",
       "      <td>38697</td>\n",
       "      <td>54320</td>\n",
       "      <td>62610</td>\n",
       "      <td>47283</td>\n",
       "      <td>49927</td>\n",
       "      <td>43632</td>\n",
       "      <td>48511</td>\n",
       "    </tr>\n",
       "    <tr>\n",
       "      <th>59.0291</th>\n",
       "      <td>2151</td>\n",
       "      <td>2102</td>\n",
       "      <td>2334</td>\n",
       "      <td>2864</td>\n",
       "      <td>2393</td>\n",
       "      <td>2246</td>\n",
       "      <td>2331</td>\n",
       "      <td>1954</td>\n",
       "      <td>2310</td>\n",
       "      <td>2528</td>\n",
       "      <td>...</td>\n",
       "      <td>1852</td>\n",
       "      <td>1717</td>\n",
       "      <td>1830</td>\n",
       "      <td>1660</td>\n",
       "      <td>2006</td>\n",
       "      <td>2539</td>\n",
       "      <td>2103</td>\n",
       "      <td>2276</td>\n",
       "      <td>1643</td>\n",
       "      <td>2522</td>\n",
       "    </tr>\n",
       "    <tr>\n",
       "      <th>59.037</th>\n",
       "      <td>83</td>\n",
       "      <td>174</td>\n",
       "      <td>366</td>\n",
       "      <td>1134</td>\n",
       "      <td>693</td>\n",
       "      <td>464</td>\n",
       "      <td>235</td>\n",
       "      <td>479</td>\n",
       "      <td>443</td>\n",
       "      <td>691</td>\n",
       "      <td>...</td>\n",
       "      <td>225</td>\n",
       "      <td>349</td>\n",
       "      <td>185</td>\n",
       "      <td>429</td>\n",
       "      <td>186</td>\n",
       "      <td>278</td>\n",
       "      <td>364</td>\n",
       "      <td>368</td>\n",
       "      <td>115</td>\n",
       "      <td>887</td>\n",
       "    </tr>\n",
       "    <tr>\n",
       "      <th>59.0453</th>\n",
       "      <td>1</td>\n",
       "      <td>1</td>\n",
       "      <td>51</td>\n",
       "      <td>642</td>\n",
       "      <td>493</td>\n",
       "      <td>143</td>\n",
       "      <td>11</td>\n",
       "      <td>227</td>\n",
       "      <td>160</td>\n",
       "      <td>154</td>\n",
       "      <td>...</td>\n",
       "      <td>60</td>\n",
       "      <td>293</td>\n",
       "      <td>1</td>\n",
       "      <td>336</td>\n",
       "      <td>65</td>\n",
       "      <td>142</td>\n",
       "      <td>1</td>\n",
       "      <td>182</td>\n",
       "      <td>10</td>\n",
       "      <td>684</td>\n",
       "    </tr>\n",
       "  </tbody>\n",
       "</table>\n",
       "<p>5 rows × 400 columns</p>\n",
       "</div>"
      ],
      "text/plain": [
       "         zwf1^3.4  zwf1^3.4.1  zwf1^3.4.2  zwf1^3.4.3  zwf1^3.4.4  zwf1^3.4.5  \\\n",
       "59.0049         1          47         508         360         675         232   \n",
       "59.0137     53182       57902       51861       62812       54291       54395   \n",
       "59.0291      2151        2102        2334        2864        2393        2246   \n",
       "59.037         83         174         366        1134         693         464   \n",
       "59.0453         1           1          51         642         493         143   \n",
       "\n",
       "         zwf1^3.4.6  zwf1^3.4.7  zwf1^3.4.8  zwf1^3.4.9  ...  WT3.4  WT3.4.1  \\\n",
       "59.0049          59         345         346         504  ...     45      817   \n",
       "59.0137       59054       52547       57544       63538  ...  45747    39677   \n",
       "59.0291        2331        1954        2310        2528  ...   1852     1717   \n",
       "59.037          235         479         443         691  ...    225      349   \n",
       "59.0453          11         227         160         154  ...     60      293   \n",
       "\n",
       "         WT3.4.2  WT3.4.3  WT3.4.4  WT3.4.5  WT3.4.6  WT3.4.7  WT3.4.8  \\\n",
       "59.0049       32      307      410      716      228      187      361   \n",
       "59.0137    47205    38697    54320    62610    47283    49927    43632   \n",
       "59.0291     1830     1660     2006     2539     2103     2276     1643   \n",
       "59.037       185      429      186      278      364      368      115   \n",
       "59.0453        1      336       65      142        1      182       10   \n",
       "\n",
       "         WT3.4.9  \n",
       "59.0049      952  \n",
       "59.0137    48511  \n",
       "59.0291     2522  \n",
       "59.037       887  \n",
       "59.0453      684  \n",
       "\n",
       "[5 rows x 400 columns]"
      ]
     },
     "execution_count": 54,
     "metadata": {},
     "output_type": "execute_result"
    },
    {
     "name": "stdout",
     "output_type": "stream",
     "text": [
      "time: 215 ms (started: 2023-06-15 09:35:15 -05:00)\n"
     ]
    }
   ],
   "source": [
    "# load dataset groups\n",
    "df_join_raw = pd.read_csv(\"input/{}_raw.csv\".format(exp), index_col=0)        \n",
    "df_join_raw.index = df_join_raw.index.astype(\"str\")\n",
    "df_join_raw.head()"
   ]
  },
  {
   "attachments": {},
   "cell_type": "markdown",
   "metadata": {},
   "source": [
    "### BioCyc"
   ]
  },
  {
   "cell_type": "code",
   "execution_count": 55,
   "metadata": {},
   "outputs": [
    {
     "name": "stdout",
     "output_type": "stream",
     "text": [
      "time: 9.07 s (started: 2023-06-15 09:35:15 -05:00)\n"
     ]
    }
   ],
   "source": [
    "# get filter graphs\n",
    "\n",
    "dict_graphs = {}\n",
    "for method in methods:\n",
    "    for group in groups_id:\n",
    "        for option in options:\n",
    "            df_common_edges = pd.read_csv(\"output/{}/common_edges/common_edges_{}_{}_{}.csv\".format(exp, method, group, option),\n",
    "                                             dtype={\"source\": \"string\", \"target\": \"string\"})\n",
    "            G = nx.from_pandas_edgelist(df_common_edges, edge_attr=[\"weight\"])\n",
    "            dict_graphs[group] = G"
   ]
  },
  {
   "cell_type": "code",
   "execution_count": 56,
   "metadata": {},
   "outputs": [
    {
     "name": "stdout",
     "output_type": "stream",
     "text": [
      "time: 825 µs (started: 2023-06-15 09:35:24 -05:00)\n"
     ]
    }
   ],
   "source": [
    "# get nodes\n",
    "\n",
    "dict_nodes = {}\n",
    "for group in groups_id:\n",
    "    dict_nodes[group] = set(list(dict_graphs[group].nodes()))"
   ]
  },
  {
   "cell_type": "code",
   "execution_count": 57,
   "metadata": {},
   "outputs": [
    {
     "name": "stdout",
     "output_type": "stream",
     "text": [
      "dict_keys(['WT', 'zwf1^', 'WT-zwf1^'])\n",
      "time: 16.1 ms (started: 2023-06-15 09:35:24 -05:00)\n"
     ]
    }
   ],
   "source": [
    "# set operation\n",
    "\n",
    "dict_set_operation = {}\n",
    "for group in groups_id:\n",
    "    dict_nodes_aux = dict_nodes.copy()\n",
    "    nodes_aux = dict_nodes_aux.pop(group)\n",
    "    unique_nodes = nodes_aux - set.union(*list(dict_nodes_aux.values()))\n",
    "\n",
    "    dict_set_operation[group] = unique_nodes\n",
    "\n",
    "dict_set_operation[\"-\".join(groups_id)] = set.intersection(*list(dict_nodes.values()))\n",
    "\n",
    "print(dict_set_operation.keys())"
   ]
  },
  {
   "cell_type": "code",
   "execution_count": 58,
   "metadata": {},
   "outputs": [
    {
     "name": "stdout",
     "output_type": "stream",
     "text": [
      "WT 165\n",
      "zwf1^ 1970\n",
      "WT-zwf1^ 3453\n",
      "time: 12 ms (started: 2023-06-15 09:35:24 -05:00)\n"
     ]
    }
   ],
   "source": [
    "# print set size\n",
    "for key, value in dict_set_operation.items():\n",
    "    print(key, len(value))"
   ]
  },
  {
   "cell_type": "code",
   "execution_count": 59,
   "metadata": {},
   "outputs": [
    {
     "name": "stdout",
     "output_type": "stream",
     "text": [
      "time: 9.85 ms (started: 2023-06-15 09:35:24 -05:00)\n"
     ]
    }
   ],
   "source": [
    "# delete nodes without metabollities name\n",
    "for group in dict_set_operation:\n",
    "    inter = dict_set_operation[group] & set(list(df_metadata.index.values))\n",
    "    dict_set_operation[group] = list(inter)"
   ]
  },
  {
   "cell_type": "code",
   "execution_count": 60,
   "metadata": {},
   "outputs": [
    {
     "name": "stdout",
     "output_type": "stream",
     "text": [
      "WT 2\n",
      "zwf1^ 24\n",
      "WT-zwf1^ 59\n",
      "time: 11.1 ms (started: 2023-06-15 09:35:24 -05:00)\n"
     ]
    }
   ],
   "source": [
    "# print set size\n",
    "for key, value in dict_set_operation.items():\n",
    "    print(key, len(value))"
   ]
  },
  {
   "cell_type": "code",
   "execution_count": 61,
   "metadata": {},
   "outputs": [
    {
     "data": {
      "text/html": [
       "<div>\n",
       "<style scoped>\n",
       "    .dataframe tbody tr th:only-of-type {\n",
       "        vertical-align: middle;\n",
       "    }\n",
       "\n",
       "    .dataframe tbody tr th {\n",
       "        vertical-align: top;\n",
       "    }\n",
       "\n",
       "    .dataframe thead th {\n",
       "        text-align: right;\n",
       "    }\n",
       "</style>\n",
       "<table border=\"1\" class=\"dataframe\">\n",
       "  <thead>\n",
       "    <tr style=\"text-align: right;\">\n",
       "      <th></th>\n",
       "      <th>Metabolites - Approved by Nicola</th>\n",
       "      <th>Metabolites - Used by Florian</th>\n",
       "      <th>Theoretical - m/z (based on BioCyc)</th>\n",
       "      <th>Chemical Formula (based on BioCyc)</th>\n",
       "      <th>Adduct (negative mode)</th>\n",
       "      <th>Error in mDa (oTOF)</th>\n",
       "      <th>Error in PPM (Theoretical vs Corrected)</th>\n",
       "    </tr>\n",
       "    <tr>\n",
       "      <th>Corrected (m/z)</th>\n",
       "      <th></th>\n",
       "      <th></th>\n",
       "      <th></th>\n",
       "      <th></th>\n",
       "      <th></th>\n",
       "      <th></th>\n",
       "      <th></th>\n",
       "    </tr>\n",
       "  </thead>\n",
       "  <tbody>\n",
       "    <tr>\n",
       "      <th>59.0137</th>\n",
       "      <td>Acetic acid</td>\n",
       "      <td>*</td>\n",
       "      <td>59.013568</td>\n",
       "      <td>C2H4O2</td>\n",
       "      <td>H</td>\n",
       "      <td>NaN</td>\n",
       "      <td>NaN</td>\n",
       "    </tr>\n",
       "    <tr>\n",
       "      <th>71.0139</th>\n",
       "      <td>Acrylic acid</td>\n",
       "      <td>*</td>\n",
       "      <td>71.013568</td>\n",
       "      <td>C3H4O2</td>\n",
       "      <td>H</td>\n",
       "      <td>NaN</td>\n",
       "      <td>NaN</td>\n",
       "    </tr>\n",
       "    <tr>\n",
       "      <th>74.0249</th>\n",
       "      <td>Glycine</td>\n",
       "      <td>*</td>\n",
       "      <td>74.024467</td>\n",
       "      <td>C2H5NO2</td>\n",
       "      <td>H</td>\n",
       "      <td>NaN</td>\n",
       "      <td>NaN</td>\n",
       "    </tr>\n",
       "    <tr>\n",
       "      <th>85.0296</th>\n",
       "      <td>Methyl Acrylate</td>\n",
       "      <td>*</td>\n",
       "      <td>85.029218</td>\n",
       "      <td>C4H6O2</td>\n",
       "      <td>H</td>\n",
       "      <td>NaN</td>\n",
       "      <td>NaN</td>\n",
       "    </tr>\n",
       "    <tr>\n",
       "      <th>87.0086</th>\n",
       "      <td>Pyruvic acid</td>\n",
       "      <td>*</td>\n",
       "      <td>87.008482</td>\n",
       "      <td>C3H4O3</td>\n",
       "      <td>H</td>\n",
       "      <td>NaN</td>\n",
       "      <td>NaN</td>\n",
       "    </tr>\n",
       "  </tbody>\n",
       "</table>\n",
       "</div>"
      ],
      "text/plain": [
       "                Metabolites - Approved by Nicola  \\\n",
       "Corrected (m/z)                                    \n",
       "59.0137                              Acetic acid   \n",
       "71.0139                             Acrylic acid   \n",
       "74.0249                                  Glycine   \n",
       "85.0296                          Methyl Acrylate   \n",
       "87.0086                             Pyruvic acid   \n",
       "\n",
       "                Metabolites - Used by Florian  \\\n",
       "Corrected (m/z)                                 \n",
       "59.0137                                     *   \n",
       "71.0139                                     *   \n",
       "74.0249                                     *   \n",
       "85.0296                                     *   \n",
       "87.0086                                     *   \n",
       "\n",
       "                 Theoretical - m/z (based on BioCyc)  \\\n",
       "Corrected (m/z)                                        \n",
       "59.0137                                    59.013568   \n",
       "71.0139                                    71.013568   \n",
       "74.0249                                    74.024467   \n",
       "85.0296                                    85.029218   \n",
       "87.0086                                    87.008482   \n",
       "\n",
       "                Chemical Formula (based on BioCyc) Adduct (negative mode)  \\\n",
       "Corrected (m/z)                                                             \n",
       "59.0137                                     C2H4O2                      H   \n",
       "71.0139                                     C3H4O2                      H   \n",
       "74.0249                                    C2H5NO2                      H   \n",
       "85.0296                                     C4H6O2                      H   \n",
       "87.0086                                     C3H4O3                      H   \n",
       "\n",
       "                 Error in mDa (oTOF)  Error in PPM (Theoretical vs Corrected)  \n",
       "Corrected (m/z)                                                                \n",
       "59.0137                          NaN                                      NaN  \n",
       "71.0139                          NaN                                      NaN  \n",
       "74.0249                          NaN                                      NaN  \n",
       "85.0296                          NaN                                      NaN  \n",
       "87.0086                          NaN                                      NaN  "
      ]
     },
     "execution_count": 61,
     "metadata": {},
     "output_type": "execute_result"
    },
    {
     "name": "stdout",
     "output_type": "stream",
     "text": [
      "time: 14.3 ms (started: 2023-06-15 09:35:24 -05:00)\n"
     ]
    }
   ],
   "source": [
    "df_metadata.head()"
   ]
  },
  {
   "cell_type": "code",
   "execution_count": 62,
   "metadata": {},
   "outputs": [
    {
     "name": "stdout",
     "output_type": "stream",
     "text": [
      "WT (2, 4)\n",
      "zwf1^ (24, 4)\n",
      "WT-zwf1^ (59, 4)\n",
      "time: 41.5 ms (started: 2023-06-15 09:35:24 -05:00)\n"
     ]
    }
   ],
   "source": [
    "# mapping metabolite name with ratio (2)\n",
    "for key, value in dict_set_operation.items():\n",
    "    nodes = dict_set_operation[key]\n",
    "\n",
    "    df_biocyc = pd.DataFrame()\n",
    "    df_biocyc[\"m/z\"] = nodes\n",
    "\n",
    "    list_data = []\n",
    "    for group in groups_id:\n",
    "        df_aux = df_join_raw.filter(like=group)\n",
    "        df_aux = df_aux.loc[nodes]\n",
    "\n",
    "        # df_biocyc[\"mean-{}\".format(group)] = df_aux.mean(axis=1).values\n",
    "        # df_biocyc[\"log-{}\".format(group)] = np.log10(df_aux.mean(axis=1).values)\n",
    "        list_data.append(df_aux.mean(axis=1).values)\n",
    "\n",
    "    df_biocyc[\"before\"] = np.log10(list_data[0])\n",
    "    df_biocyc[\"after\"] = np.log10(list_data[1])\n",
    "    df_biocyc[\"ratio\"] = np.log10(np.divide(list_data[0], list_data[1]))\n",
    "\n",
    "    # df_biocyc[\"metabolities\"] = df_metadata.loc[common_nodes][\"Metabolites - Approved by Nicola\"].values\n",
    "    df_biocyc.insert(1, \"metabolities\", df_metadata.loc[nodes][\"Metabolites - Approved by Nicola\"].values)\n",
    "\n",
    "    df_biocyc = df_biocyc.iloc[:, 1:]\n",
    "    print(key, df_biocyc.shape)\n",
    "    # save\n",
    "    df_biocyc.to_csv(\"output/{}/biocyc/biocyc_{}_{}_{}.csv\".format(exp, methods[0], key, options[0]), \n",
    "                    index=False, header=False, sep=\"\\t\")\n",
    "    # df_biocyc.head()"
   ]
  },
  {
   "cell_type": "code",
   "execution_count": 63,
   "metadata": {},
   "outputs": [
    {
     "data": {
      "text/plain": [
       "' for key, value in dict_set_operation.items():\\n    nodes = dict_set_operation[key]\\n\\n    df_biocyc = pd.DataFrame()\\n    df_biocyc[\"m/z\"] = nodes\\n\\n    for group in groups_id:\\n        df_aux = df_join_raw.filter(like=group)\\n        df_aux = df_aux.loc[nodes]\\n\\n        # df_biocyc[\"mean-{}\".format(group)] = df_aux.mean(axis=1).values\\n        df_biocyc[\"log-{}\".format(group)] = np.log10(df_aux.mean(axis=1).values)\\n\\n    # df_biocyc[\"metabolities\"] = df_metadata.loc[common_nodes][\"Metabolites - Approved by Nicola\"].values\\n    df_biocyc.insert(1, \"metabolities\", df_metadata.loc[nodes][\"Metabolites - Approved by Nicola\"].values)\\n\\n    df_biocyc = df_biocyc.iloc[:, 1:]\\n    print(key, df_biocyc.shape)\\n    # save\\n    df_biocyc.to_csv(\"output/{}/biocyc/biocyc_{}_{}_{}.csv\".format(exp, methods[0], key, options[0]), \\n                    index=False, header=False, sep=\"\\t\")\\n    # df_biocyc.head() '"
      ]
     },
     "execution_count": 63,
     "metadata": {},
     "output_type": "execute_result"
    },
    {
     "name": "stdout",
     "output_type": "stream",
     "text": [
      "time: 4.5 ms (started: 2023-06-15 09:35:24 -05:00)\n"
     ]
    }
   ],
   "source": [
    "# mapping metabolite name with ratio (3)\n",
    "\"\"\" for key, value in dict_set_operation.items():\n",
    "    nodes = dict_set_operation[key]\n",
    "\n",
    "    df_biocyc = pd.DataFrame()\n",
    "    df_biocyc[\"m/z\"] = nodes\n",
    "\n",
    "    for group in groups_id:\n",
    "        df_aux = df_join_raw.filter(like=group)\n",
    "        df_aux = df_aux.loc[nodes]\n",
    "\n",
    "        # df_biocyc[\"mean-{}\".format(group)] = df_aux.mean(axis=1).values\n",
    "        df_biocyc[\"log-{}\".format(group)] = np.log10(df_aux.mean(axis=1).values)\n",
    "\n",
    "    # df_biocyc[\"metabolities\"] = df_metadata.loc[common_nodes][\"Metabolites - Approved by Nicola\"].values\n",
    "    df_biocyc.insert(1, \"metabolities\", df_metadata.loc[nodes][\"Metabolites - Approved by Nicola\"].values)\n",
    "\n",
    "    df_biocyc = df_biocyc.iloc[:, 1:]\n",
    "    print(key, df_biocyc.shape)\n",
    "    # save\n",
    "    df_biocyc.to_csv(\"output/{}/biocyc/biocyc_{}_{}_{}.csv\".format(exp, methods[0], key, options[0]), \n",
    "                    index=False, header=False, sep=\"\\t\")\n",
    "    # df_biocyc.head() \"\"\""
   ]
  },
  {
   "cell_type": "code",
   "execution_count": 64,
   "metadata": {},
   "outputs": [
    {
     "data": {
      "text/html": [
       "<div>\n",
       "<style scoped>\n",
       "    .dataframe tbody tr th:only-of-type {\n",
       "        vertical-align: middle;\n",
       "    }\n",
       "\n",
       "    .dataframe tbody tr th {\n",
       "        vertical-align: top;\n",
       "    }\n",
       "\n",
       "    .dataframe thead th {\n",
       "        text-align: right;\n",
       "    }\n",
       "</style>\n",
       "<table border=\"1\" class=\"dataframe\">\n",
       "  <thead>\n",
       "    <tr style=\"text-align: right;\">\n",
       "      <th></th>\n",
       "      <th>C20H30O3</th>\n",
       "      <th>3.322116913253465</th>\n",
       "      <th>3.3623159381406196</th>\n",
       "      <th>-0.04019902488715463</th>\n",
       "    </tr>\n",
       "  </thead>\n",
       "  <tbody>\n",
       "    <tr>\n",
       "      <th>0</th>\n",
       "      <td>FAD</td>\n",
       "      <td>3.524455</td>\n",
       "      <td>3.466497</td>\n",
       "      <td>0.057958</td>\n",
       "    </tr>\n",
       "    <tr>\n",
       "      <th>1</th>\n",
       "      <td>Acetyl coenzyme A</td>\n",
       "      <td>3.865341</td>\n",
       "      <td>3.720248</td>\n",
       "      <td>0.145093</td>\n",
       "    </tr>\n",
       "    <tr>\n",
       "      <th>2</th>\n",
       "      <td>Lactic acid / Glyceraldehyde</td>\n",
       "      <td>3.789973</td>\n",
       "      <td>3.524134</td>\n",
       "      <td>0.265839</td>\n",
       "    </tr>\n",
       "    <tr>\n",
       "      <th>3</th>\n",
       "      <td>Aminosalicylic acid</td>\n",
       "      <td>3.490355</td>\n",
       "      <td>3.476961</td>\n",
       "      <td>0.013394</td>\n",
       "    </tr>\n",
       "    <tr>\n",
       "      <th>4</th>\n",
       "      <td>C18H32O2</td>\n",
       "      <td>3.873093</td>\n",
       "      <td>3.930782</td>\n",
       "      <td>-0.057689</td>\n",
       "    </tr>\n",
       "  </tbody>\n",
       "</table>\n",
       "</div>"
      ],
      "text/plain": [
       "                       C20H30O3  3.322116913253465  3.3623159381406196  \\\n",
       "0                           FAD           3.524455            3.466497   \n",
       "1             Acetyl coenzyme A           3.865341            3.720248   \n",
       "2  Lactic acid / Glyceraldehyde           3.789973            3.524134   \n",
       "3           Aminosalicylic acid           3.490355            3.476961   \n",
       "4                      C18H32O2           3.873093            3.930782   \n",
       "\n",
       "   -0.04019902488715463  \n",
       "0              0.057958  \n",
       "1              0.145093  \n",
       "2              0.265839  \n",
       "3              0.013394  \n",
       "4             -0.057689  "
      ]
     },
     "execution_count": 64,
     "metadata": {},
     "output_type": "execute_result"
    },
    {
     "name": "stdout",
     "output_type": "stream",
     "text": [
      "time: 23.8 ms (started: 2023-06-15 09:35:24 -05:00)\n"
     ]
    }
   ],
   "source": [
    "df_biocyc = pd.read_csv(\"output/{}/biocyc/biocyc_{}_{}_{}.csv\".format(exp, methods[0], \"-\".join(groups_id), options[0]), sep=\"\\t\")\n",
    "df_biocyc.head()"
   ]
  }
 ],
 "metadata": {
  "kernelspec": {
   "display_name": "Python 3 (ipykernel)",
   "language": "python",
   "name": "python3"
  },
  "language_info": {
   "codemirror_mode": {
    "name": "ipython",
    "version": 3
   },
   "file_extension": ".py",
   "mimetype": "text/x-python",
   "name": "python",
   "nbconvert_exporter": "python",
   "pygments_lexer": "ipython3",
   "version": "3.10.11"
  },
  "orig_nbformat": 4
 },
 "nbformat": 4,
 "nbformat_minor": 2
}
