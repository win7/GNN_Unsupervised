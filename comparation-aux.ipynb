{
 "cells": [
  {
   "attachments": {},
   "cell_type": "markdown",
   "metadata": {},
   "source": [
    "### Imports"
   ]
  },
  {
   "cell_type": "code",
   "execution_count": 416,
   "metadata": {},
   "outputs": [
    {
     "name": "stdout",
     "output_type": "stream",
     "text": [
      "The autotime extension is already loaded. To reload it, use:\n",
      "  %reload_ext autotime\n",
      "time: 1.54 ms (started: 2023-05-30 01:46:03 -05:00)\n"
     ]
    }
   ],
   "source": [
    "from matplotlib_venn import venn2 \n",
    "from matplotlib import pyplot as plt\n",
    "from mpl_toolkits import mplot3d\n",
    "from sklearn.metrics import silhouette_score\n",
    "from sklearn.model_selection import RandomizedSearchCV\n",
    "from tqdm import tqdm\n",
    "from utils.utils import *\n",
    "\n",
    "import hdbscan\n",
    "import matplotlib.pyplot as plt\n",
    "import networkx as nx\n",
    "import numpy as np\n",
    "import os\n",
    "import pandas as pd\n",
    "import sys\n",
    "\n",
    "%load_ext autotime"
   ]
  },
  {
   "attachments": {},
   "cell_type": "markdown",
   "metadata": {},
   "source": [
    "### Parameters"
   ]
  },
  {
   "cell_type": "code",
   "execution_count": 417,
   "metadata": {
    "notebookRunGroups": {
     "groupValue": "1"
    }
   },
   "outputs": [
    {
     "name": "stdout",
     "output_type": "stream",
     "text": [
      "/home/ealvarez/Project/GNN_Filter\n",
      "Method:\t\t dgi\n",
      "Group:\t\t ['pck1^', 2]\n",
      "Subgroup:\t ['1', '2']\n",
      "Dimensions:\t [3]\n",
      "time: 2.3 ms (started: 2023-05-30 01:46:03 -05:00)\n"
     ]
    }
   ],
   "source": [
    "import json\n",
    "  \n",
    "# Opening JSON file\n",
    "file = open(\"parameters.json\")\n",
    "params = json.load(file)\n",
    "\n",
    "dir = os.path.dirname(os.getcwd())\n",
    "print(dir)\n",
    "\n",
    "method = params[\"method\"][params[\"method_idx\"]]\n",
    "print(\"Method:\\t\\t\", method)\n",
    "\n",
    "group = params[\"group\"][params[\"group_idx\"]]\n",
    "print(\"Group:\\t\\t\", group)\n",
    "\n",
    "subgroups = [str(k + 1) for k in range(group[1])]\n",
    "print(\"Subgroup:\\t\", subgroups)\n",
    "\n",
    "dimensions = params[\"dimensions\"]\n",
    "dimension = dimensions[0]\n",
    "print(\"Dimensions:\\t\", dimensions)"
   ]
  },
  {
   "attachments": {},
   "cell_type": "markdown",
   "metadata": {},
   "source": [
    "### Read graphs"
   ]
  },
  {
   "cell_type": "code",
   "execution_count": 418,
   "metadata": {},
   "outputs": [
    {
     "name": "stdout",
     "output_type": "stream",
     "text": [
      "/home/ealvarez/Project/GNN_Filter\n",
      "time: 1.05 ms (started: 2023-05-30 01:46:03 -05:00)\n"
     ]
    }
   ],
   "source": [
    "dir_ = os.path.dirname(os.getcwd())\n",
    "print(dir_)"
   ]
  },
  {
   "cell_type": "code",
   "execution_count": 419,
   "metadata": {},
   "outputs": [
    {
     "name": "stdout",
     "output_type": "stream",
     "text": [
      "(6245, 102)\n",
      "(6245, 72)\n",
      "(6245, 97)\n",
      "(6245, 137)\n",
      "time: 173 ms (started: 2023-05-30 01:46:03 -05:00)\n"
     ]
    }
   ],
   "source": [
    "# Load dataset Groups\n",
    "df1 = pd.read_csv(\"{}/input/Edwin_proyecto2/{}.csv\".format(dir_, \"int1\"), delimiter=\"|\")\n",
    "df2 = pd.read_csv(\"{}/input/Edwin_proyecto2/{}.csv\".format(dir_, \"int2\"), delimiter=\"|\")\n",
    "df3 = pd.read_csv(\"{}/input/Edwin_proyecto2/{}.csv\".format(dir_, \"int3\"), delimiter=\"|\")\n",
    "df4 = pd.read_csv(\"{}/input/Edwin_proyecto2/{}.csv\".format(dir_, \"int4\"), delimiter=\"|\")\n",
    "# df5_ = pd.read_csv(\"{}/inputs/Edwin_proyecto2/{}.csv\".format(dir, \"int5\"), delimiter=\"|\")\n",
    "\n",
    "\"\"\" df1 = pd.read_csv(\"{}/inputs/SecondDataset/{}.csv\".format(dir, \"intensities1\"), delimiter=\"|\")\n",
    "df2 = pd.read_csv(\"{}/inputs/SecondDataset/{}.csv\".format(dir, \"intensities2\"), delimiter=\"|\")\n",
    "df3 = pd.read_csv(\"{}/inputs/SecondDataset/{}.csv\".format(dir, \"intensities3\"), delimiter=\"|\")\n",
    "df4 = pd.read_csv(\"{}/inputs/SecondDataset/{}.csv\".format(dir, \"intensities4\"), delimiter=\"|\")\n",
    "df5_ = pd.read_csv(\"{}/inputs/SecondDataset/{}.csv\".format(dir, \"intensities5\"), delimiter=\"|\") \"\"\"\n",
    "\n",
    "print(df1.shape)\n",
    "print(df2.shape)\n",
    "print(df3.shape)\n",
    "print(df4.shape)\n",
    "# print(df5_.shape)"
   ]
  },
  {
   "cell_type": "code",
   "execution_count": 420,
   "metadata": {},
   "outputs": [
    {
     "name": "stdout",
     "output_type": "stream",
     "text": [
      "(6245, 400)\n"
     ]
    },
    {
     "data": {
      "text/html": [
       "<div>\n",
       "<style scoped>\n",
       "    .dataframe tbody tr th:only-of-type {\n",
       "        vertical-align: middle;\n",
       "    }\n",
       "\n",
       "    .dataframe tbody tr th {\n",
       "        vertical-align: top;\n",
       "    }\n",
       "\n",
       "    .dataframe thead th {\n",
       "        text-align: right;\n",
       "    }\n",
       "</style>\n",
       "<table border=\"1\" class=\"dataframe\">\n",
       "  <thead>\n",
       "    <tr style=\"text-align: right;\">\n",
       "      <th></th>\n",
       "      <th>0001 / zwf1^ 3.4</th>\n",
       "      <th>0002 / zwf1^ 3.4</th>\n",
       "      <th>0003 / zwf1^ 3.4</th>\n",
       "      <th>0004 / zwf1^ 3.4</th>\n",
       "      <th>0005 / zwf1^ 3.4</th>\n",
       "      <th>0006 / zwf1^ 3.4</th>\n",
       "      <th>0007 / zwf1^ 3.4</th>\n",
       "      <th>0008 / zwf1^ 3.4</th>\n",
       "      <th>0009 / zwf1^ 3.4</th>\n",
       "      <th>0010 / zwf1^ 3.4</th>\n",
       "      <th>...</th>\n",
       "      <th>0951 / WT 3.4</th>\n",
       "      <th>0952 / WT 3.4</th>\n",
       "      <th>0953 / WT 3.4</th>\n",
       "      <th>0954 / WT 3.4</th>\n",
       "      <th>0955 / WT 3.4</th>\n",
       "      <th>0956 / WT 3.4</th>\n",
       "      <th>0957 / WT 3.4</th>\n",
       "      <th>0958 / WT 3.4</th>\n",
       "      <th>0959 / WT 3.4</th>\n",
       "      <th>0960 / WT 3.4</th>\n",
       "    </tr>\n",
       "    <tr>\n",
       "      <th>ionMz</th>\n",
       "      <th></th>\n",
       "      <th></th>\n",
       "      <th></th>\n",
       "      <th></th>\n",
       "      <th></th>\n",
       "      <th></th>\n",
       "      <th></th>\n",
       "      <th></th>\n",
       "      <th></th>\n",
       "      <th></th>\n",
       "      <th></th>\n",
       "      <th></th>\n",
       "      <th></th>\n",
       "      <th></th>\n",
       "      <th></th>\n",
       "      <th></th>\n",
       "      <th></th>\n",
       "      <th></th>\n",
       "      <th></th>\n",
       "      <th></th>\n",
       "      <th></th>\n",
       "    </tr>\n",
       "  </thead>\n",
       "  <tbody>\n",
       "    <tr>\n",
       "      <th>59.0049</th>\n",
       "      <td>1</td>\n",
       "      <td>47</td>\n",
       "      <td>508</td>\n",
       "      <td>360</td>\n",
       "      <td>675</td>\n",
       "      <td>232</td>\n",
       "      <td>59</td>\n",
       "      <td>345</td>\n",
       "      <td>346</td>\n",
       "      <td>504</td>\n",
       "      <td>...</td>\n",
       "      <td>45</td>\n",
       "      <td>817</td>\n",
       "      <td>32</td>\n",
       "      <td>307</td>\n",
       "      <td>410</td>\n",
       "      <td>716</td>\n",
       "      <td>228</td>\n",
       "      <td>187</td>\n",
       "      <td>361</td>\n",
       "      <td>952</td>\n",
       "    </tr>\n",
       "    <tr>\n",
       "      <th>59.0137</th>\n",
       "      <td>53182</td>\n",
       "      <td>57902</td>\n",
       "      <td>51861</td>\n",
       "      <td>62812</td>\n",
       "      <td>54291</td>\n",
       "      <td>54395</td>\n",
       "      <td>59054</td>\n",
       "      <td>52547</td>\n",
       "      <td>57544</td>\n",
       "      <td>63538</td>\n",
       "      <td>...</td>\n",
       "      <td>45747</td>\n",
       "      <td>39677</td>\n",
       "      <td>47205</td>\n",
       "      <td>38697</td>\n",
       "      <td>54320</td>\n",
       "      <td>62610</td>\n",
       "      <td>47283</td>\n",
       "      <td>49927</td>\n",
       "      <td>43632</td>\n",
       "      <td>48511</td>\n",
       "    </tr>\n",
       "    <tr>\n",
       "      <th>59.0291</th>\n",
       "      <td>2151</td>\n",
       "      <td>2102</td>\n",
       "      <td>2334</td>\n",
       "      <td>2864</td>\n",
       "      <td>2393</td>\n",
       "      <td>2246</td>\n",
       "      <td>2331</td>\n",
       "      <td>1954</td>\n",
       "      <td>2310</td>\n",
       "      <td>2528</td>\n",
       "      <td>...</td>\n",
       "      <td>1852</td>\n",
       "      <td>1717</td>\n",
       "      <td>1830</td>\n",
       "      <td>1660</td>\n",
       "      <td>2006</td>\n",
       "      <td>2539</td>\n",
       "      <td>2103</td>\n",
       "      <td>2276</td>\n",
       "      <td>1643</td>\n",
       "      <td>2522</td>\n",
       "    </tr>\n",
       "    <tr>\n",
       "      <th>59.0370</th>\n",
       "      <td>83</td>\n",
       "      <td>174</td>\n",
       "      <td>366</td>\n",
       "      <td>1134</td>\n",
       "      <td>693</td>\n",
       "      <td>464</td>\n",
       "      <td>235</td>\n",
       "      <td>479</td>\n",
       "      <td>443</td>\n",
       "      <td>691</td>\n",
       "      <td>...</td>\n",
       "      <td>225</td>\n",
       "      <td>349</td>\n",
       "      <td>185</td>\n",
       "      <td>429</td>\n",
       "      <td>186</td>\n",
       "      <td>278</td>\n",
       "      <td>364</td>\n",
       "      <td>368</td>\n",
       "      <td>115</td>\n",
       "      <td>887</td>\n",
       "    </tr>\n",
       "    <tr>\n",
       "      <th>59.0453</th>\n",
       "      <td>1</td>\n",
       "      <td>1</td>\n",
       "      <td>51</td>\n",
       "      <td>642</td>\n",
       "      <td>493</td>\n",
       "      <td>143</td>\n",
       "      <td>11</td>\n",
       "      <td>227</td>\n",
       "      <td>160</td>\n",
       "      <td>154</td>\n",
       "      <td>...</td>\n",
       "      <td>60</td>\n",
       "      <td>293</td>\n",
       "      <td>1</td>\n",
       "      <td>336</td>\n",
       "      <td>65</td>\n",
       "      <td>142</td>\n",
       "      <td>1</td>\n",
       "      <td>182</td>\n",
       "      <td>10</td>\n",
       "      <td>684</td>\n",
       "    </tr>\n",
       "    <tr>\n",
       "      <th>...</th>\n",
       "      <td>...</td>\n",
       "      <td>...</td>\n",
       "      <td>...</td>\n",
       "      <td>...</td>\n",
       "      <td>...</td>\n",
       "      <td>...</td>\n",
       "      <td>...</td>\n",
       "      <td>...</td>\n",
       "      <td>...</td>\n",
       "      <td>...</td>\n",
       "      <td>...</td>\n",
       "      <td>...</td>\n",
       "      <td>...</td>\n",
       "      <td>...</td>\n",
       "      <td>...</td>\n",
       "      <td>...</td>\n",
       "      <td>...</td>\n",
       "      <td>...</td>\n",
       "      <td>...</td>\n",
       "      <td>...</td>\n",
       "      <td>...</td>\n",
       "    </tr>\n",
       "    <tr>\n",
       "      <th>996.5509</th>\n",
       "      <td>2470</td>\n",
       "      <td>2435</td>\n",
       "      <td>2465</td>\n",
       "      <td>2727</td>\n",
       "      <td>2773</td>\n",
       "      <td>2157</td>\n",
       "      <td>2168</td>\n",
       "      <td>2623</td>\n",
       "      <td>2256</td>\n",
       "      <td>2636</td>\n",
       "      <td>...</td>\n",
       "      <td>1866</td>\n",
       "      <td>1834</td>\n",
       "      <td>1669</td>\n",
       "      <td>674</td>\n",
       "      <td>2533</td>\n",
       "      <td>1017</td>\n",
       "      <td>2983</td>\n",
       "      <td>1814</td>\n",
       "      <td>2160</td>\n",
       "      <td>1899</td>\n",
       "    </tr>\n",
       "    <tr>\n",
       "      <th>996.7096</th>\n",
       "      <td>3366</td>\n",
       "      <td>3241</td>\n",
       "      <td>2909</td>\n",
       "      <td>3469</td>\n",
       "      <td>3538</td>\n",
       "      <td>3010</td>\n",
       "      <td>3031</td>\n",
       "      <td>2872</td>\n",
       "      <td>2709</td>\n",
       "      <td>3601</td>\n",
       "      <td>...</td>\n",
       "      <td>1748</td>\n",
       "      <td>1419</td>\n",
       "      <td>1160</td>\n",
       "      <td>621</td>\n",
       "      <td>1758</td>\n",
       "      <td>1474</td>\n",
       "      <td>1973</td>\n",
       "      <td>1023</td>\n",
       "      <td>1769</td>\n",
       "      <td>1629</td>\n",
       "    </tr>\n",
       "    <tr>\n",
       "      <th>997.5542</th>\n",
       "      <td>2818</td>\n",
       "      <td>2335</td>\n",
       "      <td>1807</td>\n",
       "      <td>1679</td>\n",
       "      <td>2222</td>\n",
       "      <td>2070</td>\n",
       "      <td>2158</td>\n",
       "      <td>1835</td>\n",
       "      <td>2087</td>\n",
       "      <td>2784</td>\n",
       "      <td>...</td>\n",
       "      <td>1168</td>\n",
       "      <td>828</td>\n",
       "      <td>1162</td>\n",
       "      <td>1103</td>\n",
       "      <td>2253</td>\n",
       "      <td>1419</td>\n",
       "      <td>2306</td>\n",
       "      <td>1542</td>\n",
       "      <td>827</td>\n",
       "      <td>1433</td>\n",
       "    </tr>\n",
       "    <tr>\n",
       "      <th>997.7131</th>\n",
       "      <td>1901</td>\n",
       "      <td>1469</td>\n",
       "      <td>1572</td>\n",
       "      <td>1916</td>\n",
       "      <td>2180</td>\n",
       "      <td>2555</td>\n",
       "      <td>2101</td>\n",
       "      <td>1656</td>\n",
       "      <td>2543</td>\n",
       "      <td>2643</td>\n",
       "      <td>...</td>\n",
       "      <td>659</td>\n",
       "      <td>1370</td>\n",
       "      <td>714</td>\n",
       "      <td>390</td>\n",
       "      <td>1660</td>\n",
       "      <td>1513</td>\n",
       "      <td>1843</td>\n",
       "      <td>1448</td>\n",
       "      <td>691</td>\n",
       "      <td>1376</td>\n",
       "    </tr>\n",
       "    <tr>\n",
       "      <th>998.4845</th>\n",
       "      <td>2249</td>\n",
       "      <td>2606</td>\n",
       "      <td>2715</td>\n",
       "      <td>2361</td>\n",
       "      <td>2634</td>\n",
       "      <td>2037</td>\n",
       "      <td>2562</td>\n",
       "      <td>2062</td>\n",
       "      <td>2297</td>\n",
       "      <td>2574</td>\n",
       "      <td>...</td>\n",
       "      <td>1144</td>\n",
       "      <td>908</td>\n",
       "      <td>1885</td>\n",
       "      <td>1603</td>\n",
       "      <td>0</td>\n",
       "      <td>0</td>\n",
       "      <td>2718</td>\n",
       "      <td>1729</td>\n",
       "      <td>928</td>\n",
       "      <td>1777</td>\n",
       "    </tr>\n",
       "  </tbody>\n",
       "</table>\n",
       "<p>6245 rows × 400 columns</p>\n",
       "</div>"
      ],
      "text/plain": [
       "          0001 / zwf1^ 3.4  0002 / zwf1^ 3.4  0003 / zwf1^ 3.4   \n",
       "ionMz                                                            \n",
       "59.0049                  1                47               508  \\\n",
       "59.0137              53182             57902             51861   \n",
       "59.0291               2151              2102              2334   \n",
       "59.0370                 83               174               366   \n",
       "59.0453                  1                 1                51   \n",
       "...                    ...               ...               ...   \n",
       "996.5509              2470              2435              2465   \n",
       "996.7096              3366              3241              2909   \n",
       "997.5542              2818              2335              1807   \n",
       "997.7131              1901              1469              1572   \n",
       "998.4845              2249              2606              2715   \n",
       "\n",
       "          0004 / zwf1^ 3.4  0005 / zwf1^ 3.4  0006 / zwf1^ 3.4   \n",
       "ionMz                                                            \n",
       "59.0049                360               675               232  \\\n",
       "59.0137              62812             54291             54395   \n",
       "59.0291               2864              2393              2246   \n",
       "59.0370               1134               693               464   \n",
       "59.0453                642               493               143   \n",
       "...                    ...               ...               ...   \n",
       "996.5509              2727              2773              2157   \n",
       "996.7096              3469              3538              3010   \n",
       "997.5542              1679              2222              2070   \n",
       "997.7131              1916              2180              2555   \n",
       "998.4845              2361              2634              2037   \n",
       "\n",
       "          0007 / zwf1^ 3.4  0008 / zwf1^ 3.4  0009 / zwf1^ 3.4   \n",
       "ionMz                                                            \n",
       "59.0049                 59               345               346  \\\n",
       "59.0137              59054             52547             57544   \n",
       "59.0291               2331              1954              2310   \n",
       "59.0370                235               479               443   \n",
       "59.0453                 11               227               160   \n",
       "...                    ...               ...               ...   \n",
       "996.5509              2168              2623              2256   \n",
       "996.7096              3031              2872              2709   \n",
       "997.5542              2158              1835              2087   \n",
       "997.7131              2101              1656              2543   \n",
       "998.4845              2562              2062              2297   \n",
       "\n",
       "          0010 / zwf1^ 3.4  ...  0951 / WT 3.4  0952 / WT 3.4  0953 / WT 3.4   \n",
       "ionMz                       ...                                                \n",
       "59.0049                504  ...             45            817             32  \\\n",
       "59.0137              63538  ...          45747          39677          47205   \n",
       "59.0291               2528  ...           1852           1717           1830   \n",
       "59.0370                691  ...            225            349            185   \n",
       "59.0453                154  ...             60            293              1   \n",
       "...                    ...  ...            ...            ...            ...   \n",
       "996.5509              2636  ...           1866           1834           1669   \n",
       "996.7096              3601  ...           1748           1419           1160   \n",
       "997.5542              2784  ...           1168            828           1162   \n",
       "997.7131              2643  ...            659           1370            714   \n",
       "998.4845              2574  ...           1144            908           1885   \n",
       "\n",
       "          0954 / WT 3.4  0955 / WT 3.4  0956 / WT 3.4  0957 / WT 3.4   \n",
       "ionMz                                                                  \n",
       "59.0049             307            410            716            228  \\\n",
       "59.0137           38697          54320          62610          47283   \n",
       "59.0291            1660           2006           2539           2103   \n",
       "59.0370             429            186            278            364   \n",
       "59.0453             336             65            142              1   \n",
       "...                 ...            ...            ...            ...   \n",
       "996.5509            674           2533           1017           2983   \n",
       "996.7096            621           1758           1474           1973   \n",
       "997.5542           1103           2253           1419           2306   \n",
       "997.7131            390           1660           1513           1843   \n",
       "998.4845           1603              0              0           2718   \n",
       "\n",
       "          0958 / WT 3.4  0959 / WT 3.4  0960 / WT 3.4  \n",
       "ionMz                                                  \n",
       "59.0049             187            361            952  \n",
       "59.0137           49927          43632          48511  \n",
       "59.0291            2276           1643           2522  \n",
       "59.0370             368            115            887  \n",
       "59.0453             182             10            684  \n",
       "...                 ...            ...            ...  \n",
       "996.5509           1814           2160           1899  \n",
       "996.7096           1023           1769           1629  \n",
       "997.5542           1542            827           1433  \n",
       "997.7131           1448            691           1376  \n",
       "998.4845           1729            928           1777  \n",
       "\n",
       "[6245 rows x 400 columns]"
      ]
     },
     "execution_count": 420,
     "metadata": {},
     "output_type": "execute_result"
    },
    {
     "name": "stdout",
     "output_type": "stream",
     "text": [
      "time: 24 ms (started: 2023-05-30 01:46:04 -05:00)\n"
     ]
    }
   ],
   "source": [
    "# concat\n",
    "# df_join_raw = pd.concat([df1.iloc[:,1:], df2.iloc[:, 2:], df3.iloc[:, 2:], df4.iloc[:, 2:], df5.iloc[:, 2:]], axis=1)\n",
    "df_join_raw = pd.concat([df1.iloc[:, 1:], df2.iloc[:, 2:], df3.iloc[:, 2:], df4.iloc[:, 2:]], axis=1)\n",
    "df_join_raw.set_index(\"ionMz\", inplace=True)\n",
    "\n",
    "print(df_join_raw.shape)\n",
    "df_join_raw"
   ]
  },
  {
   "cell_type": "code",
   "execution_count": 421,
   "metadata": {
    "notebookRunGroups": {
     "groupValue": "2"
    }
   },
   "outputs": [
    {
     "name": "stdout",
     "output_type": "stream",
     "text": [
      "time: 2.07 ms (started: 2023-05-30 01:46:04 -05:00)\n"
     ]
    }
   ],
   "source": [
    "# get nodes\n",
    "# common_nodes = list(df_join_raw.index)\n",
    "common_nodes = set([\n",
    "# 59.0137,\n",
    "71.0139,\n",
    "# 74.0249,\n",
    "85.0296,\n",
    "87.0086,\n",
    "88.0405,\n",
    "89.0245,\n",
    "# 101.0243,\n",
    "# 102.0562,\n",
    "# 109.0407,\n",
    "115.0038,\n",
    "# 117.0195,\n",
    "118.051,\n",
    "118.9807,\n",
    "122.0247,\n",
    "# 129.0192,\n",
    "130.0506,\n",
    "# 130.0875,\n",
    "131.0355,\n",
    "131.0824,\n",
    "132.0303,\n",
    "133.014,\n",
    "135.0311,\n",
    "145.0144,\n",
    "145.0984,\n",
    "146.0458,\n",
    "147.0297,\n",
    "151.0403,\n",
    "152.0354,\n",
    "154.062,\n",
    "166.0506,\n",
    "166.9758,\n",
    "# 171.0302,\n",
    "173.0095,\n",
    "173.0454,\n",
    "179.0561,\n",
    "184.0021,\n",
    "218.1033,\n",
    "249.0552,\n",
    "259.0227,\n",
    "# 266.0886,\n",
    "316.2857,\n",
    "323.0277,\n",
    "338.9889,\n",
    "346.0558,\n",
    "362.0509,\n",
    "367.0185,\n",
    "# 388.9441,\n",
    "401.0173,\n",
    "426.0221,\n",
    "489.9937,\n",
    "505.9889,\n",
    "521.984,\n",
    "606.0744,\n",
    "664.117,\n",
    "766.1076,\n",
    "784.1495,\n",
    "808.118,\n",
    "808.118\n",
    "])"
   ]
  },
  {
   "cell_type": "code",
   "execution_count": 422,
   "metadata": {},
   "outputs": [
    {
     "name": "stdout",
     "output_type": "stream",
     "text": [
      "Num. nodes: 5089\n",
      "Num. edges: 434826\n",
      "\n",
      "time: 972 ms (started: 2023-05-30 01:46:04 -05:00)\n"
     ]
    }
   ],
   "source": [
    "# GNN method STD\n",
    "df_edge_embeddings_join_filter_count_weight_std_avg = pd.read_csv(\"{}/output_edges/edges_filter_weight_std_avg/{}_{}_edge-filter-weight-std-avg_{}_{}.csv\".format(dir, method, group[0], dimension, \"L2\"))\n",
    "df_edge_embeddings_join_filter_count_weight_std_avg\n",
    "\n",
    "G = nx.from_pandas_edgelist(df_edge_embeddings_join_filter_count_weight_std_avg, \"source\", \"target\", edge_attr=[\"weight\"])\n",
    "graph_detail(G)\n",
    "\n",
    "nodes_gnn = set(list(G.nodes()))"
   ]
  },
  {
   "cell_type": "code",
   "execution_count": 423,
   "metadata": {},
   "outputs": [
    {
     "name": "stdout",
     "output_type": "stream",
     "text": [
      "Num. nodes: 5677\n",
      "Num. edges: 732148\n",
      "\n",
      "5677 732148\n",
      "time: 15.9 s (started: 2023-05-30 01:46:05 -05:00)\n"
     ]
    }
   ],
   "source": [
    "# Greedy STD\n",
    "df_edges_filter = pd.read_csv(\"{}/output_greedy/edges_filter/greedy_{}_edge-filter-std.csv\".format(dir, group[0]))\n",
    "\n",
    "G11 = nx.from_pandas_edgelist(df_edges_filter, \"source\", \"target\", edge_attr=[\"weight\"])\n",
    "graph_detail(G11)\n",
    "nodes_std = set(list(G11.nodes()))\n",
    "\n",
    "G11_ = nx.read_gexf(\"{}/output_greedy/graphs_filter/greedy_{}_graph-filter-std.gexf\".format(dir, group[0]), node_type=float)\n",
    "print(G11_.number_of_nodes(), G11_.number_of_edges())\n",
    "nodes_std_ = set(list(G11_.nodes()))"
   ]
  },
  {
   "cell_type": "code",
   "execution_count": 424,
   "metadata": {},
   "outputs": [
    {
     "name": "stdout",
     "output_type": "stream",
     "text": [
      "Num. nodes: 4651\n",
      "Num. edges: 473180\n",
      "\n",
      "4691 473180\n",
      "time: 9.74 s (started: 2023-05-30 01:46:21 -05:00)\n"
     ]
    }
   ],
   "source": [
    "# Greedy STD-ANOVA\n",
    "df_edges_filter = pd.read_csv(\"{}/output_greedy/edges_filter/greedy_{}_edge-filter-std-anova.csv\".format(dir, group[0]))\n",
    "\n",
    "G12 = nx.from_pandas_edgelist(df_edges_filter, \"source\", \"target\", edge_attr=[\"weight\"])\n",
    "graph_detail(G12)\n",
    "\n",
    "nodes_std_anova = set(list(G12.nodes()))\n",
    "\n",
    "G12_ = nx.read_gexf(\"{}/output_greedy/graphs_filter/greedy_{}_graph-filter-std-anova.gexf\".format(dir, group[0]), node_type=float)\n",
    "print(G12_.number_of_nodes(), G12_.number_of_edges())\n",
    "nodes_std_anova_ = set(list(G12_.nodes()))"
   ]
  },
  {
   "cell_type": "code",
   "execution_count": 425,
   "metadata": {},
   "outputs": [
    {
     "name": "stdout",
     "output_type": "stream",
     "text": [
      "Num. nodes: 4674\n",
      "Num. edges: 524844\n",
      "\n",
      "time: 9.04 s (started: 2023-05-30 01:46:31 -05:00)\n"
     ]
    }
   ],
   "source": [
    "# Greedy ANOVA\n",
    "df_edges_filter = pd.read_csv(\"{}/output_greedy/edges_filter/greedy_{}_edge-filter-anova.csv\".format(dir, group[0]))\n",
    "\n",
    "G21 = nx.from_pandas_edgelist(df_edges_filter, \"source\", \"target\")\n",
    "graph_detail(G21)\n",
    "\n",
    "nodes_anova = set(list(G21.nodes()))\n",
    "\n",
    "G21_ = nx.read_gexf(\"{}/output_greedy/graphs_filter/greedy_{}_graph-filter-anova.gexf\".format(dir, group[0]), node_type=float)\n",
    "G21_.number_of_nodes(), G21_.number_of_edges()\n",
    "nodes_anova_ = set(list(G21_.nodes()))"
   ]
  },
  {
   "cell_type": "code",
   "execution_count": 426,
   "metadata": {},
   "outputs": [
    {
     "name": "stdout",
     "output_type": "stream",
     "text": [
      "Num. nodes: 4651\n",
      "Num. edges: 473180\n",
      "\n",
      "time: 11.1 s (started: 2023-05-30 01:46:40 -05:00)\n"
     ]
    }
   ],
   "source": [
    "# Greedy ANOVA-STD\n",
    "df_edges_filter = pd.read_csv(\"{}/output_greedy/edges_filter/greedy_{}_edge-filter-anova-std.csv\".format(dir, group[0]))\n",
    "\n",
    "G22 = nx.from_pandas_edgelist(df_edges_filter, \"source\", \"target\", edge_attr=[\"weight\"])\n",
    "graph_detail(G22)\n",
    "\n",
    "nodes_anova_std = set(list(G22.nodes()))\n",
    "\n",
    "G22_ = nx.read_gexf(\"{}/output_greedy/graphs_filter/greedy_{}_graph-filter-anova-std.gexf\".format(dir, group[0]), node_type=float)\n",
    "G22_.number_of_nodes(), G22_.number_of_edges()\n",
    "nodes_anova_std_ = set(list(G22_.nodes()))"
   ]
  },
  {
   "cell_type": "code",
   "execution_count": 427,
   "metadata": {},
   "outputs": [
    {
     "name": "stdout",
     "output_type": "stream",
     "text": [
      "time: 755 µs (started: 2023-05-30 01:46:51 -05:00)\n"
     ]
    }
   ],
   "source": [
    "def ope_set(s1, s2):\n",
    "    a = s1 - s2\n",
    "    b = s1 & s2\n",
    "    c = s2 - s1\n",
    "    return a, b, c"
   ]
  },
  {
   "attachments": {},
   "cell_type": "markdown",
   "metadata": {},
   "source": [
    "---"
   ]
  },
  {
   "attachments": {},
   "cell_type": "markdown",
   "metadata": {},
   "source": [
    "### Get common edges"
   ]
  },
  {
   "cell_type": "code",
   "execution_count": 428,
   "metadata": {},
   "outputs": [
    {
     "data": {
      "text/plain": [
       "47"
      ]
     },
     "execution_count": 428,
     "metadata": {},
     "output_type": "execute_result"
    },
    {
     "name": "stdout",
     "output_type": "stream",
     "text": [
      "time: 2.1 ms (started: 2023-05-30 01:46:51 -05:00)\n"
     ]
    }
   ],
   "source": [
    "len(common_nodes)"
   ]
  },
  {
   "cell_type": "code",
   "execution_count": 429,
   "metadata": {},
   "outputs": [
    {
     "name": "stdout",
     "output_type": "stream",
     "text": [
      "2 45 5044\n"
     ]
    },
    {
     "data": {
      "image/png": "[encoded data removed]",
      "text/plain": [
       "<Figure size 640x480 with 1 Axes>"
      ]
     },
     "metadata": {},
     "output_type": "display_data"
    },
    {
     "name": "stdout",
     "output_type": "stream",
     "text": [
      "time: 65.8 ms (started: 2023-05-30 01:46:51 -05:00)\n"
     ]
    }
   ],
   "source": [
    "a, b, c = ope_set(common_nodes, nodes_gnn)\n",
    "print(len(a),len(b), len(c))\n",
    "venn2(subsets=(len(a), len(c), len(b)), set_labels=(\"Nodes: process\", \"Nodes: GNN ({})\".format(method)))\n",
    "plt.title(\"Group: {}\".format(group[0]))\n",
    "plt.show()"
   ]
  },
  {
   "cell_type": "code",
   "execution_count": 430,
   "metadata": {},
   "outputs": [
    {
     "name": "stdout",
     "output_type": "stream",
     "text": [
      "0 47 5630\n"
     ]
    },
    {
     "data": {
      "image/png": "[encoded data removed]",
      "text/plain": [
       "<Figure size 640x480 with 1 Axes>"
      ]
     },
     "metadata": {},
     "output_type": "display_data"
    },
    {
     "name": "stdout",
     "output_type": "stream",
     "text": [
      "time: 77 ms (started: 2023-05-30 01:46:51 -05:00)\n"
     ]
    }
   ],
   "source": [
    "a, b, c = ope_set(common_nodes, nodes_std_)\n",
    "print(len(a),len(b), len(c))\n",
    "venn2(subsets=(len(a), len(c), len(b)), set_labels=(\"Nodes: process\", \"Nodes: Greedy (std)\"))\n",
    "plt.title(\"Group: {}\".format(group[0]))\n",
    "plt.show()"
   ]
  },
  {
   "cell_type": "code",
   "execution_count": 431,
   "metadata": {},
   "outputs": [
    {
     "name": "stdout",
     "output_type": "stream",
     "text": [
      "7 40 4651\n"
     ]
    },
    {
     "data": {
      "image/png": "[encoded data removed]",
      "text/plain": [
       "<Figure size 640x480 with 1 Axes>"
      ]
     },
     "metadata": {},
     "output_type": "display_data"
    },
    {
     "name": "stdout",
     "output_type": "stream",
     "text": [
      "time: 71.8 ms (started: 2023-05-30 01:46:51 -05:00)\n"
     ]
    }
   ],
   "source": [
    "a, b, c = ope_set(common_nodes, nodes_std_anova_)\n",
    "print(len(a),len(b), len(c))\n",
    "venn2(subsets=(len(a), len(c), len(b)), set_labels=(\"Nodes: process\", \"Nodes: Greedy (std-anova)\"))\n",
    "plt.title(\"Group: {}\".format(group[0]))\n",
    "plt.show()"
   ]
  },
  {
   "cell_type": "code",
   "execution_count": 432,
   "metadata": {},
   "outputs": [
    {
     "name": "stdout",
     "output_type": "stream",
     "text": [
      "7 40 4634\n"
     ]
    },
    {
     "data": {
      "image/png": "[encoded data removed]",
      "text/plain": [
       "<Figure size 640x480 with 1 Axes>"
      ]
     },
     "metadata": {},
     "output_type": "display_data"
    },
    {
     "name": "stdout",
     "output_type": "stream",
     "text": [
      "time: 72.5 ms (started: 2023-05-30 01:46:51 -05:00)\n"
     ]
    }
   ],
   "source": [
    "a, b, c = ope_set(common_nodes, nodes_anova_)\n",
    "print(len(a),len(b), len(c))\n",
    "venn2(subsets=(len(a), len(c), len(b)), set_labels=(\"Nodes: process\", \"Nodes: Greedy (anova)\"))\n",
    "plt.title(\"Group: {}\".format(group[0]))\n",
    "plt.show()"
   ]
  },
  {
   "cell_type": "code",
   "execution_count": 433,
   "metadata": {},
   "outputs": [
    {
     "name": "stdout",
     "output_type": "stream",
     "text": [
      "7 40 4611\n"
     ]
    },
    {
     "data": {
      "image/png": "[encoded data removed]",
      "text/plain": [
       "<Figure size 640x480 with 1 Axes>"
      ]
     },
     "metadata": {},
     "output_type": "display_data"
    },
    {
     "name": "stdout",
     "output_type": "stream",
     "text": [
      "time: 63.2 ms (started: 2023-05-30 01:46:52 -05:00)\n"
     ]
    }
   ],
   "source": [
    "a, b, c = ope_set(common_nodes, nodes_anova_std_)\n",
    "print(len(a),len(b), len(c))\n",
    "venn2(subsets=(len(a), len(c), len(b)), set_labels=(\"Nodes: process\", \"Nodes: Greedy (anova-std)\"))\n",
    "plt.title(\"Group: {}\".format(group[0]))\n",
    "plt.show()"
   ]
  },
  {
   "attachments": {},
   "cell_type": "markdown",
   "metadata": {},
   "source": [
    "---"
   ]
  },
  {
   "cell_type": "code",
   "execution_count": 434,
   "metadata": {},
   "outputs": [
    {
     "name": "stdout",
     "output_type": "stream",
     "text": [
      "986 4691 0\n"
     ]
    },
    {
     "data": {
      "image/png": "[encoded data removed]",
      "text/plain": [
       "<Figure size 640x480 with 1 Axes>"
      ]
     },
     "metadata": {},
     "output_type": "display_data"
    },
    {
     "name": "stdout",
     "output_type": "stream",
     "text": [
      "time: 64.4 ms (started: 2023-05-30 01:46:52 -05:00)\n"
     ]
    }
   ],
   "source": [
    "a, b, c = ope_set(nodes_std_, nodes_std_anova_)\n",
    "print(len(a),len(b), len(c))\n",
    "venn2(subsets=(len(a), len(c), len(b)), set_labels=(\"Nodes: Greedy (std)\", \"Nodes: Greedy (std-anova)\"))\n",
    "plt.title(\"Group: {}\".format(group[0]))\n",
    "plt.show()"
   ]
  },
  {
   "cell_type": "code",
   "execution_count": 435,
   "metadata": {},
   "outputs": [
    {
     "name": "stdout",
     "output_type": "stream",
     "text": [
      "23 4651 0\n"
     ]
    },
    {
     "data": {
      "image/png": "[encoded data removed]",
      "text/plain": [
       "<Figure size 640x480 with 1 Axes>"
      ]
     },
     "metadata": {},
     "output_type": "display_data"
    },
    {
     "name": "stdout",
     "output_type": "stream",
     "text": [
      "time: 89.6 ms (started: 2023-05-30 01:46:52 -05:00)\n"
     ]
    }
   ],
   "source": [
    "a, b, c = ope_set(nodes_anova_, nodes_anova_std_)\n",
    "print(len(a),len(b), len(c))\n",
    "venn2(subsets=(len(a), len(c), len(b)), set_labels=(\"Nodes: Greedy (anova)\", \"Nodes: Greedy (anova-std)\"))\n",
    "plt.title(\"Group: {}\".format(group[0]))\n",
    "plt.show()"
   ]
  }
 ],
 "metadata": {
  "kernelspec": {
   "display_name": "Python 3 (ipykernel)",
   "language": "python",
   "name": "python3"
  },
  "language_info": {
   "codemirror_mode": {
    "name": "ipython",
    "version": 3
   },
   "file_extension": ".py",
   "mimetype": "text/x-python",
   "name": "python",
   "nbconvert_exporter": "python",
   "pygments_lexer": "ipython3",
   "version": "3.10.11"
  },
  "orig_nbformat": 4
 },
 "nbformat": 4,
 "nbformat_minor": 2
}
