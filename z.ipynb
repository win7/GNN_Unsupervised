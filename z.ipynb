{
 "cells": [
  {
   "cell_type": "code",
   "execution_count": null,
   "metadata": {
    "execution": {
     "iopub.execute_input": "2023-06-09T15:14:33.005561Z",
     "iopub.status.busy": "2023-06-09T15:14:33.004543Z",
     "iopub.status.idle": "2023-06-09T15:14:33.019527Z",
     "shell.execute_reply": "2023-06-09T15:14:33.018513Z"
    }
   },
   "outputs": [],
   "source": [
    "for k in range(10):\n",
    "    print(k)\n",
    "print(\"End\")"
   ]
  }
 ],
 "metadata": {
  "language_info": {
   "codemirror_mode": {
    "name": "ipython",
    "version": 3
   },
   "file_extension": ".py",
   "mimetype": "text/x-python",
   "name": "python",
   "nbconvert_exporter": "python",
   "pygments_lexer": "ipython3",
   "version": "3.10.11"
  }
 },
 "nbformat": 4,
 "nbformat_minor": 2
}
