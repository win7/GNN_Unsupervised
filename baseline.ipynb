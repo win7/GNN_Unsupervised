{
 "cells": [
  {
   "attachments": {},
   "cell_type": "markdown",
   "metadata": {},
   "source": [
    "### Imports"
   ]
  },
  {
   "cell_type": "code",
   "execution_count": 64,
   "metadata": {
    "tags": []
   },
   "outputs": [
    {
     "name": "stdout",
     "output_type": "stream",
     "text": [
      "The autotime extension is already loaded. To reload it, use:\n",
      "  %reload_ext autotime\n",
      "time: 1.72 ms (started: 2023-05-29 23:55:45 -05:00)\n"
     ]
    }
   ],
   "source": [
    "from mpl_toolkits import mplot3d\n",
    "from sklearn.metrics import silhouette_score\n",
    "from sklearn.model_selection import RandomizedSearchCV\n",
    "from tqdm import tqdm\n",
    "from utils.utils import *\n",
    "\n",
    "import hdbscan\n",
    "import matplotlib.pyplot as plt\n",
    "import networkx as nx\n",
    "import numpy as np\n",
    "import os\n",
    "import pandas as pd\n",
    "import sys\n",
    "\n",
    "%load_ext autotime"
   ]
  },
  {
   "attachments": {},
   "cell_type": "markdown",
   "metadata": {},
   "source": [
    "### Parameters"
   ]
  },
  {
   "cell_type": "code",
   "execution_count": 65,
   "metadata": {},
   "outputs": [
    {
     "name": "stdout",
     "output_type": "stream",
     "text": [
      "/home/ealvarez/Project/GNN_Filter\n",
      "Method:\t\t dgi\n",
      "Group:\t\t ['pck1^', 2]\n",
      "Subgroup:\t ['1', '2']\n",
      "Dimensions:\t [3]\n",
      "time: 3.02 ms (started: 2023-05-29 23:55:45 -05:00)\n"
     ]
    }
   ],
   "source": [
    "import json\n",
    "  \n",
    "# Opening JSON file\n",
    "file = open(\"parameters.json\")\n",
    "params = json.load(file)\n",
    "\n",
    "dir = os.path.dirname(os.getcwd())\n",
    "print(dir)\n",
    "\n",
    "method = params[\"method\"][params[\"method_idx\"]]\n",
    "print(\"Method:\\t\\t\", method)\n",
    "\n",
    "group = params[\"group\"][params[\"group_idx\"]]\n",
    "print(\"Group:\\t\\t\", group)\n",
    "\n",
    "subgroups = [str(k + 1) for k in range(group[1])]\n",
    "print(\"Subgroup:\\t\", subgroups)\n",
    "\n",
    "dimensions = params[\"dimensions\"]\n",
    "dimension = dimensions[0]\n",
    "print(\"Dimensions:\\t\", dimensions)"
   ]
  },
  {
   "cell_type": "code",
   "execution_count": 66,
   "metadata": {},
   "outputs": [
    {
     "name": "stdout",
     "output_type": "stream",
     "text": [
      "time: 508 µs (started: 2023-05-29 23:55:45 -05:00)\n"
     ]
    }
   ],
   "source": [
    "list_graphs = []"
   ]
  },
  {
   "attachments": {},
   "cell_type": "markdown",
   "metadata": {},
   "source": [
    "### Get common subgraphs"
   ]
  },
  {
   "cell_type": "code",
   "execution_count": 67,
   "metadata": {},
   "outputs": [
    {
     "name": "stderr",
     "output_type": "stream",
     "text": [
      " 50%|█████     | 1/2 [00:03<00:03,  3.42s/it]"
     ]
    },
    {
     "name": "stdout",
     "output_type": "stream",
     "text": [
      "Num. nodes: 6235\n",
      "Num. edges: 1629510\n",
      "\n"
     ]
    },
    {
     "name": "stderr",
     "output_type": "stream",
     "text": [
      "100%|██████████| 2/2 [00:12<00:00,  6.35s/it]"
     ]
    },
    {
     "name": "stdout",
     "output_type": "stream",
     "text": [
      "Num. nodes: 6234\n",
      "Num. edges: 4417355\n",
      "\n",
      "time: 12.7 s (started: 2023-05-29 23:55:45 -05:00)\n"
     ]
    },
    {
     "name": "stderr",
     "output_type": "stream",
     "text": [
      "\n"
     ]
    }
   ],
   "source": [
    "graphs = []\n",
    "for item in tqdm(subgroups):\n",
    "    weighted_edges = pd.read_csv(\"{}/output_preprocessing/edges/{}_edges_{}.csv\".format(dir, group[0], item))\n",
    "    G = nx.from_pandas_edgelist(weighted_edges, \"source\", \"target\", edge_attr=\"weight\")\n",
    "    graph_detail(G)\n",
    "    graphs.append(G)"
   ]
  },
  {
   "cell_type": "code",
   "execution_count": 68,
   "metadata": {},
   "outputs": [
    {
     "name": "stderr",
     "output_type": "stream",
     "text": [
      "100%|██████████| 1/1 [00:00<00:00, 257.65it/s]\n",
      "100%|██████████| 1/1 [00:12<00:00, 12.46s/it]\n"
     ]
    },
    {
     "name": "stdout",
     "output_type": "stream",
     "text": [
      "Num. nodes: 5710\n",
      "Num. edges: 842720\n",
      "\n",
      "time: 37.4 s (started: 2023-05-29 23:55:58 -05:00)\n"
     ]
    }
   ],
   "source": [
    "SG = get_subgraphs(graphs)\n",
    "graph_detail(SG)\n",
    "\n",
    "list_graphs.append(SG.copy())\n",
    "nx.write_gexf(SG, \"{}/output_greedy/graphs_filter/greedy_{}_graph-filter.gexf\".format(dir, group[0]))"
   ]
  },
  {
   "cell_type": "code",
   "execution_count": 69,
   "metadata": {},
   "outputs": [
    {
     "data": {
      "text/html": [
       "<div>\n",
       "<style scoped>\n",
       "    .dataframe tbody tr th:only-of-type {\n",
       "        vertical-align: middle;\n",
       "    }\n",
       "\n",
       "    .dataframe tbody tr th {\n",
       "        vertical-align: top;\n",
       "    }\n",
       "\n",
       "    .dataframe thead th {\n",
       "        text-align: right;\n",
       "    }\n",
       "</style>\n",
       "<table border=\"1\" class=\"dataframe\">\n",
       "  <thead>\n",
       "    <tr style=\"text-align: right;\">\n",
       "      <th></th>\n",
       "      <th>source</th>\n",
       "      <th>target</th>\n",
       "    </tr>\n",
       "  </thead>\n",
       "  <tbody>\n",
       "    <tr>\n",
       "      <th>0</th>\n",
       "      <td>520.9177</td>\n",
       "      <td>870.5460</td>\n",
       "    </tr>\n",
       "    <tr>\n",
       "      <th>1</th>\n",
       "      <td>520.9177</td>\n",
       "      <td>378.7450</td>\n",
       "    </tr>\n",
       "    <tr>\n",
       "      <th>2</th>\n",
       "      <td>520.9177</td>\n",
       "      <td>397.2518</td>\n",
       "    </tr>\n",
       "    <tr>\n",
       "      <th>3</th>\n",
       "      <td>520.9177</td>\n",
       "      <td>193.0769</td>\n",
       "    </tr>\n",
       "    <tr>\n",
       "      <th>4</th>\n",
       "      <td>520.9177</td>\n",
       "      <td>147.0655</td>\n",
       "    </tr>\n",
       "    <tr>\n",
       "      <th>...</th>\n",
       "      <td>...</td>\n",
       "      <td>...</td>\n",
       "    </tr>\n",
       "    <tr>\n",
       "      <th>842715</th>\n",
       "      <td>455.0738</td>\n",
       "      <td>455.1677</td>\n",
       "    </tr>\n",
       "    <tr>\n",
       "      <th>842716</th>\n",
       "      <td>711.1266</td>\n",
       "      <td>711.1610</td>\n",
       "    </tr>\n",
       "    <tr>\n",
       "      <th>842717</th>\n",
       "      <td>687.0800</td>\n",
       "      <td>687.0919</td>\n",
       "    </tr>\n",
       "    <tr>\n",
       "      <th>842718</th>\n",
       "      <td>760.3625</td>\n",
       "      <td>760.3770</td>\n",
       "    </tr>\n",
       "    <tr>\n",
       "      <th>842719</th>\n",
       "      <td>609.9610</td>\n",
       "      <td>609.9771</td>\n",
       "    </tr>\n",
       "  </tbody>\n",
       "</table>\n",
       "<p>842720 rows × 2 columns</p>\n",
       "</div>"
      ],
      "text/plain": [
       "          source    target\n",
       "0       520.9177  870.5460\n",
       "1       520.9177  378.7450\n",
       "2       520.9177  397.2518\n",
       "3       520.9177  193.0769\n",
       "4       520.9177  147.0655\n",
       "...          ...       ...\n",
       "842715  455.0738  455.1677\n",
       "842716  711.1266  711.1610\n",
       "842717  687.0800  687.0919\n",
       "842718  760.3625  760.3770\n",
       "842719  609.9610  609.9771\n",
       "\n",
       "[842720 rows x 2 columns]"
      ]
     },
     "execution_count": 69,
     "metadata": {},
     "output_type": "execute_result"
    },
    {
     "name": "stdout",
     "output_type": "stream",
     "text": [
      "time: 501 ms (started: 2023-05-29 23:56:35 -05:00)\n"
     ]
    }
   ],
   "source": [
    "df_edges_subgraph = pd.DataFrame(SG.edges())\n",
    "df_edges_subgraph.columns = [\"source\", \"target\"]\n",
    "df_edges_subgraph"
   ]
  },
  {
   "attachments": {},
   "cell_type": "markdown",
   "metadata": {},
   "source": [
    "### Calculate ANOVA (nodes)"
   ]
  },
  {
   "cell_type": "code",
   "execution_count": 70,
   "metadata": {},
   "outputs": [
    {
     "data": {
      "text/plain": [
       "' df_nodes_anova = get_nodes_anova(SG, dir, group)\\ndf_nodes_anova\\n\\n# Filter by ANOVA (p > 0.001)\\ndf_nodes_anova_filter = df_nodes_anova[df_nodes_anova[\"p-value\"] > 0.001]\\ndf_nodes_anova_filter\\nnodes = list(df_nodes_anova_filter.index)\\nlen(nodes) '"
      ]
     },
     "execution_count": 70,
     "metadata": {},
     "output_type": "execute_result"
    },
    {
     "name": "stdout",
     "output_type": "stream",
     "text": [
      "time: 3.09 ms (started: 2023-05-29 23:56:36 -05:00)\n"
     ]
    }
   ],
   "source": [
    "\"\"\" df_nodes_anova = get_nodes_anova(SG, dir, group)\n",
    "df_nodes_anova\n",
    "\n",
    "# Filter by ANOVA (p > 0.001)\n",
    "df_nodes_anova_filter = df_nodes_anova[df_nodes_anova[\"p-value\"] > 0.001]\n",
    "df_nodes_anova_filter\n",
    "nodes = list(df_nodes_anova_filter.index)\n",
    "len(nodes) \"\"\""
   ]
  },
  {
   "attachments": {},
   "cell_type": "markdown",
   "metadata": {},
   "source": [
    "### Calculate STD (edges)"
   ]
  },
  {
   "cell_type": "code",
   "execution_count": 71,
   "metadata": {},
   "outputs": [
    {
     "data": {
      "text/plain": [
       "' df_edges_std = get_edges_std(SG, dir, group, subgroups)\\ndf_edges_std\\n\\n# Filter by std (std <= 0.3)\\ndf_edges_std_filter = df_edges_std[df_edges_std[\"std\"] <= 0.3]\\ndf_edges_std_filter '"
      ]
     },
     "execution_count": 71,
     "metadata": {},
     "output_type": "execute_result"
    },
    {
     "name": "stdout",
     "output_type": "stream",
     "text": [
      "time: 3.47 ms (started: 2023-05-29 23:56:36 -05:00)\n"
     ]
    }
   ],
   "source": [
    "\"\"\" df_edges_std = get_edges_std(SG, dir, group, subgroups)\n",
    "df_edges_std\n",
    "\n",
    "# Filter by std (std <= 0.3)\n",
    "df_edges_std_filter = df_edges_std[df_edges_std[\"std\"] <= 0.3]\n",
    "df_edges_std_filter \"\"\""
   ]
  },
  {
   "attachments": {},
   "cell_type": "markdown",
   "metadata": {},
   "source": [
    "---"
   ]
  },
  {
   "attachments": {},
   "cell_type": "markdown",
   "metadata": {},
   "source": [
    "### STD-ANOVA"
   ]
  },
  {
   "cell_type": "code",
   "execution_count": 72,
   "metadata": {},
   "outputs": [
    {
     "name": "stderr",
     "output_type": "stream",
     "text": [
      "100%|██████████| 2/2 [00:08<00:00,  4.37s/it]\n"
     ]
    },
    {
     "data": {
      "text/html": [
       "<div>\n",
       "<style scoped>\n",
       "    .dataframe tbody tr th:only-of-type {\n",
       "        vertical-align: middle;\n",
       "    }\n",
       "\n",
       "    .dataframe tbody tr th {\n",
       "        vertical-align: top;\n",
       "    }\n",
       "\n",
       "    .dataframe thead th {\n",
       "        text-align: right;\n",
       "    }\n",
       "</style>\n",
       "<table border=\"1\" class=\"dataframe\">\n",
       "  <thead>\n",
       "    <tr style=\"text-align: right;\">\n",
       "      <th></th>\n",
       "      <th>source</th>\n",
       "      <th>target</th>\n",
       "      <th>weight</th>\n",
       "      <th>std</th>\n",
       "    </tr>\n",
       "  </thead>\n",
       "  <tbody>\n",
       "    <tr>\n",
       "      <th>608869</th>\n",
       "      <td>59.0137</td>\n",
       "      <td>59.0291</td>\n",
       "      <td>0.974889</td>\n",
       "      <td>0.013730</td>\n",
       "    </tr>\n",
       "    <tr>\n",
       "      <th>767402</th>\n",
       "      <td>59.0137</td>\n",
       "      <td>59.0370</td>\n",
       "      <td>0.740804</td>\n",
       "      <td>0.087645</td>\n",
       "    </tr>\n",
       "    <tr>\n",
       "      <th>146184</th>\n",
       "      <td>59.0137</td>\n",
       "      <td>60.0171</td>\n",
       "      <td>0.801043</td>\n",
       "      <td>0.096319</td>\n",
       "    </tr>\n",
       "    <tr>\n",
       "      <th>767281</th>\n",
       "      <td>59.0137</td>\n",
       "      <td>61.9884</td>\n",
       "      <td>0.684453</td>\n",
       "      <td>0.095850</td>\n",
       "    </tr>\n",
       "    <tr>\n",
       "      <th>767342</th>\n",
       "      <td>59.0137</td>\n",
       "      <td>71.0139</td>\n",
       "      <td>0.681361</td>\n",
       "      <td>0.020293</td>\n",
       "    </tr>\n",
       "    <tr>\n",
       "      <th>...</th>\n",
       "      <td>...</td>\n",
       "      <td>...</td>\n",
       "      <td>...</td>\n",
       "      <td>...</td>\n",
       "    </tr>\n",
       "    <tr>\n",
       "      <th>349710</th>\n",
       "      <td>988.4452</td>\n",
       "      <td>990.5673</td>\n",
       "      <td>0.675599</td>\n",
       "      <td>0.080981</td>\n",
       "    </tr>\n",
       "    <tr>\n",
       "      <th>646004</th>\n",
       "      <td>988.5664</td>\n",
       "      <td>990.5673</td>\n",
       "      <td>0.587136</td>\n",
       "      <td>0.016518</td>\n",
       "    </tr>\n",
       "    <tr>\n",
       "      <th>839146</th>\n",
       "      <td>989.4484</td>\n",
       "      <td>989.5686</td>\n",
       "      <td>0.632912</td>\n",
       "      <td>0.007138</td>\n",
       "    </tr>\n",
       "    <tr>\n",
       "      <th>708391</th>\n",
       "      <td>990.4534</td>\n",
       "      <td>990.5673</td>\n",
       "      <td>0.772224</td>\n",
       "      <td>0.105207</td>\n",
       "    </tr>\n",
       "    <tr>\n",
       "      <th>816934</th>\n",
       "      <td>996.5509</td>\n",
       "      <td>996.7096</td>\n",
       "      <td>0.572947</td>\n",
       "      <td>0.033054</td>\n",
       "    </tr>\n",
       "  </tbody>\n",
       "</table>\n",
       "<p>732148 rows × 4 columns</p>\n",
       "</div>"
      ],
      "text/plain": [
       "          source    target    weight       std\n",
       "608869   59.0137   59.0291  0.974889  0.013730\n",
       "767402   59.0137   59.0370  0.740804  0.087645\n",
       "146184   59.0137   60.0171  0.801043  0.096319\n",
       "767281   59.0137   61.9884  0.684453  0.095850\n",
       "767342   59.0137   71.0139  0.681361  0.020293\n",
       "...          ...       ...       ...       ...\n",
       "349710  988.4452  990.5673  0.675599  0.080981\n",
       "646004  988.5664  990.5673  0.587136  0.016518\n",
       "839146  989.4484  989.5686  0.632912  0.007138\n",
       "708391  990.4534  990.5673  0.772224  0.105207\n",
       "816934  996.5509  996.7096  0.572947  0.033054\n",
       "\n",
       "[732148 rows x 4 columns]"
      ]
     },
     "execution_count": 72,
     "metadata": {},
     "output_type": "execute_result"
    },
    {
     "name": "stdout",
     "output_type": "stream",
     "text": [
      "time: 11.2 s (started: 2023-05-29 23:56:36 -05:00)\n"
     ]
    }
   ],
   "source": [
    "# STD\n",
    "df_edges_std = get_edges_std(SG, dir, group, subgroups, ddof=0)\n",
    "df_edges_std\n",
    "\n",
    "# Filter by std (std < 0.3)\n",
    "df_edges_std_filter = df_edges_std[df_edges_std[\"std\"] < 0.3]\n",
    "df_edges_std_filter"
   ]
  },
  {
   "cell_type": "code",
   "execution_count": 73,
   "metadata": {},
   "outputs": [
    {
     "name": "stdout",
     "output_type": "stream",
     "text": [
      "Num. nodes: 5677\n",
      "Num. edges: 732148\n",
      "\n",
      "time: 16.1 s (started: 2023-05-29 23:56:47 -05:00)\n"
     ]
    }
   ],
   "source": [
    "G = nx.from_pandas_edgelist(df_edges_std_filter, \"source\", \"target\", edge_attr=[\"weight\"])\n",
    "graph_detail(G)\n",
    "\n",
    "list_graphs.append(G.copy())\n",
    "nx.write_gexf(G, \"{}/output_greedy/graphs_filter/greedy_{}_graph-filter-std.gexf\".format(dir, group[0]))"
   ]
  },
  {
   "cell_type": "code",
   "execution_count": 74,
   "metadata": {},
   "outputs": [
    {
     "data": {
      "text/html": [
       "<div>\n",
       "<style scoped>\n",
       "    .dataframe tbody tr th:only-of-type {\n",
       "        vertical-align: middle;\n",
       "    }\n",
       "\n",
       "    .dataframe tbody tr th {\n",
       "        vertical-align: top;\n",
       "    }\n",
       "\n",
       "    .dataframe thead th {\n",
       "        text-align: right;\n",
       "    }\n",
       "</style>\n",
       "<table border=\"1\" class=\"dataframe\">\n",
       "  <thead>\n",
       "    <tr style=\"text-align: right;\">\n",
       "      <th></th>\n",
       "      <th>source</th>\n",
       "      <th>target</th>\n",
       "      <th>weight</th>\n",
       "    </tr>\n",
       "  </thead>\n",
       "  <tbody>\n",
       "    <tr>\n",
       "      <th>0</th>\n",
       "      <td>59.0137</td>\n",
       "      <td>59.0291</td>\n",
       "      <td>0.974889</td>\n",
       "    </tr>\n",
       "    <tr>\n",
       "      <th>1</th>\n",
       "      <td>59.0137</td>\n",
       "      <td>59.0370</td>\n",
       "      <td>0.740804</td>\n",
       "    </tr>\n",
       "    <tr>\n",
       "      <th>2</th>\n",
       "      <td>59.0137</td>\n",
       "      <td>60.0171</td>\n",
       "      <td>0.801043</td>\n",
       "    </tr>\n",
       "    <tr>\n",
       "      <th>3</th>\n",
       "      <td>59.0137</td>\n",
       "      <td>61.9884</td>\n",
       "      <td>0.684453</td>\n",
       "    </tr>\n",
       "    <tr>\n",
       "      <th>4</th>\n",
       "      <td>59.0137</td>\n",
       "      <td>71.0139</td>\n",
       "      <td>0.681361</td>\n",
       "    </tr>\n",
       "    <tr>\n",
       "      <th>...</th>\n",
       "      <td>...</td>\n",
       "      <td>...</td>\n",
       "      <td>...</td>\n",
       "    </tr>\n",
       "    <tr>\n",
       "      <th>732143</th>\n",
       "      <td>978.3602</td>\n",
       "      <td>978.3779</td>\n",
       "      <td>0.682080</td>\n",
       "    </tr>\n",
       "    <tr>\n",
       "      <th>732144</th>\n",
       "      <td>978.4185</td>\n",
       "      <td>978.6600</td>\n",
       "      <td>0.754314</td>\n",
       "    </tr>\n",
       "    <tr>\n",
       "      <th>732145</th>\n",
       "      <td>979.8201</td>\n",
       "      <td>979.8546</td>\n",
       "      <td>0.664992</td>\n",
       "    </tr>\n",
       "    <tr>\n",
       "      <th>732146</th>\n",
       "      <td>979.8546</td>\n",
       "      <td>979.9144</td>\n",
       "      <td>0.614228</td>\n",
       "    </tr>\n",
       "    <tr>\n",
       "      <th>732147</th>\n",
       "      <td>980.0763</td>\n",
       "      <td>980.0986</td>\n",
       "      <td>0.704524</td>\n",
       "    </tr>\n",
       "  </tbody>\n",
       "</table>\n",
       "<p>732148 rows × 3 columns</p>\n",
       "</div>"
      ],
      "text/plain": [
       "          source    target    weight\n",
       "0        59.0137   59.0291  0.974889\n",
       "1        59.0137   59.0370  0.740804\n",
       "2        59.0137   60.0171  0.801043\n",
       "3        59.0137   61.9884  0.684453\n",
       "4        59.0137   71.0139  0.681361\n",
       "...          ...       ...       ...\n",
       "732143  978.3602  978.3779  0.682080\n",
       "732144  978.4185  978.6600  0.754314\n",
       "732145  979.8201  979.8546  0.664992\n",
       "732146  979.8546  979.9144  0.614228\n",
       "732147  980.0763  980.0986  0.704524\n",
       "\n",
       "[732148 rows x 3 columns]"
      ]
     },
     "execution_count": 74,
     "metadata": {},
     "output_type": "execute_result"
    },
    {
     "name": "stdout",
     "output_type": "stream",
     "text": [
      "time: 8.88 s (started: 2023-05-29 23:57:03 -05:00)\n"
     ]
    }
   ],
   "source": [
    "df_edges_filter = nx.to_pandas_edgelist(G)\n",
    "df_edges_filter.to_csv(\"{}/output_greedy/edges_filter/greedy_{}_edge-filter-std.csv\".format(dir, group[0]), index=False)\n",
    "df_edges_filter"
   ]
  },
  {
   "cell_type": "code",
   "execution_count": 75,
   "metadata": {},
   "outputs": [
    {
     "name": "stdout",
     "output_type": "stream",
     "text": [
      "time: 10.2 s (started: 2023-05-29 23:57:12 -05:00)\n"
     ]
    }
   ],
   "source": [
    "# ANOVA\n",
    "df_nodes_anova = get_nodes_anova(G, dir, group)\n",
    "df_nodes_anova\n",
    "\n",
    "# Filter by ANOVA (p > 0.001)\n",
    "df_nodes_anova_filter = df_nodes_anova[df_nodes_anova[\"p-value\"] > 0.001]\n",
    "df_nodes_anova_filter\n",
    "nodes = list(df_nodes_anova_filter.index)"
   ]
  },
  {
   "cell_type": "code",
   "execution_count": 76,
   "metadata": {},
   "outputs": [
    {
     "name": "stdout",
     "output_type": "stream",
     "text": [
      "Num. nodes: 4691\n",
      "Num. edges: 473180\n",
      "\n",
      "40\n"
     ]
    },
    {
     "data": {
      "text/html": [
       "<div>\n",
       "<style scoped>\n",
       "    .dataframe tbody tr th:only-of-type {\n",
       "        vertical-align: middle;\n",
       "    }\n",
       "\n",
       "    .dataframe tbody tr th {\n",
       "        vertical-align: top;\n",
       "    }\n",
       "\n",
       "    .dataframe thead th {\n",
       "        text-align: right;\n",
       "    }\n",
       "</style>\n",
       "<table border=\"1\" class=\"dataframe\">\n",
       "  <thead>\n",
       "    <tr style=\"text-align: right;\">\n",
       "      <th></th>\n",
       "      <th>source</th>\n",
       "      <th>target</th>\n",
       "      <th>weight</th>\n",
       "    </tr>\n",
       "  </thead>\n",
       "  <tbody>\n",
       "    <tr>\n",
       "      <th>0</th>\n",
       "      <td>59.0137</td>\n",
       "      <td>59.0291</td>\n",
       "      <td>0.974889</td>\n",
       "    </tr>\n",
       "    <tr>\n",
       "      <th>1</th>\n",
       "      <td>59.0137</td>\n",
       "      <td>59.0370</td>\n",
       "      <td>0.740804</td>\n",
       "    </tr>\n",
       "    <tr>\n",
       "      <th>2</th>\n",
       "      <td>59.0137</td>\n",
       "      <td>60.0171</td>\n",
       "      <td>0.801043</td>\n",
       "    </tr>\n",
       "    <tr>\n",
       "      <th>3</th>\n",
       "      <td>59.0137</td>\n",
       "      <td>61.9884</td>\n",
       "      <td>0.684453</td>\n",
       "    </tr>\n",
       "    <tr>\n",
       "      <th>4</th>\n",
       "      <td>59.0137</td>\n",
       "      <td>71.0139</td>\n",
       "      <td>0.681361</td>\n",
       "    </tr>\n",
       "    <tr>\n",
       "      <th>...</th>\n",
       "      <td>...</td>\n",
       "      <td>...</td>\n",
       "      <td>...</td>\n",
       "    </tr>\n",
       "    <tr>\n",
       "      <th>473175</th>\n",
       "      <td>978.3602</td>\n",
       "      <td>978.3779</td>\n",
       "      <td>0.682080</td>\n",
       "    </tr>\n",
       "    <tr>\n",
       "      <th>473176</th>\n",
       "      <td>978.4185</td>\n",
       "      <td>978.6600</td>\n",
       "      <td>0.754314</td>\n",
       "    </tr>\n",
       "    <tr>\n",
       "      <th>473177</th>\n",
       "      <td>979.8201</td>\n",
       "      <td>979.8546</td>\n",
       "      <td>0.664992</td>\n",
       "    </tr>\n",
       "    <tr>\n",
       "      <th>473178</th>\n",
       "      <td>979.8546</td>\n",
       "      <td>979.9144</td>\n",
       "      <td>0.614228</td>\n",
       "    </tr>\n",
       "    <tr>\n",
       "      <th>473179</th>\n",
       "      <td>980.0763</td>\n",
       "      <td>980.0986</td>\n",
       "      <td>0.704524</td>\n",
       "    </tr>\n",
       "  </tbody>\n",
       "</table>\n",
       "<p>473180 rows × 3 columns</p>\n",
       "</div>"
      ],
      "text/plain": [
       "          source    target    weight\n",
       "0        59.0137   59.0291  0.974889\n",
       "1        59.0137   59.0370  0.740804\n",
       "2        59.0137   60.0171  0.801043\n",
       "3        59.0137   61.9884  0.684453\n",
       "4        59.0137   71.0139  0.681361\n",
       "...          ...       ...       ...\n",
       "473175  978.3602  978.3779  0.682080\n",
       "473176  978.4185  978.6600  0.754314\n",
       "473177  979.8201  979.8546  0.664992\n",
       "473178  979.8546  979.9144  0.614228\n",
       "473179  980.0763  980.0986  0.704524\n",
       "\n",
       "[473180 rows x 3 columns]"
      ]
     },
     "execution_count": 76,
     "metadata": {},
     "output_type": "execute_result"
    },
    {
     "name": "stdout",
     "output_type": "stream",
     "text": [
      "time: 24.7 s (started: 2023-05-29 23:57:23 -05:00)\n"
     ]
    }
   ],
   "source": [
    "H = G.subgraph(nodes)\n",
    "graph_detail(H)\n",
    "print(len(list(n for n in H.nodes() if H.degree(n) == 0)))\n",
    "\n",
    "list_graphs.append(H.copy())\n",
    "nx.write_gexf(H, \"{}/output_greedy/graphs_filter/greedy_{}_graph-filter-std-anova.gexf\".format(dir, group[0]))\n",
    "\n",
    "df_edges_filter = nx.to_pandas_edgelist(H)\n",
    "\n",
    "df_edges_filter.to_csv(\"{}/output_greedy/edges_filter/greedy_{}_edge-filter-std-anova.csv\".format(dir, group[0]), index=False)\n",
    "df_edges_filter"
   ]
  },
  {
   "attachments": {},
   "cell_type": "markdown",
   "metadata": {},
   "source": [
    "### ANOVA-STD"
   ]
  },
  {
   "cell_type": "code",
   "execution_count": 77,
   "metadata": {},
   "outputs": [
    {
     "name": "stdout",
     "output_type": "stream",
     "text": [
      "time: 10.1 s (started: 2023-05-29 23:57:47 -05:00)\n"
     ]
    }
   ],
   "source": [
    "# ANOVA\n",
    "df_nodes_anova = get_nodes_anova(SG, dir, group)\n",
    "df_nodes_anova\n",
    "\n",
    "# Filter by ANOVA (p > 0.001)\n",
    "df_nodes_anova_filter = df_nodes_anova[df_nodes_anova[\"p-value\"] > 0.001]\n",
    "df_nodes_anova_filter\n",
    "nodes = list(df_nodes_anova_filter.index)"
   ]
  },
  {
   "cell_type": "code",
   "execution_count": 78,
   "metadata": {},
   "outputs": [
    {
     "name": "stdout",
     "output_type": "stream",
     "text": [
      "time: 3.6 ms (started: 2023-05-29 23:57:58 -05:00)\n"
     ]
    }
   ],
   "source": [
    "H = SG.subgraph(nodes)"
   ]
  },
  {
   "cell_type": "code",
   "execution_count": 79,
   "metadata": {},
   "outputs": [
    {
     "data": {
      "text/html": [
       "<div>\n",
       "<style scoped>\n",
       "    .dataframe tbody tr th:only-of-type {\n",
       "        vertical-align: middle;\n",
       "    }\n",
       "\n",
       "    .dataframe tbody tr th {\n",
       "        vertical-align: top;\n",
       "    }\n",
       "\n",
       "    .dataframe thead th {\n",
       "        text-align: right;\n",
       "    }\n",
       "</style>\n",
       "<table border=\"1\" class=\"dataframe\">\n",
       "  <thead>\n",
       "    <tr style=\"text-align: right;\">\n",
       "      <th></th>\n",
       "      <th>source</th>\n",
       "      <th>target</th>\n",
       "    </tr>\n",
       "  </thead>\n",
       "  <tbody>\n",
       "    <tr>\n",
       "      <th>0</th>\n",
       "      <td>520.9177</td>\n",
       "      <td>378.7450</td>\n",
       "    </tr>\n",
       "    <tr>\n",
       "      <th>1</th>\n",
       "      <td>520.9177</td>\n",
       "      <td>397.2518</td>\n",
       "    </tr>\n",
       "    <tr>\n",
       "      <th>2</th>\n",
       "      <td>520.9177</td>\n",
       "      <td>147.0655</td>\n",
       "    </tr>\n",
       "    <tr>\n",
       "      <th>3</th>\n",
       "      <td>520.9177</td>\n",
       "      <td>241.9185</td>\n",
       "    </tr>\n",
       "    <tr>\n",
       "      <th>4</th>\n",
       "      <td>520.9177</td>\n",
       "      <td>333.2457</td>\n",
       "    </tr>\n",
       "    <tr>\n",
       "      <th>...</th>\n",
       "      <td>...</td>\n",
       "      <td>...</td>\n",
       "    </tr>\n",
       "    <tr>\n",
       "      <th>524839</th>\n",
       "      <td>455.0738</td>\n",
       "      <td>455.1677</td>\n",
       "    </tr>\n",
       "    <tr>\n",
       "      <th>524840</th>\n",
       "      <td>711.1266</td>\n",
       "      <td>711.1610</td>\n",
       "    </tr>\n",
       "    <tr>\n",
       "      <th>524841</th>\n",
       "      <td>687.0800</td>\n",
       "      <td>687.0919</td>\n",
       "    </tr>\n",
       "    <tr>\n",
       "      <th>524842</th>\n",
       "      <td>760.3625</td>\n",
       "      <td>760.3770</td>\n",
       "    </tr>\n",
       "    <tr>\n",
       "      <th>524843</th>\n",
       "      <td>609.9610</td>\n",
       "      <td>609.9771</td>\n",
       "    </tr>\n",
       "  </tbody>\n",
       "</table>\n",
       "<p>524844 rows × 2 columns</p>\n",
       "</div>"
      ],
      "text/plain": [
       "          source    target\n",
       "0       520.9177  378.7450\n",
       "1       520.9177  397.2518\n",
       "2       520.9177  147.0655\n",
       "3       520.9177  241.9185\n",
       "4       520.9177  333.2457\n",
       "...          ...       ...\n",
       "524839  455.0738  455.1677\n",
       "524840  711.1266  711.1610\n",
       "524841  687.0800  687.0919\n",
       "524842  760.3625  760.3770\n",
       "524843  609.9610  609.9771\n",
       "\n",
       "[524844 rows x 2 columns]"
      ]
     },
     "execution_count": 79,
     "metadata": {},
     "output_type": "execute_result"
    },
    {
     "name": "stdout",
     "output_type": "stream",
     "text": [
      "time: 8.52 s (started: 2023-05-29 23:57:58 -05:00)\n"
     ]
    }
   ],
   "source": [
    "df_edges_filter = nx.to_pandas_edgelist(H)\n",
    "df_edges_filter.to_csv(\"{}/output_greedy/edges_filter/greedy_{}_edge-filter-anova.csv\".format(dir, group[0]), index=False)\n",
    "df_edges_filter"
   ]
  },
  {
   "cell_type": "code",
   "execution_count": 80,
   "metadata": {},
   "outputs": [
    {
     "name": "stdout",
     "output_type": "stream",
     "text": [
      "Num. nodes: 4674\n",
      "Num. edges: 524844\n",
      "\n",
      "time: 9.99 s (started: 2023-05-29 23:58:06 -05:00)\n"
     ]
    }
   ],
   "source": [
    "H = nx.from_pandas_edgelist(df_edges_filter, \"source\", \"target\")\n",
    "graph_detail(H)\n",
    "\n",
    "list_graphs.append(H.copy())\n",
    "nx.write_gexf(H, \"{}/output_greedy/graphs_filter/greedy_{}_graph-filter-anova.gexf\".format(dir, group[0]))"
   ]
  },
  {
   "cell_type": "code",
   "execution_count": 81,
   "metadata": {},
   "outputs": [
    {
     "name": "stderr",
     "output_type": "stream",
     "text": [
      "100%|██████████| 2/2 [00:08<00:00,  4.10s/it]\n"
     ]
    },
    {
     "data": {
      "text/html": [
       "<div>\n",
       "<style scoped>\n",
       "    .dataframe tbody tr th:only-of-type {\n",
       "        vertical-align: middle;\n",
       "    }\n",
       "\n",
       "    .dataframe tbody tr th {\n",
       "        vertical-align: top;\n",
       "    }\n",
       "\n",
       "    .dataframe thead th {\n",
       "        text-align: right;\n",
       "    }\n",
       "</style>\n",
       "<table border=\"1\" class=\"dataframe\">\n",
       "  <thead>\n",
       "    <tr style=\"text-align: right;\">\n",
       "      <th></th>\n",
       "      <th>source</th>\n",
       "      <th>target</th>\n",
       "      <th>weight</th>\n",
       "      <th>std</th>\n",
       "    </tr>\n",
       "  </thead>\n",
       "  <tbody>\n",
       "    <tr>\n",
       "      <th>51879</th>\n",
       "      <td>59.0137</td>\n",
       "      <td>59.0291</td>\n",
       "      <td>0.974889</td>\n",
       "      <td>0.013730</td>\n",
       "    </tr>\n",
       "    <tr>\n",
       "      <th>165185</th>\n",
       "      <td>59.0137</td>\n",
       "      <td>59.0370</td>\n",
       "      <td>0.740804</td>\n",
       "      <td>0.087645</td>\n",
       "    </tr>\n",
       "    <tr>\n",
       "      <th>164684</th>\n",
       "      <td>59.0137</td>\n",
       "      <td>60.0171</td>\n",
       "      <td>0.801043</td>\n",
       "      <td>0.096319</td>\n",
       "    </tr>\n",
       "    <tr>\n",
       "      <th>36831</th>\n",
       "      <td>59.0137</td>\n",
       "      <td>61.9884</td>\n",
       "      <td>0.684453</td>\n",
       "      <td>0.095850</td>\n",
       "    </tr>\n",
       "    <tr>\n",
       "      <th>120370</th>\n",
       "      <td>59.0137</td>\n",
       "      <td>71.0139</td>\n",
       "      <td>0.681361</td>\n",
       "      <td>0.020293</td>\n",
       "    </tr>\n",
       "    <tr>\n",
       "      <th>...</th>\n",
       "      <td>...</td>\n",
       "      <td>...</td>\n",
       "      <td>...</td>\n",
       "      <td>...</td>\n",
       "    </tr>\n",
       "    <tr>\n",
       "      <th>181890</th>\n",
       "      <td>984.5048</td>\n",
       "      <td>984.7590</td>\n",
       "      <td>0.673136</td>\n",
       "      <td>0.046539</td>\n",
       "    </tr>\n",
       "    <tr>\n",
       "      <th>182021</th>\n",
       "      <td>984.7590</td>\n",
       "      <td>986.7752</td>\n",
       "      <td>0.651981</td>\n",
       "      <td>0.133005</td>\n",
       "    </tr>\n",
       "    <tr>\n",
       "      <th>182024</th>\n",
       "      <td>984.7590</td>\n",
       "      <td>987.7787</td>\n",
       "      <td>0.627558</td>\n",
       "      <td>0.088982</td>\n",
       "    </tr>\n",
       "    <tr>\n",
       "      <th>509966</th>\n",
       "      <td>985.7644</td>\n",
       "      <td>986.7752</td>\n",
       "      <td>0.581169</td>\n",
       "      <td>0.054479</td>\n",
       "    </tr>\n",
       "    <tr>\n",
       "      <th>509968</th>\n",
       "      <td>985.7644</td>\n",
       "      <td>987.7787</td>\n",
       "      <td>0.528384</td>\n",
       "      <td>0.027636</td>\n",
       "    </tr>\n",
       "  </tbody>\n",
       "</table>\n",
       "<p>473180 rows × 4 columns</p>\n",
       "</div>"
      ],
      "text/plain": [
       "          source    target    weight       std\n",
       "51879    59.0137   59.0291  0.974889  0.013730\n",
       "165185   59.0137   59.0370  0.740804  0.087645\n",
       "164684   59.0137   60.0171  0.801043  0.096319\n",
       "36831    59.0137   61.9884  0.684453  0.095850\n",
       "120370   59.0137   71.0139  0.681361  0.020293\n",
       "...          ...       ...       ...       ...\n",
       "181890  984.5048  984.7590  0.673136  0.046539\n",
       "182021  984.7590  986.7752  0.651981  0.133005\n",
       "182024  984.7590  987.7787  0.627558  0.088982\n",
       "509966  985.7644  986.7752  0.581169  0.054479\n",
       "509968  985.7644  987.7787  0.528384  0.027636\n",
       "\n",
       "[473180 rows x 4 columns]"
      ]
     },
     "execution_count": 81,
     "metadata": {},
     "output_type": "execute_result"
    },
    {
     "name": "stdout",
     "output_type": "stream",
     "text": [
      "time: 9.53 s (started: 2023-05-29 23:58:16 -05:00)\n"
     ]
    }
   ],
   "source": [
    "# STD\n",
    "df_edges_std = get_edges_std(H, dir, group, subgroups, ddof=0)\n",
    "df_edges_std\n",
    "\n",
    "# Filter by std (std < 0.3)\n",
    "df_edges_std_filter = df_edges_std[df_edges_std[\"std\"] < 0.3]\n",
    "df_edges_std_filter"
   ]
  },
  {
   "cell_type": "code",
   "execution_count": 82,
   "metadata": {},
   "outputs": [
    {
     "name": "stdout",
     "output_type": "stream",
     "text": [
      "Num. nodes: 4651\n",
      "Num. edges: 473180\n",
      "\n",
      "time: 9.55 s (started: 2023-05-29 23:58:26 -05:00)\n"
     ]
    }
   ],
   "source": [
    "G = nx.from_pandas_edgelist(df_edges_std_filter, \"source\", \"target\", edge_attr=[\"weight\"])\n",
    "graph_detail(G)\n",
    "\n",
    "list_graphs.append(G.copy())\n",
    "nx.write_gexf(G, \"{}/output_greedy/graphs_filter/greedy_{}_graph-filter-anova-std.gexf\".format(dir, group[0]))"
   ]
  },
  {
   "cell_type": "code",
   "execution_count": 83,
   "metadata": {},
   "outputs": [
    {
     "data": {
      "text/html": [
       "<div>\n",
       "<style scoped>\n",
       "    .dataframe tbody tr th:only-of-type {\n",
       "        vertical-align: middle;\n",
       "    }\n",
       "\n",
       "    .dataframe tbody tr th {\n",
       "        vertical-align: top;\n",
       "    }\n",
       "\n",
       "    .dataframe thead th {\n",
       "        text-align: right;\n",
       "    }\n",
       "</style>\n",
       "<table border=\"1\" class=\"dataframe\">\n",
       "  <thead>\n",
       "    <tr style=\"text-align: right;\">\n",
       "      <th></th>\n",
       "      <th>source</th>\n",
       "      <th>target</th>\n",
       "      <th>weight</th>\n",
       "    </tr>\n",
       "  </thead>\n",
       "  <tbody>\n",
       "    <tr>\n",
       "      <th>0</th>\n",
       "      <td>59.0137</td>\n",
       "      <td>59.0291</td>\n",
       "      <td>0.974889</td>\n",
       "    </tr>\n",
       "    <tr>\n",
       "      <th>1</th>\n",
       "      <td>59.0137</td>\n",
       "      <td>59.0370</td>\n",
       "      <td>0.740804</td>\n",
       "    </tr>\n",
       "    <tr>\n",
       "      <th>2</th>\n",
       "      <td>59.0137</td>\n",
       "      <td>60.0171</td>\n",
       "      <td>0.801043</td>\n",
       "    </tr>\n",
       "    <tr>\n",
       "      <th>3</th>\n",
       "      <td>59.0137</td>\n",
       "      <td>61.9884</td>\n",
       "      <td>0.684453</td>\n",
       "    </tr>\n",
       "    <tr>\n",
       "      <th>4</th>\n",
       "      <td>59.0137</td>\n",
       "      <td>71.0139</td>\n",
       "      <td>0.681361</td>\n",
       "    </tr>\n",
       "    <tr>\n",
       "      <th>...</th>\n",
       "      <td>...</td>\n",
       "      <td>...</td>\n",
       "      <td>...</td>\n",
       "    </tr>\n",
       "    <tr>\n",
       "      <th>473175</th>\n",
       "      <td>978.3602</td>\n",
       "      <td>978.3779</td>\n",
       "      <td>0.682080</td>\n",
       "    </tr>\n",
       "    <tr>\n",
       "      <th>473176</th>\n",
       "      <td>978.4185</td>\n",
       "      <td>978.6600</td>\n",
       "      <td>0.754314</td>\n",
       "    </tr>\n",
       "    <tr>\n",
       "      <th>473177</th>\n",
       "      <td>979.8201</td>\n",
       "      <td>979.8546</td>\n",
       "      <td>0.664992</td>\n",
       "    </tr>\n",
       "    <tr>\n",
       "      <th>473178</th>\n",
       "      <td>979.8546</td>\n",
       "      <td>979.9144</td>\n",
       "      <td>0.614228</td>\n",
       "    </tr>\n",
       "    <tr>\n",
       "      <th>473179</th>\n",
       "      <td>980.0763</td>\n",
       "      <td>980.0986</td>\n",
       "      <td>0.704524</td>\n",
       "    </tr>\n",
       "  </tbody>\n",
       "</table>\n",
       "<p>473180 rows × 3 columns</p>\n",
       "</div>"
      ],
      "text/plain": [
       "          source    target    weight\n",
       "0        59.0137   59.0291  0.974889\n",
       "1        59.0137   59.0370  0.740804\n",
       "2        59.0137   60.0171  0.801043\n",
       "3        59.0137   61.9884  0.684453\n",
       "4        59.0137   71.0139  0.681361\n",
       "...          ...       ...       ...\n",
       "473175  978.3602  978.3779  0.682080\n",
       "473176  978.4185  978.6600  0.754314\n",
       "473177  979.8201  979.8546  0.664992\n",
       "473178  979.8546  979.9144  0.614228\n",
       "473179  980.0763  980.0986  0.704524\n",
       "\n",
       "[473180 rows x 3 columns]"
      ]
     },
     "execution_count": 83,
     "metadata": {},
     "output_type": "execute_result"
    },
    {
     "name": "stdout",
     "output_type": "stream",
     "text": [
      "time: 7.53 s (started: 2023-05-29 23:58:36 -05:00)\n"
     ]
    }
   ],
   "source": [
    "df_edges_filter = nx.to_pandas_edgelist(G)\n",
    "df_edges_filter.to_csv(\"{}/output_greedy/edges_filter/greedy_{}_edge-filter-anova-std.csv\".format(dir, group[0]), index=False)\n",
    "df_edges_filter"
   ]
  },
  {
   "attachments": {},
   "cell_type": "markdown",
   "metadata": {},
   "source": [
    "### Results"
   ]
  },
  {
   "cell_type": "code",
   "execution_count": 84,
   "metadata": {},
   "outputs": [
    {
     "name": "stdout",
     "output_type": "stream",
     "text": [
      "Num. nodes: 5710\n",
      "Num. edges: 842720\n",
      "\n",
      "Num. nodes: 5677\n",
      "Num. edges: 732148\n",
      "\n",
      "Num. nodes: 4691\n",
      "Num. edges: 473180\n",
      "\n",
      "Num. nodes: 4674\n",
      "Num. edges: 524844\n",
      "\n",
      "Num. nodes: 4651\n",
      "Num. edges: 473180\n",
      "\n",
      "time: 24.9 ms (started: 2023-05-29 23:58:43 -05:00)\n"
     ]
    }
   ],
   "source": [
    "for graph in list_graphs:\n",
    "    graph_detail(graph)"
   ]
  }
 ],
 "metadata": {
  "kernelspec": {
   "display_name": "Python 3 (ipykernel)",
   "language": "python",
   "name": "python3"
  },
  "language_info": {
   "codemirror_mode": {
    "name": "ipython",
    "version": 3
   },
   "file_extension": ".py",
   "mimetype": "text/x-python",
   "name": "python",
   "nbconvert_exporter": "python",
   "pygments_lexer": "ipython3",
   "version": "3.10.11"
  },
  "orig_nbformat": 4
 },
 "nbformat": 4,
 "nbformat_minor": 2
}
