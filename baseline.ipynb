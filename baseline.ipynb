{
 "cells": [
  {
   "attachments": {},
   "cell_type": "markdown",
   "metadata": {},
   "source": [
    "### Imports"
   ]
  },
  {
   "cell_type": "code",
   "execution_count": 1,
   "metadata": {
    "tags": []
   },
   "outputs": [
    {
     "name": "stderr",
     "output_type": "stream",
     "text": [
      "/home/ealvarez/miniconda3/envs/Conda_dgl_3.10/lib/python3.10/site-packages/umap/distances.py:1063: NumbaDeprecationWarning: The 'nopython' keyword argument was not supplied to the 'numba.jit' decorator. The implicit default value for this argument is currently False, but it will be changed to True in Numba 0.59.0. See https://numba.readthedocs.io/en/stable/reference/deprecation.html#deprecation-of-object-mode-fall-back-behaviour-when-using-jit for details.\n",
      "  @numba.jit()\n",
      "/home/ealvarez/miniconda3/envs/Conda_dgl_3.10/lib/python3.10/site-packages/umap/distances.py:1071: NumbaDeprecationWarning: The 'nopython' keyword argument was not supplied to the 'numba.jit' decorator. The implicit default value for this argument is currently False, but it will be changed to True in Numba 0.59.0. See https://numba.readthedocs.io/en/stable/reference/deprecation.html#deprecation-of-object-mode-fall-back-behaviour-when-using-jit for details.\n",
      "  @numba.jit()\n",
      "/home/ealvarez/miniconda3/envs/Conda_dgl_3.10/lib/python3.10/site-packages/umap/distances.py:1086: NumbaDeprecationWarning: The 'nopython' keyword argument was not supplied to the 'numba.jit' decorator. The implicit default value for this argument is currently False, but it will be changed to True in Numba 0.59.0. See https://numba.readthedocs.io/en/stable/reference/deprecation.html#deprecation-of-object-mode-fall-back-behaviour-when-using-jit for details.\n",
      "  @numba.jit()\n",
      "/home/ealvarez/miniconda3/envs/Conda_dgl_3.10/lib/python3.10/site-packages/umap/umap_.py:660: NumbaDeprecationWarning: The 'nopython' keyword argument was not supplied to the 'numba.jit' decorator. The implicit default value for this argument is currently False, but it will be changed to True in Numba 0.59.0. See https://numba.readthedocs.io/en/stable/reference/deprecation.html#deprecation-of-object-mode-fall-back-behaviour-when-using-jit for details.\n",
      "  @numba.jit()\n"
     ]
    },
    {
     "name": "stdout",
     "output_type": "stream",
     "text": [
      "time: 188 µs (started: 2023-05-31 13:42:19 -05:00)\n"
     ]
    }
   ],
   "source": [
    "from mpl_toolkits import mplot3d\n",
    "from sklearn.metrics import silhouette_score\n",
    "from sklearn.model_selection import RandomizedSearchCV\n",
    "from tqdm import tqdm\n",
    "from utils.utils import *\n",
    "\n",
    "import hdbscan\n",
    "import matplotlib.pyplot as plt\n",
    "import networkx as nx\n",
    "import numpy as np\n",
    "import os\n",
    "import pandas as pd\n",
    "import sys\n",
    "\n",
    "%load_ext autotime"
   ]
  },
  {
   "attachments": {},
   "cell_type": "markdown",
   "metadata": {},
   "source": [
    "### Parameters"
   ]
  },
  {
   "cell_type": "code",
   "execution_count": 2,
   "metadata": {},
   "outputs": [
    {
     "name": "stdout",
     "output_type": "stream",
     "text": [
      "/home/ealvarez/Project/GNN_Filter\n",
      "Method:\t\t dgi\n",
      "Group:\t\t ['WT', 5]\n",
      "Subgroup:\t ['1', '2', '3', '4', '5']\n",
      "Dimensions:\t [3]\n",
      "time: 3.11 ms (started: 2023-05-31 13:42:19 -05:00)\n"
     ]
    }
   ],
   "source": [
    "import json\n",
    "  \n",
    "# Opening JSON file\n",
    "file = open(\"parameters.json\")\n",
    "params = json.load(file)\n",
    "\n",
    "dir = os.path.dirname(os.getcwd())\n",
    "print(dir)\n",
    "\n",
    "method = params[\"method\"][params[\"method_idx\"]]\n",
    "print(\"Method:\\t\\t\", method)\n",
    "\n",
    "group = params[\"group\"][params[\"group_idx\"]]\n",
    "print(\"Group:\\t\\t\", group)\n",
    "\n",
    "subgroups = [str(k + 1) for k in range(group[1])]\n",
    "print(\"Subgroup:\\t\", subgroups)\n",
    "\n",
    "dimensions = params[\"dimensions\"]\n",
    "dimension = dimensions[0]\n",
    "print(\"Dimensions:\\t\", dimensions)"
   ]
  },
  {
   "cell_type": "code",
   "execution_count": 3,
   "metadata": {},
   "outputs": [
    {
     "name": "stdout",
     "output_type": "stream",
     "text": [
      "time: 265 µs (started: 2023-05-31 13:42:19 -05:00)\n"
     ]
    }
   ],
   "source": [
    "list_graphs = []"
   ]
  },
  {
   "attachments": {},
   "cell_type": "markdown",
   "metadata": {},
   "source": [
    "### Get common subgraphs"
   ]
  },
  {
   "cell_type": "code",
   "execution_count": 4,
   "metadata": {},
   "outputs": [
    {
     "name": "stderr",
     "output_type": "stream",
     "text": [
      " 20%|██        | 1/5 [00:02<00:11,  2.78s/it]"
     ]
    },
    {
     "name": "stdout",
     "output_type": "stream",
     "text": [
      "Num. nodes: 6234\n",
      "Num. edges: 1243057\n",
      "\n"
     ]
    },
    {
     "name": "stderr",
     "output_type": "stream",
     "text": [
      " 40%|████      | 2/5 [00:04<00:07,  2.38s/it]"
     ]
    },
    {
     "name": "stdout",
     "output_type": "stream",
     "text": [
      "Num. nodes: 6231\n",
      "Num. edges: 939038\n",
      "\n"
     ]
    },
    {
     "name": "stderr",
     "output_type": "stream",
     "text": [
      " 60%|██████    | 3/5 [00:09<00:07,  3.58s/it]"
     ]
    },
    {
     "name": "stdout",
     "output_type": "stream",
     "text": [
      "Num. nodes: 6233\n",
      "Num. edges: 2252847\n",
      "\n"
     ]
    },
    {
     "name": "stderr",
     "output_type": "stream",
     "text": [
      " 80%|████████  | 4/5 [00:18<00:05,  5.62s/it]"
     ]
    },
    {
     "name": "stdout",
     "output_type": "stream",
     "text": [
      "Num. nodes: 6226\n",
      "Num. edges: 3728175\n",
      "\n"
     ]
    },
    {
     "name": "stderr",
     "output_type": "stream",
     "text": [
      "100%|██████████| 5/5 [00:28<00:00,  5.60s/it]"
     ]
    },
    {
     "name": "stdout",
     "output_type": "stream",
     "text": [
      "Num. nodes: 6226\n",
      "Num. edges: 4071713\n",
      "\n",
      "time: 28 s (started: 2023-05-31 13:42:19 -05:00)\n"
     ]
    },
    {
     "name": "stderr",
     "output_type": "stream",
     "text": [
      "\n"
     ]
    }
   ],
   "source": [
    "graphs = []\n",
    "for item in tqdm(subgroups):\n",
    "    weighted_edges = pd.read_csv(\"{}/output_preprocessing/edges/{}_edges_{}.csv\".format(dir, group[0], item))\n",
    "    G = nx.from_pandas_edgelist(weighted_edges, \"source\", \"target\", edge_attr=\"weight\")\n",
    "    graph_detail(G)\n",
    "    graphs.append(G)"
   ]
  },
  {
   "cell_type": "code",
   "execution_count": 5,
   "metadata": {},
   "outputs": [
    {
     "name": "stderr",
     "output_type": "stream",
     "text": [
      "100%|██████████| 4/4 [00:00<00:00, 558.18it/s]\n",
      "100%|██████████| 4/4 [00:37<00:00,  9.26s/it]\n"
     ]
    },
    {
     "name": "stdout",
     "output_type": "stream",
     "text": [
      "Num. nodes: 4202\n",
      "Num. edges: 135076\n",
      "\n",
      "time: 47.6 s (started: 2023-05-31 13:42:47 -05:00)\n"
     ]
    }
   ],
   "source": [
    "SG = get_subgraphs(graphs)\n",
    "graph_detail(SG)\n",
    "\n",
    "list_graphs.append(SG.copy())\n",
    "nx.write_gexf(SG, \"{}/output_greedy/graphs_filter/greedy_{}_graph-filter.gexf\".format(dir, group[0]))"
   ]
  },
  {
   "cell_type": "code",
   "execution_count": 6,
   "metadata": {},
   "outputs": [
    {
     "data": {
      "text/html": [
       "<div>\n",
       "<style scoped>\n",
       "    .dataframe tbody tr th:only-of-type {\n",
       "        vertical-align: middle;\n",
       "    }\n",
       "\n",
       "    .dataframe tbody tr th {\n",
       "        vertical-align: top;\n",
       "    }\n",
       "\n",
       "    .dataframe thead th {\n",
       "        text-align: right;\n",
       "    }\n",
       "</style>\n",
       "<table border=\"1\" class=\"dataframe\">\n",
       "  <thead>\n",
       "    <tr style=\"text-align: right;\">\n",
       "      <th></th>\n",
       "      <th>source</th>\n",
       "      <th>target</th>\n",
       "    </tr>\n",
       "  </thead>\n",
       "  <tbody>\n",
       "    <tr>\n",
       "      <th>0</th>\n",
       "      <td>243.0404</td>\n",
       "      <td>267.1048</td>\n",
       "    </tr>\n",
       "    <tr>\n",
       "      <th>1</th>\n",
       "      <td>243.0404</td>\n",
       "      <td>401.2187</td>\n",
       "    </tr>\n",
       "    <tr>\n",
       "      <th>2</th>\n",
       "      <td>243.0404</td>\n",
       "      <td>661.3471</td>\n",
       "    </tr>\n",
       "    <tr>\n",
       "      <th>3</th>\n",
       "      <td>243.0404</td>\n",
       "      <td>267.0965</td>\n",
       "    </tr>\n",
       "    <tr>\n",
       "      <th>4</th>\n",
       "      <td>243.0404</td>\n",
       "      <td>416.1414</td>\n",
       "    </tr>\n",
       "    <tr>\n",
       "      <th>...</th>\n",
       "      <td>...</td>\n",
       "      <td>...</td>\n",
       "    </tr>\n",
       "    <tr>\n",
       "      <th>135071</th>\n",
       "      <td>579.4245</td>\n",
       "      <td>579.4980</td>\n",
       "    </tr>\n",
       "    <tr>\n",
       "      <th>135072</th>\n",
       "      <td>663.3295</td>\n",
       "      <td>663.3449</td>\n",
       "    </tr>\n",
       "    <tr>\n",
       "      <th>135073</th>\n",
       "      <td>226.0573</td>\n",
       "      <td>226.0718</td>\n",
       "    </tr>\n",
       "    <tr>\n",
       "      <th>135074</th>\n",
       "      <td>412.8122</td>\n",
       "      <td>412.8271</td>\n",
       "    </tr>\n",
       "    <tr>\n",
       "      <th>135075</th>\n",
       "      <td>743.1668</td>\n",
       "      <td>743.1873</td>\n",
       "    </tr>\n",
       "  </tbody>\n",
       "</table>\n",
       "<p>135076 rows × 2 columns</p>\n",
       "</div>"
      ],
      "text/plain": [
       "          source    target\n",
       "0       243.0404  267.1048\n",
       "1       243.0404  401.2187\n",
       "2       243.0404  661.3471\n",
       "3       243.0404  267.0965\n",
       "4       243.0404  416.1414\n",
       "...          ...       ...\n",
       "135071  579.4245  579.4980\n",
       "135072  663.3295  663.3449\n",
       "135073  226.0573  226.0718\n",
       "135074  412.8122  412.8271\n",
       "135075  743.1668  743.1873\n",
       "\n",
       "[135076 rows x 2 columns]"
      ]
     },
     "execution_count": 6,
     "metadata": {},
     "output_type": "execute_result"
    },
    {
     "name": "stdout",
     "output_type": "stream",
     "text": [
      "time: 95.5 ms (started: 2023-05-31 13:43:35 -05:00)\n"
     ]
    }
   ],
   "source": [
    "df_edges_subgraph = pd.DataFrame(SG.edges())\n",
    "df_edges_subgraph.columns = [\"source\", \"target\"]\n",
    "df_edges_subgraph"
   ]
  },
  {
   "attachments": {},
   "cell_type": "markdown",
   "metadata": {},
   "source": [
    "### Calculate ANOVA (nodes)"
   ]
  },
  {
   "cell_type": "code",
   "execution_count": 7,
   "metadata": {},
   "outputs": [
    {
     "data": {
      "text/plain": [
       "' df_nodes_anova = get_nodes_anova(SG, dir, group)\\ndf_nodes_anova\\n\\n# Filter by ANOVA (p > 0.001)\\ndf_nodes_anova_filter = df_nodes_anova[df_nodes_anova[\"p-value\"] > 0.001]\\ndf_nodes_anova_filter\\nnodes = list(df_nodes_anova_filter.index)\\nlen(nodes) '"
      ]
     },
     "execution_count": 7,
     "metadata": {},
     "output_type": "execute_result"
    },
    {
     "name": "stdout",
     "output_type": "stream",
     "text": [
      "time: 2.17 ms (started: 2023-05-31 13:43:35 -05:00)\n"
     ]
    }
   ],
   "source": [
    "\"\"\" df_nodes_anova = get_nodes_anova(SG, dir, group)\n",
    "df_nodes_anova\n",
    "\n",
    "# Filter by ANOVA (p > 0.001)\n",
    "df_nodes_anova_filter = df_nodes_anova[df_nodes_anova[\"p-value\"] > 0.001]\n",
    "df_nodes_anova_filter\n",
    "nodes = list(df_nodes_anova_filter.index)\n",
    "len(nodes) \"\"\""
   ]
  },
  {
   "attachments": {},
   "cell_type": "markdown",
   "metadata": {},
   "source": [
    "### Calculate STD (edges)"
   ]
  },
  {
   "cell_type": "code",
   "execution_count": 8,
   "metadata": {},
   "outputs": [
    {
     "data": {
      "text/plain": [
       "' df_edges_std = get_edges_std(SG, dir, group, subgroups)\\ndf_edges_std\\n\\n# Filter by std (std <= 0.3)\\ndf_edges_std_filter = df_edges_std[df_edges_std[\"std\"] <= 0.3]\\ndf_edges_std_filter '"
      ]
     },
     "execution_count": 8,
     "metadata": {},
     "output_type": "execute_result"
    },
    {
     "name": "stdout",
     "output_type": "stream",
     "text": [
      "time: 3.66 ms (started: 2023-05-31 13:43:35 -05:00)\n"
     ]
    }
   ],
   "source": [
    "\"\"\" df_edges_std = get_edges_std(SG, dir, group, subgroups)\n",
    "df_edges_std\n",
    "\n",
    "# Filter by std (std <= 0.3)\n",
    "df_edges_std_filter = df_edges_std[df_edges_std[\"std\"] <= 0.3]\n",
    "df_edges_std_filter \"\"\""
   ]
  },
  {
   "attachments": {},
   "cell_type": "markdown",
   "metadata": {},
   "source": [
    "---"
   ]
  },
  {
   "attachments": {},
   "cell_type": "markdown",
   "metadata": {},
   "source": [
    "### STD-ANOVA"
   ]
  },
  {
   "attachments": {},
   "cell_type": "markdown",
   "metadata": {},
   "source": [
    "STD"
   ]
  },
  {
   "cell_type": "code",
   "execution_count": 9,
   "metadata": {},
   "outputs": [
    {
     "name": "stderr",
     "output_type": "stream",
     "text": [
      "100%|██████████| 5/5 [00:16<00:00,  3.39s/it]\n"
     ]
    },
    {
     "data": {
      "text/html": [
       "<div>\n",
       "<style scoped>\n",
       "    .dataframe tbody tr th:only-of-type {\n",
       "        vertical-align: middle;\n",
       "    }\n",
       "\n",
       "    .dataframe tbody tr th {\n",
       "        vertical-align: top;\n",
       "    }\n",
       "\n",
       "    .dataframe thead th {\n",
       "        text-align: right;\n",
       "    }\n",
       "</style>\n",
       "<table border=\"1\" class=\"dataframe\">\n",
       "  <thead>\n",
       "    <tr style=\"text-align: right;\">\n",
       "      <th></th>\n",
       "      <th>source</th>\n",
       "      <th>target</th>\n",
       "      <th>weight</th>\n",
       "      <th>std</th>\n",
       "    </tr>\n",
       "  </thead>\n",
       "  <tbody>\n",
       "    <tr>\n",
       "      <th>133290</th>\n",
       "      <td>59.0137</td>\n",
       "      <td>59.0291</td>\n",
       "      <td>0.859127</td>\n",
       "      <td>0.136282</td>\n",
       "    </tr>\n",
       "    <tr>\n",
       "      <th>131497</th>\n",
       "      <td>59.0137</td>\n",
       "      <td>349.2758</td>\n",
       "      <td>0.701044</td>\n",
       "      <td>0.118268</td>\n",
       "    </tr>\n",
       "    <tr>\n",
       "      <th>110528</th>\n",
       "      <td>59.0137</td>\n",
       "      <td>350.2793</td>\n",
       "      <td>0.706849</td>\n",
       "      <td>0.112406</td>\n",
       "    </tr>\n",
       "    <tr>\n",
       "      <th>132969</th>\n",
       "      <td>59.0137</td>\n",
       "      <td>350.3033</td>\n",
       "      <td>0.736142</td>\n",
       "      <td>0.128241</td>\n",
       "    </tr>\n",
       "    <tr>\n",
       "      <th>129629</th>\n",
       "      <td>59.0137</td>\n",
       "      <td>389.2739</td>\n",
       "      <td>0.773249</td>\n",
       "      <td>0.145148</td>\n",
       "    </tr>\n",
       "    <tr>\n",
       "      <th>...</th>\n",
       "      <td>...</td>\n",
       "      <td>...</td>\n",
       "      <td>...</td>\n",
       "      <td>...</td>\n",
       "    </tr>\n",
       "    <tr>\n",
       "      <th>130790</th>\n",
       "      <td>980.7146</td>\n",
       "      <td>981.7177</td>\n",
       "      <td>0.842014</td>\n",
       "      <td>0.070631</td>\n",
       "    </tr>\n",
       "    <tr>\n",
       "      <th>108711</th>\n",
       "      <td>981.5305</td>\n",
       "      <td>981.7177</td>\n",
       "      <td>0.673811</td>\n",
       "      <td>0.111292</td>\n",
       "    </tr>\n",
       "    <tr>\n",
       "      <th>131593</th>\n",
       "      <td>981.7177</td>\n",
       "      <td>996.7096</td>\n",
       "      <td>0.638545</td>\n",
       "      <td>0.099503</td>\n",
       "    </tr>\n",
       "    <tr>\n",
       "      <th>134700</th>\n",
       "      <td>985.5091</td>\n",
       "      <td>985.5490</td>\n",
       "      <td>0.724017</td>\n",
       "      <td>0.106148</td>\n",
       "    </tr>\n",
       "    <tr>\n",
       "      <th>134561</th>\n",
       "      <td>986.5138</td>\n",
       "      <td>986.5500</td>\n",
       "      <td>0.799242</td>\n",
       "      <td>0.074792</td>\n",
       "    </tr>\n",
       "  </tbody>\n",
       "</table>\n",
       "<p>131540 rows × 4 columns</p>\n",
       "</div>"
      ],
      "text/plain": [
       "          source    target    weight       std\n",
       "133290   59.0137   59.0291  0.859127  0.136282\n",
       "131497   59.0137  349.2758  0.701044  0.118268\n",
       "110528   59.0137  350.2793  0.706849  0.112406\n",
       "132969   59.0137  350.3033  0.736142  0.128241\n",
       "129629   59.0137  389.2739  0.773249  0.145148\n",
       "...          ...       ...       ...       ...\n",
       "130790  980.7146  981.7177  0.842014  0.070631\n",
       "108711  981.5305  981.7177  0.673811  0.111292\n",
       "131593  981.7177  996.7096  0.638545  0.099503\n",
       "134700  985.5091  985.5490  0.724017  0.106148\n",
       "134561  986.5138  986.5500  0.799242  0.074792\n",
       "\n",
       "[131540 rows x 4 columns]"
      ]
     },
     "execution_count": 9,
     "metadata": {},
     "output_type": "execute_result"
    },
    {
     "name": "stdout",
     "output_type": "stream",
     "text": [
      "time: 17.4 s (started: 2023-05-31 13:43:35 -05:00)\n"
     ]
    }
   ],
   "source": [
    "# STD\n",
    "df_edges_std = get_edges_std(SG, dir, group, subgroups, ddof=0)\n",
    "df_edges_std\n",
    "\n",
    "# Filter by std (std < 0.3)\n",
    "df_edges_std_filter = df_edges_std[df_edges_std[\"std\"] < 0.3]\n",
    "df_edges_std_filter"
   ]
  },
  {
   "cell_type": "code",
   "execution_count": 10,
   "metadata": {},
   "outputs": [
    {
     "data": {
      "image/png": "[encoded data removed]",
      "text/plain": [
       "<Figure size 640x480 with 1 Axes>"
      ]
     },
     "metadata": {},
     "output_type": "display_data"
    },
    {
     "name": "stdout",
     "output_type": "stream",
     "text": [
      "time: 229 ms (started: 2023-05-31 13:43:53 -05:00)\n"
     ]
    }
   ],
   "source": [
    "x = df_edges_std[\"std\"]\n",
    "plt.hist(x, bins=100)\n",
    "plt.axvline(x=0.3, color=\"red\", lw=1)\n",
    "l = len(df_edges_std) - len(df_edges_std_filter)\n",
    "t = len(df_edges_std)\n",
    "plt.title(\"Loss: {} of {} ({}%)\".format(l, t, round(l*100/t)))\n",
    "plt.grid()\n",
    "plt.show()"
   ]
  },
  {
   "cell_type": "code",
   "execution_count": 11,
   "metadata": {},
   "outputs": [
    {
     "name": "stdout",
     "output_type": "stream",
     "text": [
      "Num. nodes: 4181\n",
      "Num. edges: 131540\n",
      "\n",
      "time: 3.46 s (started: 2023-05-31 13:43:53 -05:00)\n"
     ]
    }
   ],
   "source": [
    "G = nx.from_pandas_edgelist(df_edges_std_filter, \"source\", \"target\", edge_attr=[\"weight\"])\n",
    "graph_detail(G)\n",
    "\n",
    "list_graphs.append(G.copy())\n",
    "nx.write_gexf(G, \"{}/output_greedy/graphs_filter/greedy_{}_graph-filter-std.gexf\".format(dir, group[0]))"
   ]
  },
  {
   "cell_type": "code",
   "execution_count": 12,
   "metadata": {},
   "outputs": [
    {
     "data": {
      "text/html": [
       "<div>\n",
       "<style scoped>\n",
       "    .dataframe tbody tr th:only-of-type {\n",
       "        vertical-align: middle;\n",
       "    }\n",
       "\n",
       "    .dataframe tbody tr th {\n",
       "        vertical-align: top;\n",
       "    }\n",
       "\n",
       "    .dataframe thead th {\n",
       "        text-align: right;\n",
       "    }\n",
       "</style>\n",
       "<table border=\"1\" class=\"dataframe\">\n",
       "  <thead>\n",
       "    <tr style=\"text-align: right;\">\n",
       "      <th></th>\n",
       "      <th>source</th>\n",
       "      <th>target</th>\n",
       "      <th>weight</th>\n",
       "    </tr>\n",
       "  </thead>\n",
       "  <tbody>\n",
       "    <tr>\n",
       "      <th>0</th>\n",
       "      <td>59.0137</td>\n",
       "      <td>59.0291</td>\n",
       "      <td>0.859127</td>\n",
       "    </tr>\n",
       "    <tr>\n",
       "      <th>1</th>\n",
       "      <td>59.0137</td>\n",
       "      <td>349.2758</td>\n",
       "      <td>0.701044</td>\n",
       "    </tr>\n",
       "    <tr>\n",
       "      <th>2</th>\n",
       "      <td>59.0137</td>\n",
       "      <td>350.2793</td>\n",
       "      <td>0.706849</td>\n",
       "    </tr>\n",
       "    <tr>\n",
       "      <th>3</th>\n",
       "      <td>59.0137</td>\n",
       "      <td>350.3033</td>\n",
       "      <td>0.736142</td>\n",
       "    </tr>\n",
       "    <tr>\n",
       "      <th>4</th>\n",
       "      <td>59.0137</td>\n",
       "      <td>389.2739</td>\n",
       "      <td>0.773249</td>\n",
       "    </tr>\n",
       "    <tr>\n",
       "      <th>...</th>\n",
       "      <td>...</td>\n",
       "      <td>...</td>\n",
       "      <td>...</td>\n",
       "    </tr>\n",
       "    <tr>\n",
       "      <th>131535</th>\n",
       "      <td>978.6174</td>\n",
       "      <td>978.6600</td>\n",
       "      <td>0.628246</td>\n",
       "    </tr>\n",
       "    <tr>\n",
       "      <th>131536</th>\n",
       "      <td>979.6191</td>\n",
       "      <td>979.6627</td>\n",
       "      <td>0.679891</td>\n",
       "    </tr>\n",
       "    <tr>\n",
       "      <th>131537</th>\n",
       "      <td>980.0763</td>\n",
       "      <td>980.0986</td>\n",
       "      <td>0.736160</td>\n",
       "    </tr>\n",
       "    <tr>\n",
       "      <th>131538</th>\n",
       "      <td>985.5091</td>\n",
       "      <td>985.5490</td>\n",
       "      <td>0.724017</td>\n",
       "    </tr>\n",
       "    <tr>\n",
       "      <th>131539</th>\n",
       "      <td>986.5138</td>\n",
       "      <td>986.5500</td>\n",
       "      <td>0.799242</td>\n",
       "    </tr>\n",
       "  </tbody>\n",
       "</table>\n",
       "<p>131540 rows × 3 columns</p>\n",
       "</div>"
      ],
      "text/plain": [
       "          source    target    weight\n",
       "0        59.0137   59.0291  0.859127\n",
       "1        59.0137  349.2758  0.701044\n",
       "2        59.0137  350.2793  0.706849\n",
       "3        59.0137  350.3033  0.736142\n",
       "4        59.0137  389.2739  0.773249\n",
       "...          ...       ...       ...\n",
       "131535  978.6174  978.6600  0.628246\n",
       "131536  979.6191  979.6627  0.679891\n",
       "131537  980.0763  980.0986  0.736160\n",
       "131538  985.5091  985.5490  0.724017\n",
       "131539  986.5138  986.5500  0.799242\n",
       "\n",
       "[131540 rows x 3 columns]"
      ]
     },
     "execution_count": 12,
     "metadata": {},
     "output_type": "execute_result"
    },
    {
     "name": "stdout",
     "output_type": "stream",
     "text": [
      "time: 2.14 s (started: 2023-05-31 13:43:57 -05:00)\n"
     ]
    }
   ],
   "source": [
    "df_edges_filter = nx.to_pandas_edgelist(G)\n",
    "df_edges_filter.to_csv(\"{}/output_greedy/edges_filter/greedy_{}_edge-filter-std.csv\".format(dir, group[0]), index=False)\n",
    "df_edges_filter"
   ]
  },
  {
   "attachments": {},
   "cell_type": "markdown",
   "metadata": {},
   "source": [
    "ANOVA"
   ]
  },
  {
   "cell_type": "code",
   "execution_count": 13,
   "metadata": {},
   "outputs": [
    {
     "data": {
      "text/html": [
       "<div>\n",
       "<style scoped>\n",
       "    .dataframe tbody tr th:only-of-type {\n",
       "        vertical-align: middle;\n",
       "    }\n",
       "\n",
       "    .dataframe tbody tr th {\n",
       "        vertical-align: top;\n",
       "    }\n",
       "\n",
       "    .dataframe thead th {\n",
       "        text-align: right;\n",
       "    }\n",
       "</style>\n",
       "<table border=\"1\" class=\"dataframe\">\n",
       "  <thead>\n",
       "    <tr style=\"text-align: right;\">\n",
       "      <th></th>\n",
       "      <th>p-value</th>\n",
       "    </tr>\n",
       "    <tr>\n",
       "      <th>ionMz</th>\n",
       "      <th></th>\n",
       "    </tr>\n",
       "  </thead>\n",
       "  <tbody>\n",
       "    <tr>\n",
       "      <th>61.9884</th>\n",
       "      <td>0.020338</td>\n",
       "    </tr>\n",
       "    <tr>\n",
       "      <th>293.1786</th>\n",
       "      <td>0.023086</td>\n",
       "    </tr>\n",
       "    <tr>\n",
       "      <th>123.0266</th>\n",
       "      <td>0.001355</td>\n",
       "    </tr>\n",
       "    <tr>\n",
       "      <th>122.9910</th>\n",
       "      <td>0.001152</td>\n",
       "    </tr>\n",
       "    <tr>\n",
       "      <th>123.0007</th>\n",
       "      <td>0.001065</td>\n",
       "    </tr>\n",
       "    <tr>\n",
       "      <th>...</th>\n",
       "      <td>...</td>\n",
       "    </tr>\n",
       "    <tr>\n",
       "      <th>980.0763</th>\n",
       "      <td>0.916107</td>\n",
       "    </tr>\n",
       "    <tr>\n",
       "      <th>980.0986</th>\n",
       "      <td>0.725725</td>\n",
       "    </tr>\n",
       "    <tr>\n",
       "      <th>985.5091</th>\n",
       "      <td>0.174436</td>\n",
       "    </tr>\n",
       "    <tr>\n",
       "      <th>986.5138</th>\n",
       "      <td>0.124235</td>\n",
       "    </tr>\n",
       "    <tr>\n",
       "      <th>986.5500</th>\n",
       "      <td>0.296544</td>\n",
       "    </tr>\n",
       "  </tbody>\n",
       "</table>\n",
       "<p>1651 rows × 1 columns</p>\n",
       "</div>"
      ],
      "text/plain": [
       "           p-value\n",
       "ionMz             \n",
       "61.9884   0.020338\n",
       "293.1786  0.023086\n",
       "123.0266  0.001355\n",
       "122.9910  0.001152\n",
       "123.0007  0.001065\n",
       "...            ...\n",
       "980.0763  0.916107\n",
       "980.0986  0.725725\n",
       "985.5091  0.174436\n",
       "986.5138  0.124235\n",
       "986.5500  0.296544\n",
       "\n",
       "[1651 rows x 1 columns]"
      ]
     },
     "execution_count": 13,
     "metadata": {},
     "output_type": "execute_result"
    },
    {
     "name": "stdout",
     "output_type": "stream",
     "text": [
      "time: 3.49 s (started: 2023-05-31 13:43:59 -05:00)\n"
     ]
    }
   ],
   "source": [
    "# ANOVA\n",
    "df_nodes_anova = get_nodes_anova(G, dir, group)\n",
    "df_nodes_anova\n",
    "\n",
    "# Filter by ANOVA (p > 0.001)\n",
    "df_nodes_anova_filter = df_nodes_anova[df_nodes_anova[\"p-value\"] > 0.001]\n",
    "df_nodes_anova_filter\n",
    "nodes = list(df_nodes_anova_filter.index)\n",
    "df_nodes_anova_filter"
   ]
  },
  {
   "cell_type": "code",
   "execution_count": 14,
   "metadata": {},
   "outputs": [
    {
     "data": {
      "image/png": "[encoded data removed]",
      "text/plain": [
       "<Figure size 640x480 with 1 Axes>"
      ]
     },
     "metadata": {},
     "output_type": "display_data"
    },
    {
     "name": "stdout",
     "output_type": "stream",
     "text": [
      "time: 201 ms (started: 2023-05-31 13:44:03 -05:00)\n"
     ]
    }
   ],
   "source": [
    "x = df_nodes_anova[\"p-value\"]\n",
    "plt.hist(x, bins=100)\n",
    "plt.axvline(x=0.001, color=\"red\", lw=1)\n",
    "l = len(df_nodes_anova) - len(df_nodes_anova_filter)\n",
    "t = len(df_nodes_anova)\n",
    "plt.title(\"Loss: {} of {} ({}%)\".format(l, t, round(l*100/t)))\n",
    "plt.grid()\n",
    "plt.show()"
   ]
  },
  {
   "cell_type": "code",
   "execution_count": 15,
   "metadata": {},
   "outputs": [
    {
     "name": "stdout",
     "output_type": "stream",
     "text": [
      "Num. nodes: 1651\n",
      "Num. edges: 11868\n",
      "\n",
      "199\n"
     ]
    },
    {
     "data": {
      "text/html": [
       "<div>\n",
       "<style scoped>\n",
       "    .dataframe tbody tr th:only-of-type {\n",
       "        vertical-align: middle;\n",
       "    }\n",
       "\n",
       "    .dataframe tbody tr th {\n",
       "        vertical-align: top;\n",
       "    }\n",
       "\n",
       "    .dataframe thead th {\n",
       "        text-align: right;\n",
       "    }\n",
       "</style>\n",
       "<table border=\"1\" class=\"dataframe\">\n",
       "  <thead>\n",
       "    <tr style=\"text-align: right;\">\n",
       "      <th></th>\n",
       "      <th>source</th>\n",
       "      <th>target</th>\n",
       "      <th>weight</th>\n",
       "    </tr>\n",
       "  </thead>\n",
       "  <tbody>\n",
       "    <tr>\n",
       "      <th>0</th>\n",
       "      <td>61.9884</td>\n",
       "      <td>293.1786</td>\n",
       "      <td>0.596832</td>\n",
       "    </tr>\n",
       "    <tr>\n",
       "      <th>1</th>\n",
       "      <td>122.9910</td>\n",
       "      <td>123.0007</td>\n",
       "      <td>0.989721</td>\n",
       "    </tr>\n",
       "    <tr>\n",
       "      <th>2</th>\n",
       "      <td>122.9910</td>\n",
       "      <td>123.0188</td>\n",
       "      <td>0.969324</td>\n",
       "    </tr>\n",
       "    <tr>\n",
       "      <th>3</th>\n",
       "      <td>122.9910</td>\n",
       "      <td>123.0360</td>\n",
       "      <td>0.900589</td>\n",
       "    </tr>\n",
       "    <tr>\n",
       "      <th>4</th>\n",
       "      <td>122.9910</td>\n",
       "      <td>123.9906</td>\n",
       "      <td>0.952875</td>\n",
       "    </tr>\n",
       "    <tr>\n",
       "      <th>...</th>\n",
       "      <td>...</td>\n",
       "      <td>...</td>\n",
       "      <td>...</td>\n",
       "    </tr>\n",
       "    <tr>\n",
       "      <th>11863</th>\n",
       "      <td>492.9771</td>\n",
       "      <td>493.0401</td>\n",
       "      <td>0.805087</td>\n",
       "    </tr>\n",
       "    <tr>\n",
       "      <th>11864</th>\n",
       "      <td>494.9997</td>\n",
       "      <td>495.0368</td>\n",
       "      <td>0.774382</td>\n",
       "    </tr>\n",
       "    <tr>\n",
       "      <th>11865</th>\n",
       "      <td>504.1338</td>\n",
       "      <td>504.0519</td>\n",
       "      <td>0.676079</td>\n",
       "    </tr>\n",
       "    <tr>\n",
       "      <th>11866</th>\n",
       "      <td>505.1609</td>\n",
       "      <td>505.1361</td>\n",
       "      <td>0.764508</td>\n",
       "    </tr>\n",
       "    <tr>\n",
       "      <th>11867</th>\n",
       "      <td>505.1609</td>\n",
       "      <td>505.1828</td>\n",
       "      <td>0.726026</td>\n",
       "    </tr>\n",
       "  </tbody>\n",
       "</table>\n",
       "<p>11868 rows × 3 columns</p>\n",
       "</div>"
      ],
      "text/plain": [
       "         source    target    weight\n",
       "0       61.9884  293.1786  0.596832\n",
       "1      122.9910  123.0007  0.989721\n",
       "2      122.9910  123.0188  0.969324\n",
       "3      122.9910  123.0360  0.900589\n",
       "4      122.9910  123.9906  0.952875\n",
       "...         ...       ...       ...\n",
       "11863  492.9771  493.0401  0.805087\n",
       "11864  494.9997  495.0368  0.774382\n",
       "11865  504.1338  504.0519  0.676079\n",
       "11866  505.1609  505.1361  0.764508\n",
       "11867  505.1609  505.1828  0.726026\n",
       "\n",
       "[11868 rows x 3 columns]"
      ]
     },
     "execution_count": 15,
     "metadata": {},
     "output_type": "execute_result"
    },
    {
     "name": "stdout",
     "output_type": "stream",
     "text": [
      "time: 558 ms (started: 2023-05-31 13:44:03 -05:00)\n"
     ]
    }
   ],
   "source": [
    "H = G.subgraph(nodes)\n",
    "graph_detail(H)\n",
    "print(len(list(n for n in H.nodes() if H.degree(n) == 0)))\n",
    "\n",
    "list_graphs.append(H.copy())\n",
    "nx.write_gexf(H, \"{}/output_greedy/graphs_filter/greedy_{}_graph-filter-std-anova.gexf\".format(dir, group[0]))\n",
    "\n",
    "df_edges_filter = nx.to_pandas_edgelist(H)\n",
    "\n",
    "df_edges_filter.to_csv(\"{}/output_greedy/edges_filter/greedy_{}_edge-filter-std-anova.csv\".format(dir, group[0]), index=False)\n",
    "df_edges_filter"
   ]
  },
  {
   "attachments": {},
   "cell_type": "markdown",
   "metadata": {},
   "source": [
    "### ANOVA-STD"
   ]
  },
  {
   "attachments": {},
   "cell_type": "markdown",
   "metadata": {},
   "source": [
    "ANOVA"
   ]
  },
  {
   "cell_type": "code",
   "execution_count": 16,
   "metadata": {},
   "outputs": [
    {
     "data": {
      "text/html": [
       "<div>\n",
       "<style scoped>\n",
       "    .dataframe tbody tr th:only-of-type {\n",
       "        vertical-align: middle;\n",
       "    }\n",
       "\n",
       "    .dataframe tbody tr th {\n",
       "        vertical-align: top;\n",
       "    }\n",
       "\n",
       "    .dataframe thead th {\n",
       "        text-align: right;\n",
       "    }\n",
       "</style>\n",
       "<table border=\"1\" class=\"dataframe\">\n",
       "  <thead>\n",
       "    <tr style=\"text-align: right;\">\n",
       "      <th></th>\n",
       "      <th>p-value</th>\n",
       "    </tr>\n",
       "    <tr>\n",
       "      <th>ionMz</th>\n",
       "      <th></th>\n",
       "    </tr>\n",
       "  </thead>\n",
       "  <tbody>\n",
       "    <tr>\n",
       "      <th>517.1517</th>\n",
       "      <td>0.037692</td>\n",
       "    </tr>\n",
       "    <tr>\n",
       "      <th>543.1735</th>\n",
       "      <td>0.015026</td>\n",
       "    </tr>\n",
       "    <tr>\n",
       "      <th>543.2397</th>\n",
       "      <td>0.273076</td>\n",
       "    </tr>\n",
       "    <tr>\n",
       "      <th>476.1456</th>\n",
       "      <td>0.006244</td>\n",
       "    </tr>\n",
       "    <tr>\n",
       "      <th>497.1259</th>\n",
       "      <td>0.017647</td>\n",
       "    </tr>\n",
       "    <tr>\n",
       "      <th>...</th>\n",
       "      <td>...</td>\n",
       "    </tr>\n",
       "    <tr>\n",
       "      <th>789.4528</th>\n",
       "      <td>0.048489</td>\n",
       "    </tr>\n",
       "    <tr>\n",
       "      <th>808.6237</th>\n",
       "      <td>0.090820</td>\n",
       "    </tr>\n",
       "    <tr>\n",
       "      <th>397.1632</th>\n",
       "      <td>0.557960</td>\n",
       "    </tr>\n",
       "    <tr>\n",
       "      <th>743.1668</th>\n",
       "      <td>0.038263</td>\n",
       "    </tr>\n",
       "    <tr>\n",
       "      <th>743.1873</th>\n",
       "      <td>0.001664</td>\n",
       "    </tr>\n",
       "  </tbody>\n",
       "</table>\n",
       "<p>1653 rows × 1 columns</p>\n",
       "</div>"
      ],
      "text/plain": [
       "           p-value\n",
       "ionMz             \n",
       "517.1517  0.037692\n",
       "543.1735  0.015026\n",
       "543.2397  0.273076\n",
       "476.1456  0.006244\n",
       "497.1259  0.017647\n",
       "...            ...\n",
       "789.4528  0.048489\n",
       "808.6237  0.090820\n",
       "397.1632  0.557960\n",
       "743.1668  0.038263\n",
       "743.1873  0.001664\n",
       "\n",
       "[1653 rows x 1 columns]"
      ]
     },
     "execution_count": 16,
     "metadata": {},
     "output_type": "execute_result"
    },
    {
     "name": "stdout",
     "output_type": "stream",
     "text": [
      "time: 1.89 s (started: 2023-05-31 13:44:04 -05:00)\n"
     ]
    }
   ],
   "source": [
    "# ANOVA\n",
    "df_nodes_anova = get_nodes_anova(SG, dir, group)\n",
    "df_nodes_anova\n",
    "\n",
    "# Filter by ANOVA (p > 0.001)\n",
    "df_nodes_anova_filter = df_nodes_anova[df_nodes_anova[\"p-value\"] > 0.001]\n",
    "df_nodes_anova_filter\n",
    "nodes = list(df_nodes_anova_filter.index)\n",
    "df_nodes_anova_filter"
   ]
  },
  {
   "cell_type": "code",
   "execution_count": 17,
   "metadata": {},
   "outputs": [
    {
     "data": {
      "image/png": "[encoded data removed]",
      "text/plain": [
       "<Figure size 640x480 with 1 Axes>"
      ]
     },
     "metadata": {},
     "output_type": "display_data"
    },
    {
     "name": "stdout",
     "output_type": "stream",
     "text": [
      "time: 209 ms (started: 2023-05-31 13:44:05 -05:00)\n"
     ]
    }
   ],
   "source": [
    "x = df_nodes_anova[\"p-value\"]\n",
    "plt.hist(x, bins=100)\n",
    "plt.axvline(x=0.001, color=\"red\", lw=1)\n",
    "l = len(df_nodes_anova) - len(df_nodes_anova_filter)\n",
    "t = len(df_nodes_anova)\n",
    "plt.title(\"Loss: {} of {} ({}%)\".format(l, t, round(l*100/t)))\n",
    "plt.grid()\n",
    "plt.show()"
   ]
  },
  {
   "cell_type": "code",
   "execution_count": 18,
   "metadata": {},
   "outputs": [
    {
     "name": "stdout",
     "output_type": "stream",
     "text": [
      "time: 1.7 ms (started: 2023-05-31 13:44:06 -05:00)\n"
     ]
    }
   ],
   "source": [
    "H = SG.subgraph(nodes)"
   ]
  },
  {
   "cell_type": "code",
   "execution_count": 19,
   "metadata": {},
   "outputs": [
    {
     "data": {
      "text/html": [
       "<div>\n",
       "<style scoped>\n",
       "    .dataframe tbody tr th:only-of-type {\n",
       "        vertical-align: middle;\n",
       "    }\n",
       "\n",
       "    .dataframe tbody tr th {\n",
       "        vertical-align: top;\n",
       "    }\n",
       "\n",
       "    .dataframe thead th {\n",
       "        text-align: right;\n",
       "    }\n",
       "</style>\n",
       "<table border=\"1\" class=\"dataframe\">\n",
       "  <thead>\n",
       "    <tr style=\"text-align: right;\">\n",
       "      <th></th>\n",
       "      <th>source</th>\n",
       "      <th>target</th>\n",
       "    </tr>\n",
       "  </thead>\n",
       "  <tbody>\n",
       "    <tr>\n",
       "      <th>0</th>\n",
       "      <td>61.9884</td>\n",
       "      <td>293.1786</td>\n",
       "    </tr>\n",
       "    <tr>\n",
       "      <th>1</th>\n",
       "      <td>122.9910</td>\n",
       "      <td>123.0007</td>\n",
       "    </tr>\n",
       "    <tr>\n",
       "      <th>2</th>\n",
       "      <td>122.9910</td>\n",
       "      <td>123.9906</td>\n",
       "    </tr>\n",
       "    <tr>\n",
       "      <th>3</th>\n",
       "      <td>122.9910</td>\n",
       "      <td>123.0188</td>\n",
       "    </tr>\n",
       "    <tr>\n",
       "      <th>4</th>\n",
       "      <td>122.9910</td>\n",
       "      <td>124.9664</td>\n",
       "    </tr>\n",
       "    <tr>\n",
       "      <th>...</th>\n",
       "      <td>...</td>\n",
       "      <td>...</td>\n",
       "    </tr>\n",
       "    <tr>\n",
       "      <th>11965</th>\n",
       "      <td>475.1307</td>\n",
       "      <td>507.1555</td>\n",
       "    </tr>\n",
       "    <tr>\n",
       "      <th>11966</th>\n",
       "      <td>480.0275</td>\n",
       "      <td>480.0419</td>\n",
       "    </tr>\n",
       "    <tr>\n",
       "      <th>11967</th>\n",
       "      <td>492.9771</td>\n",
       "      <td>493.0401</td>\n",
       "    </tr>\n",
       "    <tr>\n",
       "      <th>11968</th>\n",
       "      <td>171.0467</td>\n",
       "      <td>171.0302</td>\n",
       "    </tr>\n",
       "    <tr>\n",
       "      <th>11969</th>\n",
       "      <td>504.1338</td>\n",
       "      <td>504.0519</td>\n",
       "    </tr>\n",
       "  </tbody>\n",
       "</table>\n",
       "<p>11970 rows × 2 columns</p>\n",
       "</div>"
      ],
      "text/plain": [
       "         source    target\n",
       "0       61.9884  293.1786\n",
       "1      122.9910  123.0007\n",
       "2      122.9910  123.9906\n",
       "3      122.9910  123.0188\n",
       "4      122.9910  124.9664\n",
       "...         ...       ...\n",
       "11965  475.1307  507.1555\n",
       "11966  480.0275  480.0419\n",
       "11967  492.9771  493.0401\n",
       "11968  171.0467  171.0302\n",
       "11969  504.1338  504.0519\n",
       "\n",
       "[11970 rows x 2 columns]"
      ]
     },
     "execution_count": 19,
     "metadata": {},
     "output_type": "execute_result"
    },
    {
     "name": "stdout",
     "output_type": "stream",
     "text": [
      "time: 177 ms (started: 2023-05-31 13:44:06 -05:00)\n"
     ]
    }
   ],
   "source": [
    "df_edges_filter = nx.to_pandas_edgelist(H)\n",
    "df_edges_filter.to_csv(\"{}/output_greedy/edges_filter/greedy_{}_edge-filter-anova.csv\".format(dir, group[0]), index=False)\n",
    "df_edges_filter"
   ]
  },
  {
   "cell_type": "code",
   "execution_count": 20,
   "metadata": {},
   "outputs": [
    {
     "name": "stdout",
     "output_type": "stream",
     "text": [
      "Num. nodes: 1452\n",
      "Num. edges: 11970\n",
      "\n",
      "time: 1.69 s (started: 2023-05-31 13:44:06 -05:00)\n"
     ]
    }
   ],
   "source": [
    "H = nx.from_pandas_edgelist(df_edges_filter, \"source\", \"target\")\n",
    "graph_detail(H)\n",
    "\n",
    "list_graphs.append(H.copy())\n",
    "nx.write_gexf(H, \"{}/output_greedy/graphs_filter/greedy_{}_graph-filter-anova.gexf\".format(dir, group[0]))"
   ]
  },
  {
   "attachments": {},
   "cell_type": "markdown",
   "metadata": {},
   "source": [
    "STD"
   ]
  },
  {
   "cell_type": "code",
   "execution_count": 21,
   "metadata": {},
   "outputs": [
    {
     "name": "stderr",
     "output_type": "stream",
     "text": [
      "100%|██████████| 5/5 [00:16<00:00,  3.20s/it]\n"
     ]
    },
    {
     "data": {
      "text/html": [
       "<div>\n",
       "<style scoped>\n",
       "    .dataframe tbody tr th:only-of-type {\n",
       "        vertical-align: middle;\n",
       "    }\n",
       "\n",
       "    .dataframe tbody tr th {\n",
       "        vertical-align: top;\n",
       "    }\n",
       "\n",
       "    .dataframe thead th {\n",
       "        text-align: right;\n",
       "    }\n",
       "</style>\n",
       "<table border=\"1\" class=\"dataframe\">\n",
       "  <thead>\n",
       "    <tr style=\"text-align: right;\">\n",
       "      <th></th>\n",
       "      <th>source</th>\n",
       "      <th>target</th>\n",
       "      <th>weight</th>\n",
       "      <th>std</th>\n",
       "    </tr>\n",
       "  </thead>\n",
       "  <tbody>\n",
       "    <tr>\n",
       "      <th>0</th>\n",
       "      <td>61.9884</td>\n",
       "      <td>293.1786</td>\n",
       "      <td>0.596832</td>\n",
       "      <td>0.076383</td>\n",
       "    </tr>\n",
       "    <tr>\n",
       "      <th>31</th>\n",
       "      <td>122.9910</td>\n",
       "      <td>123.0007</td>\n",
       "      <td>0.989721</td>\n",
       "      <td>0.018039</td>\n",
       "    </tr>\n",
       "    <tr>\n",
       "      <th>33</th>\n",
       "      <td>122.9910</td>\n",
       "      <td>123.0188</td>\n",
       "      <td>0.969324</td>\n",
       "      <td>0.049914</td>\n",
       "    </tr>\n",
       "    <tr>\n",
       "      <th>36</th>\n",
       "      <td>122.9910</td>\n",
       "      <td>123.0360</td>\n",
       "      <td>0.900589</td>\n",
       "      <td>0.167513</td>\n",
       "    </tr>\n",
       "    <tr>\n",
       "      <th>32</th>\n",
       "      <td>122.9910</td>\n",
       "      <td>123.9906</td>\n",
       "      <td>0.952875</td>\n",
       "      <td>0.066730</td>\n",
       "    </tr>\n",
       "    <tr>\n",
       "      <th>...</th>\n",
       "      <td>...</td>\n",
       "      <td>...</td>\n",
       "      <td>...</td>\n",
       "      <td>...</td>\n",
       "    </tr>\n",
       "    <tr>\n",
       "      <th>11753</th>\n",
       "      <td>978.3602</td>\n",
       "      <td>978.3779</td>\n",
       "      <td>0.789932</td>\n",
       "      <td>0.097692</td>\n",
       "    </tr>\n",
       "    <tr>\n",
       "      <th>11951</th>\n",
       "      <td>978.6174</td>\n",
       "      <td>978.6600</td>\n",
       "      <td>0.628246</td>\n",
       "      <td>0.071524</td>\n",
       "    </tr>\n",
       "    <tr>\n",
       "      <th>11750</th>\n",
       "      <td>979.6191</td>\n",
       "      <td>979.6627</td>\n",
       "      <td>0.679891</td>\n",
       "      <td>0.082784</td>\n",
       "    </tr>\n",
       "    <tr>\n",
       "      <th>11952</th>\n",
       "      <td>980.0763</td>\n",
       "      <td>980.0986</td>\n",
       "      <td>0.736160</td>\n",
       "      <td>0.111510</td>\n",
       "    </tr>\n",
       "    <tr>\n",
       "      <th>11754</th>\n",
       "      <td>986.5138</td>\n",
       "      <td>986.5500</td>\n",
       "      <td>0.799242</td>\n",
       "      <td>0.074792</td>\n",
       "    </tr>\n",
       "  </tbody>\n",
       "</table>\n",
       "<p>11868 rows × 4 columns</p>\n",
       "</div>"
      ],
      "text/plain": [
       "         source    target    weight       std\n",
       "0       61.9884  293.1786  0.596832  0.076383\n",
       "31     122.9910  123.0007  0.989721  0.018039\n",
       "33     122.9910  123.0188  0.969324  0.049914\n",
       "36     122.9910  123.0360  0.900589  0.167513\n",
       "32     122.9910  123.9906  0.952875  0.066730\n",
       "...         ...       ...       ...       ...\n",
       "11753  978.3602  978.3779  0.789932  0.097692\n",
       "11951  978.6174  978.6600  0.628246  0.071524\n",
       "11750  979.6191  979.6627  0.679891  0.082784\n",
       "11952  980.0763  980.0986  0.736160  0.111510\n",
       "11754  986.5138  986.5500  0.799242  0.074792\n",
       "\n",
       "[11868 rows x 4 columns]"
      ]
     },
     "execution_count": 21,
     "metadata": {},
     "output_type": "execute_result"
    },
    {
     "name": "stdout",
     "output_type": "stream",
     "text": [
      "time: 16.1 s (started: 2023-05-31 13:44:08 -05:00)\n"
     ]
    }
   ],
   "source": [
    "# STD\n",
    "df_edges_std = get_edges_std(H, dir, group, subgroups, ddof=0)\n",
    "df_edges_std\n",
    "\n",
    "# Filter by std (std < 0.3)\n",
    "df_edges_std_filter = df_edges_std[df_edges_std[\"std\"] < 0.3]\n",
    "df_edges_std_filter"
   ]
  },
  {
   "cell_type": "code",
   "execution_count": 22,
   "metadata": {},
   "outputs": [
    {
     "data": {
      "image/png": "[encoded data removed]",
      "text/plain": [
       "<Figure size 640x480 with 1 Axes>"
      ]
     },
     "metadata": {},
     "output_type": "display_data"
    },
    {
     "name": "stdout",
     "output_type": "stream",
     "text": [
      "time: 221 ms (started: 2023-05-31 13:44:24 -05:00)\n"
     ]
    }
   ],
   "source": [
    "x = df_edges_std[\"std\"]\n",
    "plt.hist(x, bins=100)\n",
    "plt.axvline(x=0.3, color=\"red\", lw=1)\n",
    "l = len(df_edges_std) - len(df_edges_std_filter)\n",
    "t = len(df_edges_std)\n",
    "plt.title(\"Loss: {} of {} ({}%)\".format(l, t, round(l*100/t)))\n",
    "plt.grid()\n",
    "plt.show()"
   ]
  },
  {
   "cell_type": "code",
   "execution_count": 23,
   "metadata": {},
   "outputs": [
    {
     "name": "stdout",
     "output_type": "stream",
     "text": [
      "Num. nodes: 1452\n",
      "Num. edges: 11868\n",
      "\n",
      "time: 201 ms (started: 2023-05-31 13:44:24 -05:00)\n"
     ]
    }
   ],
   "source": [
    "G = nx.from_pandas_edgelist(df_edges_std_filter, \"source\", \"target\", edge_attr=[\"weight\"])\n",
    "graph_detail(G)\n",
    "\n",
    "list_graphs.append(G.copy())\n",
    "nx.write_gexf(G, \"{}/output_greedy/graphs_filter/greedy_{}_graph-filter-anova-std.gexf\".format(dir, group[0]))"
   ]
  },
  {
   "cell_type": "code",
   "execution_count": 24,
   "metadata": {},
   "outputs": [
    {
     "data": {
      "text/html": [
       "<div>\n",
       "<style scoped>\n",
       "    .dataframe tbody tr th:only-of-type {\n",
       "        vertical-align: middle;\n",
       "    }\n",
       "\n",
       "    .dataframe tbody tr th {\n",
       "        vertical-align: top;\n",
       "    }\n",
       "\n",
       "    .dataframe thead th {\n",
       "        text-align: right;\n",
       "    }\n",
       "</style>\n",
       "<table border=\"1\" class=\"dataframe\">\n",
       "  <thead>\n",
       "    <tr style=\"text-align: right;\">\n",
       "      <th></th>\n",
       "      <th>source</th>\n",
       "      <th>target</th>\n",
       "      <th>weight</th>\n",
       "    </tr>\n",
       "  </thead>\n",
       "  <tbody>\n",
       "    <tr>\n",
       "      <th>0</th>\n",
       "      <td>61.9884</td>\n",
       "      <td>293.1786</td>\n",
       "      <td>0.596832</td>\n",
       "    </tr>\n",
       "    <tr>\n",
       "      <th>1</th>\n",
       "      <td>293.1786</td>\n",
       "      <td>265.1480</td>\n",
       "      <td>0.944443</td>\n",
       "    </tr>\n",
       "    <tr>\n",
       "      <th>2</th>\n",
       "      <td>293.1786</td>\n",
       "      <td>266.1514</td>\n",
       "      <td>0.932479</td>\n",
       "    </tr>\n",
       "    <tr>\n",
       "      <th>3</th>\n",
       "      <td>293.1786</td>\n",
       "      <td>267.1457</td>\n",
       "      <td>0.767931</td>\n",
       "    </tr>\n",
       "    <tr>\n",
       "      <th>4</th>\n",
       "      <td>293.1786</td>\n",
       "      <td>294.1818</td>\n",
       "      <td>0.913458</td>\n",
       "    </tr>\n",
       "    <tr>\n",
       "      <th>...</th>\n",
       "      <td>...</td>\n",
       "      <td>...</td>\n",
       "      <td>...</td>\n",
       "    </tr>\n",
       "    <tr>\n",
       "      <th>11863</th>\n",
       "      <td>978.3602</td>\n",
       "      <td>978.3779</td>\n",
       "      <td>0.789932</td>\n",
       "    </tr>\n",
       "    <tr>\n",
       "      <th>11864</th>\n",
       "      <td>978.6174</td>\n",
       "      <td>978.6600</td>\n",
       "      <td>0.628246</td>\n",
       "    </tr>\n",
       "    <tr>\n",
       "      <th>11865</th>\n",
       "      <td>979.6191</td>\n",
       "      <td>979.6627</td>\n",
       "      <td>0.679891</td>\n",
       "    </tr>\n",
       "    <tr>\n",
       "      <th>11866</th>\n",
       "      <td>980.0763</td>\n",
       "      <td>980.0986</td>\n",
       "      <td>0.736160</td>\n",
       "    </tr>\n",
       "    <tr>\n",
       "      <th>11867</th>\n",
       "      <td>986.5138</td>\n",
       "      <td>986.5500</td>\n",
       "      <td>0.799242</td>\n",
       "    </tr>\n",
       "  </tbody>\n",
       "</table>\n",
       "<p>11868 rows × 3 columns</p>\n",
       "</div>"
      ],
      "text/plain": [
       "         source    target    weight\n",
       "0       61.9884  293.1786  0.596832\n",
       "1      293.1786  265.1480  0.944443\n",
       "2      293.1786  266.1514  0.932479\n",
       "3      293.1786  267.1457  0.767931\n",
       "4      293.1786  294.1818  0.913458\n",
       "...         ...       ...       ...\n",
       "11863  978.3602  978.3779  0.789932\n",
       "11864  978.6174  978.6600  0.628246\n",
       "11865  979.6191  979.6627  0.679891\n",
       "11866  980.0763  980.0986  0.736160\n",
       "11867  986.5138  986.5500  0.799242\n",
       "\n",
       "[11868 rows x 3 columns]"
      ]
     },
     "execution_count": 24,
     "metadata": {},
     "output_type": "execute_result"
    },
    {
     "name": "stdout",
     "output_type": "stream",
     "text": [
      "time: 118 ms (started: 2023-05-31 13:44:25 -05:00)\n"
     ]
    }
   ],
   "source": [
    "df_edges_filter = nx.to_pandas_edgelist(G)\n",
    "df_edges_filter.to_csv(\"{}/output_greedy/edges_filter/greedy_{}_edge-filter-anova-std.csv\".format(dir, group[0]), index=False)\n",
    "df_edges_filter"
   ]
  },
  {
   "attachments": {},
   "cell_type": "markdown",
   "metadata": {},
   "source": [
    "### Results"
   ]
  },
  {
   "cell_type": "code",
   "execution_count": 25,
   "metadata": {},
   "outputs": [
    {
     "name": "stdout",
     "output_type": "stream",
     "text": [
      "Num. nodes: 4202\n",
      "Num. edges: 135076\n",
      "\n",
      "Num. nodes: 4181\n",
      "Num. edges: 131540\n",
      "\n",
      "Num. nodes: 1651\n",
      "Num. edges: 11868\n",
      "\n",
      "Num. nodes: 1452\n",
      "Num. edges: 11970\n",
      "\n",
      "Num. nodes: 1452\n",
      "Num. edges: 11868\n",
      "\n",
      "time: 9.59 ms (started: 2023-05-31 13:44:25 -05:00)\n"
     ]
    }
   ],
   "source": [
    "for graph in list_graphs:\n",
    "    graph_detail(graph)"
   ]
  }
 ],
 "metadata": {
  "kernelspec": {
   "display_name": "Python 3 (ipykernel)",
   "language": "python",
   "name": "python3"
  },
  "language_info": {
   "codemirror_mode": {
    "name": "ipython",
    "version": 3
   },
   "file_extension": ".py",
   "mimetype": "text/x-python",
   "name": "python",
   "nbconvert_exporter": "python",
   "pygments_lexer": "ipython3",
   "version": "3.10.11"
  },
  "orig_nbformat": 4
 },
 "nbformat": 4,
 "nbformat_minor": 2
}
