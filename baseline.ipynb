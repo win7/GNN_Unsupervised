{
 "cells": [
  {
   "attachments": {},
   "cell_type": "markdown",
   "metadata": {},
   "source": [
    "### Imports"
   ]
  },
  {
   "cell_type": "code",
   "execution_count": 1,
   "metadata": {
    "tags": []
   },
   "outputs": [
    {
     "name": "stderr",
     "output_type": "stream",
     "text": [
      "/home/ealvarez/miniconda3/envs/Conda_dgl_3.10/lib/python3.10/site-packages/umap/distances.py:1063: NumbaDeprecationWarning: The 'nopython' keyword argument was not supplied to the 'numba.jit' decorator. The implicit default value for this argument is currently False, but it will be changed to True in Numba 0.59.0. See https://numba.readthedocs.io/en/stable/reference/deprecation.html#deprecation-of-object-mode-fall-back-behaviour-when-using-jit for details.\n",
      "  @numba.jit()\n",
      "/home/ealvarez/miniconda3/envs/Conda_dgl_3.10/lib/python3.10/site-packages/umap/distances.py:1071: NumbaDeprecationWarning: The 'nopython' keyword argument was not supplied to the 'numba.jit' decorator. The implicit default value for this argument is currently False, but it will be changed to True in Numba 0.59.0. See https://numba.readthedocs.io/en/stable/reference/deprecation.html#deprecation-of-object-mode-fall-back-behaviour-when-using-jit for details.\n",
      "  @numba.jit()\n",
      "/home/ealvarez/miniconda3/envs/Conda_dgl_3.10/lib/python3.10/site-packages/umap/distances.py:1086: NumbaDeprecationWarning: The 'nopython' keyword argument was not supplied to the 'numba.jit' decorator. The implicit default value for this argument is currently False, but it will be changed to True in Numba 0.59.0. See https://numba.readthedocs.io/en/stable/reference/deprecation.html#deprecation-of-object-mode-fall-back-behaviour-when-using-jit for details.\n",
      "  @numba.jit()\n",
      "/home/ealvarez/miniconda3/envs/Conda_dgl_3.10/lib/python3.10/site-packages/umap/umap_.py:660: NumbaDeprecationWarning: The 'nopython' keyword argument was not supplied to the 'numba.jit' decorator. The implicit default value for this argument is currently False, but it will be changed to True in Numba 0.59.0. See https://numba.readthedocs.io/en/stable/reference/deprecation.html#deprecation-of-object-mode-fall-back-behaviour-when-using-jit for details.\n",
      "  @numba.jit()\n"
     ]
    },
    {
     "name": "stdout",
     "output_type": "stream",
     "text": [
      "time: 156 µs (started: 2023-06-13 11:04:52 -05:00)\n"
     ]
    }
   ],
   "source": [
    "from mpl_toolkits import mplot3d\n",
    "from sklearn.metrics import silhouette_score\n",
    "from sklearn.model_selection import RandomizedSearchCV\n",
    "from tqdm import tqdm\n",
    "from utils.utils import *\n",
    "\n",
    "import hdbscan\n",
    "import matplotlib.pyplot as plt\n",
    "import networkx as nx\n",
    "import numpy as np\n",
    "import os\n",
    "import pandas as pd\n",
    "import sys\n",
    "\n",
    "%load_ext autotime"
   ]
  },
  {
   "attachments": {},
   "cell_type": "markdown",
   "metadata": {},
   "source": [
    "### Parameters"
   ]
  },
  {
   "cell_type": "code",
   "execution_count": 2,
   "metadata": {},
   "outputs": [
    {
     "name": "stdout",
     "output_type": "stream",
     "text": [
      "Exp:\t\t exp1\n",
      "Method:\t\t greedy\n",
      "Groups id:\t ['WT', 'zwf1^', 'pck1^']\n",
      "Subgroups id:\t {'WT': ['1', '2', '3', '4', '5'], 'zwf1^': ['1', '2', '3'], 'pck1^': ['1', '2']}\n",
      "Option:\t \n",
      "time: 1.07 ms (started: 2023-06-13 11:04:52 -05:00)\n"
     ]
    }
   ],
   "source": [
    "import json\n",
    "  \n",
    "# Opening JSON file\n",
    "file = open(\"parameters.json\")\n",
    "params = json.load(file)\n",
    "\n",
    "exp = params[\"exp\"]\n",
    "print(\"Exp:\\t\\t\", exp)\n",
    "\n",
    "method = \"greedy\"\n",
    "print(\"Method:\\t\\t\", method)\n",
    "\n",
    "groups_id = params[\"groups_id\"]\n",
    "print(\"Groups id:\\t\", groups_id)\n",
    "\n",
    "subgroups_id = params[\"subgroups_id\"]\n",
    "print(\"Subgroups id:\\t\", subgroups_id)\n",
    "\n",
    "option = \"\"\n",
    "print(\"Option:\\t\", option)"
   ]
  },
  {
   "attachments": {},
   "cell_type": "markdown",
   "metadata": {},
   "source": [
    "### Get common subgraphs"
   ]
  },
  {
   "cell_type": "code",
   "execution_count": 3,
   "metadata": {},
   "outputs": [
    {
     "name": "stderr",
     "output_type": "stream",
     "text": [
      "  0%|          | 0/3 [00:00<?, ?it/s]"
     ]
    },
    {
     "name": "stderr",
     "output_type": "stream",
     "text": [
      "100%|██████████| 5/5 [00:30<00:00,  6.01s/it]\n",
      "100%|██████████| 3/3 [00:42<00:00, 14.12s/it]\n",
      "100%|██████████| 2/2 [00:14<00:00,  7.33s/it]\n",
      "100%|██████████| 3/3 [01:27<00:00, 29.02s/it]"
     ]
    },
    {
     "name": "stdout",
     "output_type": "stream",
     "text": [
      "time: 1min 27s (started: 2023-06-13 11:04:52 -05:00)\n"
     ]
    },
    {
     "name": "stderr",
     "output_type": "stream",
     "text": [
      "\n"
     ]
    }
   ],
   "source": [
    "# read edges\n",
    "dict_graphs = {}\n",
    "\n",
    "for group in tqdm(groups_id):\n",
    "    graphs = []\n",
    "    for subgroup in tqdm(subgroups_id[group]):\n",
    "        df_edges = pd.read_csv(\"output/{}/preprocessing/edges/edges_{}_{}.csv\".format(exp, group, subgroup),\n",
    "                               dtype={\"source\": \"string\", \"target\": \"string\"})\n",
    "        G = nx.from_pandas_edgelist(df_edges, \"source\", \"target\", edge_attr=\"weight\")\n",
    "        # graph_detail(G)\n",
    "        graphs.append(G)\n",
    "    \n",
    "    dict_graphs[group] = graphs"
   ]
  },
  {
   "cell_type": "code",
   "execution_count": 4,
   "metadata": {},
   "outputs": [
    {
     "name": "stderr",
     "output_type": "stream",
     "text": [
      "100%|██████████| 4/4 [00:00<00:00, 921.57it/s]\n",
      "100%|██████████| 4/4 [00:25<00:00,  6.36s/it]\n"
     ]
    },
    {
     "name": "stdout",
     "output_type": "stream",
     "text": [
      "Num. nodes: 4200\n",
      "Num. edges: 135075\n",
      "\n"
     ]
    },
    {
     "name": "stderr",
     "output_type": "stream",
     "text": [
      "100%|██████████| 2/2 [00:00<00:00, 1262.39it/s]\n",
      "100%|██████████| 2/2 [00:33<00:00, 16.60s/it]\n"
     ]
    },
    {
     "name": "stdout",
     "output_type": "stream",
     "text": [
      "Num. nodes: 5579\n",
      "Num. edges: 1100817\n",
      "\n"
     ]
    },
    {
     "name": "stderr",
     "output_type": "stream",
     "text": [
      "100%|██████████| 1/1 [00:00<00:00, 1235.44it/s]\n",
      "100%|██████████| 1/1 [00:09<00:00,  9.19s/it]\n"
     ]
    },
    {
     "name": "stdout",
     "output_type": "stream",
     "text": [
      "Num. nodes: 5710\n",
      "Num. edges: 842738\n",
      "\n"
     ]
    },
    {
     "name": "stderr",
     "output_type": "stream",
     "text": [
      "100%|██████████| 3/3 [01:55<00:00, 38.49s/it]"
     ]
    },
    {
     "name": "stdout",
     "output_type": "stream",
     "text": [
      "time: 1min 55s (started: 2023-06-13 11:06:19 -05:00)\n"
     ]
    },
    {
     "name": "stderr",
     "output_type": "stream",
     "text": [
      "\n"
     ]
    }
   ],
   "source": [
    "# get subgraphs\n",
    "\n",
    "dict_df_edges_filter = get_subgraphs_global(dict_graphs, groups_id)"
   ]
  },
  {
   "cell_type": "code",
   "execution_count": 5,
   "metadata": {},
   "outputs": [
    {
     "data": {
      "text/html": [
       "<div>\n",
       "<style scoped>\n",
       "    .dataframe tbody tr th:only-of-type {\n",
       "        vertical-align: middle;\n",
       "    }\n",
       "\n",
       "    .dataframe tbody tr th {\n",
       "        vertical-align: top;\n",
       "    }\n",
       "\n",
       "    .dataframe thead th {\n",
       "        text-align: right;\n",
       "    }\n",
       "</style>\n",
       "<table border=\"1\" class=\"dataframe\">\n",
       "  <thead>\n",
       "    <tr style=\"text-align: right;\">\n",
       "      <th></th>\n",
       "      <th>source</th>\n",
       "      <th>target</th>\n",
       "    </tr>\n",
       "  </thead>\n",
       "  <tbody>\n",
       "    <tr>\n",
       "      <th>0</th>\n",
       "      <td>531.4693</td>\n",
       "      <td>746.4967</td>\n",
       "    </tr>\n",
       "    <tr>\n",
       "      <th>1</th>\n",
       "      <td>531.4693</td>\n",
       "      <td>883.5481</td>\n",
       "    </tr>\n",
       "    <tr>\n",
       "      <th>2</th>\n",
       "      <td>531.4693</td>\n",
       "      <td>717.5262</td>\n",
       "    </tr>\n",
       "    <tr>\n",
       "      <th>3</th>\n",
       "      <td>531.4693</td>\n",
       "      <td>694.6713</td>\n",
       "    </tr>\n",
       "    <tr>\n",
       "      <th>4</th>\n",
       "      <td>531.4693</td>\n",
       "      <td>411.3841</td>\n",
       "    </tr>\n",
       "  </tbody>\n",
       "</table>\n",
       "</div>"
      ],
      "text/plain": [
       "     source    target\n",
       "0  531.4693  746.4967\n",
       "1  531.4693  883.5481\n",
       "2  531.4693  717.5262\n",
       "3  531.4693  694.6713\n",
       "4  531.4693  411.3841"
      ]
     },
     "execution_count": 5,
     "metadata": {},
     "output_type": "execute_result"
    },
    {
     "name": "stdout",
     "output_type": "stream",
     "text": [
      "time: 6.11 ms (started: 2023-06-13 11:08:15 -05:00)\n"
     ]
    }
   ],
   "source": [
    "df_edges_filter = dict_df_edges_filter[groups_id[0]]\n",
    "df_edges_filter.head()"
   ]
  },
  {
   "cell_type": "code",
   "execution_count": 6,
   "metadata": {},
   "outputs": [
    {
     "name": "stderr",
     "output_type": "stream",
     "text": [
      " 67%|██████▋   | 2/3 [00:00<00:00, 18.53it/s]"
     ]
    },
    {
     "name": "stderr",
     "output_type": "stream",
     "text": [
      "100%|██████████| 3/3 [00:00<00:00, 17.77it/s]"
     ]
    },
    {
     "name": "stdout",
     "output_type": "stream",
     "text": [
      "time: 186 ms (started: 2023-06-13 11:08:15 -05:00)\n"
     ]
    },
    {
     "name": "stderr",
     "output_type": "stream",
     "text": [
      "\n"
     ]
    }
   ],
   "source": [
    "# change data type\n",
    "for group in tqdm(groups_id):\n",
    "    df_edges_filter = dict_df_edges_filter[group]\n",
    "    df_edges_filter[[\"source\", \"target\"]] = df_edges_filter[[\"source\", \"target\"]].astype(\"string\")"
   ]
  },
  {
   "cell_type": "code",
   "execution_count": 7,
   "metadata": {},
   "outputs": [
    {
     "name": "stderr",
     "output_type": "stream",
     "text": [
      "100%|██████████| 5/5 [00:21<00:00,  4.23s/it]\n",
      "100%|██████████| 3/3 [00:33<00:00, 11.25s/it]\n",
      "100%|██████████| 2/2 [00:12<00:00,  6.01s/it]\n",
      "100%|██████████| 3/3 [01:09<00:00, 23.30s/it]\n"
     ]
    },
    {
     "data": {
      "text/html": [
       "<div>\n",
       "<style scoped>\n",
       "    .dataframe tbody tr th:only-of-type {\n",
       "        vertical-align: middle;\n",
       "    }\n",
       "\n",
       "    .dataframe tbody tr th {\n",
       "        vertical-align: top;\n",
       "    }\n",
       "\n",
       "    .dataframe thead th {\n",
       "        text-align: right;\n",
       "    }\n",
       "</style>\n",
       "<table border=\"1\" class=\"dataframe\">\n",
       "  <thead>\n",
       "    <tr style=\"text-align: right;\">\n",
       "      <th></th>\n",
       "      <th>source</th>\n",
       "      <th>target</th>\n",
       "      <th>subgroup1</th>\n",
       "      <th>subgroup2</th>\n",
       "      <th>subgroup3</th>\n",
       "      <th>subgroup4</th>\n",
       "      <th>subgroup5</th>\n",
       "    </tr>\n",
       "  </thead>\n",
       "  <tbody>\n",
       "    <tr>\n",
       "      <th>129664</th>\n",
       "      <td>100.9337</td>\n",
       "      <td>141.0173</td>\n",
       "      <td>0.569990</td>\n",
       "      <td>0.597722</td>\n",
       "      <td>0.524561</td>\n",
       "      <td>0.553647</td>\n",
       "      <td>0.582860</td>\n",
       "    </tr>\n",
       "    <tr>\n",
       "      <th>112814</th>\n",
       "      <td>100.9679</td>\n",
       "      <td>176.975</td>\n",
       "      <td>0.682490</td>\n",
       "      <td>0.504283</td>\n",
       "      <td>0.548594</td>\n",
       "      <td>0.795642</td>\n",
       "      <td>0.864287</td>\n",
       "    </tr>\n",
       "    <tr>\n",
       "      <th>128880</th>\n",
       "      <td>100.9679</td>\n",
       "      <td>260.9136</td>\n",
       "      <td>0.602921</td>\n",
       "      <td>0.526767</td>\n",
       "      <td>0.654005</td>\n",
       "      <td>0.721963</td>\n",
       "      <td>0.852265</td>\n",
       "    </tr>\n",
       "    <tr>\n",
       "      <th>89898</th>\n",
       "      <td>100.9679</td>\n",
       "      <td>94.9806</td>\n",
       "      <td>0.576085</td>\n",
       "      <td>0.595119</td>\n",
       "      <td>0.555905</td>\n",
       "      <td>0.892320</td>\n",
       "      <td>0.891339</td>\n",
       "    </tr>\n",
       "    <tr>\n",
       "      <th>131874</th>\n",
       "      <td>102.0562</td>\n",
       "      <td>122.0247</td>\n",
       "      <td>0.594741</td>\n",
       "      <td>0.562568</td>\n",
       "      <td>0.617639</td>\n",
       "      <td>0.540012</td>\n",
       "      <td>0.740655</td>\n",
       "    </tr>\n",
       "  </tbody>\n",
       "</table>\n",
       "</div>"
      ],
      "text/plain": [
       "          source    target  subgroup1  subgroup2  subgroup3  subgroup4  \\\n",
       "129664  100.9337  141.0173   0.569990   0.597722   0.524561   0.553647   \n",
       "112814  100.9679   176.975   0.682490   0.504283   0.548594   0.795642   \n",
       "128880  100.9679  260.9136   0.602921   0.526767   0.654005   0.721963   \n",
       "89898   100.9679   94.9806   0.576085   0.595119   0.555905   0.892320   \n",
       "131874  102.0562  122.0247   0.594741   0.562568   0.617639   0.540012   \n",
       "\n",
       "        subgroup5  \n",
       "129664   0.582860  \n",
       "112814   0.864287  \n",
       "128880   0.852265  \n",
       "89898    0.891339  \n",
       "131874   0.740655  "
      ]
     },
     "execution_count": 7,
     "metadata": {},
     "output_type": "execute_result"
    },
    {
     "name": "stdout",
     "output_type": "stream",
     "text": [
      "time: 1min 10s (started: 2023-06-13 11:08:15 -05:00)\n"
     ]
    }
   ],
   "source": [
    "# get weight by subgroups\n",
    "\n",
    "dict_df_edges_filter_weight = get_weight_global(dict_df_edges_filter, exp, groups_id, subgroups_id)\n",
    "df_edges_filter_weight = dict_df_edges_filter_weight[groups_id[0]]\n",
    "df_edges_filter_weight.head()"
   ]
  },
  {
   "attachments": {},
   "cell_type": "markdown",
   "metadata": {},
   "source": [
    "### Filter by STD and average weight"
   ]
  },
  {
   "cell_type": "code",
   "execution_count": 8,
   "metadata": {},
   "outputs": [
    {
     "name": "stderr",
     "output_type": "stream",
     "text": [
      "100%|██████████| 3/3 [00:44<00:00, 14.71s/it]\n"
     ]
    },
    {
     "data": {
      "text/html": [
       "<div>\n",
       "<style scoped>\n",
       "    .dataframe tbody tr th:only-of-type {\n",
       "        vertical-align: middle;\n",
       "    }\n",
       "\n",
       "    .dataframe tbody tr th {\n",
       "        vertical-align: top;\n",
       "    }\n",
       "\n",
       "    .dataframe thead th {\n",
       "        text-align: right;\n",
       "    }\n",
       "</style>\n",
       "<table border=\"1\" class=\"dataframe\">\n",
       "  <thead>\n",
       "    <tr style=\"text-align: right;\">\n",
       "      <th></th>\n",
       "      <th>source</th>\n",
       "      <th>target</th>\n",
       "      <th>weight</th>\n",
       "    </tr>\n",
       "  </thead>\n",
       "  <tbody>\n",
       "    <tr>\n",
       "      <th>0</th>\n",
       "      <td>100.9337</td>\n",
       "      <td>141.0173</td>\n",
       "      <td>0.565756</td>\n",
       "    </tr>\n",
       "    <tr>\n",
       "      <th>1</th>\n",
       "      <td>100.9679</td>\n",
       "      <td>176.975</td>\n",
       "      <td>0.679059</td>\n",
       "    </tr>\n",
       "    <tr>\n",
       "      <th>2</th>\n",
       "      <td>100.9679</td>\n",
       "      <td>260.9136</td>\n",
       "      <td>0.671584</td>\n",
       "    </tr>\n",
       "    <tr>\n",
       "      <th>3</th>\n",
       "      <td>100.9679</td>\n",
       "      <td>94.9806</td>\n",
       "      <td>0.702154</td>\n",
       "    </tr>\n",
       "    <tr>\n",
       "      <th>4</th>\n",
       "      <td>102.0562</td>\n",
       "      <td>122.0247</td>\n",
       "      <td>0.611123</td>\n",
       "    </tr>\n",
       "  </tbody>\n",
       "</table>\n",
       "</div>"
      ],
      "text/plain": [
       "     source    target    weight\n",
       "0  100.9337  141.0173  0.565756\n",
       "1  100.9679   176.975  0.679059\n",
       "2  100.9679  260.9136  0.671584\n",
       "3  100.9679   94.9806  0.702154\n",
       "4  102.0562  122.0247  0.611123"
      ]
     },
     "execution_count": 8,
     "metadata": {},
     "output_type": "execute_result"
    },
    {
     "data": {
      "text/plain": [
       "<Figure size 640x480 with 0 Axes>"
      ]
     },
     "metadata": {},
     "output_type": "display_data"
    },
    {
     "name": "stdout",
     "output_type": "stream",
     "text": [
      "time: 44.1 s (started: 2023-06-13 11:09:25 -05:00)\n"
     ]
    }
   ],
   "source": [
    "# dispersion (std)\n",
    "\n",
    "dict_df_common_edges = std_global(dict_df_edges_filter_weight, exp, method, groups_id, option, th=0.3, plot=True, save=True)\n",
    "dict_df_common_edges[groups_id[0]].head()"
   ]
  },
  {
   "attachments": {},
   "cell_type": "markdown",
   "metadata": {},
   "source": [
    "---"
   ]
  },
  {
   "attachments": {},
   "cell_type": "markdown",
   "metadata": {},
   "source": [
    "### STD-ANOVA"
   ]
  },
  {
   "attachments": {},
   "cell_type": "markdown",
   "metadata": {},
   "source": [
    "STD"
   ]
  },
  {
   "cell_type": "code",
   "execution_count": 9,
   "metadata": {},
   "outputs": [
    {
     "data": {
      "text/plain": [
       "' df_edges_std = get_edges_std(SG, dir, group, subgroups, ddof=0)\\ndf_edges_std\\n\\n# Filter by std (std < 0.3)\\ndf_edges_std_filter = df_edges_std[df_edges_std[\"std\"] < 0.3]\\ndf_edges_std_filter '"
      ]
     },
     "execution_count": 9,
     "metadata": {},
     "output_type": "execute_result"
    },
    {
     "name": "stdout",
     "output_type": "stream",
     "text": [
      "time: 2.4 ms (started: 2023-06-13 11:10:09 -05:00)\n"
     ]
    }
   ],
   "source": [
    "# STD\n",
    "    \n",
    "\"\"\" df_edges_std = get_edges_std(SG, dir, group, subgroups, ddof=0)\n",
    "df_edges_std\n",
    "\n",
    "# Filter by std (std < 0.3)\n",
    "df_edges_std_filter = df_edges_std[df_edges_std[\"std\"] < 0.3]\n",
    "df_edges_std_filter \"\"\""
   ]
  },
  {
   "cell_type": "code",
   "execution_count": 10,
   "metadata": {},
   "outputs": [
    {
     "data": {
      "text/plain": [
       "' x = df_edges_std[\"std\"]\\nplt.hist(x, bins=100)\\nplt.axvline(x=0.3, color=\"red\", lw=1)\\nl = len(df_edges_std) - len(df_edges_std_filter)\\nt = len(df_edges_std)\\nplt.title(\"Loss: {} of {} ({}%)\".format(l, t, round(l*100/t)))\\nplt.grid()\\nplt.show() '"
      ]
     },
     "execution_count": 10,
     "metadata": {},
     "output_type": "execute_result"
    },
    {
     "name": "stdout",
     "output_type": "stream",
     "text": [
      "time: 3.88 ms (started: 2023-06-13 11:10:09 -05:00)\n"
     ]
    }
   ],
   "source": [
    "\"\"\" x = df_edges_std[\"std\"]\n",
    "plt.hist(x, bins=100)\n",
    "plt.axvline(x=0.3, color=\"red\", lw=1)\n",
    "l = len(df_edges_std) - len(df_edges_std_filter)\n",
    "t = len(df_edges_std)\n",
    "plt.title(\"Loss: {} of {} ({}%)\".format(l, t, round(l*100/t)))\n",
    "plt.grid()\n",
    "plt.show() \"\"\""
   ]
  },
  {
   "cell_type": "code",
   "execution_count": 11,
   "metadata": {},
   "outputs": [
    {
     "data": {
      "text/plain": [
       "' G = nx.from_pandas_edgelist(df_edges_std_filter, \"source\", \"target\", edge_attr=[\"weight\"])\\ngraph_detail(G)\\n\\nlist_graphs.append(G.copy())\\nnx.write_gexf(G, \"{}/output_greedy/graphs_filter/greedy_{}_graph-filter-std.gexf\".format(dir, group[0])) '"
      ]
     },
     "execution_count": 11,
     "metadata": {},
     "output_type": "execute_result"
    },
    {
     "name": "stdout",
     "output_type": "stream",
     "text": [
      "time: 7.45 ms (started: 2023-06-13 11:10:09 -05:00)\n"
     ]
    }
   ],
   "source": [
    "\"\"\" G = nx.from_pandas_edgelist(df_edges_std_filter, \"source\", \"target\", edge_attr=[\"weight\"])\n",
    "graph_detail(G)\n",
    "\n",
    "list_graphs.append(G.copy())\n",
    "nx.write_gexf(G, \"{}/output_greedy/graphs_filter/greedy_{}_graph-filter-std.gexf\".format(dir, group[0])) \"\"\""
   ]
  },
  {
   "cell_type": "code",
   "execution_count": 12,
   "metadata": {},
   "outputs": [
    {
     "data": {
      "text/plain": [
       "' df_edges_filter = nx.to_pandas_edgelist(G)\\ndf_edges_filter.to_csv(\"{}/output_greedy/edges_filter/greedy_{}_edge-filter-std.csv\".format(dir, group[0]), index=False)\\ndf_edges_filter '"
      ]
     },
     "execution_count": 12,
     "metadata": {},
     "output_type": "execute_result"
    },
    {
     "name": "stdout",
     "output_type": "stream",
     "text": [
      "time: 2.85 ms (started: 2023-06-13 11:10:09 -05:00)\n"
     ]
    }
   ],
   "source": [
    "\"\"\" df_edges_filter = nx.to_pandas_edgelist(G)\n",
    "df_edges_filter.to_csv(\"{}/output_greedy/edges_filter/greedy_{}_edge-filter-std.csv\".format(dir, group[0]), index=False)\n",
    "df_edges_filter \"\"\""
   ]
  },
  {
   "attachments": {},
   "cell_type": "markdown",
   "metadata": {},
   "source": [
    "ANOVA"
   ]
  },
  {
   "cell_type": "code",
   "execution_count": 13,
   "metadata": {},
   "outputs": [
    {
     "data": {
      "text/plain": [
       "' df_nodes_anova = get_nodes_anova(G, dir, group)\\ndf_nodes_anova\\n\\n# Filter by ANOVA (p > 0.001)\\ndf_nodes_anova_filter = df_nodes_anova[df_nodes_anova[\"p-value\"] > 0.001]\\ndf_nodes_anova_filter\\nnodes = list(df_nodes_anova_filter.index)\\ndf_nodes_anova_filter '"
      ]
     },
     "execution_count": 13,
     "metadata": {},
     "output_type": "execute_result"
    },
    {
     "name": "stdout",
     "output_type": "stream",
     "text": [
      "time: 3.61 ms (started: 2023-06-13 11:10:09 -05:00)\n"
     ]
    }
   ],
   "source": [
    "# ANOVA\n",
    "\"\"\" df_nodes_anova = get_nodes_anova(G, dir, group)\n",
    "df_nodes_anova\n",
    "\n",
    "# Filter by ANOVA (p > 0.001)\n",
    "df_nodes_anova_filter = df_nodes_anova[df_nodes_anova[\"p-value\"] > 0.001]\n",
    "df_nodes_anova_filter\n",
    "nodes = list(df_nodes_anova_filter.index)\n",
    "df_nodes_anova_filter \"\"\""
   ]
  },
  {
   "cell_type": "code",
   "execution_count": 14,
   "metadata": {},
   "outputs": [
    {
     "data": {
      "text/plain": [
       "' x = df_nodes_anova[\"p-value\"]\\nplt.hist(x, bins=100)\\nplt.axvline(x=0.001, color=\"red\", lw=1)\\nl = len(df_nodes_anova) - len(df_nodes_anova_filter)\\nt = len(df_nodes_anova)\\nplt.title(\"Loss: {} of {} ({}%)\".format(l, t, round(l*100/t)))\\nplt.grid()\\nplt.show() '"
      ]
     },
     "execution_count": 14,
     "metadata": {},
     "output_type": "execute_result"
    },
    {
     "name": "stdout",
     "output_type": "stream",
     "text": [
      "time: 3.57 ms (started: 2023-06-13 11:10:09 -05:00)\n"
     ]
    }
   ],
   "source": [
    "\"\"\" x = df_nodes_anova[\"p-value\"]\n",
    "plt.hist(x, bins=100)\n",
    "plt.axvline(x=0.001, color=\"red\", lw=1)\n",
    "l = len(df_nodes_anova) - len(df_nodes_anova_filter)\n",
    "t = len(df_nodes_anova)\n",
    "plt.title(\"Loss: {} of {} ({}%)\".format(l, t, round(l*100/t)))\n",
    "plt.grid()\n",
    "plt.show() \"\"\""
   ]
  },
  {
   "cell_type": "code",
   "execution_count": 15,
   "metadata": {},
   "outputs": [
    {
     "data": {
      "text/plain": [
       "' H = G.subgraph(nodes)\\ngraph_detail(H)\\nprint(len(list(n for n in H.nodes() if H.degree(n) == 0)))\\n\\nlist_graphs.append(H.copy())\\nnx.write_gexf(H, \"{}/output_greedy/graphs_filter/greedy_{}_graph-filter-std-anova.gexf\".format(dir, group[0]))\\n\\ndf_edges_filter = nx.to_pandas_edgelist(H)\\n\\ndf_edges_filter.to_csv(\"{}/output_greedy/edges_filter/greedy_{}_edge-filter-std-anova.csv\".format(dir, group[0]), index=False)\\ndf_edges_filter '"
      ]
     },
     "execution_count": 15,
     "metadata": {},
     "output_type": "execute_result"
    },
    {
     "name": "stdout",
     "output_type": "stream",
     "text": [
      "time: 4.32 ms (started: 2023-06-13 11:10:09 -05:00)\n"
     ]
    }
   ],
   "source": [
    "\"\"\" H = G.subgraph(nodes)\n",
    "graph_detail(H)\n",
    "print(len(list(n for n in H.nodes() if H.degree(n) == 0)))\n",
    "\n",
    "list_graphs.append(H.copy())\n",
    "nx.write_gexf(H, \"{}/output_greedy/graphs_filter/greedy_{}_graph-filter-std-anova.gexf\".format(dir, group[0]))\n",
    "\n",
    "df_edges_filter = nx.to_pandas_edgelist(H)\n",
    "\n",
    "df_edges_filter.to_csv(\"{}/output_greedy/edges_filter/greedy_{}_edge-filter-std-anova.csv\".format(dir, group[0]), index=False)\n",
    "df_edges_filter \"\"\""
   ]
  },
  {
   "attachments": {},
   "cell_type": "markdown",
   "metadata": {},
   "source": [
    "### ANOVA-STD"
   ]
  },
  {
   "attachments": {},
   "cell_type": "markdown",
   "metadata": {},
   "source": [
    "ANOVA"
   ]
  },
  {
   "cell_type": "code",
   "execution_count": 16,
   "metadata": {},
   "outputs": [
    {
     "data": {
      "text/plain": [
       "' df_nodes_anova = get_nodes_anova(SG, dir, group)\\ndf_nodes_anova\\n\\n# Filter by ANOVA (p > 0.001)\\ndf_nodes_anova_filter = df_nodes_anova[df_nodes_anova[\"p-value\"] > 0.001]\\ndf_nodes_anova_filter\\nnodes = list(df_nodes_anova_filter.index)\\ndf_nodes_anova_filter '"
      ]
     },
     "execution_count": 16,
     "metadata": {},
     "output_type": "execute_result"
    },
    {
     "name": "stdout",
     "output_type": "stream",
     "text": [
      "time: 3.5 ms (started: 2023-06-13 11:10:09 -05:00)\n"
     ]
    }
   ],
   "source": [
    "# ANOVA\n",
    "\"\"\" df_nodes_anova = get_nodes_anova(SG, dir, group)\n",
    "df_nodes_anova\n",
    "\n",
    "# Filter by ANOVA (p > 0.001)\n",
    "df_nodes_anova_filter = df_nodes_anova[df_nodes_anova[\"p-value\"] > 0.001]\n",
    "df_nodes_anova_filter\n",
    "nodes = list(df_nodes_anova_filter.index)\n",
    "df_nodes_anova_filter \"\"\""
   ]
  },
  {
   "cell_type": "code",
   "execution_count": 17,
   "metadata": {},
   "outputs": [
    {
     "data": {
      "text/plain": [
       "' x = df_nodes_anova[\"p-value\"]\\nplt.hist(x, bins=100)\\nplt.axvline(x=0.001, color=\"red\", lw=1)\\nl = len(df_nodes_anova) - len(df_nodes_anova_filter)\\nt = len(df_nodes_anova)\\nplt.title(\"Loss: {} of {} ({}%)\".format(l, t, round(l*100/t)))\\nplt.grid()\\nplt.show() '"
      ]
     },
     "execution_count": 17,
     "metadata": {},
     "output_type": "execute_result"
    },
    {
     "name": "stdout",
     "output_type": "stream",
     "text": [
      "time: 3.6 ms (started: 2023-06-13 11:10:09 -05:00)\n"
     ]
    }
   ],
   "source": [
    "\"\"\" x = df_nodes_anova[\"p-value\"]\n",
    "plt.hist(x, bins=100)\n",
    "plt.axvline(x=0.001, color=\"red\", lw=1)\n",
    "l = len(df_nodes_anova) - len(df_nodes_anova_filter)\n",
    "t = len(df_nodes_anova)\n",
    "plt.title(\"Loss: {} of {} ({}%)\".format(l, t, round(l*100/t)))\n",
    "plt.grid()\n",
    "plt.show() \"\"\""
   ]
  },
  {
   "cell_type": "code",
   "execution_count": 18,
   "metadata": {},
   "outputs": [
    {
     "name": "stdout",
     "output_type": "stream",
     "text": [
      "time: 338 µs (started: 2023-06-13 11:10:09 -05:00)\n"
     ]
    }
   ],
   "source": [
    "# H = SG.subgraph(nodes)"
   ]
  },
  {
   "cell_type": "code",
   "execution_count": 19,
   "metadata": {},
   "outputs": [
    {
     "data": {
      "text/plain": [
       "' df_edges_filter = nx.to_pandas_edgelist(H)\\ndf_edges_filter.to_csv(\"{}/output_greedy/edges_filter/greedy_{}_edge-filter-anova.csv\".format(dir, group[0]), index=False)\\ndf_edges_filter '"
      ]
     },
     "execution_count": 19,
     "metadata": {},
     "output_type": "execute_result"
    },
    {
     "name": "stdout",
     "output_type": "stream",
     "text": [
      "time: 3.99 ms (started: 2023-06-13 11:10:09 -05:00)\n"
     ]
    }
   ],
   "source": [
    "\"\"\" df_edges_filter = nx.to_pandas_edgelist(H)\n",
    "df_edges_filter.to_csv(\"{}/output_greedy/edges_filter/greedy_{}_edge-filter-anova.csv\".format(dir, group[0]), index=False)\n",
    "df_edges_filter \"\"\""
   ]
  },
  {
   "cell_type": "code",
   "execution_count": 20,
   "metadata": {},
   "outputs": [
    {
     "data": {
      "text/plain": [
       "' H = nx.from_pandas_edgelist(df_edges_filter, \"source\", \"target\")\\ngraph_detail(H)\\n\\nlist_graphs.append(H.copy())\\nnx.write_gexf(H, \"{}/output_greedy/graphs_filter/greedy_{}_graph-filter-anova.gexf\".format(dir, group[0])) '"
      ]
     },
     "execution_count": 20,
     "metadata": {},
     "output_type": "execute_result"
    },
    {
     "name": "stdout",
     "output_type": "stream",
     "text": [
      "time: 3.39 ms (started: 2023-06-13 11:10:09 -05:00)\n"
     ]
    }
   ],
   "source": [
    "\"\"\" H = nx.from_pandas_edgelist(df_edges_filter, \"source\", \"target\")\n",
    "graph_detail(H)\n",
    "\n",
    "list_graphs.append(H.copy())\n",
    "nx.write_gexf(H, \"{}/output_greedy/graphs_filter/greedy_{}_graph-filter-anova.gexf\".format(dir, group[0])) \"\"\""
   ]
  },
  {
   "attachments": {},
   "cell_type": "markdown",
   "metadata": {},
   "source": [
    "STD"
   ]
  },
  {
   "cell_type": "code",
   "execution_count": 21,
   "metadata": {},
   "outputs": [
    {
     "data": {
      "text/plain": [
       "' df_edges_std = get_edges_std(H, dir, group, subgroups, ddof=0)\\ndf_edges_std\\n\\n# Filter by std (std < 0.3)\\ndf_edges_std_filter = df_edges_std[df_edges_std[\"std\"] < 0.3]\\ndf_edges_std_filter '"
      ]
     },
     "execution_count": 21,
     "metadata": {},
     "output_type": "execute_result"
    },
    {
     "name": "stdout",
     "output_type": "stream",
     "text": [
      "time: 3.95 ms (started: 2023-06-13 11:10:09 -05:00)\n"
     ]
    }
   ],
   "source": [
    "# STD\n",
    "\"\"\" df_edges_std = get_edges_std(H, dir, group, subgroups, ddof=0)\n",
    "df_edges_std\n",
    "\n",
    "# Filter by std (std < 0.3)\n",
    "df_edges_std_filter = df_edges_std[df_edges_std[\"std\"] < 0.3]\n",
    "df_edges_std_filter \"\"\""
   ]
  },
  {
   "cell_type": "code",
   "execution_count": 22,
   "metadata": {},
   "outputs": [
    {
     "data": {
      "text/plain": [
       "' x = df_edges_std[\"std\"]\\nplt.hist(x, bins=100)\\nplt.axvline(x=0.3, color=\"red\", lw=1)\\nl = len(df_edges_std) - len(df_edges_std_filter)\\nt = len(df_edges_std)\\nplt.title(\"Loss: {} of {} ({}%)\".format(l, t, round(l*100/t)))\\nplt.grid()\\nplt.show() '"
      ]
     },
     "execution_count": 22,
     "metadata": {},
     "output_type": "execute_result"
    },
    {
     "name": "stdout",
     "output_type": "stream",
     "text": [
      "time: 80.6 ms (started: 2023-06-13 11:10:09 -05:00)\n"
     ]
    }
   ],
   "source": [
    "\"\"\" x = df_edges_std[\"std\"]\n",
    "plt.hist(x, bins=100)\n",
    "plt.axvline(x=0.3, color=\"red\", lw=1)\n",
    "l = len(df_edges_std) - len(df_edges_std_filter)\n",
    "t = len(df_edges_std)\n",
    "plt.title(\"Loss: {} of {} ({}%)\".format(l, t, round(l*100/t)))\n",
    "plt.grid()\n",
    "plt.show() \"\"\""
   ]
  },
  {
   "cell_type": "code",
   "execution_count": 23,
   "metadata": {},
   "outputs": [
    {
     "data": {
      "text/plain": [
       "' G = nx.from_pandas_edgelist(df_edges_std_filter, \"source\", \"target\", edge_attr=[\"weight\"])\\ngraph_detail(G)\\n\\nlist_graphs.append(G.copy())\\nnx.write_gexf(G, \"{}/output_greedy/graphs_filter/greedy_{}_graph-filter-anova-std.gexf\".format(dir, group[0])) '"
      ]
     },
     "execution_count": 23,
     "metadata": {},
     "output_type": "execute_result"
    },
    {
     "name": "stdout",
     "output_type": "stream",
     "text": [
      "time: 54.8 ms (started: 2023-06-13 11:10:09 -05:00)\n"
     ]
    }
   ],
   "source": [
    "\"\"\" G = nx.from_pandas_edgelist(df_edges_std_filter, \"source\", \"target\", edge_attr=[\"weight\"])\n",
    "graph_detail(G)\n",
    "\n",
    "list_graphs.append(G.copy())\n",
    "nx.write_gexf(G, \"{}/output_greedy/graphs_filter/greedy_{}_graph-filter-anova-std.gexf\".format(dir, group[0])) \"\"\""
   ]
  },
  {
   "cell_type": "code",
   "execution_count": 24,
   "metadata": {},
   "outputs": [
    {
     "data": {
      "text/plain": [
       "' df_edges_filter = nx.to_pandas_edgelist(G)\\ndf_edges_filter.to_csv(\"{}/output_greedy/edges_filter/greedy_{}_edge-filter-anova-std.csv\".format(dir, group[0]), index=False)\\ndf_edges_filter '"
      ]
     },
     "execution_count": 24,
     "metadata": {},
     "output_type": "execute_result"
    },
    {
     "name": "stdout",
     "output_type": "stream",
     "text": [
      "time: 12.8 ms (started: 2023-06-13 11:10:09 -05:00)\n"
     ]
    }
   ],
   "source": [
    "\"\"\" df_edges_filter = nx.to_pandas_edgelist(G)\n",
    "df_edges_filter.to_csv(\"{}/output_greedy/edges_filter/greedy_{}_edge-filter-anova-std.csv\".format(dir, group[0]), index=False)\n",
    "df_edges_filter \"\"\""
   ]
  },
  {
   "attachments": {},
   "cell_type": "markdown",
   "metadata": {},
   "source": [
    "### Results"
   ]
  },
  {
   "cell_type": "code",
   "execution_count": 25,
   "metadata": {},
   "outputs": [
    {
     "data": {
      "text/plain": [
       "' for graph in list_graphs:\\n    graph_detail(graph) '"
      ]
     },
     "execution_count": 25,
     "metadata": {},
     "output_type": "execute_result"
    },
    {
     "name": "stdout",
     "output_type": "stream",
     "text": [
      "time: 4.23 ms (started: 2023-06-13 11:10:09 -05:00)\n"
     ]
    }
   ],
   "source": [
    "\"\"\" for graph in list_graphs:\n",
    "    graph_detail(graph) \"\"\""
   ]
  }
 ],
 "metadata": {
  "kernelspec": {
   "display_name": "Python 3 (ipykernel)",
   "language": "python",
   "name": "python3"
  },
  "language_info": {
   "codemirror_mode": {
    "name": "ipython",
    "version": 3
   },
   "file_extension": ".py",
   "mimetype": "text/x-python",
   "name": "python",
   "nbconvert_exporter": "python",
   "pygments_lexer": "ipython3",
   "version": "3.10.11"
  },
  "orig_nbformat": 4
 },
 "nbformat": 4,
 "nbformat_minor": 2
}
