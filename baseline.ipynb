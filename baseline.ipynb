{
 "cells": [
  {
   "attachments": {},
   "cell_type": "markdown",
   "metadata": {},
   "source": [
    "### Imports"
   ]
  },
  {
   "cell_type": "code",
   "execution_count": 1,
   "metadata": {
    "tags": []
   },
   "outputs": [
    {
     "name": "stderr",
     "output_type": "stream",
     "text": [
      "/home/ealvarez/miniconda3/envs/Conda_dgl_3.10/lib/python3.10/site-packages/umap/distances.py:1063: NumbaDeprecationWarning: The 'nopython' keyword argument was not supplied to the 'numba.jit' decorator. The implicit default value for this argument is currently False, but it will be changed to True in Numba 0.59.0. See https://numba.readthedocs.io/en/stable/reference/deprecation.html#deprecation-of-object-mode-fall-back-behaviour-when-using-jit for details.\n",
      "  @numba.jit()\n",
      "/home/ealvarez/miniconda3/envs/Conda_dgl_3.10/lib/python3.10/site-packages/umap/distances.py:1071: NumbaDeprecationWarning: The 'nopython' keyword argument was not supplied to the 'numba.jit' decorator. The implicit default value for this argument is currently False, but it will be changed to True in Numba 0.59.0. See https://numba.readthedocs.io/en/stable/reference/deprecation.html#deprecation-of-object-mode-fall-back-behaviour-when-using-jit for details.\n",
      "  @numba.jit()\n",
      "/home/ealvarez/miniconda3/envs/Conda_dgl_3.10/lib/python3.10/site-packages/umap/distances.py:1086: NumbaDeprecationWarning: The 'nopython' keyword argument was not supplied to the 'numba.jit' decorator. The implicit default value for this argument is currently False, but it will be changed to True in Numba 0.59.0. See https://numba.readthedocs.io/en/stable/reference/deprecation.html#deprecation-of-object-mode-fall-back-behaviour-when-using-jit for details.\n",
      "  @numba.jit()\n",
      "/home/ealvarez/miniconda3/envs/Conda_dgl_3.10/lib/python3.10/site-packages/umap/umap_.py:660: NumbaDeprecationWarning: The 'nopython' keyword argument was not supplied to the 'numba.jit' decorator. The implicit default value for this argument is currently False, but it will be changed to True in Numba 0.59.0. See https://numba.readthedocs.io/en/stable/reference/deprecation.html#deprecation-of-object-mode-fall-back-behaviour-when-using-jit for details.\n",
      "  @numba.jit()\n"
     ]
    },
    {
     "name": "stdout",
     "output_type": "stream",
     "text": [
      "time: 166 µs (started: 2023-06-05 18:46:00 -05:00)\n"
     ]
    }
   ],
   "source": [
    "from mpl_toolkits import mplot3d\n",
    "from sklearn.metrics import silhouette_score\n",
    "from sklearn.model_selection import RandomizedSearchCV\n",
    "from tqdm import tqdm\n",
    "from utils.utils import *\n",
    "\n",
    "import hdbscan\n",
    "import matplotlib.pyplot as plt\n",
    "import networkx as nx\n",
    "import numpy as np\n",
    "import os\n",
    "import pandas as pd\n",
    "import sys\n",
    "\n",
    "%load_ext autotime"
   ]
  },
  {
   "attachments": {},
   "cell_type": "markdown",
   "metadata": {},
   "source": [
    "### Parameters"
   ]
  },
  {
   "cell_type": "code",
   "execution_count": 2,
   "metadata": {},
   "outputs": [
    {
     "name": "stdout",
     "output_type": "stream",
     "text": [
      "Exp:\t\t exp2\n",
      "Method:\t\t greedy\n",
      "Dimension:\t 3\n",
      "Groups id:\t ['WT', 'zwf1^', 'pck1^']\n",
      "Subgroups id:\t {'WT': ['1', '2', '3', '4', '5'], 'zwf1^': ['1', '2', '3'], 'pck1^': ['1', '2']}\n",
      "time: 2.37 ms (started: 2023-06-05 18:46:00 -05:00)\n"
     ]
    }
   ],
   "source": [
    "import json\n",
    "  \n",
    "# Opening JSON file\n",
    "file = open(\"parameters.json\")\n",
    "params = json.load(file)\n",
    "\n",
    "exp = params[\"exp\"]\n",
    "print(\"Exp:\\t\\t\", exp)\n",
    "\n",
    "method = \"greedy\"\n",
    "print(\"Method:\\t\\t\", method)\n",
    "\n",
    "dimension = params[\"dimension\"]\n",
    "print(\"Dimension:\\t\", dimension)\n",
    "\n",
    "groups_id = params[\"groups_id\"]\n",
    "print(\"Groups id:\\t\", groups_id)\n",
    "\n",
    "subgroups_id = params[\"subgroups_id\"]\n",
    "print(\"Subgroups id:\\t\", subgroups_id)"
   ]
  },
  {
   "attachments": {},
   "cell_type": "markdown",
   "metadata": {},
   "source": [
    "### Get common subgraphs"
   ]
  },
  {
   "cell_type": "code",
   "execution_count": 3,
   "metadata": {},
   "outputs": [
    {
     "name": "stderr",
     "output_type": "stream",
     "text": [
      "100%|██████████| 5/5 [00:26<00:00,  5.37s/it]\n",
      "100%|██████████| 3/3 [00:37<00:00, 12.55s/it]\n",
      "100%|██████████| 2/2 [00:13<00:00,  6.52s/it]\n",
      "100%|██████████| 3/3 [01:17<00:00, 25.85s/it]"
     ]
    },
    {
     "name": "stdout",
     "output_type": "stream",
     "text": [
      "time: 1min 17s (started: 2023-06-05 18:46:00 -05:00)\n"
     ]
    },
    {
     "name": "stderr",
     "output_type": "stream",
     "text": [
      "\n"
     ]
    }
   ],
   "source": [
    "# read edges\n",
    "dict_graphs = {}\n",
    "\n",
    "for group in tqdm(groups_id):\n",
    "    graphs = []\n",
    "    for subgroup in tqdm(subgroups_id[group]):\n",
    "        df_edges = pd.read_csv(\"output/{}/preprocessing/edges/edges_{}_{}.csv\".format(exp, group, subgroup))\n",
    "        G = nx.from_pandas_edgelist(df_edges, \"source\", \"target\", edge_attr=\"weight\")\n",
    "        # graph_detail(G)\n",
    "        graphs.append(G)\n",
    "    \n",
    "    dict_graphs[group] = graphs"
   ]
  },
  {
   "cell_type": "code",
   "execution_count": 4,
   "metadata": {},
   "outputs": [
    {
     "name": "stderr",
     "output_type": "stream",
     "text": [
      "100%|██████████| 4/4 [00:00<00:00, 258.97it/s]\n",
      "100%|██████████| 4/4 [00:35<00:00,  8.88s/it]\n"
     ]
    },
    {
     "name": "stdout",
     "output_type": "stream",
     "text": [
      "Num. nodes: 4200\n",
      "Num. edges: 135075\n",
      "\n"
     ]
    },
    {
     "name": "stderr",
     "output_type": "stream",
     "text": [
      "100%|██████████| 2/2 [00:00<00:00, 626.34it/s]\n",
      "100%|██████████| 2/2 [00:46<00:00, 23.23s/it]\n"
     ]
    },
    {
     "name": "stdout",
     "output_type": "stream",
     "text": [
      "Num. nodes: 5579\n",
      "Num. edges: 1100817\n",
      "\n"
     ]
    },
    {
     "name": "stderr",
     "output_type": "stream",
     "text": [
      "100%|██████████| 1/1 [00:00<00:00, 588.92it/s]\n",
      "100%|██████████| 1/1 [00:12<00:00, 12.71s/it]\n"
     ]
    },
    {
     "name": "stdout",
     "output_type": "stream",
     "text": [
      "Num. nodes: 5710\n",
      "Num. edges: 842738\n",
      "\n"
     ]
    },
    {
     "name": "stderr",
     "output_type": "stream",
     "text": [
      "100%|██████████| 3/3 [02:47<00:00, 55.80s/it]"
     ]
    },
    {
     "name": "stdout",
     "output_type": "stream",
     "text": [
      "time: 2min 47s (started: 2023-06-05 18:47:18 -05:00)\n"
     ]
    },
    {
     "name": "stderr",
     "output_type": "stream",
     "text": [
      "\n"
     ]
    }
   ],
   "source": [
    "# get subgraphs\n",
    "\n",
    "dict_df_edges_filter = get_subgraphs_global(dict_graphs, groups_id)"
   ]
  },
  {
   "cell_type": "code",
   "execution_count": 5,
   "metadata": {},
   "outputs": [
    {
     "data": {
      "text/html": [
       "<div>\n",
       "<style scoped>\n",
       "    .dataframe tbody tr th:only-of-type {\n",
       "        vertical-align: middle;\n",
       "    }\n",
       "\n",
       "    .dataframe tbody tr th {\n",
       "        vertical-align: top;\n",
       "    }\n",
       "\n",
       "    .dataframe thead th {\n",
       "        text-align: right;\n",
       "    }\n",
       "</style>\n",
       "<table border=\"1\" class=\"dataframe\">\n",
       "  <thead>\n",
       "    <tr style=\"text-align: right;\">\n",
       "      <th></th>\n",
       "      <th>source</th>\n",
       "      <th>target</th>\n",
       "    </tr>\n",
       "  </thead>\n",
       "  <tbody>\n",
       "    <tr>\n",
       "      <th>0</th>\n",
       "      <td>243.0404</td>\n",
       "      <td>267.1048</td>\n",
       "    </tr>\n",
       "    <tr>\n",
       "      <th>1</th>\n",
       "      <td>243.0404</td>\n",
       "      <td>401.2187</td>\n",
       "    </tr>\n",
       "    <tr>\n",
       "      <th>2</th>\n",
       "      <td>243.0404</td>\n",
       "      <td>661.3471</td>\n",
       "    </tr>\n",
       "    <tr>\n",
       "      <th>3</th>\n",
       "      <td>243.0404</td>\n",
       "      <td>267.0965</td>\n",
       "    </tr>\n",
       "    <tr>\n",
       "      <th>4</th>\n",
       "      <td>243.0404</td>\n",
       "      <td>416.1414</td>\n",
       "    </tr>\n",
       "  </tbody>\n",
       "</table>\n",
       "</div>"
      ],
      "text/plain": [
       "     source    target\n",
       "0  243.0404  267.1048\n",
       "1  243.0404  401.2187\n",
       "2  243.0404  661.3471\n",
       "3  243.0404  267.0965\n",
       "4  243.0404  416.1414"
      ]
     },
     "execution_count": 5,
     "metadata": {},
     "output_type": "execute_result"
    },
    {
     "name": "stdout",
     "output_type": "stream",
     "text": [
      "time: 15.4 ms (started: 2023-06-05 18:50:05 -05:00)\n"
     ]
    }
   ],
   "source": [
    "df_edges_filter = dict_df_edges_filter[groups_id[0]]\n",
    "df_edges_filter.head()"
   ]
  },
  {
   "cell_type": "code",
   "execution_count": 6,
   "metadata": {},
   "outputs": [
    {
     "name": "stderr",
     "output_type": "stream",
     "text": [
      "100%|██████████| 5/5 [00:16<00:00,  3.37s/it]\n",
      "100%|██████████| 3/3 [00:25<00:00,  8.65s/it]\n",
      "100%|██████████| 2/2 [00:09<00:00,  4.72s/it]\n",
      "100%|██████████| 3/3 [00:55<00:00, 18.60s/it]\n"
     ]
    },
    {
     "data": {
      "text/html": [
       "<div>\n",
       "<style scoped>\n",
       "    .dataframe tbody tr th:only-of-type {\n",
       "        vertical-align: middle;\n",
       "    }\n",
       "\n",
       "    .dataframe tbody tr th {\n",
       "        vertical-align: top;\n",
       "    }\n",
       "\n",
       "    .dataframe thead th {\n",
       "        text-align: right;\n",
       "    }\n",
       "</style>\n",
       "<table border=\"1\" class=\"dataframe\">\n",
       "  <thead>\n",
       "    <tr style=\"text-align: right;\">\n",
       "      <th></th>\n",
       "      <th>source</th>\n",
       "      <th>target</th>\n",
       "      <th>subgroup1</th>\n",
       "      <th>subgroup2</th>\n",
       "      <th>subgroup3</th>\n",
       "      <th>subgroup4</th>\n",
       "      <th>subgroup5</th>\n",
       "    </tr>\n",
       "  </thead>\n",
       "  <tbody>\n",
       "    <tr>\n",
       "      <th>133290</th>\n",
       "      <td>59.0137</td>\n",
       "      <td>59.0291</td>\n",
       "      <td>0.954735</td>\n",
       "      <td>0.928018</td>\n",
       "      <td>0.841093</td>\n",
       "      <td>0.601605</td>\n",
       "      <td>0.970185</td>\n",
       "    </tr>\n",
       "    <tr>\n",
       "      <th>131497</th>\n",
       "      <td>59.0137</td>\n",
       "      <td>349.2758</td>\n",
       "      <td>0.796859</td>\n",
       "      <td>0.788310</td>\n",
       "      <td>0.560861</td>\n",
       "      <td>0.551982</td>\n",
       "      <td>0.807207</td>\n",
       "    </tr>\n",
       "    <tr>\n",
       "      <th>110528</th>\n",
       "      <td>59.0137</td>\n",
       "      <td>350.2793</td>\n",
       "      <td>0.807013</td>\n",
       "      <td>0.779306</td>\n",
       "      <td>0.576143</td>\n",
       "      <td>0.563560</td>\n",
       "      <td>0.808223</td>\n",
       "    </tr>\n",
       "    <tr>\n",
       "      <th>132969</th>\n",
       "      <td>59.0137</td>\n",
       "      <td>350.3033</td>\n",
       "      <td>0.854806</td>\n",
       "      <td>0.751778</td>\n",
       "      <td>0.539172</td>\n",
       "      <td>0.650983</td>\n",
       "      <td>0.883973</td>\n",
       "    </tr>\n",
       "    <tr>\n",
       "      <th>129629</th>\n",
       "      <td>59.0137</td>\n",
       "      <td>389.2739</td>\n",
       "      <td>0.823682</td>\n",
       "      <td>0.886260</td>\n",
       "      <td>0.723124</td>\n",
       "      <td>0.515230</td>\n",
       "      <td>0.917952</td>\n",
       "    </tr>\n",
       "  </tbody>\n",
       "</table>\n",
       "</div>"
      ],
      "text/plain": [
       "         source    target  subgroup1  subgroup2  subgroup3  subgroup4  \\\n",
       "133290  59.0137   59.0291   0.954735   0.928018   0.841093   0.601605   \n",
       "131497  59.0137  349.2758   0.796859   0.788310   0.560861   0.551982   \n",
       "110528  59.0137  350.2793   0.807013   0.779306   0.576143   0.563560   \n",
       "132969  59.0137  350.3033   0.854806   0.751778   0.539172   0.650983   \n",
       "129629  59.0137  389.2739   0.823682   0.886260   0.723124   0.515230   \n",
       "\n",
       "        subgroup5  \n",
       "133290   0.970185  \n",
       "131497   0.807207  \n",
       "110528   0.808223  \n",
       "132969   0.883973  \n",
       "129629   0.917952  "
      ]
     },
     "execution_count": 6,
     "metadata": {},
     "output_type": "execute_result"
    },
    {
     "name": "stdout",
     "output_type": "stream",
     "text": [
      "time: 56 s (started: 2023-06-05 18:50:05 -05:00)\n"
     ]
    }
   ],
   "source": [
    "# get weight by subgroups\n",
    "\n",
    "dict_df_edges_filter_weight = get_weight_global(dict_df_edges_filter, exp, groups_id, subgroups_id)\n",
    "df_edges_filter_weight = dict_df_edges_filter_weight[groups_id[0]]\n",
    "df_edges_filter_weight.head()"
   ]
  },
  {
   "attachments": {},
   "cell_type": "markdown",
   "metadata": {},
   "source": [
    "### Filter by STD and average weight"
   ]
  },
  {
   "cell_type": "code",
   "execution_count": 7,
   "metadata": {},
   "outputs": [
    {
     "name": "stderr",
     "output_type": "stream",
     "text": [
      "100%|██████████| 3/3 [01:04<00:00, 21.53s/it]\n"
     ]
    },
    {
     "data": {
      "text/html": [
       "<div>\n",
       "<style scoped>\n",
       "    .dataframe tbody tr th:only-of-type {\n",
       "        vertical-align: middle;\n",
       "    }\n",
       "\n",
       "    .dataframe tbody tr th {\n",
       "        vertical-align: top;\n",
       "    }\n",
       "\n",
       "    .dataframe thead th {\n",
       "        text-align: right;\n",
       "    }\n",
       "</style>\n",
       "<table border=\"1\" class=\"dataframe\">\n",
       "  <thead>\n",
       "    <tr style=\"text-align: right;\">\n",
       "      <th></th>\n",
       "      <th>source</th>\n",
       "      <th>target</th>\n",
       "      <th>weight</th>\n",
       "    </tr>\n",
       "  </thead>\n",
       "  <tbody>\n",
       "    <tr>\n",
       "      <th>0</th>\n",
       "      <td>59.0137</td>\n",
       "      <td>59.0291</td>\n",
       "      <td>0.859127</td>\n",
       "    </tr>\n",
       "    <tr>\n",
       "      <th>1</th>\n",
       "      <td>59.0137</td>\n",
       "      <td>349.2758</td>\n",
       "      <td>0.701044</td>\n",
       "    </tr>\n",
       "    <tr>\n",
       "      <th>2</th>\n",
       "      <td>59.0137</td>\n",
       "      <td>350.2793</td>\n",
       "      <td>0.706849</td>\n",
       "    </tr>\n",
       "    <tr>\n",
       "      <th>3</th>\n",
       "      <td>59.0137</td>\n",
       "      <td>350.3033</td>\n",
       "      <td>0.736142</td>\n",
       "    </tr>\n",
       "    <tr>\n",
       "      <th>4</th>\n",
       "      <td>59.0137</td>\n",
       "      <td>389.2739</td>\n",
       "      <td>0.773249</td>\n",
       "    </tr>\n",
       "  </tbody>\n",
       "</table>\n",
       "</div>"
      ],
      "text/plain": [
       "    source    target    weight\n",
       "0  59.0137   59.0291  0.859127\n",
       "1  59.0137  349.2758  0.701044\n",
       "2  59.0137  350.2793  0.706849\n",
       "3  59.0137  350.3033  0.736142\n",
       "4  59.0137  389.2739  0.773249"
      ]
     },
     "execution_count": 7,
     "metadata": {},
     "output_type": "execute_result"
    },
    {
     "name": "stdout",
     "output_type": "stream",
     "text": [
      "time: 1min 4s (started: 2023-06-05 18:51:01 -05:00)\n"
     ]
    }
   ],
   "source": [
    "# dispersion (std)\n",
    "\n",
    "dict_df_common_edges_std = std_global_(dict_df_edges_filter_weight, exp, method, dimension, groups_id, th=0.3, plot=True, save=True)\n",
    "dict_df_common_edges_std[groups_id[0]].head()"
   ]
  },
  {
   "attachments": {},
   "cell_type": "markdown",
   "metadata": {},
   "source": [
    "---"
   ]
  },
  {
   "attachments": {},
   "cell_type": "markdown",
   "metadata": {},
   "source": [
    "### STD-ANOVA"
   ]
  },
  {
   "attachments": {},
   "cell_type": "markdown",
   "metadata": {},
   "source": [
    "STD"
   ]
  },
  {
   "cell_type": "code",
   "execution_count": 8,
   "metadata": {},
   "outputs": [
    {
     "data": {
      "text/plain": [
       "' df_edges_std = get_edges_std(SG, dir, group, subgroups, ddof=0)\\ndf_edges_std\\n\\n# Filter by std (std < 0.3)\\ndf_edges_std_filter = df_edges_std[df_edges_std[\"std\"] < 0.3]\\ndf_edges_std_filter '"
      ]
     },
     "execution_count": 8,
     "metadata": {},
     "output_type": "execute_result"
    },
    {
     "name": "stdout",
     "output_type": "stream",
     "text": [
      "time: 3.64 ms (started: 2023-06-05 18:52:06 -05:00)\n"
     ]
    }
   ],
   "source": [
    "# STD\n",
    "    \n",
    "\"\"\" df_edges_std = get_edges_std(SG, dir, group, subgroups, ddof=0)\n",
    "df_edges_std\n",
    "\n",
    "# Filter by std (std < 0.3)\n",
    "df_edges_std_filter = df_edges_std[df_edges_std[\"std\"] < 0.3]\n",
    "df_edges_std_filter \"\"\""
   ]
  },
  {
   "cell_type": "code",
   "execution_count": 9,
   "metadata": {},
   "outputs": [
    {
     "data": {
      "text/plain": [
       "' x = df_edges_std[\"std\"]\\nplt.hist(x, bins=100)\\nplt.axvline(x=0.3, color=\"red\", lw=1)\\nl = len(df_edges_std) - len(df_edges_std_filter)\\nt = len(df_edges_std)\\nplt.title(\"Loss: {} of {} ({}%)\".format(l, t, round(l*100/t)))\\nplt.grid()\\nplt.show() '"
      ]
     },
     "execution_count": 9,
     "metadata": {},
     "output_type": "execute_result"
    },
    {
     "name": "stdout",
     "output_type": "stream",
     "text": [
      "time: 3.4 ms (started: 2023-06-05 18:52:06 -05:00)\n"
     ]
    }
   ],
   "source": [
    "\"\"\" x = df_edges_std[\"std\"]\n",
    "plt.hist(x, bins=100)\n",
    "plt.axvline(x=0.3, color=\"red\", lw=1)\n",
    "l = len(df_edges_std) - len(df_edges_std_filter)\n",
    "t = len(df_edges_std)\n",
    "plt.title(\"Loss: {} of {} ({}%)\".format(l, t, round(l*100/t)))\n",
    "plt.grid()\n",
    "plt.show() \"\"\""
   ]
  },
  {
   "cell_type": "code",
   "execution_count": 10,
   "metadata": {},
   "outputs": [
    {
     "data": {
      "text/plain": [
       "' G = nx.from_pandas_edgelist(df_edges_std_filter, \"source\", \"target\", edge_attr=[\"weight\"])\\ngraph_detail(G)\\n\\nlist_graphs.append(G.copy())\\nnx.write_gexf(G, \"{}/output_greedy/graphs_filter/greedy_{}_graph-filter-std.gexf\".format(dir, group[0])) '"
      ]
     },
     "execution_count": 10,
     "metadata": {},
     "output_type": "execute_result"
    },
    {
     "name": "stdout",
     "output_type": "stream",
     "text": [
      "time: 2.98 ms (started: 2023-06-05 18:52:06 -05:00)\n"
     ]
    }
   ],
   "source": [
    "\"\"\" G = nx.from_pandas_edgelist(df_edges_std_filter, \"source\", \"target\", edge_attr=[\"weight\"])\n",
    "graph_detail(G)\n",
    "\n",
    "list_graphs.append(G.copy())\n",
    "nx.write_gexf(G, \"{}/output_greedy/graphs_filter/greedy_{}_graph-filter-std.gexf\".format(dir, group[0])) \"\"\""
   ]
  },
  {
   "cell_type": "code",
   "execution_count": 11,
   "metadata": {},
   "outputs": [
    {
     "data": {
      "text/plain": [
       "' df_edges_filter = nx.to_pandas_edgelist(G)\\ndf_edges_filter.to_csv(\"{}/output_greedy/edges_filter/greedy_{}_edge-filter-std.csv\".format(dir, group[0]), index=False)\\ndf_edges_filter '"
      ]
     },
     "execution_count": 11,
     "metadata": {},
     "output_type": "execute_result"
    },
    {
     "name": "stdout",
     "output_type": "stream",
     "text": [
      "time: 3.35 ms (started: 2023-06-05 18:52:06 -05:00)\n"
     ]
    }
   ],
   "source": [
    "\"\"\" df_edges_filter = nx.to_pandas_edgelist(G)\n",
    "df_edges_filter.to_csv(\"{}/output_greedy/edges_filter/greedy_{}_edge-filter-std.csv\".format(dir, group[0]), index=False)\n",
    "df_edges_filter \"\"\""
   ]
  },
  {
   "attachments": {},
   "cell_type": "markdown",
   "metadata": {},
   "source": [
    "ANOVA"
   ]
  },
  {
   "cell_type": "code",
   "execution_count": 12,
   "metadata": {},
   "outputs": [
    {
     "data": {
      "text/plain": [
       "' df_nodes_anova = get_nodes_anova(G, dir, group)\\ndf_nodes_anova\\n\\n# Filter by ANOVA (p > 0.001)\\ndf_nodes_anova_filter = df_nodes_anova[df_nodes_anova[\"p-value\"] > 0.001]\\ndf_nodes_anova_filter\\nnodes = list(df_nodes_anova_filter.index)\\ndf_nodes_anova_filter '"
      ]
     },
     "execution_count": 12,
     "metadata": {},
     "output_type": "execute_result"
    },
    {
     "name": "stdout",
     "output_type": "stream",
     "text": [
      "time: 3.3 ms (started: 2023-06-05 18:52:06 -05:00)\n"
     ]
    }
   ],
   "source": [
    "# ANOVA\n",
    "\"\"\" df_nodes_anova = get_nodes_anova(G, dir, group)\n",
    "df_nodes_anova\n",
    "\n",
    "# Filter by ANOVA (p > 0.001)\n",
    "df_nodes_anova_filter = df_nodes_anova[df_nodes_anova[\"p-value\"] > 0.001]\n",
    "df_nodes_anova_filter\n",
    "nodes = list(df_nodes_anova_filter.index)\n",
    "df_nodes_anova_filter \"\"\""
   ]
  },
  {
   "cell_type": "code",
   "execution_count": 13,
   "metadata": {},
   "outputs": [
    {
     "data": {
      "text/plain": [
       "' x = df_nodes_anova[\"p-value\"]\\nplt.hist(x, bins=100)\\nplt.axvline(x=0.001, color=\"red\", lw=1)\\nl = len(df_nodes_anova) - len(df_nodes_anova_filter)\\nt = len(df_nodes_anova)\\nplt.title(\"Loss: {} of {} ({}%)\".format(l, t, round(l*100/t)))\\nplt.grid()\\nplt.show() '"
      ]
     },
     "execution_count": 13,
     "metadata": {},
     "output_type": "execute_result"
    },
    {
     "name": "stdout",
     "output_type": "stream",
     "text": [
      "time: 3.28 ms (started: 2023-06-05 18:52:06 -05:00)\n"
     ]
    }
   ],
   "source": [
    "\"\"\" x = df_nodes_anova[\"p-value\"]\n",
    "plt.hist(x, bins=100)\n",
    "plt.axvline(x=0.001, color=\"red\", lw=1)\n",
    "l = len(df_nodes_anova) - len(df_nodes_anova_filter)\n",
    "t = len(df_nodes_anova)\n",
    "plt.title(\"Loss: {} of {} ({}%)\".format(l, t, round(l*100/t)))\n",
    "plt.grid()\n",
    "plt.show() \"\"\""
   ]
  },
  {
   "cell_type": "code",
   "execution_count": 14,
   "metadata": {},
   "outputs": [
    {
     "data": {
      "text/plain": [
       "' H = G.subgraph(nodes)\\ngraph_detail(H)\\nprint(len(list(n for n in H.nodes() if H.degree(n) == 0)))\\n\\nlist_graphs.append(H.copy())\\nnx.write_gexf(H, \"{}/output_greedy/graphs_filter/greedy_{}_graph-filter-std-anova.gexf\".format(dir, group[0]))\\n\\ndf_edges_filter = nx.to_pandas_edgelist(H)\\n\\ndf_edges_filter.to_csv(\"{}/output_greedy/edges_filter/greedy_{}_edge-filter-std-anova.csv\".format(dir, group[0]), index=False)\\ndf_edges_filter '"
      ]
     },
     "execution_count": 14,
     "metadata": {},
     "output_type": "execute_result"
    },
    {
     "name": "stdout",
     "output_type": "stream",
     "text": [
      "time: 2.68 ms (started: 2023-06-05 18:52:06 -05:00)\n"
     ]
    }
   ],
   "source": [
    "\"\"\" H = G.subgraph(nodes)\n",
    "graph_detail(H)\n",
    "print(len(list(n for n in H.nodes() if H.degree(n) == 0)))\n",
    "\n",
    "list_graphs.append(H.copy())\n",
    "nx.write_gexf(H, \"{}/output_greedy/graphs_filter/greedy_{}_graph-filter-std-anova.gexf\".format(dir, group[0]))\n",
    "\n",
    "df_edges_filter = nx.to_pandas_edgelist(H)\n",
    "\n",
    "df_edges_filter.to_csv(\"{}/output_greedy/edges_filter/greedy_{}_edge-filter-std-anova.csv\".format(dir, group[0]), index=False)\n",
    "df_edges_filter \"\"\""
   ]
  },
  {
   "attachments": {},
   "cell_type": "markdown",
   "metadata": {},
   "source": [
    "### ANOVA-STD"
   ]
  },
  {
   "attachments": {},
   "cell_type": "markdown",
   "metadata": {},
   "source": [
    "ANOVA"
   ]
  },
  {
   "cell_type": "code",
   "execution_count": 15,
   "metadata": {},
   "outputs": [
    {
     "data": {
      "text/plain": [
       "' df_nodes_anova = get_nodes_anova(SG, dir, group)\\ndf_nodes_anova\\n\\n# Filter by ANOVA (p > 0.001)\\ndf_nodes_anova_filter = df_nodes_anova[df_nodes_anova[\"p-value\"] > 0.001]\\ndf_nodes_anova_filter\\nnodes = list(df_nodes_anova_filter.index)\\ndf_nodes_anova_filter '"
      ]
     },
     "execution_count": 15,
     "metadata": {},
     "output_type": "execute_result"
    },
    {
     "name": "stdout",
     "output_type": "stream",
     "text": [
      "time: 3.9 ms (started: 2023-06-05 18:52:07 -05:00)\n"
     ]
    }
   ],
   "source": [
    "# ANOVA\n",
    "\"\"\" df_nodes_anova = get_nodes_anova(SG, dir, group)\n",
    "df_nodes_anova\n",
    "\n",
    "# Filter by ANOVA (p > 0.001)\n",
    "df_nodes_anova_filter = df_nodes_anova[df_nodes_anova[\"p-value\"] > 0.001]\n",
    "df_nodes_anova_filter\n",
    "nodes = list(df_nodes_anova_filter.index)\n",
    "df_nodes_anova_filter \"\"\""
   ]
  },
  {
   "cell_type": "code",
   "execution_count": 16,
   "metadata": {},
   "outputs": [
    {
     "data": {
      "text/plain": [
       "' x = df_nodes_anova[\"p-value\"]\\nplt.hist(x, bins=100)\\nplt.axvline(x=0.001, color=\"red\", lw=1)\\nl = len(df_nodes_anova) - len(df_nodes_anova_filter)\\nt = len(df_nodes_anova)\\nplt.title(\"Loss: {} of {} ({}%)\".format(l, t, round(l*100/t)))\\nplt.grid()\\nplt.show() '"
      ]
     },
     "execution_count": 16,
     "metadata": {},
     "output_type": "execute_result"
    },
    {
     "name": "stdout",
     "output_type": "stream",
     "text": [
      "time: 4 ms (started: 2023-06-05 18:52:07 -05:00)\n"
     ]
    }
   ],
   "source": [
    "\"\"\" x = df_nodes_anova[\"p-value\"]\n",
    "plt.hist(x, bins=100)\n",
    "plt.axvline(x=0.001, color=\"red\", lw=1)\n",
    "l = len(df_nodes_anova) - len(df_nodes_anova_filter)\n",
    "t = len(df_nodes_anova)\n",
    "plt.title(\"Loss: {} of {} ({}%)\".format(l, t, round(l*100/t)))\n",
    "plt.grid()\n",
    "plt.show() \"\"\""
   ]
  },
  {
   "cell_type": "code",
   "execution_count": 17,
   "metadata": {},
   "outputs": [
    {
     "name": "stdout",
     "output_type": "stream",
     "text": [
      "time: 392 µs (started: 2023-06-05 18:52:07 -05:00)\n"
     ]
    }
   ],
   "source": [
    "# H = SG.subgraph(nodes)"
   ]
  },
  {
   "cell_type": "code",
   "execution_count": 18,
   "metadata": {},
   "outputs": [
    {
     "data": {
      "text/plain": [
       "' df_edges_filter = nx.to_pandas_edgelist(H)\\ndf_edges_filter.to_csv(\"{}/output_greedy/edges_filter/greedy_{}_edge-filter-anova.csv\".format(dir, group[0]), index=False)\\ndf_edges_filter '"
      ]
     },
     "execution_count": 18,
     "metadata": {},
     "output_type": "execute_result"
    },
    {
     "name": "stdout",
     "output_type": "stream",
     "text": [
      "time: 3.33 ms (started: 2023-06-05 18:52:07 -05:00)\n"
     ]
    }
   ],
   "source": [
    "\"\"\" df_edges_filter = nx.to_pandas_edgelist(H)\n",
    "df_edges_filter.to_csv(\"{}/output_greedy/edges_filter/greedy_{}_edge-filter-anova.csv\".format(dir, group[0]), index=False)\n",
    "df_edges_filter \"\"\""
   ]
  },
  {
   "cell_type": "code",
   "execution_count": 19,
   "metadata": {},
   "outputs": [
    {
     "data": {
      "text/plain": [
       "' H = nx.from_pandas_edgelist(df_edges_filter, \"source\", \"target\")\\ngraph_detail(H)\\n\\nlist_graphs.append(H.copy())\\nnx.write_gexf(H, \"{}/output_greedy/graphs_filter/greedy_{}_graph-filter-anova.gexf\".format(dir, group[0])) '"
      ]
     },
     "execution_count": 19,
     "metadata": {},
     "output_type": "execute_result"
    },
    {
     "name": "stdout",
     "output_type": "stream",
     "text": [
      "time: 2.56 ms (started: 2023-06-05 18:52:07 -05:00)\n"
     ]
    }
   ],
   "source": [
    "\"\"\" H = nx.from_pandas_edgelist(df_edges_filter, \"source\", \"target\")\n",
    "graph_detail(H)\n",
    "\n",
    "list_graphs.append(H.copy())\n",
    "nx.write_gexf(H, \"{}/output_greedy/graphs_filter/greedy_{}_graph-filter-anova.gexf\".format(dir, group[0])) \"\"\""
   ]
  },
  {
   "attachments": {},
   "cell_type": "markdown",
   "metadata": {},
   "source": [
    "STD"
   ]
  },
  {
   "cell_type": "code",
   "execution_count": 20,
   "metadata": {},
   "outputs": [
    {
     "data": {
      "text/plain": [
       "' df_edges_std = get_edges_std(H, dir, group, subgroups, ddof=0)\\ndf_edges_std\\n\\n# Filter by std (std < 0.3)\\ndf_edges_std_filter = df_edges_std[df_edges_std[\"std\"] < 0.3]\\ndf_edges_std_filter '"
      ]
     },
     "execution_count": 20,
     "metadata": {},
     "output_type": "execute_result"
    },
    {
     "name": "stdout",
     "output_type": "stream",
     "text": [
      "time: 2.74 ms (started: 2023-06-05 18:52:07 -05:00)\n"
     ]
    }
   ],
   "source": [
    "# STD\n",
    "\"\"\" df_edges_std = get_edges_std(H, dir, group, subgroups, ddof=0)\n",
    "df_edges_std\n",
    "\n",
    "# Filter by std (std < 0.3)\n",
    "df_edges_std_filter = df_edges_std[df_edges_std[\"std\"] < 0.3]\n",
    "df_edges_std_filter \"\"\""
   ]
  },
  {
   "cell_type": "code",
   "execution_count": 21,
   "metadata": {},
   "outputs": [
    {
     "data": {
      "text/plain": [
       "' x = df_edges_std[\"std\"]\\nplt.hist(x, bins=100)\\nplt.axvline(x=0.3, color=\"red\", lw=1)\\nl = len(df_edges_std) - len(df_edges_std_filter)\\nt = len(df_edges_std)\\nplt.title(\"Loss: {} of {} ({}%)\".format(l, t, round(l*100/t)))\\nplt.grid()\\nplt.show() '"
      ]
     },
     "execution_count": 21,
     "metadata": {},
     "output_type": "execute_result"
    },
    {
     "name": "stdout",
     "output_type": "stream",
     "text": [
      "time: 3.31 ms (started: 2023-06-05 18:52:07 -05:00)\n"
     ]
    }
   ],
   "source": [
    "\"\"\" x = df_edges_std[\"std\"]\n",
    "plt.hist(x, bins=100)\n",
    "plt.axvline(x=0.3, color=\"red\", lw=1)\n",
    "l = len(df_edges_std) - len(df_edges_std_filter)\n",
    "t = len(df_edges_std)\n",
    "plt.title(\"Loss: {} of {} ({}%)\".format(l, t, round(l*100/t)))\n",
    "plt.grid()\n",
    "plt.show() \"\"\""
   ]
  },
  {
   "cell_type": "code",
   "execution_count": 22,
   "metadata": {},
   "outputs": [
    {
     "data": {
      "text/plain": [
       "' G = nx.from_pandas_edgelist(df_edges_std_filter, \"source\", \"target\", edge_attr=[\"weight\"])\\ngraph_detail(G)\\n\\nlist_graphs.append(G.copy())\\nnx.write_gexf(G, \"{}/output_greedy/graphs_filter/greedy_{}_graph-filter-anova-std.gexf\".format(dir, group[0])) '"
      ]
     },
     "execution_count": 22,
     "metadata": {},
     "output_type": "execute_result"
    },
    {
     "name": "stdout",
     "output_type": "stream",
     "text": [
      "time: 3.13 ms (started: 2023-06-05 18:52:07 -05:00)\n"
     ]
    }
   ],
   "source": [
    "\"\"\" G = nx.from_pandas_edgelist(df_edges_std_filter, \"source\", \"target\", edge_attr=[\"weight\"])\n",
    "graph_detail(G)\n",
    "\n",
    "list_graphs.append(G.copy())\n",
    "nx.write_gexf(G, \"{}/output_greedy/graphs_filter/greedy_{}_graph-filter-anova-std.gexf\".format(dir, group[0])) \"\"\""
   ]
  },
  {
   "cell_type": "code",
   "execution_count": 23,
   "metadata": {},
   "outputs": [
    {
     "data": {
      "text/plain": [
       "' df_edges_filter = nx.to_pandas_edgelist(G)\\ndf_edges_filter.to_csv(\"{}/output_greedy/edges_filter/greedy_{}_edge-filter-anova-std.csv\".format(dir, group[0]), index=False)\\ndf_edges_filter '"
      ]
     },
     "execution_count": 23,
     "metadata": {},
     "output_type": "execute_result"
    },
    {
     "name": "stdout",
     "output_type": "stream",
     "text": [
      "time: 2.46 ms (started: 2023-06-05 18:52:07 -05:00)\n"
     ]
    }
   ],
   "source": [
    "\"\"\" df_edges_filter = nx.to_pandas_edgelist(G)\n",
    "df_edges_filter.to_csv(\"{}/output_greedy/edges_filter/greedy_{}_edge-filter-anova-std.csv\".format(dir, group[0]), index=False)\n",
    "df_edges_filter \"\"\""
   ]
  },
  {
   "attachments": {},
   "cell_type": "markdown",
   "metadata": {},
   "source": [
    "### Results"
   ]
  },
  {
   "cell_type": "code",
   "execution_count": 24,
   "metadata": {},
   "outputs": [
    {
     "data": {
      "text/plain": [
       "' for graph in list_graphs:\\n    graph_detail(graph) '"
      ]
     },
     "execution_count": 24,
     "metadata": {},
     "output_type": "execute_result"
    },
    {
     "name": "stdout",
     "output_type": "stream",
     "text": [
      "time: 3.07 ms (started: 2023-06-05 18:52:07 -05:00)\n"
     ]
    }
   ],
   "source": [
    "\"\"\" for graph in list_graphs:\n",
    "    graph_detail(graph) \"\"\""
   ]
  }
 ],
 "metadata": {
  "kernelspec": {
   "display_name": "Python 3 (ipykernel)",
   "language": "python",
   "name": "python3"
  },
  "language_info": {
   "codemirror_mode": {
    "name": "ipython",
    "version": 3
   },
   "file_extension": ".py",
   "mimetype": "text/x-python",
   "name": "python",
   "nbconvert_exporter": "python",
   "pygments_lexer": "ipython3",
   "version": "3.10.11"
  },
  "orig_nbformat": 4
 },
 "nbformat": 4,
 "nbformat_minor": 2
}
