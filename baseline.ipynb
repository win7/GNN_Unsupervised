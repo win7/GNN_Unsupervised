{
 "cells": [
  {
   "attachments": {},
   "cell_type": "markdown",
   "metadata": {},
   "source": [
    "### Imports"
   ]
  },
  {
   "cell_type": "code",
   "execution_count": 1,
   "metadata": {
    "tags": []
   },
   "outputs": [
    {
     "name": "stderr",
     "output_type": "stream",
     "text": [
      "/home/ealvarez/miniconda3/envs/Conda_dgl_3.10/lib/python3.10/site-packages/umap/distances.py:1063: NumbaDeprecationWarning: The 'nopython' keyword argument was not supplied to the 'numba.jit' decorator. The implicit default value for this argument is currently False, but it will be changed to True in Numba 0.59.0. See https://numba.readthedocs.io/en/stable/reference/deprecation.html#deprecation-of-object-mode-fall-back-behaviour-when-using-jit for details.\n",
      "  @numba.jit()\n",
      "/home/ealvarez/miniconda3/envs/Conda_dgl_3.10/lib/python3.10/site-packages/umap/distances.py:1071: NumbaDeprecationWarning: The 'nopython' keyword argument was not supplied to the 'numba.jit' decorator. The implicit default value for this argument is currently False, but it will be changed to True in Numba 0.59.0. See https://numba.readthedocs.io/en/stable/reference/deprecation.html#deprecation-of-object-mode-fall-back-behaviour-when-using-jit for details.\n",
      "  @numba.jit()\n",
      "/home/ealvarez/miniconda3/envs/Conda_dgl_3.10/lib/python3.10/site-packages/umap/distances.py:1086: NumbaDeprecationWarning: The 'nopython' keyword argument was not supplied to the 'numba.jit' decorator. The implicit default value for this argument is currently False, but it will be changed to True in Numba 0.59.0. See https://numba.readthedocs.io/en/stable/reference/deprecation.html#deprecation-of-object-mode-fall-back-behaviour-when-using-jit for details.\n",
      "  @numba.jit()\n",
      "/home/ealvarez/miniconda3/envs/Conda_dgl_3.10/lib/python3.10/site-packages/umap/umap_.py:660: NumbaDeprecationWarning: The 'nopython' keyword argument was not supplied to the 'numba.jit' decorator. The implicit default value for this argument is currently False, but it will be changed to True in Numba 0.59.0. See https://numba.readthedocs.io/en/stable/reference/deprecation.html#deprecation-of-object-mode-fall-back-behaviour-when-using-jit for details.\n",
      "  @numba.jit()\n"
     ]
    },
    {
     "name": "stdout",
     "output_type": "stream",
     "text": [
      "time: 175 µs (started: 2023-05-31 12:29:13 -05:00)\n"
     ]
    }
   ],
   "source": [
    "from mpl_toolkits import mplot3d\n",
    "from sklearn.metrics import silhouette_score\n",
    "from sklearn.model_selection import RandomizedSearchCV\n",
    "from tqdm import tqdm\n",
    "from utils.utils import *\n",
    "\n",
    "import hdbscan\n",
    "import matplotlib.pyplot as plt\n",
    "import networkx as nx\n",
    "import numpy as np\n",
    "import os\n",
    "import pandas as pd\n",
    "import sys\n",
    "\n",
    "%load_ext autotime"
   ]
  },
  {
   "attachments": {},
   "cell_type": "markdown",
   "metadata": {},
   "source": [
    "### Parameters"
   ]
  },
  {
   "cell_type": "code",
   "execution_count": 2,
   "metadata": {},
   "outputs": [
    {
     "name": "stdout",
     "output_type": "stream",
     "text": [
      "/home/ealvarez/Project/GNN_Filter\n",
      "Method:\t\t dgi\n",
      "Group:\t\t ['WT', 5]\n",
      "Subgroup:\t ['1', '2', '3', '4', '5']\n",
      "Dimensions:\t [3]\n",
      "time: 1.41 ms (started: 2023-05-31 12:29:13 -05:00)\n"
     ]
    }
   ],
   "source": [
    "import json\n",
    "  \n",
    "# Opening JSON file\n",
    "file = open(\"parameters.json\")\n",
    "params = json.load(file)\n",
    "\n",
    "dir = os.path.dirname(os.getcwd())\n",
    "print(dir)\n",
    "\n",
    "method = params[\"method\"][params[\"method_idx\"]]\n",
    "print(\"Method:\\t\\t\", method)\n",
    "\n",
    "group = params[\"group\"][params[\"group_idx\"]]\n",
    "print(\"Group:\\t\\t\", group)\n",
    "\n",
    "subgroups = [str(k + 1) for k in range(group[1])]\n",
    "print(\"Subgroup:\\t\", subgroups)\n",
    "\n",
    "dimensions = params[\"dimensions\"]\n",
    "dimension = dimensions[0]\n",
    "print(\"Dimensions:\\t\", dimensions)"
   ]
  },
  {
   "cell_type": "code",
   "execution_count": 3,
   "metadata": {},
   "outputs": [
    {
     "name": "stdout",
     "output_type": "stream",
     "text": [
      "time: 609 µs (started: 2023-05-31 12:29:13 -05:00)\n"
     ]
    }
   ],
   "source": [
    "list_graphs = []"
   ]
  },
  {
   "attachments": {},
   "cell_type": "markdown",
   "metadata": {},
   "source": [
    "### Get common subgraphs"
   ]
  },
  {
   "cell_type": "code",
   "execution_count": 4,
   "metadata": {},
   "outputs": [
    {
     "name": "stderr",
     "output_type": "stream",
     "text": [
      " 20%|██        | 1/5 [00:03<00:12,  3.04s/it]"
     ]
    },
    {
     "name": "stdout",
     "output_type": "stream",
     "text": [
      "Num. nodes: 6234\n",
      "Num. edges: 1243057\n",
      "\n"
     ]
    },
    {
     "name": "stderr",
     "output_type": "stream",
     "text": [
      " 40%|████      | 2/5 [00:05<00:07,  2.54s/it]"
     ]
    },
    {
     "name": "stdout",
     "output_type": "stream",
     "text": [
      "Num. nodes: 6231\n",
      "Num. edges: 939038\n",
      "\n"
     ]
    },
    {
     "name": "stderr",
     "output_type": "stream",
     "text": [
      " 60%|██████    | 3/5 [00:10<00:07,  3.83s/it]"
     ]
    },
    {
     "name": "stdout",
     "output_type": "stream",
     "text": [
      "Num. nodes: 6233\n",
      "Num. edges: 2252847\n",
      "\n"
     ]
    },
    {
     "name": "stderr",
     "output_type": "stream",
     "text": [
      " 80%|████████  | 4/5 [00:19<00:05,  5.90s/it]"
     ]
    },
    {
     "name": "stdout",
     "output_type": "stream",
     "text": [
      "Num. nodes: 6226\n",
      "Num. edges: 3728175\n",
      "\n"
     ]
    },
    {
     "name": "stderr",
     "output_type": "stream",
     "text": [
      "100%|██████████| 5/5 [00:30<00:00,  6.00s/it]"
     ]
    },
    {
     "name": "stdout",
     "output_type": "stream",
     "text": [
      "Num. nodes: 6226\n",
      "Num. edges: 4071713\n",
      "\n",
      "time: 30 s (started: 2023-05-31 12:29:13 -05:00)\n"
     ]
    },
    {
     "name": "stderr",
     "output_type": "stream",
     "text": [
      "\n"
     ]
    }
   ],
   "source": [
    "graphs = []\n",
    "for item in tqdm(subgroups):\n",
    "    weighted_edges = pd.read_csv(\"{}/output_preprocessing/edges/{}_edges_{}.csv\".format(dir, group[0], item))\n",
    "    G = nx.from_pandas_edgelist(weighted_edges, \"source\", \"target\", edge_attr=\"weight\")\n",
    "    graph_detail(G)\n",
    "    graphs.append(G)"
   ]
  },
  {
   "cell_type": "code",
   "execution_count": 5,
   "metadata": {},
   "outputs": [
    {
     "name": "stderr",
     "output_type": "stream",
     "text": [
      "100%|██████████| 4/4 [00:00<00:00, 487.12it/s]\n",
      "100%|██████████| 4/4 [00:38<00:00,  9.66s/it]\n"
     ]
    },
    {
     "name": "stdout",
     "output_type": "stream",
     "text": [
      "Num. nodes: 4202\n",
      "Num. edges: 135076\n",
      "\n",
      "time: 49.6 s (started: 2023-05-31 12:29:43 -05:00)\n"
     ]
    }
   ],
   "source": [
    "SG = get_subgraphs(graphs)\n",
    "graph_detail(SG)\n",
    "\n",
    "list_graphs.append(SG.copy())\n",
    "nx.write_gexf(SG, \"{}/output_greedy/graphs_filter/greedy_{}_graph-filter.gexf\".format(dir, group[0]))"
   ]
  },
  {
   "cell_type": "code",
   "execution_count": 6,
   "metadata": {},
   "outputs": [
    {
     "data": {
      "text/html": [
       "<div>\n",
       "<style scoped>\n",
       "    .dataframe tbody tr th:only-of-type {\n",
       "        vertical-align: middle;\n",
       "    }\n",
       "\n",
       "    .dataframe tbody tr th {\n",
       "        vertical-align: top;\n",
       "    }\n",
       "\n",
       "    .dataframe thead th {\n",
       "        text-align: right;\n",
       "    }\n",
       "</style>\n",
       "<table border=\"1\" class=\"dataframe\">\n",
       "  <thead>\n",
       "    <tr style=\"text-align: right;\">\n",
       "      <th></th>\n",
       "      <th>source</th>\n",
       "      <th>target</th>\n",
       "    </tr>\n",
       "  </thead>\n",
       "  <tbody>\n",
       "    <tr>\n",
       "      <th>0</th>\n",
       "      <td>243.0404</td>\n",
       "      <td>267.1048</td>\n",
       "    </tr>\n",
       "    <tr>\n",
       "      <th>1</th>\n",
       "      <td>243.0404</td>\n",
       "      <td>401.2187</td>\n",
       "    </tr>\n",
       "    <tr>\n",
       "      <th>2</th>\n",
       "      <td>243.0404</td>\n",
       "      <td>661.3471</td>\n",
       "    </tr>\n",
       "    <tr>\n",
       "      <th>3</th>\n",
       "      <td>243.0404</td>\n",
       "      <td>267.0965</td>\n",
       "    </tr>\n",
       "    <tr>\n",
       "      <th>4</th>\n",
       "      <td>243.0404</td>\n",
       "      <td>416.1414</td>\n",
       "    </tr>\n",
       "    <tr>\n",
       "      <th>...</th>\n",
       "      <td>...</td>\n",
       "      <td>...</td>\n",
       "    </tr>\n",
       "    <tr>\n",
       "      <th>135071</th>\n",
       "      <td>579.4245</td>\n",
       "      <td>579.4980</td>\n",
       "    </tr>\n",
       "    <tr>\n",
       "      <th>135072</th>\n",
       "      <td>663.3295</td>\n",
       "      <td>663.3449</td>\n",
       "    </tr>\n",
       "    <tr>\n",
       "      <th>135073</th>\n",
       "      <td>226.0573</td>\n",
       "      <td>226.0718</td>\n",
       "    </tr>\n",
       "    <tr>\n",
       "      <th>135074</th>\n",
       "      <td>412.8122</td>\n",
       "      <td>412.8271</td>\n",
       "    </tr>\n",
       "    <tr>\n",
       "      <th>135075</th>\n",
       "      <td>743.1668</td>\n",
       "      <td>743.1873</td>\n",
       "    </tr>\n",
       "  </tbody>\n",
       "</table>\n",
       "<p>135076 rows × 2 columns</p>\n",
       "</div>"
      ],
      "text/plain": [
       "          source    target\n",
       "0       243.0404  267.1048\n",
       "1       243.0404  401.2187\n",
       "2       243.0404  661.3471\n",
       "3       243.0404  267.0965\n",
       "4       243.0404  416.1414\n",
       "...          ...       ...\n",
       "135071  579.4245  579.4980\n",
       "135072  663.3295  663.3449\n",
       "135073  226.0573  226.0718\n",
       "135074  412.8122  412.8271\n",
       "135075  743.1668  743.1873\n",
       "\n",
       "[135076 rows x 2 columns]"
      ]
     },
     "execution_count": 6,
     "metadata": {},
     "output_type": "execute_result"
    },
    {
     "name": "stdout",
     "output_type": "stream",
     "text": [
      "time: 98.8 ms (started: 2023-05-31 12:30:33 -05:00)\n"
     ]
    }
   ],
   "source": [
    "df_edges_subgraph = pd.DataFrame(SG.edges())\n",
    "df_edges_subgraph.columns = [\"source\", \"target\"]\n",
    "df_edges_subgraph"
   ]
  },
  {
   "attachments": {},
   "cell_type": "markdown",
   "metadata": {},
   "source": [
    "### Calculate ANOVA (nodes)"
   ]
  },
  {
   "cell_type": "code",
   "execution_count": 7,
   "metadata": {},
   "outputs": [
    {
     "data": {
      "text/plain": [
       "' df_nodes_anova = get_nodes_anova(SG, dir, group)\\ndf_nodes_anova\\n\\n# Filter by ANOVA (p > 0.001)\\ndf_nodes_anova_filter = df_nodes_anova[df_nodes_anova[\"p-value\"] > 0.001]\\ndf_nodes_anova_filter\\nnodes = list(df_nodes_anova_filter.index)\\nlen(nodes) '"
      ]
     },
     "execution_count": 7,
     "metadata": {},
     "output_type": "execute_result"
    },
    {
     "name": "stdout",
     "output_type": "stream",
     "text": [
      "time: 1.94 ms (started: 2023-05-31 12:30:33 -05:00)\n"
     ]
    }
   ],
   "source": [
    "\"\"\" df_nodes_anova = get_nodes_anova(SG, dir, group)\n",
    "df_nodes_anova\n",
    "\n",
    "# Filter by ANOVA (p > 0.001)\n",
    "df_nodes_anova_filter = df_nodes_anova[df_nodes_anova[\"p-value\"] > 0.001]\n",
    "df_nodes_anova_filter\n",
    "nodes = list(df_nodes_anova_filter.index)\n",
    "len(nodes) \"\"\""
   ]
  },
  {
   "attachments": {},
   "cell_type": "markdown",
   "metadata": {},
   "source": [
    "### Calculate STD (edges)"
   ]
  },
  {
   "cell_type": "code",
   "execution_count": 8,
   "metadata": {},
   "outputs": [
    {
     "data": {
      "text/plain": [
       "' df_edges_std = get_edges_std(SG, dir, group, subgroups)\\ndf_edges_std\\n\\n# Filter by std (std <= 0.3)\\ndf_edges_std_filter = df_edges_std[df_edges_std[\"std\"] <= 0.3]\\ndf_edges_std_filter '"
      ]
     },
     "execution_count": 8,
     "metadata": {},
     "output_type": "execute_result"
    },
    {
     "name": "stdout",
     "output_type": "stream",
     "text": [
      "time: 1.69 ms (started: 2023-05-31 12:30:33 -05:00)\n"
     ]
    }
   ],
   "source": [
    "\"\"\" df_edges_std = get_edges_std(SG, dir, group, subgroups)\n",
    "df_edges_std\n",
    "\n",
    "# Filter by std (std <= 0.3)\n",
    "df_edges_std_filter = df_edges_std[df_edges_std[\"std\"] <= 0.3]\n",
    "df_edges_std_filter \"\"\""
   ]
  },
  {
   "attachments": {},
   "cell_type": "markdown",
   "metadata": {},
   "source": [
    "---"
   ]
  },
  {
   "attachments": {},
   "cell_type": "markdown",
   "metadata": {},
   "source": [
    "### STD-ANOVA"
   ]
  },
  {
   "cell_type": "code",
   "execution_count": 9,
   "metadata": {},
   "outputs": [
    {
     "name": "stderr",
     "output_type": "stream",
     "text": [
      " 80%|████████  | 4/5 [00:11<00:03,  3.62s/it]"
     ]
    }
   ],
   "source": [
    "# STD\n",
    "df_edges_std = get_edges_std(SG, dir, group, subgroups, ddof=0)\n",
    "df_edges_std\n",
    "\n",
    "# Filter by std (std < 0.3)\n",
    "df_edges_std_filter = df_edges_std[df_edges_std[\"std\"] < 0.3]\n",
    "df_edges_std_filter"
   ]
  },
  {
   "cell_type": "code",
   "execution_count": null,
   "metadata": {},
   "outputs": [
    {
     "name": "stdout",
     "output_type": "stream",
     "text": [
      "Num. nodes: 5677\n",
      "Num. edges: 732148\n",
      "\n",
      "time: 16.1 s (started: 2023-05-29 23:56:47 -05:00)\n"
     ]
    }
   ],
   "source": [
    "G = nx.from_pandas_edgelist(df_edges_std_filter, \"source\", \"target\", edge_attr=[\"weight\"])\n",
    "graph_detail(G)\n",
    "\n",
    "list_graphs.append(G.copy())\n",
    "nx.write_gexf(G, \"{}/output_greedy/graphs_filter/greedy_{}_graph-filter-std.gexf\".format(dir, group[0]))"
   ]
  },
  {
   "cell_type": "code",
   "execution_count": null,
   "metadata": {},
   "outputs": [
    {
     "data": {
      "text/html": [
       "<div>\n",
       "<style scoped>\n",
       "    .dataframe tbody tr th:only-of-type {\n",
       "        vertical-align: middle;\n",
       "    }\n",
       "\n",
       "    .dataframe tbody tr th {\n",
       "        vertical-align: top;\n",
       "    }\n",
       "\n",
       "    .dataframe thead th {\n",
       "        text-align: right;\n",
       "    }\n",
       "</style>\n",
       "<table border=\"1\" class=\"dataframe\">\n",
       "  <thead>\n",
       "    <tr style=\"text-align: right;\">\n",
       "      <th></th>\n",
       "      <th>source</th>\n",
       "      <th>target</th>\n",
       "      <th>weight</th>\n",
       "    </tr>\n",
       "  </thead>\n",
       "  <tbody>\n",
       "    <tr>\n",
       "      <th>0</th>\n",
       "      <td>59.0137</td>\n",
       "      <td>59.0291</td>\n",
       "      <td>0.974889</td>\n",
       "    </tr>\n",
       "    <tr>\n",
       "      <th>1</th>\n",
       "      <td>59.0137</td>\n",
       "      <td>59.0370</td>\n",
       "      <td>0.740804</td>\n",
       "    </tr>\n",
       "    <tr>\n",
       "      <th>2</th>\n",
       "      <td>59.0137</td>\n",
       "      <td>60.0171</td>\n",
       "      <td>0.801043</td>\n",
       "    </tr>\n",
       "    <tr>\n",
       "      <th>3</th>\n",
       "      <td>59.0137</td>\n",
       "      <td>61.9884</td>\n",
       "      <td>0.684453</td>\n",
       "    </tr>\n",
       "    <tr>\n",
       "      <th>4</th>\n",
       "      <td>59.0137</td>\n",
       "      <td>71.0139</td>\n",
       "      <td>0.681361</td>\n",
       "    </tr>\n",
       "    <tr>\n",
       "      <th>...</th>\n",
       "      <td>...</td>\n",
       "      <td>...</td>\n",
       "      <td>...</td>\n",
       "    </tr>\n",
       "    <tr>\n",
       "      <th>732143</th>\n",
       "      <td>978.3602</td>\n",
       "      <td>978.3779</td>\n",
       "      <td>0.682080</td>\n",
       "    </tr>\n",
       "    <tr>\n",
       "      <th>732144</th>\n",
       "      <td>978.4185</td>\n",
       "      <td>978.6600</td>\n",
       "      <td>0.754314</td>\n",
       "    </tr>\n",
       "    <tr>\n",
       "      <th>732145</th>\n",
       "      <td>979.8201</td>\n",
       "      <td>979.8546</td>\n",
       "      <td>0.664992</td>\n",
       "    </tr>\n",
       "    <tr>\n",
       "      <th>732146</th>\n",
       "      <td>979.8546</td>\n",
       "      <td>979.9144</td>\n",
       "      <td>0.614228</td>\n",
       "    </tr>\n",
       "    <tr>\n",
       "      <th>732147</th>\n",
       "      <td>980.0763</td>\n",
       "      <td>980.0986</td>\n",
       "      <td>0.704524</td>\n",
       "    </tr>\n",
       "  </tbody>\n",
       "</table>\n",
       "<p>732148 rows × 3 columns</p>\n",
       "</div>"
      ],
      "text/plain": [
       "          source    target    weight\n",
       "0        59.0137   59.0291  0.974889\n",
       "1        59.0137   59.0370  0.740804\n",
       "2        59.0137   60.0171  0.801043\n",
       "3        59.0137   61.9884  0.684453\n",
       "4        59.0137   71.0139  0.681361\n",
       "...          ...       ...       ...\n",
       "732143  978.3602  978.3779  0.682080\n",
       "732144  978.4185  978.6600  0.754314\n",
       "732145  979.8201  979.8546  0.664992\n",
       "732146  979.8546  979.9144  0.614228\n",
       "732147  980.0763  980.0986  0.704524\n",
       "\n",
       "[732148 rows x 3 columns]"
      ]
     },
     "execution_count": 74,
     "metadata": {},
     "output_type": "execute_result"
    },
    {
     "name": "stdout",
     "output_type": "stream",
     "text": [
      "time: 8.88 s (started: 2023-05-29 23:57:03 -05:00)\n"
     ]
    }
   ],
   "source": [
    "df_edges_filter = nx.to_pandas_edgelist(G)\n",
    "df_edges_filter.to_csv(\"{}/output_greedy/edges_filter/greedy_{}_edge-filter-std.csv\".format(dir, group[0]), index=False)\n",
    "df_edges_filter"
   ]
  },
  {
   "cell_type": "code",
   "execution_count": null,
   "metadata": {},
   "outputs": [
    {
     "name": "stdout",
     "output_type": "stream",
     "text": [
      "time: 10.2 s (started: 2023-05-29 23:57:12 -05:00)\n"
     ]
    }
   ],
   "source": [
    "# ANOVA\n",
    "df_nodes_anova = get_nodes_anova(G, dir, group)\n",
    "df_nodes_anova\n",
    "\n",
    "# Filter by ANOVA (p > 0.001)\n",
    "df_nodes_anova_filter = df_nodes_anova[df_nodes_anova[\"p-value\"] > 0.001]\n",
    "df_nodes_anova_filter\n",
    "nodes = list(df_nodes_anova_filter.index)"
   ]
  },
  {
   "cell_type": "code",
   "execution_count": null,
   "metadata": {},
   "outputs": [
    {
     "name": "stdout",
     "output_type": "stream",
     "text": [
      "Num. nodes: 4691\n",
      "Num. edges: 473180\n",
      "\n",
      "40\n"
     ]
    },
    {
     "data": {
      "text/html": [
       "<div>\n",
       "<style scoped>\n",
       "    .dataframe tbody tr th:only-of-type {\n",
       "        vertical-align: middle;\n",
       "    }\n",
       "\n",
       "    .dataframe tbody tr th {\n",
       "        vertical-align: top;\n",
       "    }\n",
       "\n",
       "    .dataframe thead th {\n",
       "        text-align: right;\n",
       "    }\n",
       "</style>\n",
       "<table border=\"1\" class=\"dataframe\">\n",
       "  <thead>\n",
       "    <tr style=\"text-align: right;\">\n",
       "      <th></th>\n",
       "      <th>source</th>\n",
       "      <th>target</th>\n",
       "      <th>weight</th>\n",
       "    </tr>\n",
       "  </thead>\n",
       "  <tbody>\n",
       "    <tr>\n",
       "      <th>0</th>\n",
       "      <td>59.0137</td>\n",
       "      <td>59.0291</td>\n",
       "      <td>0.974889</td>\n",
       "    </tr>\n",
       "    <tr>\n",
       "      <th>1</th>\n",
       "      <td>59.0137</td>\n",
       "      <td>59.0370</td>\n",
       "      <td>0.740804</td>\n",
       "    </tr>\n",
       "    <tr>\n",
       "      <th>2</th>\n",
       "      <td>59.0137</td>\n",
       "      <td>60.0171</td>\n",
       "      <td>0.801043</td>\n",
       "    </tr>\n",
       "    <tr>\n",
       "      <th>3</th>\n",
       "      <td>59.0137</td>\n",
       "      <td>61.9884</td>\n",
       "      <td>0.684453</td>\n",
       "    </tr>\n",
       "    <tr>\n",
       "      <th>4</th>\n",
       "      <td>59.0137</td>\n",
       "      <td>71.0139</td>\n",
       "      <td>0.681361</td>\n",
       "    </tr>\n",
       "    <tr>\n",
       "      <th>...</th>\n",
       "      <td>...</td>\n",
       "      <td>...</td>\n",
       "      <td>...</td>\n",
       "    </tr>\n",
       "    <tr>\n",
       "      <th>473175</th>\n",
       "      <td>978.3602</td>\n",
       "      <td>978.3779</td>\n",
       "      <td>0.682080</td>\n",
       "    </tr>\n",
       "    <tr>\n",
       "      <th>473176</th>\n",
       "      <td>978.4185</td>\n",
       "      <td>978.6600</td>\n",
       "      <td>0.754314</td>\n",
       "    </tr>\n",
       "    <tr>\n",
       "      <th>473177</th>\n",
       "      <td>979.8201</td>\n",
       "      <td>979.8546</td>\n",
       "      <td>0.664992</td>\n",
       "    </tr>\n",
       "    <tr>\n",
       "      <th>473178</th>\n",
       "      <td>979.8546</td>\n",
       "      <td>979.9144</td>\n",
       "      <td>0.614228</td>\n",
       "    </tr>\n",
       "    <tr>\n",
       "      <th>473179</th>\n",
       "      <td>980.0763</td>\n",
       "      <td>980.0986</td>\n",
       "      <td>0.704524</td>\n",
       "    </tr>\n",
       "  </tbody>\n",
       "</table>\n",
       "<p>473180 rows × 3 columns</p>\n",
       "</div>"
      ],
      "text/plain": [
       "          source    target    weight\n",
       "0        59.0137   59.0291  0.974889\n",
       "1        59.0137   59.0370  0.740804\n",
       "2        59.0137   60.0171  0.801043\n",
       "3        59.0137   61.9884  0.684453\n",
       "4        59.0137   71.0139  0.681361\n",
       "...          ...       ...       ...\n",
       "473175  978.3602  978.3779  0.682080\n",
       "473176  978.4185  978.6600  0.754314\n",
       "473177  979.8201  979.8546  0.664992\n",
       "473178  979.8546  979.9144  0.614228\n",
       "473179  980.0763  980.0986  0.704524\n",
       "\n",
       "[473180 rows x 3 columns]"
      ]
     },
     "execution_count": 76,
     "metadata": {},
     "output_type": "execute_result"
    },
    {
     "name": "stdout",
     "output_type": "stream",
     "text": [
      "time: 24.7 s (started: 2023-05-29 23:57:23 -05:00)\n"
     ]
    }
   ],
   "source": [
    "H = G.subgraph(nodes)\n",
    "graph_detail(H)\n",
    "print(len(list(n for n in H.nodes() if H.degree(n) == 0)))\n",
    "\n",
    "list_graphs.append(H.copy())\n",
    "nx.write_gexf(H, \"{}/output_greedy/graphs_filter/greedy_{}_graph-filter-std-anova.gexf\".format(dir, group[0]))\n",
    "\n",
    "df_edges_filter = nx.to_pandas_edgelist(H)\n",
    "\n",
    "df_edges_filter.to_csv(\"{}/output_greedy/edges_filter/greedy_{}_edge-filter-std-anova.csv\".format(dir, group[0]), index=False)\n",
    "df_edges_filter"
   ]
  },
  {
   "attachments": {},
   "cell_type": "markdown",
   "metadata": {},
   "source": [
    "### ANOVA-STD"
   ]
  },
  {
   "cell_type": "code",
   "execution_count": null,
   "metadata": {},
   "outputs": [
    {
     "name": "stdout",
     "output_type": "stream",
     "text": [
      "time: 10.1 s (started: 2023-05-29 23:57:47 -05:00)\n"
     ]
    }
   ],
   "source": [
    "# ANOVA\n",
    "df_nodes_anova = get_nodes_anova(SG, dir, group)\n",
    "df_nodes_anova\n",
    "\n",
    "# Filter by ANOVA (p > 0.001)\n",
    "df_nodes_anova_filter = df_nodes_anova[df_nodes_anova[\"p-value\"] > 0.001]\n",
    "df_nodes_anova_filter\n",
    "nodes = list(df_nodes_anova_filter.index)"
   ]
  },
  {
   "cell_type": "code",
   "execution_count": null,
   "metadata": {},
   "outputs": [
    {
     "name": "stdout",
     "output_type": "stream",
     "text": [
      "time: 3.6 ms (started: 2023-05-29 23:57:58 -05:00)\n"
     ]
    }
   ],
   "source": [
    "H = SG.subgraph(nodes)"
   ]
  },
  {
   "cell_type": "code",
   "execution_count": null,
   "metadata": {},
   "outputs": [
    {
     "data": {
      "text/html": [
       "<div>\n",
       "<style scoped>\n",
       "    .dataframe tbody tr th:only-of-type {\n",
       "        vertical-align: middle;\n",
       "    }\n",
       "\n",
       "    .dataframe tbody tr th {\n",
       "        vertical-align: top;\n",
       "    }\n",
       "\n",
       "    .dataframe thead th {\n",
       "        text-align: right;\n",
       "    }\n",
       "</style>\n",
       "<table border=\"1\" class=\"dataframe\">\n",
       "  <thead>\n",
       "    <tr style=\"text-align: right;\">\n",
       "      <th></th>\n",
       "      <th>source</th>\n",
       "      <th>target</th>\n",
       "    </tr>\n",
       "  </thead>\n",
       "  <tbody>\n",
       "    <tr>\n",
       "      <th>0</th>\n",
       "      <td>520.9177</td>\n",
       "      <td>378.7450</td>\n",
       "    </tr>\n",
       "    <tr>\n",
       "      <th>1</th>\n",
       "      <td>520.9177</td>\n",
       "      <td>397.2518</td>\n",
       "    </tr>\n",
       "    <tr>\n",
       "      <th>2</th>\n",
       "      <td>520.9177</td>\n",
       "      <td>147.0655</td>\n",
       "    </tr>\n",
       "    <tr>\n",
       "      <th>3</th>\n",
       "      <td>520.9177</td>\n",
       "      <td>241.9185</td>\n",
       "    </tr>\n",
       "    <tr>\n",
       "      <th>4</th>\n",
       "      <td>520.9177</td>\n",
       "      <td>333.2457</td>\n",
       "    </tr>\n",
       "    <tr>\n",
       "      <th>...</th>\n",
       "      <td>...</td>\n",
       "      <td>...</td>\n",
       "    </tr>\n",
       "    <tr>\n",
       "      <th>524839</th>\n",
       "      <td>455.0738</td>\n",
       "      <td>455.1677</td>\n",
       "    </tr>\n",
       "    <tr>\n",
       "      <th>524840</th>\n",
       "      <td>711.1266</td>\n",
       "      <td>711.1610</td>\n",
       "    </tr>\n",
       "    <tr>\n",
       "      <th>524841</th>\n",
       "      <td>687.0800</td>\n",
       "      <td>687.0919</td>\n",
       "    </tr>\n",
       "    <tr>\n",
       "      <th>524842</th>\n",
       "      <td>760.3625</td>\n",
       "      <td>760.3770</td>\n",
       "    </tr>\n",
       "    <tr>\n",
       "      <th>524843</th>\n",
       "      <td>609.9610</td>\n",
       "      <td>609.9771</td>\n",
       "    </tr>\n",
       "  </tbody>\n",
       "</table>\n",
       "<p>524844 rows × 2 columns</p>\n",
       "</div>"
      ],
      "text/plain": [
       "          source    target\n",
       "0       520.9177  378.7450\n",
       "1       520.9177  397.2518\n",
       "2       520.9177  147.0655\n",
       "3       520.9177  241.9185\n",
       "4       520.9177  333.2457\n",
       "...          ...       ...\n",
       "524839  455.0738  455.1677\n",
       "524840  711.1266  711.1610\n",
       "524841  687.0800  687.0919\n",
       "524842  760.3625  760.3770\n",
       "524843  609.9610  609.9771\n",
       "\n",
       "[524844 rows x 2 columns]"
      ]
     },
     "execution_count": 79,
     "metadata": {},
     "output_type": "execute_result"
    },
    {
     "name": "stdout",
     "output_type": "stream",
     "text": [
      "time: 8.52 s (started: 2023-05-29 23:57:58 -05:00)\n"
     ]
    }
   ],
   "source": [
    "df_edges_filter = nx.to_pandas_edgelist(H)\n",
    "df_edges_filter.to_csv(\"{}/output_greedy/edges_filter/greedy_{}_edge-filter-anova.csv\".format(dir, group[0]), index=False)\n",
    "df_edges_filter"
   ]
  },
  {
   "cell_type": "code",
   "execution_count": null,
   "metadata": {},
   "outputs": [
    {
     "name": "stdout",
     "output_type": "stream",
     "text": [
      "Num. nodes: 4674\n",
      "Num. edges: 524844\n",
      "\n",
      "time: 9.99 s (started: 2023-05-29 23:58:06 -05:00)\n"
     ]
    }
   ],
   "source": [
    "H = nx.from_pandas_edgelist(df_edges_filter, \"source\", \"target\")\n",
    "graph_detail(H)\n",
    "\n",
    "list_graphs.append(H.copy())\n",
    "nx.write_gexf(H, \"{}/output_greedy/graphs_filter/greedy_{}_graph-filter-anova.gexf\".format(dir, group[0]))"
   ]
  },
  {
   "cell_type": "code",
   "execution_count": null,
   "metadata": {},
   "outputs": [
    {
     "name": "stderr",
     "output_type": "stream",
     "text": [
      "100%|██████████| 2/2 [00:08<00:00,  4.10s/it]\n"
     ]
    },
    {
     "data": {
      "text/html": [
       "<div>\n",
       "<style scoped>\n",
       "    .dataframe tbody tr th:only-of-type {\n",
       "        vertical-align: middle;\n",
       "    }\n",
       "\n",
       "    .dataframe tbody tr th {\n",
       "        vertical-align: top;\n",
       "    }\n",
       "\n",
       "    .dataframe thead th {\n",
       "        text-align: right;\n",
       "    }\n",
       "</style>\n",
       "<table border=\"1\" class=\"dataframe\">\n",
       "  <thead>\n",
       "    <tr style=\"text-align: right;\">\n",
       "      <th></th>\n",
       "      <th>source</th>\n",
       "      <th>target</th>\n",
       "      <th>weight</th>\n",
       "      <th>std</th>\n",
       "    </tr>\n",
       "  </thead>\n",
       "  <tbody>\n",
       "    <tr>\n",
       "      <th>51879</th>\n",
       "      <td>59.0137</td>\n",
       "      <td>59.0291</td>\n",
       "      <td>0.974889</td>\n",
       "      <td>0.013730</td>\n",
       "    </tr>\n",
       "    <tr>\n",
       "      <th>165185</th>\n",
       "      <td>59.0137</td>\n",
       "      <td>59.0370</td>\n",
       "      <td>0.740804</td>\n",
       "      <td>0.087645</td>\n",
       "    </tr>\n",
       "    <tr>\n",
       "      <th>164684</th>\n",
       "      <td>59.0137</td>\n",
       "      <td>60.0171</td>\n",
       "      <td>0.801043</td>\n",
       "      <td>0.096319</td>\n",
       "    </tr>\n",
       "    <tr>\n",
       "      <th>36831</th>\n",
       "      <td>59.0137</td>\n",
       "      <td>61.9884</td>\n",
       "      <td>0.684453</td>\n",
       "      <td>0.095850</td>\n",
       "    </tr>\n",
       "    <tr>\n",
       "      <th>120370</th>\n",
       "      <td>59.0137</td>\n",
       "      <td>71.0139</td>\n",
       "      <td>0.681361</td>\n",
       "      <td>0.020293</td>\n",
       "    </tr>\n",
       "    <tr>\n",
       "      <th>...</th>\n",
       "      <td>...</td>\n",
       "      <td>...</td>\n",
       "      <td>...</td>\n",
       "      <td>...</td>\n",
       "    </tr>\n",
       "    <tr>\n",
       "      <th>181890</th>\n",
       "      <td>984.5048</td>\n",
       "      <td>984.7590</td>\n",
       "      <td>0.673136</td>\n",
       "      <td>0.046539</td>\n",
       "    </tr>\n",
       "    <tr>\n",
       "      <th>182021</th>\n",
       "      <td>984.7590</td>\n",
       "      <td>986.7752</td>\n",
       "      <td>0.651981</td>\n",
       "      <td>0.133005</td>\n",
       "    </tr>\n",
       "    <tr>\n",
       "      <th>182024</th>\n",
       "      <td>984.7590</td>\n",
       "      <td>987.7787</td>\n",
       "      <td>0.627558</td>\n",
       "      <td>0.088982</td>\n",
       "    </tr>\n",
       "    <tr>\n",
       "      <th>509966</th>\n",
       "      <td>985.7644</td>\n",
       "      <td>986.7752</td>\n",
       "      <td>0.581169</td>\n",
       "      <td>0.054479</td>\n",
       "    </tr>\n",
       "    <tr>\n",
       "      <th>509968</th>\n",
       "      <td>985.7644</td>\n",
       "      <td>987.7787</td>\n",
       "      <td>0.528384</td>\n",
       "      <td>0.027636</td>\n",
       "    </tr>\n",
       "  </tbody>\n",
       "</table>\n",
       "<p>473180 rows × 4 columns</p>\n",
       "</div>"
      ],
      "text/plain": [
       "          source    target    weight       std\n",
       "51879    59.0137   59.0291  0.974889  0.013730\n",
       "165185   59.0137   59.0370  0.740804  0.087645\n",
       "164684   59.0137   60.0171  0.801043  0.096319\n",
       "36831    59.0137   61.9884  0.684453  0.095850\n",
       "120370   59.0137   71.0139  0.681361  0.020293\n",
       "...          ...       ...       ...       ...\n",
       "181890  984.5048  984.7590  0.673136  0.046539\n",
       "182021  984.7590  986.7752  0.651981  0.133005\n",
       "182024  984.7590  987.7787  0.627558  0.088982\n",
       "509966  985.7644  986.7752  0.581169  0.054479\n",
       "509968  985.7644  987.7787  0.528384  0.027636\n",
       "\n",
       "[473180 rows x 4 columns]"
      ]
     },
     "execution_count": 81,
     "metadata": {},
     "output_type": "execute_result"
    },
    {
     "name": "stdout",
     "output_type": "stream",
     "text": [
      "time: 9.53 s (started: 2023-05-29 23:58:16 -05:00)\n"
     ]
    }
   ],
   "source": [
    "# STD\n",
    "df_edges_std = get_edges_std(H, dir, group, subgroups, ddof=0)\n",
    "df_edges_std\n",
    "\n",
    "# Filter by std (std < 0.3)\n",
    "df_edges_std_filter = df_edges_std[df_edges_std[\"std\"] < 0.3]\n",
    "df_edges_std_filter"
   ]
  },
  {
   "cell_type": "code",
   "execution_count": null,
   "metadata": {},
   "outputs": [
    {
     "name": "stdout",
     "output_type": "stream",
     "text": [
      "Num. nodes: 4651\n",
      "Num. edges: 473180\n",
      "\n",
      "time: 9.55 s (started: 2023-05-29 23:58:26 -05:00)\n"
     ]
    }
   ],
   "source": [
    "G = nx.from_pandas_edgelist(df_edges_std_filter, \"source\", \"target\", edge_attr=[\"weight\"])\n",
    "graph_detail(G)\n",
    "\n",
    "list_graphs.append(G.copy())\n",
    "nx.write_gexf(G, \"{}/output_greedy/graphs_filter/greedy_{}_graph-filter-anova-std.gexf\".format(dir, group[0]))"
   ]
  },
  {
   "cell_type": "code",
   "execution_count": null,
   "metadata": {},
   "outputs": [
    {
     "data": {
      "text/html": [
       "<div>\n",
       "<style scoped>\n",
       "    .dataframe tbody tr th:only-of-type {\n",
       "        vertical-align: middle;\n",
       "    }\n",
       "\n",
       "    .dataframe tbody tr th {\n",
       "        vertical-align: top;\n",
       "    }\n",
       "\n",
       "    .dataframe thead th {\n",
       "        text-align: right;\n",
       "    }\n",
       "</style>\n",
       "<table border=\"1\" class=\"dataframe\">\n",
       "  <thead>\n",
       "    <tr style=\"text-align: right;\">\n",
       "      <th></th>\n",
       "      <th>source</th>\n",
       "      <th>target</th>\n",
       "      <th>weight</th>\n",
       "    </tr>\n",
       "  </thead>\n",
       "  <tbody>\n",
       "    <tr>\n",
       "      <th>0</th>\n",
       "      <td>59.0137</td>\n",
       "      <td>59.0291</td>\n",
       "      <td>0.974889</td>\n",
       "    </tr>\n",
       "    <tr>\n",
       "      <th>1</th>\n",
       "      <td>59.0137</td>\n",
       "      <td>59.0370</td>\n",
       "      <td>0.740804</td>\n",
       "    </tr>\n",
       "    <tr>\n",
       "      <th>2</th>\n",
       "      <td>59.0137</td>\n",
       "      <td>60.0171</td>\n",
       "      <td>0.801043</td>\n",
       "    </tr>\n",
       "    <tr>\n",
       "      <th>3</th>\n",
       "      <td>59.0137</td>\n",
       "      <td>61.9884</td>\n",
       "      <td>0.684453</td>\n",
       "    </tr>\n",
       "    <tr>\n",
       "      <th>4</th>\n",
       "      <td>59.0137</td>\n",
       "      <td>71.0139</td>\n",
       "      <td>0.681361</td>\n",
       "    </tr>\n",
       "    <tr>\n",
       "      <th>...</th>\n",
       "      <td>...</td>\n",
       "      <td>...</td>\n",
       "      <td>...</td>\n",
       "    </tr>\n",
       "    <tr>\n",
       "      <th>473175</th>\n",
       "      <td>978.3602</td>\n",
       "      <td>978.3779</td>\n",
       "      <td>0.682080</td>\n",
       "    </tr>\n",
       "    <tr>\n",
       "      <th>473176</th>\n",
       "      <td>978.4185</td>\n",
       "      <td>978.6600</td>\n",
       "      <td>0.754314</td>\n",
       "    </tr>\n",
       "    <tr>\n",
       "      <th>473177</th>\n",
       "      <td>979.8201</td>\n",
       "      <td>979.8546</td>\n",
       "      <td>0.664992</td>\n",
       "    </tr>\n",
       "    <tr>\n",
       "      <th>473178</th>\n",
       "      <td>979.8546</td>\n",
       "      <td>979.9144</td>\n",
       "      <td>0.614228</td>\n",
       "    </tr>\n",
       "    <tr>\n",
       "      <th>473179</th>\n",
       "      <td>980.0763</td>\n",
       "      <td>980.0986</td>\n",
       "      <td>0.704524</td>\n",
       "    </tr>\n",
       "  </tbody>\n",
       "</table>\n",
       "<p>473180 rows × 3 columns</p>\n",
       "</div>"
      ],
      "text/plain": [
       "          source    target    weight\n",
       "0        59.0137   59.0291  0.974889\n",
       "1        59.0137   59.0370  0.740804\n",
       "2        59.0137   60.0171  0.801043\n",
       "3        59.0137   61.9884  0.684453\n",
       "4        59.0137   71.0139  0.681361\n",
       "...          ...       ...       ...\n",
       "473175  978.3602  978.3779  0.682080\n",
       "473176  978.4185  978.6600  0.754314\n",
       "473177  979.8201  979.8546  0.664992\n",
       "473178  979.8546  979.9144  0.614228\n",
       "473179  980.0763  980.0986  0.704524\n",
       "\n",
       "[473180 rows x 3 columns]"
      ]
     },
     "execution_count": 83,
     "metadata": {},
     "output_type": "execute_result"
    },
    {
     "name": "stdout",
     "output_type": "stream",
     "text": [
      "time: 7.53 s (started: 2023-05-29 23:58:36 -05:00)\n"
     ]
    }
   ],
   "source": [
    "df_edges_filter = nx.to_pandas_edgelist(G)\n",
    "df_edges_filter.to_csv(\"{}/output_greedy/edges_filter/greedy_{}_edge-filter-anova-std.csv\".format(dir, group[0]), index=False)\n",
    "df_edges_filter"
   ]
  },
  {
   "attachments": {},
   "cell_type": "markdown",
   "metadata": {},
   "source": [
    "### Results"
   ]
  },
  {
   "cell_type": "code",
   "execution_count": null,
   "metadata": {},
   "outputs": [
    {
     "name": "stdout",
     "output_type": "stream",
     "text": [
      "Num. nodes: 5710\n",
      "Num. edges: 842720\n",
      "\n",
      "Num. nodes: 5677\n",
      "Num. edges: 732148\n",
      "\n",
      "Num. nodes: 4691\n",
      "Num. edges: 473180\n",
      "\n",
      "Num. nodes: 4674\n",
      "Num. edges: 524844\n",
      "\n",
      "Num. nodes: 4651\n",
      "Num. edges: 473180\n",
      "\n",
      "time: 24.9 ms (started: 2023-05-29 23:58:43 -05:00)\n"
     ]
    }
   ],
   "source": [
    "for graph in list_graphs:\n",
    "    graph_detail(graph)"
   ]
  }
 ],
 "metadata": {
  "kernelspec": {
   "display_name": "Python 3 (ipykernel)",
   "language": "python",
   "name": "python3"
  },
  "language_info": {
   "codemirror_mode": {
    "name": "ipython",
    "version": 3
   },
   "file_extension": ".py",
   "mimetype": "text/x-python",
   "name": "python",
   "nbconvert_exporter": "python",
   "pygments_lexer": "ipython3",
   "version": "3.10.11"
  },
  "orig_nbformat": 4
 },
 "nbformat": 4,
 "nbformat_minor": 2
}
