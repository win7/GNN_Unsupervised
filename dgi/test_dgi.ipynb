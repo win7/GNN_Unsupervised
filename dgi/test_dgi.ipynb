{
 "cells": [
  {
   "attachments": {},
   "cell_type": "markdown",
   "metadata": {},
   "source": [
    "### Imports"
   ]
  },
  {
   "cell_type": "code",
   "execution_count": 10,
   "metadata": {
    "notebookRunGroups": {
     "groupValue": "12"
    }
   },
   "outputs": [
    {
     "name": "stdout",
     "output_type": "stream",
     "text": [
      "time: 1.29 ms (started: 2023-05-18 16:52:33 -05:00)\n"
     ]
    }
   ],
   "source": [
    "import argparse, time\n",
    "\n",
    "import dgl\n",
    "import networkx as nx\n",
    "import numpy as np\n",
    "import torch\n",
    "import torch.nn as nn\n",
    "import torch.nn.functional as F\n",
    "from dgi import Classifier, DGI\n",
    "from dgl import DGLGraph\n",
    "from dgl.data import load_data, register_data_args, DGLDataset\n",
    "\n",
    "import os\n"
   ]
  },
  {
   "cell_type": "code",
   "execution_count": 47,
   "metadata": {
    "notebookRunGroups": {
     "groupValue": "12"
    }
   },
   "outputs": [
    {
     "name": "stdout",
     "output_type": "stream",
     "text": [
      "The autotime extension is already loaded. To reload it, use:\n",
      "  %reload_ext autotime\n",
      "time: 1.36 ms (started: 2023-05-18 17:29:46 -05:00)\n"
     ]
    }
   ],
   "source": [
    "from tqdm import tqdm\n",
    "import pandas as pd\n",
    "\n",
    "from sklearn.metrics import silhouette_score\n",
    "from sklearn.model_selection import RandomizedSearchCV\n",
    "import hdbscan\n",
    "\n",
    "import matplotlib.pyplot as plt\n",
    "from mpl_toolkits import mplot3d\n",
    "\n",
    "%load_ext autotime"
   ]
  },
  {
   "cell_type": "code",
   "execution_count": 12,
   "metadata": {
    "notebookRunGroups": {
     "groupValue": "2"
    }
   },
   "outputs": [
    {
     "name": "stdout",
     "output_type": "stream",
     "text": [
      "time: 754 µs (started: 2023-05-18 16:52:38 -05:00)\n"
     ]
    }
   ],
   "source": [
    "import sys\n",
    "sys.path.append(\"../../\")\n",
    "\n",
    "from Utils_TM.utils import *"
   ]
  },
  {
   "cell_type": "code",
   "execution_count": 13,
   "metadata": {
    "notebookRunGroups": {
     "groupValue": "2"
    }
   },
   "outputs": [
    {
     "name": "stdout",
     "output_type": "stream",
     "text": [
      "time: 4.57 ms (started: 2023-05-18 16:52:40 -05:00)\n"
     ]
    }
   ],
   "source": [
    "torch.manual_seed(42)\n",
    "np.random.seed(42)"
   ]
  },
  {
   "cell_type": "code",
   "execution_count": 14,
   "metadata": {},
   "outputs": [
    {
     "name": "stdout",
     "output_type": "stream",
     "text": [
      "time: 540 µs (started: 2023-05-18 16:52:42 -05:00)\n"
     ]
    }
   ],
   "source": [
    "os.environ[\"DGLBACKEND\"] = \"pytorch\""
   ]
  },
  {
   "cell_type": "code",
   "execution_count": 7,
   "metadata": {
    "notebookRunGroups": {
     "groupValue": "12"
    }
   },
   "outputs": [
    {
     "name": "stdout",
     "output_type": "stream",
     "text": [
      "time: 1.17 ms (started: 2023-05-15 12:51:48 -05:00)\n"
     ]
    }
   ],
   "source": [
    "def evaluate(model, features, labels, mask):\n",
    "    model.eval()\n",
    "    with torch.no_grad():\n",
    "        logits = model(features)\n",
    "        logits = logits[mask]\n",
    "        labels = labels[mask]\n",
    "        _, indices = torch.max(logits, dim=1)\n",
    "        correct = torch.sum(indices == labels)\n",
    "        return correct.item() * 1.0 / len(labels)"
   ]
  },
  {
   "attachments": {},
   "cell_type": "markdown",
   "metadata": {},
   "source": [
    "### Test DGI"
   ]
  },
  {
   "cell_type": "code",
   "execution_count": 4,
   "metadata": {},
   "outputs": [
    {
     "name": "stdout",
     "output_type": "stream",
     "text": [
      "Namespace(dataset='cora', dropout=0.0, gpu=-1, dgi_lr=0.001, classifier_lr=0.01, n_dgi_epochs=300, n_classifier_epochs=300, n_hidden=8, n_layers=3, weight_decay=0.0, patience=20, self_loop=False)\n",
      "time: 5.05 ms (started: 2023-05-18 16:48:11 -05:00)\n"
     ]
    }
   ],
   "source": [
    "parser = argparse.ArgumentParser(description=\"DGI\")\n",
    "# register_data_args(parser)\n",
    "parser.add_argument(\n",
    "    \"--dataset\",\n",
    "    type=str,\n",
    "    default=\"cora\",\n",
    "    required=False,\n",
    "    help=\"The input dataset. Can be cora, citeseer, pubmed, syn(synthetic dataset) or reddit\",\n",
    ")\n",
    "parser.add_argument(\n",
    "    \"--dropout\", type=float, default=0.0, help=\"dropout probability\"\n",
    ")\n",
    "parser.add_argument(\"--gpu\", type=int, default=-1, help=\"gpu\")\n",
    "parser.add_argument(\n",
    "    \"--dgi-lr\", type=float, default=1e-3, help=\"dgi learning rate\"\n",
    ")\n",
    "parser.add_argument(\n",
    "    \"--classifier-lr\",\n",
    "    type=float,\n",
    "    default=1e-2,\n",
    "    help=\"classifier learning rate\",\n",
    ")\n",
    "parser.add_argument(\n",
    "    \"--n-dgi-epochs\",\n",
    "    type=int,\n",
    "    default=300,\n",
    "    help=\"number of training epochs\",\n",
    ")\n",
    "parser.add_argument(\n",
    "    \"--n-classifier-epochs\",\n",
    "    type=int,\n",
    "    default=300,\n",
    "    help=\"number of training epochs\",\n",
    ")\n",
    "parser.add_argument(\n",
    "    \"--n-hidden\", type=int, default=8, help=\"number of hidden gcn units\"\n",
    ")\n",
    "parser.add_argument(\n",
    "    \"--n-layers\", type=int, default=3, help=\"number of hidden gcn layers\"\n",
    ")\n",
    "parser.add_argument(\n",
    "    \"--weight-decay\", type=float, default=0.0, help=\"Weight for L2 loss\"\n",
    ")\n",
    "parser.add_argument(\n",
    "    \"--patience\", type=int, default=20, help=\"early stop patience condition\"\n",
    ")\n",
    "parser.add_argument(\n",
    "    \"--self-loop\",\n",
    "    action=\"store_true\",\n",
    "    help=\"graph self-loop (default=False)\",\n",
    ")\n",
    "parser.set_defaults(self_loop=False)\n",
    "args = parser.parse_args(\"\")\n",
    "print(args)"
   ]
  },
  {
   "cell_type": "code",
   "execution_count": 5,
   "metadata": {},
   "outputs": [
    {
     "name": "stdout",
     "output_type": "stream",
     "text": [
      "  NumNodes: 2708\n",
      "  NumEdges: 10556\n",
      "  NumFeats: 1433\n",
      "  NumClasses: 7\n",
      "  NumTrainingSamples: 140\n",
      "  NumValidationSamples: 500\n",
      "  NumTestSamples: 1000\n",
      "Done loading data from cached files.\n"
     ]
    },
    {
     "data": {
      "text/plain": [
       "Graph(num_nodes=2708, num_edges=10556,\n",
       "      ndata_schemes={'feat': Scheme(shape=(1433,), dtype=torch.float32), 'label': Scheme(shape=(), dtype=torch.int64), 'test_mask': Scheme(shape=(), dtype=torch.bool), 'val_mask': Scheme(shape=(), dtype=torch.bool), 'train_mask': Scheme(shape=(), dtype=torch.bool)}\n",
       "      edata_schemes={})"
      ]
     },
     "execution_count": 5,
     "metadata": {},
     "output_type": "execute_result"
    },
    {
     "name": "stdout",
     "output_type": "stream",
     "text": [
      "time: 144 ms (started: 2023-05-18 16:48:15 -05:00)\n"
     ]
    }
   ],
   "source": [
    "data = load_data(args)\n",
    "g = data[0]\n",
    "g"
   ]
  },
  {
   "cell_type": "code",
   "execution_count": 6,
   "metadata": {},
   "outputs": [
    {
     "name": "stdout",
     "output_type": "stream",
     "text": [
      "  NumNodes: 2708\n",
      "  NumEdges: 10556\n",
      "  NumFeats: 1433\n",
      "  NumClasses: 7\n",
      "  NumTrainingSamples: 140\n",
      "  NumValidationSamples: 500\n",
      "  NumTestSamples: 1000\n",
      "Done loading data from cached files.\n",
      "x Graph(num_nodes=2708, num_edges=10556,\n",
      "      ndata_schemes={'feat': Scheme(shape=(1433,), dtype=torch.float32), 'label': Scheme(shape=(), dtype=torch.int64), 'test_mask': Scheme(shape=(), dtype=torch.bool), 'val_mask': Scheme(shape=(), dtype=torch.bool), 'train_mask': Scheme(shape=(), dtype=torch.bool)}\n",
      "      edata_schemes={})\n",
      "torch.Size([2708, 1433])\n"
     ]
    },
    {
     "name": "stderr",
     "output_type": "stream",
     "text": [
      "/home/ealvarez/miniconda3/envs/Conda_dgl_3.10/lib/python3.10/site-packages/dgl/backend/pytorch/tensor.py:449: UserWarning: TypedStorage is deprecated. It will be removed in the future and UntypedStorage will be the only storage class. This should only matter to you if you are using storages directly.  To access UntypedStorage directly, use tensor.untyped_storage() instead of tensor.storage()\n",
      "  assert input.numel() == input.storage().size(), (\n"
     ]
    },
    {
     "name": "stdout",
     "output_type": "stream",
     "text": [
      "time: 6.03 s (started: 2023-05-18 16:48:24 -05:00)\n"
     ]
    }
   ],
   "source": [
    "# load and preprocess dataset\n",
    "data = load_data(args)\n",
    "g = data[0]\n",
    "print(\"x\", g)\n",
    "\n",
    "features = torch.FloatTensor(g.ndata[\"feat\"])\n",
    "print(features.shape)\n",
    "labels = torch.LongTensor(g.ndata[\"label\"])\n",
    "if hasattr(torch, \"BoolTensor\"):\n",
    "    train_mask = torch.BoolTensor(g.ndata[\"train_mask\"])\n",
    "    val_mask = torch.BoolTensor(g.ndata[\"val_mask\"])\n",
    "    test_mask = torch.BoolTensor(g.ndata[\"test_mask\"])\n",
    "else:\n",
    "    train_mask = torch.ByteTensor(g.ndata[\"train_mask\"])\n",
    "    val_mask = torch.ByteTensor(g.ndata[\"val_mask\"])\n",
    "    test_mask = torch.ByteTensor(g.ndata[\"test_mask\"])\n",
    "in_feats = features.shape[1]\n",
    "n_classes = data.num_classes\n",
    "n_edges = g.num_edges()\n",
    "\n",
    "if args.gpu < 0:\n",
    "    cuda = False\n",
    "else:\n",
    "    cuda = True\n",
    "    torch.cuda.set_device(args.gpu)\n",
    "    features = features.cuda()\n",
    "    labels = labels.cuda()\n",
    "    train_mask = train_mask.cuda()\n",
    "    val_mask = val_mask.cuda()\n",
    "    test_mask = test_mask.cuda()\n",
    "\n",
    "# add self loop\n",
    "if args.self_loop:\n",
    "    g = dgl.remove_self_loop(g)\n",
    "    g = dgl.add_self_loop(g)\n",
    "n_edges = g.num_edges()\n",
    "\n",
    "if args.gpu >= 0:\n",
    "    g = g.to(args.gpu)\n",
    "# create DGI model\n",
    "dgi = DGI(\n",
    "    g,\n",
    "    in_feats,\n",
    "    args.n_hidden,\n",
    "    args.n_layers,\n",
    "    nn.PReLU(args.n_hidden),\n",
    "    args.dropout,\n",
    ")\n",
    "\n",
    "if cuda:\n",
    "    dgi.cuda()\n",
    "\n",
    "dgi_optimizer = torch.optim.Adam(\n",
    "    dgi.parameters(), lr=args.dgi_lr, weight_decay=args.weight_decay\n",
    ")\n",
    "\n",
    "# train deep graph infomax\n",
    "cnt_wait = 0\n",
    "best = 1e9\n",
    "best_t = 0\n",
    "dur = []\n",
    "for epoch in range(args.n_dgi_epochs):\n",
    "    dgi.train()\n",
    "    if epoch >= 3:\n",
    "        t0 = time.time()\n",
    "\n",
    "    dgi_optimizer.zero_grad()\n",
    "    loss = dgi(features)\n",
    "    loss.backward()\n",
    "    dgi_optimizer.step()\n",
    "\n",
    "    if loss < best:\n",
    "        best = loss\n",
    "        best_t = epoch\n",
    "        cnt_wait = 0\n",
    "        torch.save(dgi.state_dict(), \"best_dgi.pkl\")\n",
    "    else:\n",
    "        cnt_wait += 1\n",
    "\n",
    "    if cnt_wait == args.patience:\n",
    "        print(\"Early stopping!\")\n",
    "        break\n",
    "\n",
    "    if epoch >= 3:\n",
    "        dur.append(time.time() - t0)\n",
    "\n",
    "    \"\"\" print(\n",
    "        \"Epoch {:05d} | Time(s) {:.4f} | Loss {:.4f} | \"\n",
    "        \"ETputs(KTEPS) {:.2f}\".format(\n",
    "            epoch, np.mean(dur), loss.item(), n_edges / np.mean(dur) / 1000\n",
    "        )\n",
    "    ) \"\"\""
   ]
  },
  {
   "cell_type": "code",
   "execution_count": 7,
   "metadata": {},
   "outputs": [
    {
     "data": {
      "text/html": [
       "<div>\n",
       "<style scoped>\n",
       "    .dataframe tbody tr th:only-of-type {\n",
       "        vertical-align: middle;\n",
       "    }\n",
       "\n",
       "    .dataframe tbody tr th {\n",
       "        vertical-align: top;\n",
       "    }\n",
       "\n",
       "    .dataframe thead th {\n",
       "        text-align: right;\n",
       "    }\n",
       "</style>\n",
       "<table border=\"1\" class=\"dataframe\">\n",
       "  <thead>\n",
       "    <tr style=\"text-align: right;\">\n",
       "      <th></th>\n",
       "      <th>0</th>\n",
       "      <th>1</th>\n",
       "      <th>2</th>\n",
       "      <th>3</th>\n",
       "      <th>4</th>\n",
       "      <th>5</th>\n",
       "      <th>6</th>\n",
       "      <th>7</th>\n",
       "    </tr>\n",
       "  </thead>\n",
       "  <tbody>\n",
       "    <tr>\n",
       "      <th>0</th>\n",
       "      <td>0.258213</td>\n",
       "      <td>-0.218391</td>\n",
       "      <td>0.243415</td>\n",
       "      <td>0.682221</td>\n",
       "      <td>0.050075</td>\n",
       "      <td>0.481788</td>\n",
       "      <td>0.379189</td>\n",
       "      <td>0.104625</td>\n",
       "    </tr>\n",
       "    <tr>\n",
       "      <th>1</th>\n",
       "      <td>0.377175</td>\n",
       "      <td>-0.153835</td>\n",
       "      <td>0.346535</td>\n",
       "      <td>0.566982</td>\n",
       "      <td>0.104319</td>\n",
       "      <td>0.174458</td>\n",
       "      <td>0.447187</td>\n",
       "      <td>0.360100</td>\n",
       "    </tr>\n",
       "    <tr>\n",
       "      <th>2</th>\n",
       "      <td>0.362056</td>\n",
       "      <td>-0.170691</td>\n",
       "      <td>0.350128</td>\n",
       "      <td>0.592257</td>\n",
       "      <td>0.106402</td>\n",
       "      <td>0.220291</td>\n",
       "      <td>0.421239</td>\n",
       "      <td>0.324249</td>\n",
       "    </tr>\n",
       "    <tr>\n",
       "      <th>3</th>\n",
       "      <td>0.179844</td>\n",
       "      <td>-0.349837</td>\n",
       "      <td>0.064059</td>\n",
       "      <td>0.742154</td>\n",
       "      <td>-0.078078</td>\n",
       "      <td>0.393239</td>\n",
       "      <td>0.557288</td>\n",
       "      <td>0.096120</td>\n",
       "    </tr>\n",
       "    <tr>\n",
       "      <th>4</th>\n",
       "      <td>0.185555</td>\n",
       "      <td>-0.212940</td>\n",
       "      <td>0.236079</td>\n",
       "      <td>0.684035</td>\n",
       "      <td>0.044247</td>\n",
       "      <td>0.487049</td>\n",
       "      <td>0.331072</td>\n",
       "      <td>0.064305</td>\n",
       "    </tr>\n",
       "    <tr>\n",
       "      <th>...</th>\n",
       "      <td>...</td>\n",
       "      <td>...</td>\n",
       "      <td>...</td>\n",
       "      <td>...</td>\n",
       "      <td>...</td>\n",
       "      <td>...</td>\n",
       "      <td>...</td>\n",
       "      <td>...</td>\n",
       "    </tr>\n",
       "    <tr>\n",
       "      <th>2703</th>\n",
       "      <td>0.315772</td>\n",
       "      <td>-0.118264</td>\n",
       "      <td>0.363053</td>\n",
       "      <td>0.588284</td>\n",
       "      <td>0.150662</td>\n",
       "      <td>0.311683</td>\n",
       "      <td>0.360282</td>\n",
       "      <td>0.257257</td>\n",
       "    </tr>\n",
       "    <tr>\n",
       "      <th>2704</th>\n",
       "      <td>0.246433</td>\n",
       "      <td>-0.228844</td>\n",
       "      <td>0.203115</td>\n",
       "      <td>0.652816</td>\n",
       "      <td>0.047165</td>\n",
       "      <td>0.312930</td>\n",
       "      <td>0.462345</td>\n",
       "      <td>0.182463</td>\n",
       "    </tr>\n",
       "    <tr>\n",
       "      <th>2705</th>\n",
       "      <td>0.217964</td>\n",
       "      <td>-0.101652</td>\n",
       "      <td>0.367361</td>\n",
       "      <td>0.560781</td>\n",
       "      <td>0.118052</td>\n",
       "      <td>0.326613</td>\n",
       "      <td>0.239381</td>\n",
       "      <td>0.188589</td>\n",
       "    </tr>\n",
       "    <tr>\n",
       "      <th>2706</th>\n",
       "      <td>0.305540</td>\n",
       "      <td>-0.215591</td>\n",
       "      <td>0.281513</td>\n",
       "      <td>0.669861</td>\n",
       "      <td>0.063329</td>\n",
       "      <td>0.427472</td>\n",
       "      <td>0.397943</td>\n",
       "      <td>0.165959</td>\n",
       "    </tr>\n",
       "    <tr>\n",
       "      <th>2707</th>\n",
       "      <td>0.226443</td>\n",
       "      <td>-0.246753</td>\n",
       "      <td>0.188978</td>\n",
       "      <td>0.709428</td>\n",
       "      <td>0.023833</td>\n",
       "      <td>0.526773</td>\n",
       "      <td>0.396666</td>\n",
       "      <td>0.052949</td>\n",
       "    </tr>\n",
       "  </tbody>\n",
       "</table>\n",
       "<p>2708 rows × 8 columns</p>\n",
       "</div>"
      ],
      "text/plain": [
       "             0         1         2         3         4         5         6   \n",
       "0     0.258213 -0.218391  0.243415  0.682221  0.050075  0.481788  0.379189  \\\n",
       "1     0.377175 -0.153835  0.346535  0.566982  0.104319  0.174458  0.447187   \n",
       "2     0.362056 -0.170691  0.350128  0.592257  0.106402  0.220291  0.421239   \n",
       "3     0.179844 -0.349837  0.064059  0.742154 -0.078078  0.393239  0.557288   \n",
       "4     0.185555 -0.212940  0.236079  0.684035  0.044247  0.487049  0.331072   \n",
       "...        ...       ...       ...       ...       ...       ...       ...   \n",
       "2703  0.315772 -0.118264  0.363053  0.588284  0.150662  0.311683  0.360282   \n",
       "2704  0.246433 -0.228844  0.203115  0.652816  0.047165  0.312930  0.462345   \n",
       "2705  0.217964 -0.101652  0.367361  0.560781  0.118052  0.326613  0.239381   \n",
       "2706  0.305540 -0.215591  0.281513  0.669861  0.063329  0.427472  0.397943   \n",
       "2707  0.226443 -0.246753  0.188978  0.709428  0.023833  0.526773  0.396666   \n",
       "\n",
       "             7  \n",
       "0     0.104625  \n",
       "1     0.360100  \n",
       "2     0.324249  \n",
       "3     0.096120  \n",
       "4     0.064305  \n",
       "...        ...  \n",
       "2703  0.257257  \n",
       "2704  0.182463  \n",
       "2705  0.188589  \n",
       "2706  0.165959  \n",
       "2707  0.052949  \n",
       "\n",
       "[2708 rows x 8 columns]"
      ]
     },
     "execution_count": 7,
     "metadata": {},
     "output_type": "execute_result"
    },
    {
     "name": "stdout",
     "output_type": "stream",
     "text": [
      "time: 21.6 ms (started: 2023-05-18 16:48:44 -05:00)\n"
     ]
    }
   ],
   "source": [
    "# Get embeddings\n",
    "embeds = dgi.encoder(features, corrupt=False)\n",
    "embeds = embeds.detach()\n",
    "\n",
    "df_node_embeddings = pd.DataFrame(data=embeds)\n",
    "df_node_embeddings"
   ]
  },
  {
   "cell_type": "code",
   "execution_count": 14,
   "metadata": {},
   "outputs": [],
   "source": [
    "list_df_reduction_embeddings, list_reduction_embeddings_legend = reduction_embeddings([df_node_embeddings], [\"\"], n_component=2)"
   ]
  },
  {
   "cell_type": "code",
   "execution_count": 9,
   "metadata": {},
   "outputs": [],
   "source": [
    "# visualization_pseudo_cluster_embeddings(list_df_reduction_embeddings, titles=list_reduction_embeddings_legend, cols=3)"
   ]
  },
  {
   "cell_type": "code",
   "execution_count": 15,
   "metadata": {},
   "outputs": [
    {
     "name": "stdout",
     "output_type": "stream",
     "text": [
      "0\n"
     ]
    },
    {
     "data": {
      "image/png": "[encoded data removed]",
      "text/plain": [
       "<Figure size 640x480 with 1 Axes>"
      ]
     },
     "metadata": {},
     "output_type": "display_data"
    },
    {
     "name": "stdout",
     "output_type": "stream",
     "text": [
      "1\n"
     ]
    },
    {
     "data": {
      "image/png": "[encoded data removed]",
      "text/plain": [
       "<Figure size 640x480 with 1 Axes>"
      ]
     },
     "metadata": {},
     "output_type": "display_data"
    },
    {
     "name": "stdout",
     "output_type": "stream",
     "text": [
      "2\n"
     ]
    },
    {
     "data": {
      "image/png": "[encoded data removed]",
      "text/plain": [
       "<Figure size 640x480 with 1 Axes>"
      ]
     },
     "metadata": {},
     "output_type": "display_data"
    }
   ],
   "source": [
    "import matplotlib.pyplot as plt\n",
    "reduction = [\"PCA\", \"TSNE\", \"UMAP\"]\n",
    "for k in range(len(list_df_reduction_embeddings)):\n",
    "    print(k)\n",
    "    x = list_df_reduction_embeddings[k].iloc[:, 0]\n",
    "    y = list_df_reduction_embeddings[k].iloc[:, 1]\n",
    "    # plt.scatter(x, y, c=list_df_reduction_embeddings[k][\"labels\"].values, alpha=0.2)\n",
    "    plt.scatter(x, y, alpha=0.2)\n",
    "    \n",
    "    plt.title(reduction[k])\n",
    "    plt.show()"
   ]
  },
  {
   "attachments": {},
   "cell_type": "markdown",
   "metadata": {},
   "source": [
    "---"
   ]
  },
  {
   "attachments": {},
   "cell_type": "markdown",
   "metadata": {},
   "source": [
    "### Node embeddings"
   ]
  },
  {
   "cell_type": "code",
   "execution_count": 26,
   "metadata": {},
   "outputs": [
    {
     "data": {
      "text/plain": [
       "'/home/ealvarez/Project/GNN_Filter'"
      ]
     },
     "execution_count": 26,
     "metadata": {},
     "output_type": "execute_result"
    },
    {
     "name": "stdout",
     "output_type": "stream",
     "text": [
      "time: 4.02 ms (started: 2023-05-18 17:01:18 -05:00)\n"
     ]
    }
   ],
   "source": [
    "dir = os.path.dirname(os.path.dirname(os.getcwd()))\n",
    "# dir"
   ]
  },
  {
   "cell_type": "code",
   "execution_count": 33,
   "metadata": {
    "notebookRunGroups": {
     "groupValue": ""
    }
   },
   "outputs": [
    {
     "name": "stdout",
     "output_type": "stream",
     "text": [
      "('pck1^', 2)\n",
      "['1', '2']\n",
      "[3]\n",
      "time: 1.16 ms (started: 2023-05-18 17:04:03 -05:00)\n"
     ]
    }
   ],
   "source": [
    "group = [(\"WT\", 5), (\"zwf1^\", 3), (\"pck1^\", 2)]\n",
    "group = group[2]\n",
    "print(group)\n",
    "\n",
    "subgroups = [str(k + 1) for k in range(group[1])]\n",
    "print(subgroups)\n",
    "\n",
    "dimensions = [3] # [2, 4, 8, 16, 32, 64, 128, 256]\n",
    "print(dimensions)"
   ]
  },
  {
   "cell_type": "code",
   "execution_count": 28,
   "metadata": {
    "notebookRunGroups": {
     "groupValue": "2"
    }
   },
   "outputs": [
    {
     "name": "stdout",
     "output_type": "stream",
     "text": [
      "time: 3.12 ms (started: 2023-05-18 17:01:41 -05:00)\n"
     ]
    }
   ],
   "source": [
    "# Custom dataset\n",
    "\n",
    "class CustomDataset(DGLDataset):\n",
    "    def __init__(self, name, dir, group, subgroup):\n",
    "        self.dir = dir\n",
    "        self.group = group\n",
    "        self.subgroup = subgroup\n",
    "        super().__init__(name=name)\n",
    "       \n",
    "    def process(self):\n",
    "        nodes_data = pd.read_csv(\"{}/output_dgi/graph_data/{}_nodes_data_{}.csv\".format(self.dir, self.group, self.subgroup))\n",
    "        edges_data = pd.read_csv(\"{}/output_dgi/graph_data/{}_edges_data_{}.csv\".format(self.dir, self.group, self.subgroup))\n",
    "        \n",
    "        node_features = torch.from_numpy(nodes_data[\"degree\"].to_numpy())\n",
    "        node_features = node_features.to(torch.float32)\n",
    "        node_features = torch.reshape(node_features, (-1, 1))\n",
    "\n",
    "        node_labels = torch.from_numpy(nodes_data[\"ionMz\"].to_numpy())\n",
    "        node_labels = node_labels.to(torch.float32)\n",
    "\n",
    "        edge_features = torch.from_numpy(edges_data[\"weight\"].to_numpy())\n",
    "        edges_src = torch.from_numpy(edges_data[\"source\"].to_numpy())\n",
    "        edges_dst = torch.from_numpy(edges_data[\"target\"].to_numpy())\n",
    "\n",
    "        self.graph = dgl.graph(\n",
    "            (edges_src, edges_dst), num_nodes=nodes_data.shape[0]\n",
    "        )\n",
    "        self.graph.ndata[\"feat\"] = node_features\n",
    "        self.graph.ndata[\"label\"] = node_labels\n",
    "        self.graph.edata[\"weight\"] = edge_features\n",
    "\n",
    "        # If your dataset is a node classification dataset, you will need to assign\n",
    "        # masks indicating whether a node belongs to training, validation, and test set.\n",
    "        n_nodes = nodes_data.shape[0]\n",
    "        n_train = int(n_nodes * 0.6)\n",
    "        n_val = int(n_nodes * 0.2)\n",
    "        train_mask = torch.zeros(n_nodes, dtype=torch.bool)\n",
    "        val_mask = torch.zeros(n_nodes, dtype=torch.bool)\n",
    "        test_mask = torch.zeros(n_nodes, dtype=torch.bool)\n",
    "        train_mask[:n_train] = True\n",
    "        val_mask[n_train : n_train + n_val] = True\n",
    "        test_mask[n_train + n_val :] = True\n",
    "        self.graph.ndata[\"train_mask\"] = train_mask\n",
    "        self.graph.ndata[\"val_mask\"] = val_mask\n",
    "        self.graph.ndata[\"test_mask\"] = test_mask\n",
    "\n",
    "    def __getitem__(self, i):\n",
    "        return self.graph\n",
    "\n",
    "    def __len__(self):\n",
    "        return 1"
   ]
  },
  {
   "cell_type": "code",
   "execution_count": 30,
   "metadata": {
    "notebookRunGroups": {
     "groupValue": "2"
    }
   },
   "outputs": [
    {
     "name": "stdout",
     "output_type": "stream",
     "text": [
      "Graph(num_nodes=6235, num_edges=1629510,\n",
      "      ndata_schemes={'feat': Scheme(shape=(1,), dtype=torch.float32), 'label': Scheme(shape=(), dtype=torch.float32), 'train_mask': Scheme(shape=(), dtype=torch.bool), 'val_mask': Scheme(shape=(), dtype=torch.bool), 'test_mask': Scheme(shape=(), dtype=torch.bool)}\n",
      "      edata_schemes={'weight': Scheme(shape=(), dtype=torch.float64)})\n",
      "time: 291 ms (started: 2023-05-18 17:02:12 -05:00)\n"
     ]
    }
   ],
   "source": [
    "dataset = CustomDataset(\"g1\", dir, group[0], 1)\n",
    "graph = dataset[0]\n",
    "\n",
    "print(graph)"
   ]
  },
  {
   "cell_type": "code",
   "execution_count": 38,
   "metadata": {
    "notebookRunGroups": {
     "groupValue": "2"
    }
   },
   "outputs": [
    {
     "name": "stdout",
     "output_type": "stream",
     "text": [
      "Namespace(dataset='cora', dropout=0.0, gpu=0, dgi_lr=0.001, classifier_lr=0.01, n_dgi_epochs=300, n_classifier_epochs=300, n_hidden=2, n_layers=3, weight_decay=0.0, patience=20, self_loop=False)\n",
      "time: 4.94 ms (started: 2023-05-18 17:08:50 -05:00)\n"
     ]
    }
   ],
   "source": [
    "# Params\n",
    "\n",
    "parser = argparse.ArgumentParser(description=\"DGI\")\n",
    "# register_data_args(parser)\n",
    "parser.add_argument(\n",
    "    \"--dataset\",\n",
    "    type=str,\n",
    "    default=\"cora\",\n",
    "    required=False,\n",
    "    help=\"The input dataset. Can be cora, citeseer, pubmed, syn(synthetic dataset) or reddit\",\n",
    ")\n",
    "parser.add_argument(\n",
    "    \"--dropout\", type=float, default=0.0, help=\"dropout probability\"\n",
    ")\n",
    "parser.add_argument(\"--gpu\", type=int, default=0, help=\"gpu\")\n",
    "parser.add_argument(\n",
    "    \"--dgi-lr\", type=float, default=1e-3, help=\"dgi learning rate\"\n",
    ")\n",
    "parser.add_argument(\n",
    "    \"--classifier-lr\",\n",
    "    type=float,\n",
    "    default=1e-2,\n",
    "    help=\"classifier learning rate\",\n",
    ")\n",
    "parser.add_argument(\n",
    "    \"--n-dgi-epochs\",\n",
    "    type=int,\n",
    "    default=300,\n",
    "    help=\"number of training epochs\",\n",
    ")\n",
    "parser.add_argument(\n",
    "    \"--n-classifier-epochs\",\n",
    "    type=int,\n",
    "    default=300,\n",
    "    help=\"number of training epochs\",\n",
    ")\n",
    "parser.add_argument(\n",
    "    \"--n-hidden\", type=int, default=2, help=\"number of hidden gcn units\"\n",
    ")\n",
    "parser.add_argument(\n",
    "    \"--n-layers\", type=int, default=3, help=\"number of hidden gcn layers\"\n",
    ")\n",
    "parser.add_argument(\n",
    "    \"--weight-decay\", type=float, default=0.0, help=\"Weight for L2 loss\"\n",
    ")\n",
    "parser.add_argument(\n",
    "    \"--patience\", type=int, default=20, help=\"early stop patience condition\"\n",
    ")\n",
    "parser.add_argument(\n",
    "    \"--self-loop\",\n",
    "    action=\"store_true\",\n",
    "    help=\"graph self-loop (default=False)\",\n",
    ")\n",
    "parser.set_defaults(self_loop=False)\n",
    "args = parser.parse_args(\"\")\n",
    "print(args)"
   ]
  },
  {
   "cell_type": "code",
   "execution_count": 39,
   "metadata": {
    "notebookRunGroups": {
     "groupValue": "2"
    }
   },
   "outputs": [
    {
     "name": "stderr",
     "output_type": "stream",
     "text": [
      "  0%|                                                     | 0/2 [00:00<?, ?it/s]"
     ]
    },
    {
     "name": "stdout",
     "output_type": "stream",
     "text": [
      "torch.Size([6235, 1])\n",
      "self_loop\n"
     ]
    },
    {
     "name": "stderr",
     "output_type": "stream",
     "text": [
      "/home/ealvarez/miniconda3/envs/Conda_dgl_3.10/lib/python3.10/site-packages/dgl/backend/pytorch/tensor.py:449: UserWarning: TypedStorage is deprecated. It will be removed in the future and UntypedStorage will be the only storage class. This should only matter to you if you are using storages directly.  To access UntypedStorage directly, use tensor.untyped_storage() instead of tensor.storage()\n",
      "  assert input.numel() == input.storage().size(), (\n",
      " 50%|██████████████████████▌                      | 1/2 [00:05<00:05,  5.47s/it]"
     ]
    },
    {
     "name": "stdout",
     "output_type": "stream",
     "text": [
      "torch.Size([6234, 1])\n",
      "self_loop\n"
     ]
    },
    {
     "name": "stderr",
     "output_type": "stream",
     "text": [
      "/home/ealvarez/miniconda3/envs/Conda_dgl_3.10/lib/python3.10/site-packages/dgl/backend/pytorch/tensor.py:449: UserWarning: TypedStorage is deprecated. It will be removed in the future and UntypedStorage will be the only storage class. This should only matter to you if you are using storages directly.  To access UntypedStorage directly, use tensor.untyped_storage() instead of tensor.storage()\n",
      "  assert input.numel() == input.storage().size(), (\n",
      "100%|█████████████████████████████████████████████| 2/2 [00:11<00:00,  5.84s/it]"
     ]
    },
    {
     "name": "stdout",
     "output_type": "stream",
     "text": [
      "time: 11.7 s (started: 2023-05-18 17:09:00 -05:00)\n"
     ]
    },
    {
     "name": "stderr",
     "output_type": "stream",
     "text": [
      "\n"
     ]
    }
   ],
   "source": [
    "# Get node embeddings\n",
    "\n",
    "# list_embeddings_time = []\n",
    "for dimension in dimensions:\n",
    "    # Get embeddings\n",
    "    parser.set_defaults(self_loop=True)\n",
    "    parser.set_defaults(n_hidden=dimension)\n",
    "    parser.set_defaults(n_layers=3)\n",
    "    args = parser.parse_args(\"\")\n",
    "    # print(args)\n",
    "    \n",
    "    for i in tqdm(subgroups):\n",
    "        # Read dataset\n",
    "\n",
    "        # load and preprocess dataset\n",
    "        # data = load_data(args)\n",
    "        data = CustomDataset(\"g\".format(i), dir, group[0], i)\n",
    "\n",
    "        g = data[0]\n",
    "        # print(\"x\", g)\n",
    "\n",
    "        features = torch.FloatTensor(np.log10(g.ndata[\"feat\"]))\n",
    "        print(features.shape)\n",
    "        # labels = torch.LongTensor(g.ndata[\"label\"])\n",
    "        if hasattr(torch, \"BoolTensor\"):\n",
    "            train_mask = torch.BoolTensor(g.ndata[\"train_mask\"])\n",
    "            val_mask = torch.BoolTensor(g.ndata[\"val_mask\"])\n",
    "            test_mask = torch.BoolTensor(g.ndata[\"test_mask\"])\n",
    "        else:\n",
    "            train_mask = torch.ByteTensor(g.ndata[\"train_mask\"])\n",
    "            val_mask = torch.ByteTensor(g.ndata[\"val_mask\"])\n",
    "            test_mask = torch.ByteTensor(g.ndata[\"test_mask\"])\n",
    "        in_feats = features.shape[1]\n",
    "        # n_classes = data.num_classes\n",
    "        n_edges = g.num_edges()\n",
    "\n",
    "        if args.gpu < 0:\n",
    "            cuda = False\n",
    "        else:\n",
    "            cuda = True\n",
    "            torch.cuda.set_device(args.gpu)\n",
    "            features = features.cuda()\n",
    "            # labels = labels.cuda()\n",
    "            train_mask = train_mask.cuda()\n",
    "            val_mask = val_mask.cuda()\n",
    "            test_mask = test_mask.cuda()\n",
    "\n",
    "        # add self loop\n",
    "        if args.self_loop:\n",
    "            print(\"self_loop\")\n",
    "            g = dgl.remove_self_loop(g)\n",
    "            g = dgl.add_self_loop(g)\n",
    "        n_edges = g.num_edges()\n",
    "\n",
    "        if args.gpu >= 0:\n",
    "            g = g.to(args.gpu)\n",
    "        # create DGI model\n",
    "        dgi = DGI(\n",
    "            g,\n",
    "            in_feats,\n",
    "            args.n_hidden,\n",
    "            args.n_layers,\n",
    "            nn.PReLU(args.n_hidden),\n",
    "            args.dropout,\n",
    "        )\n",
    "\n",
    "        if cuda:\n",
    "            dgi.cuda()\n",
    "\n",
    "        dgi_optimizer = torch.optim.Adam(\n",
    "            dgi.parameters(), lr=args.dgi_lr, weight_decay=args.weight_decay\n",
    "        )\n",
    "\n",
    "        # train deep graph infomax\n",
    "        cnt_wait = 0\n",
    "        best = 1e9\n",
    "        best_t = 0\n",
    "        dur = []\n",
    "        for epoch in range(args.n_dgi_epochs):\n",
    "            dgi.train()\n",
    "            if epoch >= 3:\n",
    "                t0 = time.time()\n",
    "\n",
    "            dgi_optimizer.zero_grad()\n",
    "            loss = dgi(features)\n",
    "            loss.backward()\n",
    "            dgi_optimizer.step()\n",
    "\n",
    "            if loss < best:\n",
    "                best = loss\n",
    "                best_t = epoch\n",
    "                cnt_wait = 0\n",
    "                torch.save(dgi.state_dict(), \"best_dgi.pkl\")\n",
    "            else:\n",
    "                cnt_wait += 1\n",
    "\n",
    "            if cnt_wait == args.patience:\n",
    "                print(\"Early stopping!\")\n",
    "                break\n",
    "\n",
    "            if epoch >= 3:\n",
    "                dur.append(time.time() - t0)\n",
    "\n",
    "            \"\"\" print(\n",
    "                \"Epoch {:05d} | Time(s) {:.4f} | Loss {:.4f} | \"\n",
    "                \"ETputs(KTEPS) {:.2f}\".format(\n",
    "                    epoch, np.mean(dur), loss.item(), n_edges / np.mean(dur) / 1000\n",
    "                )\n",
    "            ) \"\"\"\n",
    "\n",
    "        embeds = dgi.encoder(features, corrupt=False)\n",
    "        embeds = embeds.cpu().detach()\n",
    "\n",
    "        df_node_embeddings = pd.DataFrame(data=embeds)\n",
    "        df_node_embeddings\n",
    "\n",
    "        # save\n",
    "        df_node_embeddings.to_csv(\"{}/output_dgi/node_embeddings/{}_node-embeddings_{}_{}.csv\".format(dir, group[0], dimension, i), index=True)\n",
    "        # print(\"Save node embeddings\")"
   ]
  },
  {
   "cell_type": "code",
   "execution_count": 40,
   "metadata": {},
   "outputs": [
    {
     "data": {
      "text/html": [
       "<div>\n",
       "<style scoped>\n",
       "    .dataframe tbody tr th:only-of-type {\n",
       "        vertical-align: middle;\n",
       "    }\n",
       "\n",
       "    .dataframe tbody tr th {\n",
       "        vertical-align: top;\n",
       "    }\n",
       "\n",
       "    .dataframe thead th {\n",
       "        text-align: right;\n",
       "    }\n",
       "</style>\n",
       "<table border=\"1\" class=\"dataframe\">\n",
       "  <thead>\n",
       "    <tr style=\"text-align: right;\">\n",
       "      <th></th>\n",
       "      <th>0</th>\n",
       "      <th>1</th>\n",
       "      <th>2</th>\n",
       "    </tr>\n",
       "  </thead>\n",
       "  <tbody>\n",
       "    <tr>\n",
       "      <th>0</th>\n",
       "      <td>0.547531</td>\n",
       "      <td>0.028029</td>\n",
       "      <td>-0.423061</td>\n",
       "    </tr>\n",
       "    <tr>\n",
       "      <th>1</th>\n",
       "      <td>0.550908</td>\n",
       "      <td>0.035563</td>\n",
       "      <td>-0.424133</td>\n",
       "    </tr>\n",
       "    <tr>\n",
       "      <th>2</th>\n",
       "      <td>0.568833</td>\n",
       "      <td>0.083299</td>\n",
       "      <td>-0.428103</td>\n",
       "    </tr>\n",
       "    <tr>\n",
       "      <th>3</th>\n",
       "      <td>0.574481</td>\n",
       "      <td>0.097589</td>\n",
       "      <td>-0.429522</td>\n",
       "    </tr>\n",
       "    <tr>\n",
       "      <th>4</th>\n",
       "      <td>0.550532</td>\n",
       "      <td>0.034700</td>\n",
       "      <td>-0.424019</td>\n",
       "    </tr>\n",
       "    <tr>\n",
       "      <th>...</th>\n",
       "      <td>...</td>\n",
       "      <td>...</td>\n",
       "      <td>...</td>\n",
       "    </tr>\n",
       "    <tr>\n",
       "      <th>6230</th>\n",
       "      <td>2.056014</td>\n",
       "      <td>2.102400</td>\n",
       "      <td>-1.392247</td>\n",
       "    </tr>\n",
       "    <tr>\n",
       "      <th>6231</th>\n",
       "      <td>1.617181</td>\n",
       "      <td>1.134329</td>\n",
       "      <td>-1.198137</td>\n",
       "    </tr>\n",
       "    <tr>\n",
       "      <th>6232</th>\n",
       "      <td>2.393111</td>\n",
       "      <td>2.520879</td>\n",
       "      <td>-1.617101</td>\n",
       "    </tr>\n",
       "    <tr>\n",
       "      <th>6233</th>\n",
       "      <td>2.264580</td>\n",
       "      <td>2.119437</td>\n",
       "      <td>-1.593022</td>\n",
       "    </tr>\n",
       "    <tr>\n",
       "      <th>6234</th>\n",
       "      <td>2.185278</td>\n",
       "      <td>1.721031</td>\n",
       "      <td>-1.614030</td>\n",
       "    </tr>\n",
       "  </tbody>\n",
       "</table>\n",
       "<p>6235 rows × 3 columns</p>\n",
       "</div>"
      ],
      "text/plain": [
       "             0         1         2\n",
       "0     0.547531  0.028029 -0.423061\n",
       "1     0.550908  0.035563 -0.424133\n",
       "2     0.568833  0.083299 -0.428103\n",
       "3     0.574481  0.097589 -0.429522\n",
       "4     0.550532  0.034700 -0.424019\n",
       "...        ...       ...       ...\n",
       "6230  2.056014  2.102400 -1.392247\n",
       "6231  1.617181  1.134329 -1.198137\n",
       "6232  2.393111  2.520879 -1.617101\n",
       "6233  2.264580  2.119437 -1.593022\n",
       "6234  2.185278  1.721031 -1.614030\n",
       "\n",
       "[6235 rows x 3 columns]"
      ]
     },
     "execution_count": 40,
     "metadata": {},
     "output_type": "execute_result"
    },
    {
     "name": "stdout",
     "output_type": "stream",
     "text": [
      "time: 19.2 ms (started: 2023-05-18 17:09:17 -05:00)\n"
     ]
    }
   ],
   "source": [
    "df_node_embeddings = pd.read_csv(\"{}/output_dgi/node_embeddings/{}_node-embeddings_{}_{}.csv\".format(dir, group[0], 3, 1), index_col=0)\n",
    "df_node_embeddings"
   ]
  },
  {
   "attachments": {},
   "cell_type": "markdown",
   "metadata": {},
   "source": [
    "### Edges embeddings"
   ]
  },
  {
   "cell_type": "code",
   "execution_count": 41,
   "metadata": {
    "notebookRunGroups": {
     "groupValue": "2"
    }
   },
   "outputs": [
    {
     "name": "stdout",
     "output_type": "stream",
     "text": [
      "time: 631 µs (started: 2023-05-18 17:12:36 -05:00)\n"
     ]
    }
   ],
   "source": [
    "def e2v_l2x(df_edges, df_node_embeddings):\n",
    "    edge2vec = {}\n",
    "    for k in range(len(df_edges)):\n",
    "        i = df_edges.iloc[k, 0]\n",
    "        j = df_edges.iloc[k, 1]\n",
    "\n",
    "        u = df_node_embeddings.loc[i].values\n",
    "        v = df_node_embeddings.loc[j].values\n",
    "        # edge2vec[str(tuple(sorted((i, j))))] = (u - v) ** 2\n",
    "        # edge2vec[tuple(sorted((i, j)))] = (u - v) ** 2\n",
    "        edge2vec[tuple((i, j))] = (u - v) ** 2\n",
    "        # edge2vec[\"source\"] = i\n",
    "        # edge2vec[\"target\"] = j\n",
    "        # print(edge2vec)\n",
    "    return pd.DataFrame.from_dict(edge2vec, orient=\"index\")"
   ]
  },
  {
   "cell_type": "code",
   "execution_count": 42,
   "metadata": {
    "notebookRunGroups": {
     "groupValue": "2"
    }
   },
   "outputs": [
    {
     "name": "stdout",
     "output_type": "stream",
     "text": [
      "time: 1.35 ms (started: 2023-05-18 17:12:39 -05:00)\n"
     ]
    }
   ],
   "source": [
    "def edge2vecx(list_df_node_embeddings, list_df_edges, list_node_embeddings_legend):    \n",
    "    list_df_edge_embeddings = []\n",
    "    list_edge_embeddings_legend = []\n",
    "\n",
    "    for i, df_node_embedding in enumerate(list_df_node_embeddings):\n",
    "        for j, embedder in enumerate([e2v_l2x]):\n",
    "            df_edge_embeddings = embedder(list_df_edges[i], df_node_embedding)\n",
    "\n",
    "            legends = [\"{}{}\".format(list_node_embeddings_legend[i], str(\"L2\"))]\n",
    "\n",
    "            list_df_edge_embeddings += [df_edge_embeddings]\n",
    "            list_edge_embeddings_legend += legends\n",
    "\n",
    "    return list_df_edge_embeddings, list_edge_embeddings_legend"
   ]
  },
  {
   "cell_type": "code",
   "execution_count": 43,
   "metadata": {
    "notebookRunGroups": {
     "groupValue": "2"
    }
   },
   "outputs": [
    {
     "name": "stderr",
     "output_type": "stream",
     "text": [
      "100%|████████████████████████████████████████████| 2/2 [08:10<00:00, 245.44s/it]\n",
      "100%|████████████████████████████████████████████| 1/1 [08:10<00:00, 490.88s/it]"
     ]
    },
    {
     "name": "stdout",
     "output_type": "stream",
     "text": [
      "time: 8min 10s (started: 2023-05-18 17:12:54 -05:00)\n"
     ]
    },
    {
     "name": "stderr",
     "output_type": "stream",
     "text": [
      "\n"
     ]
    }
   ],
   "source": [
    "# Get edges embeddings\n",
    "\n",
    "for dimension in tqdm(dimensions):\n",
    "    # Get embeddings    \n",
    "    for i in tqdm(subgroups):\n",
    "        # Read dataset\n",
    "        df_node_embeddings = pd.read_csv(\"{}/output_dgi/node_embeddings/{}_node-embeddings_{}_{}.csv\".format(dir, group[0], dimension, i), index_col=0)\n",
    "        df_edges = pd.read_csv(\"{}/output_dgi/graph_data/{}_edges_data_{}.csv\".format(dir, group[0], i))\n",
    "        \n",
    "        # Get edges embeddings\n",
    "        list_df_edge_embeddings, list_edge_embeddings_legend = edge2vecx([df_node_embeddings], [df_edges], [\"\"])\n",
    "        for j in range(len(list_df_edge_embeddings)):\n",
    "            list_df_edge_embeddings[j].to_csv(\"{}/output_dgi/edge_embeddings/{}_edge-embeddings_{}_{}_{}.csv\".format(dir, group[0], dimension, i, list_edge_embeddings_legend[j]), index=True)"
   ]
  },
  {
   "cell_type": "code",
   "execution_count": 33,
   "metadata": {},
   "outputs": [
    {
     "data": {
      "text/html": [
       "<div>\n",
       "<style scoped>\n",
       "    .dataframe tbody tr th:only-of-type {\n",
       "        vertical-align: middle;\n",
       "    }\n",
       "\n",
       "    .dataframe tbody tr th {\n",
       "        vertical-align: top;\n",
       "    }\n",
       "\n",
       "    .dataframe thead th {\n",
       "        text-align: right;\n",
       "    }\n",
       "</style>\n",
       "<table border=\"1\" class=\"dataframe\">\n",
       "  <thead>\n",
       "    <tr style=\"text-align: right;\">\n",
       "      <th></th>\n",
       "      <th>0</th>\n",
       "      <th>1</th>\n",
       "      <th>2</th>\n",
       "    </tr>\n",
       "  </thead>\n",
       "  <tbody>\n",
       "    <tr>\n",
       "      <th>(0, 1)</th>\n",
       "      <td>0.000032</td>\n",
       "      <td>8.917390e-08</td>\n",
       "      <td>0.000050</td>\n",
       "    </tr>\n",
       "    <tr>\n",
       "      <th>(0, 2)</th>\n",
       "      <td>0.001284</td>\n",
       "      <td>2.294377e-06</td>\n",
       "      <td>0.002085</td>\n",
       "    </tr>\n",
       "    <tr>\n",
       "      <th>(0, 3)</th>\n",
       "      <td>0.002055</td>\n",
       "      <td>3.728607e-06</td>\n",
       "      <td>0.003333</td>\n",
       "    </tr>\n",
       "    <tr>\n",
       "      <th>(0, 4)</th>\n",
       "      <td>0.000025</td>\n",
       "      <td>7.098494e-08</td>\n",
       "      <td>0.000040</td>\n",
       "    </tr>\n",
       "    <tr>\n",
       "      <th>(0, 5)</th>\n",
       "      <td>0.000054</td>\n",
       "      <td>1.358070e-07</td>\n",
       "      <td>0.000086</td>\n",
       "    </tr>\n",
       "    <tr>\n",
       "      <th>...</th>\n",
       "      <td>...</td>\n",
       "      <td>...</td>\n",
       "      <td>...</td>\n",
       "    </tr>\n",
       "    <tr>\n",
       "      <th>(6202, 6212)</th>\n",
       "      <td>0.009350</td>\n",
       "      <td>5.323252e-03</td>\n",
       "      <td>0.000010</td>\n",
       "    </tr>\n",
       "    <tr>\n",
       "      <th>(6204, 6205)</th>\n",
       "      <td>0.016716</td>\n",
       "      <td>2.025782e-03</td>\n",
       "      <td>0.009153</td>\n",
       "    </tr>\n",
       "    <tr>\n",
       "      <th>(6206, 6208)</th>\n",
       "      <td>0.000031</td>\n",
       "      <td>3.258776e-04</td>\n",
       "      <td>0.001617</td>\n",
       "    </tr>\n",
       "    <tr>\n",
       "      <th>(6208, 6209)</th>\n",
       "      <td>0.044017</td>\n",
       "      <td>6.099766e-07</td>\n",
       "      <td>0.080316</td>\n",
       "    </tr>\n",
       "    <tr>\n",
       "      <th>(6231, 6232)</th>\n",
       "      <td>0.000215</td>\n",
       "      <td>5.182171e-05</td>\n",
       "      <td>0.000036</td>\n",
       "    </tr>\n",
       "  </tbody>\n",
       "</table>\n",
       "<p>1629510 rows × 3 columns</p>\n",
       "</div>"
      ],
      "text/plain": [
       "                     0             1         2\n",
       "(0, 1)        0.000032  8.917390e-08  0.000050\n",
       "(0, 2)        0.001284  2.294377e-06  0.002085\n",
       "(0, 3)        0.002055  3.728607e-06  0.003333\n",
       "(0, 4)        0.000025  7.098494e-08  0.000040\n",
       "(0, 5)        0.000054  1.358070e-07  0.000086\n",
       "...                ...           ...       ...\n",
       "(6202, 6212)  0.009350  5.323252e-03  0.000010\n",
       "(6204, 6205)  0.016716  2.025782e-03  0.009153\n",
       "(6206, 6208)  0.000031  3.258776e-04  0.001617\n",
       "(6208, 6209)  0.044017  6.099766e-07  0.080316\n",
       "(6231, 6232)  0.000215  5.182171e-05  0.000036\n",
       "\n",
       "[1629510 rows x 3 columns]"
      ]
     },
     "execution_count": 33,
     "metadata": {},
     "output_type": "execute_result"
    },
    {
     "name": "stdout",
     "output_type": "stream",
     "text": [
      "time: 1.26 s (started: 2023-05-14 10:53:25 -05:00)\n"
     ]
    }
   ],
   "source": [
    "df_edge_embeddings = pd.read_csv(\"{}/output_dgi/edge_embeddings/{}_edge-embeddings_{}_{}_{}.csv\".format(dir, group[0], 3, 1, \"L2\"), index_col=0)\n",
    "df_edge_embeddings"
   ]
  },
  {
   "attachments": {},
   "cell_type": "markdown",
   "metadata": {},
   "source": [
    "### Join embeddings"
   ]
  },
  {
   "cell_type": "code",
   "execution_count": 44,
   "metadata": {
    "notebookRunGroups": {
     "groupValue": "2"
    }
   },
   "outputs": [
    {
     "name": "stderr",
     "output_type": "stream",
     "text": [
      "100%|█████████████████████████████████████████████| 2/2 [00:05<00:00,  2.54s/it]\n",
      "100%|█████████████████████████████████████████████| 1/1 [00:25<00:00, 25.82s/it]"
     ]
    },
    {
     "name": "stdout",
     "output_type": "stream",
     "text": [
      "time: 25.8 s (started: 2023-05-18 17:26:30 -05:00)\n"
     ]
    },
    {
     "name": "stderr",
     "output_type": "stream",
     "text": [
      "\n"
     ]
    }
   ],
   "source": [
    "for dimension in tqdm(dimensions):\n",
    "    df_edge_embeddings_join = pd.DataFrame()\n",
    "    for i in tqdm(subgroups):\n",
    "        # Read dataset\n",
    "        df_edge_embeddings = pd.read_csv(\"{}/output_dgi/edge_embeddings/{}_edge-embeddings_{}_{}_{}.csv\".format(dir, group[0], dimension, i, \"L2\"), index_col=0)\n",
    "        df_edge_embeddings[\"subgroup\"] = [i] * len(df_edge_embeddings)\n",
    "\n",
    "        df_edge_embeddings_join = pd.concat([df_edge_embeddings_join, df_edge_embeddings])\n",
    "    df_edge_embeddings_join.to_csv(\"{}/output_dgi/edge_embeddings_join/{}_edge-embeddings_join_{}_{}.csv\".format(dir, group[0], dimension, \"L2\"), index=True)"
   ]
  },
  {
   "cell_type": "code",
   "execution_count": 45,
   "metadata": {
    "notebookRunGroups": {
     "groupValue": "2"
    }
   },
   "outputs": [
    {
     "data": {
      "text/html": [
       "<div>\n",
       "<style scoped>\n",
       "    .dataframe tbody tr th:only-of-type {\n",
       "        vertical-align: middle;\n",
       "    }\n",
       "\n",
       "    .dataframe tbody tr th {\n",
       "        vertical-align: top;\n",
       "    }\n",
       "\n",
       "    .dataframe thead th {\n",
       "        text-align: right;\n",
       "    }\n",
       "</style>\n",
       "<table border=\"1\" class=\"dataframe\">\n",
       "  <thead>\n",
       "    <tr style=\"text-align: right;\">\n",
       "      <th></th>\n",
       "      <th>0</th>\n",
       "      <th>1</th>\n",
       "      <th>2</th>\n",
       "      <th>subgroup</th>\n",
       "    </tr>\n",
       "  </thead>\n",
       "  <tbody>\n",
       "    <tr>\n",
       "      <th>(0, 1)</th>\n",
       "      <td>0.000011</td>\n",
       "      <td>0.000057</td>\n",
       "      <td>1.149827e-06</td>\n",
       "      <td>1</td>\n",
       "    </tr>\n",
       "    <tr>\n",
       "      <th>(0, 2)</th>\n",
       "      <td>0.000454</td>\n",
       "      <td>0.003055</td>\n",
       "      <td>2.542126e-05</td>\n",
       "      <td>1</td>\n",
       "    </tr>\n",
       "    <tr>\n",
       "      <th>(0, 3)</th>\n",
       "      <td>0.000726</td>\n",
       "      <td>0.004839</td>\n",
       "      <td>4.175447e-05</td>\n",
       "      <td>1</td>\n",
       "    </tr>\n",
       "    <tr>\n",
       "      <th>(0, 4)</th>\n",
       "      <td>0.000009</td>\n",
       "      <td>0.000045</td>\n",
       "      <td>9.187222e-07</td>\n",
       "      <td>1</td>\n",
       "    </tr>\n",
       "    <tr>\n",
       "      <th>(0, 5)</th>\n",
       "      <td>0.000019</td>\n",
       "      <td>0.000102</td>\n",
       "      <td>1.721606e-06</td>\n",
       "      <td>1</td>\n",
       "    </tr>\n",
       "    <tr>\n",
       "      <th>...</th>\n",
       "      <td>...</td>\n",
       "      <td>...</td>\n",
       "      <td>...</td>\n",
       "      <td>...</td>\n",
       "    </tr>\n",
       "    <tr>\n",
       "      <th>(6188, 6223)</th>\n",
       "      <td>0.004062</td>\n",
       "      <td>0.028220</td>\n",
       "      <td>2.100289e-03</td>\n",
       "      <td>2</td>\n",
       "    </tr>\n",
       "    <tr>\n",
       "      <th>(6195, 6196)</th>\n",
       "      <td>0.007158</td>\n",
       "      <td>0.042824</td>\n",
       "      <td>3.032109e-03</td>\n",
       "      <td>2</td>\n",
       "    </tr>\n",
       "    <tr>\n",
       "      <th>(6195, 6197)</th>\n",
       "      <td>0.010678</td>\n",
       "      <td>0.066433</td>\n",
       "      <td>4.404413e-03</td>\n",
       "      <td>2</td>\n",
       "    </tr>\n",
       "    <tr>\n",
       "      <th>(6196, 6197)</th>\n",
       "      <td>0.000351</td>\n",
       "      <td>0.002581</td>\n",
       "      <td>1.277162e-04</td>\n",
       "      <td>2</td>\n",
       "    </tr>\n",
       "    <tr>\n",
       "      <th>(6197, 6210)</th>\n",
       "      <td>0.015819</td>\n",
       "      <td>0.111309</td>\n",
       "      <td>1.011150e-02</td>\n",
       "      <td>2</td>\n",
       "    </tr>\n",
       "  </tbody>\n",
       "</table>\n",
       "<p>6046865 rows × 4 columns</p>\n",
       "</div>"
      ],
      "text/plain": [
       "                     0         1             2  subgroup\n",
       "(0, 1)        0.000011  0.000057  1.149827e-06         1\n",
       "(0, 2)        0.000454  0.003055  2.542126e-05         1\n",
       "(0, 3)        0.000726  0.004839  4.175447e-05         1\n",
       "(0, 4)        0.000009  0.000045  9.187222e-07         1\n",
       "(0, 5)        0.000019  0.000102  1.721606e-06         1\n",
       "...                ...       ...           ...       ...\n",
       "(6188, 6223)  0.004062  0.028220  2.100289e-03         2\n",
       "(6195, 6196)  0.007158  0.042824  3.032109e-03         2\n",
       "(6195, 6197)  0.010678  0.066433  4.404413e-03         2\n",
       "(6196, 6197)  0.000351  0.002581  1.277162e-04         2\n",
       "(6197, 6210)  0.015819  0.111309  1.011150e-02         2\n",
       "\n",
       "[6046865 rows x 4 columns]"
      ]
     },
     "execution_count": 45,
     "metadata": {},
     "output_type": "execute_result"
    },
    {
     "name": "stdout",
     "output_type": "stream",
     "text": [
      "time: 4.98 s (started: 2023-05-18 17:27:38 -05:00)\n"
     ]
    }
   ],
   "source": [
    "df_edge_embeddings_join = pd.read_csv(\"{}/output_dgi/edge_embeddings_join/{}_edge-embeddings_join_{}_{}.csv\".format(dir, group[0], 3, \"L2\"), index_col=0)\n",
    "df_edge_embeddings_join"
   ]
  },
  {
   "cell_type": "code",
   "execution_count": 46,
   "metadata": {
    "notebookRunGroups": {
     "groupValue": "2"
    }
   },
   "outputs": [
    {
     "name": "stderr",
     "output_type": "stream",
     "text": [
      "  0%|                                                     | 0/1 [00:00<?, ?it/s]"
     ]
    },
    {
     "data": {
      "image/png": "[encoded data removed]",
      "text/plain": [
       "<Figure size 1000x700 with 1 Axes>"
      ]
     },
     "metadata": {},
     "output_type": "display_data"
    },
    {
     "name": "stderr",
     "output_type": "stream",
     "text": [
      "100%|█████████████████████████████████████████████| 1/1 [01:28<00:00, 88.36s/it]"
     ]
    },
    {
     "name": "stdout",
     "output_type": "stream",
     "text": [
      "time: 1min 28s (started: 2023-05-18 17:28:17 -05:00)\n"
     ]
    },
    {
     "name": "stderr",
     "output_type": "stream",
     "text": [
      "\n"
     ]
    }
   ],
   "source": [
    "# Plot join\n",
    "\n",
    "for dimension in tqdm(dimensions):\n",
    "    # Read dataset\n",
    "    df_edge_embeddings_join = pd.read_csv(\"{}/output_dgi/edge_embeddings_join/{}_edge-embeddings_join_{}_{}.csv\".format(dir, group[0], dimension, \"L2\"), index_col=0)\n",
    "\n",
    "    x = df_edge_embeddings_join.iloc[:, 0]\n",
    "    y = df_edge_embeddings_join.iloc[:, 1]\n",
    "    z = df_edge_embeddings_join.iloc[:, 2]\n",
    "\n",
    "    # Creating figure\n",
    "    fig = plt.figure(figsize = (10, 7))\n",
    "    ax = plt.axes(projection =\"3d\")\n",
    "\n",
    "    # Creating plot\n",
    "    ax.scatter3D(x, y, z, c=df_edge_embeddings_join.iloc[:, -1], alpha=0.1)\n",
    "    plt.title(\"Dimension: {}\".format(dimension))\n",
    "\n",
    "    # show plot\n",
    "    plt.show()"
   ]
  },
  {
   "attachments": {},
   "cell_type": "markdown",
   "metadata": {},
   "source": [
    "### Clustering"
   ]
  },
  {
   "cell_type": "code",
   "execution_count": null,
   "metadata": {},
   "outputs": [],
   "source": [
    "# silhouette_score(X_train.iloc[:, :-1], X_train.iloc[:, -1])"
   ]
  },
  {
   "cell_type": "code",
   "execution_count": 48,
   "metadata": {
    "notebookRunGroups": {
     "groupValue": "2"
    }
   },
   "outputs": [
    {
     "name": "stderr",
     "output_type": "stream",
     "text": [
      "100%|████████████████████████████████████████████| 1/1 [07:24<00:00, 444.03s/it]"
     ]
    },
    {
     "name": "stdout",
     "output_type": "stream",
     "text": [
      "time: 7min 24s (started: 2023-05-18 17:31:22 -05:00)\n"
     ]
    },
    {
     "name": "stderr",
     "output_type": "stream",
     "text": [
      "\n"
     ]
    }
   ],
   "source": [
    "# Outlier detection\n",
    "\n",
    "for dimension in tqdm(dimensions):\n",
    "    df_edge_embeddings_join = pd.read_csv(\"{}/output_dgi/edge_embeddings_join/{}_edge-embeddings_join_{}_{}.csv\".format(dir, group[0], dimension, \"L2\"), index_col=0)\n",
    "    \n",
    "    X_train = df_edge_embeddings_join.iloc[:, :-1]\n",
    "    clusterer = hdbscan.HDBSCAN(min_cluster_size=100, core_dist_n_jobs=-1).fit(X_train)"
   ]
  },
  {
   "cell_type": "code",
   "execution_count": 49,
   "metadata": {
    "notebookRunGroups": {
     "groupValue": "2"
    }
   },
   "outputs": [
    {
     "name": "stdout",
     "output_type": "stream",
     "text": [
      "604687\n"
     ]
    },
    {
     "data": {
      "text/plain": [
       "array([      0,       3,       4, ..., 6046836, 6046840, 6046850])"
      ]
     },
     "execution_count": 49,
     "metadata": {},
     "output_type": "execute_result"
    },
    {
     "name": "stdout",
     "output_type": "stream",
     "text": [
      "time: 11.5 s (started: 2023-05-18 17:38:55 -05:00)\n"
     ]
    }
   ],
   "source": [
    "threshold = pd.Series(clusterer.outlier_scores_).quantile(0.9)\n",
    "outliers = np.where(clusterer.outlier_scores_ > threshold)[0]\n",
    "\n",
    "print(len(outliers))\n",
    "outliers"
   ]
  },
  {
   "cell_type": "code",
   "execution_count": 32,
   "metadata": {
    "notebookRunGroups": {
     "groupValue": "2"
    }
   },
   "outputs": [
    {
     "name": "stdout",
     "output_type": "stream",
     "text": [
      "6046865\n",
      "604687\n",
      "5290325\n"
     ]
    },
    {
     "data": {
      "image/png": "[encoded data removed]",
      "text/plain": [
       "<Figure size 1000x700 with 1 Axes>"
      ]
     },
     "metadata": {},
     "output_type": "display_data"
    },
    {
     "name": "stdout",
     "output_type": "stream",
     "text": [
      "time: 1min 33s (started: 2023-05-14 16:55:45 -05:00)\n"
     ]
    }
   ],
   "source": [
    "print(len(df_edge_embeddings_join))\n",
    "fig = plt.figure(figsize = (10, 7))\n",
    "ax = plt.axes(projection =\"3d\")\n",
    "\n",
    "temp = df_edge_embeddings_join.iloc[outliers, :]\n",
    "x = temp.iloc[:, 0]\n",
    "y = temp.iloc[:, 1]\n",
    "z = temp.iloc[:, 2]\n",
    "ax.scatter3D(x, y, z, c=\"gray\", alpha=0.005)\n",
    "print(len(temp))\n",
    "\n",
    "temp = df_edge_embeddings_join.drop(df_edge_embeddings_join.index[outliers])\n",
    "x = temp.iloc[:, 0]\n",
    "y = temp.iloc[:, 1]\n",
    "z = temp.iloc[:, 2]\n",
    "ax.scatter3D(x, y, z, c=\"red\", alpha=0.005)\n",
    "print(len(temp))\n",
    "\n",
    "plt.title(\"Dimension: {}\".format(dimension))\n",
    "plt.show()"
   ]
  },
  {
   "attachments": {},
   "cell_type": "markdown",
   "metadata": {},
   "source": [
    "##### Short test"
   ]
  },
  {
   "cell_type": "code",
   "execution_count": 159,
   "metadata": {},
   "outputs": [],
   "source": [
    "h = np.array([0, 2, 3])"
   ]
  },
  {
   "cell_type": "code",
   "execution_count": 160,
   "metadata": {},
   "outputs": [
    {
     "name": "stdout",
     "output_type": "stream",
     "text": [
      "6\n"
     ]
    },
    {
     "data": {
      "text/html": [
       "<div>\n",
       "<style scoped>\n",
       "    .dataframe tbody tr th:only-of-type {\n",
       "        vertical-align: middle;\n",
       "    }\n",
       "\n",
       "    .dataframe tbody tr th {\n",
       "        vertical-align: top;\n",
       "    }\n",
       "\n",
       "    .dataframe thead th {\n",
       "        text-align: right;\n",
       "    }\n",
       "</style>\n",
       "<table border=\"1\" class=\"dataframe\">\n",
       "  <thead>\n",
       "    <tr style=\"text-align: right;\">\n",
       "      <th></th>\n",
       "      <th>x</th>\n",
       "      <th>y</th>\n",
       "    </tr>\n",
       "  </thead>\n",
       "  <tbody>\n",
       "    <tr>\n",
       "      <th>a</th>\n",
       "      <td>1.267958</td>\n",
       "      <td>-0.777996</td>\n",
       "    </tr>\n",
       "    <tr>\n",
       "      <th>b</th>\n",
       "      <td>0.367999</td>\n",
       "      <td>0.643993</td>\n",
       "    </tr>\n",
       "    <tr>\n",
       "      <th>c</th>\n",
       "      <td>-0.065813</td>\n",
       "      <td>-0.076241</td>\n",
       "    </tr>\n",
       "    <tr>\n",
       "      <th>d</th>\n",
       "      <td>-0.370284</td>\n",
       "      <td>0.677894</td>\n",
       "    </tr>\n",
       "    <tr>\n",
       "      <th>e</th>\n",
       "      <td>-0.123623</td>\n",
       "      <td>-0.542217</td>\n",
       "    </tr>\n",
       "    <tr>\n",
       "      <th>a</th>\n",
       "      <td>0.424043</td>\n",
       "      <td>-1.818676</td>\n",
       "    </tr>\n",
       "  </tbody>\n",
       "</table>\n",
       "</div>"
      ],
      "text/plain": [
       "          x         y\n",
       "a  1.267958 -0.777996\n",
       "b  0.367999  0.643993\n",
       "c -0.065813 -0.076241\n",
       "d -0.370284  0.677894\n",
       "e -0.123623 -0.542217\n",
       "a  0.424043 -1.818676"
      ]
     },
     "execution_count": 160,
     "metadata": {},
     "output_type": "execute_result"
    }
   ],
   "source": [
    "df = pd.DataFrame({'x':np.random.randn(6), 'y':np.random.randn(6)}, index=[\"a\" ,\"b\", \"c\" ,\"d\", \"e\", \"a\"])\n",
    "print(len(df))\n",
    "df"
   ]
  },
  {
   "cell_type": "code",
   "execution_count": 163,
   "metadata": {},
   "outputs": [
    {
     "data": {
      "text/plain": [
       "a    2\n",
       "b    1\n",
       "c    1\n",
       "d    1\n",
       "e    1\n",
       "Name: count, dtype: int64"
      ]
     },
     "execution_count": 163,
     "metadata": {},
     "output_type": "execute_result"
    }
   ],
   "source": [
    "df.index.value_counts()"
   ]
  },
  {
   "cell_type": "code",
   "execution_count": 161,
   "metadata": {},
   "outputs": [
    {
     "name": "stdout",
     "output_type": "stream",
     "text": [
      "3\n"
     ]
    },
    {
     "data": {
      "text/html": [
       "<div>\n",
       "<style scoped>\n",
       "    .dataframe tbody tr th:only-of-type {\n",
       "        vertical-align: middle;\n",
       "    }\n",
       "\n",
       "    .dataframe tbody tr th {\n",
       "        vertical-align: top;\n",
       "    }\n",
       "\n",
       "    .dataframe thead th {\n",
       "        text-align: right;\n",
       "    }\n",
       "</style>\n",
       "<table border=\"1\" class=\"dataframe\">\n",
       "  <thead>\n",
       "    <tr style=\"text-align: right;\">\n",
       "      <th></th>\n",
       "      <th>x</th>\n",
       "      <th>y</th>\n",
       "    </tr>\n",
       "  </thead>\n",
       "  <tbody>\n",
       "    <tr>\n",
       "      <th>a</th>\n",
       "      <td>1.267958</td>\n",
       "      <td>-0.777996</td>\n",
       "    </tr>\n",
       "    <tr>\n",
       "      <th>c</th>\n",
       "      <td>-0.065813</td>\n",
       "      <td>-0.076241</td>\n",
       "    </tr>\n",
       "    <tr>\n",
       "      <th>d</th>\n",
       "      <td>-0.370284</td>\n",
       "      <td>0.677894</td>\n",
       "    </tr>\n",
       "  </tbody>\n",
       "</table>\n",
       "</div>"
      ],
      "text/plain": [
       "          x         y\n",
       "a  1.267958 -0.777996\n",
       "c -0.065813 -0.076241\n",
       "d -0.370284  0.677894"
      ]
     },
     "execution_count": 161,
     "metadata": {},
     "output_type": "execute_result"
    }
   ],
   "source": [
    "e = df.iloc[h, :]\n",
    "print(len(e))\n",
    "e"
   ]
  },
  {
   "cell_type": "code",
   "execution_count": 162,
   "metadata": {},
   "outputs": [
    {
     "name": "stdout",
     "output_type": "stream",
     "text": [
      "2\n"
     ]
    },
    {
     "data": {
      "text/html": [
       "<div>\n",
       "<style scoped>\n",
       "    .dataframe tbody tr th:only-of-type {\n",
       "        vertical-align: middle;\n",
       "    }\n",
       "\n",
       "    .dataframe tbody tr th {\n",
       "        vertical-align: top;\n",
       "    }\n",
       "\n",
       "    .dataframe thead th {\n",
       "        text-align: right;\n",
       "    }\n",
       "</style>\n",
       "<table border=\"1\" class=\"dataframe\">\n",
       "  <thead>\n",
       "    <tr style=\"text-align: right;\">\n",
       "      <th></th>\n",
       "      <th>x</th>\n",
       "      <th>y</th>\n",
       "    </tr>\n",
       "  </thead>\n",
       "  <tbody>\n",
       "    <tr>\n",
       "      <th>b</th>\n",
       "      <td>0.367999</td>\n",
       "      <td>0.643993</td>\n",
       "    </tr>\n",
       "    <tr>\n",
       "      <th>e</th>\n",
       "      <td>-0.123623</td>\n",
       "      <td>-0.542217</td>\n",
       "    </tr>\n",
       "  </tbody>\n",
       "</table>\n",
       "</div>"
      ],
      "text/plain": [
       "          x         y\n",
       "b  0.367999  0.643993\n",
       "e -0.123623 -0.542217"
      ]
     },
     "execution_count": 162,
     "metadata": {},
     "output_type": "execute_result"
    }
   ],
   "source": [
    "d = df.drop(df.index[h])\n",
    "print(len(d))\n",
    "d"
   ]
  },
  {
   "attachments": {},
   "cell_type": "markdown",
   "metadata": {},
   "source": [
    "###  Filter common edges"
   ]
  },
  {
   "cell_type": "code",
   "execution_count": 33,
   "metadata": {
    "notebookRunGroups": {
     "groupValue": "2"
    }
   },
   "outputs": [
    {
     "data": {
      "text/html": [
       "<div>\n",
       "<style scoped>\n",
       "    .dataframe tbody tr th:only-of-type {\n",
       "        vertical-align: middle;\n",
       "    }\n",
       "\n",
       "    .dataframe tbody tr th {\n",
       "        vertical-align: top;\n",
       "    }\n",
       "\n",
       "    .dataframe thead th {\n",
       "        text-align: right;\n",
       "    }\n",
       "</style>\n",
       "<table border=\"1\" class=\"dataframe\">\n",
       "  <thead>\n",
       "    <tr style=\"text-align: right;\">\n",
       "      <th></th>\n",
       "      <th>0</th>\n",
       "      <th>1</th>\n",
       "      <th>2</th>\n",
       "      <th>subgroup</th>\n",
       "    </tr>\n",
       "  </thead>\n",
       "  <tbody>\n",
       "    <tr>\n",
       "      <th>(0, 2)</th>\n",
       "      <td>0.001284</td>\n",
       "      <td>2.294346e-06</td>\n",
       "      <td>0.002085</td>\n",
       "      <td>1</td>\n",
       "    </tr>\n",
       "    <tr>\n",
       "      <th>(0, 3)</th>\n",
       "      <td>0.002055</td>\n",
       "      <td>3.728568e-06</td>\n",
       "      <td>0.003333</td>\n",
       "      <td>1</td>\n",
       "    </tr>\n",
       "    <tr>\n",
       "      <th>(0, 5)</th>\n",
       "      <td>0.000054</td>\n",
       "      <td>1.358070e-07</td>\n",
       "      <td>0.000086</td>\n",
       "      <td>1</td>\n",
       "    </tr>\n",
       "    <tr>\n",
       "      <th>(0, 6)</th>\n",
       "      <td>0.002394</td>\n",
       "      <td>4.164416e-06</td>\n",
       "      <td>0.003894</td>\n",
       "      <td>1</td>\n",
       "    </tr>\n",
       "    <tr>\n",
       "      <th>(0, 7)</th>\n",
       "      <td>0.000155</td>\n",
       "      <td>7.287300e-08</td>\n",
       "      <td>0.000266</td>\n",
       "      <td>1</td>\n",
       "    </tr>\n",
       "    <tr>\n",
       "      <th>...</th>\n",
       "      <td>...</td>\n",
       "      <td>...</td>\n",
       "      <td>...</td>\n",
       "      <td>...</td>\n",
       "    </tr>\n",
       "    <tr>\n",
       "      <th>(6149, 6152)</th>\n",
       "      <td>1.093246</td>\n",
       "      <td>1.186073e-02</td>\n",
       "      <td>0.002970</td>\n",
       "      <td>2</td>\n",
       "    </tr>\n",
       "    <tr>\n",
       "      <th>(6169, 6196)</th>\n",
       "      <td>0.000892</td>\n",
       "      <td>6.111481e-03</td>\n",
       "      <td>0.056495</td>\n",
       "      <td>2</td>\n",
       "    </tr>\n",
       "    <tr>\n",
       "      <th>(6172, 6173)</th>\n",
       "      <td>0.005479</td>\n",
       "      <td>1.982702e-02</td>\n",
       "      <td>0.155009</td>\n",
       "      <td>2</td>\n",
       "    </tr>\n",
       "    <tr>\n",
       "      <th>(6195, 6196)</th>\n",
       "      <td>0.104157</td>\n",
       "      <td>9.270479e-03</td>\n",
       "      <td>0.134304</td>\n",
       "      <td>2</td>\n",
       "    </tr>\n",
       "    <tr>\n",
       "      <th>(6197, 6210)</th>\n",
       "      <td>0.902711</td>\n",
       "      <td>5.339804e-03</td>\n",
       "      <td>0.000692</td>\n",
       "      <td>2</td>\n",
       "    </tr>\n",
       "  </tbody>\n",
       "</table>\n",
       "<p>5290325 rows × 4 columns</p>\n",
       "</div>"
      ],
      "text/plain": [
       "                     0             1         2  subgroup\n",
       "(0, 2)        0.001284  2.294346e-06  0.002085         1\n",
       "(0, 3)        0.002055  3.728568e-06  0.003333         1\n",
       "(0, 5)        0.000054  1.358070e-07  0.000086         1\n",
       "(0, 6)        0.002394  4.164416e-06  0.003894         1\n",
       "(0, 7)        0.000155  7.287300e-08  0.000266         1\n",
       "...                ...           ...       ...       ...\n",
       "(6149, 6152)  1.093246  1.186073e-02  0.002970         2\n",
       "(6169, 6196)  0.000892  6.111481e-03  0.056495         2\n",
       "(6172, 6173)  0.005479  1.982702e-02  0.155009         2\n",
       "(6195, 6196)  0.104157  9.270479e-03  0.134304         2\n",
       "(6197, 6210)  0.902711  5.339804e-03  0.000692         2\n",
       "\n",
       "[5290325 rows x 4 columns]"
      ]
     },
     "execution_count": 33,
     "metadata": {},
     "output_type": "execute_result"
    },
    {
     "name": "stdout",
     "output_type": "stream",
     "text": [
      "time: 20.8 s (started: 2023-05-14 16:57:20 -05:00)\n"
     ]
    }
   ],
   "source": [
    "df_edge_embeddings_join_filter = df_edge_embeddings_join.drop(df_edge_embeddings_join.index[outliers])\n",
    "df_edge_embeddings_join_filter.to_csv(\"{}/output_dgi/edges_filter/{}_edges-filter_{}_{}.csv\".format(dir, group[0], 3, \"L2\"), index=True)\n",
    "df_edge_embeddings_join_filter"
   ]
  },
  {
   "cell_type": "code",
   "execution_count": 34,
   "metadata": {
    "notebookRunGroups": {
     "groupValue": "2"
    }
   },
   "outputs": [
    {
     "data": {
      "text/html": [
       "<div>\n",
       "<style scoped>\n",
       "    .dataframe tbody tr th:only-of-type {\n",
       "        vertical-align: middle;\n",
       "    }\n",
       "\n",
       "    .dataframe tbody tr th {\n",
       "        vertical-align: top;\n",
       "    }\n",
       "\n",
       "    .dataframe thead th {\n",
       "        text-align: right;\n",
       "    }\n",
       "</style>\n",
       "<table border=\"1\" class=\"dataframe\">\n",
       "  <thead>\n",
       "    <tr style=\"text-align: right;\">\n",
       "      <th></th>\n",
       "      <th></th>\n",
       "      <th>0</th>\n",
       "      <th>1</th>\n",
       "      <th>2</th>\n",
       "      <th>subgroup</th>\n",
       "    </tr>\n",
       "  </thead>\n",
       "  <tbody>\n",
       "    <tr>\n",
       "      <th rowspan=\"5\" valign=\"top\">0</th>\n",
       "      <th>2</th>\n",
       "      <td>0.001284</td>\n",
       "      <td>2.294346e-06</td>\n",
       "      <td>0.002085</td>\n",
       "      <td>1</td>\n",
       "    </tr>\n",
       "    <tr>\n",
       "      <th>3</th>\n",
       "      <td>0.002055</td>\n",
       "      <td>3.728568e-06</td>\n",
       "      <td>0.003333</td>\n",
       "      <td>1</td>\n",
       "    </tr>\n",
       "    <tr>\n",
       "      <th>5</th>\n",
       "      <td>0.000054</td>\n",
       "      <td>1.358070e-07</td>\n",
       "      <td>0.000086</td>\n",
       "      <td>1</td>\n",
       "    </tr>\n",
       "    <tr>\n",
       "      <th>6</th>\n",
       "      <td>0.002394</td>\n",
       "      <td>4.164416e-06</td>\n",
       "      <td>0.003894</td>\n",
       "      <td>1</td>\n",
       "    </tr>\n",
       "    <tr>\n",
       "      <th>7</th>\n",
       "      <td>0.000155</td>\n",
       "      <td>7.287300e-08</td>\n",
       "      <td>0.000266</td>\n",
       "      <td>1</td>\n",
       "    </tr>\n",
       "    <tr>\n",
       "      <th>...</th>\n",
       "      <th>...</th>\n",
       "      <td>...</td>\n",
       "      <td>...</td>\n",
       "      <td>...</td>\n",
       "      <td>...</td>\n",
       "    </tr>\n",
       "    <tr>\n",
       "      <th>6149</th>\n",
       "      <th>6152</th>\n",
       "      <td>1.093246</td>\n",
       "      <td>1.186073e-02</td>\n",
       "      <td>0.002970</td>\n",
       "      <td>2</td>\n",
       "    </tr>\n",
       "    <tr>\n",
       "      <th>6169</th>\n",
       "      <th>6196</th>\n",
       "      <td>0.000892</td>\n",
       "      <td>6.111481e-03</td>\n",
       "      <td>0.056495</td>\n",
       "      <td>2</td>\n",
       "    </tr>\n",
       "    <tr>\n",
       "      <th>6172</th>\n",
       "      <th>6173</th>\n",
       "      <td>0.005479</td>\n",
       "      <td>1.982702e-02</td>\n",
       "      <td>0.155009</td>\n",
       "      <td>2</td>\n",
       "    </tr>\n",
       "    <tr>\n",
       "      <th>6195</th>\n",
       "      <th>6196</th>\n",
       "      <td>0.104157</td>\n",
       "      <td>9.270479e-03</td>\n",
       "      <td>0.134304</td>\n",
       "      <td>2</td>\n",
       "    </tr>\n",
       "    <tr>\n",
       "      <th>6197</th>\n",
       "      <th>6210</th>\n",
       "      <td>0.902711</td>\n",
       "      <td>5.339804e-03</td>\n",
       "      <td>0.000692</td>\n",
       "      <td>2</td>\n",
       "    </tr>\n",
       "  </tbody>\n",
       "</table>\n",
       "<p>5290325 rows × 4 columns</p>\n",
       "</div>"
      ],
      "text/plain": [
       "                  0             1         2  subgroup\n",
       "0    2     0.001284  2.294346e-06  0.002085         1\n",
       "     3     0.002055  3.728568e-06  0.003333         1\n",
       "     5     0.000054  1.358070e-07  0.000086         1\n",
       "     6     0.002394  4.164416e-06  0.003894         1\n",
       "     7     0.000155  7.287300e-08  0.000266         1\n",
       "...             ...           ...       ...       ...\n",
       "6149 6152  1.093246  1.186073e-02  0.002970         2\n",
       "6169 6196  0.000892  6.111481e-03  0.056495         2\n",
       "6172 6173  0.005479  1.982702e-02  0.155009         2\n",
       "6195 6196  0.104157  9.270479e-03  0.134304         2\n",
       "6197 6210  0.902711  5.339804e-03  0.000692         2\n",
       "\n",
       "[5290325 rows x 4 columns]"
      ]
     },
     "execution_count": 34,
     "metadata": {},
     "output_type": "execute_result"
    },
    {
     "name": "stdout",
     "output_type": "stream",
     "text": [
      "time: 52.8 s (started: 2023-05-14 16:57:41 -05:00)\n"
     ]
    }
   ],
   "source": [
    "df_edge_embeddings_join_filter = pd.read_csv(\"{}/output_dgi/edges_filter/{}_edges-filter_{}_{}.csv\".format(dir, group[0], 3, \"L2\"), index_col=0)\n",
    "df_edge_embeddings_join_filter.set_index([pd.Index([eval(item) for item in df_edge_embeddings_join_filter.index])], inplace=True)\n",
    "df_edge_embeddings_join_filter.to_csv(\"{}/output_dgi/edges_filter/{}_edges-filter_{}_{}.csv\".format(dir, group[0], 3, \"L2\"), index=True)\n",
    "df_edge_embeddings_join_filter"
   ]
  },
  {
   "cell_type": "code",
   "execution_count": 35,
   "metadata": {
    "notebookRunGroups": {
     "groupValue": "2"
    }
   },
   "outputs": [
    {
     "data": {
      "text/html": [
       "<div>\n",
       "<style scoped>\n",
       "    .dataframe tbody tr th:only-of-type {\n",
       "        vertical-align: middle;\n",
       "    }\n",
       "\n",
       "    .dataframe tbody tr th {\n",
       "        vertical-align: top;\n",
       "    }\n",
       "\n",
       "    .dataframe thead th {\n",
       "        text-align: right;\n",
       "    }\n",
       "</style>\n",
       "<table border=\"1\" class=\"dataframe\">\n",
       "  <thead>\n",
       "    <tr style=\"text-align: right;\">\n",
       "      <th></th>\n",
       "      <th></th>\n",
       "      <th>0</th>\n",
       "      <th>1</th>\n",
       "      <th>2</th>\n",
       "      <th>subgroup</th>\n",
       "    </tr>\n",
       "  </thead>\n",
       "  <tbody>\n",
       "    <tr>\n",
       "      <th rowspan=\"5\" valign=\"top\">0</th>\n",
       "      <th>2</th>\n",
       "      <td>0.001284</td>\n",
       "      <td>2.294346e-06</td>\n",
       "      <td>0.002085</td>\n",
       "      <td>1</td>\n",
       "    </tr>\n",
       "    <tr>\n",
       "      <th>3</th>\n",
       "      <td>0.002055</td>\n",
       "      <td>3.728568e-06</td>\n",
       "      <td>0.003333</td>\n",
       "      <td>1</td>\n",
       "    </tr>\n",
       "    <tr>\n",
       "      <th>5</th>\n",
       "      <td>0.000054</td>\n",
       "      <td>1.358070e-07</td>\n",
       "      <td>0.000086</td>\n",
       "      <td>1</td>\n",
       "    </tr>\n",
       "    <tr>\n",
       "      <th>6</th>\n",
       "      <td>0.002394</td>\n",
       "      <td>4.164416e-06</td>\n",
       "      <td>0.003894</td>\n",
       "      <td>1</td>\n",
       "    </tr>\n",
       "    <tr>\n",
       "      <th>7</th>\n",
       "      <td>0.000155</td>\n",
       "      <td>7.287300e-08</td>\n",
       "      <td>0.000266</td>\n",
       "      <td>1</td>\n",
       "    </tr>\n",
       "    <tr>\n",
       "      <th>...</th>\n",
       "      <th>...</th>\n",
       "      <td>...</td>\n",
       "      <td>...</td>\n",
       "      <td>...</td>\n",
       "      <td>...</td>\n",
       "    </tr>\n",
       "    <tr>\n",
       "      <th>6149</th>\n",
       "      <th>6152</th>\n",
       "      <td>1.093246</td>\n",
       "      <td>1.186073e-02</td>\n",
       "      <td>0.002970</td>\n",
       "      <td>2</td>\n",
       "    </tr>\n",
       "    <tr>\n",
       "      <th>6169</th>\n",
       "      <th>6196</th>\n",
       "      <td>0.000892</td>\n",
       "      <td>6.111481e-03</td>\n",
       "      <td>0.056495</td>\n",
       "      <td>2</td>\n",
       "    </tr>\n",
       "    <tr>\n",
       "      <th>6172</th>\n",
       "      <th>6173</th>\n",
       "      <td>0.005479</td>\n",
       "      <td>1.982702e-02</td>\n",
       "      <td>0.155009</td>\n",
       "      <td>2</td>\n",
       "    </tr>\n",
       "    <tr>\n",
       "      <th>6195</th>\n",
       "      <th>6196</th>\n",
       "      <td>0.104157</td>\n",
       "      <td>9.270479e-03</td>\n",
       "      <td>0.134304</td>\n",
       "      <td>2</td>\n",
       "    </tr>\n",
       "    <tr>\n",
       "      <th>6197</th>\n",
       "      <th>6210</th>\n",
       "      <td>0.902711</td>\n",
       "      <td>5.339804e-03</td>\n",
       "      <td>0.000692</td>\n",
       "      <td>2</td>\n",
       "    </tr>\n",
       "  </tbody>\n",
       "</table>\n",
       "<p>5290325 rows × 4 columns</p>\n",
       "</div>"
      ],
      "text/plain": [
       "                  0             1         2  subgroup\n",
       "0    2     0.001284  2.294346e-06  0.002085         1\n",
       "     3     0.002055  3.728568e-06  0.003333         1\n",
       "     5     0.000054  1.358070e-07  0.000086         1\n",
       "     6     0.002394  4.164416e-06  0.003894         1\n",
       "     7     0.000155  7.287300e-08  0.000266         1\n",
       "...             ...           ...       ...       ...\n",
       "6149 6152  1.093246  1.186073e-02  0.002970         2\n",
       "6169 6196  0.000892  6.111481e-03  0.056495         2\n",
       "6172 6173  0.005479  1.982702e-02  0.155009         2\n",
       "6195 6196  0.104157  9.270479e-03  0.134304         2\n",
       "6197 6210  0.902711  5.339804e-03  0.000692         2\n",
       "\n",
       "[5290325 rows x 4 columns]"
      ]
     },
     "execution_count": 35,
     "metadata": {},
     "output_type": "execute_result"
    },
    {
     "name": "stdout",
     "output_type": "stream",
     "text": [
      "time: 2.12 s (started: 2023-05-14 16:58:33 -05:00)\n"
     ]
    }
   ],
   "source": [
    "df_edge_embeddings_join_filter = pd.read_csv(\"{}/output_dgi/edges_filter/{}_edges-filter_{}_{}.csv\".format(dir, group[0], 3, \"L2\"), index_col=[0, 1])\n",
    "df_edge_embeddings_join_filter"
   ]
  },
  {
   "cell_type": "code",
   "execution_count": 78,
   "metadata": {},
   "outputs": [
    {
     "data": {
      "text/html": [
       "<div>\n",
       "<style scoped>\n",
       "    .dataframe tbody tr th:only-of-type {\n",
       "        vertical-align: middle;\n",
       "    }\n",
       "\n",
       "    .dataframe tbody tr th {\n",
       "        vertical-align: top;\n",
       "    }\n",
       "\n",
       "    .dataframe thead th {\n",
       "        text-align: right;\n",
       "    }\n",
       "</style>\n",
       "<table border=\"1\" class=\"dataframe\">\n",
       "  <thead>\n",
       "    <tr style=\"text-align: right;\">\n",
       "      <th></th>\n",
       "      <th>idx</th>\n",
       "      <th>degree</th>\n",
       "      <th>ionMz</th>\n",
       "    </tr>\n",
       "  </thead>\n",
       "  <tbody>\n",
       "    <tr>\n",
       "      <th>0</th>\n",
       "      <td>0</td>\n",
       "      <td>29</td>\n",
       "      <td>59.0049</td>\n",
       "    </tr>\n",
       "    <tr>\n",
       "      <th>1</th>\n",
       "      <td>1</td>\n",
       "      <td>114</td>\n",
       "      <td>99.9716</td>\n",
       "    </tr>\n",
       "    <tr>\n",
       "      <th>2</th>\n",
       "      <td>2</td>\n",
       "      <td>30</td>\n",
       "      <td>120.9310</td>\n",
       "    </tr>\n",
       "    <tr>\n",
       "      <th>3</th>\n",
       "      <td>3</td>\n",
       "      <td>106</td>\n",
       "      <td>172.0403</td>\n",
       "    </tr>\n",
       "    <tr>\n",
       "      <th>4</th>\n",
       "      <td>4</td>\n",
       "      <td>119</td>\n",
       "      <td>183.0464</td>\n",
       "    </tr>\n",
       "    <tr>\n",
       "      <th>...</th>\n",
       "      <td>...</td>\n",
       "      <td>...</td>\n",
       "      <td>...</td>\n",
       "    </tr>\n",
       "    <tr>\n",
       "      <th>6230</th>\n",
       "      <td>6230</td>\n",
       "      <td>2</td>\n",
       "      <td>901.7714</td>\n",
       "    </tr>\n",
       "    <tr>\n",
       "      <th>6231</th>\n",
       "      <td>6231</td>\n",
       "      <td>4</td>\n",
       "      <td>835.3027</td>\n",
       "    </tr>\n",
       "    <tr>\n",
       "      <th>6232</th>\n",
       "      <td>6232</td>\n",
       "      <td>5</td>\n",
       "      <td>835.3377</td>\n",
       "    </tr>\n",
       "    <tr>\n",
       "      <th>6233</th>\n",
       "      <td>6233</td>\n",
       "      <td>2</td>\n",
       "      <td>844.5313</td>\n",
       "    </tr>\n",
       "    <tr>\n",
       "      <th>6234</th>\n",
       "      <td>6234</td>\n",
       "      <td>2</td>\n",
       "      <td>950.5794</td>\n",
       "    </tr>\n",
       "  </tbody>\n",
       "</table>\n",
       "<p>6235 rows × 3 columns</p>\n",
       "</div>"
      ],
      "text/plain": [
       "       idx  degree     ionMz\n",
       "0        0      29   59.0049\n",
       "1        1     114   99.9716\n",
       "2        2      30  120.9310\n",
       "3        3     106  172.0403\n",
       "4        4     119  183.0464\n",
       "...    ...     ...       ...\n",
       "6230  6230       2  901.7714\n",
       "6231  6231       4  835.3027\n",
       "6232  6232       5  835.3377\n",
       "6233  6233       2  844.5313\n",
       "6234  6234       2  950.5794\n",
       "\n",
       "[6235 rows x 3 columns]"
      ]
     },
     "execution_count": 78,
     "metadata": {},
     "output_type": "execute_result"
    },
    {
     "name": "stdout",
     "output_type": "stream",
     "text": [
      "time: 18.2 ms (started: 2023-05-14 12:09:23 -05:00)\n"
     ]
    }
   ],
   "source": [
    "df_nodes = pd.read_csv(\"{}/output_dgi/graph_data/{}_nodes_data_{}.csv\".format(dir, group[0], 1))\n",
    "df_nodes"
   ]
  },
  {
   "cell_type": "code",
   "execution_count": 36,
   "metadata": {
    "notebookRunGroups": {
     "groupValue": "2"
    }
   },
   "outputs": [
    {
     "name": "stderr",
     "output_type": "stream",
     "text": [
      "100%|████████████████████████████████████████████| 2/2 [00:00<00:00, 185.90it/s]\n",
      "100%|████████████████████████████████████████████| 1/1 [02:24<00:00, 144.97s/it]"
     ]
    },
    {
     "name": "stdout",
     "output_type": "stream",
     "text": [
      "time: 2min 24s (started: 2023-05-14 16:58:36 -05:00)\n"
     ]
    },
    {
     "name": "stderr",
     "output_type": "stream",
     "text": [
      "\n"
     ]
    }
   ],
   "source": [
    "# Mapping idx with ionMz\n",
    "dict_df_nodes = {}\n",
    "list_index = []\n",
    "for i in tqdm(subgroups):\n",
    "    df_nodes = pd.read_csv(\"{}/output_dgi/graph_data/{}_nodes_data_{}.csv\".format(dir, group[0], i))\n",
    "    dict_df_nodes[i] = df_nodes\n",
    "\n",
    "for dimension in tqdm(dimensions):\n",
    "    df_edge_embeddings_join_filter = pd.read_csv(\"{}/output_dgi/edges_filter/{}_edges-filter_{}_{}.csv\".format(dir, group[0], 3, \"L2\"), index_col=[0, 1])\n",
    "\n",
    "    for row in df_edge_embeddings_join_filter.itertuples():\n",
    "        df_nodes = dict_df_nodes[str(row[-1])]        \n",
    "        list_index.append((df_nodes.iloc[row[0][0], -1], df_nodes.iloc[row[0][1], -1]))"
   ]
  },
  {
   "cell_type": "code",
   "execution_count": 37,
   "metadata": {
    "notebookRunGroups": {
     "groupValue": "2"
    }
   },
   "outputs": [
    {
     "data": {
      "text/html": [
       "<div>\n",
       "<style scoped>\n",
       "    .dataframe tbody tr th:only-of-type {\n",
       "        vertical-align: middle;\n",
       "    }\n",
       "\n",
       "    .dataframe tbody tr th {\n",
       "        vertical-align: top;\n",
       "    }\n",
       "\n",
       "    .dataframe thead th {\n",
       "        text-align: right;\n",
       "    }\n",
       "</style>\n",
       "<table border=\"1\" class=\"dataframe\">\n",
       "  <thead>\n",
       "    <tr style=\"text-align: right;\">\n",
       "      <th></th>\n",
       "      <th></th>\n",
       "      <th>0</th>\n",
       "      <th>1</th>\n",
       "      <th>2</th>\n",
       "      <th>subgroup</th>\n",
       "    </tr>\n",
       "  </thead>\n",
       "  <tbody>\n",
       "    <tr>\n",
       "      <th rowspan=\"5\" valign=\"top\">59.0049</th>\n",
       "      <th>120.9310</th>\n",
       "      <td>0.001284</td>\n",
       "      <td>2.294346e-06</td>\n",
       "      <td>0.002085</td>\n",
       "      <td>1</td>\n",
       "    </tr>\n",
       "    <tr>\n",
       "      <th>172.0403</th>\n",
       "      <td>0.002055</td>\n",
       "      <td>3.728568e-06</td>\n",
       "      <td>0.003333</td>\n",
       "      <td>1</td>\n",
       "    </tr>\n",
       "    <tr>\n",
       "      <th>192.0498</th>\n",
       "      <td>0.000054</td>\n",
       "      <td>1.358070e-07</td>\n",
       "      <td>0.000086</td>\n",
       "      <td>1</td>\n",
       "    </tr>\n",
       "    <tr>\n",
       "      <th>210.0762</th>\n",
       "      <td>0.002394</td>\n",
       "      <td>4.164416e-06</td>\n",
       "      <td>0.003894</td>\n",
       "      <td>1</td>\n",
       "    </tr>\n",
       "    <tr>\n",
       "      <th>227.9431</th>\n",
       "      <td>0.000155</td>\n",
       "      <td>7.287300e-08</td>\n",
       "      <td>0.000266</td>\n",
       "      <td>1</td>\n",
       "    </tr>\n",
       "    <tr>\n",
       "      <th>...</th>\n",
       "      <th>...</th>\n",
       "      <td>...</td>\n",
       "      <td>...</td>\n",
       "      <td>...</td>\n",
       "      <td>...</td>\n",
       "    </tr>\n",
       "    <tr>\n",
       "      <th>731.2245</th>\n",
       "      <th>731.1490</th>\n",
       "      <td>1.093246</td>\n",
       "      <td>1.186073e-02</td>\n",
       "      <td>0.002970</td>\n",
       "      <td>2</td>\n",
       "    </tr>\n",
       "    <tr>\n",
       "      <th>637.2530</th>\n",
       "      <th>654.4398</th>\n",
       "      <td>0.000892</td>\n",
       "      <td>6.111481e-03</td>\n",
       "      <td>0.056495</td>\n",
       "      <td>2</td>\n",
       "    </tr>\n",
       "    <tr>\n",
       "      <th>829.9994</th>\n",
       "      <th>836.1700</th>\n",
       "      <td>0.005479</td>\n",
       "      <td>1.982702e-02</td>\n",
       "      <td>0.155009</td>\n",
       "      <td>2</td>\n",
       "    </tr>\n",
       "    <tr>\n",
       "      <th>585.1060</th>\n",
       "      <th>654.4398</th>\n",
       "      <td>0.104157</td>\n",
       "      <td>9.270479e-03</td>\n",
       "      <td>0.134304</td>\n",
       "      <td>2</td>\n",
       "    </tr>\n",
       "    <tr>\n",
       "      <th>655.3718</th>\n",
       "      <th>655.3228</th>\n",
       "      <td>0.902711</td>\n",
       "      <td>5.339804e-03</td>\n",
       "      <td>0.000692</td>\n",
       "      <td>2</td>\n",
       "    </tr>\n",
       "  </tbody>\n",
       "</table>\n",
       "<p>5290325 rows × 4 columns</p>\n",
       "</div>"
      ],
      "text/plain": [
       "                          0             1         2  subgroup\n",
       "59.0049  120.9310  0.001284  2.294346e-06  0.002085         1\n",
       "         172.0403  0.002055  3.728568e-06  0.003333         1\n",
       "         192.0498  0.000054  1.358070e-07  0.000086         1\n",
       "         210.0762  0.002394  4.164416e-06  0.003894         1\n",
       "         227.9431  0.000155  7.287300e-08  0.000266         1\n",
       "...                     ...           ...       ...       ...\n",
       "731.2245 731.1490  1.093246  1.186073e-02  0.002970         2\n",
       "637.2530 654.4398  0.000892  6.111481e-03  0.056495         2\n",
       "829.9994 836.1700  0.005479  1.982702e-02  0.155009         2\n",
       "585.1060 654.4398  0.104157  9.270479e-03  0.134304         2\n",
       "655.3718 655.3228  0.902711  5.339804e-03  0.000692         2\n",
       "\n",
       "[5290325 rows x 4 columns]"
      ]
     },
     "execution_count": 37,
     "metadata": {},
     "output_type": "execute_result"
    },
    {
     "name": "stdout",
     "output_type": "stream",
     "text": [
      "time: 2.1 s (started: 2023-05-14 17:01:01 -05:00)\n"
     ]
    }
   ],
   "source": [
    "# Set new index\n",
    "df_edge_embeddings_join_filter.set_index([pd.Index(list_index)], inplace=True)\n",
    "df_edge_embeddings_join_filter"
   ]
  },
  {
   "cell_type": "code",
   "execution_count": 38,
   "metadata": {
    "notebookRunGroups": {
     "groupValue": "2"
    }
   },
   "outputs": [
    {
     "data": {
      "text/html": [
       "<div>\n",
       "<style scoped>\n",
       "    .dataframe tbody tr th:only-of-type {\n",
       "        vertical-align: middle;\n",
       "    }\n",
       "\n",
       "    .dataframe tbody tr th {\n",
       "        vertical-align: top;\n",
       "    }\n",
       "\n",
       "    .dataframe thead th {\n",
       "        text-align: right;\n",
       "    }\n",
       "</style>\n",
       "<table border=\"1\" class=\"dataframe\">\n",
       "  <thead>\n",
       "    <tr style=\"text-align: right;\">\n",
       "      <th></th>\n",
       "      <th></th>\n",
       "      <th>count</th>\n",
       "    </tr>\n",
       "  </thead>\n",
       "  <tbody>\n",
       "    <tr>\n",
       "      <th>265.1480</th>\n",
       "      <th>764.0502</th>\n",
       "      <td>2</td>\n",
       "    </tr>\n",
       "    <tr>\n",
       "      <th rowspan=\"4\" valign=\"top\">319.2309</th>\n",
       "      <th>589.4467</th>\n",
       "      <td>2</td>\n",
       "    </tr>\n",
       "    <tr>\n",
       "      <th>597.3792</th>\n",
       "      <td>2</td>\n",
       "    </tr>\n",
       "    <tr>\n",
       "      <th>596.3795</th>\n",
       "      <td>2</td>\n",
       "    </tr>\n",
       "    <tr>\n",
       "      <th>595.3766</th>\n",
       "      <td>2</td>\n",
       "    </tr>\n",
       "    <tr>\n",
       "      <th>...</th>\n",
       "      <th>...</th>\n",
       "      <td>...</td>\n",
       "    </tr>\n",
       "    <tr>\n",
       "      <th>808.1180</th>\n",
       "      <th>876.6106</th>\n",
       "      <td>2</td>\n",
       "    </tr>\n",
       "    <tr>\n",
       "      <th>147.0487</th>\n",
       "      <th>303.9522</th>\n",
       "      <td>2</td>\n",
       "    </tr>\n",
       "    <tr>\n",
       "      <th>351.2820</th>\n",
       "      <th>770.5828</th>\n",
       "      <td>2</td>\n",
       "    </tr>\n",
       "    <tr>\n",
       "      <th>806.4884</th>\n",
       "      <th>895.6138</th>\n",
       "      <td>2</td>\n",
       "    </tr>\n",
       "    <tr>\n",
       "      <th>415.3062</th>\n",
       "      <th>899.5209</th>\n",
       "      <td>2</td>\n",
       "    </tr>\n",
       "  </tbody>\n",
       "</table>\n",
       "<p>463628 rows × 1 columns</p>\n",
       "</div>"
      ],
      "text/plain": [
       "                   count\n",
       "265.1480 764.0502      2\n",
       "319.2309 589.4467      2\n",
       "         597.3792      2\n",
       "         596.3795      2\n",
       "         595.3766      2\n",
       "...                  ...\n",
       "808.1180 876.6106      2\n",
       "147.0487 303.9522      2\n",
       "351.2820 770.5828      2\n",
       "806.4884 895.6138      2\n",
       "415.3062 899.5209      2\n",
       "\n",
       "[463628 rows x 1 columns]"
      ]
     },
     "execution_count": 38,
     "metadata": {},
     "output_type": "execute_result"
    },
    {
     "name": "stdout",
     "output_type": "stream",
     "text": [
      "time: 1.74 s (started: 2023-05-14 17:01:03 -05:00)\n"
     ]
    }
   ],
   "source": [
    "# Count\n",
    "temp = df_edge_embeddings_join_filter.index.value_counts().to_frame()\n",
    "df_edge_embeddings_join_filter_count = temp[temp[\"count\"] == len(subgroups)]\n",
    "df_edge_embeddings_join_filter_count.to_csv(\"{}/output_dgi/edges_filter/{}_edges-filter-count_{}_{}.csv\".format(dir, group[0], dimension, \"L2\"), index=True)\n",
    "df_edge_embeddings_join_filter_count"
   ]
  },
  {
   "cell_type": "code",
   "execution_count": 39,
   "metadata": {
    "notebookRunGroups": {
     "groupValue": "2"
    }
   },
   "outputs": [
    {
     "name": "stdout",
     "output_type": "stream",
     "text": [
      "<class 'pandas.core.frame.DataFrame'>\n",
      "RangeIndex: 463628 entries, 0 to 463627\n",
      "Data columns (total 3 columns):\n",
      " #   Column  Non-Null Count   Dtype  \n",
      "---  ------  --------------   -----  \n",
      " 0   source  463628 non-null  float64\n",
      " 1   target  463628 non-null  float64\n",
      " 2   count   463628 non-null  int64  \n",
      "dtypes: float64(2), int64(1)\n",
      "memory usage: 10.6 MB\n",
      "None\n"
     ]
    },
    {
     "data": {
      "text/html": [
       "<div>\n",
       "<style scoped>\n",
       "    .dataframe tbody tr th:only-of-type {\n",
       "        vertical-align: middle;\n",
       "    }\n",
       "\n",
       "    .dataframe tbody tr th {\n",
       "        vertical-align: top;\n",
       "    }\n",
       "\n",
       "    .dataframe thead th {\n",
       "        text-align: right;\n",
       "    }\n",
       "</style>\n",
       "<table border=\"1\" class=\"dataframe\">\n",
       "  <thead>\n",
       "    <tr style=\"text-align: right;\">\n",
       "      <th></th>\n",
       "      <th>source</th>\n",
       "      <th>target</th>\n",
       "      <th>count</th>\n",
       "    </tr>\n",
       "  </thead>\n",
       "  <tbody>\n",
       "    <tr>\n",
       "      <th>0</th>\n",
       "      <td>265.1480</td>\n",
       "      <td>764.0502</td>\n",
       "      <td>2</td>\n",
       "    </tr>\n",
       "    <tr>\n",
       "      <th>1</th>\n",
       "      <td>319.2309</td>\n",
       "      <td>589.4467</td>\n",
       "      <td>2</td>\n",
       "    </tr>\n",
       "    <tr>\n",
       "      <th>2</th>\n",
       "      <td>319.2309</td>\n",
       "      <td>597.3792</td>\n",
       "      <td>2</td>\n",
       "    </tr>\n",
       "    <tr>\n",
       "      <th>3</th>\n",
       "      <td>319.2309</td>\n",
       "      <td>596.3795</td>\n",
       "      <td>2</td>\n",
       "    </tr>\n",
       "    <tr>\n",
       "      <th>4</th>\n",
       "      <td>319.2309</td>\n",
       "      <td>595.3766</td>\n",
       "      <td>2</td>\n",
       "    </tr>\n",
       "    <tr>\n",
       "      <th>...</th>\n",
       "      <td>...</td>\n",
       "      <td>...</td>\n",
       "      <td>...</td>\n",
       "    </tr>\n",
       "    <tr>\n",
       "      <th>463623</th>\n",
       "      <td>808.1180</td>\n",
       "      <td>876.6106</td>\n",
       "      <td>2</td>\n",
       "    </tr>\n",
       "    <tr>\n",
       "      <th>463624</th>\n",
       "      <td>147.0487</td>\n",
       "      <td>303.9522</td>\n",
       "      <td>2</td>\n",
       "    </tr>\n",
       "    <tr>\n",
       "      <th>463625</th>\n",
       "      <td>351.2820</td>\n",
       "      <td>770.5828</td>\n",
       "      <td>2</td>\n",
       "    </tr>\n",
       "    <tr>\n",
       "      <th>463626</th>\n",
       "      <td>806.4884</td>\n",
       "      <td>895.6138</td>\n",
       "      <td>2</td>\n",
       "    </tr>\n",
       "    <tr>\n",
       "      <th>463627</th>\n",
       "      <td>415.3062</td>\n",
       "      <td>899.5209</td>\n",
       "      <td>2</td>\n",
       "    </tr>\n",
       "  </tbody>\n",
       "</table>\n",
       "<p>463628 rows × 3 columns</p>\n",
       "</div>"
      ],
      "text/plain": [
       "          source    target  count\n",
       "0       265.1480  764.0502      2\n",
       "1       319.2309  589.4467      2\n",
       "2       319.2309  597.3792      2\n",
       "3       319.2309  596.3795      2\n",
       "4       319.2309  595.3766      2\n",
       "...          ...       ...    ...\n",
       "463623  808.1180  876.6106      2\n",
       "463624  147.0487  303.9522      2\n",
       "463625  351.2820  770.5828      2\n",
       "463626  806.4884  895.6138      2\n",
       "463627  415.3062  899.5209      2\n",
       "\n",
       "[463628 rows x 3 columns]"
      ]
     },
     "execution_count": 39,
     "metadata": {},
     "output_type": "execute_result"
    },
    {
     "name": "stdout",
     "output_type": "stream",
     "text": [
      "time: 86.3 ms (started: 2023-05-14 17:01:05 -05:00)\n"
     ]
    }
   ],
   "source": [
    "df_edge_embeddings_join_filter_count = pd.read_csv(\"{}/output_dgi/edges_filter/{}_edges-filter-count_{}_{}.csv\".format(dir, group[0], 3, \"L2\"))\n",
    "df_edge_embeddings_join_filter_count.columns = [\"source\", \"target\", \"count\"]\n",
    "print(df_edge_embeddings_join_filter_count.info())\n",
    "df_edge_embeddings_join_filter_count"
   ]
  },
  {
   "cell_type": "code",
   "execution_count": 76,
   "metadata": {},
   "outputs": [
    {
     "name": "stdout",
     "output_type": "stream",
     "text": [
      "<class 'pandas.core.frame.DataFrame'>\n",
      "RangeIndex: 4417355 entries, 0 to 4417354\n",
      "Data columns (total 3 columns):\n",
      " #   Column  Dtype  \n",
      "---  ------  -----  \n",
      " 0   source  float64\n",
      " 1   target  float64\n",
      " 2   weight  float64\n",
      "dtypes: float64(3)\n",
      "memory usage: 101.1 MB\n",
      "None\n"
     ]
    },
    {
     "data": {
      "text/html": [
       "<div>\n",
       "<style scoped>\n",
       "    .dataframe tbody tr th:only-of-type {\n",
       "        vertical-align: middle;\n",
       "    }\n",
       "\n",
       "    .dataframe tbody tr th {\n",
       "        vertical-align: top;\n",
       "    }\n",
       "\n",
       "    .dataframe thead th {\n",
       "        text-align: right;\n",
       "    }\n",
       "</style>\n",
       "<table border=\"1\" class=\"dataframe\">\n",
       "  <thead>\n",
       "    <tr style=\"text-align: right;\">\n",
       "      <th></th>\n",
       "      <th>source</th>\n",
       "      <th>target</th>\n",
       "      <th>weight</th>\n",
       "    </tr>\n",
       "  </thead>\n",
       "  <tbody>\n",
       "    <tr>\n",
       "      <th>0</th>\n",
       "      <td>59.0049</td>\n",
       "      <td>338.1873</td>\n",
       "      <td>0.507709</td>\n",
       "    </tr>\n",
       "    <tr>\n",
       "      <th>1</th>\n",
       "      <td>59.0049</td>\n",
       "      <td>357.2834</td>\n",
       "      <td>0.516811</td>\n",
       "    </tr>\n",
       "    <tr>\n",
       "      <th>2</th>\n",
       "      <td>59.0049</td>\n",
       "      <td>453.9675</td>\n",
       "      <td>0.507832</td>\n",
       "    </tr>\n",
       "    <tr>\n",
       "      <th>3</th>\n",
       "      <td>59.0049</td>\n",
       "      <td>587.1823</td>\n",
       "      <td>0.521553</td>\n",
       "    </tr>\n",
       "    <tr>\n",
       "      <th>4</th>\n",
       "      <td>59.0049</td>\n",
       "      <td>613.3933</td>\n",
       "      <td>0.516046</td>\n",
       "    </tr>\n",
       "    <tr>\n",
       "      <th>...</th>\n",
       "      <td>...</td>\n",
       "      <td>...</td>\n",
       "      <td>...</td>\n",
       "    </tr>\n",
       "    <tr>\n",
       "      <th>4417350</th>\n",
       "      <td>996.5509</td>\n",
       "      <td>997.5542</td>\n",
       "      <td>0.618624</td>\n",
       "    </tr>\n",
       "    <tr>\n",
       "      <th>4417351</th>\n",
       "      <td>996.5509</td>\n",
       "      <td>998.4845</td>\n",
       "      <td>0.678071</td>\n",
       "    </tr>\n",
       "    <tr>\n",
       "      <th>4417352</th>\n",
       "      <td>996.7096</td>\n",
       "      <td>997.5542</td>\n",
       "      <td>0.566913</td>\n",
       "    </tr>\n",
       "    <tr>\n",
       "      <th>4417353</th>\n",
       "      <td>997.5542</td>\n",
       "      <td>997.7131</td>\n",
       "      <td>0.589712</td>\n",
       "    </tr>\n",
       "    <tr>\n",
       "      <th>4417354</th>\n",
       "      <td>997.5542</td>\n",
       "      <td>998.4845</td>\n",
       "      <td>0.658405</td>\n",
       "    </tr>\n",
       "  </tbody>\n",
       "</table>\n",
       "<p>4417355 rows × 3 columns</p>\n",
       "</div>"
      ],
      "text/plain": [
       "           source    target    weight\n",
       "0         59.0049  338.1873  0.507709\n",
       "1         59.0049  357.2834  0.516811\n",
       "2         59.0049  453.9675  0.507832\n",
       "3         59.0049  587.1823  0.521553\n",
       "4         59.0049  613.3933  0.516046\n",
       "...           ...       ...       ...\n",
       "4417350  996.5509  997.5542  0.618624\n",
       "4417351  996.5509  998.4845  0.678071\n",
       "4417352  996.7096  997.5542  0.566913\n",
       "4417353  997.5542  997.7131  0.589712\n",
       "4417354  997.5542  998.4845  0.658405\n",
       "\n",
       "[4417355 rows x 3 columns]"
      ]
     },
     "execution_count": 76,
     "metadata": {},
     "output_type": "execute_result"
    },
    {
     "name": "stdout",
     "output_type": "stream",
     "text": [
      "time: 917 ms (started: 2023-05-14 12:06:36 -05:00)\n"
     ]
    }
   ],
   "source": [
    "df_edges = pd.read_csv(\"{}/output_dgi/edges/{}_edges_{}.csv\".format(dir, group[0], 2))\n",
    "print(df_edges.info())\n",
    "df_edges"
   ]
  },
  {
   "cell_type": "code",
   "execution_count": 40,
   "metadata": {
    "notebookRunGroups": {
     "groupValue": "2"
    }
   },
   "outputs": [
    {
     "name": "stderr",
     "output_type": "stream",
     "text": [
      "100%|█████████████████████████████████████████████| 2/2 [00:09<00:00,  4.67s/it]\n"
     ]
    },
    {
     "data": {
      "text/html": [
       "<div>\n",
       "<style scoped>\n",
       "    .dataframe tbody tr th:only-of-type {\n",
       "        vertical-align: middle;\n",
       "    }\n",
       "\n",
       "    .dataframe tbody tr th {\n",
       "        vertical-align: top;\n",
       "    }\n",
       "\n",
       "    .dataframe thead th {\n",
       "        text-align: right;\n",
       "    }\n",
       "</style>\n",
       "<table border=\"1\" class=\"dataframe\">\n",
       "  <thead>\n",
       "    <tr style=\"text-align: right;\">\n",
       "      <th></th>\n",
       "      <th>source</th>\n",
       "      <th>target</th>\n",
       "      <th>count</th>\n",
       "      <th>idx</th>\n",
       "      <th>subgroup1</th>\n",
       "      <th>subgroup2</th>\n",
       "    </tr>\n",
       "  </thead>\n",
       "  <tbody>\n",
       "    <tr>\n",
       "      <th>420013</th>\n",
       "      <td>59.0137</td>\n",
       "      <td>74.0249</td>\n",
       "      <td>2</td>\n",
       "      <td>59.0137-74.0249</td>\n",
       "      <td>0.756185</td>\n",
       "      <td>0.617955</td>\n",
       "    </tr>\n",
       "    <tr>\n",
       "      <th>420012</th>\n",
       "      <td>59.0137</td>\n",
       "      <td>78.9592</td>\n",
       "      <td>2</td>\n",
       "      <td>59.0137-78.9592</td>\n",
       "      <td>0.597487</td>\n",
       "      <td>0.746746</td>\n",
       "    </tr>\n",
       "    <tr>\n",
       "      <th>420011</th>\n",
       "      <td>59.0137</td>\n",
       "      <td>96.9602</td>\n",
       "      <td>2</td>\n",
       "      <td>59.0137-96.9602</td>\n",
       "      <td>0.828449</td>\n",
       "      <td>0.646446</td>\n",
       "    </tr>\n",
       "    <tr>\n",
       "      <th>420010</th>\n",
       "      <td>59.0137</td>\n",
       "      <td>96.9688</td>\n",
       "      <td>2</td>\n",
       "      <td>59.0137-96.9688</td>\n",
       "      <td>0.822159</td>\n",
       "      <td>0.684910</td>\n",
       "    </tr>\n",
       "    <tr>\n",
       "      <th>420009</th>\n",
       "      <td>59.0137</td>\n",
       "      <td>101.0243</td>\n",
       "      <td>2</td>\n",
       "      <td>59.0137-101.0243</td>\n",
       "      <td>0.567577</td>\n",
       "      <td>0.641071</td>\n",
       "    </tr>\n",
       "    <tr>\n",
       "      <th>...</th>\n",
       "      <td>...</td>\n",
       "      <td>...</td>\n",
       "      <td>...</td>\n",
       "      <td>...</td>\n",
       "      <td>...</td>\n",
       "      <td>...</td>\n",
       "    </tr>\n",
       "    <tr>\n",
       "      <th>421937</th>\n",
       "      <td>984.7590</td>\n",
       "      <td>987.7787</td>\n",
       "      <td>2</td>\n",
       "      <td>984.759-987.7787</td>\n",
       "      <td>0.538575</td>\n",
       "      <td>0.716540</td>\n",
       "    </tr>\n",
       "    <tr>\n",
       "      <th>422133</th>\n",
       "      <td>985.7644</td>\n",
       "      <td>987.7787</td>\n",
       "      <td>2</td>\n",
       "      <td>985.7644-987.7787</td>\n",
       "      <td>0.500747</td>\n",
       "      <td>0.556020</td>\n",
       "    </tr>\n",
       "    <tr>\n",
       "      <th>419469</th>\n",
       "      <td>986.7752</td>\n",
       "      <td>989.4484</td>\n",
       "      <td>2</td>\n",
       "      <td>986.7752-989.4484</td>\n",
       "      <td>0.527028</td>\n",
       "      <td>0.668604</td>\n",
       "    </tr>\n",
       "    <tr>\n",
       "      <th>419663</th>\n",
       "      <td>987.5639</td>\n",
       "      <td>990.5673</td>\n",
       "      <td>2</td>\n",
       "      <td>987.5639-990.5673</td>\n",
       "      <td>0.765752</td>\n",
       "      <td>0.633906</td>\n",
       "    </tr>\n",
       "    <tr>\n",
       "      <th>420215</th>\n",
       "      <td>988.5664</td>\n",
       "      <td>990.5673</td>\n",
       "      <td>2</td>\n",
       "      <td>988.5664-990.5673</td>\n",
       "      <td>0.603655</td>\n",
       "      <td>0.570618</td>\n",
       "    </tr>\n",
       "  </tbody>\n",
       "</table>\n",
       "<p>463628 rows × 6 columns</p>\n",
       "</div>"
      ],
      "text/plain": [
       "          source    target  count                idx  subgroup1  subgroup2\n",
       "420013   59.0137   74.0249      2    59.0137-74.0249   0.756185   0.617955\n",
       "420012   59.0137   78.9592      2    59.0137-78.9592   0.597487   0.746746\n",
       "420011   59.0137   96.9602      2    59.0137-96.9602   0.828449   0.646446\n",
       "420010   59.0137   96.9688      2    59.0137-96.9688   0.822159   0.684910\n",
       "420009   59.0137  101.0243      2   59.0137-101.0243   0.567577   0.641071\n",
       "...          ...       ...    ...                ...        ...        ...\n",
       "421937  984.7590  987.7787      2   984.759-987.7787   0.538575   0.716540\n",
       "422133  985.7644  987.7787      2  985.7644-987.7787   0.500747   0.556020\n",
       "419469  986.7752  989.4484      2  986.7752-989.4484   0.527028   0.668604\n",
       "419663  987.5639  990.5673      2  987.5639-990.5673   0.765752   0.633906\n",
       "420215  988.5664  990.5673      2  988.5664-990.5673   0.603655   0.570618\n",
       "\n",
       "[463628 rows x 6 columns]"
      ]
     },
     "execution_count": 40,
     "metadata": {},
     "output_type": "execute_result"
    },
    {
     "name": "stdout",
     "output_type": "stream",
     "text": [
      "time: 10.2 s (started: 2023-05-14 17:01:05 -05:00)\n"
     ]
    }
   ],
   "source": [
    "# Get weight\n",
    "df_edge_embeddings_join_filter_count_weight = df_edge_embeddings_join_filter_count.copy()\n",
    "s = []\n",
    "t = []\n",
    "for row in df_edge_embeddings_join_filter_count_weight.itertuples():\n",
    "    if row[1] > row[2]:\n",
    "        s.append(row[2])\n",
    "        t.append(row[1])\n",
    "    else:\n",
    "        s.append(row[1])\n",
    "        t.append(row[2])\n",
    "df_edge_embeddings_join_filter_count_weight[\"source\"] = s\n",
    "df_edge_embeddings_join_filter_count_weight[\"target\"] = t\n",
    "\n",
    "# df_edge_embeddings_join_filter_count_weight = df_edge_embeddings_join_filter_count.copy()\n",
    "df_edge_embeddings_join_filter_count_weight.sort_values([\"source\", \"target\"], ascending=True, inplace=True)\n",
    "df_edge_embeddings_join_filter_count_weight[\"idx\"] = df_edge_embeddings_join_filter_count_weight[\"source\"].astype(str) + \"-\" + df_edge_embeddings_join_filter_count_weight[\"target\"].astype(str)\n",
    "list_aux = df_edge_embeddings_join_filter_count_weight.iloc[:, -1].values\n",
    "\n",
    "for i in tqdm(subgroups):\n",
    "    df_edges = pd.read_csv(\"{}/output_dgi/edges/{}_edges_{}.csv\".format(dir, group[0], i))\n",
    "    df_edges.sort_values([\"source\", \"target\"], ascending=True, inplace=True)\n",
    "    df_edges[\"idx\"] = df_edges[\"source\"].astype(str) + \"-\" + df_edges[\"target\"].astype(str)\n",
    "\n",
    "    \"\"\" list_temp = []\n",
    "    # for j in tqdm(range(len(df_edges_filter_count_weight))):\n",
    "    for row in tqdm(df_edge_embeddings_join_filter_count_weight.itertuples()):\n",
    "        # weight = 1 # df_edges[(df_edges[\"source\"] == row[1]) & (df_edges[\"target\"] == row[2])].iloc[0, -1]\n",
    "        weight = df_edges[df_edges[\"idx\"] == \"{}-{}\".format(row[1], row[2])].iloc[0, -2]\n",
    "        list_temp.append(weight) \"\"\"\n",
    "    \n",
    "    filter = df_edges[\"idx\"].isin(list_aux)\n",
    "    temp = df_edges[filter]\n",
    "    list_temp = temp.iloc[:, -2].values\n",
    "    df_edge_embeddings_join_filter_count_weight[\"subgroup{}\".format(i)] = list_temp\n",
    "df_edge_embeddings_join_filter_count_weight\n"
   ]
  },
  {
   "cell_type": "code",
   "execution_count": 97,
   "metadata": {},
   "outputs": [
    {
     "data": {
      "text/plain": [
       "0.6686041901755109"
      ]
     },
     "execution_count": 97,
     "metadata": {},
     "output_type": "execute_result"
    },
    {
     "name": "stdout",
     "output_type": "stream",
     "text": [
      "time: 874 ms (started: 2023-05-14 12:32:30 -05:00)\n"
     ]
    }
   ],
   "source": [
    "df_edges = pd.read_csv(\"{}/output_dgi/edges/{}_edges_{}.csv\".format(dir, group[0], 2))\n",
    "df_edges[(df_edges[\"source\"] == 986.7752) & (df_edges[\"target\"] == 989.4484)].iloc[0, -1]"
   ]
  },
  {
   "cell_type": "code",
   "execution_count": 41,
   "metadata": {
    "notebookRunGroups": {
     "groupValue": "2"
    }
   },
   "outputs": [
    {
     "data": {
      "text/html": [
       "<div>\n",
       "<style scoped>\n",
       "    .dataframe tbody tr th:only-of-type {\n",
       "        vertical-align: middle;\n",
       "    }\n",
       "\n",
       "    .dataframe tbody tr th {\n",
       "        vertical-align: top;\n",
       "    }\n",
       "\n",
       "    .dataframe thead th {\n",
       "        text-align: right;\n",
       "    }\n",
       "</style>\n",
       "<table border=\"1\" class=\"dataframe\">\n",
       "  <thead>\n",
       "    <tr style=\"text-align: right;\">\n",
       "      <th></th>\n",
       "      <th>source</th>\n",
       "      <th>target</th>\n",
       "      <th>count</th>\n",
       "      <th>idx</th>\n",
       "      <th>subgroup1</th>\n",
       "      <th>subgroup2</th>\n",
       "      <th>std</th>\n",
       "    </tr>\n",
       "  </thead>\n",
       "  <tbody>\n",
       "    <tr>\n",
       "      <th>420013</th>\n",
       "      <td>59.0137</td>\n",
       "      <td>74.0249</td>\n",
       "      <td>2</td>\n",
       "      <td>59.0137-74.0249</td>\n",
       "      <td>0.756185</td>\n",
       "      <td>0.617955</td>\n",
       "      <td>0.069115</td>\n",
       "    </tr>\n",
       "    <tr>\n",
       "      <th>420012</th>\n",
       "      <td>59.0137</td>\n",
       "      <td>78.9592</td>\n",
       "      <td>2</td>\n",
       "      <td>59.0137-78.9592</td>\n",
       "      <td>0.597487</td>\n",
       "      <td>0.746746</td>\n",
       "      <td>0.074630</td>\n",
       "    </tr>\n",
       "    <tr>\n",
       "      <th>420011</th>\n",
       "      <td>59.0137</td>\n",
       "      <td>96.9602</td>\n",
       "      <td>2</td>\n",
       "      <td>59.0137-96.9602</td>\n",
       "      <td>0.828449</td>\n",
       "      <td>0.646446</td>\n",
       "      <td>0.091002</td>\n",
       "    </tr>\n",
       "    <tr>\n",
       "      <th>420010</th>\n",
       "      <td>59.0137</td>\n",
       "      <td>96.9688</td>\n",
       "      <td>2</td>\n",
       "      <td>59.0137-96.9688</td>\n",
       "      <td>0.822159</td>\n",
       "      <td>0.684910</td>\n",
       "      <td>0.068625</td>\n",
       "    </tr>\n",
       "    <tr>\n",
       "      <th>420009</th>\n",
       "      <td>59.0137</td>\n",
       "      <td>101.0243</td>\n",
       "      <td>2</td>\n",
       "      <td>59.0137-101.0243</td>\n",
       "      <td>0.567577</td>\n",
       "      <td>0.641071</td>\n",
       "      <td>0.036747</td>\n",
       "    </tr>\n",
       "    <tr>\n",
       "      <th>...</th>\n",
       "      <td>...</td>\n",
       "      <td>...</td>\n",
       "      <td>...</td>\n",
       "      <td>...</td>\n",
       "      <td>...</td>\n",
       "      <td>...</td>\n",
       "      <td>...</td>\n",
       "    </tr>\n",
       "    <tr>\n",
       "      <th>421937</th>\n",
       "      <td>984.7590</td>\n",
       "      <td>987.7787</td>\n",
       "      <td>2</td>\n",
       "      <td>984.759-987.7787</td>\n",
       "      <td>0.538575</td>\n",
       "      <td>0.716540</td>\n",
       "      <td>0.088982</td>\n",
       "    </tr>\n",
       "    <tr>\n",
       "      <th>422133</th>\n",
       "      <td>985.7644</td>\n",
       "      <td>987.7787</td>\n",
       "      <td>2</td>\n",
       "      <td>985.7644-987.7787</td>\n",
       "      <td>0.500747</td>\n",
       "      <td>0.556020</td>\n",
       "      <td>0.027636</td>\n",
       "    </tr>\n",
       "    <tr>\n",
       "      <th>419469</th>\n",
       "      <td>986.7752</td>\n",
       "      <td>989.4484</td>\n",
       "      <td>2</td>\n",
       "      <td>986.7752-989.4484</td>\n",
       "      <td>0.527028</td>\n",
       "      <td>0.668604</td>\n",
       "      <td>0.070788</td>\n",
       "    </tr>\n",
       "    <tr>\n",
       "      <th>419663</th>\n",
       "      <td>987.5639</td>\n",
       "      <td>990.5673</td>\n",
       "      <td>2</td>\n",
       "      <td>987.5639-990.5673</td>\n",
       "      <td>0.765752</td>\n",
       "      <td>0.633906</td>\n",
       "      <td>0.065923</td>\n",
       "    </tr>\n",
       "    <tr>\n",
       "      <th>420215</th>\n",
       "      <td>988.5664</td>\n",
       "      <td>990.5673</td>\n",
       "      <td>2</td>\n",
       "      <td>988.5664-990.5673</td>\n",
       "      <td>0.603655</td>\n",
       "      <td>0.570618</td>\n",
       "      <td>0.016518</td>\n",
       "    </tr>\n",
       "  </tbody>\n",
       "</table>\n",
       "<p>463628 rows × 7 columns</p>\n",
       "</div>"
      ],
      "text/plain": [
       "          source    target  count                idx  subgroup1  subgroup2   \n",
       "420013   59.0137   74.0249      2    59.0137-74.0249   0.756185   0.617955  \\\n",
       "420012   59.0137   78.9592      2    59.0137-78.9592   0.597487   0.746746   \n",
       "420011   59.0137   96.9602      2    59.0137-96.9602   0.828449   0.646446   \n",
       "420010   59.0137   96.9688      2    59.0137-96.9688   0.822159   0.684910   \n",
       "420009   59.0137  101.0243      2   59.0137-101.0243   0.567577   0.641071   \n",
       "...          ...       ...    ...                ...        ...        ...   \n",
       "421937  984.7590  987.7787      2   984.759-987.7787   0.538575   0.716540   \n",
       "422133  985.7644  987.7787      2  985.7644-987.7787   0.500747   0.556020   \n",
       "419469  986.7752  989.4484      2  986.7752-989.4484   0.527028   0.668604   \n",
       "419663  987.5639  990.5673      2  987.5639-990.5673   0.765752   0.633906   \n",
       "420215  988.5664  990.5673      2  988.5664-990.5673   0.603655   0.570618   \n",
       "\n",
       "             std  \n",
       "420013  0.069115  \n",
       "420012  0.074630  \n",
       "420011  0.091002  \n",
       "420010  0.068625  \n",
       "420009  0.036747  \n",
       "...          ...  \n",
       "421937  0.088982  \n",
       "422133  0.027636  \n",
       "419469  0.070788  \n",
       "419663  0.065923  \n",
       "420215  0.016518  \n",
       "\n",
       "[463628 rows x 7 columns]"
      ]
     },
     "execution_count": 41,
     "metadata": {},
     "output_type": "execute_result"
    },
    {
     "name": "stdout",
     "output_type": "stream",
     "text": [
      "time: 76.2 ms (started: 2023-05-14 17:01:15 -05:00)\n"
     ]
    }
   ],
   "source": [
    "# Dispersion (std)\n",
    "df_edge_embeddings_join_filter_count_weight_std = df_edge_embeddings_join_filter_count_weight.copy()\n",
    "df_edge_embeddings_join_filter_count_weight_std[\"std\"] = np.std(df_edge_embeddings_join_filter_count_weight_std.iloc[:, -len(subgroups):], axis=1)\n",
    "df_edge_embeddings_join_filter_count_weight_std"
   ]
  },
  {
   "cell_type": "code",
   "execution_count": 42,
   "metadata": {
    "notebookRunGroups": {
     "groupValue": "2"
    }
   },
   "outputs": [
    {
     "data": {
      "text/html": [
       "<div>\n",
       "<style scoped>\n",
       "    .dataframe tbody tr th:only-of-type {\n",
       "        vertical-align: middle;\n",
       "    }\n",
       "\n",
       "    .dataframe tbody tr th {\n",
       "        vertical-align: top;\n",
       "    }\n",
       "\n",
       "    .dataframe thead th {\n",
       "        text-align: right;\n",
       "    }\n",
       "</style>\n",
       "<table border=\"1\" class=\"dataframe\">\n",
       "  <thead>\n",
       "    <tr style=\"text-align: right;\">\n",
       "      <th></th>\n",
       "      <th>source</th>\n",
       "      <th>target</th>\n",
       "      <th>count</th>\n",
       "      <th>idx</th>\n",
       "      <th>subgroup1</th>\n",
       "      <th>subgroup2</th>\n",
       "      <th>std</th>\n",
       "    </tr>\n",
       "  </thead>\n",
       "  <tbody>\n",
       "    <tr>\n",
       "      <th>420013</th>\n",
       "      <td>59.0137</td>\n",
       "      <td>74.0249</td>\n",
       "      <td>2</td>\n",
       "      <td>59.0137-74.0249</td>\n",
       "      <td>0.756185</td>\n",
       "      <td>0.617955</td>\n",
       "      <td>0.069115</td>\n",
       "    </tr>\n",
       "    <tr>\n",
       "      <th>420012</th>\n",
       "      <td>59.0137</td>\n",
       "      <td>78.9592</td>\n",
       "      <td>2</td>\n",
       "      <td>59.0137-78.9592</td>\n",
       "      <td>0.597487</td>\n",
       "      <td>0.746746</td>\n",
       "      <td>0.074630</td>\n",
       "    </tr>\n",
       "    <tr>\n",
       "      <th>420011</th>\n",
       "      <td>59.0137</td>\n",
       "      <td>96.9602</td>\n",
       "      <td>2</td>\n",
       "      <td>59.0137-96.9602</td>\n",
       "      <td>0.828449</td>\n",
       "      <td>0.646446</td>\n",
       "      <td>0.091002</td>\n",
       "    </tr>\n",
       "    <tr>\n",
       "      <th>420010</th>\n",
       "      <td>59.0137</td>\n",
       "      <td>96.9688</td>\n",
       "      <td>2</td>\n",
       "      <td>59.0137-96.9688</td>\n",
       "      <td>0.822159</td>\n",
       "      <td>0.684910</td>\n",
       "      <td>0.068625</td>\n",
       "    </tr>\n",
       "    <tr>\n",
       "      <th>420009</th>\n",
       "      <td>59.0137</td>\n",
       "      <td>101.0243</td>\n",
       "      <td>2</td>\n",
       "      <td>59.0137-101.0243</td>\n",
       "      <td>0.567577</td>\n",
       "      <td>0.641071</td>\n",
       "      <td>0.036747</td>\n",
       "    </tr>\n",
       "    <tr>\n",
       "      <th>...</th>\n",
       "      <td>...</td>\n",
       "      <td>...</td>\n",
       "      <td>...</td>\n",
       "      <td>...</td>\n",
       "      <td>...</td>\n",
       "      <td>...</td>\n",
       "      <td>...</td>\n",
       "    </tr>\n",
       "    <tr>\n",
       "      <th>421937</th>\n",
       "      <td>984.7590</td>\n",
       "      <td>987.7787</td>\n",
       "      <td>2</td>\n",
       "      <td>984.759-987.7787</td>\n",
       "      <td>0.538575</td>\n",
       "      <td>0.716540</td>\n",
       "      <td>0.088982</td>\n",
       "    </tr>\n",
       "    <tr>\n",
       "      <th>422133</th>\n",
       "      <td>985.7644</td>\n",
       "      <td>987.7787</td>\n",
       "      <td>2</td>\n",
       "      <td>985.7644-987.7787</td>\n",
       "      <td>0.500747</td>\n",
       "      <td>0.556020</td>\n",
       "      <td>0.027636</td>\n",
       "    </tr>\n",
       "    <tr>\n",
       "      <th>419469</th>\n",
       "      <td>986.7752</td>\n",
       "      <td>989.4484</td>\n",
       "      <td>2</td>\n",
       "      <td>986.7752-989.4484</td>\n",
       "      <td>0.527028</td>\n",
       "      <td>0.668604</td>\n",
       "      <td>0.070788</td>\n",
       "    </tr>\n",
       "    <tr>\n",
       "      <th>419663</th>\n",
       "      <td>987.5639</td>\n",
       "      <td>990.5673</td>\n",
       "      <td>2</td>\n",
       "      <td>987.5639-990.5673</td>\n",
       "      <td>0.765752</td>\n",
       "      <td>0.633906</td>\n",
       "      <td>0.065923</td>\n",
       "    </tr>\n",
       "    <tr>\n",
       "      <th>420215</th>\n",
       "      <td>988.5664</td>\n",
       "      <td>990.5673</td>\n",
       "      <td>2</td>\n",
       "      <td>988.5664-990.5673</td>\n",
       "      <td>0.603655</td>\n",
       "      <td>0.570618</td>\n",
       "      <td>0.016518</td>\n",
       "    </tr>\n",
       "  </tbody>\n",
       "</table>\n",
       "<p>414420 rows × 7 columns</p>\n",
       "</div>"
      ],
      "text/plain": [
       "          source    target  count                idx  subgroup1  subgroup2   \n",
       "420013   59.0137   74.0249      2    59.0137-74.0249   0.756185   0.617955  \\\n",
       "420012   59.0137   78.9592      2    59.0137-78.9592   0.597487   0.746746   \n",
       "420011   59.0137   96.9602      2    59.0137-96.9602   0.828449   0.646446   \n",
       "420010   59.0137   96.9688      2    59.0137-96.9688   0.822159   0.684910   \n",
       "420009   59.0137  101.0243      2   59.0137-101.0243   0.567577   0.641071   \n",
       "...          ...       ...    ...                ...        ...        ...   \n",
       "421937  984.7590  987.7787      2   984.759-987.7787   0.538575   0.716540   \n",
       "422133  985.7644  987.7787      2  985.7644-987.7787   0.500747   0.556020   \n",
       "419469  986.7752  989.4484      2  986.7752-989.4484   0.527028   0.668604   \n",
       "419663  987.5639  990.5673      2  987.5639-990.5673   0.765752   0.633906   \n",
       "420215  988.5664  990.5673      2  988.5664-990.5673   0.603655   0.570618   \n",
       "\n",
       "             std  \n",
       "420013  0.069115  \n",
       "420012  0.074630  \n",
       "420011  0.091002  \n",
       "420010  0.068625  \n",
       "420009  0.036747  \n",
       "...          ...  \n",
       "421937  0.088982  \n",
       "422133  0.027636  \n",
       "419469  0.070788  \n",
       "419663  0.065923  \n",
       "420215  0.016518  \n",
       "\n",
       "[414420 rows x 7 columns]"
      ]
     },
     "execution_count": 42,
     "metadata": {},
     "output_type": "execute_result"
    },
    {
     "name": "stdout",
     "output_type": "stream",
     "text": [
      "time: 2.17 s (started: 2023-05-14 17:01:15 -05:00)\n"
     ]
    }
   ],
   "source": [
    "# Filter by std\n",
    "df_edge_embeddings_join_filter_count_weight_std = df_edge_embeddings_join_filter_count_weight_std[df_edge_embeddings_join_filter_count_weight_std[\"std\"] <= 0.3]\n",
    "df_edge_embeddings_join_filter_count_weight_std.to_csv(\"{}/output_dgi/edges_filter_weight_std/{}_edge-filter-weight-std_{}_{}.csv\".format(dir, group[0], dimension, \"L2\"), index=False)\n",
    "df_edge_embeddings_join_filter_count_weight_std"
   ]
  },
  {
   "cell_type": "code",
   "execution_count": 43,
   "metadata": {
    "notebookRunGroups": {
     "groupValue": "2"
    }
   },
   "outputs": [
    {
     "data": {
      "text/html": [
       "<div>\n",
       "<style scoped>\n",
       "    .dataframe tbody tr th:only-of-type {\n",
       "        vertical-align: middle;\n",
       "    }\n",
       "\n",
       "    .dataframe tbody tr th {\n",
       "        vertical-align: top;\n",
       "    }\n",
       "\n",
       "    .dataframe thead th {\n",
       "        text-align: right;\n",
       "    }\n",
       "</style>\n",
       "<table border=\"1\" class=\"dataframe\">\n",
       "  <thead>\n",
       "    <tr style=\"text-align: right;\">\n",
       "      <th></th>\n",
       "      <th>source</th>\n",
       "      <th>target</th>\n",
       "      <th>count</th>\n",
       "      <th>idx</th>\n",
       "      <th>subgroup1</th>\n",
       "      <th>subgroup2</th>\n",
       "      <th>std</th>\n",
       "    </tr>\n",
       "  </thead>\n",
       "  <tbody>\n",
       "    <tr>\n",
       "      <th>0</th>\n",
       "      <td>59.0137</td>\n",
       "      <td>74.0249</td>\n",
       "      <td>2</td>\n",
       "      <td>59.0137-74.0249</td>\n",
       "      <td>0.756185</td>\n",
       "      <td>0.617955</td>\n",
       "      <td>0.069115</td>\n",
       "    </tr>\n",
       "    <tr>\n",
       "      <th>1</th>\n",
       "      <td>59.0137</td>\n",
       "      <td>78.9592</td>\n",
       "      <td>2</td>\n",
       "      <td>59.0137-78.9592</td>\n",
       "      <td>0.597487</td>\n",
       "      <td>0.746746</td>\n",
       "      <td>0.074630</td>\n",
       "    </tr>\n",
       "    <tr>\n",
       "      <th>2</th>\n",
       "      <td>59.0137</td>\n",
       "      <td>96.9602</td>\n",
       "      <td>2</td>\n",
       "      <td>59.0137-96.9602</td>\n",
       "      <td>0.828449</td>\n",
       "      <td>0.646446</td>\n",
       "      <td>0.091002</td>\n",
       "    </tr>\n",
       "    <tr>\n",
       "      <th>3</th>\n",
       "      <td>59.0137</td>\n",
       "      <td>96.9688</td>\n",
       "      <td>2</td>\n",
       "      <td>59.0137-96.9688</td>\n",
       "      <td>0.822159</td>\n",
       "      <td>0.684910</td>\n",
       "      <td>0.068625</td>\n",
       "    </tr>\n",
       "    <tr>\n",
       "      <th>4</th>\n",
       "      <td>59.0137</td>\n",
       "      <td>101.0243</td>\n",
       "      <td>2</td>\n",
       "      <td>59.0137-101.0243</td>\n",
       "      <td>0.567577</td>\n",
       "      <td>0.641071</td>\n",
       "      <td>0.036747</td>\n",
       "    </tr>\n",
       "    <tr>\n",
       "      <th>...</th>\n",
       "      <td>...</td>\n",
       "      <td>...</td>\n",
       "      <td>...</td>\n",
       "      <td>...</td>\n",
       "      <td>...</td>\n",
       "      <td>...</td>\n",
       "      <td>...</td>\n",
       "    </tr>\n",
       "    <tr>\n",
       "      <th>414415</th>\n",
       "      <td>984.7590</td>\n",
       "      <td>987.7787</td>\n",
       "      <td>2</td>\n",
       "      <td>984.759-987.7787</td>\n",
       "      <td>0.538575</td>\n",
       "      <td>0.716540</td>\n",
       "      <td>0.088982</td>\n",
       "    </tr>\n",
       "    <tr>\n",
       "      <th>414416</th>\n",
       "      <td>985.7644</td>\n",
       "      <td>987.7787</td>\n",
       "      <td>2</td>\n",
       "      <td>985.7644-987.7787</td>\n",
       "      <td>0.500747</td>\n",
       "      <td>0.556020</td>\n",
       "      <td>0.027636</td>\n",
       "    </tr>\n",
       "    <tr>\n",
       "      <th>414417</th>\n",
       "      <td>986.7752</td>\n",
       "      <td>989.4484</td>\n",
       "      <td>2</td>\n",
       "      <td>986.7752-989.4484</td>\n",
       "      <td>0.527028</td>\n",
       "      <td>0.668604</td>\n",
       "      <td>0.070788</td>\n",
       "    </tr>\n",
       "    <tr>\n",
       "      <th>414418</th>\n",
       "      <td>987.5639</td>\n",
       "      <td>990.5673</td>\n",
       "      <td>2</td>\n",
       "      <td>987.5639-990.5673</td>\n",
       "      <td>0.765752</td>\n",
       "      <td>0.633906</td>\n",
       "      <td>0.065923</td>\n",
       "    </tr>\n",
       "    <tr>\n",
       "      <th>414419</th>\n",
       "      <td>988.5664</td>\n",
       "      <td>990.5673</td>\n",
       "      <td>2</td>\n",
       "      <td>988.5664-990.5673</td>\n",
       "      <td>0.603655</td>\n",
       "      <td>0.570618</td>\n",
       "      <td>0.016518</td>\n",
       "    </tr>\n",
       "  </tbody>\n",
       "</table>\n",
       "<p>414420 rows × 7 columns</p>\n",
       "</div>"
      ],
      "text/plain": [
       "          source    target  count                idx  subgroup1  subgroup2   \n",
       "0        59.0137   74.0249      2    59.0137-74.0249   0.756185   0.617955  \\\n",
       "1        59.0137   78.9592      2    59.0137-78.9592   0.597487   0.746746   \n",
       "2        59.0137   96.9602      2    59.0137-96.9602   0.828449   0.646446   \n",
       "3        59.0137   96.9688      2    59.0137-96.9688   0.822159   0.684910   \n",
       "4        59.0137  101.0243      2   59.0137-101.0243   0.567577   0.641071   \n",
       "...          ...       ...    ...                ...        ...        ...   \n",
       "414415  984.7590  987.7787      2   984.759-987.7787   0.538575   0.716540   \n",
       "414416  985.7644  987.7787      2  985.7644-987.7787   0.500747   0.556020   \n",
       "414417  986.7752  989.4484      2  986.7752-989.4484   0.527028   0.668604   \n",
       "414418  987.5639  990.5673      2  987.5639-990.5673   0.765752   0.633906   \n",
       "414419  988.5664  990.5673      2  988.5664-990.5673   0.603655   0.570618   \n",
       "\n",
       "             std  \n",
       "0       0.069115  \n",
       "1       0.074630  \n",
       "2       0.091002  \n",
       "3       0.068625  \n",
       "4       0.036747  \n",
       "...          ...  \n",
       "414415  0.088982  \n",
       "414416  0.027636  \n",
       "414417  0.070788  \n",
       "414418  0.065923  \n",
       "414419  0.016518  \n",
       "\n",
       "[414420 rows x 7 columns]"
      ]
     },
     "execution_count": 43,
     "metadata": {},
     "output_type": "execute_result"
    },
    {
     "name": "stdout",
     "output_type": "stream",
     "text": [
      "time: 400 ms (started: 2023-05-14 17:01:18 -05:00)\n"
     ]
    }
   ],
   "source": [
    "df_edge_embeddings_join_filter_count_weight_std = pd.read_csv(\"{}/output_dgi/edges_filter_weight_std/{}_edge-filter-weight-std_{}_{}.csv\".format(dir, group[0], dimension, \"L2\"))\n",
    "df_edge_embeddings_join_filter_count_weight_std"
   ]
  },
  {
   "cell_type": "code",
   "execution_count": 44,
   "metadata": {
    "notebookRunGroups": {
     "groupValue": "2"
    }
   },
   "outputs": [
    {
     "data": {
      "text/html": [
       "<div>\n",
       "<style scoped>\n",
       "    .dataframe tbody tr th:only-of-type {\n",
       "        vertical-align: middle;\n",
       "    }\n",
       "\n",
       "    .dataframe tbody tr th {\n",
       "        vertical-align: top;\n",
       "    }\n",
       "\n",
       "    .dataframe thead th {\n",
       "        text-align: right;\n",
       "    }\n",
       "</style>\n",
       "<table border=\"1\" class=\"dataframe\">\n",
       "  <thead>\n",
       "    <tr style=\"text-align: right;\">\n",
       "      <th></th>\n",
       "      <th>source</th>\n",
       "      <th>target</th>\n",
       "      <th>count</th>\n",
       "      <th>idx</th>\n",
       "      <th>subgroup1</th>\n",
       "      <th>subgroup2</th>\n",
       "      <th>std</th>\n",
       "      <th>weight</th>\n",
       "    </tr>\n",
       "  </thead>\n",
       "  <tbody>\n",
       "    <tr>\n",
       "      <th>0</th>\n",
       "      <td>59.0137</td>\n",
       "      <td>74.0249</td>\n",
       "      <td>2</td>\n",
       "      <td>59.0137-74.0249</td>\n",
       "      <td>0.756185</td>\n",
       "      <td>0.617955</td>\n",
       "      <td>0.069115</td>\n",
       "      <td>0.687070</td>\n",
       "    </tr>\n",
       "    <tr>\n",
       "      <th>1</th>\n",
       "      <td>59.0137</td>\n",
       "      <td>78.9592</td>\n",
       "      <td>2</td>\n",
       "      <td>59.0137-78.9592</td>\n",
       "      <td>0.597487</td>\n",
       "      <td>0.746746</td>\n",
       "      <td>0.074630</td>\n",
       "      <td>0.672116</td>\n",
       "    </tr>\n",
       "    <tr>\n",
       "      <th>2</th>\n",
       "      <td>59.0137</td>\n",
       "      <td>96.9602</td>\n",
       "      <td>2</td>\n",
       "      <td>59.0137-96.9602</td>\n",
       "      <td>0.828449</td>\n",
       "      <td>0.646446</td>\n",
       "      <td>0.091002</td>\n",
       "      <td>0.737447</td>\n",
       "    </tr>\n",
       "    <tr>\n",
       "      <th>3</th>\n",
       "      <td>59.0137</td>\n",
       "      <td>96.9688</td>\n",
       "      <td>2</td>\n",
       "      <td>59.0137-96.9688</td>\n",
       "      <td>0.822159</td>\n",
       "      <td>0.684910</td>\n",
       "      <td>0.068625</td>\n",
       "      <td>0.753535</td>\n",
       "    </tr>\n",
       "    <tr>\n",
       "      <th>4</th>\n",
       "      <td>59.0137</td>\n",
       "      <td>101.0243</td>\n",
       "      <td>2</td>\n",
       "      <td>59.0137-101.0243</td>\n",
       "      <td>0.567577</td>\n",
       "      <td>0.641071</td>\n",
       "      <td>0.036747</td>\n",
       "      <td>0.604324</td>\n",
       "    </tr>\n",
       "    <tr>\n",
       "      <th>...</th>\n",
       "      <td>...</td>\n",
       "      <td>...</td>\n",
       "      <td>...</td>\n",
       "      <td>...</td>\n",
       "      <td>...</td>\n",
       "      <td>...</td>\n",
       "      <td>...</td>\n",
       "      <td>...</td>\n",
       "    </tr>\n",
       "    <tr>\n",
       "      <th>414415</th>\n",
       "      <td>984.7590</td>\n",
       "      <td>987.7787</td>\n",
       "      <td>2</td>\n",
       "      <td>984.759-987.7787</td>\n",
       "      <td>0.538575</td>\n",
       "      <td>0.716540</td>\n",
       "      <td>0.088982</td>\n",
       "      <td>0.627558</td>\n",
       "    </tr>\n",
       "    <tr>\n",
       "      <th>414416</th>\n",
       "      <td>985.7644</td>\n",
       "      <td>987.7787</td>\n",
       "      <td>2</td>\n",
       "      <td>985.7644-987.7787</td>\n",
       "      <td>0.500747</td>\n",
       "      <td>0.556020</td>\n",
       "      <td>0.027636</td>\n",
       "      <td>0.528384</td>\n",
       "    </tr>\n",
       "    <tr>\n",
       "      <th>414417</th>\n",
       "      <td>986.7752</td>\n",
       "      <td>989.4484</td>\n",
       "      <td>2</td>\n",
       "      <td>986.7752-989.4484</td>\n",
       "      <td>0.527028</td>\n",
       "      <td>0.668604</td>\n",
       "      <td>0.070788</td>\n",
       "      <td>0.597816</td>\n",
       "    </tr>\n",
       "    <tr>\n",
       "      <th>414418</th>\n",
       "      <td>987.5639</td>\n",
       "      <td>990.5673</td>\n",
       "      <td>2</td>\n",
       "      <td>987.5639-990.5673</td>\n",
       "      <td>0.765752</td>\n",
       "      <td>0.633906</td>\n",
       "      <td>0.065923</td>\n",
       "      <td>0.699829</td>\n",
       "    </tr>\n",
       "    <tr>\n",
       "      <th>414419</th>\n",
       "      <td>988.5664</td>\n",
       "      <td>990.5673</td>\n",
       "      <td>2</td>\n",
       "      <td>988.5664-990.5673</td>\n",
       "      <td>0.603655</td>\n",
       "      <td>0.570618</td>\n",
       "      <td>0.016518</td>\n",
       "      <td>0.587136</td>\n",
       "    </tr>\n",
       "  </tbody>\n",
       "</table>\n",
       "<p>414420 rows × 8 columns</p>\n",
       "</div>"
      ],
      "text/plain": [
       "          source    target  count                idx  subgroup1  subgroup2   \n",
       "0        59.0137   74.0249      2    59.0137-74.0249   0.756185   0.617955  \\\n",
       "1        59.0137   78.9592      2    59.0137-78.9592   0.597487   0.746746   \n",
       "2        59.0137   96.9602      2    59.0137-96.9602   0.828449   0.646446   \n",
       "3        59.0137   96.9688      2    59.0137-96.9688   0.822159   0.684910   \n",
       "4        59.0137  101.0243      2   59.0137-101.0243   0.567577   0.641071   \n",
       "...          ...       ...    ...                ...        ...        ...   \n",
       "414415  984.7590  987.7787      2   984.759-987.7787   0.538575   0.716540   \n",
       "414416  985.7644  987.7787      2  985.7644-987.7787   0.500747   0.556020   \n",
       "414417  986.7752  989.4484      2  986.7752-989.4484   0.527028   0.668604   \n",
       "414418  987.5639  990.5673      2  987.5639-990.5673   0.765752   0.633906   \n",
       "414419  988.5664  990.5673      2  988.5664-990.5673   0.603655   0.570618   \n",
       "\n",
       "             std    weight  \n",
       "0       0.069115  0.687070  \n",
       "1       0.074630  0.672116  \n",
       "2       0.091002  0.737447  \n",
       "3       0.068625  0.753535  \n",
       "4       0.036747  0.604324  \n",
       "...          ...       ...  \n",
       "414415  0.088982  0.627558  \n",
       "414416  0.027636  0.528384  \n",
       "414417  0.070788  0.597816  \n",
       "414418  0.065923  0.699829  \n",
       "414419  0.016518  0.587136  \n",
       "\n",
       "[414420 rows x 8 columns]"
      ]
     },
     "execution_count": 44,
     "metadata": {},
     "output_type": "execute_result"
    },
    {
     "name": "stdout",
     "output_type": "stream",
     "text": [
      "time: 74.5 ms (started: 2023-05-14 17:01:18 -05:00)\n"
     ]
    }
   ],
   "source": [
    "# Average weight\n",
    "df_edge_embeddings_join_filter_count_weight_std_avg = df_edge_embeddings_join_filter_count_weight_std.copy()\n",
    "df_edge_embeddings_join_filter_count_weight_std_avg[\"weight\"] = df_edge_embeddings_join_filter_count_weight_std_avg.iloc[:, -(len(subgroups) + 1):-1].mean(axis=1)\n",
    "df_edge_embeddings_join_filter_count_weight_std_avg"
   ]
  },
  {
   "cell_type": "code",
   "execution_count": 45,
   "metadata": {
    "notebookRunGroups": {
     "groupValue": "2"
    }
   },
   "outputs": [
    {
     "data": {
      "text/html": [
       "<div>\n",
       "<style scoped>\n",
       "    .dataframe tbody tr th:only-of-type {\n",
       "        vertical-align: middle;\n",
       "    }\n",
       "\n",
       "    .dataframe tbody tr th {\n",
       "        vertical-align: top;\n",
       "    }\n",
       "\n",
       "    .dataframe thead th {\n",
       "        text-align: right;\n",
       "    }\n",
       "</style>\n",
       "<table border=\"1\" class=\"dataframe\">\n",
       "  <thead>\n",
       "    <tr style=\"text-align: right;\">\n",
       "      <th></th>\n",
       "      <th>source</th>\n",
       "      <th>target</th>\n",
       "      <th>weight</th>\n",
       "    </tr>\n",
       "  </thead>\n",
       "  <tbody>\n",
       "    <tr>\n",
       "      <th>0</th>\n",
       "      <td>59.0137</td>\n",
       "      <td>74.0249</td>\n",
       "      <td>0.687070</td>\n",
       "    </tr>\n",
       "    <tr>\n",
       "      <th>1</th>\n",
       "      <td>59.0137</td>\n",
       "      <td>78.9592</td>\n",
       "      <td>0.672116</td>\n",
       "    </tr>\n",
       "    <tr>\n",
       "      <th>2</th>\n",
       "      <td>59.0137</td>\n",
       "      <td>96.9602</td>\n",
       "      <td>0.737447</td>\n",
       "    </tr>\n",
       "    <tr>\n",
       "      <th>3</th>\n",
       "      <td>59.0137</td>\n",
       "      <td>96.9688</td>\n",
       "      <td>0.753535</td>\n",
       "    </tr>\n",
       "    <tr>\n",
       "      <th>4</th>\n",
       "      <td>59.0137</td>\n",
       "      <td>101.0243</td>\n",
       "      <td>0.604324</td>\n",
       "    </tr>\n",
       "    <tr>\n",
       "      <th>...</th>\n",
       "      <td>...</td>\n",
       "      <td>...</td>\n",
       "      <td>...</td>\n",
       "    </tr>\n",
       "    <tr>\n",
       "      <th>414415</th>\n",
       "      <td>984.7590</td>\n",
       "      <td>987.7787</td>\n",
       "      <td>0.627558</td>\n",
       "    </tr>\n",
       "    <tr>\n",
       "      <th>414416</th>\n",
       "      <td>985.7644</td>\n",
       "      <td>987.7787</td>\n",
       "      <td>0.528384</td>\n",
       "    </tr>\n",
       "    <tr>\n",
       "      <th>414417</th>\n",
       "      <td>986.7752</td>\n",
       "      <td>989.4484</td>\n",
       "      <td>0.597816</td>\n",
       "    </tr>\n",
       "    <tr>\n",
       "      <th>414418</th>\n",
       "      <td>987.5639</td>\n",
       "      <td>990.5673</td>\n",
       "      <td>0.699829</td>\n",
       "    </tr>\n",
       "    <tr>\n",
       "      <th>414419</th>\n",
       "      <td>988.5664</td>\n",
       "      <td>990.5673</td>\n",
       "      <td>0.587136</td>\n",
       "    </tr>\n",
       "  </tbody>\n",
       "</table>\n",
       "<p>414420 rows × 3 columns</p>\n",
       "</div>"
      ],
      "text/plain": [
       "          source    target    weight\n",
       "0        59.0137   74.0249  0.687070\n",
       "1        59.0137   78.9592  0.672116\n",
       "2        59.0137   96.9602  0.737447\n",
       "3        59.0137   96.9688  0.753535\n",
       "4        59.0137  101.0243  0.604324\n",
       "...          ...       ...       ...\n",
       "414415  984.7590  987.7787  0.627558\n",
       "414416  985.7644  987.7787  0.528384\n",
       "414417  986.7752  989.4484  0.597816\n",
       "414418  987.5639  990.5673  0.699829\n",
       "414419  988.5664  990.5673  0.587136\n",
       "\n",
       "[414420 rows x 3 columns]"
      ]
     },
     "execution_count": 45,
     "metadata": {},
     "output_type": "execute_result"
    },
    {
     "name": "stdout",
     "output_type": "stream",
     "text": [
      "time: 1.14 s (started: 2023-05-14 17:01:18 -05:00)\n"
     ]
    }
   ],
   "source": [
    "df_edge_embeddings_join_filter_count_weight_std_avg = df_edge_embeddings_join_filter_count_weight_std_avg.iloc[:, [0, 1, -1]]\n",
    "df_edge_embeddings_join_filter_count_weight_std_avg.to_csv(\"{}/output_dgi/edges_filter_weight_std_avg/{}_edge-filter-weight-std-avg_{}_{}.csv\".format(dir, group[0], dimension, \"L2\"), index=False)\n",
    "df_edge_embeddings_join_filter_count_weight_std_avg"
   ]
  },
  {
   "cell_type": "code",
   "execution_count": 46,
   "metadata": {
    "notebookRunGroups": {
     "groupValue": "2"
    }
   },
   "outputs": [
    {
     "data": {
      "text/html": [
       "<div>\n",
       "<style scoped>\n",
       "    .dataframe tbody tr th:only-of-type {\n",
       "        vertical-align: middle;\n",
       "    }\n",
       "\n",
       "    .dataframe tbody tr th {\n",
       "        vertical-align: top;\n",
       "    }\n",
       "\n",
       "    .dataframe thead th {\n",
       "        text-align: right;\n",
       "    }\n",
       "</style>\n",
       "<table border=\"1\" class=\"dataframe\">\n",
       "  <thead>\n",
       "    <tr style=\"text-align: right;\">\n",
       "      <th></th>\n",
       "      <th>source</th>\n",
       "      <th>target</th>\n",
       "      <th>weight</th>\n",
       "    </tr>\n",
       "  </thead>\n",
       "  <tbody>\n",
       "    <tr>\n",
       "      <th>0</th>\n",
       "      <td>59.0137</td>\n",
       "      <td>74.0249</td>\n",
       "      <td>0.687070</td>\n",
       "    </tr>\n",
       "    <tr>\n",
       "      <th>1</th>\n",
       "      <td>59.0137</td>\n",
       "      <td>78.9592</td>\n",
       "      <td>0.672116</td>\n",
       "    </tr>\n",
       "    <tr>\n",
       "      <th>2</th>\n",
       "      <td>59.0137</td>\n",
       "      <td>96.9602</td>\n",
       "      <td>0.737447</td>\n",
       "    </tr>\n",
       "    <tr>\n",
       "      <th>3</th>\n",
       "      <td>59.0137</td>\n",
       "      <td>96.9688</td>\n",
       "      <td>0.753535</td>\n",
       "    </tr>\n",
       "    <tr>\n",
       "      <th>4</th>\n",
       "      <td>59.0137</td>\n",
       "      <td>101.0243</td>\n",
       "      <td>0.604324</td>\n",
       "    </tr>\n",
       "    <tr>\n",
       "      <th>...</th>\n",
       "      <td>...</td>\n",
       "      <td>...</td>\n",
       "      <td>...</td>\n",
       "    </tr>\n",
       "    <tr>\n",
       "      <th>414415</th>\n",
       "      <td>984.7590</td>\n",
       "      <td>987.7787</td>\n",
       "      <td>0.627558</td>\n",
       "    </tr>\n",
       "    <tr>\n",
       "      <th>414416</th>\n",
       "      <td>985.7644</td>\n",
       "      <td>987.7787</td>\n",
       "      <td>0.528384</td>\n",
       "    </tr>\n",
       "    <tr>\n",
       "      <th>414417</th>\n",
       "      <td>986.7752</td>\n",
       "      <td>989.4484</td>\n",
       "      <td>0.597816</td>\n",
       "    </tr>\n",
       "    <tr>\n",
       "      <th>414418</th>\n",
       "      <td>987.5639</td>\n",
       "      <td>990.5673</td>\n",
       "      <td>0.699829</td>\n",
       "    </tr>\n",
       "    <tr>\n",
       "      <th>414419</th>\n",
       "      <td>988.5664</td>\n",
       "      <td>990.5673</td>\n",
       "      <td>0.587136</td>\n",
       "    </tr>\n",
       "  </tbody>\n",
       "</table>\n",
       "<p>414420 rows × 3 columns</p>\n",
       "</div>"
      ],
      "text/plain": [
       "          source    target    weight\n",
       "0        59.0137   74.0249  0.687070\n",
       "1        59.0137   78.9592  0.672116\n",
       "2        59.0137   96.9602  0.737447\n",
       "3        59.0137   96.9688  0.753535\n",
       "4        59.0137  101.0243  0.604324\n",
       "...          ...       ...       ...\n",
       "414415  984.7590  987.7787  0.627558\n",
       "414416  985.7644  987.7787  0.528384\n",
       "414417  986.7752  989.4484  0.597816\n",
       "414418  987.5639  990.5673  0.699829\n",
       "414419  988.5664  990.5673  0.587136\n",
       "\n",
       "[414420 rows x 3 columns]"
      ]
     },
     "execution_count": 46,
     "metadata": {},
     "output_type": "execute_result"
    },
    {
     "name": "stdout",
     "output_type": "stream",
     "text": [
      "time: 133 ms (started: 2023-05-14 17:01:20 -05:00)\n"
     ]
    }
   ],
   "source": [
    "df_edge_embeddings_join_filter_count_weight_std_avg = pd.read_csv(\"{}/output_dgi/edges_filter_weight_std_avg/{}_edge-filter-weight-std-avg_{}_{}.csv\".format(dir, group[0], dimension, \"L2\"))\n",
    "df_edge_embeddings_join_filter_count_weight_std_avg"
   ]
  },
  {
   "attachments": {},
   "cell_type": "markdown",
   "metadata": {},
   "source": [
    "---"
   ]
  },
  {
   "attachments": {},
   "cell_type": "markdown",
   "metadata": {},
   "source": [
    "### Change detection (Greedy algorithm)"
   ]
  },
  {
   "cell_type": "code",
   "execution_count": 9,
   "metadata": {},
   "outputs": [
    {
     "name": "stdout",
     "output_type": "stream",
     "text": [
      "time: 413 µs (started: 2023-05-15 12:52:09 -05:00)\n"
     ]
    }
   ],
   "source": [
    "import matplotlib.pyplot as plt\n",
    "\n",
    "def info_graph(G):\n",
    "    print(\"Num. nodes: {}\".format(G.number_of_nodes()))\n",
    "    print(\"Num. edges: {}\".format(G.number_of_edges()))\n",
    "    print()"
   ]
  },
  {
   "attachments": {},
   "cell_type": "markdown",
   "metadata": {},
   "source": [
    "#### Read edges"
   ]
  },
  {
   "cell_type": "code",
   "execution_count": 10,
   "metadata": {},
   "outputs": [
    {
     "data": {
      "text/html": [
       "<div>\n",
       "<style scoped>\n",
       "    .dataframe tbody tr th:only-of-type {\n",
       "        vertical-align: middle;\n",
       "    }\n",
       "\n",
       "    .dataframe tbody tr th {\n",
       "        vertical-align: top;\n",
       "    }\n",
       "\n",
       "    .dataframe thead th {\n",
       "        text-align: right;\n",
       "    }\n",
       "</style>\n",
       "<table border=\"1\" class=\"dataframe\">\n",
       "  <thead>\n",
       "    <tr style=\"text-align: right;\">\n",
       "      <th></th>\n",
       "      <th>source</th>\n",
       "      <th>target</th>\n",
       "      <th>weight</th>\n",
       "    </tr>\n",
       "  </thead>\n",
       "  <tbody>\n",
       "    <tr>\n",
       "      <th>0</th>\n",
       "      <td>59.0137</td>\n",
       "      <td>389.3284</td>\n",
       "      <td>0.791692</td>\n",
       "    </tr>\n",
       "    <tr>\n",
       "      <th>1</th>\n",
       "      <td>59.0137</td>\n",
       "      <td>391.2964</td>\n",
       "      <td>0.826840</td>\n",
       "    </tr>\n",
       "    <tr>\n",
       "      <th>2</th>\n",
       "      <td>59.0137</td>\n",
       "      <td>418.3254</td>\n",
       "      <td>0.877965</td>\n",
       "    </tr>\n",
       "    <tr>\n",
       "      <th>3</th>\n",
       "      <td>59.0137</td>\n",
       "      <td>419.3285</td>\n",
       "      <td>0.790765</td>\n",
       "    </tr>\n",
       "    <tr>\n",
       "      <th>4</th>\n",
       "      <td>59.0291</td>\n",
       "      <td>391.2964</td>\n",
       "      <td>0.701323</td>\n",
       "    </tr>\n",
       "    <tr>\n",
       "      <th>...</th>\n",
       "      <td>...</td>\n",
       "      <td>...</td>\n",
       "      <td>...</td>\n",
       "    </tr>\n",
       "    <tr>\n",
       "      <th>11196</th>\n",
       "      <td>952.6839</td>\n",
       "      <td>954.6629</td>\n",
       "      <td>0.694432</td>\n",
       "    </tr>\n",
       "    <tr>\n",
       "      <th>11197</th>\n",
       "      <td>953.6866</td>\n",
       "      <td>978.5819</td>\n",
       "      <td>0.676104</td>\n",
       "    </tr>\n",
       "    <tr>\n",
       "      <th>11198</th>\n",
       "      <td>969.6816</td>\n",
       "      <td>972.471</td>\n",
       "      <td>0.803943</td>\n",
       "    </tr>\n",
       "    <tr>\n",
       "      <th>11199</th>\n",
       "      <td>969.6816</td>\n",
       "      <td>979.5239</td>\n",
       "      <td>0.856486</td>\n",
       "    </tr>\n",
       "    <tr>\n",
       "      <th>11200</th>\n",
       "      <td>970.6852</td>\n",
       "      <td>972.471</td>\n",
       "      <td>0.742699</td>\n",
       "    </tr>\n",
       "  </tbody>\n",
       "</table>\n",
       "<p>11201 rows × 3 columns</p>\n",
       "</div>"
      ],
      "text/plain": [
       "         source    target    weight\n",
       "0       59.0137  389.3284  0.791692\n",
       "1       59.0137  391.2964  0.826840\n",
       "2       59.0137  418.3254  0.877965\n",
       "3       59.0137  419.3285  0.790765\n",
       "4       59.0291  391.2964  0.701323\n",
       "...         ...       ...       ...\n",
       "11196  952.6839  954.6629  0.694432\n",
       "11197  953.6866  978.5819  0.676104\n",
       "11198  969.6816   972.471  0.803943\n",
       "11199  969.6816  979.5239  0.856486\n",
       "11200  970.6852   972.471  0.742699\n",
       "\n",
       "[11201 rows x 3 columns]"
      ]
     },
     "execution_count": 10,
     "metadata": {},
     "output_type": "execute_result"
    },
    {
     "name": "stdout",
     "output_type": "stream",
     "text": [
      "time: 52.5 ms (started: 2023-05-15 12:52:09 -05:00)\n"
     ]
    }
   ],
   "source": [
    "df_edges1 = pd.read_csv(\"{}/output_dgi/edges_filter_weight_std_avg/{}_edge-filter-weight-std-avg_{}_{}.csv\".format(dir, \"WT\", 3, \"L2\"))\n",
    "df_edges1[[\"source\", \"target\"]] = df_edges1[[\"source\", \"target\"]].astype(str)\n",
    "df_edges1"
   ]
  },
  {
   "cell_type": "code",
   "execution_count": 11,
   "metadata": {},
   "outputs": [
    {
     "name": "stdout",
     "output_type": "stream",
     "text": [
      "time: 22.2 ms (started: 2023-05-15 12:52:09 -05:00)\n"
     ]
    }
   ],
   "source": [
    "G1 = nx.from_pandas_edgelist(df_edges1, \"source\", \"target\", edge_attr=[\"weight\"])"
   ]
  },
  {
   "cell_type": "code",
   "execution_count": 12,
   "metadata": {},
   "outputs": [
    {
     "name": "stdout",
     "output_type": "stream",
     "text": [
      "time: 394 µs (started: 2023-05-15 12:52:09 -05:00)\n"
     ]
    }
   ],
   "source": [
    "# nx.draw_networkx(G1, pos=nx.spring_layout(G1), font_size=8, font_color=\"black\")"
   ]
  },
  {
   "cell_type": "code",
   "execution_count": 13,
   "metadata": {},
   "outputs": [
    {
     "data": {
      "text/html": [
       "<div>\n",
       "<style scoped>\n",
       "    .dataframe tbody tr th:only-of-type {\n",
       "        vertical-align: middle;\n",
       "    }\n",
       "\n",
       "    .dataframe tbody tr th {\n",
       "        vertical-align: top;\n",
       "    }\n",
       "\n",
       "    .dataframe thead th {\n",
       "        text-align: right;\n",
       "    }\n",
       "</style>\n",
       "<table border=\"1\" class=\"dataframe\">\n",
       "  <thead>\n",
       "    <tr style=\"text-align: right;\">\n",
       "      <th></th>\n",
       "      <th>source</th>\n",
       "      <th>target</th>\n",
       "      <th>weight</th>\n",
       "    </tr>\n",
       "  </thead>\n",
       "  <tbody>\n",
       "    <tr>\n",
       "      <th>0</th>\n",
       "      <td>59.0137</td>\n",
       "      <td>124.0403</td>\n",
       "      <td>0.770148</td>\n",
       "    </tr>\n",
       "    <tr>\n",
       "      <th>1</th>\n",
       "      <td>59.0137</td>\n",
       "      <td>133.0501</td>\n",
       "      <td>0.786825</td>\n",
       "    </tr>\n",
       "    <tr>\n",
       "      <th>2</th>\n",
       "      <td>59.0137</td>\n",
       "      <td>134.0473</td>\n",
       "      <td>0.863013</td>\n",
       "    </tr>\n",
       "    <tr>\n",
       "      <th>3</th>\n",
       "      <td>59.0137</td>\n",
       "      <td>141.0173</td>\n",
       "      <td>0.806392</td>\n",
       "    </tr>\n",
       "    <tr>\n",
       "      <th>4</th>\n",
       "      <td>59.0137</td>\n",
       "      <td>145.0984</td>\n",
       "      <td>0.790925</td>\n",
       "    </tr>\n",
       "    <tr>\n",
       "      <th>...</th>\n",
       "      <td>...</td>\n",
       "      <td>...</td>\n",
       "      <td>...</td>\n",
       "    </tr>\n",
       "    <tr>\n",
       "      <th>360657</th>\n",
       "      <td>981.5305</td>\n",
       "      <td>986.7752</td>\n",
       "      <td>0.738430</td>\n",
       "    </tr>\n",
       "    <tr>\n",
       "      <th>360658</th>\n",
       "      <td>984.759</td>\n",
       "      <td>985.549</td>\n",
       "      <td>0.688567</td>\n",
       "    </tr>\n",
       "    <tr>\n",
       "      <th>360659</th>\n",
       "      <td>984.759</td>\n",
       "      <td>988.5664</td>\n",
       "      <td>0.626375</td>\n",
       "    </tr>\n",
       "    <tr>\n",
       "      <th>360660</th>\n",
       "      <td>985.549</td>\n",
       "      <td>985.7644</td>\n",
       "      <td>0.648868</td>\n",
       "    </tr>\n",
       "    <tr>\n",
       "      <th>360661</th>\n",
       "      <td>987.5639</td>\n",
       "      <td>996.7096</td>\n",
       "      <td>0.724440</td>\n",
       "    </tr>\n",
       "  </tbody>\n",
       "</table>\n",
       "<p>360662 rows × 3 columns</p>\n",
       "</div>"
      ],
      "text/plain": [
       "          source    target    weight\n",
       "0        59.0137  124.0403  0.770148\n",
       "1        59.0137  133.0501  0.786825\n",
       "2        59.0137  134.0473  0.863013\n",
       "3        59.0137  141.0173  0.806392\n",
       "4        59.0137  145.0984  0.790925\n",
       "...          ...       ...       ...\n",
       "360657  981.5305  986.7752  0.738430\n",
       "360658   984.759   985.549  0.688567\n",
       "360659   984.759  988.5664  0.626375\n",
       "360660   985.549  985.7644  0.648868\n",
       "360661  987.5639  996.7096  0.724440\n",
       "\n",
       "[360662 rows x 3 columns]"
      ]
     },
     "execution_count": 13,
     "metadata": {},
     "output_type": "execute_result"
    },
    {
     "name": "stdout",
     "output_type": "stream",
     "text": [
      "time: 431 ms (started: 2023-05-15 12:52:10 -05:00)\n"
     ]
    }
   ],
   "source": [
    "df_edges2 = pd.read_csv(\"{}/output_dgi/edges_filter_weight_std_avg/{}_edge-filter-weight-std-avg_{}_{}.csv\".format(dir, \"zwf1^\", 3, \"L2\"))\n",
    "df_edges2[[\"source\", \"target\"]] = df_edges2[[\"source\", \"target\"]].astype(str)\n",
    "df_edges2"
   ]
  },
  {
   "cell_type": "code",
   "execution_count": 14,
   "metadata": {},
   "outputs": [
    {
     "name": "stdout",
     "output_type": "stream",
     "text": [
      "time: 627 ms (started: 2023-05-15 12:52:10 -05:00)\n"
     ]
    }
   ],
   "source": [
    "G2 = nx.from_pandas_edgelist(df_edges2, \"source\", \"target\", edge_attr=[\"weight\"])"
   ]
  },
  {
   "cell_type": "code",
   "execution_count": 15,
   "metadata": {},
   "outputs": [
    {
     "name": "stdout",
     "output_type": "stream",
     "text": [
      "time: 454 µs (started: 2023-05-15 12:52:11 -05:00)\n"
     ]
    }
   ],
   "source": [
    "# nx.draw_networkx(G2, pos=nx.spring_layout(G2), font_size=8, font_color=\"black\")"
   ]
  },
  {
   "cell_type": "code",
   "execution_count": 16,
   "metadata": {},
   "outputs": [
    {
     "data": {
      "text/html": [
       "<div>\n",
       "<style scoped>\n",
       "    .dataframe tbody tr th:only-of-type {\n",
       "        vertical-align: middle;\n",
       "    }\n",
       "\n",
       "    .dataframe tbody tr th {\n",
       "        vertical-align: top;\n",
       "    }\n",
       "\n",
       "    .dataframe thead th {\n",
       "        text-align: right;\n",
       "    }\n",
       "</style>\n",
       "<table border=\"1\" class=\"dataframe\">\n",
       "  <thead>\n",
       "    <tr style=\"text-align: right;\">\n",
       "      <th></th>\n",
       "      <th>source</th>\n",
       "      <th>target</th>\n",
       "      <th>weight</th>\n",
       "    </tr>\n",
       "  </thead>\n",
       "  <tbody>\n",
       "    <tr>\n",
       "      <th>0</th>\n",
       "      <td>59.0137</td>\n",
       "      <td>74.0249</td>\n",
       "      <td>0.687070</td>\n",
       "    </tr>\n",
       "    <tr>\n",
       "      <th>1</th>\n",
       "      <td>59.0137</td>\n",
       "      <td>78.9592</td>\n",
       "      <td>0.672116</td>\n",
       "    </tr>\n",
       "    <tr>\n",
       "      <th>2</th>\n",
       "      <td>59.0137</td>\n",
       "      <td>96.9602</td>\n",
       "      <td>0.737447</td>\n",
       "    </tr>\n",
       "    <tr>\n",
       "      <th>3</th>\n",
       "      <td>59.0137</td>\n",
       "      <td>96.9688</td>\n",
       "      <td>0.753535</td>\n",
       "    </tr>\n",
       "    <tr>\n",
       "      <th>4</th>\n",
       "      <td>59.0137</td>\n",
       "      <td>101.0243</td>\n",
       "      <td>0.604324</td>\n",
       "    </tr>\n",
       "    <tr>\n",
       "      <th>...</th>\n",
       "      <td>...</td>\n",
       "      <td>...</td>\n",
       "      <td>...</td>\n",
       "    </tr>\n",
       "    <tr>\n",
       "      <th>414415</th>\n",
       "      <td>984.759</td>\n",
       "      <td>987.7787</td>\n",
       "      <td>0.627558</td>\n",
       "    </tr>\n",
       "    <tr>\n",
       "      <th>414416</th>\n",
       "      <td>985.7644</td>\n",
       "      <td>987.7787</td>\n",
       "      <td>0.528384</td>\n",
       "    </tr>\n",
       "    <tr>\n",
       "      <th>414417</th>\n",
       "      <td>986.7752</td>\n",
       "      <td>989.4484</td>\n",
       "      <td>0.597816</td>\n",
       "    </tr>\n",
       "    <tr>\n",
       "      <th>414418</th>\n",
       "      <td>987.5639</td>\n",
       "      <td>990.5673</td>\n",
       "      <td>0.699829</td>\n",
       "    </tr>\n",
       "    <tr>\n",
       "      <th>414419</th>\n",
       "      <td>988.5664</td>\n",
       "      <td>990.5673</td>\n",
       "      <td>0.587136</td>\n",
       "    </tr>\n",
       "  </tbody>\n",
       "</table>\n",
       "<p>414420 rows × 3 columns</p>\n",
       "</div>"
      ],
      "text/plain": [
       "          source    target    weight\n",
       "0        59.0137   74.0249  0.687070\n",
       "1        59.0137   78.9592  0.672116\n",
       "2        59.0137   96.9602  0.737447\n",
       "3        59.0137   96.9688  0.753535\n",
       "4        59.0137  101.0243  0.604324\n",
       "...          ...       ...       ...\n",
       "414415   984.759  987.7787  0.627558\n",
       "414416  985.7644  987.7787  0.528384\n",
       "414417  986.7752  989.4484  0.597816\n",
       "414418  987.5639  990.5673  0.699829\n",
       "414419  988.5664  990.5673  0.587136\n",
       "\n",
       "[414420 rows x 3 columns]"
      ]
     },
     "execution_count": 16,
     "metadata": {},
     "output_type": "execute_result"
    },
    {
     "name": "stdout",
     "output_type": "stream",
     "text": [
      "time: 498 ms (started: 2023-05-15 12:52:11 -05:00)\n"
     ]
    }
   ],
   "source": [
    "df_edges3 = pd.read_csv(\"{}/output_dgi/edges_filter_weight_std_avg/{}_edge-filter-weight-std-avg_{}_{}.csv\".format(dir, \"pck1^\", 3, \"L2\"))\n",
    "df_edges3[[\"source\", \"target\"]] = df_edges3[[\"source\", \"target\"]].astype(str)\n",
    "df_edges3"
   ]
  },
  {
   "cell_type": "code",
   "execution_count": 17,
   "metadata": {},
   "outputs": [
    {
     "name": "stdout",
     "output_type": "stream",
     "text": [
      "time: 733 ms (started: 2023-05-15 12:52:12 -05:00)\n"
     ]
    }
   ],
   "source": [
    "G3 = nx.from_pandas_edgelist(df_edges3, \"source\", \"target\", edge_attr=[\"weight\"])"
   ]
  },
  {
   "attachments": {},
   "cell_type": "markdown",
   "metadata": {},
   "source": [
    "#### Get common nodes"
   ]
  },
  {
   "cell_type": "code",
   "execution_count": 18,
   "metadata": {},
   "outputs": [
    {
     "name": "stdout",
     "output_type": "stream",
     "text": [
      "Length of common nodes: 1674\n",
      "time: 1.85 ms (started: 2023-05-15 12:52:13 -05:00)\n"
     ]
    }
   ],
   "source": [
    "nodes1 = set(list(G1.nodes()))\n",
    "# print(nodes1)\n",
    "\n",
    "nodes2 = set(list(G2.nodes()))\n",
    "# print(nodes2)\n",
    "\n",
    "common_nodes = list(nodes1 & nodes2)\n",
    "print(\"Length of common nodes:\", len(common_nodes))"
   ]
  },
  {
   "attachments": {},
   "cell_type": "markdown",
   "metadata": {},
   "source": [
    "#### Get subgraphs"
   ]
  },
  {
   "cell_type": "code",
   "execution_count": 19,
   "metadata": {},
   "outputs": [
    {
     "name": "stdout",
     "output_type": "stream",
     "text": [
      "time: 2.34 ms (started: 2023-05-15 12:52:13 -05:00)\n"
     ]
    }
   ],
   "source": [
    "H1 = G1.subgraph(common_nodes)\n",
    "H2 = G2.subgraph(common_nodes)"
   ]
  },
  {
   "cell_type": "code",
   "execution_count": 20,
   "metadata": {},
   "outputs": [
    {
     "name": "stdout",
     "output_type": "stream",
     "text": [
      "time: 398 µs (started: 2023-05-15 12:52:13 -05:00)\n"
     ]
    }
   ],
   "source": [
    "# nx.draw_networkx(H1, pos=nx.spring_layout(H1), font_color=\"w\")"
   ]
  },
  {
   "cell_type": "code",
   "execution_count": 21,
   "metadata": {},
   "outputs": [
    {
     "name": "stdout",
     "output_type": "stream",
     "text": [
      "time: 403 µs (started: 2023-05-15 12:52:13 -05:00)\n"
     ]
    }
   ],
   "source": [
    "# nx.draw_networkx(H2, pos=nx.spring_layout(H2), font_color=\"w\")"
   ]
  },
  {
   "attachments": {},
   "cell_type": "markdown",
   "metadata": {},
   "source": [
    "Get changes"
   ]
  },
  {
   "cell_type": "code",
   "execution_count": 22,
   "metadata": {},
   "outputs": [
    {
     "name": "stdout",
     "output_type": "stream",
     "text": [
      "time: 1.16 ms (started: 2023-05-15 12:52:13 -05:00)\n"
     ]
    }
   ],
   "source": [
    "def sort_edges(edges):\n",
    "    edges = list(edges)\n",
    "    for k in range(len(edges)):\n",
    "        if edges[k][0] > edges[k][1]:\n",
    "            edges[k] = (edges[k][1], edges[k][0])\n",
    "    return edges\n",
    "\n",
    "def degree_distibution(graps, labels=[]):\n",
    "    list_hist = []\n",
    "    for graph in graps:\n",
    "        list_hist.append(list(dict(graph.degree()).values()))\n",
    "    \n",
    "    plt.hist(list_hist, label=labels)\n",
    "    plt.legend(loc='upper center')\n",
    "\n",
    "    plt.title(\"Degree Distribution\")\n",
    "    plt.xlabel(\"Degree\")\n",
    "    plt.ylabel(\"Frequency\")\n",
    "    plt.grid()\n",
    "    plt.show()"
   ]
  },
  {
   "cell_type": "code",
   "execution_count": 23,
   "metadata": {},
   "outputs": [
    {
     "name": "stdout",
     "output_type": "stream",
     "text": [
      "2235\n",
      "8485\n",
      "106279\n",
      "time: 501 ms (started: 2023-05-15 12:52:13 -05:00)\n"
     ]
    }
   ],
   "source": [
    "edges1 = set(sort_edges(H1.edges()))\n",
    "edges2 = set(sort_edges(H2.edges()))\n",
    "\n",
    "# print(edges1)\n",
    "# print(edges2)\n",
    "\n",
    "e1_inte_e2 = edges1 & edges2\n",
    "print(len(e1_inte_e2))\n",
    "# print(list(e1_inte_e2))\n",
    "\n",
    "e1_diff_e2 = edges1 - edges2\n",
    "print(len(e1_diff_e2))\n",
    "# print(list(e1_diff_e2))\n",
    "\n",
    "e2_diff_e1 = edges2 - edges1\n",
    "print(len(e2_diff_e1))\n",
    "# print(list(e2_diff_e1))"
   ]
  },
  {
   "cell_type": "code",
   "execution_count": 24,
   "metadata": {},
   "outputs": [
    {
     "data": {
      "text/html": [
       "<div>\n",
       "<style scoped>\n",
       "    .dataframe tbody tr th:only-of-type {\n",
       "        vertical-align: middle;\n",
       "    }\n",
       "\n",
       "    .dataframe tbody tr th {\n",
       "        vertical-align: top;\n",
       "    }\n",
       "\n",
       "    .dataframe thead th {\n",
       "        text-align: right;\n",
       "    }\n",
       "</style>\n",
       "<table border=\"1\" class=\"dataframe\">\n",
       "  <thead>\n",
       "    <tr style=\"text-align: right;\">\n",
       "      <th></th>\n",
       "      <th>source</th>\n",
       "      <th>target</th>\n",
       "    </tr>\n",
       "  </thead>\n",
       "  <tbody>\n",
       "    <tr>\n",
       "      <th>0</th>\n",
       "      <td>264.9055</td>\n",
       "      <td>358.8579</td>\n",
       "    </tr>\n",
       "    <tr>\n",
       "      <th>1</th>\n",
       "      <td>162.056</td>\n",
       "      <td>628.0561</td>\n",
       "    </tr>\n",
       "    <tr>\n",
       "      <th>2</th>\n",
       "      <td>633.4328</td>\n",
       "      <td>813.4851</td>\n",
       "    </tr>\n",
       "    <tr>\n",
       "      <th>3</th>\n",
       "      <td>689.4951</td>\n",
       "      <td>877.5208</td>\n",
       "    </tr>\n",
       "    <tr>\n",
       "      <th>4</th>\n",
       "      <td>688.4907</td>\n",
       "      <td>759.5518</td>\n",
       "    </tr>\n",
       "    <tr>\n",
       "      <th>...</th>\n",
       "      <td>...</td>\n",
       "      <td>...</td>\n",
       "    </tr>\n",
       "    <tr>\n",
       "      <th>2230</th>\n",
       "      <td>820.5671</td>\n",
       "      <td>901.5947</td>\n",
       "    </tr>\n",
       "    <tr>\n",
       "      <th>2231</th>\n",
       "      <td>267.0965</td>\n",
       "      <td>517.1517</td>\n",
       "    </tr>\n",
       "    <tr>\n",
       "      <th>2232</th>\n",
       "      <td>255.2332</td>\n",
       "      <td>714.4689</td>\n",
       "    </tr>\n",
       "    <tr>\n",
       "      <th>2233</th>\n",
       "      <td>306.1101</td>\n",
       "      <td>506.1877</td>\n",
       "    </tr>\n",
       "    <tr>\n",
       "      <th>2234</th>\n",
       "      <td>342.1638</td>\n",
       "      <td>686.1482</td>\n",
       "    </tr>\n",
       "  </tbody>\n",
       "</table>\n",
       "<p>2235 rows × 2 columns</p>\n",
       "</div>"
      ],
      "text/plain": [
       "        source    target\n",
       "0     264.9055  358.8579\n",
       "1      162.056  628.0561\n",
       "2     633.4328  813.4851\n",
       "3     689.4951  877.5208\n",
       "4     688.4907  759.5518\n",
       "...        ...       ...\n",
       "2230  820.5671  901.5947\n",
       "2231  267.0965  517.1517\n",
       "2232  255.2332  714.4689\n",
       "2233  306.1101  506.1877\n",
       "2234  342.1638  686.1482\n",
       "\n",
       "[2235 rows x 2 columns]"
      ]
     },
     "execution_count": 24,
     "metadata": {},
     "output_type": "execute_result"
    },
    {
     "name": "stdout",
     "output_type": "stream",
     "text": [
      "time: 12.6 ms (started: 2023-05-15 12:52:14 -05:00)\n"
     ]
    }
   ],
   "source": [
    "df_subgraphs = pd.DataFrame(e1_inte_e2, columns=[\"source\", \"target\"])\n",
    "df_subgraphs"
   ]
  },
  {
   "cell_type": "code",
   "execution_count": 25,
   "metadata": {},
   "outputs": [
    {
     "data": {
      "text/html": [
       "<div>\n",
       "<style scoped>\n",
       "    .dataframe tbody tr th:only-of-type {\n",
       "        vertical-align: middle;\n",
       "    }\n",
       "\n",
       "    .dataframe tbody tr th {\n",
       "        vertical-align: top;\n",
       "    }\n",
       "\n",
       "    .dataframe thead th {\n",
       "        text-align: right;\n",
       "    }\n",
       "</style>\n",
       "<table border=\"1\" class=\"dataframe\">\n",
       "  <thead>\n",
       "    <tr style=\"text-align: right;\">\n",
       "      <th></th>\n",
       "      <th>source</th>\n",
       "      <th>target</th>\n",
       "      <th>weight1</th>\n",
       "      <th>weight2</th>\n",
       "    </tr>\n",
       "  </thead>\n",
       "  <tbody>\n",
       "    <tr>\n",
       "      <th>0</th>\n",
       "      <td>264.9055</td>\n",
       "      <td>358.8579</td>\n",
       "      <td>0.702577</td>\n",
       "      <td>0.888251</td>\n",
       "    </tr>\n",
       "    <tr>\n",
       "      <th>1</th>\n",
       "      <td>162.056</td>\n",
       "      <td>628.0561</td>\n",
       "      <td>0.785290</td>\n",
       "      <td>0.627830</td>\n",
       "    </tr>\n",
       "    <tr>\n",
       "      <th>2</th>\n",
       "      <td>633.4328</td>\n",
       "      <td>813.4851</td>\n",
       "      <td>0.850005</td>\n",
       "      <td>0.778677</td>\n",
       "    </tr>\n",
       "    <tr>\n",
       "      <th>3</th>\n",
       "      <td>689.4951</td>\n",
       "      <td>877.5208</td>\n",
       "      <td>0.738469</td>\n",
       "      <td>0.751602</td>\n",
       "    </tr>\n",
       "    <tr>\n",
       "      <th>4</th>\n",
       "      <td>688.4907</td>\n",
       "      <td>759.5518</td>\n",
       "      <td>0.810682</td>\n",
       "      <td>0.641725</td>\n",
       "    </tr>\n",
       "    <tr>\n",
       "      <th>...</th>\n",
       "      <td>...</td>\n",
       "      <td>...</td>\n",
       "      <td>...</td>\n",
       "      <td>...</td>\n",
       "    </tr>\n",
       "    <tr>\n",
       "      <th>2230</th>\n",
       "      <td>820.5671</td>\n",
       "      <td>901.5947</td>\n",
       "      <td>0.741332</td>\n",
       "      <td>0.674779</td>\n",
       "    </tr>\n",
       "    <tr>\n",
       "      <th>2231</th>\n",
       "      <td>267.0965</td>\n",
       "      <td>517.1517</td>\n",
       "      <td>0.713350</td>\n",
       "      <td>0.689213</td>\n",
       "    </tr>\n",
       "    <tr>\n",
       "      <th>2232</th>\n",
       "      <td>255.2332</td>\n",
       "      <td>714.4689</td>\n",
       "      <td>0.723103</td>\n",
       "      <td>0.794158</td>\n",
       "    </tr>\n",
       "    <tr>\n",
       "      <th>2233</th>\n",
       "      <td>306.1101</td>\n",
       "      <td>506.1877</td>\n",
       "      <td>0.818823</td>\n",
       "      <td>0.878159</td>\n",
       "    </tr>\n",
       "    <tr>\n",
       "      <th>2234</th>\n",
       "      <td>342.1638</td>\n",
       "      <td>686.1482</td>\n",
       "      <td>0.700043</td>\n",
       "      <td>0.805248</td>\n",
       "    </tr>\n",
       "  </tbody>\n",
       "</table>\n",
       "<p>2235 rows × 4 columns</p>\n",
       "</div>"
      ],
      "text/plain": [
       "        source    target   weight1   weight2\n",
       "0     264.9055  358.8579  0.702577  0.888251\n",
       "1      162.056  628.0561  0.785290  0.627830\n",
       "2     633.4328  813.4851  0.850005  0.778677\n",
       "3     689.4951  877.5208  0.738469  0.751602\n",
       "4     688.4907  759.5518  0.810682  0.641725\n",
       "...        ...       ...       ...       ...\n",
       "2230  820.5671  901.5947  0.741332  0.674779\n",
       "2231  267.0965  517.1517  0.713350  0.689213\n",
       "2232  255.2332  714.4689  0.723103  0.794158\n",
       "2233  306.1101  506.1877  0.818823  0.878159\n",
       "2234  342.1638  686.1482  0.700043  0.805248\n",
       "\n",
       "[2235 rows x 4 columns]"
      ]
     },
     "execution_count": 25,
     "metadata": {},
     "output_type": "execute_result"
    },
    {
     "name": "stdout",
     "output_type": "stream",
     "text": [
      "time: 81.9 ms (started: 2023-05-15 12:52:14 -05:00)\n"
     ]
    }
   ],
   "source": [
    "df_subgraphs[\"weight1\"] = df_subgraphs.apply(lambda x: H1.get_edge_data(x.source, x.target)[\"weight\"], axis=1)\n",
    "df_subgraphs[\"weight2\"] = df_subgraphs.apply(lambda x: H2.get_edge_data(x.source, x.target)[\"weight\"], axis=1)\n",
    "df_subgraphs"
   ]
  },
  {
   "cell_type": "code",
   "execution_count": 26,
   "metadata": {},
   "outputs": [
    {
     "data": {
      "text/html": [
       "<div>\n",
       "<style scoped>\n",
       "    .dataframe tbody tr th:only-of-type {\n",
       "        vertical-align: middle;\n",
       "    }\n",
       "\n",
       "    .dataframe tbody tr th {\n",
       "        vertical-align: top;\n",
       "    }\n",
       "\n",
       "    .dataframe thead th {\n",
       "        text-align: right;\n",
       "    }\n",
       "</style>\n",
       "<table border=\"1\" class=\"dataframe\">\n",
       "  <thead>\n",
       "    <tr style=\"text-align: right;\">\n",
       "      <th></th>\n",
       "      <th>source</th>\n",
       "      <th>target</th>\n",
       "      <th>weight1</th>\n",
       "      <th>weight2</th>\n",
       "    </tr>\n",
       "  </thead>\n",
       "  <tbody>\n",
       "    <tr>\n",
       "      <th>0</th>\n",
       "      <td>264.9055</td>\n",
       "      <td>358.8579</td>\n",
       "      <td>0.702577</td>\n",
       "      <td>0.888251</td>\n",
       "    </tr>\n",
       "    <tr>\n",
       "      <th>1</th>\n",
       "      <td>162.056</td>\n",
       "      <td>628.0561</td>\n",
       "      <td>0.785290</td>\n",
       "      <td>0.627830</td>\n",
       "    </tr>\n",
       "    <tr>\n",
       "      <th>2</th>\n",
       "      <td>633.4328</td>\n",
       "      <td>813.4851</td>\n",
       "      <td>0.850005</td>\n",
       "      <td>0.778677</td>\n",
       "    </tr>\n",
       "    <tr>\n",
       "      <th>3</th>\n",
       "      <td>689.4951</td>\n",
       "      <td>877.5208</td>\n",
       "      <td>0.738469</td>\n",
       "      <td>0.751602</td>\n",
       "    </tr>\n",
       "    <tr>\n",
       "      <th>4</th>\n",
       "      <td>688.4907</td>\n",
       "      <td>759.5518</td>\n",
       "      <td>0.810682</td>\n",
       "      <td>0.641725</td>\n",
       "    </tr>\n",
       "    <tr>\n",
       "      <th>...</th>\n",
       "      <td>...</td>\n",
       "      <td>...</td>\n",
       "      <td>...</td>\n",
       "      <td>...</td>\n",
       "    </tr>\n",
       "    <tr>\n",
       "      <th>114759</th>\n",
       "      <td>330.0704</td>\n",
       "      <td>505.1609</td>\n",
       "      <td>NaN</td>\n",
       "      <td>0.716583</td>\n",
       "    </tr>\n",
       "    <tr>\n",
       "      <th>114760</th>\n",
       "      <td>278.1847</td>\n",
       "      <td>980.0155</td>\n",
       "      <td>NaN</td>\n",
       "      <td>0.777074</td>\n",
       "    </tr>\n",
       "    <tr>\n",
       "      <th>114761</th>\n",
       "      <td>263.0973</td>\n",
       "      <td>798.0267</td>\n",
       "      <td>NaN</td>\n",
       "      <td>0.654707</td>\n",
       "    </tr>\n",
       "    <tr>\n",
       "      <th>114762</th>\n",
       "      <td>604.3977</td>\n",
       "      <td>686.4762</td>\n",
       "      <td>NaN</td>\n",
       "      <td>0.658939</td>\n",
       "    </tr>\n",
       "    <tr>\n",
       "      <th>114763</th>\n",
       "      <td>382.245</td>\n",
       "      <td>700.0577</td>\n",
       "      <td>NaN</td>\n",
       "      <td>0.559688</td>\n",
       "    </tr>\n",
       "  </tbody>\n",
       "</table>\n",
       "<p>116999 rows × 4 columns</p>\n",
       "</div>"
      ],
      "text/plain": [
       "          source    target   weight1   weight2\n",
       "0       264.9055  358.8579  0.702577  0.888251\n",
       "1        162.056  628.0561  0.785290  0.627830\n",
       "2       633.4328  813.4851  0.850005  0.778677\n",
       "3       689.4951  877.5208  0.738469  0.751602\n",
       "4       688.4907  759.5518  0.810682  0.641725\n",
       "...          ...       ...       ...       ...\n",
       "114759  330.0704  505.1609       NaN  0.716583\n",
       "114760  278.1847  980.0155       NaN  0.777074\n",
       "114761  263.0973  798.0267       NaN  0.654707\n",
       "114762  604.3977  686.4762       NaN  0.658939\n",
       "114763   382.245  700.0577       NaN  0.559688\n",
       "\n",
       "[116999 rows x 4 columns]"
      ]
     },
     "execution_count": 26,
     "metadata": {},
     "output_type": "execute_result"
    },
    {
     "name": "stdout",
     "output_type": "stream",
     "text": [
      "time: 584 ms (started: 2023-05-15 12:52:14 -05:00)\n"
     ]
    }
   ],
   "source": [
    "list_subgraphs = []\n",
    "for edge in e1_diff_e2:\n",
    "    list_subgraphs.append([edge[0], edge[1], H1.get_edge_data(edge[0], edge[1])[\"weight\"], np.nan])\n",
    "\n",
    "for edge in e2_diff_e1:\n",
    "    list_subgraphs.append([edge[0], edge[1], np.nan, H2.get_edge_data(edge[0], edge[1])[\"weight\"]])\n",
    "\n",
    "df_temp = pd.DataFrame(list_subgraphs, columns=[\"source\", \"target\", \"weight1\", \"weight2\"])\n",
    "df_subgraphs = pd.concat([df_subgraphs, df_temp])\n",
    "df_subgraphs"
   ]
  },
  {
   "cell_type": "code",
   "execution_count": 27,
   "metadata": {},
   "outputs": [
    {
     "data": {
      "text/html": [
       "<div>\n",
       "<style scoped>\n",
       "    .dataframe tbody tr th:only-of-type {\n",
       "        vertical-align: middle;\n",
       "    }\n",
       "\n",
       "    .dataframe tbody tr th {\n",
       "        vertical-align: top;\n",
       "    }\n",
       "\n",
       "    .dataframe thead th {\n",
       "        text-align: right;\n",
       "    }\n",
       "</style>\n",
       "<table border=\"1\" class=\"dataframe\">\n",
       "  <thead>\n",
       "    <tr style=\"text-align: right;\">\n",
       "      <th></th>\n",
       "      <th>source</th>\n",
       "      <th>target</th>\n",
       "      <th>weight1</th>\n",
       "      <th>weight2</th>\n",
       "      <th>difference</th>\n",
       "    </tr>\n",
       "  </thead>\n",
       "  <tbody>\n",
       "    <tr>\n",
       "      <th>0</th>\n",
       "      <td>264.9055</td>\n",
       "      <td>358.8579</td>\n",
       "      <td>0.702577</td>\n",
       "      <td>0.888251</td>\n",
       "      <td>0.185674</td>\n",
       "    </tr>\n",
       "    <tr>\n",
       "      <th>1</th>\n",
       "      <td>162.056</td>\n",
       "      <td>628.0561</td>\n",
       "      <td>0.785290</td>\n",
       "      <td>0.627830</td>\n",
       "      <td>0.157460</td>\n",
       "    </tr>\n",
       "    <tr>\n",
       "      <th>2</th>\n",
       "      <td>633.4328</td>\n",
       "      <td>813.4851</td>\n",
       "      <td>0.850005</td>\n",
       "      <td>0.778677</td>\n",
       "      <td>0.071328</td>\n",
       "    </tr>\n",
       "    <tr>\n",
       "      <th>3</th>\n",
       "      <td>689.4951</td>\n",
       "      <td>877.5208</td>\n",
       "      <td>0.738469</td>\n",
       "      <td>0.751602</td>\n",
       "      <td>0.013133</td>\n",
       "    </tr>\n",
       "    <tr>\n",
       "      <th>4</th>\n",
       "      <td>688.4907</td>\n",
       "      <td>759.5518</td>\n",
       "      <td>0.810682</td>\n",
       "      <td>0.641725</td>\n",
       "      <td>0.168957</td>\n",
       "    </tr>\n",
       "    <tr>\n",
       "      <th>...</th>\n",
       "      <td>...</td>\n",
       "      <td>...</td>\n",
       "      <td>...</td>\n",
       "      <td>...</td>\n",
       "      <td>...</td>\n",
       "    </tr>\n",
       "    <tr>\n",
       "      <th>114759</th>\n",
       "      <td>330.0704</td>\n",
       "      <td>505.1609</td>\n",
       "      <td>NaN</td>\n",
       "      <td>0.716583</td>\n",
       "      <td>NaN</td>\n",
       "    </tr>\n",
       "    <tr>\n",
       "      <th>114760</th>\n",
       "      <td>278.1847</td>\n",
       "      <td>980.0155</td>\n",
       "      <td>NaN</td>\n",
       "      <td>0.777074</td>\n",
       "      <td>NaN</td>\n",
       "    </tr>\n",
       "    <tr>\n",
       "      <th>114761</th>\n",
       "      <td>263.0973</td>\n",
       "      <td>798.0267</td>\n",
       "      <td>NaN</td>\n",
       "      <td>0.654707</td>\n",
       "      <td>NaN</td>\n",
       "    </tr>\n",
       "    <tr>\n",
       "      <th>114762</th>\n",
       "      <td>604.3977</td>\n",
       "      <td>686.4762</td>\n",
       "      <td>NaN</td>\n",
       "      <td>0.658939</td>\n",
       "      <td>NaN</td>\n",
       "    </tr>\n",
       "    <tr>\n",
       "      <th>114763</th>\n",
       "      <td>382.245</td>\n",
       "      <td>700.0577</td>\n",
       "      <td>NaN</td>\n",
       "      <td>0.559688</td>\n",
       "      <td>NaN</td>\n",
       "    </tr>\n",
       "  </tbody>\n",
       "</table>\n",
       "<p>116999 rows × 5 columns</p>\n",
       "</div>"
      ],
      "text/plain": [
       "          source    target   weight1   weight2  difference\n",
       "0       264.9055  358.8579  0.702577  0.888251    0.185674\n",
       "1        162.056  628.0561  0.785290  0.627830    0.157460\n",
       "2       633.4328  813.4851  0.850005  0.778677    0.071328\n",
       "3       689.4951  877.5208  0.738469  0.751602    0.013133\n",
       "4       688.4907  759.5518  0.810682  0.641725    0.168957\n",
       "...          ...       ...       ...       ...         ...\n",
       "114759  330.0704  505.1609       NaN  0.716583         NaN\n",
       "114760  278.1847  980.0155       NaN  0.777074         NaN\n",
       "114761  263.0973  798.0267       NaN  0.654707         NaN\n",
       "114762  604.3977  686.4762       NaN  0.658939         NaN\n",
       "114763   382.245  700.0577       NaN  0.559688         NaN\n",
       "\n",
       "[116999 rows x 5 columns]"
      ]
     },
     "execution_count": 27,
     "metadata": {},
     "output_type": "execute_result"
    },
    {
     "name": "stdout",
     "output_type": "stream",
     "text": [
      "time: 17.8 ms (started: 2023-05-15 12:52:15 -05:00)\n"
     ]
    }
   ],
   "source": [
    "df_subgraphs[\"difference\"] = df_subgraphs[\"weight1\"] - df_subgraphs[\"weight2\"]\n",
    "df_subgraphs[\"difference\"] = df_subgraphs[\"difference\"].abs()\n",
    "df_subgraphs"
   ]
  },
  {
   "cell_type": "code",
   "execution_count": 28,
   "metadata": {},
   "outputs": [
    {
     "data": {
      "text/html": [
       "<div>\n",
       "<style scoped>\n",
       "    .dataframe tbody tr th:only-of-type {\n",
       "        vertical-align: middle;\n",
       "    }\n",
       "\n",
       "    .dataframe tbody tr th {\n",
       "        vertical-align: top;\n",
       "    }\n",
       "\n",
       "    .dataframe thead th {\n",
       "        text-align: right;\n",
       "    }\n",
       "</style>\n",
       "<table border=\"1\" class=\"dataframe\">\n",
       "  <thead>\n",
       "    <tr style=\"text-align: right;\">\n",
       "      <th></th>\n",
       "      <th>source</th>\n",
       "      <th>target</th>\n",
       "      <th>weight1</th>\n",
       "      <th>weight2</th>\n",
       "      <th>difference</th>\n",
       "      <th>change</th>\n",
       "    </tr>\n",
       "  </thead>\n",
       "  <tbody>\n",
       "    <tr>\n",
       "      <th>0</th>\n",
       "      <td>264.9055</td>\n",
       "      <td>358.8579</td>\n",
       "      <td>0.702577</td>\n",
       "      <td>0.888251</td>\n",
       "      <td>0.185674</td>\n",
       "      <td>pP</td>\n",
       "    </tr>\n",
       "    <tr>\n",
       "      <th>1</th>\n",
       "      <td>162.056</td>\n",
       "      <td>628.0561</td>\n",
       "      <td>0.785290</td>\n",
       "      <td>0.627830</td>\n",
       "      <td>0.157460</td>\n",
       "      <td>pp</td>\n",
       "    </tr>\n",
       "    <tr>\n",
       "      <th>2</th>\n",
       "      <td>633.4328</td>\n",
       "      <td>813.4851</td>\n",
       "      <td>0.850005</td>\n",
       "      <td>0.778677</td>\n",
       "      <td>0.071328</td>\n",
       "      <td>Pp</td>\n",
       "    </tr>\n",
       "    <tr>\n",
       "      <th>3</th>\n",
       "      <td>689.4951</td>\n",
       "      <td>877.5208</td>\n",
       "      <td>0.738469</td>\n",
       "      <td>0.751602</td>\n",
       "      <td>0.013133</td>\n",
       "      <td>pp</td>\n",
       "    </tr>\n",
       "    <tr>\n",
       "      <th>4</th>\n",
       "      <td>688.4907</td>\n",
       "      <td>759.5518</td>\n",
       "      <td>0.810682</td>\n",
       "      <td>0.641725</td>\n",
       "      <td>0.168957</td>\n",
       "      <td>Pp</td>\n",
       "    </tr>\n",
       "    <tr>\n",
       "      <th>...</th>\n",
       "      <td>...</td>\n",
       "      <td>...</td>\n",
       "      <td>...</td>\n",
       "      <td>...</td>\n",
       "      <td>...</td>\n",
       "      <td>...</td>\n",
       "    </tr>\n",
       "    <tr>\n",
       "      <th>114759</th>\n",
       "      <td>330.0704</td>\n",
       "      <td>505.1609</td>\n",
       "      <td>NaN</td>\n",
       "      <td>0.716583</td>\n",
       "      <td>NaN</td>\n",
       "      <td>?p</td>\n",
       "    </tr>\n",
       "    <tr>\n",
       "      <th>114760</th>\n",
       "      <td>278.1847</td>\n",
       "      <td>980.0155</td>\n",
       "      <td>NaN</td>\n",
       "      <td>0.777074</td>\n",
       "      <td>NaN</td>\n",
       "      <td>?p</td>\n",
       "    </tr>\n",
       "    <tr>\n",
       "      <th>114761</th>\n",
       "      <td>263.0973</td>\n",
       "      <td>798.0267</td>\n",
       "      <td>NaN</td>\n",
       "      <td>0.654707</td>\n",
       "      <td>NaN</td>\n",
       "      <td>?p</td>\n",
       "    </tr>\n",
       "    <tr>\n",
       "      <th>114762</th>\n",
       "      <td>604.3977</td>\n",
       "      <td>686.4762</td>\n",
       "      <td>NaN</td>\n",
       "      <td>0.658939</td>\n",
       "      <td>NaN</td>\n",
       "      <td>?p</td>\n",
       "    </tr>\n",
       "    <tr>\n",
       "      <th>114763</th>\n",
       "      <td>382.245</td>\n",
       "      <td>700.0577</td>\n",
       "      <td>NaN</td>\n",
       "      <td>0.559688</td>\n",
       "      <td>NaN</td>\n",
       "      <td>?p</td>\n",
       "    </tr>\n",
       "  </tbody>\n",
       "</table>\n",
       "<p>116999 rows × 6 columns</p>\n",
       "</div>"
      ],
      "text/plain": [
       "          source    target   weight1   weight2  difference change\n",
       "0       264.9055  358.8579  0.702577  0.888251    0.185674     pP\n",
       "1        162.056  628.0561  0.785290  0.627830    0.157460     pp\n",
       "2       633.4328  813.4851  0.850005  0.778677    0.071328     Pp\n",
       "3       689.4951  877.5208  0.738469  0.751602    0.013133     pp\n",
       "4       688.4907  759.5518  0.810682  0.641725    0.168957     Pp\n",
       "...          ...       ...       ...       ...         ...    ...\n",
       "114759  330.0704  505.1609       NaN  0.716583         NaN     ?p\n",
       "114760  278.1847  980.0155       NaN  0.777074         NaN     ?p\n",
       "114761  263.0973  798.0267       NaN  0.654707         NaN     ?p\n",
       "114762  604.3977  686.4762       NaN  0.658939         NaN     ?p\n",
       "114763   382.245  700.0577       NaN  0.559688         NaN     ?p\n",
       "\n",
       "[116999 rows x 6 columns]"
      ]
     },
     "execution_count": 28,
     "metadata": {},
     "output_type": "execute_result"
    },
    {
     "name": "stdout",
     "output_type": "stream",
     "text": [
      "time: 350 ms (started: 2023-05-15 12:52:15 -05:00)\n"
     ]
    }
   ],
   "source": [
    "# Add labels for correlaction changes\n",
    "threshold2 = 0.8\n",
    "conditions = [\n",
    "    ((df_subgraphs[\"weight1\"] < 0) & (df_subgraphs[\"weight2\"].isnull()) & (df_subgraphs[\"weight1\"] >= threshold2)),\n",
    "    ((df_subgraphs[\"weight1\"] < 0) & (df_subgraphs[\"weight2\"].isnull()) & (df_subgraphs[\"weight1\"] < threshold2)),\n",
    "    ((df_subgraphs[\"weight1\"] > 0) & (df_subgraphs[\"weight2\"].isnull()) & (df_subgraphs[\"weight1\"] >= threshold2)),\n",
    "    ((df_subgraphs[\"weight1\"] > 0) & (df_subgraphs[\"weight2\"].isnull()) & (df_subgraphs[\"weight1\"] < threshold2)),\n",
    "\n",
    "    ((df_subgraphs[\"weight2\"] < 0) & (df_subgraphs[\"weight1\"].isnull()) & (df_subgraphs[\"weight2\"] >= threshold2)),\n",
    "    ((df_subgraphs[\"weight2\"] < 0) & (df_subgraphs[\"weight1\"].isnull()) & (df_subgraphs[\"weight2\"] < threshold2)),\n",
    "    ((df_subgraphs[\"weight2\"] > 0) & (df_subgraphs[\"weight1\"].isnull()) & (df_subgraphs[\"weight2\"] >= threshold2)),\n",
    "    ((df_subgraphs[\"weight2\"] > 0) & (df_subgraphs[\"weight1\"].isnull()) & (df_subgraphs[\"weight2\"] < threshold2)),\n",
    "\n",
    "    ((df_subgraphs[\"weight1\"] < 0) & (df_subgraphs[\"weight2\"] > 0) & (df_subgraphs[\"weight1\"] > -threshold2) & (df_subgraphs[\"weight2\"] < threshold2)),\n",
    "    ((df_subgraphs[\"weight1\"] < 0) & (df_subgraphs[\"weight2\"] > 0) & (df_subgraphs[\"weight1\"] > -threshold2) & (df_subgraphs[\"weight2\"] >= threshold2)),\n",
    "    ((df_subgraphs[\"weight1\"] < 0) & (df_subgraphs[\"weight2\"] > 0) & (df_subgraphs[\"weight1\"] <= -threshold2) & (df_subgraphs[\"weight2\"] < threshold2)),\n",
    "    ((df_subgraphs[\"weight1\"] < 0) & (df_subgraphs[\"weight2\"] > 0) & (df_subgraphs[\"weight1\"] <= -threshold2) & (df_subgraphs[\"weight2\"] >= threshold2)),\n",
    "\n",
    "    ((df_subgraphs[\"weight1\"] > 0) & (df_subgraphs[\"weight2\"] < 0) & (df_subgraphs[\"weight1\"] < threshold2) & (df_subgraphs[\"weight2\"] > -threshold2)),\n",
    "    ((df_subgraphs[\"weight1\"] > 0) & (df_subgraphs[\"weight2\"] < 0) & (df_subgraphs[\"weight1\"] >= threshold2) & (df_subgraphs[\"weight2\"] > -threshold2)),\n",
    "    ((df_subgraphs[\"weight1\"] > 0) & (df_subgraphs[\"weight2\"] < 0) & (df_subgraphs[\"weight1\"] < threshold2) & (df_subgraphs[\"weight2\"] <= -threshold2)),\n",
    "    ((df_subgraphs[\"weight1\"] > 0) & (df_subgraphs[\"weight2\"] < 0) & (df_subgraphs[\"weight1\"] >= threshold2) & (df_subgraphs[\"weight2\"] <= -threshold2)),\n",
    "\n",
    "    ((df_subgraphs[\"weight1\"] > 0) & (df_subgraphs[\"weight2\"] > 0) & (df_subgraphs[\"weight1\"] >= threshold2) & (df_subgraphs[\"weight2\"] >= threshold2)),\n",
    "    ((df_subgraphs[\"weight1\"] > 0) & (df_subgraphs[\"weight2\"] > 0) & (df_subgraphs[\"weight1\"] < threshold2) & (df_subgraphs[\"weight2\"] < threshold2)),\n",
    "    ((df_subgraphs[\"weight1\"] > 0) & (df_subgraphs[\"weight2\"] > 0) & (df_subgraphs[\"weight1\"] >= threshold2) & (df_subgraphs[\"weight2\"] < threshold2)),\n",
    "    ((df_subgraphs[\"weight1\"] > 0) & (df_subgraphs[\"weight2\"] > 0) & (df_subgraphs[\"weight1\"] < threshold2) & (df_subgraphs[\"weight2\"] >= threshold2)),\n",
    "\n",
    "    ((df_subgraphs[\"weight1\"] < 0) & (df_subgraphs[\"weight2\"] < 0) & (df_subgraphs[\"weight1\"] <= -threshold2) & (df_subgraphs[\"weight2\"] <= -threshold2)),\n",
    "    ((df_subgraphs[\"weight1\"] < 0) & (df_subgraphs[\"weight2\"] < 0) & (df_subgraphs[\"weight1\"] > -threshold2) & (df_subgraphs[\"weight2\"] > -threshold2)),\n",
    "    ((df_subgraphs[\"weight1\"] < 0) & (df_subgraphs[\"weight2\"] < 0) & (df_subgraphs[\"weight1\"] <= -threshold2) & (df_subgraphs[\"weight2\"] > -threshold2)),\n",
    "    ((df_subgraphs[\"weight1\"] < 0) & (df_subgraphs[\"weight2\"] < 0) & (df_subgraphs[\"weight1\"] > -threshold2) & (df_subgraphs[\"weight2\"] <= -threshold2)),\n",
    "]\n",
    "# print(conditions)\n",
    "\n",
    "values = [\"N?\", \"n?\", \"P?\", \"p?\", \"?N\", \"?n\", \"?P\", \"?p\", \"np\", \"nP\", \"Np\", \"NP\", \"pn\", \"Pn\", \"pN\", \"PN\", \"PP\", \"pp\", \"Pp\", \"pP\", \"NN\", \"nn\", \"Nn\", \"nN\"]\n",
    "df_subgraphs[\"change\"] = np.select(conditions, values)\n",
    "df_subgraphs.to_csv(\"{}/output_dgi/subgraphs/{}_{}_subgraphs_{}_{}.csv\".format(dir, \"WT\", \"zwf1^\", 3, \"L2\"), index=False)\n",
    "\n",
    "df_subgraphs"
   ]
  },
  {
   "cell_type": "code",
   "execution_count": 29,
   "metadata": {},
   "outputs": [
    {
     "data": {
      "text/html": [
       "<div>\n",
       "<style scoped>\n",
       "    .dataframe tbody tr th:only-of-type {\n",
       "        vertical-align: middle;\n",
       "    }\n",
       "\n",
       "    .dataframe tbody tr th {\n",
       "        vertical-align: top;\n",
       "    }\n",
       "\n",
       "    .dataframe thead th {\n",
       "        text-align: right;\n",
       "    }\n",
       "</style>\n",
       "<table border=\"1\" class=\"dataframe\">\n",
       "  <thead>\n",
       "    <tr style=\"text-align: right;\">\n",
       "      <th></th>\n",
       "      <th>source</th>\n",
       "      <th>target</th>\n",
       "      <th>weight1</th>\n",
       "      <th>weight2</th>\n",
       "      <th>difference</th>\n",
       "      <th>change</th>\n",
       "    </tr>\n",
       "  </thead>\n",
       "  <tbody>\n",
       "    <tr>\n",
       "      <th>0</th>\n",
       "      <td>264.9055</td>\n",
       "      <td>358.8579</td>\n",
       "      <td>0.702577</td>\n",
       "      <td>0.888251</td>\n",
       "      <td>0.185674</td>\n",
       "      <td>pP</td>\n",
       "    </tr>\n",
       "    <tr>\n",
       "      <th>1</th>\n",
       "      <td>162.0560</td>\n",
       "      <td>628.0561</td>\n",
       "      <td>0.785290</td>\n",
       "      <td>0.627830</td>\n",
       "      <td>0.157460</td>\n",
       "      <td>pp</td>\n",
       "    </tr>\n",
       "    <tr>\n",
       "      <th>2</th>\n",
       "      <td>633.4328</td>\n",
       "      <td>813.4851</td>\n",
       "      <td>0.850005</td>\n",
       "      <td>0.778677</td>\n",
       "      <td>0.071328</td>\n",
       "      <td>Pp</td>\n",
       "    </tr>\n",
       "    <tr>\n",
       "      <th>3</th>\n",
       "      <td>689.4951</td>\n",
       "      <td>877.5208</td>\n",
       "      <td>0.738469</td>\n",
       "      <td>0.751602</td>\n",
       "      <td>0.013133</td>\n",
       "      <td>pp</td>\n",
       "    </tr>\n",
       "    <tr>\n",
       "      <th>4</th>\n",
       "      <td>688.4907</td>\n",
       "      <td>759.5518</td>\n",
       "      <td>0.810682</td>\n",
       "      <td>0.641725</td>\n",
       "      <td>0.168957</td>\n",
       "      <td>Pp</td>\n",
       "    </tr>\n",
       "    <tr>\n",
       "      <th>...</th>\n",
       "      <td>...</td>\n",
       "      <td>...</td>\n",
       "      <td>...</td>\n",
       "      <td>...</td>\n",
       "      <td>...</td>\n",
       "      <td>...</td>\n",
       "    </tr>\n",
       "    <tr>\n",
       "      <th>116994</th>\n",
       "      <td>330.0704</td>\n",
       "      <td>505.1609</td>\n",
       "      <td>NaN</td>\n",
       "      <td>0.716583</td>\n",
       "      <td>NaN</td>\n",
       "      <td>?p</td>\n",
       "    </tr>\n",
       "    <tr>\n",
       "      <th>116995</th>\n",
       "      <td>278.1847</td>\n",
       "      <td>980.0155</td>\n",
       "      <td>NaN</td>\n",
       "      <td>0.777074</td>\n",
       "      <td>NaN</td>\n",
       "      <td>?p</td>\n",
       "    </tr>\n",
       "    <tr>\n",
       "      <th>116996</th>\n",
       "      <td>263.0973</td>\n",
       "      <td>798.0267</td>\n",
       "      <td>NaN</td>\n",
       "      <td>0.654707</td>\n",
       "      <td>NaN</td>\n",
       "      <td>?p</td>\n",
       "    </tr>\n",
       "    <tr>\n",
       "      <th>116997</th>\n",
       "      <td>604.3977</td>\n",
       "      <td>686.4762</td>\n",
       "      <td>NaN</td>\n",
       "      <td>0.658939</td>\n",
       "      <td>NaN</td>\n",
       "      <td>?p</td>\n",
       "    </tr>\n",
       "    <tr>\n",
       "      <th>116998</th>\n",
       "      <td>382.2450</td>\n",
       "      <td>700.0577</td>\n",
       "      <td>NaN</td>\n",
       "      <td>0.559688</td>\n",
       "      <td>NaN</td>\n",
       "      <td>?p</td>\n",
       "    </tr>\n",
       "  </tbody>\n",
       "</table>\n",
       "<p>116999 rows × 6 columns</p>\n",
       "</div>"
      ],
      "text/plain": [
       "          source    target   weight1   weight2  difference change\n",
       "0       264.9055  358.8579  0.702577  0.888251    0.185674     pP\n",
       "1       162.0560  628.0561  0.785290  0.627830    0.157460     pp\n",
       "2       633.4328  813.4851  0.850005  0.778677    0.071328     Pp\n",
       "3       689.4951  877.5208  0.738469  0.751602    0.013133     pp\n",
       "4       688.4907  759.5518  0.810682  0.641725    0.168957     Pp\n",
       "...          ...       ...       ...       ...         ...    ...\n",
       "116994  330.0704  505.1609       NaN  0.716583         NaN     ?p\n",
       "116995  278.1847  980.0155       NaN  0.777074         NaN     ?p\n",
       "116996  263.0973  798.0267       NaN  0.654707         NaN     ?p\n",
       "116997  604.3977  686.4762       NaN  0.658939         NaN     ?p\n",
       "116998  382.2450  700.0577       NaN  0.559688         NaN     ?p\n",
       "\n",
       "[116999 rows x 6 columns]"
      ]
     },
     "execution_count": 29,
     "metadata": {},
     "output_type": "execute_result"
    },
    {
     "name": "stdout",
     "output_type": "stream",
     "text": [
      "time: 77.4 ms (started: 2023-05-15 12:52:15 -05:00)\n"
     ]
    }
   ],
   "source": [
    "df_subgraphs = pd.read_csv(\"{}/output_dgi/subgraphs/{}_{}_subgraphs_{}_{}.csv\".format(dir, \"WT\", \"zwf1^\", 3, \"L2\"))\n",
    "df_subgraphs"
   ]
  },
  {
   "cell_type": "code",
   "execution_count": 30,
   "metadata": {},
   "outputs": [
    {
     "name": "stdout",
     "output_type": "stream",
     "text": [
      "WT\n",
      "Num. nodes: 1778\n",
      "Num. edges: 11201\n",
      "\n",
      "zwf1\n",
      "Num. nodes: 4624\n",
      "Num. edges: 360662\n",
      "\n",
      "pck1\n",
      "Num. nodes: 5089\n",
      "Num. edges: 414420\n",
      "\n",
      "Subgraph\n",
      "Num. nodes: 1667\n",
      "Num. edges: 116999\n",
      "\n",
      "time: 267 ms (started: 2023-05-15 12:52:16 -05:00)\n"
     ]
    }
   ],
   "source": [
    "H = nx.from_pandas_edgelist(df_subgraphs, \"source\", \"target\", edge_attr=[\"change\"], create_using=nx.DiGraph())\n",
    "H.edges(data=True)\n",
    "\n",
    "print(\"WT\")\n",
    "info_graph(G1)\n",
    "\n",
    "print(\"zwf1\")\n",
    "info_graph(G2)\n",
    "\n",
    "print(\"pck1\")\n",
    "info_graph(G3)\n",
    "\n",
    "print(\"Subgraph\")\n",
    "info_graph(H)"
   ]
  },
  {
   "cell_type": "code",
   "execution_count": 31,
   "metadata": {},
   "outputs": [
    {
     "name": "stdout",
     "output_type": "stream",
     "text": [
      "time: 388 µs (started: 2023-05-15 12:52:16 -05:00)\n"
     ]
    }
   ],
   "source": [
    "# nx.draw_networkx(H, pos=nx.spring_layout(H), font_color=\"w\")"
   ]
  },
  {
   "cell_type": "code",
   "execution_count": 32,
   "metadata": {},
   "outputs": [
    {
     "name": "stdout",
     "output_type": "stream",
     "text": [
      "time: 199 µs (started: 2023-05-15 12:52:16 -05:00)\n"
     ]
    }
   ],
   "source": [
    "# degree_distibution([G1, G2, H], [\"G1\", \"G2\", \"H\"])"
   ]
  },
  {
   "cell_type": "code",
   "execution_count": 33,
   "metadata": {},
   "outputs": [
    {
     "name": "stdout",
     "output_type": "stream",
     "text": [
      "time: 371 µs (started: 2023-05-15 12:52:16 -05:00)\n"
     ]
    }
   ],
   "source": [
    "# sorted(H.degree, key=lambda x: x[1], reverse=True)"
   ]
  },
  {
   "attachments": {},
   "cell_type": "markdown",
   "metadata": {},
   "source": [
    "#### Filter and plot"
   ]
  },
  {
   "cell_type": "code",
   "execution_count": 36,
   "metadata": {},
   "outputs": [
    {
     "data": {
      "text/plain": [
       "{(356.103, 877.6205): Text(0.24999998137354879, 0.4330127121725851, '?P'),\n",
       " (356.103, 863.5636): Text(0.7499999590218074, -0.43301269296576733, '?p'),\n",
       " (587.3821, 863.5636): Text(0.4999999478459366, 2.4504569873240456e-08, 'PP'),\n",
       " (587.3821, 877.6205): Text(-2.9802321943606103e-08, 0.8660254296429223, '?p'),\n",
       " (283.3108,\n",
       "  877.6205): Text(-0.49999996274709757, -5.297752070365647e-09, 'Pp'),\n",
       " (283.3108, 863.5636): Text(1.4901160971803051e-08, -0.8660254104361045, '?P'),\n",
       " (863.5636,\n",
       "  877.6205): Text(-5.9604643887212205e-08, -5.297752070365647e-09, '?P')}"
      ]
     },
     "execution_count": 36,
     "metadata": {},
     "output_type": "execute_result"
    },
    {
     "data": {
      "image/png": "[encoded data removed]",
      "text/plain": [
       "<Figure size 640x480 with 1 Axes>"
      ]
     },
     "metadata": {},
     "output_type": "display_data"
    },
    {
     "name": "stdout",
     "output_type": "stream",
     "text": [
      "time: 202 ms (started: 2023-05-15 12:52:55 -05:00)\n"
     ]
    }
   ],
   "source": [
    "HF = H.subgraph([283.3108, 877.6205, 587.3821, 863.5636, 356.103, 980.0155])\n",
    "edge_labels = nx.get_edge_attributes(HF, \"change\")\n",
    "\n",
    "pos = pos=nx.circular_layout(HF)\n",
    "nx.draw_networkx(HF, pos, font_color=\"blue\", font_size=10, node_color=\"cyan\")\n",
    "nx.draw_networkx_edge_labels(H, pos, edge_labels)"
   ]
  }
 ],
 "metadata": {
  "kernelspec": {
   "display_name": "Python 3 (ipykernel)",
   "language": "python",
   "name": "python3"
  },
  "language_info": {
   "codemirror_mode": {
    "name": "ipython",
    "version": 3
   },
   "file_extension": ".py",
   "mimetype": "text/x-python",
   "name": "python",
   "nbconvert_exporter": "python",
   "pygments_lexer": "ipython3",
   "version": "3.10.11"
  },
  "orig_nbformat": 4
 },
 "nbformat": 4,
 "nbformat_minor": 2
}
