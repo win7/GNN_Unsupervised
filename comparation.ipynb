{
 "cells": [
  {
   "attachments": {},
   "cell_type": "markdown",
   "metadata": {},
   "source": [
    "### Imports"
   ]
  },
  {
   "cell_type": "code",
   "execution_count": 1,
   "metadata": {},
   "outputs": [
    {
     "name": "stderr",
     "output_type": "stream",
     "text": [
      "/home/ealvarez/miniconda3/envs/Conda_dgl_3.10/lib/python3.10/site-packages/umap/distances.py:1063: NumbaDeprecationWarning: The 'nopython' keyword argument was not supplied to the 'numba.jit' decorator. The implicit default value for this argument is currently False, but it will be changed to True in Numba 0.59.0. See https://numba.readthedocs.io/en/stable/reference/deprecation.html#deprecation-of-object-mode-fall-back-behaviour-when-using-jit for details.\n",
      "  @numba.jit()\n",
      "/home/ealvarez/miniconda3/envs/Conda_dgl_3.10/lib/python3.10/site-packages/umap/distances.py:1071: NumbaDeprecationWarning: The 'nopython' keyword argument was not supplied to the 'numba.jit' decorator. The implicit default value for this argument is currently False, but it will be changed to True in Numba 0.59.0. See https://numba.readthedocs.io/en/stable/reference/deprecation.html#deprecation-of-object-mode-fall-back-behaviour-when-using-jit for details.\n",
      "  @numba.jit()\n",
      "/home/ealvarez/miniconda3/envs/Conda_dgl_3.10/lib/python3.10/site-packages/umap/distances.py:1086: NumbaDeprecationWarning: The 'nopython' keyword argument was not supplied to the 'numba.jit' decorator. The implicit default value for this argument is currently False, but it will be changed to True in Numba 0.59.0. See https://numba.readthedocs.io/en/stable/reference/deprecation.html#deprecation-of-object-mode-fall-back-behaviour-when-using-jit for details.\n",
      "  @numba.jit()\n",
      "/home/ealvarez/miniconda3/envs/Conda_dgl_3.10/lib/python3.10/site-packages/umap/umap_.py:660: NumbaDeprecationWarning: The 'nopython' keyword argument was not supplied to the 'numba.jit' decorator. The implicit default value for this argument is currently False, but it will be changed to True in Numba 0.59.0. See https://numba.readthedocs.io/en/stable/reference/deprecation.html#deprecation-of-object-mode-fall-back-behaviour-when-using-jit for details.\n",
      "  @numba.jit()\n"
     ]
    },
    {
     "name": "stdout",
     "output_type": "stream",
     "text": [
      "time: 194 µs (started: 2023-06-12 20:35:45 -05:00)\n"
     ]
    }
   ],
   "source": [
    "from matplotlib_venn import venn2 \n",
    "from matplotlib import pyplot as plt\n",
    "from mpl_toolkits import mplot3d\n",
    "from sklearn.metrics import silhouette_score\n",
    "from sklearn.model_selection import RandomizedSearchCV\n",
    "from tqdm import tqdm\n",
    "from utils.utils import *\n",
    "\n",
    "import hdbscan\n",
    "import matplotlib.pyplot as plt\n",
    "import networkx as nx\n",
    "import numpy as np\n",
    "import os\n",
    "import pandas as pd\n",
    "import sys\n",
    "\n",
    "%load_ext autotime"
   ]
  },
  {
   "attachments": {},
   "cell_type": "markdown",
   "metadata": {},
   "source": [
    "### Parameters"
   ]
  },
  {
   "cell_type": "code",
   "execution_count": 2,
   "metadata": {
    "notebookRunGroups": {
     "groupValue": "1"
    }
   },
   "outputs": [
    {
     "name": "stdout",
     "output_type": "stream",
     "text": [
      "Exp:\t\t exp4\n",
      "Methods:\t ['greedy', 'dgi', 'vgae']\n",
      "Dimension:\t 3\n",
      "Groups id:\t ['s_WT', 's_zwf1^']\n",
      "Subgroups id:\t {'s_WT': ['1', '2', '3', '4', '5'], 's_zwf1^': ['1', '2', '3']}\n",
      "Options:\t ['', 'str', 'dyn']\n",
      "time: 2.88 ms (started: 2023-06-12 20:37:02 -05:00)\n"
     ]
    }
   ],
   "source": [
    "import json\n",
    "  \n",
    "# Opening JSON file\n",
    "file = open(\"parameters.json\")\n",
    "params = json.load(file)\n",
    "\n",
    "exp = params[\"exp\"]\n",
    "print(\"Exp:\\t\\t\", exp)\n",
    "\n",
    "methods = [\"greedy\", \"dgi\", \"vgae\"]\n",
    "print(\"Methods:\\t\", methods)\n",
    "\n",
    "dimension = params[\"dimension\"]\n",
    "print(\"Dimension:\\t\", dimension)\n",
    "\n",
    "groups_id = params[\"groups_id\"]\n",
    "print(\"Groups id:\\t\", groups_id)\n",
    "\n",
    "subgroups_id = params[\"subgroups_id\"]\n",
    "print(\"Subgroups id:\\t\", subgroups_id)\n",
    "\n",
    "options = [\"\", \"str\", \"dyn\"]\n",
    "print(\"Options:\\t\", options)"
   ]
  },
  {
   "attachments": {},
   "cell_type": "markdown",
   "metadata": {},
   "source": [
    "### Input graph detail"
   ]
  },
  {
   "cell_type": "code",
   "execution_count": 3,
   "metadata": {},
   "outputs": [
    {
     "name": "stderr",
     "output_type": "stream",
     "text": [
      "100%|██████████| 5/5 [00:03<00:00,  1.61it/s]\n",
      "100%|██████████| 3/3 [00:01<00:00,  1.63it/s]\n",
      "100%|██████████| 2/2 [00:04<00:00,  2.48s/it]\n"
     ]
    },
    {
     "data": {
      "text/html": [
       "<div>\n",
       "<style scoped>\n",
       "    .dataframe tbody tr th:only-of-type {\n",
       "        vertical-align: middle;\n",
       "    }\n",
       "\n",
       "    .dataframe tbody tr th {\n",
       "        vertical-align: top;\n",
       "    }\n",
       "\n",
       "    .dataframe thead th {\n",
       "        text-align: right;\n",
       "    }\n",
       "</style>\n",
       "<table border=\"1\" class=\"dataframe\">\n",
       "  <thead>\n",
       "    <tr style=\"text-align: right;\">\n",
       "      <th></th>\n",
       "      <th>Group</th>\n",
       "      <th>Subgroup</th>\n",
       "      <th>Num. nodes</th>\n",
       "      <th>Num. Edges</th>\n",
       "    </tr>\n",
       "  </thead>\n",
       "  <tbody>\n",
       "    <tr>\n",
       "      <th>0</th>\n",
       "      <td>s_WT</td>\n",
       "      <td>1</td>\n",
       "      <td>1000</td>\n",
       "      <td>249381</td>\n",
       "    </tr>\n",
       "    <tr>\n",
       "      <th>1</th>\n",
       "      <td>s_WT</td>\n",
       "      <td>2</td>\n",
       "      <td>1000</td>\n",
       "      <td>249594</td>\n",
       "    </tr>\n",
       "    <tr>\n",
       "      <th>2</th>\n",
       "      <td>s_WT</td>\n",
       "      <td>3</td>\n",
       "      <td>1000</td>\n",
       "      <td>249372</td>\n",
       "    </tr>\n",
       "    <tr>\n",
       "      <th>3</th>\n",
       "      <td>s_WT</td>\n",
       "      <td>4</td>\n",
       "      <td>1000</td>\n",
       "      <td>250129</td>\n",
       "    </tr>\n",
       "    <tr>\n",
       "      <th>4</th>\n",
       "      <td>s_WT</td>\n",
       "      <td>5</td>\n",
       "      <td>1000</td>\n",
       "      <td>248925</td>\n",
       "    </tr>\n",
       "    <tr>\n",
       "      <th>5</th>\n",
       "      <td>s_zwf1^</td>\n",
       "      <td>1</td>\n",
       "      <td>1000</td>\n",
       "      <td>249381</td>\n",
       "    </tr>\n",
       "    <tr>\n",
       "      <th>6</th>\n",
       "      <td>s_zwf1^</td>\n",
       "      <td>2</td>\n",
       "      <td>1000</td>\n",
       "      <td>249594</td>\n",
       "    </tr>\n",
       "    <tr>\n",
       "      <th>7</th>\n",
       "      <td>s_zwf1^</td>\n",
       "      <td>3</td>\n",
       "      <td>1000</td>\n",
       "      <td>249372</td>\n",
       "    </tr>\n",
       "  </tbody>\n",
       "</table>\n",
       "</div>"
      ],
      "text/plain": [
       "     Group Subgroup  Num. nodes  Num. Edges\n",
       "0     s_WT        1        1000      249381\n",
       "1     s_WT        2        1000      249594\n",
       "2     s_WT        3        1000      249372\n",
       "3     s_WT        4        1000      250129\n",
       "4     s_WT        5        1000      248925\n",
       "5  s_zwf1^        1        1000      249381\n",
       "6  s_zwf1^        2        1000      249594\n",
       "7  s_zwf1^        3        1000      249372"
      ]
     },
     "execution_count": 3,
     "metadata": {},
     "output_type": "execute_result"
    },
    {
     "name": "stdout",
     "output_type": "stream",
     "text": [
      "time: 4.97 s (started: 2023-06-12 20:37:10 -05:00)\n"
     ]
    }
   ],
   "source": [
    "input_detail = []\n",
    "\n",
    "for group in tqdm(groups_id):\n",
    "    for subgroup in tqdm(subgroups_id[group]):\n",
    "        df_edges = pd.read_csv(\"output/{}/preprocessing/edges/edges_{}_{}.csv\".format(exp, group, subgroup),\n",
    "                               dtype={\"source\": \"string\", \"target\": \"string\"})\n",
    "        G = nx.from_pandas_edgelist(df_edges, \"source\", \"target\", edge_attr=\"weight\")\n",
    "        # print(\"{}, {}\".format(group, subgroup))\n",
    "        # graph_detail(G)\n",
    "        input_detail.append([group, subgroup, G.number_of_nodes(), G.number_of_edges()])\n",
    "\n",
    "df_input_detail = pd.DataFrame(input_detail, columns=[\"Group\", \"Subgroup\", \"Num. nodes\", \"Num. Edges\"])\n",
    "df_input_detail"
   ]
  },
  {
   "attachments": {},
   "cell_type": "markdown",
   "metadata": {},
   "source": [
    "### Results"
   ]
  },
  {
   "cell_type": "code",
   "execution_count": 4,
   "metadata": {},
   "outputs": [
    {
     "data": {
      "text/html": [
       "<div>\n",
       "<style scoped>\n",
       "    .dataframe tbody tr th:only-of-type {\n",
       "        vertical-align: middle;\n",
       "    }\n",
       "\n",
       "    .dataframe tbody tr th {\n",
       "        vertical-align: top;\n",
       "    }\n",
       "\n",
       "    .dataframe thead th {\n",
       "        text-align: right;\n",
       "    }\n",
       "</style>\n",
       "<table border=\"1\" class=\"dataframe\">\n",
       "  <thead>\n",
       "    <tr style=\"text-align: right;\">\n",
       "      <th></th>\n",
       "      <th>Method</th>\n",
       "      <th>Group</th>\n",
       "      <th>Option</th>\n",
       "      <th>Num. nodes</th>\n",
       "      <th>Num. edges</th>\n",
       "    </tr>\n",
       "  </thead>\n",
       "  <tbody>\n",
       "    <tr>\n",
       "      <th>0</th>\n",
       "      <td>greedy</td>\n",
       "      <td>s_WT</td>\n",
       "      <td></td>\n",
       "      <td>1000</td>\n",
       "      <td>15489</td>\n",
       "    </tr>\n",
       "    <tr>\n",
       "      <th>1</th>\n",
       "      <td>greedy</td>\n",
       "      <td>s_zwf1^</td>\n",
       "      <td></td>\n",
       "      <td>1000</td>\n",
       "      <td>62351</td>\n",
       "    </tr>\n",
       "    <tr>\n",
       "      <th>2</th>\n",
       "      <td>dgi</td>\n",
       "      <td>s_WT</td>\n",
       "      <td></td>\n",
       "      <td>980</td>\n",
       "      <td>9115</td>\n",
       "    </tr>\n",
       "    <tr>\n",
       "      <th>3</th>\n",
       "      <td>dgi</td>\n",
       "      <td>s_WT</td>\n",
       "      <td>str</td>\n",
       "      <td>988</td>\n",
       "      <td>9775</td>\n",
       "    </tr>\n",
       "    <tr>\n",
       "      <th>4</th>\n",
       "      <td>dgi</td>\n",
       "      <td>s_WT</td>\n",
       "      <td>dyn</td>\n",
       "      <td>990</td>\n",
       "      <td>9557</td>\n",
       "    </tr>\n",
       "    <tr>\n",
       "      <th>5</th>\n",
       "      <td>dgi</td>\n",
       "      <td>s_zwf1^</td>\n",
       "      <td></td>\n",
       "      <td>1000</td>\n",
       "      <td>45428</td>\n",
       "    </tr>\n",
       "    <tr>\n",
       "      <th>6</th>\n",
       "      <td>dgi</td>\n",
       "      <td>s_zwf1^</td>\n",
       "      <td>str</td>\n",
       "      <td>1000</td>\n",
       "      <td>46452</td>\n",
       "    </tr>\n",
       "    <tr>\n",
       "      <th>7</th>\n",
       "      <td>dgi</td>\n",
       "      <td>s_zwf1^</td>\n",
       "      <td>dyn</td>\n",
       "      <td>1000</td>\n",
       "      <td>46428</td>\n",
       "    </tr>\n",
       "    <tr>\n",
       "      <th>8</th>\n",
       "      <td>vgae</td>\n",
       "      <td>s_WT</td>\n",
       "      <td></td>\n",
       "      <td>996</td>\n",
       "      <td>9318</td>\n",
       "    </tr>\n",
       "    <tr>\n",
       "      <th>9</th>\n",
       "      <td>vgae</td>\n",
       "      <td>s_WT</td>\n",
       "      <td>str</td>\n",
       "      <td>994</td>\n",
       "      <td>9219</td>\n",
       "    </tr>\n",
       "    <tr>\n",
       "      <th>10</th>\n",
       "      <td>vgae</td>\n",
       "      <td>s_WT</td>\n",
       "      <td>dyn</td>\n",
       "      <td>993</td>\n",
       "      <td>9219</td>\n",
       "    </tr>\n",
       "    <tr>\n",
       "      <th>11</th>\n",
       "      <td>vgae</td>\n",
       "      <td>s_zwf1^</td>\n",
       "      <td></td>\n",
       "      <td>1000</td>\n",
       "      <td>45480</td>\n",
       "    </tr>\n",
       "    <tr>\n",
       "      <th>12</th>\n",
       "      <td>vgae</td>\n",
       "      <td>s_zwf1^</td>\n",
       "      <td>str</td>\n",
       "      <td>998</td>\n",
       "      <td>45676</td>\n",
       "    </tr>\n",
       "    <tr>\n",
       "      <th>13</th>\n",
       "      <td>vgae</td>\n",
       "      <td>s_zwf1^</td>\n",
       "      <td>dyn</td>\n",
       "      <td>999</td>\n",
       "      <td>45632</td>\n",
       "    </tr>\n",
       "  </tbody>\n",
       "</table>\n",
       "</div>"
      ],
      "text/plain": [
       "    Method    Group Option  Num. nodes  Num. edges\n",
       "0   greedy     s_WT               1000       15489\n",
       "1   greedy  s_zwf1^               1000       62351\n",
       "2      dgi     s_WT                980        9115\n",
       "3      dgi     s_WT    str         988        9775\n",
       "4      dgi     s_WT    dyn         990        9557\n",
       "5      dgi  s_zwf1^               1000       45428\n",
       "6      dgi  s_zwf1^    str        1000       46452\n",
       "7      dgi  s_zwf1^    dyn        1000       46428\n",
       "8     vgae     s_WT                996        9318\n",
       "9     vgae     s_WT    str         994        9219\n",
       "10    vgae     s_WT    dyn         993        9219\n",
       "11    vgae  s_zwf1^               1000       45480\n",
       "12    vgae  s_zwf1^    str         998       45676\n",
       "13    vgae  s_zwf1^    dyn         999       45632"
      ]
     },
     "execution_count": 4,
     "metadata": {},
     "output_type": "execute_result"
    },
    {
     "name": "stdout",
     "output_type": "stream",
     "text": [
      "time: 1.06 s (started: 2023-06-12 18:23:49 -05:00)\n"
     ]
    }
   ],
   "source": [
    "results = []\n",
    "\n",
    "for method in methods:\n",
    "    for group in groups_id:\n",
    "        for option in options:\n",
    "            df_common_edges = pd.read_csv(\"output/{}/common_edges/common_edges_{}_{}_{}.csv\".format(exp, method, group, option),\n",
    "                                             dtype={\"source\": \"string\", \"target\": \"string\"})\n",
    "            \n",
    "            G = nx.from_pandas_edgelist(df_common_edges, edge_attr=[\"weight\"])\n",
    "            results.append([method, group, option, G.number_of_nodes(), G.number_of_edges()])\n",
    "\n",
    "            if method == \"greedy\":\n",
    "                break\n",
    "\n",
    "df_results = pd.DataFrame(results, columns=[\"Method\", \"Group\", \"Option\", \"Num. nodes\", \"Num. edges\"])\n",
    "df_results"
   ]
  },
  {
   "cell_type": "code",
   "execution_count": 39,
   "metadata": {},
   "outputs": [
    {
     "data": {
      "text/html": [
       "<div>\n",
       "<style scoped>\n",
       "    .dataframe tbody tr th:only-of-type {\n",
       "        vertical-align: middle;\n",
       "    }\n",
       "\n",
       "    .dataframe tbody tr th {\n",
       "        vertical-align: top;\n",
       "    }\n",
       "\n",
       "    .dataframe thead th {\n",
       "        text-align: right;\n",
       "    }\n",
       "</style>\n",
       "<table border=\"1\" class=\"dataframe\">\n",
       "  <thead>\n",
       "    <tr style=\"text-align: right;\">\n",
       "      <th></th>\n",
       "      <th>Method</th>\n",
       "      <th>Group</th>\n",
       "      <th>Option</th>\n",
       "      <th>Num. nodes</th>\n",
       "      <th>Num. edges</th>\n",
       "    </tr>\n",
       "  </thead>\n",
       "  <tbody>\n",
       "    <tr>\n",
       "      <th>0</th>\n",
       "      <td>greedy</td>\n",
       "      <td>s_WT</td>\n",
       "      <td></td>\n",
       "      <td>1000</td>\n",
       "      <td>15489</td>\n",
       "    </tr>\n",
       "    <tr>\n",
       "      <th>1</th>\n",
       "      <td>greedy</td>\n",
       "      <td>s_zwf1^</td>\n",
       "      <td></td>\n",
       "      <td>1000</td>\n",
       "      <td>62351</td>\n",
       "    </tr>\n",
       "    <tr>\n",
       "      <th>2</th>\n",
       "      <td>dgi</td>\n",
       "      <td>s_WT</td>\n",
       "      <td></td>\n",
       "      <td>716</td>\n",
       "      <td>1186</td>\n",
       "    </tr>\n",
       "    <tr>\n",
       "      <th>3</th>\n",
       "      <td>dgi</td>\n",
       "      <td>s_WT</td>\n",
       "      <td>str</td>\n",
       "      <td>730</td>\n",
       "      <td>1290</td>\n",
       "    </tr>\n",
       "    <tr>\n",
       "      <th>4</th>\n",
       "      <td>dgi</td>\n",
       "      <td>s_WT</td>\n",
       "      <td>dyn</td>\n",
       "      <td>714</td>\n",
       "      <td>1221</td>\n",
       "    </tr>\n",
       "    <tr>\n",
       "      <th>5</th>\n",
       "      <td>dgi</td>\n",
       "      <td>s_zwf1^</td>\n",
       "      <td></td>\n",
       "      <td>990</td>\n",
       "      <td>15034</td>\n",
       "    </tr>\n",
       "    <tr>\n",
       "      <th>6</th>\n",
       "      <td>dgi</td>\n",
       "      <td>s_zwf1^</td>\n",
       "      <td>str</td>\n",
       "      <td>988</td>\n",
       "      <td>15602</td>\n",
       "    </tr>\n",
       "    <tr>\n",
       "      <th>7</th>\n",
       "      <td>dgi</td>\n",
       "      <td>s_zwf1^</td>\n",
       "      <td>dyn</td>\n",
       "      <td>989</td>\n",
       "      <td>15863</td>\n",
       "    </tr>\n",
       "    <tr>\n",
       "      <th>8</th>\n",
       "      <td>vgae</td>\n",
       "      <td>s_WT</td>\n",
       "      <td></td>\n",
       "      <td>739</td>\n",
       "      <td>1076</td>\n",
       "    </tr>\n",
       "    <tr>\n",
       "      <th>9</th>\n",
       "      <td>vgae</td>\n",
       "      <td>s_WT</td>\n",
       "      <td>str</td>\n",
       "      <td>757</td>\n",
       "      <td>1128</td>\n",
       "    </tr>\n",
       "    <tr>\n",
       "      <th>10</th>\n",
       "      <td>vgae</td>\n",
       "      <td>s_WT</td>\n",
       "      <td>dyn</td>\n",
       "      <td>762</td>\n",
       "      <td>1119</td>\n",
       "    </tr>\n",
       "    <tr>\n",
       "      <th>11</th>\n",
       "      <td>vgae</td>\n",
       "      <td>s_zwf1^</td>\n",
       "      <td></td>\n",
       "      <td>995</td>\n",
       "      <td>15101</td>\n",
       "    </tr>\n",
       "    <tr>\n",
       "      <th>12</th>\n",
       "      <td>vgae</td>\n",
       "      <td>s_zwf1^</td>\n",
       "      <td>str</td>\n",
       "      <td>992</td>\n",
       "      <td>15147</td>\n",
       "    </tr>\n",
       "    <tr>\n",
       "      <th>13</th>\n",
       "      <td>vgae</td>\n",
       "      <td>s_zwf1^</td>\n",
       "      <td>dyn</td>\n",
       "      <td>993</td>\n",
       "      <td>15068</td>\n",
       "    </tr>\n",
       "  </tbody>\n",
       "</table>\n",
       "</div>"
      ],
      "text/plain": [
       "    Method    Group Option  Num. nodes  Num. edges\n",
       "0   greedy     s_WT               1000       15489\n",
       "1   greedy  s_zwf1^               1000       62351\n",
       "2      dgi     s_WT                716        1186\n",
       "3      dgi     s_WT    str         730        1290\n",
       "4      dgi     s_WT    dyn         714        1221\n",
       "5      dgi  s_zwf1^                990       15034\n",
       "6      dgi  s_zwf1^    str         988       15602\n",
       "7      dgi  s_zwf1^    dyn         989       15863\n",
       "8     vgae     s_WT                739        1076\n",
       "9     vgae     s_WT    str         757        1128\n",
       "10    vgae     s_WT    dyn         762        1119\n",
       "11    vgae  s_zwf1^                995       15101\n",
       "12    vgae  s_zwf1^    str         992       15147\n",
       "13    vgae  s_zwf1^    dyn         993       15068"
      ]
     },
     "execution_count": 39,
     "metadata": {},
     "output_type": "execute_result"
    },
    {
     "name": "stdout",
     "output_type": "stream",
     "text": [
      "time: 1.48 s (started: 2023-06-12 17:08:27 -05:00)\n"
     ]
    }
   ],
   "source": []
  },
  {
   "cell_type": "code",
   "execution_count": 5,
   "metadata": {},
   "outputs": [
    {
     "name": "stderr",
     "output_type": "stream",
     "text": [
      "100%|██████████| 2/2 [00:00<00:00, 4348.68it/s]\n",
      "100%|██████████| 12/12 [00:00<00:00, 19115.70it/s]"
     ]
    },
    {
     "name": "stdout",
     "output_type": "stream",
     "text": [
      "time: 7.05 ms (started: 2023-06-12 18:24:37 -05:00)\n"
     ]
    },
    {
     "name": "stderr",
     "output_type": "stream",
     "text": [
      "\n"
     ]
    }
   ],
   "source": [
    "total = []\n",
    "nodes = []\n",
    "edges = []\n",
    "\n",
    "for i in tqdm(df_results.index[:len(groups_id)]):\n",
    "    total.append([df_results[\"Num. nodes\"][i], df_results[\"Num. edges\"][i]])\n",
    "    nodes.append(\"{} ({}%)\".format(df_results[\"Num. nodes\"][i], int(df_results[\"Num. nodes\"][i]*100/df_results[\"Num. nodes\"][i])))\n",
    "    edges.append(\"{} ({}%)\".format(df_results[\"Num. edges\"][i], int(df_results[\"Num. edges\"][i]*100/df_results[\"Num. edges\"][i])))\n",
    "\n",
    "\n",
    "index = 0\n",
    "c = 0\n",
    "for i in tqdm(df_results.index[len(groups_id):]):\n",
    "    nodes.append(\"{} ({}%)\".format(df_results[\"Num. nodes\"][i], int(df_results[\"Num. nodes\"][i]*100/total[index][0])))\n",
    "    edges.append(\"{} ({}%)\".format(df_results[\"Num. edges\"][i], int(df_results[\"Num. edges\"][i]*100/total[index][1])))\n",
    "\n",
    "    c += 1\n",
    "    if c % 3 == 0:\n",
    "        index = (index + 1) % 2\n"
   ]
  },
  {
   "cell_type": "code",
   "execution_count": 7,
   "metadata": {},
   "outputs": [
    {
     "data": {
      "text/plain": [
       "(499500.0, 249750.0, 250119.0)"
      ]
     },
     "execution_count": 7,
     "metadata": {},
     "output_type": "execute_result"
    },
    {
     "name": "stdout",
     "output_type": "stream",
     "text": [
      "time: 2.67 ms (started: 2023-06-12 20:52:31 -05:00)\n"
     ]
    }
   ],
   "source": [
    "n = 1000\n",
    "m = n * (n-1)/2\n",
    "m, m / 2, m - 249381"
   ]
  },
  {
   "cell_type": "code",
   "execution_count": 6,
   "metadata": {},
   "outputs": [
    {
     "data": {
      "text/html": [
       "<div>\n",
       "<style scoped>\n",
       "    .dataframe tbody tr th:only-of-type {\n",
       "        vertical-align: middle;\n",
       "    }\n",
       "\n",
       "    .dataframe tbody tr th {\n",
       "        vertical-align: top;\n",
       "    }\n",
       "\n",
       "    .dataframe thead th {\n",
       "        text-align: right;\n",
       "    }\n",
       "</style>\n",
       "<table border=\"1\" class=\"dataframe\">\n",
       "  <thead>\n",
       "    <tr style=\"text-align: right;\">\n",
       "      <th></th>\n",
       "      <th>Method</th>\n",
       "      <th>Group</th>\n",
       "      <th>Option</th>\n",
       "      <th>Num. nodes</th>\n",
       "      <th>Num. edges</th>\n",
       "    </tr>\n",
       "  </thead>\n",
       "  <tbody>\n",
       "    <tr>\n",
       "      <th>0</th>\n",
       "      <td>greedy</td>\n",
       "      <td>s_WT</td>\n",
       "      <td></td>\n",
       "      <td>1000 (100%)</td>\n",
       "      <td>15489 (100%)</td>\n",
       "    </tr>\n",
       "    <tr>\n",
       "      <th>1</th>\n",
       "      <td>greedy</td>\n",
       "      <td>s_zwf1^</td>\n",
       "      <td></td>\n",
       "      <td>1000 (100%)</td>\n",
       "      <td>62351 (100%)</td>\n",
       "    </tr>\n",
       "    <tr>\n",
       "      <th>2</th>\n",
       "      <td>dgi</td>\n",
       "      <td>s_WT</td>\n",
       "      <td></td>\n",
       "      <td>980 (98%)</td>\n",
       "      <td>9115 (58%)</td>\n",
       "    </tr>\n",
       "    <tr>\n",
       "      <th>3</th>\n",
       "      <td>dgi</td>\n",
       "      <td>s_WT</td>\n",
       "      <td>str</td>\n",
       "      <td>988 (98%)</td>\n",
       "      <td>9775 (63%)</td>\n",
       "    </tr>\n",
       "    <tr>\n",
       "      <th>4</th>\n",
       "      <td>dgi</td>\n",
       "      <td>s_WT</td>\n",
       "      <td>dyn</td>\n",
       "      <td>990 (99%)</td>\n",
       "      <td>9557 (61%)</td>\n",
       "    </tr>\n",
       "    <tr>\n",
       "      <th>5</th>\n",
       "      <td>dgi</td>\n",
       "      <td>s_zwf1^</td>\n",
       "      <td></td>\n",
       "      <td>1000 (100%)</td>\n",
       "      <td>45428 (72%)</td>\n",
       "    </tr>\n",
       "    <tr>\n",
       "      <th>6</th>\n",
       "      <td>dgi</td>\n",
       "      <td>s_zwf1^</td>\n",
       "      <td>str</td>\n",
       "      <td>1000 (100%)</td>\n",
       "      <td>46452 (74%)</td>\n",
       "    </tr>\n",
       "    <tr>\n",
       "      <th>7</th>\n",
       "      <td>dgi</td>\n",
       "      <td>s_zwf1^</td>\n",
       "      <td>dyn</td>\n",
       "      <td>1000 (100%)</td>\n",
       "      <td>46428 (74%)</td>\n",
       "    </tr>\n",
       "    <tr>\n",
       "      <th>8</th>\n",
       "      <td>vgae</td>\n",
       "      <td>s_WT</td>\n",
       "      <td></td>\n",
       "      <td>996 (99%)</td>\n",
       "      <td>9318 (60%)</td>\n",
       "    </tr>\n",
       "    <tr>\n",
       "      <th>9</th>\n",
       "      <td>vgae</td>\n",
       "      <td>s_WT</td>\n",
       "      <td>str</td>\n",
       "      <td>994 (99%)</td>\n",
       "      <td>9219 (59%)</td>\n",
       "    </tr>\n",
       "    <tr>\n",
       "      <th>10</th>\n",
       "      <td>vgae</td>\n",
       "      <td>s_WT</td>\n",
       "      <td>dyn</td>\n",
       "      <td>993 (99%)</td>\n",
       "      <td>9219 (59%)</td>\n",
       "    </tr>\n",
       "    <tr>\n",
       "      <th>11</th>\n",
       "      <td>vgae</td>\n",
       "      <td>s_zwf1^</td>\n",
       "      <td></td>\n",
       "      <td>1000 (100%)</td>\n",
       "      <td>45480 (72%)</td>\n",
       "    </tr>\n",
       "    <tr>\n",
       "      <th>12</th>\n",
       "      <td>vgae</td>\n",
       "      <td>s_zwf1^</td>\n",
       "      <td>str</td>\n",
       "      <td>998 (99%)</td>\n",
       "      <td>45676 (73%)</td>\n",
       "    </tr>\n",
       "    <tr>\n",
       "      <th>13</th>\n",
       "      <td>vgae</td>\n",
       "      <td>s_zwf1^</td>\n",
       "      <td>dyn</td>\n",
       "      <td>999 (99%)</td>\n",
       "      <td>45632 (73%)</td>\n",
       "    </tr>\n",
       "  </tbody>\n",
       "</table>\n",
       "</div>"
      ],
      "text/plain": [
       "    Method    Group Option   Num. nodes    Num. edges\n",
       "0   greedy     s_WT         1000 (100%)  15489 (100%)\n",
       "1   greedy  s_zwf1^         1000 (100%)  62351 (100%)\n",
       "2      dgi     s_WT           980 (98%)    9115 (58%)\n",
       "3      dgi     s_WT    str    988 (98%)    9775 (63%)\n",
       "4      dgi     s_WT    dyn    990 (99%)    9557 (61%)\n",
       "5      dgi  s_zwf1^         1000 (100%)   45428 (72%)\n",
       "6      dgi  s_zwf1^    str  1000 (100%)   46452 (74%)\n",
       "7      dgi  s_zwf1^    dyn  1000 (100%)   46428 (74%)\n",
       "8     vgae     s_WT           996 (99%)    9318 (60%)\n",
       "9     vgae     s_WT    str    994 (99%)    9219 (59%)\n",
       "10    vgae     s_WT    dyn    993 (99%)    9219 (59%)\n",
       "11    vgae  s_zwf1^         1000 (100%)   45480 (72%)\n",
       "12    vgae  s_zwf1^    str    998 (99%)   45676 (73%)\n",
       "13    vgae  s_zwf1^    dyn    999 (99%)   45632 (73%)"
      ]
     },
     "execution_count": 6,
     "metadata": {},
     "output_type": "execute_result"
    },
    {
     "name": "stdout",
     "output_type": "stream",
     "text": [
      "time: 14.2 ms (started: 2023-06-12 18:24:54 -05:00)\n"
     ]
    }
   ],
   "source": [
    "df_results_ = df_results.copy()\n",
    "df_results_[\"Num. nodes\"] = nodes\n",
    "df_results_[\"Num. edges\"] = edges\n",
    "df_results_"
   ]
  },
  {
   "cell_type": "code",
   "execution_count": 43,
   "metadata": {},
   "outputs": [
    {
     "data": {
      "text/html": [
       "<div>\n",
       "<style scoped>\n",
       "    .dataframe tbody tr th:only-of-type {\n",
       "        vertical-align: middle;\n",
       "    }\n",
       "\n",
       "    .dataframe tbody tr th {\n",
       "        vertical-align: top;\n",
       "    }\n",
       "\n",
       "    .dataframe thead th {\n",
       "        text-align: right;\n",
       "    }\n",
       "</style>\n",
       "<table border=\"1\" class=\"dataframe\">\n",
       "  <thead>\n",
       "    <tr style=\"text-align: right;\">\n",
       "      <th></th>\n",
       "      <th>Method</th>\n",
       "      <th>Group</th>\n",
       "      <th>Option</th>\n",
       "      <th>Num. nodes</th>\n",
       "      <th>Num. edges</th>\n",
       "    </tr>\n",
       "  </thead>\n",
       "  <tbody>\n",
       "    <tr>\n",
       "      <th>0</th>\n",
       "      <td>greedy</td>\n",
       "      <td>s_WT</td>\n",
       "      <td></td>\n",
       "      <td>1000 (100%)</td>\n",
       "      <td>15489 (100%)</td>\n",
       "    </tr>\n",
       "    <tr>\n",
       "      <th>1</th>\n",
       "      <td>greedy</td>\n",
       "      <td>s_zwf1^</td>\n",
       "      <td></td>\n",
       "      <td>1000 (100%)</td>\n",
       "      <td>62351 (100%)</td>\n",
       "    </tr>\n",
       "    <tr>\n",
       "      <th>2</th>\n",
       "      <td>dgi</td>\n",
       "      <td>s_WT</td>\n",
       "      <td></td>\n",
       "      <td>716 (71%)</td>\n",
       "      <td>1186 (7%)</td>\n",
       "    </tr>\n",
       "    <tr>\n",
       "      <th>3</th>\n",
       "      <td>dgi</td>\n",
       "      <td>s_WT</td>\n",
       "      <td>str</td>\n",
       "      <td>730 (73%)</td>\n",
       "      <td>1290 (8%)</td>\n",
       "    </tr>\n",
       "    <tr>\n",
       "      <th>4</th>\n",
       "      <td>dgi</td>\n",
       "      <td>s_WT</td>\n",
       "      <td>dyn</td>\n",
       "      <td>714 (71%)</td>\n",
       "      <td>1221 (7%)</td>\n",
       "    </tr>\n",
       "    <tr>\n",
       "      <th>5</th>\n",
       "      <td>dgi</td>\n",
       "      <td>s_zwf1^</td>\n",
       "      <td></td>\n",
       "      <td>990 (99%)</td>\n",
       "      <td>15034 (24%)</td>\n",
       "    </tr>\n",
       "    <tr>\n",
       "      <th>6</th>\n",
       "      <td>dgi</td>\n",
       "      <td>s_zwf1^</td>\n",
       "      <td>str</td>\n",
       "      <td>988 (98%)</td>\n",
       "      <td>15602 (25%)</td>\n",
       "    </tr>\n",
       "    <tr>\n",
       "      <th>7</th>\n",
       "      <td>dgi</td>\n",
       "      <td>s_zwf1^</td>\n",
       "      <td>dyn</td>\n",
       "      <td>989 (98%)</td>\n",
       "      <td>15863 (25%)</td>\n",
       "    </tr>\n",
       "    <tr>\n",
       "      <th>8</th>\n",
       "      <td>vgae</td>\n",
       "      <td>s_WT</td>\n",
       "      <td></td>\n",
       "      <td>739 (73%)</td>\n",
       "      <td>1076 (6%)</td>\n",
       "    </tr>\n",
       "    <tr>\n",
       "      <th>9</th>\n",
       "      <td>vgae</td>\n",
       "      <td>s_WT</td>\n",
       "      <td>str</td>\n",
       "      <td>757 (75%)</td>\n",
       "      <td>1128 (7%)</td>\n",
       "    </tr>\n",
       "    <tr>\n",
       "      <th>10</th>\n",
       "      <td>vgae</td>\n",
       "      <td>s_WT</td>\n",
       "      <td>dyn</td>\n",
       "      <td>762 (76%)</td>\n",
       "      <td>1119 (7%)</td>\n",
       "    </tr>\n",
       "    <tr>\n",
       "      <th>11</th>\n",
       "      <td>vgae</td>\n",
       "      <td>s_zwf1^</td>\n",
       "      <td></td>\n",
       "      <td>995 (99%)</td>\n",
       "      <td>15101 (24%)</td>\n",
       "    </tr>\n",
       "    <tr>\n",
       "      <th>12</th>\n",
       "      <td>vgae</td>\n",
       "      <td>s_zwf1^</td>\n",
       "      <td>str</td>\n",
       "      <td>992 (99%)</td>\n",
       "      <td>15147 (24%)</td>\n",
       "    </tr>\n",
       "    <tr>\n",
       "      <th>13</th>\n",
       "      <td>vgae</td>\n",
       "      <td>s_zwf1^</td>\n",
       "      <td>dyn</td>\n",
       "      <td>993 (99%)</td>\n",
       "      <td>15068 (24%)</td>\n",
       "    </tr>\n",
       "  </tbody>\n",
       "</table>\n",
       "</div>"
      ],
      "text/plain": [
       "    Method    Group Option   Num. nodes    Num. edges\n",
       "0   greedy     s_WT         1000 (100%)  15489 (100%)\n",
       "1   greedy  s_zwf1^         1000 (100%)  62351 (100%)\n",
       "2      dgi     s_WT           716 (71%)     1186 (7%)\n",
       "3      dgi     s_WT    str    730 (73%)     1290 (8%)\n",
       "4      dgi     s_WT    dyn    714 (71%)     1221 (7%)\n",
       "5      dgi  s_zwf1^           990 (99%)   15034 (24%)\n",
       "6      dgi  s_zwf1^    str    988 (98%)   15602 (25%)\n",
       "7      dgi  s_zwf1^    dyn    989 (98%)   15863 (25%)\n",
       "8     vgae     s_WT           739 (73%)     1076 (6%)\n",
       "9     vgae     s_WT    str    757 (75%)     1128 (7%)\n",
       "10    vgae     s_WT    dyn    762 (76%)     1119 (7%)\n",
       "11    vgae  s_zwf1^           995 (99%)   15101 (24%)\n",
       "12    vgae  s_zwf1^    str    992 (99%)   15147 (24%)\n",
       "13    vgae  s_zwf1^    dyn    993 (99%)   15068 (24%)"
      ]
     },
     "execution_count": 43,
     "metadata": {},
     "output_type": "execute_result"
    },
    {
     "name": "stdout",
     "output_type": "stream",
     "text": [
      "time: 14.7 ms (started: 2023-06-12 17:09:49 -05:00)\n"
     ]
    }
   ],
   "source": []
  },
  {
   "cell_type": "code",
   "execution_count": 7,
   "metadata": {},
   "outputs": [
    {
     "name": "stdout",
     "output_type": "stream",
     "text": [
      "\\begin{tabular}{lllrr}\n",
      "\\toprule\n",
      "Method & Group & Option &  Num. nodes &  Num. Edges \\\\\n",
      "\\midrule\n",
      "greedy &    WT &        &        4179 &      131539 \\\\\n",
      "greedy & zwf1\\textasciicircum  &        &        5555 &     1041644 \\\\\n",
      "greedy & pck1\\textasciicircum  &        &        5678 &      732161 \\\\\n",
      "   dgi &    WT &        &        1917 &       23319 \\\\\n",
      "   dgi &    WT &    str &        2275 &       28314 \\\\\n",
      "   dgi &    WT &    dyn &        2257 &       28384 \\\\\n",
      "   dgi & zwf1\\textasciicircum  &        &        4364 &      522116 \\\\\n",
      "   dgi & zwf1\\textasciicircum  &    str &        4598 &      532465 \\\\\n",
      "   dgi & zwf1\\textasciicircum  &    dyn &        4703 &      533284 \\\\\n",
      "   dgi & pck1\\textasciicircum  &        &        5045 &      454537 \\\\\n",
      "   dgi & pck1\\textasciicircum  &    str &        5176 &      475500 \\\\\n",
      "   dgi & pck1\\textasciicircum  &    dyn &        5187 &      475919 \\\\\n",
      "  vgae &    WT &        &        2305 &       28617 \\\\\n",
      "  vgae &    WT &    str &        2276 &       26449 \\\\\n",
      "  vgae &    WT &    dyn &        2286 &       26266 \\\\\n",
      "  vgae & zwf1\\textasciicircum  &        &        4875 &      495252 \\\\\n",
      "  vgae & zwf1\\textasciicircum  &    str &        4890 &      504767 \\\\\n",
      "  vgae & zwf1\\textasciicircum  &    dyn &        4883 &      503193 \\\\\n",
      "  vgae & pck1\\textasciicircum  &        &        5276 &      445247 \\\\\n",
      "  vgae & pck1\\textasciicircum  &    str &        5259 &      439912 \\\\\n",
      "  vgae & pck1\\textasciicircum  &    dyn &        5276 &      438813 \\\\\n",
      "\\bottomrule\n",
      "\\end{tabular}\n",
      "\n",
      "time: 15.9 ms (started: 2023-06-11 13:46:40 -05:00)\n"
     ]
    },
    {
     "name": "stderr",
     "output_type": "stream",
     "text": [
      "/tmp/ipykernel_1663139/3190573071.py:1: FutureWarning: In future versions `DataFrame.to_latex` is expected to utilise the base implementation of `Styler.to_latex` for formatting and rendering. The arguments signature may therefore change. It is recommended instead to use `DataFrame.style.to_latex` which also contains additional functionality.\n",
      "  print(df_results.to_latex(index=False, formatters={\"name\": str.upper}, float_format=\"{:.1f}\".format))\n"
     ]
    }
   ],
   "source": [
    "print(df_results.to_latex(index=False, formatters={\"name\": str.upper}, float_format=\"{:.1f}\".format)) "
   ]
  },
  {
   "attachments": {},
   "cell_type": "markdown",
   "metadata": {},
   "source": [
    "### Comparison all"
   ]
  },
  {
   "cell_type": "code",
   "execution_count": null,
   "metadata": {},
   "outputs": [],
   "source": [
    "results = []\n",
    "\n",
    "for method in methods:\n",
    "    for group in groups_id:\n",
    "        df_common_edges = pd.read_csv(\"output/{}/common_edges/common_edges_{}_{}_{}.csv\".format(exp, \"greedy\", group, \"\"),\n",
    "                                             dtype={\"source\": \"string\", \"target\": \"string\"})     \n",
    "        G1 = nx.from_pandas_edgelist(df_common_edges, edge_attr=[\"weight\"])\n",
    "\n",
    "        for option in options:\n",
    "            df_common_edges = pd.read_csv(\"output/{}/common_edges/common_edges_{}_{}_{}.csv\".format(exp, \"greedy\", group, option),\n",
    "                                             dtype={\"source\": \"string\", \"target\": \"string\"})     \n",
    "            \n",
    "            G2 = nx.from_pandas_edgelist(df_common_edges, edge_attr=[\"weight\"])\n",
    "            common_nodes_edges = get_common_nodes_edges(G1, G2, \"Greedy\", method)\n",
    "\n",
    "df_input_detail = pd.DataFrame(input_detail, columns=[\"Group\", \"Subgroup\", \"Num. nodes\", \"Num. Edges\"])\n",
    "df_input_detail"
   ]
  },
  {
   "attachments": {},
   "cell_type": "markdown",
   "metadata": {},
   "source": [
    "### Comparison between two"
   ]
  },
  {
   "cell_type": "code",
   "execution_count": 27,
   "metadata": {},
   "outputs": [
    {
     "name": "stdout",
     "output_type": "stream",
     "text": [
      "Exp:\t\t exp2\n",
      "Methods:\t ['vgae', 'vgae']\n",
      "Groups:\t\t ['WT', 'WT']\n",
      "Options:\t ['str', 'dyn']\n",
      "time: 1.44 ms (started: 2023-06-11 23:43:36 -05:00)\n"
     ]
    }
   ],
   "source": [
    "exp = params[\"exp\"]\n",
    "print(\"Exp:\\t\\t\", exp)\n",
    "\n",
    "methods = [\"vgae\", \"vgae\"]\n",
    "print(\"Methods:\\t\", methods)\n",
    "\n",
    "groups = [\"WT\", \"WT\",]\n",
    "print(\"Groups:\\t\\t\", groups)\n",
    "\n",
    "options = [\"str\", \"dyn\"]\n",
    "print(\"Options:\\t\", options)"
   ]
  },
  {
   "cell_type": "code",
   "execution_count": 28,
   "metadata": {},
   "outputs": [
    {
     "name": "stdout",
     "output_type": "stream",
     "text": [
      "time: 146 ms (started: 2023-06-11 23:43:38 -05:00)\n"
     ]
    }
   ],
   "source": [
    "list_graphs = []\n",
    "for k in range(len(groups)):\n",
    "    df_edges = pd.read_csv(\"output/{}/common_edges/common_edges_{}_{}_{}.csv\".format(exp, methods[k], groups[k], options[k]),\n",
    "                            dtype={\"source\": \"string\", \"target\": \"string\"})\n",
    "    sort_edges(df_edges)\n",
    "    df_edges.rename(columns={\"weight\": \"weight{}\".format(k + 1)}, inplace=True)\n",
    "    G = nx.from_pandas_edgelist(df_edges, edge_attr=[\"weight{}\".format(k + 1)])\n",
    "    \n",
    "    list_graphs.append(G)"
   ]
  },
  {
   "cell_type": "code",
   "execution_count": 30,
   "metadata": {},
   "outputs": [
    {
     "name": "stdout",
     "output_type": "stream",
     "text": [
      "Nodes:\n",
      "vgae_WT_str & vgae_WT_dyn: 2249\n",
      "vgae_WT_str - vgae_WT_dyn: 27\n",
      "vgae_WT_dyn - vgae_WT_str: 37\n",
      "Edges:\n",
      "vgae_WT_str & vgae_WT_dyn: 25838\n",
      "vgae_WT_str - vgae_WT_dyn: 611\n",
      "vgae_WT_dyn - vgae_WT_str: 428\n"
     ]
    },
    {
     "data": {
      "image/png": "[encoded data removed]",
      "text/plain": [
       "<Figure size 640x480 with 1 Axes>"
      ]
     },
     "metadata": {},
     "output_type": "display_data"
    },
    {
     "data": {
      "image/png": "[encoded data removed]",
      "text/plain": [
       "<Figure size 640x480 with 1 Axes>"
      ]
     },
     "metadata": {},
     "output_type": "display_data"
    },
    {
     "name": "stdout",
     "output_type": "stream",
     "text": [
      "time: 164 ms (started: 2023-06-11 23:46:05 -05:00)\n"
     ]
    }
   ],
   "source": [
    "common_nodes_edges = get_common_nodes_edges(list_graphs[0], list_graphs[1],\n",
    "                                            \"{}_{}_{}\".format(methods[0], groups[0], options[0]),\n",
    "                                            \"{}_{}_{}\".format(methods[1], groups[1], options[1]))\n",
    "\n",
    "venn2(subsets = (len(common_nodes_edges[1][0]), len(common_nodes_edges[2][0]), len(common_nodes_edges[0][0])),\n",
    "      set_labels=(\"{}_{}_{}\".format(methods[0], groups[0], options[0]), \"{}_{}_{}\".format(methods[1], groups[1], options[1])))\n",
    "plt.title(\"Nodes\")\n",
    "plt.show()\n",
    "\n",
    "venn2(subsets = (len(common_nodes_edges[1][1]), len(common_nodes_edges[2][1]), len(common_nodes_edges[0][1])), \n",
    "      set_labels=(\"{}_{}_{}\".format(methods[0], groups[0], options[0]), \"{}_{}_{}\".format(methods[1], groups[1], options[1])))\n",
    "plt.title(\"Edges\")\n",
    "plt.show()"
   ]
  },
  {
   "attachments": {},
   "cell_type": "markdown",
   "metadata": {},
   "source": [
    "---"
   ]
  },
  {
   "cell_type": "code",
   "execution_count": 88,
   "metadata": {},
   "outputs": [
    {
     "name": "stdout",
     "output_type": "stream",
     "text": [
      "Nodes:\n",
      "Greedy & vgae: 4295\n",
      "Greedy - vgae: 356\n",
      "vgae - Greedy: 966\n",
      "Edges:\n",
      "Greedy & vgae: 250390\n",
      "Greedy - vgae: 222790\n",
      "vgae - Greedy: 175964\n"
     ]
    },
    {
     "data": {
      "image/png": "[encoded data removed]",
      "text/plain": [
       "<Figure size 640x480 with 1 Axes>"
      ]
     },
     "metadata": {},
     "output_type": "display_data"
    },
    {
     "data": {
      "image/png": "[encoded data removed]",
      "text/plain": [
       "<Figure size 640x480 with 1 Axes>"
      ]
     },
     "metadata": {},
     "output_type": "display_data"
    },
    {
     "name": "stdout",
     "output_type": "stream",
     "text": [
      "time: 1.4 s (started: 2023-05-31 14:44:23 -05:00)\n"
     ]
    }
   ],
   "source": [
    "common_nodes_edges = get_common_nodes_edges(G22_, G, \"Greedy\", method)\n",
    "\n",
    "venn2(subsets = (len(common_nodes_edges[1][0]), len(common_nodes_edges[2][0]), len(common_nodes_edges[0][0])), set_labels=(\"Method: greedy\", \"Method: {}\".format(method)))\n",
    "plt.title(\"Group: {}\".format(group[0]))\n",
    "plt.show()\n",
    "\n",
    "venn2(subsets = (len(common_nodes_edges[1][1]), len(common_nodes_edges[2][1]), len(common_nodes_edges[0][1])), set_labels=(\"Method: greedy\", \"Method: {}\".format(method)))\n",
    "plt.title(\"Group: {}\".format(group[0]))\n",
    "plt.show()"
   ]
  }
 ],
 "metadata": {
  "kernelspec": {
   "display_name": "Python 3 (ipykernel)",
   "language": "python",
   "name": "python3"
  },
  "language_info": {
   "codemirror_mode": {
    "name": "ipython",
    "version": 3
   },
   "file_extension": ".py",
   "mimetype": "text/x-python",
   "name": "python",
   "nbconvert_exporter": "python",
   "pygments_lexer": "ipython3",
   "version": "3.10.11"
  },
  "orig_nbformat": 4
 },
 "nbformat": 4,
 "nbformat_minor": 2
}
