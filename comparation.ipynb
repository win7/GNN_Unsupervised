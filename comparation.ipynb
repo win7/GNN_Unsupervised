{
 "cells": [
  {
   "attachments": {},
   "cell_type": "markdown",
   "metadata": {},
   "source": [
    "### Imports"
   ]
  },
  {
   "cell_type": "code",
   "execution_count": 1,
   "metadata": {},
   "outputs": [
    {
     "name": "stderr",
     "output_type": "stream",
     "text": [
      "/home/ealvarez/miniconda3/envs/Conda_dgl_3.10/lib/python3.10/site-packages/umap/distances.py:1063: NumbaDeprecationWarning: The 'nopython' keyword argument was not supplied to the 'numba.jit' decorator. The implicit default value for this argument is currently False, but it will be changed to True in Numba 0.59.0. See https://numba.readthedocs.io/en/stable/reference/deprecation.html#deprecation-of-object-mode-fall-back-behaviour-when-using-jit for details.\n",
      "  @numba.jit()\n",
      "/home/ealvarez/miniconda3/envs/Conda_dgl_3.10/lib/python3.10/site-packages/umap/distances.py:1071: NumbaDeprecationWarning: The 'nopython' keyword argument was not supplied to the 'numba.jit' decorator. The implicit default value for this argument is currently False, but it will be changed to True in Numba 0.59.0. See https://numba.readthedocs.io/en/stable/reference/deprecation.html#deprecation-of-object-mode-fall-back-behaviour-when-using-jit for details.\n",
      "  @numba.jit()\n",
      "/home/ealvarez/miniconda3/envs/Conda_dgl_3.10/lib/python3.10/site-packages/umap/distances.py:1086: NumbaDeprecationWarning: The 'nopython' keyword argument was not supplied to the 'numba.jit' decorator. The implicit default value for this argument is currently False, but it will be changed to True in Numba 0.59.0. See https://numba.readthedocs.io/en/stable/reference/deprecation.html#deprecation-of-object-mode-fall-back-behaviour-when-using-jit for details.\n",
      "  @numba.jit()\n",
      "/home/ealvarez/miniconda3/envs/Conda_dgl_3.10/lib/python3.10/site-packages/umap/umap_.py:660: NumbaDeprecationWarning: The 'nopython' keyword argument was not supplied to the 'numba.jit' decorator. The implicit default value for this argument is currently False, but it will be changed to True in Numba 0.59.0. See https://numba.readthedocs.io/en/stable/reference/deprecation.html#deprecation-of-object-mode-fall-back-behaviour-when-using-jit for details.\n",
      "  @numba.jit()\n"
     ]
    },
    {
     "name": "stdout",
     "output_type": "stream",
     "text": [
      "time: 159 µs (started: 2023-07-11 14:15:30 -05:00)\n"
     ]
    }
   ],
   "source": [
    "from matplotlib_venn import venn2 \n",
    "from matplotlib import pyplot as plt\n",
    "from mpl_toolkits import mplot3d\n",
    "from sklearn.metrics import silhouette_score\n",
    "from sklearn.model_selection import RandomizedSearchCV\n",
    "from tqdm import tqdm\n",
    "from utils.utils import *\n",
    "\n",
    "import hdbscan\n",
    "import matplotlib.pyplot as plt\n",
    "import networkx as nx\n",
    "import numpy as np\n",
    "import os\n",
    "import pandas as pd\n",
    "import sys\n",
    "\n",
    "%load_ext autotime"
   ]
  },
  {
   "attachments": {},
   "cell_type": "markdown",
   "metadata": {},
   "source": [
    "### Parameters"
   ]
  },
  {
   "cell_type": "code",
   "execution_count": 45,
   "metadata": {
    "notebookRunGroups": {
     "groupValue": "1"
    }
   },
   "outputs": [
    {
     "name": "stdout",
     "output_type": "stream",
     "text": [
      "Exp:\t\t exp1\n",
      "Methods:\t ['greedy', 'dgi', 'vgae']\n",
      "Dimension:\t 3\n",
      "Groups id:\t ['WT', 'zwf1^', 'pck1^']\n",
      "Subgroups id:\t {'WT': ['1', '2', '3', '4', '5'], 'zwf1^': ['1', '2', '3'], 'pck1^': ['1', '2']}\n",
      "Options:\t ['', 'str', 'dyn']\n",
      "time: 4.35 ms (started: 2023-06-13 14:34:58 -05:00)\n"
     ]
    }
   ],
   "source": [
    "import json\n",
    "  \n",
    "# Opening JSON file\n",
    "file = open(\"parameters.json\")\n",
    "params = json.load(file)\n",
    "\n",
    "exp = params[\"exp\"]\n",
    "print(\"Exp:\\t\\t\", exp)\n",
    "\n",
    "methods = [\"greedy\", \"dgi\", \"vgae\"]\n",
    "print(\"Methods:\\t\", methods)\n",
    "\n",
    "dimension = params[\"dimension\"]\n",
    "print(\"Dimension:\\t\", dimension)\n",
    "\n",
    "groups_id = params[\"groups_id\"]\n",
    "print(\"Groups id:\\t\", groups_id)\n",
    "\n",
    "subgroups_id = params[\"subgroups_id\"]\n",
    "print(\"Subgroups id:\\t\", subgroups_id)\n",
    "\n",
    "options = [\"\", \"str\", \"dyn\"]\n",
    "print(\"Options:\\t\", options)"
   ]
  },
  {
   "attachments": {},
   "cell_type": "markdown",
   "metadata": {},
   "source": [
    "### Input graph detail"
   ]
  },
  {
   "cell_type": "code",
   "execution_count": 46,
   "metadata": {},
   "outputs": [
    {
     "name": "stderr",
     "output_type": "stream",
     "text": [
      "100%|██████████| 5/5 [00:39<00:00,  7.91s/it]\n",
      "100%|██████████| 3/3 [00:40<00:00, 13.54s/it]\n",
      "100%|██████████| 2/2 [00:14<00:00,  7.04s/it]\n",
      "100%|██████████| 3/3 [01:34<00:00, 31.42s/it]\n"
     ]
    },
    {
     "data": {
      "text/html": [
       "<div>\n",
       "<style scoped>\n",
       "    .dataframe tbody tr th:only-of-type {\n",
       "        vertical-align: middle;\n",
       "    }\n",
       "\n",
       "    .dataframe tbody tr th {\n",
       "        vertical-align: top;\n",
       "    }\n",
       "\n",
       "    .dataframe thead th {\n",
       "        text-align: right;\n",
       "    }\n",
       "</style>\n",
       "<table border=\"1\" class=\"dataframe\">\n",
       "  <thead>\n",
       "    <tr style=\"text-align: right;\">\n",
       "      <th></th>\n",
       "      <th>Group</th>\n",
       "      <th>Subgroup</th>\n",
       "      <th>Num. nodes</th>\n",
       "      <th>Num. Edges</th>\n",
       "    </tr>\n",
       "  </thead>\n",
       "  <tbody>\n",
       "    <tr>\n",
       "      <th>0</th>\n",
       "      <td>WT</td>\n",
       "      <td>1</td>\n",
       "      <td>6234</td>\n",
       "      <td>1242255</td>\n",
       "    </tr>\n",
       "    <tr>\n",
       "      <th>1</th>\n",
       "      <td>WT</td>\n",
       "      <td>2</td>\n",
       "      <td>6231</td>\n",
       "      <td>939041</td>\n",
       "    </tr>\n",
       "    <tr>\n",
       "      <th>2</th>\n",
       "      <td>WT</td>\n",
       "      <td>3</td>\n",
       "      <td>6233</td>\n",
       "      <td>2253023</td>\n",
       "    </tr>\n",
       "    <tr>\n",
       "      <th>3</th>\n",
       "      <td>WT</td>\n",
       "      <td>4</td>\n",
       "      <td>6226</td>\n",
       "      <td>3728254</td>\n",
       "    </tr>\n",
       "    <tr>\n",
       "      <th>4</th>\n",
       "      <td>WT</td>\n",
       "      <td>5</td>\n",
       "      <td>6226</td>\n",
       "      <td>4069665</td>\n",
       "    </tr>\n",
       "    <tr>\n",
       "      <th>5</th>\n",
       "      <td>zwf1^</td>\n",
       "      <td>1</td>\n",
       "      <td>6231</td>\n",
       "      <td>2525350</td>\n",
       "    </tr>\n",
       "    <tr>\n",
       "      <th>6</th>\n",
       "      <td>zwf1^</td>\n",
       "      <td>2</td>\n",
       "      <td>6226</td>\n",
       "      <td>5805985</td>\n",
       "    </tr>\n",
       "    <tr>\n",
       "      <th>7</th>\n",
       "      <td>zwf1^</td>\n",
       "      <td>3</td>\n",
       "      <td>6216</td>\n",
       "      <td>8757698</td>\n",
       "    </tr>\n",
       "    <tr>\n",
       "      <th>8</th>\n",
       "      <td>pck1^</td>\n",
       "      <td>1</td>\n",
       "      <td>6235</td>\n",
       "      <td>1629488</td>\n",
       "    </tr>\n",
       "    <tr>\n",
       "      <th>9</th>\n",
       "      <td>pck1^</td>\n",
       "      <td>2</td>\n",
       "      <td>6234</td>\n",
       "      <td>4414803</td>\n",
       "    </tr>\n",
       "  </tbody>\n",
       "</table>\n",
       "</div>"
      ],
      "text/plain": [
       "   Group Subgroup  Num. nodes  Num. Edges\n",
       "0     WT        1        6234     1242255\n",
       "1     WT        2        6231      939041\n",
       "2     WT        3        6233     2253023\n",
       "3     WT        4        6226     3728254\n",
       "4     WT        5        6226     4069665\n",
       "5  zwf1^        1        6231     2525350\n",
       "6  zwf1^        2        6226     5805985\n",
       "7  zwf1^        3        6216     8757698\n",
       "8  pck1^        1        6235     1629488\n",
       "9  pck1^        2        6234     4414803"
      ]
     },
     "execution_count": 46,
     "metadata": {},
     "output_type": "execute_result"
    },
    {
     "name": "stdout",
     "output_type": "stream",
     "text": [
      "time: 1min 34s (started: 2023-06-13 14:35:01 -05:00)\n"
     ]
    }
   ],
   "source": [
    "input_detail = []\n",
    "\n",
    "for group in tqdm(groups_id):\n",
    "    for subgroup in tqdm(subgroups_id[group]):\n",
    "        df_edges = pd.read_csv(\"output/{}/preprocessing/edges/edges_{}_{}.csv\".format(exp, group, subgroup),\n",
    "                               dtype={\"source\": \"string\", \"target\": \"string\"})\n",
    "        G = nx.from_pandas_edgelist(df_edges, \"source\", \"target\", edge_attr=\"weight\")\n",
    "        # print(\"{}, {}\".format(group, subgroup))\n",
    "        # graph_detail(G)\n",
    "        input_detail.append([group, subgroup, G.number_of_nodes(), G.number_of_edges()])\n",
    "\n",
    "df_input_detail = pd.DataFrame(input_detail, columns=[\"Group\", \"Subgroup\", \"Num. nodes\", \"Num. Edges\"])\n",
    "df_input_detail"
   ]
  },
  {
   "cell_type": "code",
   "execution_count": 42,
   "metadata": {},
   "outputs": [
    {
     "name": "stdout",
     "output_type": "stream",
     "text": [
      "\\begin{tabular}{llrr}\n",
      "\\toprule\n",
      "Group & Subgroup &  Num. nodes &  Num. Edges \\\\\n",
      "\\midrule\n",
      "   WT &        1 &        6234 &     1242255 \\\\\n",
      "   WT &        2 &        6231 &      939041 \\\\\n",
      "   WT &        3 &        6233 &     2253023 \\\\\n",
      "   WT &        4 &        6226 &     3728254 \\\\\n",
      "   WT &        5 &        6226 &     4069665 \\\\\n",
      "zwf1\\textasciicircum  &        1 &        6231 &     2525350 \\\\\n",
      "zwf1\\textasciicircum  &        2 &        6226 &     5805985 \\\\\n",
      "zwf1\\textasciicircum  &        3 &        6216 &     8757698 \\\\\n",
      "pck1\\textasciicircum  &        1 &        6235 &     1629488 \\\\\n",
      "pck1\\textasciicircum  &        2 &        6234 &     4414803 \\\\\n",
      "\\bottomrule\n",
      "\\end{tabular}\n",
      "\n",
      "time: 11.5 ms (started: 2023-06-13 13:16:46 -05:00)\n"
     ]
    },
    {
     "name": "stderr",
     "output_type": "stream",
     "text": [
      "/tmp/ipykernel_1853741/1787964784.py:1: FutureWarning: In future versions `DataFrame.to_latex` is expected to utilise the base implementation of `Styler.to_latex` for formatting and rendering. The arguments signature may therefore change. It is recommended instead to use `DataFrame.style.to_latex` which also contains additional functionality.\n",
      "  print(df_input_detail.to_latex(index=False, formatters={\"name\": str.upper}, float_format=\"{:.1f}\".format))\n"
     ]
    }
   ],
   "source": [
    "print(df_input_detail.to_latex(index=False, formatters={\"name\": str.upper}, float_format=\"{:.1f}\".format)) \n"
   ]
  },
  {
   "attachments": {},
   "cell_type": "markdown",
   "metadata": {},
   "source": [
    "### Results"
   ]
  },
  {
   "cell_type": "code",
   "execution_count": 47,
   "metadata": {},
   "outputs": [
    {
     "data": {
      "text/html": [
       "<div>\n",
       "<style scoped>\n",
       "    .dataframe tbody tr th:only-of-type {\n",
       "        vertical-align: middle;\n",
       "    }\n",
       "\n",
       "    .dataframe tbody tr th {\n",
       "        vertical-align: top;\n",
       "    }\n",
       "\n",
       "    .dataframe thead th {\n",
       "        text-align: right;\n",
       "    }\n",
       "</style>\n",
       "<table border=\"1\" class=\"dataframe\">\n",
       "  <thead>\n",
       "    <tr style=\"text-align: right;\">\n",
       "      <th></th>\n",
       "      <th>Method</th>\n",
       "      <th>Group</th>\n",
       "      <th>Option</th>\n",
       "      <th>Num. nodes</th>\n",
       "      <th>Num. edges</th>\n",
       "    </tr>\n",
       "  </thead>\n",
       "  <tbody>\n",
       "    <tr>\n",
       "      <th>0</th>\n",
       "      <td>greedy</td>\n",
       "      <td>WT</td>\n",
       "      <td></td>\n",
       "      <td>4179</td>\n",
       "      <td>131539</td>\n",
       "    </tr>\n",
       "    <tr>\n",
       "      <th>1</th>\n",
       "      <td>greedy</td>\n",
       "      <td>zwf1^</td>\n",
       "      <td></td>\n",
       "      <td>5555</td>\n",
       "      <td>1041644</td>\n",
       "    </tr>\n",
       "    <tr>\n",
       "      <th>2</th>\n",
       "      <td>greedy</td>\n",
       "      <td>pck1^</td>\n",
       "      <td></td>\n",
       "      <td>5678</td>\n",
       "      <td>732161</td>\n",
       "    </tr>\n",
       "    <tr>\n",
       "      <th>3</th>\n",
       "      <td>dgi</td>\n",
       "      <td>WT</td>\n",
       "      <td></td>\n",
       "      <td>2971</td>\n",
       "      <td>68037</td>\n",
       "    </tr>\n",
       "    <tr>\n",
       "      <th>4</th>\n",
       "      <td>dgi</td>\n",
       "      <td>WT</td>\n",
       "      <td>str</td>\n",
       "      <td>3598</td>\n",
       "      <td>84865</td>\n",
       "    </tr>\n",
       "    <tr>\n",
       "      <th>5</th>\n",
       "      <td>dgi</td>\n",
       "      <td>WT</td>\n",
       "      <td>dyn</td>\n",
       "      <td>3639</td>\n",
       "      <td>84852</td>\n",
       "    </tr>\n",
       "    <tr>\n",
       "      <th>6</th>\n",
       "      <td>dgi</td>\n",
       "      <td>zwf1^</td>\n",
       "      <td></td>\n",
       "      <td>4931</td>\n",
       "      <td>733280</td>\n",
       "    </tr>\n",
       "    <tr>\n",
       "      <th>7</th>\n",
       "      <td>dgi</td>\n",
       "      <td>zwf1^</td>\n",
       "      <td>str</td>\n",
       "      <td>5097</td>\n",
       "      <td>770991</td>\n",
       "    </tr>\n",
       "    <tr>\n",
       "      <th>8</th>\n",
       "      <td>dgi</td>\n",
       "      <td>zwf1^</td>\n",
       "      <td>dyn</td>\n",
       "      <td>5252</td>\n",
       "      <td>774149</td>\n",
       "    </tr>\n",
       "    <tr>\n",
       "      <th>9</th>\n",
       "      <td>dgi</td>\n",
       "      <td>pck1^</td>\n",
       "      <td></td>\n",
       "      <td>5381</td>\n",
       "      <td>588754</td>\n",
       "    </tr>\n",
       "    <tr>\n",
       "      <th>10</th>\n",
       "      <td>dgi</td>\n",
       "      <td>pck1^</td>\n",
       "      <td>str</td>\n",
       "      <td>5519</td>\n",
       "      <td>616329</td>\n",
       "    </tr>\n",
       "    <tr>\n",
       "      <th>11</th>\n",
       "      <td>dgi</td>\n",
       "      <td>pck1^</td>\n",
       "      <td>dyn</td>\n",
       "      <td>5523</td>\n",
       "      <td>616309</td>\n",
       "    </tr>\n",
       "    <tr>\n",
       "      <th>12</th>\n",
       "      <td>vgae</td>\n",
       "      <td>WT</td>\n",
       "      <td></td>\n",
       "      <td>3575</td>\n",
       "      <td>84466</td>\n",
       "    </tr>\n",
       "    <tr>\n",
       "      <th>13</th>\n",
       "      <td>vgae</td>\n",
       "      <td>WT</td>\n",
       "      <td>str</td>\n",
       "      <td>3587</td>\n",
       "      <td>81400</td>\n",
       "    </tr>\n",
       "    <tr>\n",
       "      <th>14</th>\n",
       "      <td>vgae</td>\n",
       "      <td>WT</td>\n",
       "      <td>dyn</td>\n",
       "      <td>3618</td>\n",
       "      <td>81013</td>\n",
       "    </tr>\n",
       "    <tr>\n",
       "      <th>15</th>\n",
       "      <td>vgae</td>\n",
       "      <td>zwf1^</td>\n",
       "      <td></td>\n",
       "      <td>5405</td>\n",
       "      <td>729009</td>\n",
       "    </tr>\n",
       "    <tr>\n",
       "      <th>16</th>\n",
       "      <td>vgae</td>\n",
       "      <td>zwf1^</td>\n",
       "      <td>str</td>\n",
       "      <td>5426</td>\n",
       "      <td>741745</td>\n",
       "    </tr>\n",
       "    <tr>\n",
       "      <th>17</th>\n",
       "      <td>vgae</td>\n",
       "      <td>zwf1^</td>\n",
       "      <td>dyn</td>\n",
       "      <td>5423</td>\n",
       "      <td>740216</td>\n",
       "    </tr>\n",
       "    <tr>\n",
       "      <th>18</th>\n",
       "      <td>vgae</td>\n",
       "      <td>pck1^</td>\n",
       "      <td></td>\n",
       "      <td>5588</td>\n",
       "      <td>583292</td>\n",
       "    </tr>\n",
       "    <tr>\n",
       "      <th>19</th>\n",
       "      <td>vgae</td>\n",
       "      <td>pck1^</td>\n",
       "      <td>str</td>\n",
       "      <td>5579</td>\n",
       "      <td>578468</td>\n",
       "    </tr>\n",
       "    <tr>\n",
       "      <th>20</th>\n",
       "      <td>vgae</td>\n",
       "      <td>pck1^</td>\n",
       "      <td>dyn</td>\n",
       "      <td>5587</td>\n",
       "      <td>577311</td>\n",
       "    </tr>\n",
       "  </tbody>\n",
       "</table>\n",
       "</div>"
      ],
      "text/plain": [
       "    Method  Group Option  Num. nodes  Num. edges\n",
       "0   greedy     WT               4179      131539\n",
       "1   greedy  zwf1^               5555     1041644\n",
       "2   greedy  pck1^               5678      732161\n",
       "3      dgi     WT               2971       68037\n",
       "4      dgi     WT    str        3598       84865\n",
       "5      dgi     WT    dyn        3639       84852\n",
       "6      dgi  zwf1^               4931      733280\n",
       "7      dgi  zwf1^    str        5097      770991\n",
       "8      dgi  zwf1^    dyn        5252      774149\n",
       "9      dgi  pck1^               5381      588754\n",
       "10     dgi  pck1^    str        5519      616329\n",
       "11     dgi  pck1^    dyn        5523      616309\n",
       "12    vgae     WT               3575       84466\n",
       "13    vgae     WT    str        3587       81400\n",
       "14    vgae     WT    dyn        3618       81013\n",
       "15    vgae  zwf1^               5405      729009\n",
       "16    vgae  zwf1^    str        5426      741745\n",
       "17    vgae  zwf1^    dyn        5423      740216\n",
       "18    vgae  pck1^               5588      583292\n",
       "19    vgae  pck1^    str        5579      578468\n",
       "20    vgae  pck1^    dyn        5587      577311"
      ]
     },
     "execution_count": 47,
     "metadata": {},
     "output_type": "execute_result"
    },
    {
     "name": "stdout",
     "output_type": "stream",
     "text": [
      "time: 35.1 s (started: 2023-06-13 14:36:52 -05:00)\n"
     ]
    }
   ],
   "source": [
    "results = []\n",
    "\n",
    "for method in methods:\n",
    "    for group in groups_id:\n",
    "        for option in options:\n",
    "            df_common_edges = pd.read_csv(\"output/{}/common_edges/common_edges_{}_{}_{}.csv\".format(exp, method, group, option),\n",
    "                                             dtype={\"source\": \"string\", \"target\": \"string\"})\n",
    "            G = nx.from_pandas_edgelist(df_common_edges, edge_attr=[\"weight\"])\n",
    "            results.append([method, group, option, G.number_of_nodes(), G.number_of_edges()])\n",
    "\n",
    "            if method == \"greedy\":\n",
    "                break\n",
    "\n",
    "df_results = pd.DataFrame(results, columns=[\"Method\", \"Group\", \"Option\", \"Num. nodes\", \"Num. edges\"])\n",
    "df_results"
   ]
  },
  {
   "cell_type": "code",
   "execution_count": 53,
   "metadata": {},
   "outputs": [
    {
     "name": "stderr",
     "output_type": "stream",
     "text": [
      "100%|██████████| 3/3 [00:00<00:00, 4082.71it/s]\n",
      "100%|██████████| 18/18 [00:00<00:00, 15090.44it/s]"
     ]
    },
    {
     "name": "stdout",
     "output_type": "stream",
     "text": [
      "time: 12.7 ms (started: 2023-06-13 14:41:17 -05:00)\n"
     ]
    },
    {
     "name": "stderr",
     "output_type": "stream",
     "text": [
      "\n"
     ]
    }
   ],
   "source": [
    "total = []\n",
    "nodes = []\n",
    "edges = []\n",
    "\n",
    "for i in tqdm(df_results.index[:len(groups_id)]):\n",
    "    total.append([df_results[\"Num. nodes\"][i], df_results[\"Num. edges\"][i]])\n",
    "    nodes.append(\"{} ({}%)\".format(df_results[\"Num. nodes\"][i], round(df_results[\"Num. nodes\"][i]*100/df_results[\"Num. nodes\"][i], 2)))\n",
    "    edges.append(\"{} ({}%)\".format(df_results[\"Num. edges\"][i], round(df_results[\"Num. edges\"][i]*100/df_results[\"Num. edges\"][i], 2)))\n",
    "\n",
    "\n",
    "index = 0\n",
    "c = 0\n",
    "for i in tqdm(df_results.index[len(groups_id):]):\n",
    "    nodes.append(\"{} ({}%)\".format(df_results[\"Num. nodes\"][i], round(df_results[\"Num. nodes\"][i]*100/total[index][0], 2)))\n",
    "    edges.append(\"{} ({}%)\".format(df_results[\"Num. edges\"][i], round(df_results[\"Num. edges\"][i]*100/total[index][1], 2)))\n",
    "\n",
    "    c += 1\n",
    "    if c % 3 == 0:\n",
    "        index = (index + 1) % len(groups_id)"
   ]
  },
  {
   "cell_type": "code",
   "execution_count": 50,
   "metadata": {},
   "outputs": [
    {
     "data": {
      "text/plain": [
       "(499500.0, 249750.0, 250119.0)"
      ]
     },
     "execution_count": 50,
     "metadata": {},
     "output_type": "execute_result"
    },
    {
     "name": "stdout",
     "output_type": "stream",
     "text": [
      "time: 4.74 ms (started: 2023-06-13 14:37:38 -05:00)\n"
     ]
    }
   ],
   "source": [
    "n = 1000\n",
    "m = n * (n-1)/2\n",
    "m, m / 2, m - 249381"
   ]
  },
  {
   "cell_type": "code",
   "execution_count": 55,
   "metadata": {},
   "outputs": [
    {
     "data": {
      "text/html": [
       "<div>\n",
       "<style scoped>\n",
       "    .dataframe tbody tr th:only-of-type {\n",
       "        vertical-align: middle;\n",
       "    }\n",
       "\n",
       "    .dataframe tbody tr th {\n",
       "        vertical-align: top;\n",
       "    }\n",
       "\n",
       "    .dataframe thead th {\n",
       "        text-align: right;\n",
       "    }\n",
       "</style>\n",
       "<table border=\"1\" class=\"dataframe\">\n",
       "  <thead>\n",
       "    <tr style=\"text-align: right;\">\n",
       "      <th></th>\n",
       "      <th>Method</th>\n",
       "      <th>Group</th>\n",
       "      <th>Option</th>\n",
       "      <th>Num. nodes</th>\n",
       "      <th>Num. edges</th>\n",
       "    </tr>\n",
       "  </thead>\n",
       "  <tbody>\n",
       "    <tr>\n",
       "      <th>0</th>\n",
       "      <td>greedy</td>\n",
       "      <td>WT</td>\n",
       "      <td></td>\n",
       "      <td>4179 (100.0%)</td>\n",
       "      <td>131539 (100.0%)</td>\n",
       "    </tr>\n",
       "    <tr>\n",
       "      <th>1</th>\n",
       "      <td>greedy</td>\n",
       "      <td>zwf1^</td>\n",
       "      <td></td>\n",
       "      <td>5555 (100.0%)</td>\n",
       "      <td>1041644 (100.0%)</td>\n",
       "    </tr>\n",
       "    <tr>\n",
       "      <th>2</th>\n",
       "      <td>greedy</td>\n",
       "      <td>pck1^</td>\n",
       "      <td></td>\n",
       "      <td>5678 (100.0%)</td>\n",
       "      <td>732161 (100.0%)</td>\n",
       "    </tr>\n",
       "    <tr>\n",
       "      <th>3</th>\n",
       "      <td>dgi</td>\n",
       "      <td>WT</td>\n",
       "      <td></td>\n",
       "      <td>2971 (71.09%)</td>\n",
       "      <td>68037 (51.72%)</td>\n",
       "    </tr>\n",
       "    <tr>\n",
       "      <th>4</th>\n",
       "      <td>dgi</td>\n",
       "      <td>WT</td>\n",
       "      <td>str</td>\n",
       "      <td>3598 (86.1%)</td>\n",
       "      <td>84865 (64.52%)</td>\n",
       "    </tr>\n",
       "    <tr>\n",
       "      <th>5</th>\n",
       "      <td>dgi</td>\n",
       "      <td>WT</td>\n",
       "      <td>dyn</td>\n",
       "      <td>3639 (87.08%)</td>\n",
       "      <td>84852 (64.51%)</td>\n",
       "    </tr>\n",
       "    <tr>\n",
       "      <th>6</th>\n",
       "      <td>dgi</td>\n",
       "      <td>zwf1^</td>\n",
       "      <td></td>\n",
       "      <td>4931 (88.77%)</td>\n",
       "      <td>733280 (70.4%)</td>\n",
       "    </tr>\n",
       "    <tr>\n",
       "      <th>7</th>\n",
       "      <td>dgi</td>\n",
       "      <td>zwf1^</td>\n",
       "      <td>str</td>\n",
       "      <td>5097 (91.76%)</td>\n",
       "      <td>770991 (74.02%)</td>\n",
       "    </tr>\n",
       "    <tr>\n",
       "      <th>8</th>\n",
       "      <td>dgi</td>\n",
       "      <td>zwf1^</td>\n",
       "      <td>dyn</td>\n",
       "      <td>5252 (94.55%)</td>\n",
       "      <td>774149 (74.32%)</td>\n",
       "    </tr>\n",
       "    <tr>\n",
       "      <th>9</th>\n",
       "      <td>dgi</td>\n",
       "      <td>pck1^</td>\n",
       "      <td></td>\n",
       "      <td>5381 (94.77%)</td>\n",
       "      <td>588754 (80.41%)</td>\n",
       "    </tr>\n",
       "    <tr>\n",
       "      <th>10</th>\n",
       "      <td>dgi</td>\n",
       "      <td>pck1^</td>\n",
       "      <td>str</td>\n",
       "      <td>5519 (97.2%)</td>\n",
       "      <td>616329 (84.18%)</td>\n",
       "    </tr>\n",
       "    <tr>\n",
       "      <th>11</th>\n",
       "      <td>dgi</td>\n",
       "      <td>pck1^</td>\n",
       "      <td>dyn</td>\n",
       "      <td>5523 (97.27%)</td>\n",
       "      <td>616309 (84.18%)</td>\n",
       "    </tr>\n",
       "    <tr>\n",
       "      <th>12</th>\n",
       "      <td>vgae</td>\n",
       "      <td>WT</td>\n",
       "      <td></td>\n",
       "      <td>3575 (85.55%)</td>\n",
       "      <td>84466 (64.21%)</td>\n",
       "    </tr>\n",
       "    <tr>\n",
       "      <th>13</th>\n",
       "      <td>vgae</td>\n",
       "      <td>WT</td>\n",
       "      <td>str</td>\n",
       "      <td>3587 (85.83%)</td>\n",
       "      <td>81400 (61.88%)</td>\n",
       "    </tr>\n",
       "    <tr>\n",
       "      <th>14</th>\n",
       "      <td>vgae</td>\n",
       "      <td>WT</td>\n",
       "      <td>dyn</td>\n",
       "      <td>3618 (86.58%)</td>\n",
       "      <td>81013 (61.59%)</td>\n",
       "    </tr>\n",
       "    <tr>\n",
       "      <th>15</th>\n",
       "      <td>vgae</td>\n",
       "      <td>zwf1^</td>\n",
       "      <td></td>\n",
       "      <td>5405 (97.3%)</td>\n",
       "      <td>729009 (69.99%)</td>\n",
       "    </tr>\n",
       "    <tr>\n",
       "      <th>16</th>\n",
       "      <td>vgae</td>\n",
       "      <td>zwf1^</td>\n",
       "      <td>str</td>\n",
       "      <td>5426 (97.68%)</td>\n",
       "      <td>741745 (71.21%)</td>\n",
       "    </tr>\n",
       "    <tr>\n",
       "      <th>17</th>\n",
       "      <td>vgae</td>\n",
       "      <td>zwf1^</td>\n",
       "      <td>dyn</td>\n",
       "      <td>5423 (97.62%)</td>\n",
       "      <td>740216 (71.06%)</td>\n",
       "    </tr>\n",
       "    <tr>\n",
       "      <th>18</th>\n",
       "      <td>vgae</td>\n",
       "      <td>pck1^</td>\n",
       "      <td></td>\n",
       "      <td>5588 (98.41%)</td>\n",
       "      <td>583292 (79.67%)</td>\n",
       "    </tr>\n",
       "    <tr>\n",
       "      <th>19</th>\n",
       "      <td>vgae</td>\n",
       "      <td>pck1^</td>\n",
       "      <td>str</td>\n",
       "      <td>5579 (98.26%)</td>\n",
       "      <td>578468 (79.01%)</td>\n",
       "    </tr>\n",
       "    <tr>\n",
       "      <th>20</th>\n",
       "      <td>vgae</td>\n",
       "      <td>pck1^</td>\n",
       "      <td>dyn</td>\n",
       "      <td>5587 (98.4%)</td>\n",
       "      <td>577311 (78.85%)</td>\n",
       "    </tr>\n",
       "  </tbody>\n",
       "</table>\n",
       "</div>"
      ],
      "text/plain": [
       "    Method  Group Option     Num. nodes        Num. edges\n",
       "0   greedy     WT         4179 (100.0%)   131539 (100.0%)\n",
       "1   greedy  zwf1^         5555 (100.0%)  1041644 (100.0%)\n",
       "2   greedy  pck1^         5678 (100.0%)   732161 (100.0%)\n",
       "3      dgi     WT         2971 (71.09%)    68037 (51.72%)\n",
       "4      dgi     WT    str   3598 (86.1%)    84865 (64.52%)\n",
       "5      dgi     WT    dyn  3639 (87.08%)    84852 (64.51%)\n",
       "6      dgi  zwf1^         4931 (88.77%)    733280 (70.4%)\n",
       "7      dgi  zwf1^    str  5097 (91.76%)   770991 (74.02%)\n",
       "8      dgi  zwf1^    dyn  5252 (94.55%)   774149 (74.32%)\n",
       "9      dgi  pck1^         5381 (94.77%)   588754 (80.41%)\n",
       "10     dgi  pck1^    str   5519 (97.2%)   616329 (84.18%)\n",
       "11     dgi  pck1^    dyn  5523 (97.27%)   616309 (84.18%)\n",
       "12    vgae     WT         3575 (85.55%)    84466 (64.21%)\n",
       "13    vgae     WT    str  3587 (85.83%)    81400 (61.88%)\n",
       "14    vgae     WT    dyn  3618 (86.58%)    81013 (61.59%)\n",
       "15    vgae  zwf1^          5405 (97.3%)   729009 (69.99%)\n",
       "16    vgae  zwf1^    str  5426 (97.68%)   741745 (71.21%)\n",
       "17    vgae  zwf1^    dyn  5423 (97.62%)   740216 (71.06%)\n",
       "18    vgae  pck1^         5588 (98.41%)   583292 (79.67%)\n",
       "19    vgae  pck1^    str  5579 (98.26%)   578468 (79.01%)\n",
       "20    vgae  pck1^    dyn   5587 (98.4%)   577311 (78.85%)"
      ]
     },
     "execution_count": 55,
     "metadata": {},
     "output_type": "execute_result"
    },
    {
     "name": "stdout",
     "output_type": "stream",
     "text": [
      "time: 15.8 ms (started: 2023-06-13 14:42:13 -05:00)\n"
     ]
    }
   ],
   "source": [
    "df_results_ = df_results.copy()\n",
    "df_results_[\"Num. nodes\"] = nodes\n",
    "df_results_[\"Num. edges\"] = edges\n",
    "df_results_"
   ]
  },
  {
   "cell_type": "code",
   "execution_count": 56,
   "metadata": {},
   "outputs": [
    {
     "name": "stdout",
     "output_type": "stream",
     "text": [
      "\\begin{tabular}{lllll}\n",
      "\\toprule\n",
      "Method & Group & Option &    Num. nodes &       Num. edges \\\\\n",
      "\\midrule\n",
      "greedy &    WT &        & 4179 (100.0\\%) &  131539 (100.0\\%) \\\\\n",
      "greedy & zwf1\\textasciicircum  &        & 5555 (100.0\\%) & 1041644 (100.0\\%) \\\\\n",
      "greedy & pck1\\textasciicircum  &        & 5678 (100.0\\%) &  732161 (100.0\\%) \\\\\n",
      "   dgi &    WT &        & 2971 (71.09\\%) &   68037 (51.72\\%) \\\\\n",
      "   dgi &    WT &    str &  3598 (86.1\\%) &   84865 (64.52\\%) \\\\\n",
      "   dgi &    WT &    dyn & 3639 (87.08\\%) &   84852 (64.51\\%) \\\\\n",
      "   dgi & zwf1\\textasciicircum  &        & 4931 (88.77\\%) &   733280 (70.4\\%) \\\\\n",
      "   dgi & zwf1\\textasciicircum  &    str & 5097 (91.76\\%) &  770991 (74.02\\%) \\\\\n",
      "   dgi & zwf1\\textasciicircum  &    dyn & 5252 (94.55\\%) &  774149 (74.32\\%) \\\\\n",
      "   dgi & pck1\\textasciicircum  &        & 5381 (94.77\\%) &  588754 (80.41\\%) \\\\\n",
      "   dgi & pck1\\textasciicircum  &    str &  5519 (97.2\\%) &  616329 (84.18\\%) \\\\\n",
      "   dgi & pck1\\textasciicircum  &    dyn & 5523 (97.27\\%) &  616309 (84.18\\%) \\\\\n",
      "  vgae &    WT &        & 3575 (85.55\\%) &   84466 (64.21\\%) \\\\\n",
      "  vgae &    WT &    str & 3587 (85.83\\%) &   81400 (61.88\\%) \\\\\n",
      "  vgae &    WT &    dyn & 3618 (86.58\\%) &   81013 (61.59\\%) \\\\\n",
      "  vgae & zwf1\\textasciicircum  &        &  5405 (97.3\\%) &  729009 (69.99\\%) \\\\\n",
      "  vgae & zwf1\\textasciicircum  &    str & 5426 (97.68\\%) &  741745 (71.21\\%) \\\\\n",
      "  vgae & zwf1\\textasciicircum  &    dyn & 5423 (97.62\\%) &  740216 (71.06\\%) \\\\\n",
      "  vgae & pck1\\textasciicircum  &        & 5588 (98.41\\%) &  583292 (79.67\\%) \\\\\n",
      "  vgae & pck1\\textasciicircum  &    str & 5579 (98.26\\%) &  578468 (79.01\\%) \\\\\n",
      "  vgae & pck1\\textasciicircum  &    dyn &  5587 (98.4\\%) &  577311 (78.85\\%) \\\\\n",
      "\\bottomrule\n",
      "\\end{tabular}\n",
      "\n",
      "time: 16.3 ms (started: 2023-06-13 14:42:15 -05:00)\n"
     ]
    },
    {
     "name": "stderr",
     "output_type": "stream",
     "text": [
      "/tmp/ipykernel_1853741/3453246687.py:1: FutureWarning: In future versions `DataFrame.to_latex` is expected to utilise the base implementation of `Styler.to_latex` for formatting and rendering. The arguments signature may therefore change. It is recommended instead to use `DataFrame.style.to_latex` which also contains additional functionality.\n",
      "  print(df_results_.to_latex(index=False, formatters={\"name\": str.upper}, float_format=\"{:.1f}\".format))\n"
     ]
    }
   ],
   "source": [
    "print(df_results_.to_latex(index=False, formatters={\"name\": str.upper}, float_format=\"{:.1f}\".format)) "
   ]
  },
  {
   "attachments": {},
   "cell_type": "markdown",
   "metadata": {},
   "source": [
    "### Comparison all"
   ]
  },
  {
   "cell_type": "code",
   "execution_count": null,
   "metadata": {},
   "outputs": [],
   "source": [
    "results = []\n",
    "\n",
    "for method in methods:\n",
    "    for group in groups_id:\n",
    "        df_common_edges = pd.read_csv(\"output/{}/common_edges/common_edges_{}_{}_{}.csv\".format(exp, \"greedy\", group, \"\"),\n",
    "                                             dtype={\"source\": \"string\", \"target\": \"string\"})     \n",
    "        G1 = nx.from_pandas_edgelist(df_common_edges, edge_attr=[\"weight\"])\n",
    "\n",
    "        for option in options:\n",
    "            df_common_edges = pd.read_csv(\"output/{}/common_edges/common_edges_{}_{}_{}.csv\".format(exp, \"greedy\", group, option),\n",
    "                                             dtype={\"source\": \"string\", \"target\": \"string\"})     \n",
    "            \n",
    "            G2 = nx.from_pandas_edgelist(df_common_edges, edge_attr=[\"weight\"])\n",
    "            common_nodes_edges = get_common_nodes_edges(G1, G2, \"Greedy\", method)\n",
    "\n",
    "df_input_detail = pd.DataFrame(input_detail, columns=[\"Group\", \"Subgroup\", \"Num. nodes\", \"Num. Edges\"])\n",
    "df_input_detail"
   ]
  },
  {
   "attachments": {},
   "cell_type": "markdown",
   "metadata": {},
   "source": [
    "### Comparison between two"
   ]
  },
  {
   "cell_type": "code",
   "execution_count": 27,
   "metadata": {},
   "outputs": [
    {
     "name": "stdout",
     "output_type": "stream",
     "text": [
      "Exp:\t\t exp2\n",
      "Methods:\t ['vgae', 'vgae']\n",
      "Groups:\t\t ['WT', 'WT']\n",
      "Options:\t ['str', 'dyn']\n",
      "time: 1.44 ms (started: 2023-06-11 23:43:36 -05:00)\n"
     ]
    }
   ],
   "source": [
    "exp = params[\"exp\"]\n",
    "print(\"Exp:\\t\\t\", exp)\n",
    "\n",
    "methods = [\"vgae\", \"vgae\"]\n",
    "print(\"Methods:\\t\", methods)\n",
    "\n",
    "groups = [\"WT\", \"WT\",]\n",
    "print(\"Groups:\\t\\t\", groups)\n",
    "\n",
    "options = [\"str\", \"dyn\"]\n",
    "print(\"Options:\\t\", options)"
   ]
  },
  {
   "cell_type": "code",
   "execution_count": 28,
   "metadata": {},
   "outputs": [
    {
     "name": "stdout",
     "output_type": "stream",
     "text": [
      "time: 146 ms (started: 2023-06-11 23:43:38 -05:00)\n"
     ]
    }
   ],
   "source": [
    "list_graphs = []\n",
    "for k in range(len(groups)):\n",
    "    df_edges = pd.read_csv(\"output/{}/common_edges/common_edges_{}_{}_{}.csv\".format(exp, methods[k], groups[k], options[k]),\n",
    "                            dtype={\"source\": \"string\", \"target\": \"string\"})\n",
    "    sort_edges(df_edges)\n",
    "    df_edges.rename(columns={\"weight\": \"weight{}\".format(k + 1)}, inplace=True)\n",
    "    G = nx.from_pandas_edgelist(df_edges, edge_attr=[\"weight{}\".format(k + 1)])\n",
    "    \n",
    "    list_graphs.append(G)"
   ]
  },
  {
   "cell_type": "code",
   "execution_count": 30,
   "metadata": {},
   "outputs": [
    {
     "name": "stdout",
     "output_type": "stream",
     "text": [
      "Nodes:\n",
      "vgae_WT_str & vgae_WT_dyn: 2249\n",
      "vgae_WT_str - vgae_WT_dyn: 27\n",
      "vgae_WT_dyn - vgae_WT_str: 37\n",
      "Edges:\n",
      "vgae_WT_str & vgae_WT_dyn: 25838\n",
      "vgae_WT_str - vgae_WT_dyn: 611\n",
      "vgae_WT_dyn - vgae_WT_str: 428\n"
     ]
    },
    {
     "data": {
      "image/png": "[encoded data removed]",
      "text/plain": [
       "<Figure size 640x480 with 1 Axes>"
      ]
     },
     "metadata": {},
     "output_type": "display_data"
    },
    {
     "data": {
      "image/png": "[encoded data removed]",
      "text/plain": [
       "<Figure size 640x480 with 1 Axes>"
      ]
     },
     "metadata": {},
     "output_type": "display_data"
    },
    {
     "name": "stdout",
     "output_type": "stream",
     "text": [
      "time: 164 ms (started: 2023-06-11 23:46:05 -05:00)\n"
     ]
    }
   ],
   "source": [
    "common_nodes_edges = get_common_nodes_edges(list_graphs[0], list_graphs[1],\n",
    "                                            \"{}_{}_{}\".format(methods[0], groups[0], options[0]),\n",
    "                                            \"{}_{}_{}\".format(methods[1], groups[1], options[1]))\n",
    "\n",
    "venn2(subsets = (len(common_nodes_edges[1][0]), len(common_nodes_edges[2][0]), len(common_nodes_edges[0][0])),\n",
    "      set_labels=(\"{}_{}_{}\".format(methods[0], groups[0], options[0]), \"{}_{}_{}\".format(methods[1], groups[1], options[1])))\n",
    "plt.title(\"Nodes\")\n",
    "plt.show()\n",
    "\n",
    "venn2(subsets = (len(common_nodes_edges[1][1]), len(common_nodes_edges[2][1]), len(common_nodes_edges[0][1])), \n",
    "      set_labels=(\"{}_{}_{}\".format(methods[0], groups[0], options[0]), \"{}_{}_{}\".format(methods[1], groups[1], options[1])))\n",
    "plt.title(\"Edges\")\n",
    "plt.show()"
   ]
  }
 ],
 "metadata": {
  "kernelspec": {
   "display_name": "Python 3 (ipykernel)",
   "language": "python",
   "name": "python3"
  },
  "language_info": {
   "codemirror_mode": {
    "name": "ipython",
    "version": 3
   },
   "file_extension": ".py",
   "mimetype": "text/x-python",
   "name": "python",
   "nbconvert_exporter": "python",
   "pygments_lexer": "ipython3",
   "version": "3.10.11"
  },
  "orig_nbformat": 4
 },
 "nbformat": 4,
 "nbformat_minor": 2
}
