{
 "cells": [
  {
   "attachments": {},
   "cell_type": "markdown",
   "metadata": {},
   "source": [
    "### Imports"
   ]
  },
  {
   "cell_type": "code",
   "execution_count": 10,
   "metadata": {
    "notebookRunGroups": {
     "groupValue": "1"
    }
   },
   "outputs": [
    {
     "name": "stdout",
     "output_type": "stream",
     "text": [
      "The autotime extension is already loaded. To reload it, use:\n",
      "  %reload_ext autotime\n",
      "time: 2.53 ms (started: 2023-06-06 16:20:59 -05:00)\n"
     ]
    }
   ],
   "source": [
    "from pyod.models.ecod import ECOD\n",
    "from mpl_toolkits import mplot3d\n",
    "from sklearn.metrics import silhouette_score\n",
    "from sklearn.model_selection import RandomizedSearchCV\n",
    "from tqdm import tqdm\n",
    "from utils.utils import *\n",
    "\n",
    "import hdbscan\n",
    "import matplotlib.pyplot as plt\n",
    "import networkx as nx\n",
    "import numpy as np\n",
    "import os\n",
    "import pandas as pd\n",
    "import sys\n",
    "\n",
    "%load_ext autotime"
   ]
  },
  {
   "attachments": {},
   "cell_type": "markdown",
   "metadata": {},
   "source": [
    "### Parameters"
   ]
  },
  {
   "cell_type": "code",
   "execution_count": 11,
   "metadata": {
    "notebookRunGroups": {
     "groupValue": "1"
    }
   },
   "outputs": [
    {
     "name": "stdout",
     "output_type": "stream",
     "text": [
      "Exp:\t\t exp3\n",
      "Method:\t\t dgi\n",
      "Dimension:\t 3\n",
      "Groups id:\t ['WT', 'zwf1^', 'pck1^']\n",
      "Subgroups id:\t {'WT': ['dyn'], 'zwf1^': ['dyn'], 'pck1^': ['dyn']}\n",
      "time: 4.1 ms (started: 2023-06-06 16:21:00 -05:00)\n"
     ]
    }
   ],
   "source": [
    "import json\n",
    "  \n",
    "# Opening JSON file\n",
    "file = open(\"parameters.json\")\n",
    "params = json.load(file)\n",
    "\n",
    "exp = params[\"exp\"]\n",
    "print(\"Exp:\\t\\t\", exp)\n",
    "\n",
    "method = params[\"method\"]\n",
    "print(\"Method:\\t\\t\", method)\n",
    "\n",
    "dimension = params[\"dimension\"]\n",
    "print(\"Dimension:\\t\", dimension)\n",
    "\n",
    "groups_id = params[\"groups_id\"]\n",
    "print(\"Groups id:\\t\", groups_id)\n",
    "\n",
    "subgroups_id = {\"WT\": [\"dyn\"], \"zwf1^\": [\"dyn\"], \"pck1^\": [\"dyn\"]} # params[\"subgroups_id\"]\n",
    "print(\"Subgroups id:\\t\", subgroups_id)"
   ]
  },
  {
   "attachments": {},
   "cell_type": "markdown",
   "metadata": {},
   "source": [
    "### Edge embeddings"
   ]
  },
  {
   "cell_type": "code",
   "execution_count": 12,
   "metadata": {
    "notebookRunGroups": {
     "groupValue": ""
    }
   },
   "outputs": [
    {
     "name": "stderr",
     "output_type": "stream",
     "text": [
      "  0%|          | 0/3 [00:00<?, ?it/s]"
     ]
    }
   ],
   "source": [
    "# get edges embeddings\n",
    "\n",
    "edge_embeddings_global(exp, method, dimension, groups_id, subgroups_id)"
   ]
  },
  {
   "cell_type": "code",
   "execution_count": null,
   "metadata": {},
   "outputs": [
    {
     "data": {
      "text/html": [
       "<div>\n",
       "<style scoped>\n",
       "    .dataframe tbody tr th:only-of-type {\n",
       "        vertical-align: middle;\n",
       "    }\n",
       "\n",
       "    .dataframe tbody tr th {\n",
       "        vertical-align: top;\n",
       "    }\n",
       "\n",
       "    .dataframe thead th {\n",
       "        text-align: right;\n",
       "    }\n",
       "</style>\n",
       "<table border=\"1\" class=\"dataframe\">\n",
       "  <thead>\n",
       "    <tr style=\"text-align: right;\">\n",
       "      <th></th>\n",
       "      <th></th>\n",
       "      <th>0</th>\n",
       "      <th>1</th>\n",
       "      <th>2</th>\n",
       "    </tr>\n",
       "  </thead>\n",
       "  <tbody>\n",
       "    <tr>\n",
       "      <th rowspan=\"5\" valign=\"top\">0</th>\n",
       "      <th>1</th>\n",
       "      <td>1.141092e-03</td>\n",
       "      <td>2.844089e-09</td>\n",
       "      <td>1.935483e-03</td>\n",
       "    </tr>\n",
       "    <tr>\n",
       "      <th>2</th>\n",
       "      <td>5.719292e-09</td>\n",
       "      <td>1.831840e-11</td>\n",
       "      <td>1.119957e-08</td>\n",
       "    </tr>\n",
       "    <tr>\n",
       "      <th>3</th>\n",
       "      <td>1.711193e-03</td>\n",
       "      <td>4.984056e-08</td>\n",
       "      <td>2.932515e-03</td>\n",
       "    </tr>\n",
       "    <tr>\n",
       "      <th>4</th>\n",
       "      <td>1.806821e-04</td>\n",
       "      <td>1.005524e-07</td>\n",
       "      <td>3.249815e-04</td>\n",
       "    </tr>\n",
       "    <tr>\n",
       "      <th>5</th>\n",
       "      <td>3.780978e-04</td>\n",
       "      <td>5.817744e-10</td>\n",
       "      <td>6.364360e-04</td>\n",
       "    </tr>\n",
       "  </tbody>\n",
       "</table>\n",
       "</div>"
      ],
      "text/plain": [
       "                0             1             2\n",
       "0 1  1.141092e-03  2.844089e-09  1.935483e-03\n",
       "  2  5.719292e-09  1.831840e-11  1.119957e-08\n",
       "  3  1.711193e-03  4.984056e-08  2.932515e-03\n",
       "  4  1.806821e-04  1.005524e-07  3.249815e-04\n",
       "  5  3.780978e-04  5.817744e-10  6.364360e-04"
      ]
     },
     "execution_count": 6,
     "metadata": {},
     "output_type": "execute_result"
    },
    {
     "name": "stdout",
     "output_type": "stream",
     "text": [
      "time: 491 ms (started: 2023-06-06 15:26:19 -05:00)\n"
     ]
    }
   ],
   "source": [
    "df_edge_embeddings = pd.read_csv(\"output/{}/edge_embeddings/edge-embeddings_{}_{}_{}_{}_{}.csv\".format(exp, groups_id[0], subgroups_id[groups_id[0]][0], method, dimension, \"L2\"), index_col=[0, 1])\n",
    "df_edge_embeddings.head()"
   ]
  },
  {
   "attachments": {},
   "cell_type": "markdown",
   "metadata": {},
   "source": [
    "### Concat edge embeddings"
   ]
  },
  {
   "cell_type": "code",
   "execution_count": null,
   "metadata": {
    "notebookRunGroups": {
     "groupValue": ""
    }
   },
   "outputs": [
    {
     "name": "stderr",
     "output_type": "stream",
     "text": [
      "100%|██████████| 5/5 [00:05<00:00,  1.17s/it]\n",
      "100%|██████████| 3/3 [00:08<00:00,  2.68s/it]\n",
      "100%|██████████| 2/2 [00:02<00:00,  1.31s/it]\n",
      "100%|██████████| 3/3 [03:02<00:00, 60.86s/it]"
     ]
    },
    {
     "name": "stdout",
     "output_type": "stream",
     "text": [
      "time: 3min 2s (started: 2023-06-06 15:26:19 -05:00)\n"
     ]
    },
    {
     "name": "stderr",
     "output_type": "stream",
     "text": [
      "\n"
     ]
    }
   ],
   "source": [
    "for group in tqdm(groups_id):\n",
    "    df_edge_embeddings_concat = pd.DataFrame()\n",
    "    for subgroup in tqdm(subgroups_id[group]):\n",
    "        df_edge_embeddings = pd.read_csv(\"output/{}/edge_embeddings/edge-embeddings_{}_{}_{}_{}_{}.csv\".format(exp, group, subgroup, method, dimension, \"L2\"), index_col=[0, 1])\n",
    "        df_edge_embeddings[\"subgroup\"] = [subgroup] * len(df_edge_embeddings)\n",
    "\n",
    "        df_edge_embeddings_concat = pd.concat([df_edge_embeddings_concat, df_edge_embeddings])\n",
    "    df_edge_embeddings_concat.to_csv(\"output/{}/edge_embeddings/edge-embeddings_concat_{}_{}_{}_{}.csv\".format(exp, group, method, dimension, \"L2\"), index=True)"
   ]
  },
  {
   "cell_type": "code",
   "execution_count": null,
   "metadata": {
    "notebookRunGroups": {
     "groupValue": ""
    }
   },
   "outputs": [
    {
     "data": {
      "text/html": [
       "<div>\n",
       "<style scoped>\n",
       "    .dataframe tbody tr th:only-of-type {\n",
       "        vertical-align: middle;\n",
       "    }\n",
       "\n",
       "    .dataframe tbody tr th {\n",
       "        vertical-align: top;\n",
       "    }\n",
       "\n",
       "    .dataframe thead th {\n",
       "        text-align: right;\n",
       "    }\n",
       "</style>\n",
       "<table border=\"1\" class=\"dataframe\">\n",
       "  <thead>\n",
       "    <tr style=\"text-align: right;\">\n",
       "      <th></th>\n",
       "      <th></th>\n",
       "      <th>0</th>\n",
       "      <th>1</th>\n",
       "      <th>2</th>\n",
       "      <th>subgroup</th>\n",
       "    </tr>\n",
       "  </thead>\n",
       "  <tbody>\n",
       "    <tr>\n",
       "      <th rowspan=\"5\" valign=\"top\">0</th>\n",
       "      <th>1</th>\n",
       "      <td>1.141092e-03</td>\n",
       "      <td>2.844089e-09</td>\n",
       "      <td>1.935483e-03</td>\n",
       "      <td>1</td>\n",
       "    </tr>\n",
       "    <tr>\n",
       "      <th>2</th>\n",
       "      <td>5.719292e-09</td>\n",
       "      <td>1.831840e-11</td>\n",
       "      <td>1.119957e-08</td>\n",
       "      <td>1</td>\n",
       "    </tr>\n",
       "    <tr>\n",
       "      <th>3</th>\n",
       "      <td>1.711193e-03</td>\n",
       "      <td>4.984056e-08</td>\n",
       "      <td>2.932515e-03</td>\n",
       "      <td>1</td>\n",
       "    </tr>\n",
       "    <tr>\n",
       "      <th>4</th>\n",
       "      <td>1.806821e-04</td>\n",
       "      <td>1.005524e-07</td>\n",
       "      <td>3.249815e-04</td>\n",
       "      <td>1</td>\n",
       "    </tr>\n",
       "    <tr>\n",
       "      <th>5</th>\n",
       "      <td>3.780978e-04</td>\n",
       "      <td>5.817744e-10</td>\n",
       "      <td>6.364360e-04</td>\n",
       "      <td>1</td>\n",
       "    </tr>\n",
       "  </tbody>\n",
       "</table>\n",
       "</div>"
      ],
      "text/plain": [
       "                0             1             2  subgroup\n",
       "0 1  1.141092e-03  2.844089e-09  1.935483e-03         1\n",
       "  2  5.719292e-09  1.831840e-11  1.119957e-08         1\n",
       "  3  1.711193e-03  4.984056e-08  2.932515e-03         1\n",
       "  4  1.806821e-04  1.005524e-07  3.249815e-04         1\n",
       "  5  3.780978e-04  5.817744e-10  6.364360e-04         1"
      ]
     },
     "execution_count": 8,
     "metadata": {},
     "output_type": "execute_result"
    },
    {
     "name": "stdout",
     "output_type": "stream",
     "text": [
      "time: 4.78 s (started: 2023-06-06 15:29:22 -05:00)\n"
     ]
    }
   ],
   "source": [
    "df_edge_embeddings_concat = pd.read_csv(\"output/{}/edge_embeddings/edge-embeddings_concat_{}_{}_{}_{}.csv\".format(exp, groups_id[0], method, dimension, \"L2\"), index_col=[0, 1])\n",
    "df_edge_embeddings_concat.head()"
   ]
  },
  {
   "cell_type": "code",
   "execution_count": null,
   "metadata": {},
   "outputs": [
    {
     "name": "stderr",
     "output_type": "stream",
     "text": [
      "100%|██████████| 3/3 [14:05<00:00, 281.93s/it]"
     ]
    },
    {
     "name": "stdout",
     "output_type": "stream",
     "text": [
      "time: 14min 5s (started: 2023-06-06 15:29:27 -05:00)\n"
     ]
    },
    {
     "name": "stderr",
     "output_type": "stream",
     "text": [
      "\n"
     ]
    }
   ],
   "source": [
    "# plot edge embeddings concat\n",
    "\n",
    "for group in tqdm(groups_id):\n",
    "    df_edge_embeddings_concat = pd.read_csv(\"output/{}/edge_embeddings/edge-embeddings_concat_{}_{}_{}_{}.csv\".format(exp, group, method, dimension, \"L2\"), index_col=[0, 1])\n",
    "\n",
    "    x = df_edge_embeddings_concat.iloc[:, 0]\n",
    "    y = df_edge_embeddings_concat.iloc[:, 1]\n",
    "    z = df_edge_embeddings_concat.iloc[:, 2]\n",
    "\n",
    "    # Creating figure\n",
    "    fig = plt.figure(figsize=(10, 7))\n",
    "    ax = plt.axes(projection=\"3d\")\n",
    "\n",
    "    # Creating plot\n",
    "    ax.scatter3D(x, y, z, c=df_edge_embeddings_concat.iloc[:, -1], alpha=0.1)\n",
    "    # plt.title(\"Dimension: {}\".format(dimension))\n",
    "\n",
    "    # show plot\n",
    "    plt.savefig(\"output/{}/plots/edge-embeddings_concat_{}_{}_{}_{}.png\".format(exp, group, method, dimension, \"L2\"))\n",
    "    # plt.show()\n",
    "    plt.close()"
   ]
  },
  {
   "attachments": {},
   "cell_type": "markdown",
   "metadata": {},
   "source": [
    "### Outliers detection"
   ]
  },
  {
   "cell_type": "code",
   "execution_count": null,
   "metadata": {
    "notebookRunGroups": {
     "groupValue": ""
    }
   },
   "outputs": [
    {
     "data": {
      "text/plain": [
       "' df_edge_embeddings_concat = pd.read_csv(\"output/edge_embeddings/edge-embeddings_concat_{}_{}_{}_{}.csv\".format(group, method, dimension, \"L2\"), index_col=[0, 1])\\n\\nX_train = df_edge_embeddings_concat.iloc[:, :-1]\\nclusterer = hdbscan.HDBSCAN(min_cluster_size=100, core_dist_n_jobs=-1).fit(X_train)\\n\\nthreshold = pd.Series(clusterer.outlier_scores_).quantile(0.9)\\noutliers = np.where(clusterer.outlier_scores_ > threshold)[0]\\nprint(len(outliers))\\noutliers\\n\\ninliers = np.setdiff1d(np.arange(len(df_edge_embeddings_concat)), outliers)\\nprint(len(inliers))\\ninliers '"
      ]
     },
     "execution_count": 10,
     "metadata": {},
     "output_type": "execute_result"
    },
    {
     "name": "stdout",
     "output_type": "stream",
     "text": [
      "time: 4.64 ms (started: 2023-06-06 15:43:33 -05:00)\n"
     ]
    }
   ],
   "source": [
    "# Outlier detection (HDBSCAN)\n",
    "\n",
    "\"\"\" df_edge_embeddings_concat = pd.read_csv(\"output/edge_embeddings/edge-embeddings_concat_{}_{}_{}_{}.csv\".format(group, method, dimension, \"L2\"), index_col=[0, 1])\n",
    "\n",
    "X_train = df_edge_embeddings_concat.iloc[:, :-1]\n",
    "clusterer = hdbscan.HDBSCAN(min_cluster_size=100, core_dist_n_jobs=-1).fit(X_train)\n",
    "\n",
    "threshold = pd.Series(clusterer.outlier_scores_).quantile(0.9)\n",
    "outliers = np.where(clusterer.outlier_scores_ > threshold)[0]\n",
    "print(len(outliers))\n",
    "outliers\n",
    "\n",
    "inliers = np.setdiff1d(np.arange(len(df_edge_embeddings_concat)), outliers)\n",
    "print(len(inliers))\n",
    "inliers \"\"\""
   ]
  },
  {
   "cell_type": "code",
   "execution_count": null,
   "metadata": {},
   "outputs": [
    {
     "name": "stderr",
     "output_type": "stream",
     "text": [
      "100%|██████████| 3/3 [01:00<00:00, 20.22s/it]"
     ]
    },
    {
     "name": "stdout",
     "output_type": "stream",
     "text": [
      "time: 1min (started: 2023-06-06 15:43:33 -05:00)\n"
     ]
    },
    {
     "name": "stderr",
     "output_type": "stream",
     "text": [
      "\n"
     ]
    }
   ],
   "source": [
    "# outlier detection (ECOD)\n",
    "\n",
    "dict_df_edge_embeddings_concat_outlier = {}\n",
    "dict_df_edge_embeddings_concat_filter = {}\n",
    "\n",
    "for group in tqdm(groups_id):\n",
    "    df_edge_embeddings_concat = pd.read_csv(\"output/{}/edge_embeddings/edge-embeddings_concat_{}_{}_{}_{}.csv\".format(exp, group, method, dimension, \"L2\"), index_col=[0, 1])\n",
    "\n",
    "    X_train = df_edge_embeddings_concat.iloc[:, :-1]\n",
    "\n",
    "    clf = ECOD()\n",
    "    clf.fit(X_train)\n",
    "\n",
    "    X_train[\"labels\"] = clf.labels_ # binary labels (0: inliers, 1: outliers)\n",
    "\n",
    "    df_edge_embeddings_concat_filter = df_edge_embeddings_concat.copy()\n",
    "    df_edge_embeddings_concat_filter[\"labels\"] = clf.labels_\n",
    "    df_edge_embeddings_concat_filter = df_edge_embeddings_concat_filter[df_edge_embeddings_concat_filter[\"labels\"] == 0]\n",
    "    df_edge_embeddings_concat_filter = df_edge_embeddings_concat_filter.iloc[:, :-1]\n",
    "\n",
    "    dict_df_edge_embeddings_concat_outlier[group] = X_train\n",
    "    dict_df_edge_embeddings_concat_filter[group] = df_edge_embeddings_concat_filter"
   ]
  },
  {
   "cell_type": "code",
   "execution_count": null,
   "metadata": {
    "notebookRunGroups": {
     "groupValue": ""
    }
   },
   "outputs": [
    {
     "name": "stderr",
     "output_type": "stream",
     "text": [
      "  0%|          | 0/3 [00:00<?, ?it/s]"
     ]
    },
    {
     "name": "stdout",
     "output_type": "stream",
     "text": [
      "Total: 12232238\n",
      "Num. of inliers: 11009014\n",
      "Num. of inliers: 1223224\n"
     ]
    },
    {
     "name": "stderr",
     "output_type": "stream",
     "text": [
      " 33%|███▎      | 1/3 [04:43<09:26, 283.02s/it]"
     ]
    },
    {
     "name": "stdout",
     "output_type": "stream",
     "text": [
      "Total: 17089033\n",
      "Num. of inliers: 15380129\n",
      "Num. of inliers: 1708904\n"
     ]
    }
   ],
   "source": [
    "# plot outliers/inliers\n",
    "\n",
    "for group in tqdm(groups_id):\n",
    "    fig = plt.figure(figsize = (10, 7))\n",
    "    ax = plt.axes(projection =\"3d\")\n",
    "\n",
    "    df_aux = dict_df_edge_embeddings_concat_outlier[group]\n",
    "    print(\"Total:\", len(df_aux))\n",
    "    \n",
    "    temp = df_aux[df_aux[\"labels\"] == 0]\n",
    "    x = temp.iloc[:, 0]\n",
    "    y = temp.iloc[:, 1]\n",
    "    z = temp.iloc[:, 2]\n",
    "    ax.scatter3D(x, y, z, c=\"red\", alpha=0.005)\n",
    "    print(\"Num. of inliers:\", len(temp))\n",
    "\n",
    "    temp = df_aux[df_aux[\"labels\"] == 1]\n",
    "    x = temp.iloc[:, 0]\n",
    "    y = temp.iloc[:, 1]\n",
    "    z = temp.iloc[:, 2]\n",
    "    ax.scatter3D(x, y, z, c=\"gray\", alpha=0.005)\n",
    "    print(\"Num. of inliers:\", len(temp))\n",
    "\n",
    "    # show plot\n",
    "    plt.savefig(\"output/{}/plots/edge-embeddings_outlier_{}_{}_{}_{}.png\".format(exp, group, method, dimension, \"L2\"))\n",
    "    # plt.show()\n",
    "    plt.close()"
   ]
  },
  {
   "attachments": {},
   "cell_type": "markdown",
   "metadata": {},
   "source": [
    "###  Filter common edges"
   ]
  },
  {
   "cell_type": "code",
   "execution_count": null,
   "metadata": {},
   "outputs": [
    {
     "name": "stderr",
     "output_type": "stream",
     "text": [
      "11009014it [04:45, 38528.26it/s]it/s]\n",
      "15380129it [06:38, 38580.33it/s]9, 294.63s/it]\n",
      "5439862it [02:20, 38711.89it/s]02, 362.53s/it]\n",
      "100%|██████████| 3/3 [14:11<00:00, 283.67s/it]"
     ]
    },
    {
     "name": "stdout",
     "output_type": "stream",
     "text": [
      "time: 14min 11s (started: 2023-06-06 14:21:22 -05:00)\n"
     ]
    },
    {
     "name": "stderr",
     "output_type": "stream",
     "text": [
      "\n"
     ]
    }
   ],
   "source": [
    "# mapping idx with id\n",
    "\n",
    "for group in tqdm(groups_id):\n",
    "    dict_df_nodes = {}\n",
    "    for subgroup in subgroups_id[group]:\n",
    "        df_nodes = pd.read_csv(\"output/{}/preprocessing/graphs_data/nodes_data_{}_{}.csv\".format(exp, group, subgroup))\n",
    "        dict_df_nodes[subgroup] = df_nodes\n",
    "    \n",
    "    # mapping\n",
    "    df_edge_embeddings_concat_filter = dict_df_edge_embeddings_concat_filter[group]\n",
    "    list_index = []\n",
    "\n",
    "    for row in tqdm(df_edge_embeddings_concat_filter.itertuples()):\n",
    "        df_nodes = dict_df_nodes[str(row[-1])]\n",
    "        list_index.append((df_nodes.iloc[row[0][0], -1], df_nodes.iloc[row[0][1], -1]))\n",
    "    \n",
    "    # set new index\n",
    "    df_edge_embeddings_concat_filter.set_index([pd.Index(list_index)], inplace=True)\n",
    "    df_edge_embeddings_concat_filter"
   ]
  },
  {
   "cell_type": "code",
   "execution_count": null,
   "metadata": {},
   "outputs": [
    {
     "data": {
      "text/html": [
       "<div>\n",
       "<style scoped>\n",
       "    .dataframe tbody tr th:only-of-type {\n",
       "        vertical-align: middle;\n",
       "    }\n",
       "\n",
       "    .dataframe tbody tr th {\n",
       "        vertical-align: top;\n",
       "    }\n",
       "\n",
       "    .dataframe thead th {\n",
       "        text-align: right;\n",
       "    }\n",
       "</style>\n",
       "<table border=\"1\" class=\"dataframe\">\n",
       "  <thead>\n",
       "    <tr style=\"text-align: right;\">\n",
       "      <th></th>\n",
       "      <th></th>\n",
       "      <th>0</th>\n",
       "      <th>1</th>\n",
       "      <th>2</th>\n",
       "      <th>subgroup</th>\n",
       "    </tr>\n",
       "  </thead>\n",
       "  <tbody>\n",
       "    <tr>\n",
       "      <th rowspan=\"4\" valign=\"top\">59.0049</th>\n",
       "      <th>369.1213</th>\n",
       "      <td>0.783018</td>\n",
       "      <td>0.024875</td>\n",
       "      <td>0.354545</td>\n",
       "      <td>1</td>\n",
       "    </tr>\n",
       "    <tr>\n",
       "      <th>503.0807</th>\n",
       "      <td>0.000378</td>\n",
       "      <td>0.239430</td>\n",
       "      <td>0.066928</td>\n",
       "      <td>1</td>\n",
       "    </tr>\n",
       "    <tr>\n",
       "      <th>558.4273</th>\n",
       "      <td>2.496010</td>\n",
       "      <td>0.103704</td>\n",
       "      <td>0.548030</td>\n",
       "      <td>1</td>\n",
       "    </tr>\n",
       "    <tr>\n",
       "      <th>977.8237</th>\n",
       "      <td>0.492603</td>\n",
       "      <td>0.250157</td>\n",
       "      <td>0.101900</td>\n",
       "      <td>1</td>\n",
       "    </tr>\n",
       "    <tr>\n",
       "      <th>274.0123</th>\n",
       "      <th>191.0460</th>\n",
       "      <td>2.037267</td>\n",
       "      <td>0.176170</td>\n",
       "      <td>0.041174</td>\n",
       "      <td>1</td>\n",
       "    </tr>\n",
       "  </tbody>\n",
       "</table>\n",
       "</div>"
      ],
      "text/plain": [
       "                          0         1         2  subgroup\n",
       "59.0049  369.1213  0.783018  0.024875  0.354545         1\n",
       "         503.0807  0.000378  0.239430  0.066928         1\n",
       "         558.4273  2.496010  0.103704  0.548030         1\n",
       "         977.8237  0.492603  0.250157  0.101900         1\n",
       "274.0123 191.0460  2.037267  0.176170  0.041174         1"
      ]
     },
     "execution_count": 14,
     "metadata": {},
     "output_type": "execute_result"
    },
    {
     "name": "stdout",
     "output_type": "stream",
     "text": [
      "time: 6.26 ms (started: 2023-06-06 14:35:34 -05:00)\n"
     ]
    }
   ],
   "source": [
    "df_edge_embeddings_concat_filter = dict_df_edge_embeddings_concat_filter[groups_id[0]]\n",
    "df_edge_embeddings_concat_filter.head()"
   ]
  },
  {
   "cell_type": "code",
   "execution_count": null,
   "metadata": {},
   "outputs": [
    {
     "name": "stderr",
     "output_type": "stream",
     "text": [
      "100%|██████████| 3/3 [00:09<00:00,  3.20s/it]"
     ]
    },
    {
     "name": "stdout",
     "output_type": "stream",
     "text": [
      "time: 9.61 s (started: 2023-06-06 14:35:34 -05:00)\n"
     ]
    },
    {
     "name": "stderr",
     "output_type": "stream",
     "text": [
      "\n"
     ]
    }
   ],
   "source": [
    "# count edges and filter by count\n",
    "\n",
    "dict_df_edges_filter = {}\n",
    "for group in tqdm(groups_id):\n",
    "    # count\n",
    "    df_edge_embeddings_concat_filter = dict_df_edge_embeddings_concat_filter[group]\n",
    "\n",
    "    df_edge_embeddings_concat_filter.reset_index(inplace=True)\n",
    "    df_edge_embeddings_concat_filter = df_edge_embeddings_concat_filter[[\"level_0\", \"level_1\"]].value_counts().to_frame()\n",
    "    df_edge_embeddings_concat_filter.reset_index(inplace=True)\n",
    "    df_edge_embeddings_concat_filter.columns = [\"source\", \"target\", \"count\"]\n",
    "\n",
    "    # filter\n",
    "    df_edge_embeddings_concat_filter = df_edge_embeddings_concat_filter[df_edge_embeddings_concat_filter[\"count\"] == len(subgroups_id[group])]\n",
    "    df_edge_embeddings_concat_filter = df_edge_embeddings_concat_filter.iloc[:, [0, 1]]\n",
    "    dict_df_edges_filter[group] = df_edge_embeddings_concat_filter"
   ]
  },
  {
   "cell_type": "code",
   "execution_count": null,
   "metadata": {},
   "outputs": [
    {
     "data": {
      "text/html": [
       "<div>\n",
       "<style scoped>\n",
       "    .dataframe tbody tr th:only-of-type {\n",
       "        vertical-align: middle;\n",
       "    }\n",
       "\n",
       "    .dataframe tbody tr th {\n",
       "        vertical-align: top;\n",
       "    }\n",
       "\n",
       "    .dataframe thead th {\n",
       "        text-align: right;\n",
       "    }\n",
       "</style>\n",
       "<table border=\"1\" class=\"dataframe\">\n",
       "  <thead>\n",
       "    <tr style=\"text-align: right;\">\n",
       "      <th></th>\n",
       "      <th>source</th>\n",
       "      <th>target</th>\n",
       "    </tr>\n",
       "  </thead>\n",
       "  <tbody>\n",
       "    <tr>\n",
       "      <th>0</th>\n",
       "      <td>487.2134</td>\n",
       "      <td>920.1236</td>\n",
       "    </tr>\n",
       "    <tr>\n",
       "      <th>1</th>\n",
       "      <td>190.0537</td>\n",
       "      <td>242.1510</td>\n",
       "    </tr>\n",
       "    <tr>\n",
       "      <th>2</th>\n",
       "      <td>758.5700</td>\n",
       "      <td>819.5543</td>\n",
       "    </tr>\n",
       "    <tr>\n",
       "      <th>3</th>\n",
       "      <td>758.4964</td>\n",
       "      <td>863.5636</td>\n",
       "    </tr>\n",
       "    <tr>\n",
       "      <th>4</th>\n",
       "      <td>903.6068</td>\n",
       "      <td>913.5813</td>\n",
       "    </tr>\n",
       "  </tbody>\n",
       "</table>\n",
       "</div>"
      ],
      "text/plain": [
       "     source    target\n",
       "0  487.2134  920.1236\n",
       "1  190.0537  242.1510\n",
       "2  758.5700  819.5543\n",
       "3  758.4964  863.5636\n",
       "4  903.6068  913.5813"
      ]
     },
     "execution_count": 16,
     "metadata": {},
     "output_type": "execute_result"
    },
    {
     "name": "stdout",
     "output_type": "stream",
     "text": [
      "time: 4.72 ms (started: 2023-06-06 14:35:43 -05:00)\n"
     ]
    }
   ],
   "source": [
    "df_edges_filter = dict_df_edges_filter[groups_id[0]]\n",
    "df_edges_filter.head()"
   ]
  },
  {
   "cell_type": "code",
   "execution_count": null,
   "metadata": {
    "notebookRunGroups": {
     "groupValue": "2"
    }
   },
   "outputs": [
    {
     "name": "stderr",
     "output_type": "stream",
     "text": [
      "100%|██████████| 5/5 [00:14<00:00,  2.95s/it]\n",
      "100%|██████████| 3/3 [00:23<00:00,  7.77s/it]\n",
      "100%|██████████| 2/2 [00:08<00:00,  4.19s/it]\n",
      "100%|██████████| 3/3 [00:48<00:00, 16.04s/it]\n"
     ]
    },
    {
     "data": {
      "text/html": [
       "<div>\n",
       "<style scoped>\n",
       "    .dataframe tbody tr th:only-of-type {\n",
       "        vertical-align: middle;\n",
       "    }\n",
       "\n",
       "    .dataframe tbody tr th {\n",
       "        vertical-align: top;\n",
       "    }\n",
       "\n",
       "    .dataframe thead th {\n",
       "        text-align: right;\n",
       "    }\n",
       "</style>\n",
       "<table border=\"1\" class=\"dataframe\">\n",
       "  <thead>\n",
       "    <tr style=\"text-align: right;\">\n",
       "      <th></th>\n",
       "      <th>source</th>\n",
       "      <th>target</th>\n",
       "      <th>subgroup1</th>\n",
       "      <th>subgroup2</th>\n",
       "      <th>subgroup3</th>\n",
       "      <th>subgroup4</th>\n",
       "      <th>subgroup5</th>\n",
       "    </tr>\n",
       "  </thead>\n",
       "  <tbody>\n",
       "    <tr>\n",
       "      <th>21486</th>\n",
       "      <td>59.0137</td>\n",
       "      <td>389.2739</td>\n",
       "      <td>0.823682</td>\n",
       "      <td>0.886260</td>\n",
       "      <td>0.723124</td>\n",
       "      <td>0.515230</td>\n",
       "      <td>0.917952</td>\n",
       "    </tr>\n",
       "    <tr>\n",
       "      <th>21572</th>\n",
       "      <td>59.0137</td>\n",
       "      <td>389.3284</td>\n",
       "      <td>0.861323</td>\n",
       "      <td>0.889178</td>\n",
       "      <td>0.521535</td>\n",
       "      <td>0.795494</td>\n",
       "      <td>0.890928</td>\n",
       "    </tr>\n",
       "    <tr>\n",
       "      <th>21598</th>\n",
       "      <td>59.0137</td>\n",
       "      <td>418.3254</td>\n",
       "      <td>0.917996</td>\n",
       "      <td>0.948796</td>\n",
       "      <td>0.786776</td>\n",
       "      <td>0.798094</td>\n",
       "      <td>0.938164</td>\n",
       "    </tr>\n",
       "    <tr>\n",
       "      <th>23760</th>\n",
       "      <td>59.0291</td>\n",
       "      <td>417.3220</td>\n",
       "      <td>0.855964</td>\n",
       "      <td>0.852473</td>\n",
       "      <td>0.571245</td>\n",
       "      <td>0.569312</td>\n",
       "      <td>0.899766</td>\n",
       "    </tr>\n",
       "    <tr>\n",
       "      <th>23786</th>\n",
       "      <td>59.0291</td>\n",
       "      <td>418.3254</td>\n",
       "      <td>0.857608</td>\n",
       "      <td>0.848869</td>\n",
       "      <td>0.619139</td>\n",
       "      <td>0.561154</td>\n",
       "      <td>0.903494</td>\n",
       "    </tr>\n",
       "  </tbody>\n",
       "</table>\n",
       "</div>"
      ],
      "text/plain": [
       "        source    target  subgroup1  subgroup2  subgroup3  subgroup4  \\\n",
       "21486  59.0137  389.2739   0.823682   0.886260   0.723124   0.515230   \n",
       "21572  59.0137  389.3284   0.861323   0.889178   0.521535   0.795494   \n",
       "21598  59.0137  418.3254   0.917996   0.948796   0.786776   0.798094   \n",
       "23760  59.0291  417.3220   0.855964   0.852473   0.571245   0.569312   \n",
       "23786  59.0291  418.3254   0.857608   0.848869   0.619139   0.561154   \n",
       "\n",
       "       subgroup5  \n",
       "21486   0.917952  \n",
       "21572   0.890928  \n",
       "21598   0.938164  \n",
       "23760   0.899766  \n",
       "23786   0.903494  "
      ]
     },
     "execution_count": 17,
     "metadata": {},
     "output_type": "execute_result"
    },
    {
     "name": "stdout",
     "output_type": "stream",
     "text": [
      "time: 48.3 s (started: 2023-06-06 14:35:43 -05:00)\n"
     ]
    }
   ],
   "source": [
    "# get weight by subgroups\n",
    "\n",
    "dict_df_edges_filter_weight = get_weight_global(dict_df_edges_filter, exp, groups_id, subgroups_id)\n",
    "df_edges_filter_weight = dict_df_edges_filter_weight[groups_id[0]]\n",
    "df_edges_filter_weight.head()"
   ]
  },
  {
   "cell_type": "code",
   "execution_count": null,
   "metadata": {},
   "outputs": [
    {
     "data": {
      "text/html": [
       "<div>\n",
       "<style scoped>\n",
       "    .dataframe tbody tr th:only-of-type {\n",
       "        vertical-align: middle;\n",
       "    }\n",
       "\n",
       "    .dataframe tbody tr th {\n",
       "        vertical-align: top;\n",
       "    }\n",
       "\n",
       "    .dataframe thead th {\n",
       "        text-align: right;\n",
       "    }\n",
       "</style>\n",
       "<table border=\"1\" class=\"dataframe\">\n",
       "  <thead>\n",
       "    <tr style=\"text-align: right;\">\n",
       "      <th></th>\n",
       "      <th>source</th>\n",
       "      <th>target</th>\n",
       "      <th>subgroup1</th>\n",
       "      <th>subgroup2</th>\n",
       "      <th>subgroup3</th>\n",
       "      <th>subgroup4</th>\n",
       "      <th>subgroup5</th>\n",
       "    </tr>\n",
       "  </thead>\n",
       "  <tbody>\n",
       "    <tr>\n",
       "      <th>21486</th>\n",
       "      <td>59.0137</td>\n",
       "      <td>389.2739</td>\n",
       "      <td>0.823682</td>\n",
       "      <td>0.886260</td>\n",
       "      <td>0.723124</td>\n",
       "      <td>0.515230</td>\n",
       "      <td>0.917952</td>\n",
       "    </tr>\n",
       "    <tr>\n",
       "      <th>21572</th>\n",
       "      <td>59.0137</td>\n",
       "      <td>389.3284</td>\n",
       "      <td>0.861323</td>\n",
       "      <td>0.889178</td>\n",
       "      <td>0.521535</td>\n",
       "      <td>0.795494</td>\n",
       "      <td>0.890928</td>\n",
       "    </tr>\n",
       "    <tr>\n",
       "      <th>21598</th>\n",
       "      <td>59.0137</td>\n",
       "      <td>418.3254</td>\n",
       "      <td>0.917996</td>\n",
       "      <td>0.948796</td>\n",
       "      <td>0.786776</td>\n",
       "      <td>0.798094</td>\n",
       "      <td>0.938164</td>\n",
       "    </tr>\n",
       "    <tr>\n",
       "      <th>23760</th>\n",
       "      <td>59.0291</td>\n",
       "      <td>417.3220</td>\n",
       "      <td>0.855964</td>\n",
       "      <td>0.852473</td>\n",
       "      <td>0.571245</td>\n",
       "      <td>0.569312</td>\n",
       "      <td>0.899766</td>\n",
       "    </tr>\n",
       "    <tr>\n",
       "      <th>23786</th>\n",
       "      <td>59.0291</td>\n",
       "      <td>418.3254</td>\n",
       "      <td>0.857608</td>\n",
       "      <td>0.848869</td>\n",
       "      <td>0.619139</td>\n",
       "      <td>0.561154</td>\n",
       "      <td>0.903494</td>\n",
       "    </tr>\n",
       "  </tbody>\n",
       "</table>\n",
       "</div>"
      ],
      "text/plain": [
       "        source    target  subgroup1  subgroup2  subgroup3  subgroup4  \\\n",
       "21486  59.0137  389.2739   0.823682   0.886260   0.723124   0.515230   \n",
       "21572  59.0137  389.3284   0.861323   0.889178   0.521535   0.795494   \n",
       "21598  59.0137  418.3254   0.917996   0.948796   0.786776   0.798094   \n",
       "23760  59.0291  417.3220   0.855964   0.852473   0.571245   0.569312   \n",
       "23786  59.0291  418.3254   0.857608   0.848869   0.619139   0.561154   \n",
       "\n",
       "       subgroup5  \n",
       "21486   0.917952  \n",
       "21572   0.890928  \n",
       "21598   0.938164  \n",
       "23760   0.899766  \n",
       "23786   0.903494  "
      ]
     },
     "execution_count": 18,
     "metadata": {},
     "output_type": "execute_result"
    },
    {
     "name": "stdout",
     "output_type": "stream",
     "text": [
      "time: 14 ms (started: 2023-06-06 14:36:32 -05:00)\n"
     ]
    }
   ],
   "source": [
    "df_edges_filter_weight = dict_df_edges_filter_weight[groups_id[0]]\n",
    "df_edges_filter_weight.head()"
   ]
  },
  {
   "attachments": {},
   "cell_type": "markdown",
   "metadata": {},
   "source": [
    "### Filter by STD and average weight"
   ]
  },
  {
   "cell_type": "code",
   "execution_count": null,
   "metadata": {
    "notebookRunGroups": {
     "groupValue": "2"
    }
   },
   "outputs": [
    {
     "name": "stderr",
     "output_type": "stream",
     "text": [
      "100%|██████████| 3/3 [00:14<00:00,  4.96s/it]\n"
     ]
    },
    {
     "data": {
      "text/html": [
       "<div>\n",
       "<style scoped>\n",
       "    .dataframe tbody tr th:only-of-type {\n",
       "        vertical-align: middle;\n",
       "    }\n",
       "\n",
       "    .dataframe tbody tr th {\n",
       "        vertical-align: top;\n",
       "    }\n",
       "\n",
       "    .dataframe thead th {\n",
       "        text-align: right;\n",
       "    }\n",
       "</style>\n",
       "<table border=\"1\" class=\"dataframe\">\n",
       "  <thead>\n",
       "    <tr style=\"text-align: right;\">\n",
       "      <th></th>\n",
       "      <th>source</th>\n",
       "      <th>target</th>\n",
       "      <th>weight</th>\n",
       "    </tr>\n",
       "  </thead>\n",
       "  <tbody>\n",
       "    <tr>\n",
       "      <th>0</th>\n",
       "      <td>59.0137</td>\n",
       "      <td>389.2739</td>\n",
       "      <td>0.773249</td>\n",
       "    </tr>\n",
       "    <tr>\n",
       "      <th>1</th>\n",
       "      <td>59.0137</td>\n",
       "      <td>389.3284</td>\n",
       "      <td>0.791692</td>\n",
       "    </tr>\n",
       "    <tr>\n",
       "      <th>2</th>\n",
       "      <td>59.0137</td>\n",
       "      <td>418.3254</td>\n",
       "      <td>0.877965</td>\n",
       "    </tr>\n",
       "    <tr>\n",
       "      <th>3</th>\n",
       "      <td>59.0291</td>\n",
       "      <td>417.3220</td>\n",
       "      <td>0.749752</td>\n",
       "    </tr>\n",
       "    <tr>\n",
       "      <th>4</th>\n",
       "      <td>59.0291</td>\n",
       "      <td>418.3254</td>\n",
       "      <td>0.758053</td>\n",
       "    </tr>\n",
       "  </tbody>\n",
       "</table>\n",
       "</div>"
      ],
      "text/plain": [
       "    source    target    weight\n",
       "0  59.0137  389.2739  0.773249\n",
       "1  59.0137  389.3284  0.791692\n",
       "2  59.0137  418.3254  0.877965\n",
       "3  59.0291  417.3220  0.749752\n",
       "4  59.0291  418.3254  0.758053"
      ]
     },
     "execution_count": 19,
     "metadata": {},
     "output_type": "execute_result"
    },
    {
     "name": "stdout",
     "output_type": "stream",
     "text": [
      "time: 14.9 s (started: 2023-06-06 14:36:32 -05:00)\n"
     ]
    }
   ],
   "source": [
    "dict_df_common_edges = std_global(dict_df_edges_filter_weight, exp, method, dimension, groups_id, th=0.3, plot=True, save=True)\n",
    "dict_df_common_edges[groups_id[0]].head()"
   ]
  },
  {
   "cell_type": "code",
   "execution_count": null,
   "metadata": {},
   "outputs": [
    {
     "data": {
      "text/html": [
       "<div>\n",
       "<style scoped>\n",
       "    .dataframe tbody tr th:only-of-type {\n",
       "        vertical-align: middle;\n",
       "    }\n",
       "\n",
       "    .dataframe tbody tr th {\n",
       "        vertical-align: top;\n",
       "    }\n",
       "\n",
       "    .dataframe thead th {\n",
       "        text-align: right;\n",
       "    }\n",
       "</style>\n",
       "<table border=\"1\" class=\"dataframe\">\n",
       "  <thead>\n",
       "    <tr style=\"text-align: right;\">\n",
       "      <th></th>\n",
       "      <th>source</th>\n",
       "      <th>target</th>\n",
       "      <th>weight</th>\n",
       "    </tr>\n",
       "  </thead>\n",
       "  <tbody>\n",
       "    <tr>\n",
       "      <th>0</th>\n",
       "      <td>59.0137</td>\n",
       "      <td>389.2739</td>\n",
       "      <td>0.773249</td>\n",
       "    </tr>\n",
       "    <tr>\n",
       "      <th>1</th>\n",
       "      <td>59.0137</td>\n",
       "      <td>389.3284</td>\n",
       "      <td>0.791692</td>\n",
       "    </tr>\n",
       "    <tr>\n",
       "      <th>2</th>\n",
       "      <td>59.0137</td>\n",
       "      <td>418.3254</td>\n",
       "      <td>0.877965</td>\n",
       "    </tr>\n",
       "    <tr>\n",
       "      <th>3</th>\n",
       "      <td>59.0291</td>\n",
       "      <td>417.3220</td>\n",
       "      <td>0.749752</td>\n",
       "    </tr>\n",
       "    <tr>\n",
       "      <th>4</th>\n",
       "      <td>59.0291</td>\n",
       "      <td>418.3254</td>\n",
       "      <td>0.758053</td>\n",
       "    </tr>\n",
       "  </tbody>\n",
       "</table>\n",
       "</div>"
      ],
      "text/plain": [
       "    source    target    weight\n",
       "0  59.0137  389.2739  0.773249\n",
       "1  59.0137  389.3284  0.791692\n",
       "2  59.0137  418.3254  0.877965\n",
       "3  59.0291  417.3220  0.749752\n",
       "4  59.0291  418.3254  0.758053"
      ]
     },
     "execution_count": 20,
     "metadata": {},
     "output_type": "execute_result"
    },
    {
     "name": "stdout",
     "output_type": "stream",
     "text": [
      "time: 25.1 ms (started: 2023-06-06 14:36:47 -05:00)\n"
     ]
    }
   ],
   "source": [
    "df_common_edges = pd.read_csv(\"output/{}/common_edges/common_edges_{}_{}_{}_{}.csv\".format(exp, groups_id[0], method, dimension, \"L2\"))\n",
    "df_common_edges.head()"
   ]
  },
  {
   "cell_type": "code",
   "execution_count": null,
   "metadata": {},
   "outputs": [
    {
     "name": "stderr",
     "output_type": "stream",
     "text": [
      "  0%|          | 0/3 [00:00<?, ?it/s]"
     ]
    },
    {
     "name": "stdout",
     "output_type": "stream",
     "text": [
      "Group: WT\n",
      "Num. nodes: 2305\n",
      "Num. edges: 28617\n",
      "\n"
     ]
    },
    {
     "name": "stderr",
     "output_type": "stream",
     "text": [
      " 67%|██████▋   | 2/3 [00:01<00:00,  1.95it/s]"
     ]
    },
    {
     "name": "stdout",
     "output_type": "stream",
     "text": [
      "Group: zwf1^\n",
      "Num. nodes: 4875\n",
      "Num. edges: 495251\n",
      "\n"
     ]
    },
    {
     "name": "stderr",
     "output_type": "stream",
     "text": [
      "100%|██████████| 3/3 [00:01<00:00,  1.57it/s]"
     ]
    },
    {
     "name": "stdout",
     "output_type": "stream",
     "text": [
      "Group: pck1^\n",
      "Num. nodes: 5276\n",
      "Num. edges: 445247\n",
      "\n",
      "time: 1.91 s (started: 2023-06-06 14:36:47 -05:00)\n"
     ]
    },
    {
     "name": "stderr",
     "output_type": "stream",
     "text": [
      "\n"
     ]
    }
   ],
   "source": [
    "# show details\n",
    "\n",
    "for group in tqdm(groups_id):\n",
    "    df_common_edges = pd.read_csv(\"output/{}/common_edges/common_edges_{}_{}_{}_{}.csv\".format(exp, group, method, dimension, \"L2\"))\n",
    "    \n",
    "    G = nx.from_pandas_edgelist(df_common_edges, \"source\", \"target\", edge_attr=[\"weight\"])\n",
    "    print(\"Group: {}\".format(group))\n",
    "    graph_detail(G)"
   ]
  }
 ],
 "metadata": {
  "kernelspec": {
   "display_name": "Python 3 (ipykernel)",
   "language": "python",
   "name": "python3"
  },
  "language_info": {
   "codemirror_mode": {
    "name": "ipython",
    "version": 3
   },
   "file_extension": ".py",
   "mimetype": "text/x-python",
   "name": "python",
   "nbconvert_exporter": "python",
   "pygments_lexer": "ipython3",
   "version": "3.10.11"
  },
  "orig_nbformat": 4
 },
 "nbformat": 4,
 "nbformat_minor": 2
}
