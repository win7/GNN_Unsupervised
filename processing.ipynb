{
 "cells": [
  {
   "attachments": {},
   "cell_type": "markdown",
   "metadata": {},
   "source": [
    "### Imports"
   ]
  },
  {
   "cell_type": "code",
   "execution_count": 1,
   "metadata": {
    "notebookRunGroups": {
     "groupValue": "1"
    }
   },
   "outputs": [
    {
     "name": "stderr",
     "output_type": "stream",
     "text": [
      "/home/ealvarez/miniconda3/envs/Conda_dgl_3.10/lib/python3.10/site-packages/umap/distances.py:1063: NumbaDeprecationWarning: The 'nopython' keyword argument was not supplied to the 'numba.jit' decorator. The implicit default value for this argument is currently False, but it will be changed to True in Numba 0.59.0. See https://numba.readthedocs.io/en/stable/reference/deprecation.html#deprecation-of-object-mode-fall-back-behaviour-when-using-jit for details.\n",
      "  @numba.jit()\n",
      "/home/ealvarez/miniconda3/envs/Conda_dgl_3.10/lib/python3.10/site-packages/umap/distances.py:1071: NumbaDeprecationWarning: The 'nopython' keyword argument was not supplied to the 'numba.jit' decorator. The implicit default value for this argument is currently False, but it will be changed to True in Numba 0.59.0. See https://numba.readthedocs.io/en/stable/reference/deprecation.html#deprecation-of-object-mode-fall-back-behaviour-when-using-jit for details.\n",
      "  @numba.jit()\n",
      "/home/ealvarez/miniconda3/envs/Conda_dgl_3.10/lib/python3.10/site-packages/umap/distances.py:1086: NumbaDeprecationWarning: The 'nopython' keyword argument was not supplied to the 'numba.jit' decorator. The implicit default value for this argument is currently False, but it will be changed to True in Numba 0.59.0. See https://numba.readthedocs.io/en/stable/reference/deprecation.html#deprecation-of-object-mode-fall-back-behaviour-when-using-jit for details.\n",
      "  @numba.jit()\n",
      "/home/ealvarez/miniconda3/envs/Conda_dgl_3.10/lib/python3.10/site-packages/umap/umap_.py:660: NumbaDeprecationWarning: The 'nopython' keyword argument was not supplied to the 'numba.jit' decorator. The implicit default value for this argument is currently False, but it will be changed to True in Numba 0.59.0. See https://numba.readthedocs.io/en/stable/reference/deprecation.html#deprecation-of-object-mode-fall-back-behaviour-when-using-jit for details.\n",
      "  @numba.jit()\n"
     ]
    },
    {
     "name": "stdout",
     "output_type": "stream",
     "text": [
      "time: 169 µs (started: 2023-06-02 14:34:38 -05:00)\n"
     ]
    }
   ],
   "source": [
    "from pyod.models.ecod import ECOD\n",
    "from mpl_toolkits import mplot3d\n",
    "from sklearn.metrics import silhouette_score\n",
    "from sklearn.model_selection import RandomizedSearchCV\n",
    "from tqdm import tqdm\n",
    "from utils.utils import *\n",
    "\n",
    "import hdbscan\n",
    "import matplotlib.pyplot as plt\n",
    "import networkx as nx\n",
    "import numpy as np\n",
    "import os\n",
    "import pandas as pd\n",
    "import sys\n",
    "\n",
    "%load_ext autotime"
   ]
  },
  {
   "attachments": {},
   "cell_type": "markdown",
   "metadata": {},
   "source": [
    "### Parameters"
   ]
  },
  {
   "cell_type": "code",
   "execution_count": 2,
   "metadata": {
    "notebookRunGroups": {
     "groupValue": "1"
    }
   },
   "outputs": [
    {
     "name": "stdout",
     "output_type": "stream",
     "text": [
      "/home/ealvarez/Project/GNN_Filter\n",
      "Method:\t\t dgi\n",
      "Dimension:\t 3\n",
      "Groups id:\t ['WT', 'zwf1^', 'pck1^']\n",
      "Subgroups id:\t {'WT': ['1', '2', '3', '4', '5'], 'zwf1^': ['1', '2', '3'], 'pck1^': ['1', '2']}\n",
      "time: 3.15 ms (started: 2023-06-02 14:34:38 -05:00)\n"
     ]
    }
   ],
   "source": [
    "import json\n",
    "  \n",
    "# Opening JSON file\n",
    "file = open(\"parameters.json\")\n",
    "params = json.load(file)\n",
    "\n",
    "dir = os.path.dirname(os.getcwd())\n",
    "print(dir)\n",
    "\n",
    "method = params[\"method\"][params[\"method_idx\"]]\n",
    "print(\"Method:\\t\\t\", method)\n",
    "\n",
    "\"\"\" group = params[\"group\"][params[\"group_idx\"]]\n",
    "print(\"Group:\\t\\t\", group)\n",
    "\n",
    "subgroups = [str(k + 1) for k in range(group[1])]\n",
    "print(\"Subgroup:\\t\", subgroups) \"\"\"\n",
    "\n",
    "dimensions = params[\"dimensions\"]\n",
    "dimension = dimensions[0]\n",
    "print(\"Dimension:\\t\", dimension)\n",
    "\n",
    "groups_id = params[\"groups_id\"]\n",
    "print(\"Groups id:\\t\", groups_id)\n",
    "\n",
    "subgroups_id = params[\"subgroups_id\"]\n",
    "print(\"Subgroups id:\\t\", subgroups_id)"
   ]
  },
  {
   "attachments": {},
   "cell_type": "markdown",
   "metadata": {},
   "source": [
    "### Edge embeddings"
   ]
  },
  {
   "cell_type": "code",
   "execution_count": 3,
   "metadata": {
    "notebookRunGroups": {
     "groupValue": ""
    }
   },
   "outputs": [
    {
     "name": "stderr",
     "output_type": "stream",
     "text": [
      "100%|██████████| 5/5 [17:40<00:00, 212.01s/it]\n",
      "100%|██████████| 3/3 [25:25<00:00, 508.36s/it]]\n",
      "100%|██████████| 2/2 [09:03<00:00, 271.57s/it]]\n",
      "100%|██████████| 3/3 [52:08<00:00, 1042.75s/it]"
     ]
    },
    {
     "name": "stdout",
     "output_type": "stream",
     "text": [
      "time: 52min 8s (started: 2023-06-02 13:19:56 -05:00)\n"
     ]
    },
    {
     "name": "stderr",
     "output_type": "stream",
     "text": [
      "\n"
     ]
    }
   ],
   "source": [
    "# get edges embeddings\n",
    "\n",
    "edge_embeddings_global(method, dimension, groups_id, subgroups_id)"
   ]
  },
  {
   "cell_type": "code",
   "execution_count": 4,
   "metadata": {},
   "outputs": [
    {
     "data": {
      "text/html": [
       "<div>\n",
       "<style scoped>\n",
       "    .dataframe tbody tr th:only-of-type {\n",
       "        vertical-align: middle;\n",
       "    }\n",
       "\n",
       "    .dataframe tbody tr th {\n",
       "        vertical-align: top;\n",
       "    }\n",
       "\n",
       "    .dataframe thead th {\n",
       "        text-align: right;\n",
       "    }\n",
       "</style>\n",
       "<table border=\"1\" class=\"dataframe\">\n",
       "  <thead>\n",
       "    <tr style=\"text-align: right;\">\n",
       "      <th></th>\n",
       "      <th></th>\n",
       "      <th>0</th>\n",
       "      <th>1</th>\n",
       "      <th>2</th>\n",
       "    </tr>\n",
       "  </thead>\n",
       "  <tbody>\n",
       "    <tr>\n",
       "      <th rowspan=\"5\" valign=\"top\">0</th>\n",
       "      <th>1</th>\n",
       "      <td>1.143202e-03</td>\n",
       "      <td>7.768660e-09</td>\n",
       "      <td>1.940209e-03</td>\n",
       "    </tr>\n",
       "    <tr>\n",
       "      <th>2</th>\n",
       "      <td>5.718989e-09</td>\n",
       "      <td>1.909690e-11</td>\n",
       "      <td>1.120634e-08</td>\n",
       "    </tr>\n",
       "    <tr>\n",
       "      <th>3</th>\n",
       "      <td>1.714288e-03</td>\n",
       "      <td>7.063369e-08</td>\n",
       "      <td>2.939478e-03</td>\n",
       "    </tr>\n",
       "    <tr>\n",
       "      <th>4</th>\n",
       "      <td>1.809654e-04</td>\n",
       "      <td>1.093625e-07</td>\n",
       "      <td>3.256343e-04</td>\n",
       "    </tr>\n",
       "    <tr>\n",
       "      <th>5</th>\n",
       "      <td>3.382710e-04</td>\n",
       "      <td>5.913610e-11</td>\n",
       "      <td>5.694203e-04</td>\n",
       "    </tr>\n",
       "  </tbody>\n",
       "</table>\n",
       "</div>"
      ],
      "text/plain": [
       "                0             1             2\n",
       "0 1  1.143202e-03  7.768660e-09  1.940209e-03\n",
       "  2  5.718989e-09  1.909690e-11  1.120634e-08\n",
       "  3  1.714288e-03  7.063369e-08  2.939478e-03\n",
       "  4  1.809654e-04  1.093625e-07  3.256343e-04\n",
       "  5  3.382710e-04  5.913610e-11  5.694203e-04"
      ]
     },
     "execution_count": 4,
     "metadata": {},
     "output_type": "execute_result"
    },
    {
     "name": "stdout",
     "output_type": "stream",
     "text": [
      "time: 517 ms (started: 2023-06-02 14:16:09 -05:00)\n"
     ]
    }
   ],
   "source": [
    "df_edge_embeddings = pd.read_csv(\"output/edge_embeddings/edge-embeddings_{}_{}_{}_{}_{}.csv\".format(groups_id[0], subgroups_id[groups_id[0]][0], method, dimension, \"L2\"), index_col=[0, 1])\n",
    "df_edge_embeddings.head()"
   ]
  },
  {
   "attachments": {},
   "cell_type": "markdown",
   "metadata": {},
   "source": [
    "### Concat edge embeddings"
   ]
  },
  {
   "cell_type": "code",
   "execution_count": 7,
   "metadata": {
    "notebookRunGroups": {
     "groupValue": ""
    }
   },
   "outputs": [
    {
     "name": "stderr",
     "output_type": "stream",
     "text": [
      "100%|██████████| 5/5 [00:06<00:00,  1.24s/it]\n",
      "100%|██████████| 3/3 [00:08<00:00,  2.82s/it]\n",
      "100%|██████████| 2/2 [00:02<00:00,  1.36s/it]\n",
      "100%|██████████| 3/3 [03:12<00:00, 64.17s/it]"
     ]
    },
    {
     "name": "stdout",
     "output_type": "stream",
     "text": [
      "time: 3min 12s (started: 2023-06-02 14:18:02 -05:00)\n"
     ]
    },
    {
     "name": "stderr",
     "output_type": "stream",
     "text": [
      "\n"
     ]
    }
   ],
   "source": [
    "for group in tqdm(groups_id):\n",
    "    df_edge_embeddings_concat = pd.DataFrame()\n",
    "    for subgroup in tqdm(subgroups_id[group]):\n",
    "        df_edge_embeddings = pd.read_csv(\"output/edge_embeddings/edge-embeddings_{}_{}_{}_{}_{}.csv\".format(group, subgroup, method, dimension, \"L2\"), index_col=[0, 1])\n",
    "        df_edge_embeddings[\"subgroup\"] = [subgroup] * len(df_edge_embeddings)\n",
    "\n",
    "        df_edge_embeddings_concat = pd.concat([df_edge_embeddings_concat, df_edge_embeddings])\n",
    "    df_edge_embeddings_concat.to_csv(\"output/edge_embeddings/edge-embeddings_concat_{}_{}_{}_{}.csv\".format(group, method, dimension, \"L2\"), index=True)"
   ]
  },
  {
   "cell_type": "code",
   "execution_count": 13,
   "metadata": {
    "notebookRunGroups": {
     "groupValue": ""
    }
   },
   "outputs": [
    {
     "data": {
      "text/html": [
       "<div>\n",
       "<style scoped>\n",
       "    .dataframe tbody tr th:only-of-type {\n",
       "        vertical-align: middle;\n",
       "    }\n",
       "\n",
       "    .dataframe tbody tr th {\n",
       "        vertical-align: top;\n",
       "    }\n",
       "\n",
       "    .dataframe thead th {\n",
       "        text-align: right;\n",
       "    }\n",
       "</style>\n",
       "<table border=\"1\" class=\"dataframe\">\n",
       "  <thead>\n",
       "    <tr style=\"text-align: right;\">\n",
       "      <th></th>\n",
       "      <th></th>\n",
       "      <th>0</th>\n",
       "      <th>1</th>\n",
       "      <th>2</th>\n",
       "      <th>subgroup</th>\n",
       "    </tr>\n",
       "  </thead>\n",
       "  <tbody>\n",
       "    <tr>\n",
       "      <th rowspan=\"5\" valign=\"top\">0</th>\n",
       "      <th>1</th>\n",
       "      <td>1.143202e-03</td>\n",
       "      <td>7.768660e-09</td>\n",
       "      <td>1.940209e-03</td>\n",
       "      <td>1</td>\n",
       "    </tr>\n",
       "    <tr>\n",
       "      <th>2</th>\n",
       "      <td>5.718989e-09</td>\n",
       "      <td>1.909690e-11</td>\n",
       "      <td>1.120634e-08</td>\n",
       "      <td>1</td>\n",
       "    </tr>\n",
       "    <tr>\n",
       "      <th>3</th>\n",
       "      <td>1.714288e-03</td>\n",
       "      <td>7.063369e-08</td>\n",
       "      <td>2.939478e-03</td>\n",
       "      <td>1</td>\n",
       "    </tr>\n",
       "    <tr>\n",
       "      <th>4</th>\n",
       "      <td>1.809654e-04</td>\n",
       "      <td>1.093625e-07</td>\n",
       "      <td>3.256343e-04</td>\n",
       "      <td>1</td>\n",
       "    </tr>\n",
       "    <tr>\n",
       "      <th>5</th>\n",
       "      <td>3.382710e-04</td>\n",
       "      <td>5.913610e-11</td>\n",
       "      <td>5.694203e-04</td>\n",
       "      <td>1</td>\n",
       "    </tr>\n",
       "  </tbody>\n",
       "</table>\n",
       "</div>"
      ],
      "text/plain": [
       "                0             1             2  subgroup\n",
       "0 1  1.143202e-03  7.768660e-09  1.940209e-03         1\n",
       "  2  5.718989e-09  1.909690e-11  1.120634e-08         1\n",
       "  3  1.714288e-03  7.063369e-08  2.939478e-03         1\n",
       "  4  1.809654e-04  1.093625e-07  3.256343e-04         1\n",
       "  5  3.382710e-04  5.913610e-11  5.694203e-04         1"
      ]
     },
     "execution_count": 13,
     "metadata": {},
     "output_type": "execute_result"
    },
    {
     "name": "stdout",
     "output_type": "stream",
     "text": [
      "time: 4.74 s (started: 2023-06-02 14:53:34 -05:00)\n"
     ]
    }
   ],
   "source": [
    "df_edge_embeddings_concat = pd.read_csv(\"output/edge_embeddings/edge-embeddings_concat_{}_{}_{}_{}.csv\".format(groups_id[0], method, dimension, \"L2\"), index_col=[0, 1])\n",
    "df_edge_embeddings_concat.head()"
   ]
  },
  {
   "cell_type": "code",
   "execution_count": 9,
   "metadata": {
    "notebookRunGroups": {
     "groupValue": ""
    }
   },
   "outputs": [
    {
     "name": "stderr",
     "output_type": "stream",
     "text": [
      "  0%|          | 0/3 [00:00<?, ?it/s]"
     ]
    }
   ],
   "source": [
    "# plot edge embeddings concat\n",
    "\n",
    "for group in tqdm(groups_id):\n",
    "    df_edge_embeddings_concat = pd.read_csv(\"output/edge_embeddings/edge-embeddings_concat_{}_{}_{}_{}.csv\".format(group, method, dimension, \"L2\"), index_col=[0, 1])\n",
    "\n",
    "    x = df_edge_embeddings_concat.iloc[:, 0]\n",
    "    y = df_edge_embeddings_concat.iloc[:, 1]\n",
    "    z = df_edge_embeddings_concat.iloc[:, 2]\n",
    "\n",
    "    # Creating figure\n",
    "    fig = plt.figure(figsize=(10, 7))\n",
    "    ax = plt.axes(projection=\"3d\")\n",
    "\n",
    "    # Creating plot\n",
    "    ax.scatter3D(x, y, z, c=df_edge_embeddings_concat.iloc[:, -1], alpha=0.1)\n",
    "    # plt.title(\"Dimension: {}\".format(dimension))\n",
    "\n",
    "    # show plot\n",
    "    plt.savefig(\"output/plot/edge_embeddings/edge-embeddings_concat_{}_{}_{}_{}.png\".format(group, method, dimension, \"L2\"))\n",
    "    # plt.show()\n",
    "    plt.close()"
   ]
  },
  {
   "attachments": {},
   "cell_type": "markdown",
   "metadata": {},
   "source": [
    "### Outliers detection"
   ]
  },
  {
   "cell_type": "code",
   "execution_count": 21,
   "metadata": {
    "notebookRunGroups": {
     "groupValue": ""
    }
   },
   "outputs": [
    {
     "name": "stdout",
     "output_type": "stream",
     "text": [
      "time: 9min 48s (started: 2023-06-02 11:04:08 -05:00)\n"
     ]
    }
   ],
   "source": [
    "# Outlier detection (HDBSCAN)\n",
    "\"\"\" df_edge_embeddings_concat = pd.read_csv(\"output/edge_embeddings/edge-embeddings_concat_{}_{}_{}_{}.csv\".format(group, method, dimension, \"L2\"), index_col=[0, 1])\n",
    "\n",
    "X_train = df_edge_embeddings_concat.iloc[:, :-1]\n",
    "clusterer = hdbscan.HDBSCAN(min_cluster_size=100, core_dist_n_jobs=-1).fit(X_train)\n",
    "\n",
    "threshold = pd.Series(clusterer.outlier_scores_).quantile(0.9)\n",
    "outliers = np.where(clusterer.outlier_scores_ > threshold)[0]\n",
    "print(len(outliers))\n",
    "outliers\n",
    "\n",
    "inliers = np.setdiff1d(np.arange(len(df_edge_embeddings_concat)), outliers)\n",
    "print(len(inliers))\n",
    "inliers \"\"\""
   ]
  },
  {
   "cell_type": "code",
   "execution_count": 60,
   "metadata": {},
   "outputs": [
    {
     "name": "stderr",
     "output_type": "stream",
     "text": [
      "100%|█████████████████████████████| 3/3 [00:57<00:00, 19.19s/it]"
     ]
    },
    {
     "name": "stdout",
     "output_type": "stream",
     "text": [
      "time: 58.2 s (started: 2023-06-02 16:06:33 -05:00)\n"
     ]
    },
    {
     "name": "stderr",
     "output_type": "stream",
     "text": [
      "\n"
     ]
    }
   ],
   "source": [
    "# outlier detection (ECOD)\n",
    "dict_df_edge_embeddings_concat_outlier = {}\n",
    "dict_df_edge_embeddings_concat_filter = {}\n",
    "\n",
    "for group in tqdm(groups_id):\n",
    "    df_edge_embeddings_concat = pd.read_csv(\"output/edge_embeddings/edge-embeddings_concat_{}_{}_{}_{}.csv\".format(group, method, dimension, \"L2\"), index_col=[0, 1])\n",
    "\n",
    "    X_train = df_edge_embeddings_concat.iloc[:, :-1]\n",
    "\n",
    "    clf = ECOD()\n",
    "    clf.fit(X_train)\n",
    "\n",
    "    X_train[\"labels\"] = clf.labels_ # binary labels (0: inliers, 1: outliers)\n",
    "\n",
    "    df_edge_embeddings_concat_filter = df_edge_embeddings_concat.copy()\n",
    "    df_edge_embeddings_concat_filter[\"labels\"] = clf.labels_\n",
    "    df_edge_embeddings_concat_filter = df_edge_embeddings_concat_filter[df_edge_embeddings_concat_filter[\"labels\"] == 0]\n",
    "    df_edge_embeddings_concat_filter = df_edge_embeddings_concat_filter.iloc[:, :-1]\n",
    "\n",
    "    dict_df_edge_embeddings_concat_outlier[group] = X_train\n",
    "    dict_df_edge_embeddings_concat_filter[group] = df_edge_embeddings_concat_filter"
   ]
  },
  {
   "cell_type": "code",
   "execution_count": 5,
   "metadata": {
    "notebookRunGroups": {
     "groupValue": ""
    }
   },
   "outputs": [
    {
     "name": "stderr",
     "output_type": "stream",
     "text": [
      "3it [13:34, 271.43s/it]"
     ]
    },
    {
     "name": "stdout",
     "output_type": "stream",
     "text": [
      "time: 13min 34s (started: 2023-06-02 11:56:46 -05:00)\n"
     ]
    },
    {
     "name": "stderr",
     "output_type": "stream",
     "text": [
      "\n"
     ]
    }
   ],
   "source": [
    "# plot outliers/inliers\n",
    "for group in tqdm(groups_id):\n",
    "    fig = plt.figure(figsize = (10, 7))\n",
    "    ax = plt.axes(projection =\"3d\")\n",
    "\n",
    "    df_aux = dict_df_edge_embeddings_concat_outlier[group]\n",
    "    print(\"Total:\", len(df_aux))\n",
    "    \n",
    "    temp = df_aux[df_aux[\"labels\"] == 0]\n",
    "    x = temp.iloc[:, 0]\n",
    "    y = temp.iloc[:, 1]\n",
    "    z = temp.iloc[:, 2]\n",
    "    ax.scatter3D(x, y, z, c=\"red\", alpha=0.005)\n",
    "    print(\"Num. of inliers:\", len(temp))\n",
    "\n",
    "    temp = df_aux[df_aux[\"labels\"] == 1]\n",
    "    x = temp.iloc[:, 0]\n",
    "    y = temp.iloc[:, 1]\n",
    "    z = temp.iloc[:, 2]\n",
    "    ax.scatter3D(x, y, z, c=\"gray\", alpha=0.005)\n",
    "    print(\"Num. of inliers:\", len(temp))\n",
    "\n",
    "    # show plot\n",
    "    plt.savefig(\"output/plot/edge_embeddings/edge-embeddings_outlier_{}_{}_{}_{}.png\".format(group, method, dimension, \"L2\"))\n",
    "    # plt.show()\n",
    "    plt.close()"
   ]
  },
  {
   "attachments": {},
   "cell_type": "markdown",
   "metadata": {},
   "source": [
    "###  Filter common edges"
   ]
  },
  {
   "cell_type": "code",
   "execution_count": 64,
   "metadata": {},
   "outputs": [
    {
     "name": "stderr",
     "output_type": "stream",
     "text": [
      "11008782it [05:14, 35044.58it/s]          | 0/3 [00:00<?, ?it/s]\n",
      "15378760it [07:07, 35968.25it/s] | 1/3 [05:26<10:52, 326.18s/it]\n",
      "5439027it [02:31, 35984.36it/s]  | 2/3 [12:45<06:32, 392.66s/it]\n",
      "100%|████████████████████████████| 3/3 [15:21<00:00, 307.27s/it]"
     ]
    },
    {
     "name": "stdout",
     "output_type": "stream",
     "text": [
      "time: 15min 21s (started: 2023-06-02 16:08:00 -05:00)\n"
     ]
    },
    {
     "name": "stderr",
     "output_type": "stream",
     "text": [
      "\n"
     ]
    }
   ],
   "source": [
    "# mapping idx with id\n",
    "\n",
    "for group in tqdm(groups_id):\n",
    "    dict_df_nodes = {}\n",
    "    for subgroup in subgroups_id[group]:\n",
    "        df_nodes = pd.read_csv(\"output/preprocessing/graphs_data/nodes_data_{}_{}.csv\".format(group, subgroup))\n",
    "        dict_df_nodes[subgroup] = df_nodes\n",
    "    \n",
    "    # mapping\n",
    "    df_edge_embeddings_concat_filter = dict_df_edge_embeddings_concat_filter[group]\n",
    "    list_index = []\n",
    "\n",
    "    for row in tqdm(df_edge_embeddings_concat_filter.itertuples()):\n",
    "        df_nodes = dict_df_nodes[str(row[-1])]\n",
    "        list_index.append((df_nodes.iloc[row[0][0], -1], df_nodes.iloc[row[0][1], -1]))\n",
    "    \n",
    "    # set new index\n",
    "    df_edge_embeddings_concat_filter.set_index([pd.Index(list_index)], inplace=True)\n",
    "    df_edge_embeddings_concat_filter"
   ]
  },
  {
   "cell_type": "code",
   "execution_count": 99,
   "metadata": {},
   "outputs": [
    {
     "data": {
      "text/html": [
       "<div>\n",
       "<style scoped>\n",
       "    .dataframe tbody tr th:only-of-type {\n",
       "        vertical-align: middle;\n",
       "    }\n",
       "\n",
       "    .dataframe tbody tr th {\n",
       "        vertical-align: top;\n",
       "    }\n",
       "\n",
       "    .dataframe thead th {\n",
       "        text-align: right;\n",
       "    }\n",
       "</style>\n",
       "<table border=\"1\" class=\"dataframe\">\n",
       "  <thead>\n",
       "    <tr style=\"text-align: right;\">\n",
       "      <th></th>\n",
       "      <th>level_0</th>\n",
       "      <th>level_1</th>\n",
       "      <th>0</th>\n",
       "      <th>1</th>\n",
       "      <th>2</th>\n",
       "      <th>subgroup</th>\n",
       "    </tr>\n",
       "  </thead>\n",
       "  <tbody>\n",
       "    <tr>\n",
       "      <th>0</th>\n",
       "      <td>59.0049</td>\n",
       "      <td>369.1213</td>\n",
       "      <td>0.001714</td>\n",
       "      <td>7.063369e-08</td>\n",
       "      <td>0.002939</td>\n",
       "      <td>1</td>\n",
       "    </tr>\n",
       "    <tr>\n",
       "      <th>1</th>\n",
       "      <td>59.0049</td>\n",
       "      <td>558.4273</td>\n",
       "      <td>0.003690</td>\n",
       "      <td>3.074061e-08</td>\n",
       "      <td>0.006267</td>\n",
       "      <td>1</td>\n",
       "    </tr>\n",
       "    <tr>\n",
       "      <th>2</th>\n",
       "      <td>59.0049</td>\n",
       "      <td>641.1223</td>\n",
       "      <td>0.006839</td>\n",
       "      <td>5.105531e-07</td>\n",
       "      <td>0.011797</td>\n",
       "      <td>1</td>\n",
       "    </tr>\n",
       "    <tr>\n",
       "      <th>3</th>\n",
       "      <td>59.0049</td>\n",
       "      <td>650.2145</td>\n",
       "      <td>0.005214</td>\n",
       "      <td>6.020984e-07</td>\n",
       "      <td>0.009044</td>\n",
       "      <td>1</td>\n",
       "    </tr>\n",
       "    <tr>\n",
       "      <th>4</th>\n",
       "      <td>59.0049</td>\n",
       "      <td>977.8237</td>\n",
       "      <td>0.018821</td>\n",
       "      <td>7.463387e-06</td>\n",
       "      <td>0.033454</td>\n",
       "      <td>1</td>\n",
       "    </tr>\n",
       "  </tbody>\n",
       "</table>\n",
       "</div>"
      ],
      "text/plain": [
       "   level_0   level_1         0             1         2  subgroup\n",
       "0  59.0049  369.1213  0.001714  7.063369e-08  0.002939         1\n",
       "1  59.0049  558.4273  0.003690  3.074061e-08  0.006267         1\n",
       "2  59.0049  641.1223  0.006839  5.105531e-07  0.011797         1\n",
       "3  59.0049  650.2145  0.005214  6.020984e-07  0.009044         1\n",
       "4  59.0049  977.8237  0.018821  7.463387e-06  0.033454         1"
      ]
     },
     "execution_count": 99,
     "metadata": {},
     "output_type": "execute_result"
    },
    {
     "name": "stdout",
     "output_type": "stream",
     "text": [
      "time: 13.1 ms (started: 2023-06-02 17:16:22 -05:00)\n"
     ]
    }
   ],
   "source": [
    "df_edge_embeddings_concat_filter = dict_df_edge_embeddings_concat_filter[groups_id[0]]\n",
    "df_edge_embeddings_concat_filter.head()"
   ]
  },
  {
   "cell_type": "code",
   "execution_count": 100,
   "metadata": {},
   "outputs": [
    {
     "name": "stderr",
     "output_type": "stream",
     "text": [
      "100%|█████████████████████████████| 3/3 [00:08<00:00,  2.90s/it]"
     ]
    },
    {
     "name": "stdout",
     "output_type": "stream",
     "text": [
      "time: 8.71 s (started: 2023-06-02 17:16:29 -05:00)\n"
     ]
    },
    {
     "name": "stderr",
     "output_type": "stream",
     "text": [
      "\n"
     ]
    }
   ],
   "source": [
    "# count edges and filter by count\n",
    "dict_df_edges_filter = {}\n",
    "for group in tqdm(groups_id):\n",
    "    # count\n",
    "    df_edge_embeddings_concat_filter = dict_df_edge_embeddings_concat_filter[group]\n",
    "\n",
    "    df_edge_embeddings_concat_filter.reset_index(inplace=True)\n",
    "    df_edge_embeddings_concat_filter = df_edge_embeddings_concat_filter[[\"level_0\", \"level_1\"]].value_counts().to_frame()\n",
    "    df_edge_embeddings_concat_filter.reset_index(inplace=True)\n",
    "    df_edge_embeddings_concat_filter.columns = [\"source\", \"target\", \"count\"]\n",
    "\n",
    "    # filter\n",
    "    df_edge_embeddings_concat_filter = df_edge_embeddings_concat_filter[df_edge_embeddings_concat_filter[\"count\"] == len(subgroups_id[group])]\n",
    "    df_edge_embeddings_concat_filter = df_edge_embeddings_concat_filter.iloc[:, [0, 1]]\n",
    "    dict_df_edges_filter[group] = df_edge_embeddings_concat_filter"
   ]
  },
  {
   "cell_type": "code",
   "execution_count": 107,
   "metadata": {},
   "outputs": [
    {
     "data": {
      "text/html": [
       "<div>\n",
       "<style scoped>\n",
       "    .dataframe tbody tr th:only-of-type {\n",
       "        vertical-align: middle;\n",
       "    }\n",
       "\n",
       "    .dataframe tbody tr th {\n",
       "        vertical-align: top;\n",
       "    }\n",
       "\n",
       "    .dataframe thead th {\n",
       "        text-align: right;\n",
       "    }\n",
       "</style>\n",
       "<table border=\"1\" class=\"dataframe\">\n",
       "  <thead>\n",
       "    <tr style=\"text-align: right;\">\n",
       "      <th></th>\n",
       "      <th>source</th>\n",
       "      <th>target</th>\n",
       "    </tr>\n",
       "  </thead>\n",
       "  <tbody>\n",
       "    <tr>\n",
       "      <th>0</th>\n",
       "      <td>716.5216</td>\n",
       "      <td>746.4967</td>\n",
       "    </tr>\n",
       "    <tr>\n",
       "      <th>1</th>\n",
       "      <td>341.1770</td>\n",
       "      <td>602.1407</td>\n",
       "    </tr>\n",
       "    <tr>\n",
       "      <th>2</th>\n",
       "      <td>379.0830</td>\n",
       "      <td>463.1124</td>\n",
       "    </tr>\n",
       "    <tr>\n",
       "      <th>3</th>\n",
       "      <td>267.0740</td>\n",
       "      <td>571.1777</td>\n",
       "    </tr>\n",
       "    <tr>\n",
       "      <th>4</th>\n",
       "      <td>688.4907</td>\n",
       "      <td>814.4931</td>\n",
       "    </tr>\n",
       "  </tbody>\n",
       "</table>\n",
       "</div>"
      ],
      "text/plain": [
       "     source    target\n",
       "0  716.5216  746.4967\n",
       "1  341.1770  602.1407\n",
       "2  379.0830  463.1124\n",
       "3  267.0740  571.1777\n",
       "4  688.4907  814.4931"
      ]
     },
     "execution_count": 107,
     "metadata": {},
     "output_type": "execute_result"
    },
    {
     "name": "stdout",
     "output_type": "stream",
     "text": [
      "time: 9.43 ms (started: 2023-06-02 17:36:56 -05:00)\n"
     ]
    }
   ],
   "source": [
    "df_edges_filter = dict_df_edges_filter[groups_id[0]]\n",
    "df_edges_filter.head()"
   ]
  },
  {
   "cell_type": "code",
   "execution_count": 123,
   "metadata": {
    "notebookRunGroups": {
     "groupValue": "2"
    }
   },
   "outputs": [
    {
     "name": "stderr",
     "output_type": "stream",
     "text": [
      "100%|██████████████████████████| 5/5 [00:15<00:00,  3.09s/it]\n",
      "100%|██████████████████████████| 3/3 [00:24<00:00,  8.00s/it]\n",
      "100%|██████████████████████████| 2/2 [00:08<00:00,  4.29s/it]\n",
      "100%|██████████████████████████| 3/3 [00:49<00:00, 16.59s/it]"
     ]
    },
    {
     "name": "stdout",
     "output_type": "stream",
     "text": [
      "time: 49.8 s (started: 2023-06-02 17:55:53 -05:00)\n"
     ]
    },
    {
     "name": "stderr",
     "output_type": "stream",
     "text": [
      "\n"
     ]
    }
   ],
   "source": [
    "# get weight by subgroups\n",
    "dict_df_edges_filter_weight = {}\n",
    "\n",
    "for group in tqdm(groups_id):\n",
    "    df_edges_filter_weight = dict_df_edges_filter[group].copy()\n",
    "\n",
    "    s = []\n",
    "    t = []\n",
    "    for row in df_edges_filter_weight.itertuples():\n",
    "        if row[1] > row[2]:\n",
    "            s.append(row[2])\n",
    "            t.append(row[1])\n",
    "        else:\n",
    "            s.append(row[1])\n",
    "            t.append(row[2])\n",
    "    df_edges_filter_weight[\"source\"] = s\n",
    "    df_edges_filter_weight[\"target\"] = t\n",
    "\n",
    "    df_edges_filter_weight.sort_values([\"source\", \"target\"], ascending=True, inplace=True)\n",
    "    df_edges_filter_weight[\"idx\"] = df_edges_filter_weight[\"source\"].astype(str) + \"-\" + df_edges_filter_weight[\"target\"].astype(str)\n",
    "    list_aux = df_edges_filter_weight.iloc[:, -1].values\n",
    "\n",
    "    for subgroup in tqdm(subgroups_id[group]):\n",
    "        df_edges = pd.read_csv(\"output/preprocessing/edges/edges_{}_{}.csv\".format(group, subgroup))\n",
    "        df_edges.sort_values([\"source\", \"target\"], ascending=True, inplace=True)\n",
    "        df_edges[\"idx\"] = df_edges[\"source\"].astype(str) + \"-\" + df_edges[\"target\"].astype(str)\n",
    "        \n",
    "        filter = df_edges[\"idx\"].isin(list_aux)\n",
    "        temp = df_edges[filter]\n",
    "        list_temp = temp.iloc[:, -2].values\n",
    "        df_edges_filter_weight[\"subgroup{}\".format(subgroup)] = list_temp\n",
    "        \n",
    "    df_edges_filter_weight.drop([\"idx\"], inplace=True, axis=1)\n",
    "    \n",
    "    dict_df_edges_filter_weight[group] = df_edges_filter_weight\n"
   ]
  },
  {
   "cell_type": "code",
   "execution_count": 124,
   "metadata": {},
   "outputs": [
    {
     "data": {
      "text/html": [
       "<div>\n",
       "<style scoped>\n",
       "    .dataframe tbody tr th:only-of-type {\n",
       "        vertical-align: middle;\n",
       "    }\n",
       "\n",
       "    .dataframe tbody tr th {\n",
       "        vertical-align: top;\n",
       "    }\n",
       "\n",
       "    .dataframe thead th {\n",
       "        text-align: right;\n",
       "    }\n",
       "</style>\n",
       "<table border=\"1\" class=\"dataframe\">\n",
       "  <thead>\n",
       "    <tr style=\"text-align: right;\">\n",
       "      <th></th>\n",
       "      <th>source</th>\n",
       "      <th>target</th>\n",
       "      <th>subgroup1</th>\n",
       "      <th>subgroup2</th>\n",
       "      <th>subgroup3</th>\n",
       "      <th>subgroup4</th>\n",
       "      <th>subgroup5</th>\n",
       "    </tr>\n",
       "  </thead>\n",
       "  <tbody>\n",
       "    <tr>\n",
       "      <th>17925</th>\n",
       "      <td>59.0137</td>\n",
       "      <td>349.2758</td>\n",
       "      <td>0.796859</td>\n",
       "      <td>0.788310</td>\n",
       "      <td>0.560861</td>\n",
       "      <td>0.551982</td>\n",
       "      <td>0.807207</td>\n",
       "    </tr>\n",
       "    <tr>\n",
       "      <th>17920</th>\n",
       "      <td>59.0137</td>\n",
       "      <td>350.2793</td>\n",
       "      <td>0.807013</td>\n",
       "      <td>0.779306</td>\n",
       "      <td>0.576143</td>\n",
       "      <td>0.563560</td>\n",
       "      <td>0.808223</td>\n",
       "    </tr>\n",
       "    <tr>\n",
       "      <th>17919</th>\n",
       "      <td>59.0137</td>\n",
       "      <td>350.3033</td>\n",
       "      <td>0.854806</td>\n",
       "      <td>0.751778</td>\n",
       "      <td>0.539172</td>\n",
       "      <td>0.650983</td>\n",
       "      <td>0.883973</td>\n",
       "    </tr>\n",
       "    <tr>\n",
       "      <th>17773</th>\n",
       "      <td>59.0137</td>\n",
       "      <td>389.2739</td>\n",
       "      <td>0.823682</td>\n",
       "      <td>0.886260</td>\n",
       "      <td>0.723124</td>\n",
       "      <td>0.515230</td>\n",
       "      <td>0.917952</td>\n",
       "    </tr>\n",
       "    <tr>\n",
       "      <th>17772</th>\n",
       "      <td>59.0137</td>\n",
       "      <td>389.2907</td>\n",
       "      <td>0.887545</td>\n",
       "      <td>0.930750</td>\n",
       "      <td>0.839795</td>\n",
       "      <td>0.800743</td>\n",
       "      <td>0.914504</td>\n",
       "    </tr>\n",
       "  </tbody>\n",
       "</table>\n",
       "</div>"
      ],
      "text/plain": [
       "        source    target  subgroup1  subgroup2  subgroup3  subgroup4  \\\n",
       "17925  59.0137  349.2758   0.796859   0.788310   0.560861   0.551982   \n",
       "17920  59.0137  350.2793   0.807013   0.779306   0.576143   0.563560   \n",
       "17919  59.0137  350.3033   0.854806   0.751778   0.539172   0.650983   \n",
       "17773  59.0137  389.2739   0.823682   0.886260   0.723124   0.515230   \n",
       "17772  59.0137  389.2907   0.887545   0.930750   0.839795   0.800743   \n",
       "\n",
       "       subgroup5  \n",
       "17925   0.807207  \n",
       "17920   0.808223  \n",
       "17919   0.883973  \n",
       "17773   0.917952  \n",
       "17772   0.914504  "
      ]
     },
     "execution_count": 124,
     "metadata": {},
     "output_type": "execute_result"
    },
    {
     "name": "stdout",
     "output_type": "stream",
     "text": [
      "time: 13.3 ms (started: 2023-06-02 17:56:47 -05:00)\n"
     ]
    }
   ],
   "source": [
    "df_edges_filter_weight = dict_df_edges_filter_weight[groups_id[0]]\n",
    "df_edges_filter_weight.head()"
   ]
  },
  {
   "attachments": {},
   "cell_type": "markdown",
   "metadata": {},
   "source": [
    "### Filter by STD and average weight"
   ]
  },
  {
   "cell_type": "code",
   "execution_count": 135,
   "metadata": {
    "notebookRunGroups": {
     "groupValue": "2"
    }
   },
   "outputs": [
    {
     "name": "stderr",
     "output_type": "stream",
     "text": [
      "100%|██████████████████| 3/3 [00:02<00:00,  1.20it/s]"
     ]
    },
    {
     "name": "stdout",
     "output_type": "stream",
     "text": [
      "time: 2.5 s (started: 2023-06-02 18:16:03 -05:00)\n"
     ]
    },
    {
     "name": "stderr",
     "output_type": "stream",
     "text": [
      "\n"
     ]
    }
   ],
   "source": [
    "# dispersion (std)\n",
    "\n",
    "# dict_df_common_edges = {}\n",
    "\n",
    "for group in tqdm(groups_id):\n",
    "    df_edges_filter_weight = dict_df_edges_filter_weight[group]\n",
    "\n",
    "    # calculate std\n",
    "    df_edges_filter_weight[\"std\"] = np.std(df_edges_filter_weight.iloc[:, 2:], axis=1)\n",
    "\n",
    "    # filter std < 0.3\n",
    "    df_edges_filter_weight_std = df_edges_filter_weight[df_edges_filter_weight[\"std\"] < 0.3]\n",
    "\n",
    "    # average weight\n",
    "    df_edges_filter_weight_std_avg = df_edges_filter_weight_std.iloc[:, :-1]\n",
    "    df_edges_filter_weight_std_avg[\"weight\"] = df_edges_filter_weight_std_avg.iloc[:, 2:].mean(axis=1)\n",
    "    df_edges_filter_weight_std_avg = df_edges_filter_weight_std_avg.iloc[:, [0, 1, -1]]\n",
    "    df_edges_filter_weight_std_avg.reset_index(drop=True, inplace=True)\n",
    "\n",
    "    # save\n",
    "    df_edges_filter_weight_std_avg.to_csv(\"output/common_edges/common_edges_{}_{}.csv\".format(group, method, dimension, \"L2\"), index=False)\n",
    "\n",
    "    # dict_df_common_edges[group] = df_edges_filter_weight_std_avg"
   ]
  },
  {
   "cell_type": "code",
   "execution_count": 137,
   "metadata": {},
   "outputs": [
    {
     "data": {
      "text/html": [
       "<div>\n",
       "<style scoped>\n",
       "    .dataframe tbody tr th:only-of-type {\n",
       "        vertical-align: middle;\n",
       "    }\n",
       "\n",
       "    .dataframe tbody tr th {\n",
       "        vertical-align: top;\n",
       "    }\n",
       "\n",
       "    .dataframe thead th {\n",
       "        text-align: right;\n",
       "    }\n",
       "</style>\n",
       "<table border=\"1\" class=\"dataframe\">\n",
       "  <thead>\n",
       "    <tr style=\"text-align: right;\">\n",
       "      <th></th>\n",
       "      <th>source</th>\n",
       "      <th>target</th>\n",
       "      <th>weight</th>\n",
       "    </tr>\n",
       "  </thead>\n",
       "  <tbody>\n",
       "    <tr>\n",
       "      <th>0</th>\n",
       "      <td>59.0137</td>\n",
       "      <td>349.2758</td>\n",
       "      <td>0.701044</td>\n",
       "    </tr>\n",
       "    <tr>\n",
       "      <th>1</th>\n",
       "      <td>59.0137</td>\n",
       "      <td>350.2793</td>\n",
       "      <td>0.706849</td>\n",
       "    </tr>\n",
       "    <tr>\n",
       "      <th>2</th>\n",
       "      <td>59.0137</td>\n",
       "      <td>350.3033</td>\n",
       "      <td>0.736142</td>\n",
       "    </tr>\n",
       "    <tr>\n",
       "      <th>3</th>\n",
       "      <td>59.0137</td>\n",
       "      <td>389.2739</td>\n",
       "      <td>0.773249</td>\n",
       "    </tr>\n",
       "    <tr>\n",
       "      <th>4</th>\n",
       "      <td>59.0137</td>\n",
       "      <td>389.2907</td>\n",
       "      <td>0.874667</td>\n",
       "    </tr>\n",
       "  </tbody>\n",
       "</table>\n",
       "</div>"
      ],
      "text/plain": [
       "    source    target    weight\n",
       "0  59.0137  349.2758  0.701044\n",
       "1  59.0137  350.2793  0.706849\n",
       "2  59.0137  350.3033  0.736142\n",
       "3  59.0137  389.2739  0.773249\n",
       "4  59.0137  389.2907  0.874667"
      ]
     },
     "execution_count": 137,
     "metadata": {},
     "output_type": "execute_result"
    },
    {
     "name": "stdout",
     "output_type": "stream",
     "text": [
      "time: 21.5 ms (started: 2023-06-02 18:20:16 -05:00)\n"
     ]
    }
   ],
   "source": [
    "df_common_edges = pd.read_csv(\"output/common_edges/common_edges_{}_{}.csv\".format(groups_id[0], method, dimension, \"L2\"))\n",
    "df_common_edges.head()"
   ]
  },
  {
   "cell_type": "code",
   "execution_count": 139,
   "metadata": {},
   "outputs": [
    {
     "name": "stderr",
     "output_type": "stream",
     "text": [
      "100%|██████████████████████████| 3/3 [00:00<00:00, 20.60it/s]"
     ]
    },
    {
     "name": "stdout",
     "output_type": "stream",
     "text": [
      "Group: WT\n",
      "Num. nodes: 1913\n",
      "Num. edges: 22986\n",
      "\n",
      "Group: zwf1^\n",
      "Num. nodes: 1913\n",
      "Num. edges: 22986\n",
      "\n",
      "Group: pck1^\n",
      "Num. nodes: 1913\n",
      "Num. edges: 22986\n",
      "\n",
      "time: 151 ms (started: 2023-06-02 18:21:25 -05:00)\n"
     ]
    },
    {
     "name": "stderr",
     "output_type": "stream",
     "text": [
      "\n"
     ]
    }
   ],
   "source": [
    "# show details\n",
    "for group in tqdm(groups_id):\n",
    "    df_common_edges = pd.read_csv(\"output/common_edges/common_edges_{}_{}.csv\".format(groups_id[0], method, dimension, \"L2\"))\n",
    "    \n",
    "    G = nx.from_pandas_edgelist(df_common_edges, \"source\", \"target\", edge_attr=[\"weight\"])\n",
    "    print(\"Group: {}\".format(group))\n",
    "    graph_detail(G)"
   ]
  }
 ],
 "metadata": {
  "kernelspec": {
   "display_name": "Python 3 (ipykernel)",
   "language": "python",
   "name": "python3"
  },
  "language_info": {
   "codemirror_mode": {
    "name": "ipython",
    "version": 3
   },
   "file_extension": ".py",
   "mimetype": "text/x-python",
   "name": "python",
   "nbconvert_exporter": "python",
   "pygments_lexer": "ipython3",
   "version": "3.10.11"
  },
  "orig_nbformat": 4
 },
 "nbformat": 4,
 "nbformat_minor": 2
}
