{
 "cells": [
  {
   "attachments": {},
   "cell_type": "markdown",
   "metadata": {},
   "source": [
    "### Imports"
   ]
  },
  {
   "cell_type": "code",
   "execution_count": 2,
   "metadata": {
    "notebookRunGroups": {
     "groupValue": "1"
    }
   },
   "outputs": [
    {
     "name": "stderr",
     "output_type": "stream",
     "text": [
      "/home/ealvarez/miniconda3/envs/Conda_dgl_3.10/lib/python3.10/site-packages/umap/distances.py:1063: NumbaDeprecationWarning: The 'nopython' keyword argument was not supplied to the 'numba.jit' decorator. The implicit default value for this argument is currently False, but it will be changed to True in Numba 0.59.0. See https://numba.readthedocs.io/en/stable/reference/deprecation.html#deprecation-of-object-mode-fall-back-behaviour-when-using-jit for details.\n",
      "  @numba.jit()\n",
      "/home/ealvarez/miniconda3/envs/Conda_dgl_3.10/lib/python3.10/site-packages/umap/distances.py:1071: NumbaDeprecationWarning: The 'nopython' keyword argument was not supplied to the 'numba.jit' decorator. The implicit default value for this argument is currently False, but it will be changed to True in Numba 0.59.0. See https://numba.readthedocs.io/en/stable/reference/deprecation.html#deprecation-of-object-mode-fall-back-behaviour-when-using-jit for details.\n",
      "  @numba.jit()\n",
      "/home/ealvarez/miniconda3/envs/Conda_dgl_3.10/lib/python3.10/site-packages/umap/distances.py:1086: NumbaDeprecationWarning: The 'nopython' keyword argument was not supplied to the 'numba.jit' decorator. The implicit default value for this argument is currently False, but it will be changed to True in Numba 0.59.0. See https://numba.readthedocs.io/en/stable/reference/deprecation.html#deprecation-of-object-mode-fall-back-behaviour-when-using-jit for details.\n",
      "  @numba.jit()\n",
      "/home/ealvarez/miniconda3/envs/Conda_dgl_3.10/lib/python3.10/site-packages/umap/umap_.py:660: NumbaDeprecationWarning: The 'nopython' keyword argument was not supplied to the 'numba.jit' decorator. The implicit default value for this argument is currently False, but it will be changed to True in Numba 0.59.0. See https://numba.readthedocs.io/en/stable/reference/deprecation.html#deprecation-of-object-mode-fall-back-behaviour-when-using-jit for details.\n",
      "  @numba.jit()\n"
     ]
    },
    {
     "name": "stdout",
     "output_type": "stream",
     "text": [
      "time: 176 µs (started: 2023-06-06 21:48:55 -05:00)\n"
     ]
    }
   ],
   "source": [
    "from pyod.models.ecod import ECOD\n",
    "from mpl_toolkits import mplot3d\n",
    "from sklearn.metrics import silhouette_score\n",
    "from sklearn.model_selection import RandomizedSearchCV\n",
    "from tqdm import tqdm\n",
    "from utils.utils import *\n",
    "\n",
    "import hdbscan\n",
    "import matplotlib.pyplot as plt\n",
    "import networkx as nx\n",
    "import numpy as np\n",
    "import os\n",
    "import pandas as pd\n",
    "import sys\n",
    "\n",
    "%load_ext autotime"
   ]
  },
  {
   "attachments": {},
   "cell_type": "markdown",
   "metadata": {},
   "source": [
    "### Parameters"
   ]
  },
  {
   "cell_type": "code",
   "execution_count": 3,
   "metadata": {
    "notebookRunGroups": {
     "groupValue": "1"
    }
   },
   "outputs": [
    {
     "name": "stdout",
     "output_type": "stream",
     "text": [
      "Exp:\t\t exp3\n",
      "Method:\t\t dgi\n",
      "Dimension:\t 3\n",
      "Groups id:\t ['WT', 'zwf1^', 'pck1^']\n",
      "Subgroups id:\t {'WT': ['1', '2', '3', '4', '5'], 'zwf1^': ['1', '2', '3'], 'pck1^': ['1', '2']}\n",
      "time: 2.4 ms (started: 2023-06-06 21:48:55 -05:00)\n"
     ]
    }
   ],
   "source": [
    "import json\n",
    "  \n",
    "# Opening JSON file\n",
    "file = open(\"parameters.json\")\n",
    "params = json.load(file)\n",
    "\n",
    "exp = params[\"exp\"]\n",
    "print(\"Exp:\\t\\t\", exp)\n",
    "\n",
    "method = params[\"method\"]\n",
    "print(\"Method:\\t\\t\", method)\n",
    "\n",
    "dimension = params[\"dimension\"]\n",
    "print(\"Dimension:\\t\", dimension)\n",
    "\n",
    "groups_id = params[\"groups_id\"]\n",
    "print(\"Groups id:\\t\", groups_id)\n",
    "\n",
    "subgroups_id = params[\"subgroups_id\"]\n",
    "print(\"Subgroups id:\\t\", subgroups_id)"
   ]
  },
  {
   "attachments": {},
   "cell_type": "markdown",
   "metadata": {},
   "source": [
    "### Edge embeddings"
   ]
  },
  {
   "cell_type": "code",
   "execution_count": 5,
   "metadata": {
    "notebookRunGroups": {
     "groupValue": ""
    }
   },
   "outputs": [
    {
     "name": "stderr",
     "output_type": "stream",
     "text": [
      "100%|██████████| 5/5 [16:21<00:00, 196.37s/it]\n",
      "100%|██████████| 3/3 [22:47<00:00, 455.80s/it]\n",
      "100%|██████████| 2/2 [08:02<00:00, 241.24s/it]]\n",
      "100%|██████████| 3/3 [47:11<00:00, 943.91s/it] "
     ]
    },
    {
     "name": "stdout",
     "output_type": "stream",
     "text": [
      "time: 47min 11s (started: 2023-06-06 14:39:07 -05:00)\n"
     ]
    },
    {
     "name": "stderr",
     "output_type": "stream",
     "text": [
      "\n"
     ]
    }
   ],
   "source": [
    "# get edges embeddings\n",
    "\n",
    "edge_embeddings_global(exp, method, dimension, groups_id, subgroups_id)"
   ]
  },
  {
   "cell_type": "code",
   "execution_count": 6,
   "metadata": {},
   "outputs": [
    {
     "data": {
      "text/html": [
       "<div>\n",
       "<style scoped>\n",
       "    .dataframe tbody tr th:only-of-type {\n",
       "        vertical-align: middle;\n",
       "    }\n",
       "\n",
       "    .dataframe tbody tr th {\n",
       "        vertical-align: top;\n",
       "    }\n",
       "\n",
       "    .dataframe thead th {\n",
       "        text-align: right;\n",
       "    }\n",
       "</style>\n",
       "<table border=\"1\" class=\"dataframe\">\n",
       "  <thead>\n",
       "    <tr style=\"text-align: right;\">\n",
       "      <th></th>\n",
       "      <th></th>\n",
       "      <th>0</th>\n",
       "      <th>1</th>\n",
       "      <th>2</th>\n",
       "    </tr>\n",
       "  </thead>\n",
       "  <tbody>\n",
       "    <tr>\n",
       "      <th rowspan=\"5\" valign=\"top\">0</th>\n",
       "      <th>1</th>\n",
       "      <td>1.141092e-03</td>\n",
       "      <td>2.844089e-09</td>\n",
       "      <td>1.935483e-03</td>\n",
       "    </tr>\n",
       "    <tr>\n",
       "      <th>2</th>\n",
       "      <td>5.719292e-09</td>\n",
       "      <td>1.831840e-11</td>\n",
       "      <td>1.119957e-08</td>\n",
       "    </tr>\n",
       "    <tr>\n",
       "      <th>3</th>\n",
       "      <td>1.711193e-03</td>\n",
       "      <td>4.984056e-08</td>\n",
       "      <td>2.932515e-03</td>\n",
       "    </tr>\n",
       "    <tr>\n",
       "      <th>4</th>\n",
       "      <td>1.806821e-04</td>\n",
       "      <td>1.005524e-07</td>\n",
       "      <td>3.249815e-04</td>\n",
       "    </tr>\n",
       "    <tr>\n",
       "      <th>5</th>\n",
       "      <td>3.780978e-04</td>\n",
       "      <td>5.817744e-10</td>\n",
       "      <td>6.364360e-04</td>\n",
       "    </tr>\n",
       "  </tbody>\n",
       "</table>\n",
       "</div>"
      ],
      "text/plain": [
       "                0             1             2\n",
       "0 1  1.141092e-03  2.844089e-09  1.935483e-03\n",
       "  2  5.719292e-09  1.831840e-11  1.119957e-08\n",
       "  3  1.711193e-03  4.984056e-08  2.932515e-03\n",
       "  4  1.806821e-04  1.005524e-07  3.249815e-04\n",
       "  5  3.780978e-04  5.817744e-10  6.364360e-04"
      ]
     },
     "execution_count": 6,
     "metadata": {},
     "output_type": "execute_result"
    },
    {
     "name": "stdout",
     "output_type": "stream",
     "text": [
      "time: 491 ms (started: 2023-06-06 15:26:19 -05:00)\n"
     ]
    }
   ],
   "source": [
    "df_edge_embeddings = pd.read_csv(\"output/{}/edge_embeddings/edge-embeddings_{}_{}_{}_{}_{}.csv\".format(exp, groups_id[0], subgroups_id[groups_id[0]][0], method, dimension, \"L2\"), index_col=[0, 1])\n",
    "df_edge_embeddings.head()"
   ]
  },
  {
   "attachments": {},
   "cell_type": "markdown",
   "metadata": {},
   "source": [
    "### Concat edge embeddings"
   ]
  },
  {
   "cell_type": "code",
   "execution_count": 7,
   "metadata": {
    "notebookRunGroups": {
     "groupValue": ""
    }
   },
   "outputs": [
    {
     "name": "stderr",
     "output_type": "stream",
     "text": [
      "100%|██████████| 5/5 [00:05<00:00,  1.17s/it]\n",
      "100%|██████████| 3/3 [00:08<00:00,  2.68s/it]\n",
      "100%|██████████| 2/2 [00:02<00:00,  1.31s/it]\n",
      "100%|██████████| 3/3 [03:02<00:00, 60.86s/it]"
     ]
    },
    {
     "name": "stdout",
     "output_type": "stream",
     "text": [
      "time: 3min 2s (started: 2023-06-06 15:26:19 -05:00)\n"
     ]
    },
    {
     "name": "stderr",
     "output_type": "stream",
     "text": [
      "\n"
     ]
    }
   ],
   "source": [
    "for group in tqdm(groups_id):\n",
    "    df_edge_embeddings_concat = pd.DataFrame()\n",
    "    for subgroup in tqdm(subgroups_id[group]):\n",
    "        df_edge_embeddings = pd.read_csv(\"output/{}/edge_embeddings/edge-embeddings_{}_{}_{}_{}_{}.csv\".format(exp, group, subgroup, method, dimension, \"L2\"), index_col=[0, 1])\n",
    "        df_edge_embeddings[\"subgroup\"] = [subgroup] * len(df_edge_embeddings)\n",
    "\n",
    "        df_edge_embeddings_concat = pd.concat([df_edge_embeddings_concat, df_edge_embeddings])\n",
    "    df_edge_embeddings_concat.to_csv(\"output/{}/edge_embeddings/edge-embeddings_concat_{}_{}_{}_{}.csv\".format(exp, group, method, dimension, \"L2\"), index=True)"
   ]
  },
  {
   "cell_type": "code",
   "execution_count": 8,
   "metadata": {
    "notebookRunGroups": {
     "groupValue": ""
    }
   },
   "outputs": [
    {
     "data": {
      "text/html": [
       "<div>\n",
       "<style scoped>\n",
       "    .dataframe tbody tr th:only-of-type {\n",
       "        vertical-align: middle;\n",
       "    }\n",
       "\n",
       "    .dataframe tbody tr th {\n",
       "        vertical-align: top;\n",
       "    }\n",
       "\n",
       "    .dataframe thead th {\n",
       "        text-align: right;\n",
       "    }\n",
       "</style>\n",
       "<table border=\"1\" class=\"dataframe\">\n",
       "  <thead>\n",
       "    <tr style=\"text-align: right;\">\n",
       "      <th></th>\n",
       "      <th></th>\n",
       "      <th>0</th>\n",
       "      <th>1</th>\n",
       "      <th>2</th>\n",
       "      <th>subgroup</th>\n",
       "    </tr>\n",
       "  </thead>\n",
       "  <tbody>\n",
       "    <tr>\n",
       "      <th rowspan=\"5\" valign=\"top\">0</th>\n",
       "      <th>1</th>\n",
       "      <td>1.141092e-03</td>\n",
       "      <td>2.844089e-09</td>\n",
       "      <td>1.935483e-03</td>\n",
       "      <td>1</td>\n",
       "    </tr>\n",
       "    <tr>\n",
       "      <th>2</th>\n",
       "      <td>5.719292e-09</td>\n",
       "      <td>1.831840e-11</td>\n",
       "      <td>1.119957e-08</td>\n",
       "      <td>1</td>\n",
       "    </tr>\n",
       "    <tr>\n",
       "      <th>3</th>\n",
       "      <td>1.711193e-03</td>\n",
       "      <td>4.984056e-08</td>\n",
       "      <td>2.932515e-03</td>\n",
       "      <td>1</td>\n",
       "    </tr>\n",
       "    <tr>\n",
       "      <th>4</th>\n",
       "      <td>1.806821e-04</td>\n",
       "      <td>1.005524e-07</td>\n",
       "      <td>3.249815e-04</td>\n",
       "      <td>1</td>\n",
       "    </tr>\n",
       "    <tr>\n",
       "      <th>5</th>\n",
       "      <td>3.780978e-04</td>\n",
       "      <td>5.817744e-10</td>\n",
       "      <td>6.364360e-04</td>\n",
       "      <td>1</td>\n",
       "    </tr>\n",
       "  </tbody>\n",
       "</table>\n",
       "</div>"
      ],
      "text/plain": [
       "                0             1             2  subgroup\n",
       "0 1  1.141092e-03  2.844089e-09  1.935483e-03         1\n",
       "  2  5.719292e-09  1.831840e-11  1.119957e-08         1\n",
       "  3  1.711193e-03  4.984056e-08  2.932515e-03         1\n",
       "  4  1.806821e-04  1.005524e-07  3.249815e-04         1\n",
       "  5  3.780978e-04  5.817744e-10  6.364360e-04         1"
      ]
     },
     "execution_count": 8,
     "metadata": {},
     "output_type": "execute_result"
    },
    {
     "name": "stdout",
     "output_type": "stream",
     "text": [
      "time: 4.78 s (started: 2023-06-06 15:29:22 -05:00)\n"
     ]
    }
   ],
   "source": [
    "df_edge_embeddings_concat = pd.read_csv(\"output/{}/edge_embeddings/edge-embeddings_concat_{}_{}_{}_{}.csv\".format(exp, groups_id[0], method, dimension, \"L2\"), index_col=[0, 1])\n",
    "df_edge_embeddings_concat.head()"
   ]
  },
  {
   "cell_type": "code",
   "execution_count": 9,
   "metadata": {},
   "outputs": [
    {
     "name": "stderr",
     "output_type": "stream",
     "text": [
      "100%|██████████| 3/3 [14:05<00:00, 281.93s/it]"
     ]
    },
    {
     "name": "stdout",
     "output_type": "stream",
     "text": [
      "time: 14min 5s (started: 2023-06-06 15:29:27 -05:00)\n"
     ]
    },
    {
     "name": "stderr",
     "output_type": "stream",
     "text": [
      "\n"
     ]
    }
   ],
   "source": [
    "# plot edge embeddings concat\n",
    "\n",
    "for group in tqdm(groups_id):\n",
    "    df_edge_embeddings_concat = pd.read_csv(\"output/{}/edge_embeddings/edge-embeddings_concat_{}_{}_{}_{}.csv\".format(exp, group, method, dimension, \"L2\"), index_col=[0, 1])\n",
    "\n",
    "    x = df_edge_embeddings_concat.iloc[:, 0]\n",
    "    y = df_edge_embeddings_concat.iloc[:, 1]\n",
    "    z = df_edge_embeddings_concat.iloc[:, 2]\n",
    "\n",
    "    # Creating figure\n",
    "    fig = plt.figure(figsize=(10, 7))\n",
    "    ax = plt.axes(projection=\"3d\")\n",
    "\n",
    "    # Creating plot\n",
    "    ax.scatter3D(x, y, z, c=df_edge_embeddings_concat.iloc[:, -1], alpha=0.1)\n",
    "    # plt.title(\"Dimension: {}\".format(dimension))\n",
    "\n",
    "    # show plot\n",
    "    plt.savefig(\"output/{}/plots/edge-embeddings_concat_{}_{}_{}_{}.png\".format(exp, group, method, dimension, \"L2\"))\n",
    "    # plt.show()\n",
    "    plt.close()"
   ]
  },
  {
   "attachments": {},
   "cell_type": "markdown",
   "metadata": {},
   "source": [
    "### Outliers detection"
   ]
  },
  {
   "cell_type": "code",
   "execution_count": 10,
   "metadata": {
    "notebookRunGroups": {
     "groupValue": ""
    }
   },
   "outputs": [
    {
     "data": {
      "text/plain": [
       "' df_edge_embeddings_concat = pd.read_csv(\"output/edge_embeddings/edge-embeddings_concat_{}_{}_{}_{}.csv\".format(group, method, dimension, \"L2\"), index_col=[0, 1])\\n\\nX_train = df_edge_embeddings_concat.iloc[:, :-1]\\nclusterer = hdbscan.HDBSCAN(min_cluster_size=100, core_dist_n_jobs=-1).fit(X_train)\\n\\nthreshold = pd.Series(clusterer.outlier_scores_).quantile(0.9)\\noutliers = np.where(clusterer.outlier_scores_ > threshold)[0]\\nprint(len(outliers))\\noutliers\\n\\ninliers = np.setdiff1d(np.arange(len(df_edge_embeddings_concat)), outliers)\\nprint(len(inliers))\\ninliers '"
      ]
     },
     "execution_count": 10,
     "metadata": {},
     "output_type": "execute_result"
    },
    {
     "name": "stdout",
     "output_type": "stream",
     "text": [
      "time: 4.64 ms (started: 2023-06-06 15:43:33 -05:00)\n"
     ]
    }
   ],
   "source": [
    "# Outlier detection (HDBSCAN)\n",
    "\n",
    "\"\"\" df_edge_embeddings_concat = pd.read_csv(\"output/edge_embeddings/edge-embeddings_concat_{}_{}_{}_{}.csv\".format(group, method, dimension, \"L2\"), index_col=[0, 1])\n",
    "\n",
    "X_train = df_edge_embeddings_concat.iloc[:, :-1]\n",
    "clusterer = hdbscan.HDBSCAN(min_cluster_size=100, core_dist_n_jobs=-1).fit(X_train)\n",
    "\n",
    "threshold = pd.Series(clusterer.outlier_scores_).quantile(0.9)\n",
    "outliers = np.where(clusterer.outlier_scores_ > threshold)[0]\n",
    "print(len(outliers))\n",
    "outliers\n",
    "\n",
    "inliers = np.setdiff1d(np.arange(len(df_edge_embeddings_concat)), outliers)\n",
    "print(len(inliers))\n",
    "inliers \"\"\""
   ]
  },
  {
   "cell_type": "code",
   "execution_count": 6,
   "metadata": {},
   "outputs": [
    {
     "name": "stderr",
     "output_type": "stream",
     "text": [
      "100%|██████████| 3/3 [01:01<00:00, 20.57s/it]"
     ]
    },
    {
     "name": "stdout",
     "output_type": "stream",
     "text": [
      "time: 1min 1s (started: 2023-06-06 21:51:30 -05:00)\n"
     ]
    },
    {
     "name": "stderr",
     "output_type": "stream",
     "text": [
      "\n"
     ]
    }
   ],
   "source": [
    "# outlier detection (ECOD)\n",
    "\n",
    "dict_df_edge_embeddings_concat_outlier = {}\n",
    "dict_df_edge_embeddings_concat_filter = {}\n",
    "\n",
    "for group in tqdm(groups_id):\n",
    "    df_edge_embeddings_concat = pd.read_csv(\"output/{}/edge_embeddings/edge-embeddings_concat_{}_{}_{}_{}.csv\".format(exp, group, method, dimension, \"L2\"), index_col=[0, 1])\n",
    "\n",
    "    X_train = df_edge_embeddings_concat.iloc[:, :-1]\n",
    "\n",
    "    clf = ECOD()\n",
    "    clf.fit(X_train)\n",
    "\n",
    "    X_train[\"labels\"] = clf.labels_ # binary labels (0: inliers, 1: outliers)\n",
    "\n",
    "    df_edge_embeddings_concat_filter = df_edge_embeddings_concat.copy()\n",
    "    df_edge_embeddings_concat_filter[\"labels\"] = clf.labels_\n",
    "    df_edge_embeddings_concat_filter = df_edge_embeddings_concat_filter[df_edge_embeddings_concat_filter[\"labels\"] == 0]\n",
    "    df_edge_embeddings_concat_filter = df_edge_embeddings_concat_filter.iloc[:, :-1]\n",
    "\n",
    "    dict_df_edge_embeddings_concat_outlier[group] = X_train\n",
    "    dict_df_edge_embeddings_concat_filter[group] = df_edge_embeddings_concat_filter"
   ]
  },
  {
   "cell_type": "code",
   "execution_count": 12,
   "metadata": {
    "notebookRunGroups": {
     "groupValue": ""
    }
   },
   "outputs": [
    {
     "name": "stderr",
     "output_type": "stream",
     "text": [
      "  0%|          | 0/3 [00:00<?, ?it/s]"
     ]
    },
    {
     "name": "stdout",
     "output_type": "stream",
     "text": [
      "Total: 12232238\n",
      "Num. of inliers: 11009014\n",
      "Num. of inliers: 1223224\n"
     ]
    },
    {
     "name": "stderr",
     "output_type": "stream",
     "text": [
      " 33%|███▎      | 1/3 [04:43<09:26, 283.02s/it]"
     ]
    },
    {
     "name": "stdout",
     "output_type": "stream",
     "text": [
      "Total: 17089033\n",
      "Num. of inliers: 15380129\n",
      "Num. of inliers: 1708904\n"
     ]
    },
    {
     "name": "stderr",
     "output_type": "stream",
     "text": [
      " 67%|██████▋   | 2/3 [11:22<05:51, 351.30s/it]"
     ]
    },
    {
     "name": "stdout",
     "output_type": "stream",
     "text": [
      "Total: 6044291\n",
      "Num. of inliers: 5439862\n",
      "Num. of inliers: 604429\n"
     ]
    },
    {
     "name": "stderr",
     "output_type": "stream",
     "text": [
      "100%|██████████| 3/3 [13:40<00:00, 273.56s/it]"
     ]
    },
    {
     "name": "stdout",
     "output_type": "stream",
     "text": [
      "time: 13min 40s (started: 2023-06-06 15:44:33 -05:00)\n"
     ]
    },
    {
     "name": "stderr",
     "output_type": "stream",
     "text": [
      "\n"
     ]
    }
   ],
   "source": [
    "# plot outliers/inliers\n",
    "\n",
    "for group in tqdm(groups_id):\n",
    "    fig = plt.figure(figsize = (10, 7))\n",
    "    ax = plt.axes(projection =\"3d\")\n",
    "\n",
    "    df_aux = dict_df_edge_embeddings_concat_outlier[group]\n",
    "    print(\"Total:\", len(df_aux))\n",
    "    \n",
    "    temp = df_aux[df_aux[\"labels\"] == 0]\n",
    "    x = temp.iloc[:, 0]\n",
    "    y = temp.iloc[:, 1]\n",
    "    z = temp.iloc[:, 2]\n",
    "    ax.scatter3D(x, y, z, c=\"red\", alpha=0.005)\n",
    "    print(\"Num. of inliers:\", len(temp))\n",
    "\n",
    "    temp = df_aux[df_aux[\"labels\"] == 1]\n",
    "    x = temp.iloc[:, 0]\n",
    "    y = temp.iloc[:, 1]\n",
    "    z = temp.iloc[:, 2]\n",
    "    ax.scatter3D(x, y, z, c=\"gray\", alpha=0.005)\n",
    "    print(\"Num. of inliers:\", len(temp))\n",
    "\n",
    "    # show plot\n",
    "    plt.savefig(\"output/{}/plots/edge-embeddings_outlier_{}_{}_{}_{}.png\".format(exp, group, method, dimension, \"L2\"))\n",
    "    # plt.show()\n",
    "    plt.close()"
   ]
  },
  {
   "attachments": {},
   "cell_type": "markdown",
   "metadata": {},
   "source": [
    "###  Filter common edges"
   ]
  },
  {
   "cell_type": "code",
   "execution_count": 8,
   "metadata": {},
   "outputs": [
    {
     "name": "stderr",
     "output_type": "stream",
     "text": [
      "7it [00:00, 15204.62it/s]00<?, ?it/s]\n",
      "  0%|          | 0/3 [00:00<?, ?it/s]\n"
     ]
    },
    {
     "ename": "IndexError",
     "evalue": "index 6234 is out of bounds for axis 0 with size 6234",
     "output_type": "error",
     "traceback": [
      "\u001b[0;31m---------------------------------------------------------------------------\u001b[0m",
      "\u001b[0;31mIndexError\u001b[0m                                Traceback (most recent call last)",
      "\u001b[0;32m/tmp/ipykernel_523281/1964617734.py\u001b[0m in \u001b[0;36m?\u001b[0;34m()\u001b[0m\n\u001b[1;32m     11\u001b[0m     \u001b[0mlist_index\u001b[0m \u001b[0;34m=\u001b[0m \u001b[0;34m[\u001b[0m\u001b[0;34m]\u001b[0m\u001b[0;34m\u001b[0m\u001b[0;34m\u001b[0m\u001b[0m\n\u001b[1;32m     12\u001b[0m \u001b[0;34m\u001b[0m\u001b[0m\n\u001b[1;32m     13\u001b[0m     \u001b[0;32mfor\u001b[0m \u001b[0mrow\u001b[0m \u001b[0;32min\u001b[0m \u001b[0mtqdm\u001b[0m\u001b[0;34m(\u001b[0m\u001b[0mdf_edge_embeddings_concat_filter\u001b[0m\u001b[0;34m.\u001b[0m\u001b[0mitertuples\u001b[0m\u001b[0;34m(\u001b[0m\u001b[0;34m)\u001b[0m\u001b[0;34m)\u001b[0m\u001b[0;34m:\u001b[0m\u001b[0;34m\u001b[0m\u001b[0;34m\u001b[0m\u001b[0m\n\u001b[1;32m     14\u001b[0m         \u001b[0mdf_nodes\u001b[0m \u001b[0;34m=\u001b[0m \u001b[0mdict_df_nodes\u001b[0m\u001b[0;34m[\u001b[0m\u001b[0mstr\u001b[0m\u001b[0;34m(\u001b[0m\u001b[0mrow\u001b[0m\u001b[0;34m[\u001b[0m\u001b[0;34m-\u001b[0m\u001b[0;36m1\u001b[0m\u001b[0;34m]\u001b[0m\u001b[0;34m)\u001b[0m\u001b[0;34m]\u001b[0m\u001b[0;34m\u001b[0m\u001b[0;34m\u001b[0m\u001b[0m\n\u001b[0;32m---> 15\u001b[0;31m         \u001b[0mlist_index\u001b[0m\u001b[0;34m.\u001b[0m\u001b[0mappend\u001b[0m\u001b[0;34m(\u001b[0m\u001b[0;34m(\u001b[0m\u001b[0mdf_nodes\u001b[0m\u001b[0;34m.\u001b[0m\u001b[0miloc\u001b[0m\u001b[0;34m[\u001b[0m\u001b[0mrow\u001b[0m\u001b[0;34m[\u001b[0m\u001b[0;36m0\u001b[0m\u001b[0;34m]\u001b[0m\u001b[0;34m[\u001b[0m\u001b[0;36m0\u001b[0m\u001b[0;34m]\u001b[0m\u001b[0;34m,\u001b[0m \u001b[0;34m-\u001b[0m\u001b[0;36m1\u001b[0m\u001b[0;34m]\u001b[0m\u001b[0;34m,\u001b[0m \u001b[0mdf_nodes\u001b[0m\u001b[0;34m.\u001b[0m\u001b[0miloc\u001b[0m\u001b[0;34m[\u001b[0m\u001b[0mrow\u001b[0m\u001b[0;34m[\u001b[0m\u001b[0;36m0\u001b[0m\u001b[0;34m]\u001b[0m\u001b[0;34m[\u001b[0m\u001b[0;36m1\u001b[0m\u001b[0;34m]\u001b[0m\u001b[0;34m,\u001b[0m \u001b[0;34m-\u001b[0m\u001b[0;36m1\u001b[0m\u001b[0;34m]\u001b[0m\u001b[0;34m)\u001b[0m\u001b[0;34m)\u001b[0m\u001b[0;34m\u001b[0m\u001b[0;34m\u001b[0m\u001b[0m\n\u001b[0m\u001b[1;32m     16\u001b[0m \u001b[0;34m\u001b[0m\u001b[0m\n\u001b[1;32m     17\u001b[0m     \u001b[0;31m# set new index\u001b[0m\u001b[0;34m\u001b[0m\u001b[0;34m\u001b[0m\u001b[0m\n\u001b[1;32m     18\u001b[0m     \u001b[0mdf_edge_embeddings_concat_filter\u001b[0m\u001b[0;34m.\u001b[0m\u001b[0mset_index\u001b[0m\u001b[0;34m(\u001b[0m\u001b[0;34m[\u001b[0m\u001b[0mpd\u001b[0m\u001b[0;34m.\u001b[0m\u001b[0mIndex\u001b[0m\u001b[0;34m(\u001b[0m\u001b[0mlist_index\u001b[0m\u001b[0;34m)\u001b[0m\u001b[0;34m]\u001b[0m\u001b[0;34m,\u001b[0m \u001b[0minplace\u001b[0m\u001b[0;34m=\u001b[0m\u001b[0;32mTrue\u001b[0m\u001b[0;34m)\u001b[0m\u001b[0;34m\u001b[0m\u001b[0;34m\u001b[0m\u001b[0m\n",
      "\u001b[0;32m~/miniconda3/envs/Conda_dgl_3.10/lib/python3.10/site-packages/pandas/core/indexing.py\u001b[0m in \u001b[0;36m?\u001b[0;34m(self, key)\u001b[0m\n\u001b[1;32m   1062\u001b[0m         \u001b[0;32mif\u001b[0m \u001b[0mtype\u001b[0m\u001b[0;34m(\u001b[0m\u001b[0mkey\u001b[0m\u001b[0;34m)\u001b[0m \u001b[0;32mis\u001b[0m \u001b[0mtuple\u001b[0m\u001b[0;34m:\u001b[0m\u001b[0;34m\u001b[0m\u001b[0;34m\u001b[0m\u001b[0m\n\u001b[1;32m   1063\u001b[0m             \u001b[0mkey\u001b[0m \u001b[0;34m=\u001b[0m \u001b[0mtuple\u001b[0m\u001b[0;34m(\u001b[0m\u001b[0mlist\u001b[0m\u001b[0;34m(\u001b[0m\u001b[0mx\u001b[0m\u001b[0;34m)\u001b[0m \u001b[0;32mif\u001b[0m \u001b[0mis_iterator\u001b[0m\u001b[0;34m(\u001b[0m\u001b[0mx\u001b[0m\u001b[0;34m)\u001b[0m \u001b[0;32melse\u001b[0m \u001b[0mx\u001b[0m \u001b[0;32mfor\u001b[0m \u001b[0mx\u001b[0m \u001b[0;32min\u001b[0m \u001b[0mkey\u001b[0m\u001b[0;34m)\u001b[0m\u001b[0;34m\u001b[0m\u001b[0;34m\u001b[0m\u001b[0m\n\u001b[1;32m   1064\u001b[0m             \u001b[0mkey\u001b[0m \u001b[0;34m=\u001b[0m \u001b[0mtuple\u001b[0m\u001b[0;34m(\u001b[0m\u001b[0mcom\u001b[0m\u001b[0;34m.\u001b[0m\u001b[0mapply_if_callable\u001b[0m\u001b[0;34m(\u001b[0m\u001b[0mx\u001b[0m\u001b[0;34m,\u001b[0m \u001b[0mself\u001b[0m\u001b[0;34m.\u001b[0m\u001b[0mobj\u001b[0m\u001b[0;34m)\u001b[0m \u001b[0;32mfor\u001b[0m \u001b[0mx\u001b[0m \u001b[0;32min\u001b[0m \u001b[0mkey\u001b[0m\u001b[0;34m)\u001b[0m\u001b[0;34m\u001b[0m\u001b[0;34m\u001b[0m\u001b[0m\n\u001b[1;32m   1065\u001b[0m             \u001b[0;32mif\u001b[0m \u001b[0mself\u001b[0m\u001b[0;34m.\u001b[0m\u001b[0m_is_scalar_access\u001b[0m\u001b[0;34m(\u001b[0m\u001b[0mkey\u001b[0m\u001b[0;34m)\u001b[0m\u001b[0;34m:\u001b[0m\u001b[0;34m\u001b[0m\u001b[0;34m\u001b[0m\u001b[0m\n\u001b[0;32m-> 1066\u001b[0;31m                 \u001b[0;32mreturn\u001b[0m \u001b[0mself\u001b[0m\u001b[0;34m.\u001b[0m\u001b[0mobj\u001b[0m\u001b[0;34m.\u001b[0m\u001b[0m_get_value\u001b[0m\u001b[0;34m(\u001b[0m\u001b[0;34m*\u001b[0m\u001b[0mkey\u001b[0m\u001b[0;34m,\u001b[0m \u001b[0mtakeable\u001b[0m\u001b[0;34m=\u001b[0m\u001b[0mself\u001b[0m\u001b[0;34m.\u001b[0m\u001b[0m_takeable\u001b[0m\u001b[0;34m)\u001b[0m\u001b[0;34m\u001b[0m\u001b[0;34m\u001b[0m\u001b[0m\n\u001b[0m\u001b[1;32m   1067\u001b[0m             \u001b[0;32mreturn\u001b[0m \u001b[0mself\u001b[0m\u001b[0;34m.\u001b[0m\u001b[0m_getitem_tuple\u001b[0m\u001b[0;34m(\u001b[0m\u001b[0mkey\u001b[0m\u001b[0;34m)\u001b[0m\u001b[0;34m\u001b[0m\u001b[0;34m\u001b[0m\u001b[0m\n\u001b[1;32m   1068\u001b[0m         \u001b[0;32melse\u001b[0m\u001b[0;34m:\u001b[0m\u001b[0;34m\u001b[0m\u001b[0;34m\u001b[0m\u001b[0m\n\u001b[1;32m   1069\u001b[0m             \u001b[0;31m# we by definition only have the 0th axis\u001b[0m\u001b[0;34m\u001b[0m\u001b[0;34m\u001b[0m\u001b[0m\n",
      "\u001b[0;32m~/miniconda3/envs/Conda_dgl_3.10/lib/python3.10/site-packages/pandas/core/frame.py\u001b[0m in \u001b[0;36m?\u001b[0;34m(self, index, col, takeable)\u001b[0m\n\u001b[1;32m   3911\u001b[0m         \u001b[0;31m`\u001b[0m\u001b[0mself\u001b[0m\u001b[0;34m.\u001b[0m\u001b[0mcolumns\u001b[0m\u001b[0;34m.\u001b[0m\u001b[0m_index_as_unique\u001b[0m\u001b[0;31m`\u001b[0m\u001b[0;34m;\u001b[0m \u001b[0mCaller\u001b[0m \u001b[0;32mis\u001b[0m \u001b[0mresponsible\u001b[0m \u001b[0;32mfor\u001b[0m \u001b[0mchecking\u001b[0m\u001b[0;34m.\u001b[0m\u001b[0;34m\u001b[0m\u001b[0;34m\u001b[0m\u001b[0m\n\u001b[1;32m   3912\u001b[0m         \"\"\"\n\u001b[1;32m   3913\u001b[0m         \u001b[0;32mif\u001b[0m \u001b[0mtakeable\u001b[0m\u001b[0;34m:\u001b[0m\u001b[0;34m\u001b[0m\u001b[0;34m\u001b[0m\u001b[0m\n\u001b[1;32m   3914\u001b[0m             \u001b[0mseries\u001b[0m \u001b[0;34m=\u001b[0m \u001b[0mself\u001b[0m\u001b[0;34m.\u001b[0m\u001b[0m_ixs\u001b[0m\u001b[0;34m(\u001b[0m\u001b[0mcol\u001b[0m\u001b[0;34m,\u001b[0m \u001b[0maxis\u001b[0m\u001b[0;34m=\u001b[0m\u001b[0;36m1\u001b[0m\u001b[0;34m)\u001b[0m\u001b[0;34m\u001b[0m\u001b[0;34m\u001b[0m\u001b[0m\n\u001b[0;32m-> 3915\u001b[0;31m             \u001b[0;32mreturn\u001b[0m \u001b[0mseries\u001b[0m\u001b[0;34m.\u001b[0m\u001b[0m_values\u001b[0m\u001b[0;34m[\u001b[0m\u001b[0mindex\u001b[0m\u001b[0;34m]\u001b[0m\u001b[0;34m\u001b[0m\u001b[0;34m\u001b[0m\u001b[0m\n\u001b[0m\u001b[1;32m   3916\u001b[0m \u001b[0;34m\u001b[0m\u001b[0m\n\u001b[1;32m   3917\u001b[0m         \u001b[0mseries\u001b[0m \u001b[0;34m=\u001b[0m \u001b[0mself\u001b[0m\u001b[0;34m.\u001b[0m\u001b[0m_get_item_cache\u001b[0m\u001b[0;34m(\u001b[0m\u001b[0mcol\u001b[0m\u001b[0;34m)\u001b[0m\u001b[0;34m\u001b[0m\u001b[0;34m\u001b[0m\u001b[0m\n\u001b[1;32m   3918\u001b[0m         \u001b[0mengine\u001b[0m \u001b[0;34m=\u001b[0m \u001b[0mself\u001b[0m\u001b[0;34m.\u001b[0m\u001b[0mindex\u001b[0m\u001b[0;34m.\u001b[0m\u001b[0m_engine\u001b[0m\u001b[0;34m\u001b[0m\u001b[0;34m\u001b[0m\u001b[0m\n",
      "\u001b[0;31mIndexError\u001b[0m: index 6234 is out of bounds for axis 0 with size 6234"
     ]
    },
    {
     "name": "stdout",
     "output_type": "stream",
     "text": [
      "time: 50.3 ms (started: 2023-06-06 21:53:37 -05:00)\n"
     ]
    }
   ],
   "source": [
    "# mapping idx with id\n",
    "\n",
    "for group in tqdm(groups_id):\n",
    "    dict_df_nodes = {}\n",
    "    for subgroup in subgroups_id[group]:\n",
    "        df_nodes = pd.read_csv(\"output/{}/preprocessing/graphs_data/nodes_data_{}_{}.csv\".format(exp, group, subgroup))\n",
    "        dict_df_nodes[subgroup] = df_nodes\n",
    "    \n",
    "    # mapping\n",
    "    df_edge_embeddings_concat_filter = dict_df_edge_embeddings_concat_filter[group]\n",
    "    list_index = []\n",
    "\n",
    "    for row in tqdm(df_edge_embeddings_concat_filter.itertuples()):\n",
    "        df_nodes = dict_df_nodes[str(row[-1])]\n",
    "        list_index.append((df_nodes.iloc[row[0][0], -1], df_nodes.iloc[row[0][1], -1]))\n",
    "    \n",
    "    # set new index\n",
    "    df_edge_embeddings_concat_filter.set_index([pd.Index(list_index)], inplace=True)\n",
    "    df_edge_embeddings_concat_filter"
   ]
  },
  {
   "cell_type": "code",
   "execution_count": 14,
   "metadata": {},
   "outputs": [
    {
     "data": {
      "text/html": [
       "<div>\n",
       "<style scoped>\n",
       "    .dataframe tbody tr th:only-of-type {\n",
       "        vertical-align: middle;\n",
       "    }\n",
       "\n",
       "    .dataframe tbody tr th {\n",
       "        vertical-align: top;\n",
       "    }\n",
       "\n",
       "    .dataframe thead th {\n",
       "        text-align: right;\n",
       "    }\n",
       "</style>\n",
       "<table border=\"1\" class=\"dataframe\">\n",
       "  <thead>\n",
       "    <tr style=\"text-align: right;\">\n",
       "      <th></th>\n",
       "      <th></th>\n",
       "      <th>0</th>\n",
       "      <th>1</th>\n",
       "      <th>2</th>\n",
       "      <th>subgroup</th>\n",
       "    </tr>\n",
       "  </thead>\n",
       "  <tbody>\n",
       "    <tr>\n",
       "      <th rowspan=\"4\" valign=\"top\">59.0049</th>\n",
       "      <th>369.1213</th>\n",
       "      <td>0.001711</td>\n",
       "      <td>4.984056e-08</td>\n",
       "      <td>0.002933</td>\n",
       "      <td>1</td>\n",
       "    </tr>\n",
       "    <tr>\n",
       "      <th>641.1223</th>\n",
       "      <td>0.006827</td>\n",
       "      <td>3.969882e-07</td>\n",
       "      <td>0.011770</td>\n",
       "      <td>1</td>\n",
       "    </tr>\n",
       "    <tr>\n",
       "      <th>650.2145</th>\n",
       "      <td>0.005209</td>\n",
       "      <td>4.986055e-07</td>\n",
       "      <td>0.009032</td>\n",
       "      <td>1</td>\n",
       "    </tr>\n",
       "    <tr>\n",
       "      <th>977.8237</th>\n",
       "      <td>0.018792</td>\n",
       "      <td>6.724738e-06</td>\n",
       "      <td>0.033386</td>\n",
       "      <td>1</td>\n",
       "    </tr>\n",
       "    <tr>\n",
       "      <th>274.0123</th>\n",
       "      <th>191.0460</th>\n",
       "      <td>0.005130</td>\n",
       "      <td>3.045967e-06</td>\n",
       "      <td>0.009246</td>\n",
       "      <td>1</td>\n",
       "    </tr>\n",
       "  </tbody>\n",
       "</table>\n",
       "</div>"
      ],
      "text/plain": [
       "                          0             1         2  subgroup\n",
       "59.0049  369.1213  0.001711  4.984056e-08  0.002933         1\n",
       "         641.1223  0.006827  3.969882e-07  0.011770         1\n",
       "         650.2145  0.005209  4.986055e-07  0.009032         1\n",
       "         977.8237  0.018792  6.724738e-06  0.033386         1\n",
       "274.0123 191.0460  0.005130  3.045967e-06  0.009246         1"
      ]
     },
     "execution_count": 14,
     "metadata": {},
     "output_type": "execute_result"
    },
    {
     "name": "stdout",
     "output_type": "stream",
     "text": [
      "time: 12.9 ms (started: 2023-06-06 16:13:08 -05:00)\n"
     ]
    }
   ],
   "source": [
    "df_edge_embeddings_concat_filter = dict_df_edge_embeddings_concat_filter[groups_id[0]]\n",
    "df_edge_embeddings_concat_filter.head()"
   ]
  },
  {
   "cell_type": "code",
   "execution_count": 15,
   "metadata": {},
   "outputs": [
    {
     "name": "stderr",
     "output_type": "stream",
     "text": [
      "100%|██████████| 3/3 [00:09<00:00,  3.29s/it]"
     ]
    },
    {
     "name": "stdout",
     "output_type": "stream",
     "text": [
      "time: 9.88 s (started: 2023-06-06 16:13:08 -05:00)\n"
     ]
    },
    {
     "name": "stderr",
     "output_type": "stream",
     "text": [
      "\n"
     ]
    }
   ],
   "source": [
    "# count edges and filter by count\n",
    "\n",
    "dict_df_edges_filter = {}\n",
    "for group in tqdm(groups_id):\n",
    "    # count\n",
    "    df_edge_embeddings_concat_filter = dict_df_edge_embeddings_concat_filter[group]\n",
    "\n",
    "    df_edge_embeddings_concat_filter.reset_index(inplace=True)\n",
    "    df_edge_embeddings_concat_filter = df_edge_embeddings_concat_filter[[\"level_0\", \"level_1\"]].value_counts().to_frame()\n",
    "    df_edge_embeddings_concat_filter.reset_index(inplace=True)\n",
    "    df_edge_embeddings_concat_filter.columns = [\"source\", \"target\", \"count\"]\n",
    "\n",
    "    # filter\n",
    "    df_edge_embeddings_concat_filter = df_edge_embeddings_concat_filter[df_edge_embeddings_concat_filter[\"count\"] == len(subgroups_id[group])]\n",
    "    df_edge_embeddings_concat_filter = df_edge_embeddings_concat_filter.iloc[:, [0, 1]]\n",
    "    dict_df_edges_filter[group] = df_edge_embeddings_concat_filter"
   ]
  },
  {
   "cell_type": "code",
   "execution_count": 16,
   "metadata": {},
   "outputs": [
    {
     "data": {
      "text/html": [
       "<div>\n",
       "<style scoped>\n",
       "    .dataframe tbody tr th:only-of-type {\n",
       "        vertical-align: middle;\n",
       "    }\n",
       "\n",
       "    .dataframe tbody tr th {\n",
       "        vertical-align: top;\n",
       "    }\n",
       "\n",
       "    .dataframe thead th {\n",
       "        text-align: right;\n",
       "    }\n",
       "</style>\n",
       "<table border=\"1\" class=\"dataframe\">\n",
       "  <thead>\n",
       "    <tr style=\"text-align: right;\">\n",
       "      <th></th>\n",
       "      <th>source</th>\n",
       "      <th>target</th>\n",
       "    </tr>\n",
       "  </thead>\n",
       "  <tbody>\n",
       "    <tr>\n",
       "      <th>0</th>\n",
       "      <td>154.9474</td>\n",
       "      <td>514.2847</td>\n",
       "    </tr>\n",
       "    <tr>\n",
       "      <th>1</th>\n",
       "      <td>733.4850</td>\n",
       "      <td>819.5543</td>\n",
       "    </tr>\n",
       "    <tr>\n",
       "      <th>2</th>\n",
       "      <td>345.2141</td>\n",
       "      <td>601.1384</td>\n",
       "    </tr>\n",
       "    <tr>\n",
       "      <th>3</th>\n",
       "      <td>275.0653</td>\n",
       "      <td>359.1576</td>\n",
       "    </tr>\n",
       "    <tr>\n",
       "      <th>4</th>\n",
       "      <td>819.5939</td>\n",
       "      <td>943.5357</td>\n",
       "    </tr>\n",
       "  </tbody>\n",
       "</table>\n",
       "</div>"
      ],
      "text/plain": [
       "     source    target\n",
       "0  154.9474  514.2847\n",
       "1  733.4850  819.5543\n",
       "2  345.2141  601.1384\n",
       "3  275.0653  359.1576\n",
       "4  819.5939  943.5357"
      ]
     },
     "execution_count": 16,
     "metadata": {},
     "output_type": "execute_result"
    },
    {
     "name": "stdout",
     "output_type": "stream",
     "text": [
      "time: 10.5 ms (started: 2023-06-06 16:13:18 -05:00)\n"
     ]
    }
   ],
   "source": [
    "df_edges_filter = dict_df_edges_filter[groups_id[0]]\n",
    "df_edges_filter.head()"
   ]
  },
  {
   "cell_type": "code",
   "execution_count": 17,
   "metadata": {
    "notebookRunGroups": {
     "groupValue": "2"
    }
   },
   "outputs": [
    {
     "name": "stderr",
     "output_type": "stream",
     "text": [
      "100%|██████████| 5/5 [00:15<00:00,  3.04s/it]\n",
      "100%|██████████| 3/3 [00:23<00:00,  7.92s/it]\n",
      "100%|██████████| 2/2 [00:08<00:00,  4.19s/it]\n",
      "100%|██████████| 3/3 [00:49<00:00, 16.36s/it]\n"
     ]
    },
    {
     "data": {
      "text/html": [
       "<div>\n",
       "<style scoped>\n",
       "    .dataframe tbody tr th:only-of-type {\n",
       "        vertical-align: middle;\n",
       "    }\n",
       "\n",
       "    .dataframe tbody tr th {\n",
       "        vertical-align: top;\n",
       "    }\n",
       "\n",
       "    .dataframe thead th {\n",
       "        text-align: right;\n",
       "    }\n",
       "</style>\n",
       "<table border=\"1\" class=\"dataframe\">\n",
       "  <thead>\n",
       "    <tr style=\"text-align: right;\">\n",
       "      <th></th>\n",
       "      <th>source</th>\n",
       "      <th>target</th>\n",
       "      <th>subgroup1</th>\n",
       "      <th>subgroup2</th>\n",
       "      <th>subgroup3</th>\n",
       "      <th>subgroup4</th>\n",
       "      <th>subgroup5</th>\n",
       "    </tr>\n",
       "  </thead>\n",
       "  <tbody>\n",
       "    <tr>\n",
       "      <th>18755</th>\n",
       "      <td>59.0137</td>\n",
       "      <td>349.2758</td>\n",
       "      <td>0.796859</td>\n",
       "      <td>0.788310</td>\n",
       "      <td>0.560861</td>\n",
       "      <td>0.551982</td>\n",
       "      <td>0.807207</td>\n",
       "    </tr>\n",
       "    <tr>\n",
       "      <th>18748</th>\n",
       "      <td>59.0137</td>\n",
       "      <td>350.2793</td>\n",
       "      <td>0.807013</td>\n",
       "      <td>0.779306</td>\n",
       "      <td>0.576143</td>\n",
       "      <td>0.563560</td>\n",
       "      <td>0.808223</td>\n",
       "    </tr>\n",
       "    <tr>\n",
       "      <th>18747</th>\n",
       "      <td>59.0137</td>\n",
       "      <td>350.3033</td>\n",
       "      <td>0.854806</td>\n",
       "      <td>0.751778</td>\n",
       "      <td>0.539172</td>\n",
       "      <td>0.650983</td>\n",
       "      <td>0.883973</td>\n",
       "    </tr>\n",
       "    <tr>\n",
       "      <th>19218</th>\n",
       "      <td>59.0137</td>\n",
       "      <td>389.2739</td>\n",
       "      <td>0.823682</td>\n",
       "      <td>0.886260</td>\n",
       "      <td>0.723124</td>\n",
       "      <td>0.515230</td>\n",
       "      <td>0.917952</td>\n",
       "    </tr>\n",
       "    <tr>\n",
       "      <th>19232</th>\n",
       "      <td>59.0137</td>\n",
       "      <td>389.2907</td>\n",
       "      <td>0.887545</td>\n",
       "      <td>0.930750</td>\n",
       "      <td>0.839795</td>\n",
       "      <td>0.800743</td>\n",
       "      <td>0.914504</td>\n",
       "    </tr>\n",
       "  </tbody>\n",
       "</table>\n",
       "</div>"
      ],
      "text/plain": [
       "        source    target  subgroup1  subgroup2  subgroup3  subgroup4  \\\n",
       "18755  59.0137  349.2758   0.796859   0.788310   0.560861   0.551982   \n",
       "18748  59.0137  350.2793   0.807013   0.779306   0.576143   0.563560   \n",
       "18747  59.0137  350.3033   0.854806   0.751778   0.539172   0.650983   \n",
       "19218  59.0137  389.2739   0.823682   0.886260   0.723124   0.515230   \n",
       "19232  59.0137  389.2907   0.887545   0.930750   0.839795   0.800743   \n",
       "\n",
       "       subgroup5  \n",
       "18755   0.807207  \n",
       "18748   0.808223  \n",
       "18747   0.883973  \n",
       "19218   0.917952  \n",
       "19232   0.914504  "
      ]
     },
     "execution_count": 17,
     "metadata": {},
     "output_type": "execute_result"
    },
    {
     "name": "stdout",
     "output_type": "stream",
     "text": [
      "time: 49.2 s (started: 2023-06-06 16:13:18 -05:00)\n"
     ]
    }
   ],
   "source": [
    "# get weight by subgroups\n",
    "\n",
    "dict_df_edges_filter_weight = get_weight_global(dict_df_edges_filter, exp, groups_id, subgroups_id)\n",
    "df_edges_filter_weight = dict_df_edges_filter_weight[groups_id[0]]\n",
    "df_edges_filter_weight.head()"
   ]
  },
  {
   "cell_type": "code",
   "execution_count": 18,
   "metadata": {},
   "outputs": [
    {
     "data": {
      "text/html": [
       "<div>\n",
       "<style scoped>\n",
       "    .dataframe tbody tr th:only-of-type {\n",
       "        vertical-align: middle;\n",
       "    }\n",
       "\n",
       "    .dataframe tbody tr th {\n",
       "        vertical-align: top;\n",
       "    }\n",
       "\n",
       "    .dataframe thead th {\n",
       "        text-align: right;\n",
       "    }\n",
       "</style>\n",
       "<table border=\"1\" class=\"dataframe\">\n",
       "  <thead>\n",
       "    <tr style=\"text-align: right;\">\n",
       "      <th></th>\n",
       "      <th>source</th>\n",
       "      <th>target</th>\n",
       "      <th>subgroup1</th>\n",
       "      <th>subgroup2</th>\n",
       "      <th>subgroup3</th>\n",
       "      <th>subgroup4</th>\n",
       "      <th>subgroup5</th>\n",
       "    </tr>\n",
       "  </thead>\n",
       "  <tbody>\n",
       "    <tr>\n",
       "      <th>18755</th>\n",
       "      <td>59.0137</td>\n",
       "      <td>349.2758</td>\n",
       "      <td>0.796859</td>\n",
       "      <td>0.788310</td>\n",
       "      <td>0.560861</td>\n",
       "      <td>0.551982</td>\n",
       "      <td>0.807207</td>\n",
       "    </tr>\n",
       "    <tr>\n",
       "      <th>18748</th>\n",
       "      <td>59.0137</td>\n",
       "      <td>350.2793</td>\n",
       "      <td>0.807013</td>\n",
       "      <td>0.779306</td>\n",
       "      <td>0.576143</td>\n",
       "      <td>0.563560</td>\n",
       "      <td>0.808223</td>\n",
       "    </tr>\n",
       "    <tr>\n",
       "      <th>18747</th>\n",
       "      <td>59.0137</td>\n",
       "      <td>350.3033</td>\n",
       "      <td>0.854806</td>\n",
       "      <td>0.751778</td>\n",
       "      <td>0.539172</td>\n",
       "      <td>0.650983</td>\n",
       "      <td>0.883973</td>\n",
       "    </tr>\n",
       "    <tr>\n",
       "      <th>19218</th>\n",
       "      <td>59.0137</td>\n",
       "      <td>389.2739</td>\n",
       "      <td>0.823682</td>\n",
       "      <td>0.886260</td>\n",
       "      <td>0.723124</td>\n",
       "      <td>0.515230</td>\n",
       "      <td>0.917952</td>\n",
       "    </tr>\n",
       "    <tr>\n",
       "      <th>19232</th>\n",
       "      <td>59.0137</td>\n",
       "      <td>389.2907</td>\n",
       "      <td>0.887545</td>\n",
       "      <td>0.930750</td>\n",
       "      <td>0.839795</td>\n",
       "      <td>0.800743</td>\n",
       "      <td>0.914504</td>\n",
       "    </tr>\n",
       "  </tbody>\n",
       "</table>\n",
       "</div>"
      ],
      "text/plain": [
       "        source    target  subgroup1  subgroup2  subgroup3  subgroup4  \\\n",
       "18755  59.0137  349.2758   0.796859   0.788310   0.560861   0.551982   \n",
       "18748  59.0137  350.2793   0.807013   0.779306   0.576143   0.563560   \n",
       "18747  59.0137  350.3033   0.854806   0.751778   0.539172   0.650983   \n",
       "19218  59.0137  389.2739   0.823682   0.886260   0.723124   0.515230   \n",
       "19232  59.0137  389.2907   0.887545   0.930750   0.839795   0.800743   \n",
       "\n",
       "       subgroup5  \n",
       "18755   0.807207  \n",
       "18748   0.808223  \n",
       "18747   0.883973  \n",
       "19218   0.917952  \n",
       "19232   0.914504  "
      ]
     },
     "execution_count": 18,
     "metadata": {},
     "output_type": "execute_result"
    },
    {
     "name": "stdout",
     "output_type": "stream",
     "text": [
      "time: 13.7 ms (started: 2023-06-06 16:14:07 -05:00)\n"
     ]
    }
   ],
   "source": [
    "df_edges_filter_weight = dict_df_edges_filter_weight[groups_id[0]]\n",
    "df_edges_filter_weight.head()"
   ]
  },
  {
   "attachments": {},
   "cell_type": "markdown",
   "metadata": {},
   "source": [
    "### Filter by STD and average weight"
   ]
  },
  {
   "cell_type": "code",
   "execution_count": 19,
   "metadata": {
    "notebookRunGroups": {
     "groupValue": "2"
    }
   },
   "outputs": [
    {
     "name": "stderr",
     "output_type": "stream",
     "text": [
      "100%|██████████| 3/3 [00:15<00:00,  5.19s/it]\n"
     ]
    },
    {
     "data": {
      "text/html": [
       "<div>\n",
       "<style scoped>\n",
       "    .dataframe tbody tr th:only-of-type {\n",
       "        vertical-align: middle;\n",
       "    }\n",
       "\n",
       "    .dataframe tbody tr th {\n",
       "        vertical-align: top;\n",
       "    }\n",
       "\n",
       "    .dataframe thead th {\n",
       "        text-align: right;\n",
       "    }\n",
       "</style>\n",
       "<table border=\"1\" class=\"dataframe\">\n",
       "  <thead>\n",
       "    <tr style=\"text-align: right;\">\n",
       "      <th></th>\n",
       "      <th>source</th>\n",
       "      <th>target</th>\n",
       "      <th>weight</th>\n",
       "    </tr>\n",
       "  </thead>\n",
       "  <tbody>\n",
       "    <tr>\n",
       "      <th>0</th>\n",
       "      <td>59.0137</td>\n",
       "      <td>349.2758</td>\n",
       "      <td>0.701044</td>\n",
       "    </tr>\n",
       "    <tr>\n",
       "      <th>1</th>\n",
       "      <td>59.0137</td>\n",
       "      <td>350.2793</td>\n",
       "      <td>0.706849</td>\n",
       "    </tr>\n",
       "    <tr>\n",
       "      <th>2</th>\n",
       "      <td>59.0137</td>\n",
       "      <td>350.3033</td>\n",
       "      <td>0.736142</td>\n",
       "    </tr>\n",
       "    <tr>\n",
       "      <th>3</th>\n",
       "      <td>59.0137</td>\n",
       "      <td>389.2739</td>\n",
       "      <td>0.773249</td>\n",
       "    </tr>\n",
       "    <tr>\n",
       "      <th>4</th>\n",
       "      <td>59.0137</td>\n",
       "      <td>389.2907</td>\n",
       "      <td>0.874667</td>\n",
       "    </tr>\n",
       "  </tbody>\n",
       "</table>\n",
       "</div>"
      ],
      "text/plain": [
       "    source    target    weight\n",
       "0  59.0137  349.2758  0.701044\n",
       "1  59.0137  350.2793  0.706849\n",
       "2  59.0137  350.3033  0.736142\n",
       "3  59.0137  389.2739  0.773249\n",
       "4  59.0137  389.2907  0.874667"
      ]
     },
     "execution_count": 19,
     "metadata": {},
     "output_type": "execute_result"
    },
    {
     "name": "stdout",
     "output_type": "stream",
     "text": [
      "time: 15.6 s (started: 2023-06-06 16:14:07 -05:00)\n"
     ]
    }
   ],
   "source": [
    "dict_df_common_edges = std_global(dict_df_edges_filter_weight, exp, method, dimension, groups_id, th=0.3, plot=True, save=True)\n",
    "dict_df_common_edges[groups_id[0]].head()"
   ]
  },
  {
   "cell_type": "code",
   "execution_count": 20,
   "metadata": {},
   "outputs": [
    {
     "data": {
      "text/html": [
       "<div>\n",
       "<style scoped>\n",
       "    .dataframe tbody tr th:only-of-type {\n",
       "        vertical-align: middle;\n",
       "    }\n",
       "\n",
       "    .dataframe tbody tr th {\n",
       "        vertical-align: top;\n",
       "    }\n",
       "\n",
       "    .dataframe thead th {\n",
       "        text-align: right;\n",
       "    }\n",
       "</style>\n",
       "<table border=\"1\" class=\"dataframe\">\n",
       "  <thead>\n",
       "    <tr style=\"text-align: right;\">\n",
       "      <th></th>\n",
       "      <th>source</th>\n",
       "      <th>target</th>\n",
       "      <th>weight</th>\n",
       "    </tr>\n",
       "  </thead>\n",
       "  <tbody>\n",
       "    <tr>\n",
       "      <th>0</th>\n",
       "      <td>59.0137</td>\n",
       "      <td>349.2758</td>\n",
       "      <td>0.701044</td>\n",
       "    </tr>\n",
       "    <tr>\n",
       "      <th>1</th>\n",
       "      <td>59.0137</td>\n",
       "      <td>350.2793</td>\n",
       "      <td>0.706849</td>\n",
       "    </tr>\n",
       "    <tr>\n",
       "      <th>2</th>\n",
       "      <td>59.0137</td>\n",
       "      <td>350.3033</td>\n",
       "      <td>0.736142</td>\n",
       "    </tr>\n",
       "    <tr>\n",
       "      <th>3</th>\n",
       "      <td>59.0137</td>\n",
       "      <td>389.2739</td>\n",
       "      <td>0.773249</td>\n",
       "    </tr>\n",
       "    <tr>\n",
       "      <th>4</th>\n",
       "      <td>59.0137</td>\n",
       "      <td>389.2907</td>\n",
       "      <td>0.874667</td>\n",
       "    </tr>\n",
       "  </tbody>\n",
       "</table>\n",
       "</div>"
      ],
      "text/plain": [
       "    source    target    weight\n",
       "0  59.0137  349.2758  0.701044\n",
       "1  59.0137  350.2793  0.706849\n",
       "2  59.0137  350.3033  0.736142\n",
       "3  59.0137  389.2739  0.773249\n",
       "4  59.0137  389.2907  0.874667"
      ]
     },
     "execution_count": 20,
     "metadata": {},
     "output_type": "execute_result"
    },
    {
     "name": "stdout",
     "output_type": "stream",
     "text": [
      "time: 16.8 ms (started: 2023-06-06 16:14:23 -05:00)\n"
     ]
    }
   ],
   "source": [
    "df_common_edges = pd.read_csv(\"output/{}/common_edges/common_edges_{}_{}_{}_{}.csv\".format(exp, groups_id[0], method, dimension, \"L2\"))\n",
    "df_common_edges.head()"
   ]
  },
  {
   "cell_type": "code",
   "execution_count": 21,
   "metadata": {},
   "outputs": [
    {
     "name": "stderr",
     "output_type": "stream",
     "text": [
      " 33%|███▎      | 1/3 [00:00<00:00,  2.14it/s]"
     ]
    },
    {
     "name": "stdout",
     "output_type": "stream",
     "text": [
      "Group: WT\n",
      "Num. nodes: 1916\n",
      "Num. edges: 23331\n",
      "\n"
     ]
    },
    {
     "name": "stderr",
     "output_type": "stream",
     "text": [
      " 67%|██████▋   | 2/3 [00:01<00:00,  1.29it/s]"
     ]
    },
    {
     "name": "stdout",
     "output_type": "stream",
     "text": [
      "Group: zwf1^\n",
      "Num. nodes: 4367\n",
      "Num. edges: 521944\n",
      "\n"
     ]
    },
    {
     "name": "stderr",
     "output_type": "stream",
     "text": [
      "100%|██████████| 3/3 [00:02<00:00,  1.30it/s]"
     ]
    },
    {
     "name": "stdout",
     "output_type": "stream",
     "text": [
      "Group: pck1^\n",
      "Num. nodes: 5046\n",
      "Num. edges: 454546\n",
      "\n",
      "time: 2.31 s (started: 2023-06-06 16:14:23 -05:00)\n"
     ]
    },
    {
     "name": "stderr",
     "output_type": "stream",
     "text": [
      "\n"
     ]
    }
   ],
   "source": [
    "# show details\n",
    "\n",
    "for group in tqdm(groups_id):\n",
    "    df_common_edges = pd.read_csv(\"output/{}/common_edges/common_edges_{}_{}_{}_{}.csv\".format(exp, group, method, dimension, \"L2\"))\n",
    "    \n",
    "    G = nx.from_pandas_edgelist(df_common_edges, \"source\", \"target\", edge_attr=[\"weight\"])\n",
    "    print(\"Group: {}\".format(group))\n",
    "    graph_detail(G)"
   ]
  }
 ],
 "metadata": {
  "kernelspec": {
   "display_name": "Python 3 (ipykernel)",
   "language": "python",
   "name": "python3"
  },
  "language_info": {
   "codemirror_mode": {
    "name": "ipython",
    "version": 3
   },
   "file_extension": ".py",
   "mimetype": "text/x-python",
   "name": "python",
   "nbconvert_exporter": "python",
   "pygments_lexer": "ipython3",
   "version": "3.10.11"
  },
  "orig_nbformat": 4
 },
 "nbformat": 4,
 "nbformat_minor": 2
}
