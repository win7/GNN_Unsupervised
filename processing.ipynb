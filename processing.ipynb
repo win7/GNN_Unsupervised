{
 "cells": [
  {
   "attachments": {},
   "cell_type": "markdown",
   "metadata": {},
   "source": [
    "### Imports"
   ]
  },
  {
   "cell_type": "code",
   "execution_count": 2,
   "metadata": {
    "notebookRunGroups": {
     "groupValue": "1"
    }
   },
   "outputs": [
    {
     "name": "stdout",
     "output_type": "stream",
     "text": [
      "The autotime extension is already loaded. To reload it, use:\n",
      "  %reload_ext autotime\n",
      "time: 848 µs (started: 2023-06-12 21:39:35 -05:00)\n"
     ]
    }
   ],
   "source": [
    "from pyod.models.ecod import ECOD\n",
    "from mpl_toolkits import mplot3d\n",
    "from sklearn.metrics import silhouette_score\n",
    "from sklearn.model_selection import RandomizedSearchCV\n",
    "from tqdm import tqdm\n",
    "from utils.utils import *\n",
    "\n",
    "import hdbscan\n",
    "import matplotlib.pyplot as plt\n",
    "import networkx as nx\n",
    "import numpy as np\n",
    "import os\n",
    "import pandas as pd\n",
    "import sys\n",
    "\n",
    "%load_ext autotime"
   ]
  },
  {
   "attachments": {},
   "cell_type": "markdown",
   "metadata": {},
   "source": [
    "### Parameters"
   ]
  },
  {
   "cell_type": "code",
   "execution_count": 3,
   "metadata": {
    "notebookRunGroups": {
     "groupValue": "1"
    }
   },
   "outputs": [
    {
     "name": "stdout",
     "output_type": "stream",
     "text": [
      "Exp:\t\t exp5\n",
      "Method:\t\t dgi\n",
      "Dimension:\t 3\n",
      "Groups id:\t ['s_WT', 's_zwf1^']\n",
      "Subgroups id:\t {'s_WT': ['1', '2', '3', '4', '5'], 's_zwf1^': ['1', '2', '3']}\n",
      "Option:\t\t \n",
      "Subgroups id op: {'s_WT': ['1', '2', '3', '4', '5'], 's_zwf1^': ['1', '2', '3']}\n",
      "time: 2.85 ms (started: 2023-06-12 21:39:35 -05:00)\n"
     ]
    }
   ],
   "source": [
    "import json\n",
    "  \n",
    "# Opening JSON file\n",
    "file = open(\"parameters.json\")\n",
    "params = json.load(file)\n",
    "\n",
    "exp = params[\"exp\"]\n",
    "print(\"Exp:\\t\\t\", exp)\n",
    "\n",
    "method = params[\"method\"]\n",
    "print(\"Method:\\t\\t\", method)\n",
    "\n",
    "dimension = params[\"dimension\"]\n",
    "print(\"Dimension:\\t\", dimension)\n",
    "\n",
    "groups_id = params[\"groups_id\"]\n",
    "print(\"Groups id:\\t\", groups_id)\n",
    "\n",
    "subgroups_id = params[\"subgroups_id\"]\n",
    "print(\"Subgroups id:\\t\", subgroups_id)\n",
    "\n",
    "option = params[\"option\"]\n",
    "print(\"Option:\\t\\t\", option)\n",
    "\n",
    "if option:\n",
    "    \n",
    "    subgroups_id_op = {}\n",
    "    for group in groups_id:\n",
    "        subgroups_id_op[group] = [option]\n",
    "else:\n",
    "    subgroups_id_op = subgroups_id\n",
    "print(\"Subgroups id op:\", subgroups_id_op)\n",
    "\n"
   ]
  },
  {
   "attachments": {},
   "cell_type": "markdown",
   "metadata": {},
   "source": [
    "### Edge embeddings"
   ]
  },
  {
   "cell_type": "code",
   "execution_count": 4,
   "metadata": {
    "notebookRunGroups": {
     "groupValue": ""
    }
   },
   "outputs": [
    {
     "name": "stderr",
     "output_type": "stream",
     "text": [
      "100%|██████████| 5/5 [01:01<00:00, 12.33s/it]\n",
      " 50%|█████     | 1/2 [01:01<01:01, 61.64s/it]"
     ]
    }
   ],
   "source": [
    "# get edges embeddings\n",
    "\n",
    "edge_embeddings_global(exp, method, groups_id, subgroups_id_op)"
   ]
  },
  {
   "cell_type": "code",
   "execution_count": null,
   "metadata": {},
   "outputs": [
    {
     "data": {
      "text/html": [
       "<div>\n",
       "<style scoped>\n",
       "    .dataframe tbody tr th:only-of-type {\n",
       "        vertical-align: middle;\n",
       "    }\n",
       "\n",
       "    .dataframe tbody tr th {\n",
       "        vertical-align: top;\n",
       "    }\n",
       "\n",
       "    .dataframe thead th {\n",
       "        text-align: right;\n",
       "    }\n",
       "</style>\n",
       "<table border=\"1\" class=\"dataframe\">\n",
       "  <thead>\n",
       "    <tr style=\"text-align: right;\">\n",
       "      <th></th>\n",
       "      <th></th>\n",
       "      <th>0</th>\n",
       "      <th>1</th>\n",
       "      <th>2</th>\n",
       "    </tr>\n",
       "  </thead>\n",
       "  <tbody>\n",
       "    <tr>\n",
       "      <th rowspan=\"5\" valign=\"top\">0</th>\n",
       "      <th>1</th>\n",
       "      <td>3.090705e-08</td>\n",
       "      <td>1.399957e-09</td>\n",
       "      <td>3.437019e-08</td>\n",
       "    </tr>\n",
       "    <tr>\n",
       "      <th>2</th>\n",
       "      <td>3.211228e-08</td>\n",
       "      <td>1.454888e-09</td>\n",
       "      <td>3.570928e-08</td>\n",
       "    </tr>\n",
       "    <tr>\n",
       "      <th>3</th>\n",
       "      <td>9.534077e-08</td>\n",
       "      <td>4.333721e-09</td>\n",
       "      <td>1.058793e-07</td>\n",
       "    </tr>\n",
       "    <tr>\n",
       "      <th>4</th>\n",
       "      <td>2.844974e-07</td>\n",
       "      <td>1.295818e-08</td>\n",
       "      <td>3.156855e-07</td>\n",
       "    </tr>\n",
       "    <tr>\n",
       "      <th>5</th>\n",
       "      <td>2.747919e-07</td>\n",
       "      <td>1.251333e-08</td>\n",
       "      <td>3.049414e-07</td>\n",
       "    </tr>\n",
       "  </tbody>\n",
       "</table>\n",
       "</div>"
      ],
      "text/plain": [
       "                0             1             2\n",
       "0 1  3.090705e-08  1.399957e-09  3.437019e-08\n",
       "  2  3.211228e-08  1.454888e-09  3.570928e-08\n",
       "  3  9.534077e-08  4.333721e-09  1.058793e-07\n",
       "  4  2.844974e-07  1.295818e-08  3.156855e-07\n",
       "  5  2.747919e-07  1.251333e-08  3.049414e-07"
      ]
     },
     "execution_count": 4,
     "metadata": {},
     "output_type": "execute_result"
    },
    {
     "name": "stdout",
     "output_type": "stream",
     "text": [
      "time: 536 ms (started: 2023-06-12 18:19:27 -05:00)\n"
     ]
    }
   ],
   "source": [
    "df_edge_embeddings = pd.read_csv(\"output/{}/edge_embeddings/edge-embeddings_{}_{}_{}.csv\".format(exp, method, groups_id[0], subgroups_id_op[groups_id[0]][0]), index_col=[0, 1])\n",
    "df_edge_embeddings.head()"
   ]
  },
  {
   "attachments": {},
   "cell_type": "markdown",
   "metadata": {},
   "source": [
    "### Concat edge embeddings"
   ]
  },
  {
   "cell_type": "code",
   "execution_count": null,
   "metadata": {
    "notebookRunGroups": {
     "groupValue": ""
    }
   },
   "outputs": [
    {
     "name": "stderr",
     "output_type": "stream",
     "text": [
      "100%|██████████| 1/1 [00:00<00:00,  1.38it/s]\n",
      "100%|██████████| 1/1 [00:00<00:00,  1.84it/s]\n",
      "100%|██████████| 2/2 [00:11<00:00,  5.70s/it]"
     ]
    },
    {
     "name": "stdout",
     "output_type": "stream",
     "text": [
      "time: 11.4 s (started: 2023-06-12 18:19:28 -05:00)\n"
     ]
    },
    {
     "name": "stderr",
     "output_type": "stream",
     "text": [
      "\n"
     ]
    }
   ],
   "source": [
    "for group in tqdm(groups_id):\n",
    "    df_edge_embeddings_concat = pd.DataFrame()\n",
    "    k = 0\n",
    "    for subgroup in tqdm(subgroups_id_op[group]):\n",
    "        df_edge_embeddings = pd.read_csv(\"output/{}/edge_embeddings/edge-embeddings_{}_{}_{}.csv\".format(exp, method, group, subgroup), index_col=[0, 1])\n",
    "        df_edge_embeddings[\"subgroup\"] = [k] * len(df_edge_embeddings)\n",
    "        df_edge_embeddings_concat = pd.concat([df_edge_embeddings_concat, df_edge_embeddings])\n",
    "        k += 1\n",
    "    \n",
    "    df_edge_embeddings_concat.to_csv(\"output/{}/edge_embeddings/edge-embeddings_concat_{}_{}_{}.csv\".format(exp, method, group, option), index=True)"
   ]
  },
  {
   "cell_type": "code",
   "execution_count": null,
   "metadata": {
    "notebookRunGroups": {
     "groupValue": ""
    }
   },
   "outputs": [
    {
     "data": {
      "text/html": [
       "<div>\n",
       "<style scoped>\n",
       "    .dataframe tbody tr th:only-of-type {\n",
       "        vertical-align: middle;\n",
       "    }\n",
       "\n",
       "    .dataframe tbody tr th {\n",
       "        vertical-align: top;\n",
       "    }\n",
       "\n",
       "    .dataframe thead th {\n",
       "        text-align: right;\n",
       "    }\n",
       "</style>\n",
       "<table border=\"1\" class=\"dataframe\">\n",
       "  <thead>\n",
       "    <tr style=\"text-align: right;\">\n",
       "      <th></th>\n",
       "      <th></th>\n",
       "      <th>0</th>\n",
       "      <th>1</th>\n",
       "      <th>2</th>\n",
       "      <th>subgroup</th>\n",
       "    </tr>\n",
       "  </thead>\n",
       "  <tbody>\n",
       "    <tr>\n",
       "      <th rowspan=\"5\" valign=\"top\">0</th>\n",
       "      <th>1</th>\n",
       "      <td>3.090705e-08</td>\n",
       "      <td>1.399957e-09</td>\n",
       "      <td>3.437019e-08</td>\n",
       "      <td>0</td>\n",
       "    </tr>\n",
       "    <tr>\n",
       "      <th>2</th>\n",
       "      <td>3.211228e-08</td>\n",
       "      <td>1.454888e-09</td>\n",
       "      <td>3.570928e-08</td>\n",
       "      <td>0</td>\n",
       "    </tr>\n",
       "    <tr>\n",
       "      <th>3</th>\n",
       "      <td>9.534077e-08</td>\n",
       "      <td>4.333721e-09</td>\n",
       "      <td>1.058793e-07</td>\n",
       "      <td>0</td>\n",
       "    </tr>\n",
       "    <tr>\n",
       "      <th>4</th>\n",
       "      <td>2.844974e-07</td>\n",
       "      <td>1.295818e-08</td>\n",
       "      <td>3.156855e-07</td>\n",
       "      <td>0</td>\n",
       "    </tr>\n",
       "    <tr>\n",
       "      <th>5</th>\n",
       "      <td>2.747919e-07</td>\n",
       "      <td>1.251333e-08</td>\n",
       "      <td>3.049414e-07</td>\n",
       "      <td>0</td>\n",
       "    </tr>\n",
       "  </tbody>\n",
       "</table>\n",
       "</div>"
      ],
      "text/plain": [
       "                0             1             2  subgroup\n",
       "0 1  3.090705e-08  1.399957e-09  3.437019e-08         0\n",
       "  2  3.211228e-08  1.454888e-09  3.570928e-08         0\n",
       "  3  9.534077e-08  4.333721e-09  1.058793e-07         0\n",
       "  4  2.844974e-07  1.295818e-08  3.156855e-07         0\n",
       "  5  2.747919e-07  1.251333e-08  3.049414e-07         0"
      ]
     },
     "execution_count": 6,
     "metadata": {},
     "output_type": "execute_result"
    },
    {
     "name": "stdout",
     "output_type": "stream",
     "text": [
      "time: 566 ms (started: 2023-06-12 18:19:39 -05:00)\n"
     ]
    }
   ],
   "source": [
    "df_edge_embeddings_concat = pd.read_csv(\"output/{}/edge_embeddings/edge-embeddings_concat_{}_{}_{}.csv\".format(exp, method, groups_id[0], option), index_col=[0, 1])\n",
    "df_edge_embeddings_concat.head()"
   ]
  },
  {
   "cell_type": "code",
   "execution_count": null,
   "metadata": {},
   "outputs": [
    {
     "name": "stderr",
     "output_type": "stream",
     "text": [
      "100%|██████████| 2/2 [00:51<00:00, 25.61s/it]\n"
     ]
    },
    {
     "data": {
      "text/plain": [
       "<Figure size 1000x700 with 0 Axes>"
      ]
     },
     "metadata": {},
     "output_type": "display_data"
    },
    {
     "data": {
      "text/plain": [
       "<Figure size 1000x700 with 0 Axes>"
      ]
     },
     "metadata": {},
     "output_type": "display_data"
    },
    {
     "name": "stdout",
     "output_type": "stream",
     "text": [
      "time: 51.2 s (started: 2023-06-12 18:19:40 -05:00)\n"
     ]
    }
   ],
   "source": [
    "# plot edge embeddings concat\n",
    "\n",
    "for group in tqdm(groups_id):\n",
    "    df_edge_embeddings_concat = pd.read_csv(\"output/{}/edge_embeddings/edge-embeddings_concat_{}_{}_{}.csv\".format(exp, method, group, option), index_col=[0, 1])\n",
    "\n",
    "    x = df_edge_embeddings_concat.iloc[:, 0]\n",
    "    y = df_edge_embeddings_concat.iloc[:, 1]\n",
    "    z = df_edge_embeddings_concat.iloc[:, 2]\n",
    "\n",
    "    # Creating figure\n",
    "    fig = plt.figure(figsize=(10, 7))\n",
    "    ax = plt.axes(projection=\"3d\")\n",
    "\n",
    "    # Creating plot\n",
    "    ax.scatter3D(x, y, z, c=df_edge_embeddings_concat.iloc[:, -1], alpha=0.1)\n",
    "    # plt.title(\"Dimension: {}\".format(dimension))\n",
    "\n",
    "    # show plot\n",
    "    plt.savefig(\"output/{}/plots/edge-embeddings_concat_{}_{}_{}.png\".format(exp, method, group, option))\n",
    "    # plt.show()\n",
    "    plt.clf()"
   ]
  },
  {
   "attachments": {},
   "cell_type": "markdown",
   "metadata": {},
   "source": [
    "### Outliers detection"
   ]
  },
  {
   "cell_type": "code",
   "execution_count": null,
   "metadata": {
    "notebookRunGroups": {
     "groupValue": ""
    }
   },
   "outputs": [
    {
     "data": {
      "text/plain": [
       "' df_edge_embeddings_concat = pd.read_csv(\"output/edge_embeddings/edge-embeddings_concat_{}_{}_{}_{}.csv\".format(group, method, dimension, \"L2\"), index_col=[0, 1])\\n\\nX_train = df_edge_embeddings_concat.iloc[:, :-1]\\nclusterer = hdbscan.HDBSCAN(min_cluster_size=100, core_dist_n_jobs=-1).fit(X_train)\\n\\nthreshold = pd.Series(clusterer.outlier_scores_).quantile(0.9)\\noutliers = np.where(clusterer.outlier_scores_ > threshold)[0]\\nprint(len(outliers))\\noutliers\\n\\ninliers = np.setdiff1d(np.arange(len(df_edge_embeddings_concat)), outliers)\\nprint(len(inliers))\\ninliers '"
      ]
     },
     "execution_count": 8,
     "metadata": {},
     "output_type": "execute_result"
    },
    {
     "name": "stdout",
     "output_type": "stream",
     "text": [
      "time: 3.18 ms (started: 2023-06-12 18:20:31 -05:00)\n"
     ]
    }
   ],
   "source": [
    "# Outlier detection (HDBSCAN)\n",
    "\n",
    "\"\"\" df_edge_embeddings_concat = pd.read_csv(\"output/edge_embeddings/edge-embeddings_concat_{}_{}_{}_{}.csv\".format(group, method, dimension, \"L2\"), index_col=[0, 1])\n",
    "\n",
    "X_train = df_edge_embeddings_concat.iloc[:, :-1]\n",
    "clusterer = hdbscan.HDBSCAN(min_cluster_size=100, core_dist_n_jobs=-1).fit(X_train)\n",
    "\n",
    "threshold = pd.Series(clusterer.outlier_scores_).quantile(0.9)\n",
    "outliers = np.where(clusterer.outlier_scores_ > threshold)[0]\n",
    "print(len(outliers))\n",
    "outliers\n",
    "\n",
    "inliers = np.setdiff1d(np.arange(len(df_edge_embeddings_concat)), outliers)\n",
    "print(len(inliers))\n",
    "inliers \"\"\""
   ]
  },
  {
   "cell_type": "code",
   "execution_count": null,
   "metadata": {},
   "outputs": [
    {
     "name": "stderr",
     "output_type": "stream",
     "text": [
      "  0%|          | 0/2 [00:00<?, ?it/s]"
     ]
    },
    {
     "name": "stderr",
     "output_type": "stream",
     "text": [
      "100%|██████████| 2/2 [00:02<00:00,  1.50s/it]"
     ]
    },
    {
     "name": "stdout",
     "output_type": "stream",
     "text": [
      "time: 3.01 s (started: 2023-06-12 18:20:31 -05:00)\n"
     ]
    },
    {
     "name": "stderr",
     "output_type": "stream",
     "text": [
      "\n"
     ]
    }
   ],
   "source": [
    "# outlier detection (ECOD)\n",
    "\n",
    "dict_df_edge_embeddings_concat_outlier = {}\n",
    "dict_df_edge_embeddings_concat_filter = {}\n",
    "\n",
    "for group in tqdm(groups_id):\n",
    "    df_edge_embeddings_concat = pd.read_csv(\"output/{}/edge_embeddings/edge-embeddings_concat_{}_{}_{}.csv\".format(exp, method, group, option), index_col=[0, 1])\n",
    "\n",
    "    X_train = df_edge_embeddings_concat.iloc[:, :-1]\n",
    "\n",
    "    clf = ECOD()\n",
    "    clf.fit(X_train)\n",
    "\n",
    "    X_train[\"labels\"] = clf.labels_ # binary labels (0: inliers, 1: outliers)\n",
    "\n",
    "    df_edge_embeddings_concat_filter = df_edge_embeddings_concat.copy()\n",
    "    df_edge_embeddings_concat_filter[\"labels\"] = clf.labels_\n",
    "    df_edge_embeddings_concat_filter = df_edge_embeddings_concat_filter[df_edge_embeddings_concat_filter[\"labels\"] == 0]\n",
    "    df_edge_embeddings_concat_filter = df_edge_embeddings_concat_filter.iloc[:, :-1]\n",
    "\n",
    "    dict_df_edge_embeddings_concat_outlier[group] = X_train\n",
    "    dict_df_edge_embeddings_concat_filter[group] = df_edge_embeddings_concat_filter"
   ]
  },
  {
   "cell_type": "code",
   "execution_count": null,
   "metadata": {},
   "outputs": [
    {
     "data": {
      "text/html": [
       "<div>\n",
       "<style scoped>\n",
       "    .dataframe tbody tr th:only-of-type {\n",
       "        vertical-align: middle;\n",
       "    }\n",
       "\n",
       "    .dataframe tbody tr th {\n",
       "        vertical-align: top;\n",
       "    }\n",
       "\n",
       "    .dataframe thead th {\n",
       "        text-align: right;\n",
       "    }\n",
       "</style>\n",
       "<table border=\"1\" class=\"dataframe\">\n",
       "  <thead>\n",
       "    <tr style=\"text-align: right;\">\n",
       "      <th></th>\n",
       "      <th></th>\n",
       "      <th>0</th>\n",
       "      <th>1</th>\n",
       "      <th>2</th>\n",
       "      <th>subgroup</th>\n",
       "    </tr>\n",
       "  </thead>\n",
       "  <tbody>\n",
       "    <tr>\n",
       "      <th rowspan=\"5\" valign=\"top\">0</th>\n",
       "      <th>27</th>\n",
       "      <td>0.000002</td>\n",
       "      <td>9.779630e-08</td>\n",
       "      <td>0.000002</td>\n",
       "      <td>0</td>\n",
       "    </tr>\n",
       "    <tr>\n",
       "      <th>30</th>\n",
       "      <td>0.000002</td>\n",
       "      <td>8.578397e-08</td>\n",
       "      <td>0.000002</td>\n",
       "      <td>0</td>\n",
       "    </tr>\n",
       "    <tr>\n",
       "      <th>32</th>\n",
       "      <td>0.000003</td>\n",
       "      <td>1.209815e-07</td>\n",
       "      <td>0.000003</td>\n",
       "      <td>0</td>\n",
       "    </tr>\n",
       "    <tr>\n",
       "      <th>33</th>\n",
       "      <td>0.000002</td>\n",
       "      <td>9.987875e-08</td>\n",
       "      <td>0.000002</td>\n",
       "      <td>0</td>\n",
       "    </tr>\n",
       "    <tr>\n",
       "      <th>34</th>\n",
       "      <td>0.000002</td>\n",
       "      <td>8.665900e-08</td>\n",
       "      <td>0.000002</td>\n",
       "      <td>0</td>\n",
       "    </tr>\n",
       "  </tbody>\n",
       "</table>\n",
       "</div>"
      ],
      "text/plain": [
       "             0             1         2  subgroup\n",
       "0 27  0.000002  9.779630e-08  0.000002         0\n",
       "  30  0.000002  8.578397e-08  0.000002         0\n",
       "  32  0.000003  1.209815e-07  0.000003         0\n",
       "  33  0.000002  9.987875e-08  0.000002         0\n",
       "  34  0.000002  8.665900e-08  0.000002         0"
      ]
     },
     "execution_count": 10,
     "metadata": {},
     "output_type": "execute_result"
    },
    {
     "name": "stdout",
     "output_type": "stream",
     "text": [
      "time: 12.4 ms (started: 2023-06-12 18:20:34 -05:00)\n"
     ]
    }
   ],
   "source": [
    "df_edge_embeddings_concat_filter = dict_df_edge_embeddings_concat_filter[groups_id[0]]\n",
    "df_edge_embeddings_concat_filter.head()"
   ]
  },
  {
   "cell_type": "code",
   "execution_count": null,
   "metadata": {
    "notebookRunGroups": {
     "groupValue": ""
    }
   },
   "outputs": [
    {
     "name": "stderr",
     "output_type": "stream",
     "text": [
      "  0%|          | 0/2 [00:00<?, ?it/s]"
     ]
    },
    {
     "name": "stdout",
     "output_type": "stream",
     "text": [
      "Total: 1251401\n",
      "Num. of inliers: 1126261\n",
      "Num. of inliers: 125140\n"
     ]
    },
    {
     "name": "stderr",
     "output_type": "stream",
     "text": [
      " 50%|█████     | 1/2 [00:29<00:29, 29.74s/it]"
     ]
    },
    {
     "name": "stdout",
     "output_type": "stream",
     "text": [
      "Total: 750347\n",
      "Num. of inliers: 675312\n",
      "Num. of inliers: 75035\n"
     ]
    },
    {
     "name": "stderr",
     "output_type": "stream",
     "text": [
      "100%|██████████| 2/2 [00:47<00:00, 23.83s/it]\n"
     ]
    },
    {
     "data": {
      "text/plain": [
       "<Figure size 1000x700 with 0 Axes>"
      ]
     },
     "metadata": {},
     "output_type": "display_data"
    },
    {
     "data": {
      "text/plain": [
       "<Figure size 1000x700 with 0 Axes>"
      ]
     },
     "metadata": {},
     "output_type": "display_data"
    },
    {
     "name": "stdout",
     "output_type": "stream",
     "text": [
      "time: 47.7 s (started: 2023-06-12 18:20:34 -05:00)\n"
     ]
    }
   ],
   "source": [
    "# plot outliers/inliers\n",
    "\n",
    "for group in tqdm(groups_id):\n",
    "    fig = plt.figure(figsize = (10, 7))\n",
    "    ax = plt.axes(projection =\"3d\")\n",
    "\n",
    "    df_aux = dict_df_edge_embeddings_concat_outlier[group]\n",
    "    print(\"Total:\", len(df_aux))\n",
    "    \n",
    "    temp = df_aux[df_aux[\"labels\"] == 0]\n",
    "    x = temp.iloc[:, 0]\n",
    "    y = temp.iloc[:, 1]\n",
    "    z = temp.iloc[:, 2]\n",
    "    ax.scatter3D(x, y, z, c=\"red\", alpha=0.005)\n",
    "    print(\"Num. of inliers:\", len(temp))\n",
    "\n",
    "    temp = df_aux[df_aux[\"labels\"] == 1]\n",
    "    x = temp.iloc[:, 0]\n",
    "    y = temp.iloc[:, 1]\n",
    "    z = temp.iloc[:, 2]\n",
    "    ax.scatter3D(x, y, z, c=\"gray\", alpha=0.005)\n",
    "    print(\"Num. of inliers:\", len(temp))\n",
    "\n",
    "    # show plot\n",
    "    plt.savefig(\"output/{}/plots/edge-embeddings_outlier_{}_{}_{}.png\".format(exp, method, group, option))\n",
    "    # plt.show()\n",
    "    plt.clf()"
   ]
  },
  {
   "attachments": {},
   "cell_type": "markdown",
   "metadata": {},
   "source": [
    "###  Filter common edges"
   ]
  },
  {
   "cell_type": "code",
   "execution_count": null,
   "metadata": {},
   "outputs": [
    {
     "name": "stdout",
     "output_type": "stream",
     "text": [
      "{'s_WT': ['1', '2', '3', '4', '5'], 's_zwf1^': ['1', '2', '3']}\n",
      "{'s_WT': ['dyn'], 's_zwf1^': ['dyn']}\n",
      "time: 300 µs (started: 2023-06-12 18:21:22 -05:00)\n"
     ]
    }
   ],
   "source": [
    "print(subgroups_id)\n",
    "print(subgroups_id_op)"
   ]
  },
  {
   "cell_type": "code",
   "execution_count": null,
   "metadata": {},
   "outputs": [
    {
     "name": "stderr",
     "output_type": "stream",
     "text": [
      "1126261it [00:30, 36829.16it/s]?it/s]\n",
      "675312it [00:18, 36352.98it/s]:31, 31.92s/it]\n",
      "100%|██████████| 2/2 [00:51<00:00, 25.66s/it]"
     ]
    },
    {
     "name": "stdout",
     "output_type": "stream",
     "text": [
      "time: 51.3 s (started: 2023-06-12 18:21:22 -05:00)\n"
     ]
    },
    {
     "name": "stderr",
     "output_type": "stream",
     "text": [
      "\n"
     ]
    }
   ],
   "source": [
    "# mapping idx with id\n",
    "\n",
    "for group in tqdm(groups_id):\n",
    "    dict_df_nodes = {}\n",
    "    for subgroup in subgroups_id_op[group]:\n",
    "        df_nodes = pd.read_csv(\"output/{}/preprocessing/graphs_data/nodes_data_{}_{}.csv\".format(exp, group, subgroup),\n",
    "                               dtype={\"id\": \"string\"})\n",
    "        dict_df_nodes[subgroup] = df_nodes\n",
    "    \n",
    "    # mapping\n",
    "    df_edge_embeddings_concat_filter = dict_df_edge_embeddings_concat_filter[group]\n",
    "    list_index = []\n",
    "    \n",
    "    for row in tqdm(df_edge_embeddings_concat_filter.itertuples()):\n",
    "        df_nodes = dict_df_nodes[subgroups_id_op[group][row[-1]]]\n",
    "        list_index.append((df_nodes.iloc[row[0][0], -1], df_nodes.iloc[row[0][1], -1]))\n",
    "    \n",
    "    # set new index\n",
    "    df_edge_embeddings_concat_filter.set_index([pd.Index(list_index)], inplace=True)"
   ]
  },
  {
   "cell_type": "code",
   "execution_count": null,
   "metadata": {},
   "outputs": [
    {
     "data": {
      "text/html": [
       "<div>\n",
       "<style scoped>\n",
       "    .dataframe tbody tr th:only-of-type {\n",
       "        vertical-align: middle;\n",
       "    }\n",
       "\n",
       "    .dataframe tbody tr th {\n",
       "        vertical-align: top;\n",
       "    }\n",
       "\n",
       "    .dataframe thead th {\n",
       "        text-align: right;\n",
       "    }\n",
       "</style>\n",
       "<table border=\"1\" class=\"dataframe\">\n",
       "  <thead>\n",
       "    <tr style=\"text-align: right;\">\n",
       "      <th></th>\n",
       "      <th></th>\n",
       "      <th>0</th>\n",
       "      <th>1</th>\n",
       "      <th>2</th>\n",
       "      <th>subgroup</th>\n",
       "    </tr>\n",
       "  </thead>\n",
       "  <tbody>\n",
       "    <tr>\n",
       "      <th rowspan=\"5\" valign=\"top\">A0</th>\n",
       "      <th>A52</th>\n",
       "      <td>0.000002</td>\n",
       "      <td>9.779630e-08</td>\n",
       "      <td>0.000002</td>\n",
       "      <td>0</td>\n",
       "    </tr>\n",
       "    <tr>\n",
       "      <th>A59</th>\n",
       "      <td>0.000002</td>\n",
       "      <td>8.578397e-08</td>\n",
       "      <td>0.000002</td>\n",
       "      <td>0</td>\n",
       "    </tr>\n",
       "    <tr>\n",
       "      <th>A67</th>\n",
       "      <td>0.000003</td>\n",
       "      <td>1.209815e-07</td>\n",
       "      <td>0.000003</td>\n",
       "      <td>0</td>\n",
       "    </tr>\n",
       "    <tr>\n",
       "      <th>A68</th>\n",
       "      <td>0.000002</td>\n",
       "      <td>9.987875e-08</td>\n",
       "      <td>0.000002</td>\n",
       "      <td>0</td>\n",
       "    </tr>\n",
       "    <tr>\n",
       "      <th>A69</th>\n",
       "      <td>0.000002</td>\n",
       "      <td>8.665900e-08</td>\n",
       "      <td>0.000002</td>\n",
       "      <td>0</td>\n",
       "    </tr>\n",
       "  </tbody>\n",
       "</table>\n",
       "</div>"
      ],
      "text/plain": [
       "               0             1         2  subgroup\n",
       "A0 A52  0.000002  9.779630e-08  0.000002         0\n",
       "   A59  0.000002  8.578397e-08  0.000002         0\n",
       "   A67  0.000003  1.209815e-07  0.000003         0\n",
       "   A68  0.000002  9.987875e-08  0.000002         0\n",
       "   A69  0.000002  8.665900e-08  0.000002         0"
      ]
     },
     "execution_count": 14,
     "metadata": {},
     "output_type": "execute_result"
    },
    {
     "name": "stdout",
     "output_type": "stream",
     "text": [
      "time: 9.05 ms (started: 2023-06-12 18:22:13 -05:00)\n"
     ]
    }
   ],
   "source": [
    "df_edge_embeddings_concat_filter = dict_df_edge_embeddings_concat_filter[groups_id[0]]\n",
    "df_edge_embeddings_concat_filter.head()"
   ]
  },
  {
   "cell_type": "code",
   "execution_count": null,
   "metadata": {},
   "outputs": [
    {
     "name": "stderr",
     "output_type": "stream",
     "text": [
      "  0%|          | 0/2 [00:00<?, ?it/s]"
     ]
    },
    {
     "name": "stderr",
     "output_type": "stream",
     "text": [
      "1126261it [00:01, 1096353.17it/s]\n",
      "675312it [00:00, 1051003.86it/s]2,  2.74s/it]\n",
      "100%|██████████| 2/2 [00:04<00:00,  2.17s/it]"
     ]
    },
    {
     "name": "stdout",
     "output_type": "stream",
     "text": [
      "time: 4.35 s (started: 2023-06-12 18:22:13 -05:00)\n"
     ]
    },
    {
     "name": "stderr",
     "output_type": "stream",
     "text": [
      "\n"
     ]
    }
   ],
   "source": [
    "# format id\n",
    "if option:\n",
    "    for group in tqdm(groups_id):\n",
    "        # format\n",
    "        df_edge_embeddings_concat_filter = dict_df_edge_embeddings_concat_filter[group]\n",
    "        list_index = []\n",
    "\n",
    "        for row in tqdm(df_edge_embeddings_concat_filter.itertuples()):\n",
    "            list_index.append((row[0][0][1:], row[0][1][1:]))\n",
    "        \n",
    "        # set new index\n",
    "        df_edge_embeddings_concat_filter.set_index([pd.Index(list_index)], inplace=True)\n",
    "        df_edge_embeddings_concat_filter"
   ]
  },
  {
   "cell_type": "code",
   "execution_count": null,
   "metadata": {},
   "outputs": [
    {
     "data": {
      "text/html": [
       "<div>\n",
       "<style scoped>\n",
       "    .dataframe tbody tr th:only-of-type {\n",
       "        vertical-align: middle;\n",
       "    }\n",
       "\n",
       "    .dataframe tbody tr th {\n",
       "        vertical-align: top;\n",
       "    }\n",
       "\n",
       "    .dataframe thead th {\n",
       "        text-align: right;\n",
       "    }\n",
       "</style>\n",
       "<table border=\"1\" class=\"dataframe\">\n",
       "  <thead>\n",
       "    <tr style=\"text-align: right;\">\n",
       "      <th></th>\n",
       "      <th></th>\n",
       "      <th>0</th>\n",
       "      <th>1</th>\n",
       "      <th>2</th>\n",
       "      <th>subgroup</th>\n",
       "    </tr>\n",
       "  </thead>\n",
       "  <tbody>\n",
       "    <tr>\n",
       "      <th rowspan=\"5\" valign=\"top\">0</th>\n",
       "      <th>52</th>\n",
       "      <td>0.000002</td>\n",
       "      <td>9.779630e-08</td>\n",
       "      <td>0.000002</td>\n",
       "      <td>0</td>\n",
       "    </tr>\n",
       "    <tr>\n",
       "      <th>59</th>\n",
       "      <td>0.000002</td>\n",
       "      <td>8.578397e-08</td>\n",
       "      <td>0.000002</td>\n",
       "      <td>0</td>\n",
       "    </tr>\n",
       "    <tr>\n",
       "      <th>67</th>\n",
       "      <td>0.000003</td>\n",
       "      <td>1.209815e-07</td>\n",
       "      <td>0.000003</td>\n",
       "      <td>0</td>\n",
       "    </tr>\n",
       "    <tr>\n",
       "      <th>68</th>\n",
       "      <td>0.000002</td>\n",
       "      <td>9.987875e-08</td>\n",
       "      <td>0.000002</td>\n",
       "      <td>0</td>\n",
       "    </tr>\n",
       "    <tr>\n",
       "      <th>69</th>\n",
       "      <td>0.000002</td>\n",
       "      <td>8.665900e-08</td>\n",
       "      <td>0.000002</td>\n",
       "      <td>0</td>\n",
       "    </tr>\n",
       "  </tbody>\n",
       "</table>\n",
       "</div>"
      ],
      "text/plain": [
       "             0             1         2  subgroup\n",
       "0 52  0.000002  9.779630e-08  0.000002         0\n",
       "  59  0.000002  8.578397e-08  0.000002         0\n",
       "  67  0.000003  1.209815e-07  0.000003         0\n",
       "  68  0.000002  9.987875e-08  0.000002         0\n",
       "  69  0.000002  8.665900e-08  0.000002         0"
      ]
     },
     "execution_count": 16,
     "metadata": {},
     "output_type": "execute_result"
    },
    {
     "name": "stdout",
     "output_type": "stream",
     "text": [
      "time: 9.47 ms (started: 2023-06-12 18:22:18 -05:00)\n"
     ]
    }
   ],
   "source": [
    "df_edge_embeddings_concat_filter = dict_df_edge_embeddings_concat_filter[groups_id[0]]\n",
    "df_edge_embeddings_concat_filter.head()"
   ]
  },
  {
   "cell_type": "code",
   "execution_count": null,
   "metadata": {},
   "outputs": [
    {
     "name": "stderr",
     "output_type": "stream",
     "text": [
      "100%|██████████| 2/2 [00:00<00:00, 12.10it/s]"
     ]
    },
    {
     "name": "stdout",
     "output_type": "stream",
     "text": [
      "time: 176 ms (started: 2023-06-12 18:22:18 -05:00)\n"
     ]
    },
    {
     "name": "stderr",
     "output_type": "stream",
     "text": [
      "\n"
     ]
    }
   ],
   "source": [
    "# filter diferente edges\n",
    "\n",
    "if option:\n",
    "    for group in tqdm(groups_id):\n",
    "        df_edge_embeddings_concat_filter = dict_df_edge_embeddings_concat_filter[group]\n",
    "        df_edge_embeddings_concat_filter = df_edge_embeddings_concat_filter[df_edge_embeddings_concat_filter.index.get_level_values(0) != df_edge_embeddings_concat_filter.index.get_level_values(1)]\n",
    "        dict_df_edge_embeddings_concat_filter[group] = df_edge_embeddings_concat_filter"
   ]
  },
  {
   "cell_type": "code",
   "execution_count": null,
   "metadata": {},
   "outputs": [
    {
     "name": "stdout",
     "output_type": "stream",
     "text": [
      "(1123201, 4)\n"
     ]
    },
    {
     "data": {
      "text/html": [
       "<div>\n",
       "<style scoped>\n",
       "    .dataframe tbody tr th:only-of-type {\n",
       "        vertical-align: middle;\n",
       "    }\n",
       "\n",
       "    .dataframe tbody tr th {\n",
       "        vertical-align: top;\n",
       "    }\n",
       "\n",
       "    .dataframe thead th {\n",
       "        text-align: right;\n",
       "    }\n",
       "</style>\n",
       "<table border=\"1\" class=\"dataframe\">\n",
       "  <thead>\n",
       "    <tr style=\"text-align: right;\">\n",
       "      <th></th>\n",
       "      <th></th>\n",
       "      <th>0</th>\n",
       "      <th>1</th>\n",
       "      <th>2</th>\n",
       "      <th>subgroup</th>\n",
       "    </tr>\n",
       "  </thead>\n",
       "  <tbody>\n",
       "    <tr>\n",
       "      <th rowspan=\"5\" valign=\"top\">0</th>\n",
       "      <th>52</th>\n",
       "      <td>0.000002</td>\n",
       "      <td>9.779630e-08</td>\n",
       "      <td>0.000002</td>\n",
       "      <td>0</td>\n",
       "    </tr>\n",
       "    <tr>\n",
       "      <th>59</th>\n",
       "      <td>0.000002</td>\n",
       "      <td>8.578397e-08</td>\n",
       "      <td>0.000002</td>\n",
       "      <td>0</td>\n",
       "    </tr>\n",
       "    <tr>\n",
       "      <th>67</th>\n",
       "      <td>0.000003</td>\n",
       "      <td>1.209815e-07</td>\n",
       "      <td>0.000003</td>\n",
       "      <td>0</td>\n",
       "    </tr>\n",
       "    <tr>\n",
       "      <th>68</th>\n",
       "      <td>0.000002</td>\n",
       "      <td>9.987875e-08</td>\n",
       "      <td>0.000002</td>\n",
       "      <td>0</td>\n",
       "    </tr>\n",
       "    <tr>\n",
       "      <th>69</th>\n",
       "      <td>0.000002</td>\n",
       "      <td>8.665900e-08</td>\n",
       "      <td>0.000002</td>\n",
       "      <td>0</td>\n",
       "    </tr>\n",
       "  </tbody>\n",
       "</table>\n",
       "</div>"
      ],
      "text/plain": [
       "             0             1         2  subgroup\n",
       "0 52  0.000002  9.779630e-08  0.000002         0\n",
       "  59  0.000002  8.578397e-08  0.000002         0\n",
       "  67  0.000003  1.209815e-07  0.000003         0\n",
       "  68  0.000002  9.987875e-08  0.000002         0\n",
       "  69  0.000002  8.665900e-08  0.000002         0"
      ]
     },
     "execution_count": 18,
     "metadata": {},
     "output_type": "execute_result"
    },
    {
     "name": "stdout",
     "output_type": "stream",
     "text": [
      "time: 6.47 ms (started: 2023-06-12 18:22:18 -05:00)\n"
     ]
    }
   ],
   "source": [
    "df_edge_embeddings_concat_filter = dict_df_edge_embeddings_concat_filter[groups_id[0]]\n",
    "print(df_edge_embeddings_concat_filter.shape)\n",
    "df_edge_embeddings_concat_filter.head()"
   ]
  },
  {
   "cell_type": "code",
   "execution_count": null,
   "metadata": {},
   "outputs": [
    {
     "name": "stderr",
     "output_type": "stream",
     "text": [
      "  0%|          | 0/2 [00:00<?, ?it/s]"
     ]
    },
    {
     "name": "stderr",
     "output_type": "stream",
     "text": [
      "100%|██████████| 2/2 [00:02<00:00,  1.35s/it]"
     ]
    },
    {
     "name": "stdout",
     "output_type": "stream",
     "text": [
      "time: 2.71 s (started: 2023-06-12 18:22:18 -05:00)\n"
     ]
    },
    {
     "name": "stderr",
     "output_type": "stream",
     "text": [
      "\n"
     ]
    }
   ],
   "source": [
    "# count edges and filter by count\n",
    "\n",
    "dict_df_edges_filter = {}\n",
    "for group in tqdm(groups_id):\n",
    "    # read\n",
    "    df_edge_embeddings_concat_filter = dict_df_edge_embeddings_concat_filter[group]\n",
    "\n",
    "    # format\n",
    "    df_edge_embeddings_concat_filter.reset_index(inplace=True)\n",
    "    df_edge_embeddings_concat_filter.rename(columns={\"level_0\": \"source\", \"level_1\": \"target\"}, inplace=True)\n",
    "    df_edge_embeddings_concat_filter[[\"source\", \"target\"]] = df_edge_embeddings_concat_filter[[\"source\", \"target\"]].astype(\"string\")\n",
    "    \n",
    "    # sort edges\n",
    "    sort_df_edges(df_edge_embeddings_concat_filter)\n",
    "\n",
    "    df_edge_embeddings_concat_filter = df_edge_embeddings_concat_filter[[\"source\", \"target\"]].value_counts().to_frame()\n",
    "    df_edge_embeddings_concat_filter.reset_index(inplace=True)\n",
    "    df_edge_embeddings_concat_filter.columns = [\"source\", \"target\", \"count\"]\n",
    "    \n",
    "    # filter\n",
    "    df_edge_embeddings_concat_filter = df_edge_embeddings_concat_filter[df_edge_embeddings_concat_filter[\"count\"] == len(subgroups_id[group])]\n",
    "    df_edge_embeddings_concat_filter = df_edge_embeddings_concat_filter.iloc[:, [0, 1]]\n",
    "    dict_df_edges_filter[group] = df_edge_embeddings_concat_filter"
   ]
  },
  {
   "cell_type": "code",
   "execution_count": null,
   "metadata": {},
   "outputs": [
    {
     "data": {
      "text/html": [
       "<div>\n",
       "<style scoped>\n",
       "    .dataframe tbody tr th:only-of-type {\n",
       "        vertical-align: middle;\n",
       "    }\n",
       "\n",
       "    .dataframe tbody tr th {\n",
       "        vertical-align: top;\n",
       "    }\n",
       "\n",
       "    .dataframe thead th {\n",
       "        text-align: right;\n",
       "    }\n",
       "</style>\n",
       "<table border=\"1\" class=\"dataframe\">\n",
       "  <thead>\n",
       "    <tr style=\"text-align: right;\">\n",
       "      <th></th>\n",
       "      <th>source</th>\n",
       "      <th>target</th>\n",
       "    </tr>\n",
       "  </thead>\n",
       "  <tbody>\n",
       "    <tr>\n",
       "      <th>0</th>\n",
       "      <td>535</td>\n",
       "      <td>701</td>\n",
       "    </tr>\n",
       "    <tr>\n",
       "      <th>1</th>\n",
       "      <td>371</td>\n",
       "      <td>552</td>\n",
       "    </tr>\n",
       "    <tr>\n",
       "      <th>2</th>\n",
       "      <td>371</td>\n",
       "      <td>545</td>\n",
       "    </tr>\n",
       "    <tr>\n",
       "      <th>3</th>\n",
       "      <td>283</td>\n",
       "      <td>464</td>\n",
       "    </tr>\n",
       "    <tr>\n",
       "      <th>4</th>\n",
       "      <td>744</td>\n",
       "      <td>924</td>\n",
       "    </tr>\n",
       "  </tbody>\n",
       "</table>\n",
       "</div>"
      ],
      "text/plain": [
       "  source target\n",
       "0    535    701\n",
       "1    371    552\n",
       "2    371    545\n",
       "3    283    464\n",
       "4    744    924"
      ]
     },
     "execution_count": 20,
     "metadata": {},
     "output_type": "execute_result"
    },
    {
     "name": "stdout",
     "output_type": "stream",
     "text": [
      "time: 8.31 ms (started: 2023-06-12 18:22:21 -05:00)\n"
     ]
    }
   ],
   "source": [
    "df_edges_filter = dict_df_edges_filter[groups_id[0]]\n",
    "df_edges_filter.head()"
   ]
  },
  {
   "cell_type": "code",
   "execution_count": null,
   "metadata": {},
   "outputs": [
    {
     "name": "stdout",
     "output_type": "stream",
     "text": [
      "<class 'pandas.core.frame.DataFrame'>\n",
      "Int64Index: 9557 entries, 0 to 9556\n",
      "Data columns (total 2 columns):\n",
      " #   Column  Non-Null Count  Dtype \n",
      "---  ------  --------------  ----- \n",
      " 0   source  9557 non-null   object\n",
      " 1   target  9557 non-null   object\n",
      "dtypes: object(2)\n",
      "memory usage: 224.0+ KB\n",
      "time: 25.3 ms (started: 2023-06-12 18:22:21 -05:00)\n"
     ]
    }
   ],
   "source": [
    "df_edges_filter.info()"
   ]
  },
  {
   "cell_type": "code",
   "execution_count": null,
   "metadata": {},
   "outputs": [
    {
     "name": "stderr",
     "output_type": "stream",
     "text": [
      "100%|██████████| 2/2 [00:00<00:00, 130.84it/s]"
     ]
    },
    {
     "name": "stdout",
     "output_type": "stream",
     "text": [
      "time: 29.1 ms (started: 2023-06-12 18:22:21 -05:00)\n"
     ]
    },
    {
     "name": "stderr",
     "output_type": "stream",
     "text": [
      "\n"
     ]
    }
   ],
   "source": [
    "# change data type\n",
    "for group in tqdm(groups_id):\n",
    "    df_edges_filter = dict_df_edges_filter[group]\n",
    "    df_edges_filter[[\"source\", \"target\"]] = df_edges_filter[[\"source\", \"target\"]].astype(\"string\")"
   ]
  },
  {
   "cell_type": "code",
   "execution_count": null,
   "metadata": {},
   "outputs": [
    {
     "data": {
      "text/html": [
       "<div>\n",
       "<style scoped>\n",
       "    .dataframe tbody tr th:only-of-type {\n",
       "        vertical-align: middle;\n",
       "    }\n",
       "\n",
       "    .dataframe tbody tr th {\n",
       "        vertical-align: top;\n",
       "    }\n",
       "\n",
       "    .dataframe thead th {\n",
       "        text-align: right;\n",
       "    }\n",
       "</style>\n",
       "<table border=\"1\" class=\"dataframe\">\n",
       "  <thead>\n",
       "    <tr style=\"text-align: right;\">\n",
       "      <th></th>\n",
       "      <th>source</th>\n",
       "      <th>target</th>\n",
       "    </tr>\n",
       "  </thead>\n",
       "  <tbody>\n",
       "    <tr>\n",
       "      <th>0</th>\n",
       "      <td>535</td>\n",
       "      <td>701</td>\n",
       "    </tr>\n",
       "    <tr>\n",
       "      <th>1</th>\n",
       "      <td>371</td>\n",
       "      <td>552</td>\n",
       "    </tr>\n",
       "    <tr>\n",
       "      <th>2</th>\n",
       "      <td>371</td>\n",
       "      <td>545</td>\n",
       "    </tr>\n",
       "    <tr>\n",
       "      <th>3</th>\n",
       "      <td>283</td>\n",
       "      <td>464</td>\n",
       "    </tr>\n",
       "    <tr>\n",
       "      <th>4</th>\n",
       "      <td>744</td>\n",
       "      <td>924</td>\n",
       "    </tr>\n",
       "  </tbody>\n",
       "</table>\n",
       "</div>"
      ],
      "text/plain": [
       "  source target\n",
       "0    535    701\n",
       "1    371    552\n",
       "2    371    545\n",
       "3    283    464\n",
       "4    744    924"
      ]
     },
     "execution_count": 23,
     "metadata": {},
     "output_type": "execute_result"
    },
    {
     "name": "stdout",
     "output_type": "stream",
     "text": [
      "time: 4.08 ms (started: 2023-06-12 18:22:21 -05:00)\n"
     ]
    }
   ],
   "source": [
    "df_edges_filter = dict_df_edges_filter[groups_id[0]]\n",
    "df_edges_filter.head()"
   ]
  },
  {
   "cell_type": "code",
   "execution_count": null,
   "metadata": {},
   "outputs": [
    {
     "name": "stdout",
     "output_type": "stream",
     "text": [
      "<class 'pandas.core.frame.DataFrame'>\n",
      "Int64Index: 9557 entries, 0 to 9556\n",
      "Data columns (total 2 columns):\n",
      " #   Column  Non-Null Count  Dtype \n",
      "---  ------  --------------  ----- \n",
      " 0   source  9557 non-null   string\n",
      " 1   target  9557 non-null   string\n",
      "dtypes: string(2)\n",
      "memory usage: 224.0 KB\n",
      "time: 11.1 ms (started: 2023-06-12 18:22:21 -05:00)\n"
     ]
    }
   ],
   "source": [
    "df_edges_filter.info()"
   ]
  },
  {
   "cell_type": "code",
   "execution_count": null,
   "metadata": {
    "notebookRunGroups": {
     "groupValue": "2"
    }
   },
   "outputs": [
    {
     "name": "stderr",
     "output_type": "stream",
     "text": [
      "  0%|          | 0/2 [00:00<?, ?it/s]"
     ]
    },
    {
     "name": "stderr",
     "output_type": "stream",
     "text": [
      "100%|██████████| 5/5 [00:02<00:00,  2.32it/s]\n",
      "100%|██████████| 3/3 [00:01<00:00,  2.26it/s]\n",
      "100%|██████████| 2/2 [00:03<00:00,  1.80s/it]\n"
     ]
    },
    {
     "data": {
      "text/html": [
       "<div>\n",
       "<style scoped>\n",
       "    .dataframe tbody tr th:only-of-type {\n",
       "        vertical-align: middle;\n",
       "    }\n",
       "\n",
       "    .dataframe tbody tr th {\n",
       "        vertical-align: top;\n",
       "    }\n",
       "\n",
       "    .dataframe thead th {\n",
       "        text-align: right;\n",
       "    }\n",
       "</style>\n",
       "<table border=\"1\" class=\"dataframe\">\n",
       "  <thead>\n",
       "    <tr style=\"text-align: right;\">\n",
       "      <th></th>\n",
       "      <th>source</th>\n",
       "      <th>target</th>\n",
       "      <th>subgroup1</th>\n",
       "      <th>subgroup2</th>\n",
       "      <th>subgroup3</th>\n",
       "      <th>subgroup4</th>\n",
       "      <th>subgroup5</th>\n",
       "    </tr>\n",
       "  </thead>\n",
       "  <tbody>\n",
       "    <tr>\n",
       "      <th>8897</th>\n",
       "      <td>0</td>\n",
       "      <td>112</td>\n",
       "      <td>0.804566</td>\n",
       "      <td>0.732804</td>\n",
       "      <td>0.584968</td>\n",
       "      <td>0.601476</td>\n",
       "      <td>0.831138</td>\n",
       "    </tr>\n",
       "    <tr>\n",
       "      <th>8037</th>\n",
       "      <td>0</td>\n",
       "      <td>186</td>\n",
       "      <td>0.531764</td>\n",
       "      <td>0.998024</td>\n",
       "      <td>0.513954</td>\n",
       "      <td>0.871659</td>\n",
       "      <td>0.885208</td>\n",
       "    </tr>\n",
       "    <tr>\n",
       "      <th>7713</th>\n",
       "      <td>0</td>\n",
       "      <td>190</td>\n",
       "      <td>0.764557</td>\n",
       "      <td>0.815738</td>\n",
       "      <td>0.655281</td>\n",
       "      <td>0.632235</td>\n",
       "      <td>0.657801</td>\n",
       "    </tr>\n",
       "    <tr>\n",
       "      <th>7761</th>\n",
       "      <td>0</td>\n",
       "      <td>208</td>\n",
       "      <td>0.717383</td>\n",
       "      <td>0.547421</td>\n",
       "      <td>0.812064</td>\n",
       "      <td>0.722347</td>\n",
       "      <td>0.689631</td>\n",
       "    </tr>\n",
       "    <tr>\n",
       "      <th>8863</th>\n",
       "      <td>0</td>\n",
       "      <td>253</td>\n",
       "      <td>0.964549</td>\n",
       "      <td>0.846407</td>\n",
       "      <td>0.678148</td>\n",
       "      <td>0.694898</td>\n",
       "      <td>0.538027</td>\n",
       "    </tr>\n",
       "  </tbody>\n",
       "</table>\n",
       "</div>"
      ],
      "text/plain": [
       "     source target  subgroup1  subgroup2  subgroup3  subgroup4  subgroup5\n",
       "8897      0    112   0.804566   0.732804   0.584968   0.601476   0.831138\n",
       "8037      0    186   0.531764   0.998024   0.513954   0.871659   0.885208\n",
       "7713      0    190   0.764557   0.815738   0.655281   0.632235   0.657801\n",
       "7761      0    208   0.717383   0.547421   0.812064   0.722347   0.689631\n",
       "8863      0    253   0.964549   0.846407   0.678148   0.694898   0.538027"
      ]
     },
     "execution_count": 25,
     "metadata": {},
     "output_type": "execute_result"
    },
    {
     "name": "stdout",
     "output_type": "stream",
     "text": [
      "time: 3.62 s (started: 2023-06-12 18:22:21 -05:00)\n"
     ]
    }
   ],
   "source": [
    "# get weight by subgroups\n",
    "\n",
    "dict_df_edges_filter_weight = get_weight_global(dict_df_edges_filter, exp, groups_id, subgroups_id)\n",
    "df_edges_filter_weight = dict_df_edges_filter_weight[groups_id[0]]\n",
    "df_edges_filter_weight.head()"
   ]
  },
  {
   "cell_type": "code",
   "execution_count": null,
   "metadata": {},
   "outputs": [
    {
     "data": {
      "text/html": [
       "<div>\n",
       "<style scoped>\n",
       "    .dataframe tbody tr th:only-of-type {\n",
       "        vertical-align: middle;\n",
       "    }\n",
       "\n",
       "    .dataframe tbody tr th {\n",
       "        vertical-align: top;\n",
       "    }\n",
       "\n",
       "    .dataframe thead th {\n",
       "        text-align: right;\n",
       "    }\n",
       "</style>\n",
       "<table border=\"1\" class=\"dataframe\">\n",
       "  <thead>\n",
       "    <tr style=\"text-align: right;\">\n",
       "      <th></th>\n",
       "      <th>source</th>\n",
       "      <th>target</th>\n",
       "      <th>subgroup1</th>\n",
       "      <th>subgroup2</th>\n",
       "      <th>subgroup3</th>\n",
       "      <th>subgroup4</th>\n",
       "      <th>subgroup5</th>\n",
       "    </tr>\n",
       "  </thead>\n",
       "  <tbody>\n",
       "    <tr>\n",
       "      <th>8897</th>\n",
       "      <td>0</td>\n",
       "      <td>112</td>\n",
       "      <td>0.804566</td>\n",
       "      <td>0.732804</td>\n",
       "      <td>0.584968</td>\n",
       "      <td>0.601476</td>\n",
       "      <td>0.831138</td>\n",
       "    </tr>\n",
       "    <tr>\n",
       "      <th>8037</th>\n",
       "      <td>0</td>\n",
       "      <td>186</td>\n",
       "      <td>0.531764</td>\n",
       "      <td>0.998024</td>\n",
       "      <td>0.513954</td>\n",
       "      <td>0.871659</td>\n",
       "      <td>0.885208</td>\n",
       "    </tr>\n",
       "    <tr>\n",
       "      <th>7713</th>\n",
       "      <td>0</td>\n",
       "      <td>190</td>\n",
       "      <td>0.764557</td>\n",
       "      <td>0.815738</td>\n",
       "      <td>0.655281</td>\n",
       "      <td>0.632235</td>\n",
       "      <td>0.657801</td>\n",
       "    </tr>\n",
       "    <tr>\n",
       "      <th>7761</th>\n",
       "      <td>0</td>\n",
       "      <td>208</td>\n",
       "      <td>0.717383</td>\n",
       "      <td>0.547421</td>\n",
       "      <td>0.812064</td>\n",
       "      <td>0.722347</td>\n",
       "      <td>0.689631</td>\n",
       "    </tr>\n",
       "    <tr>\n",
       "      <th>8863</th>\n",
       "      <td>0</td>\n",
       "      <td>253</td>\n",
       "      <td>0.964549</td>\n",
       "      <td>0.846407</td>\n",
       "      <td>0.678148</td>\n",
       "      <td>0.694898</td>\n",
       "      <td>0.538027</td>\n",
       "    </tr>\n",
       "  </tbody>\n",
       "</table>\n",
       "</div>"
      ],
      "text/plain": [
       "     source target  subgroup1  subgroup2  subgroup3  subgroup4  subgroup5\n",
       "8897      0    112   0.804566   0.732804   0.584968   0.601476   0.831138\n",
       "8037      0    186   0.531764   0.998024   0.513954   0.871659   0.885208\n",
       "7713      0    190   0.764557   0.815738   0.655281   0.632235   0.657801\n",
       "7761      0    208   0.717383   0.547421   0.812064   0.722347   0.689631\n",
       "8863      0    253   0.964549   0.846407   0.678148   0.694898   0.538027"
      ]
     },
     "execution_count": 26,
     "metadata": {},
     "output_type": "execute_result"
    },
    {
     "name": "stdout",
     "output_type": "stream",
     "text": [
      "time: 5.93 ms (started: 2023-06-12 18:22:24 -05:00)\n"
     ]
    }
   ],
   "source": [
    "df_edges_filter_weight = dict_df_edges_filter_weight[groups_id[0]]\n",
    "df_edges_filter_weight.head()"
   ]
  },
  {
   "attachments": {},
   "cell_type": "markdown",
   "metadata": {},
   "source": [
    "### Filter by STD and average weight"
   ]
  },
  {
   "cell_type": "code",
   "execution_count": null,
   "metadata": {
    "notebookRunGroups": {
     "groupValue": "2"
    }
   },
   "outputs": [
    {
     "name": "stderr",
     "output_type": "stream",
     "text": [
      " 50%|█████     | 1/2 [00:00<00:00,  3.56it/s]"
     ]
    },
    {
     "name": "stderr",
     "output_type": "stream",
     "text": [
      "100%|██████████| 2/2 [00:01<00:00,  1.93it/s]\n"
     ]
    },
    {
     "data": {
      "text/html": [
       "<div>\n",
       "<style scoped>\n",
       "    .dataframe tbody tr th:only-of-type {\n",
       "        vertical-align: middle;\n",
       "    }\n",
       "\n",
       "    .dataframe tbody tr th {\n",
       "        vertical-align: top;\n",
       "    }\n",
       "\n",
       "    .dataframe thead th {\n",
       "        text-align: right;\n",
       "    }\n",
       "</style>\n",
       "<table border=\"1\" class=\"dataframe\">\n",
       "  <thead>\n",
       "    <tr style=\"text-align: right;\">\n",
       "      <th></th>\n",
       "      <th>source</th>\n",
       "      <th>target</th>\n",
       "      <th>weight</th>\n",
       "    </tr>\n",
       "  </thead>\n",
       "  <tbody>\n",
       "    <tr>\n",
       "      <th>0</th>\n",
       "      <td>0</td>\n",
       "      <td>112</td>\n",
       "      <td>0.710990</td>\n",
       "    </tr>\n",
       "    <tr>\n",
       "      <th>1</th>\n",
       "      <td>0</td>\n",
       "      <td>186</td>\n",
       "      <td>0.760122</td>\n",
       "    </tr>\n",
       "    <tr>\n",
       "      <th>2</th>\n",
       "      <td>0</td>\n",
       "      <td>190</td>\n",
       "      <td>0.705122</td>\n",
       "    </tr>\n",
       "    <tr>\n",
       "      <th>3</th>\n",
       "      <td>0</td>\n",
       "      <td>208</td>\n",
       "      <td>0.697769</td>\n",
       "    </tr>\n",
       "    <tr>\n",
       "      <th>4</th>\n",
       "      <td>0</td>\n",
       "      <td>253</td>\n",
       "      <td>0.744406</td>\n",
       "    </tr>\n",
       "  </tbody>\n",
       "</table>\n",
       "</div>"
      ],
      "text/plain": [
       "  source target    weight\n",
       "0      0    112  0.710990\n",
       "1      0    186  0.760122\n",
       "2      0    190  0.705122\n",
       "3      0    208  0.697769\n",
       "4      0    253  0.744406"
      ]
     },
     "execution_count": 27,
     "metadata": {},
     "output_type": "execute_result"
    },
    {
     "data": {
      "text/plain": [
       "<Figure size 640x480 with 0 Axes>"
      ]
     },
     "metadata": {},
     "output_type": "display_data"
    },
    {
     "name": "stdout",
     "output_type": "stream",
     "text": [
      "time: 1.06 s (started: 2023-06-12 18:22:24 -05:00)\n"
     ]
    }
   ],
   "source": [
    "dict_df_common_edges = std_global(dict_df_edges_filter_weight, exp, method, groups_id, option, th=0.3, plot=True, save=True)\n",
    "dict_df_common_edges[groups_id[0]].head()"
   ]
  },
  {
   "cell_type": "code",
   "execution_count": null,
   "metadata": {},
   "outputs": [
    {
     "data": {
      "text/html": [
       "<div>\n",
       "<style scoped>\n",
       "    .dataframe tbody tr th:only-of-type {\n",
       "        vertical-align: middle;\n",
       "    }\n",
       "\n",
       "    .dataframe tbody tr th {\n",
       "        vertical-align: top;\n",
       "    }\n",
       "\n",
       "    .dataframe thead th {\n",
       "        text-align: right;\n",
       "    }\n",
       "</style>\n",
       "<table border=\"1\" class=\"dataframe\">\n",
       "  <thead>\n",
       "    <tr style=\"text-align: right;\">\n",
       "      <th></th>\n",
       "      <th>source</th>\n",
       "      <th>target</th>\n",
       "      <th>weight</th>\n",
       "    </tr>\n",
       "  </thead>\n",
       "  <tbody>\n",
       "    <tr>\n",
       "      <th>0</th>\n",
       "      <td>0</td>\n",
       "      <td>112</td>\n",
       "      <td>0.710990</td>\n",
       "    </tr>\n",
       "    <tr>\n",
       "      <th>1</th>\n",
       "      <td>0</td>\n",
       "      <td>186</td>\n",
       "      <td>0.760122</td>\n",
       "    </tr>\n",
       "    <tr>\n",
       "      <th>2</th>\n",
       "      <td>0</td>\n",
       "      <td>190</td>\n",
       "      <td>0.705122</td>\n",
       "    </tr>\n",
       "    <tr>\n",
       "      <th>3</th>\n",
       "      <td>0</td>\n",
       "      <td>208</td>\n",
       "      <td>0.697769</td>\n",
       "    </tr>\n",
       "    <tr>\n",
       "      <th>4</th>\n",
       "      <td>0</td>\n",
       "      <td>253</td>\n",
       "      <td>0.744406</td>\n",
       "    </tr>\n",
       "  </tbody>\n",
       "</table>\n",
       "</div>"
      ],
      "text/plain": [
       "  source target    weight\n",
       "0      0    112  0.710990\n",
       "1      0    186  0.760122\n",
       "2      0    190  0.705122\n",
       "3      0    208  0.697769\n",
       "4      0    253  0.744406"
      ]
     },
     "execution_count": 28,
     "metadata": {},
     "output_type": "execute_result"
    },
    {
     "name": "stdout",
     "output_type": "stream",
     "text": [
      "time: 8.6 ms (started: 2023-06-12 18:22:25 -05:00)\n"
     ]
    }
   ],
   "source": [
    "df_common_edges = pd.read_csv(\"output/{}/common_edges/common_edges_{}_{}_{}.csv\".format(exp, method, groups_id[0], option),\n",
    "                              dtype={\"source\": \"string\", \"target\": \"string\"})\n",
    "df_common_edges.head()"
   ]
  },
  {
   "cell_type": "code",
   "execution_count": null,
   "metadata": {},
   "outputs": [
    {
     "name": "stderr",
     "output_type": "stream",
     "text": [
      "100%|██████████| 2/2 [00:00<00:00, 20.30it/s]"
     ]
    },
    {
     "name": "stdout",
     "output_type": "stream",
     "text": [
      "Group: s_WT\n",
      "Num. nodes: 990\n",
      "Num. edges: 9557\n",
      "\n",
      "Group: s_zwf1^\n",
      "Num. nodes: 1000\n",
      "Num. edges: 46428\n",
      "\n",
      "time: 107 ms (started: 2023-06-12 18:22:25 -05:00)\n"
     ]
    },
    {
     "name": "stderr",
     "output_type": "stream",
     "text": [
      "\n"
     ]
    }
   ],
   "source": [
    "# show details\n",
    "\n",
    "for group in tqdm(groups_id):\n",
    "    df_common_edges = pd.read_csv(\"output/{}/common_edges/common_edges_{}_{}_{}.csv\".format(exp, method, group, option))\n",
    "    \n",
    "    G = nx.from_pandas_edgelist(df_common_edges, \"source\", \"target\", edge_attr=[\"weight\"])\n",
    "    print(\"Group: {}\".format(group))\n",
    "    graph_detail(G)"
   ]
  }
 ],
 "metadata": {
  "kernelspec": {
   "display_name": "Python 3 (ipykernel)",
   "language": "python",
   "name": "python3"
  },
  "language_info": {
   "codemirror_mode": {
    "name": "ipython",
    "version": 3
   },
   "file_extension": ".py",
   "mimetype": "text/x-python",
   "name": "python",
   "nbconvert_exporter": "python",
   "pygments_lexer": "ipython3",
   "version": "3.10.11"
  },
  "orig_nbformat": 4
 },
 "nbformat": 4,
 "nbformat_minor": 2
}
