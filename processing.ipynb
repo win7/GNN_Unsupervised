{
 "cells": [
  {
   "attachments": {},
   "cell_type": "markdown",
   "metadata": {},
   "source": [
    "### Imports"
   ]
  },
  {
   "cell_type": "code",
   "execution_count": 1,
   "metadata": {
    "notebookRunGroups": {
     "groupValue": "1"
    }
   },
   "outputs": [
    {
     "name": "stderr",
     "output_type": "stream",
     "text": [
      "/home/ealvarez/miniconda3/envs/Conda_dgl_3.10/lib/python3.10/site-packages/umap/distances.py:1063: NumbaDeprecationWarning: The 'nopython' keyword argument was not supplied to the 'numba.jit' decorator. The implicit default value for this argument is currently False, but it will be changed to True in Numba 0.59.0. See https://numba.readthedocs.io/en/stable/reference/deprecation.html#deprecation-of-object-mode-fall-back-behaviour-when-using-jit for details.\n",
      "  @numba.jit()\n",
      "/home/ealvarez/miniconda3/envs/Conda_dgl_3.10/lib/python3.10/site-packages/umap/distances.py:1071: NumbaDeprecationWarning: The 'nopython' keyword argument was not supplied to the 'numba.jit' decorator. The implicit default value for this argument is currently False, but it will be changed to True in Numba 0.59.0. See https://numba.readthedocs.io/en/stable/reference/deprecation.html#deprecation-of-object-mode-fall-back-behaviour-when-using-jit for details.\n",
      "  @numba.jit()\n",
      "/home/ealvarez/miniconda3/envs/Conda_dgl_3.10/lib/python3.10/site-packages/umap/distances.py:1086: NumbaDeprecationWarning: The 'nopython' keyword argument was not supplied to the 'numba.jit' decorator. The implicit default value for this argument is currently False, but it will be changed to True in Numba 0.59.0. See https://numba.readthedocs.io/en/stable/reference/deprecation.html#deprecation-of-object-mode-fall-back-behaviour-when-using-jit for details.\n",
      "  @numba.jit()\n",
      "/home/ealvarez/miniconda3/envs/Conda_dgl_3.10/lib/python3.10/site-packages/umap/umap_.py:660: NumbaDeprecationWarning: The 'nopython' keyword argument was not supplied to the 'numba.jit' decorator. The implicit default value for this argument is currently False, but it will be changed to True in Numba 0.59.0. See https://numba.readthedocs.io/en/stable/reference/deprecation.html#deprecation-of-object-mode-fall-back-behaviour-when-using-jit for details.\n",
      "  @numba.jit()\n"
     ]
    },
    {
     "name": "stdout",
     "output_type": "stream",
     "text": [
      "time: 186 µs (started: 2023-06-09 09:41:36 -05:00)\n"
     ]
    }
   ],
   "source": [
    "from pyod.models.ecod import ECOD\n",
    "from mpl_toolkits import mplot3d\n",
    "from sklearn.metrics import silhouette_score\n",
    "from sklearn.model_selection import RandomizedSearchCV\n",
    "from tqdm import tqdm\n",
    "from utils.utils import *\n",
    "\n",
    "import hdbscan\n",
    "import matplotlib.pyplot as plt\n",
    "import networkx as nx\n",
    "import numpy as np\n",
    "import os\n",
    "import pandas as pd\n",
    "import sys\n",
    "\n",
    "%load_ext autotime"
   ]
  },
  {
   "attachments": {},
   "cell_type": "markdown",
   "metadata": {},
   "source": [
    "### Parameters"
   ]
  },
  {
   "cell_type": "code",
   "execution_count": 2,
   "metadata": {
    "notebookRunGroups": {
     "groupValue": "1"
    }
   },
   "outputs": [
    {
     "name": "stdout",
     "output_type": "stream",
     "text": [
      "Exp:\t\t exp5\n",
      "Method:\t\t dgi\n",
      "Dimension:\t 3\n",
      "Groups id:\t ['WT', 'zwf1^', 'pck1^']\n",
      "Subgroups id:\t {'WT': ['1', '2', '3', '4', '5'], 'zwf1^': ['1', '2', '3'], 'pck1^': ['1', '2']}\n",
      "Option:\t\t \n",
      "Subgroups id op: {'WT': ['1', '2', '3', '4', '5'], 'zwf1^': ['1', '2', '3'], 'pck1^': ['1', '2']}\n",
      "time: 2.93 ms (started: 2023-06-09 09:41:36 -05:00)\n"
     ]
    }
   ],
   "source": [
    "import json\n",
    "  \n",
    "# Opening JSON file\n",
    "file = open(\"parameters.json\")\n",
    "params = json.load(file)\n",
    "\n",
    "exp = params[\"exp\"]\n",
    "print(\"Exp:\\t\\t\", exp)\n",
    "\n",
    "method = params[\"method\"]\n",
    "print(\"Method:\\t\\t\", method)\n",
    "\n",
    "dimension = params[\"dimension\"]\n",
    "print(\"Dimension:\\t\", dimension)\n",
    "\n",
    "groups_id = params[\"groups_id\"]\n",
    "print(\"Groups id:\\t\", groups_id)\n",
    "\n",
    "subgroups_id = params[\"subgroups_id\"]\n",
    "print(\"Subgroups id:\\t\", subgroups_id)\n",
    "\n",
    "option = params[\"option\"]\n",
    "print(\"Option:\\t\\t\", option)\n",
    "\n",
    "if option:\n",
    "    \n",
    "    subgroups_id_op = {}\n",
    "    for group in groups_id:\n",
    "        subgroups_id_op[group] = [option]\n",
    "else:\n",
    "    subgroups_id_op = subgroups_id\n",
    "print(\"Subgroups id op:\", subgroups_id_op)\n",
    "\n"
   ]
  },
  {
   "attachments": {},
   "cell_type": "markdown",
   "metadata": {},
   "source": [
    "### Edge embeddings"
   ]
  },
  {
   "cell_type": "code",
   "execution_count": 3,
   "metadata": {
    "notebookRunGroups": {
     "groupValue": ""
    }
   },
   "outputs": [
    {
     "name": "stderr",
     "output_type": "stream",
     "text": [
      "100%|██████████| 5/5 [17:30<00:00, 210.10s/it]\n",
      " 33%|███▎      | 1/3 [17:30<35:01, 1050.52s/it]"
     ]
    }
   ],
   "source": [
    "# get edges embeddings\n",
    "\n",
    "edge_embeddings_global(exp, method, groups_id, subgroups_id_op)"
   ]
  },
  {
   "cell_type": "code",
   "execution_count": null,
   "metadata": {},
   "outputs": [
    {
     "data": {
      "text/html": [
       "<div>\n",
       "<style scoped>\n",
       "    .dataframe tbody tr th:only-of-type {\n",
       "        vertical-align: middle;\n",
       "    }\n",
       "\n",
       "    .dataframe tbody tr th {\n",
       "        vertical-align: top;\n",
       "    }\n",
       "\n",
       "    .dataframe thead th {\n",
       "        text-align: right;\n",
       "    }\n",
       "</style>\n",
       "<table border=\"1\" class=\"dataframe\">\n",
       "  <thead>\n",
       "    <tr style=\"text-align: right;\">\n",
       "      <th></th>\n",
       "      <th></th>\n",
       "      <th>0</th>\n",
       "      <th>1</th>\n",
       "      <th>2</th>\n",
       "    </tr>\n",
       "  </thead>\n",
       "  <tbody>\n",
       "    <tr>\n",
       "      <th rowspan=\"5\" valign=\"top\">0</th>\n",
       "      <th>1</th>\n",
       "      <td>6.461881</td>\n",
       "      <td>0.000695</td>\n",
       "      <td>0.480581</td>\n",
       "    </tr>\n",
       "    <tr>\n",
       "      <th>2</th>\n",
       "      <td>0.003822</td>\n",
       "      <td>0.842727</td>\n",
       "      <td>3.424330</td>\n",
       "    </tr>\n",
       "    <tr>\n",
       "      <th>3</th>\n",
       "      <td>0.783019</td>\n",
       "      <td>0.024875</td>\n",
       "      <td>0.354545</td>\n",
       "    </tr>\n",
       "    <tr>\n",
       "      <th>4</th>\n",
       "      <td>2.682043</td>\n",
       "      <td>2.122767</td>\n",
       "      <td>2.174131</td>\n",
       "    </tr>\n",
       "    <tr>\n",
       "      <th>5</th>\n",
       "      <td>0.445657</td>\n",
       "      <td>1.257031</td>\n",
       "      <td>0.000274</td>\n",
       "    </tr>\n",
       "  </tbody>\n",
       "</table>\n",
       "</div>"
      ],
      "text/plain": [
       "            0         1         2\n",
       "0 1  6.461881  0.000695  0.480581\n",
       "  2  0.003822  0.842727  3.424330\n",
       "  3  0.783019  0.024875  0.354545\n",
       "  4  2.682043  2.122767  2.174131\n",
       "  5  0.445657  1.257031  0.000274"
      ]
     },
     "execution_count": 6,
     "metadata": {},
     "output_type": "execute_result"
    },
    {
     "name": "stdout",
     "output_type": "stream",
     "text": [
      "time: 496 ms (started: 2023-06-09 07:59:14 -05:00)\n"
     ]
    }
   ],
   "source": [
    "df_edge_embeddings = pd.read_csv(\"output/{}/edge_embeddings/edge-embeddings_{}_{}_{}.csv\".format(exp, method, groups_id[0], subgroups_id_op[groups_id[0]][0]), index_col=[0, 1])\n",
    "df_edge_embeddings.head()"
   ]
  },
  {
   "attachments": {},
   "cell_type": "markdown",
   "metadata": {},
   "source": [
    "### Concat edge embeddings"
   ]
  },
  {
   "cell_type": "code",
   "execution_count": null,
   "metadata": {
    "notebookRunGroups": {
     "groupValue": ""
    }
   },
   "outputs": [
    {
     "name": "stderr",
     "output_type": "stream",
     "text": [
      "100%|██████████| 5/5 [00:07<00:00,  1.43s/it]\n",
      "100%|██████████| 3/3 [00:09<00:00,  3.26s/it]\n",
      "100%|██████████| 2/2 [00:03<00:00,  1.64s/it]\n",
      "100%|██████████| 3/3 [02:59<00:00, 59.78s/it]"
     ]
    },
    {
     "name": "stdout",
     "output_type": "stream",
     "text": [
      "time: 2min 59s (started: 2023-06-09 07:59:15 -05:00)\n"
     ]
    },
    {
     "name": "stderr",
     "output_type": "stream",
     "text": [
      "\n"
     ]
    }
   ],
   "source": [
    "for group in tqdm(groups_id):\n",
    "    df_edge_embeddings_concat = pd.DataFrame()\n",
    "    k = 0\n",
    "    for subgroup in tqdm(subgroups_id_op[group]):\n",
    "        df_edge_embeddings = pd.read_csv(\"output/{}/edge_embeddings/edge-embeddings_{}_{}_{}.csv\".format(exp, method, group, subgroup), index_col=[0, 1])\n",
    "        df_edge_embeddings[\"subgroup\"] = [k] * len(df_edge_embeddings)\n",
    "        df_edge_embeddings_concat = pd.concat([df_edge_embeddings_concat, df_edge_embeddings])\n",
    "        k += 1\n",
    "    \n",
    "    df_edge_embeddings_concat.to_csv(\"output/{}/edge_embeddings/edge-embeddings_concat_{}_{}_{}.csv\".format(exp, method, group, option), index=True)"
   ]
  },
  {
   "cell_type": "code",
   "execution_count": null,
   "metadata": {
    "notebookRunGroups": {
     "groupValue": ""
    }
   },
   "outputs": [
    {
     "data": {
      "text/html": [
       "<div>\n",
       "<style scoped>\n",
       "    .dataframe tbody tr th:only-of-type {\n",
       "        vertical-align: middle;\n",
       "    }\n",
       "\n",
       "    .dataframe tbody tr th {\n",
       "        vertical-align: top;\n",
       "    }\n",
       "\n",
       "    .dataframe thead th {\n",
       "        text-align: right;\n",
       "    }\n",
       "</style>\n",
       "<table border=\"1\" class=\"dataframe\">\n",
       "  <thead>\n",
       "    <tr style=\"text-align: right;\">\n",
       "      <th></th>\n",
       "      <th></th>\n",
       "      <th>0</th>\n",
       "      <th>1</th>\n",
       "      <th>2</th>\n",
       "      <th>subgroup</th>\n",
       "    </tr>\n",
       "  </thead>\n",
       "  <tbody>\n",
       "    <tr>\n",
       "      <th rowspan=\"5\" valign=\"top\">0</th>\n",
       "      <th>1</th>\n",
       "      <td>6.461881</td>\n",
       "      <td>0.000695</td>\n",
       "      <td>0.480581</td>\n",
       "      <td>0</td>\n",
       "    </tr>\n",
       "    <tr>\n",
       "      <th>2</th>\n",
       "      <td>0.003822</td>\n",
       "      <td>0.842727</td>\n",
       "      <td>3.424330</td>\n",
       "      <td>0</td>\n",
       "    </tr>\n",
       "    <tr>\n",
       "      <th>3</th>\n",
       "      <td>0.783019</td>\n",
       "      <td>0.024875</td>\n",
       "      <td>0.354545</td>\n",
       "      <td>0</td>\n",
       "    </tr>\n",
       "    <tr>\n",
       "      <th>4</th>\n",
       "      <td>2.682043</td>\n",
       "      <td>2.122767</td>\n",
       "      <td>2.174131</td>\n",
       "      <td>0</td>\n",
       "    </tr>\n",
       "    <tr>\n",
       "      <th>5</th>\n",
       "      <td>0.445657</td>\n",
       "      <td>1.257031</td>\n",
       "      <td>0.000274</td>\n",
       "      <td>0</td>\n",
       "    </tr>\n",
       "  </tbody>\n",
       "</table>\n",
       "</div>"
      ],
      "text/plain": [
       "            0         1         2  subgroup\n",
       "0 1  6.461881  0.000695  0.480581         0\n",
       "  2  0.003822  0.842727  3.424330         0\n",
       "  3  0.783019  0.024875  0.354545         0\n",
       "  4  2.682043  2.122767  2.174131         0\n",
       "  5  0.445657  1.257031  0.000274         0"
      ]
     },
     "execution_count": 8,
     "metadata": {},
     "output_type": "execute_result"
    },
    {
     "name": "stdout",
     "output_type": "stream",
     "text": [
      "time: 4.68 s (started: 2023-06-09 08:02:14 -05:00)\n"
     ]
    }
   ],
   "source": [
    "df_edge_embeddings_concat = pd.read_csv(\"output/{}/edge_embeddings/edge-embeddings_concat_{}_{}_{}.csv\".format(exp, method, groups_id[0], option), index_col=[0, 1])\n",
    "df_edge_embeddings_concat.head()"
   ]
  },
  {
   "cell_type": "code",
   "execution_count": null,
   "metadata": {},
   "outputs": [
    {
     "name": "stderr",
     "output_type": "stream",
     "text": [
      "100%|██████████| 3/3 [14:54<00:00, 298.09s/it]"
     ]
    },
    {
     "name": "stdout",
     "output_type": "stream",
     "text": [
      "time: 14min 54s (started: 2023-06-09 08:02:19 -05:00)\n"
     ]
    },
    {
     "name": "stderr",
     "output_type": "stream",
     "text": [
      "\n"
     ]
    }
   ],
   "source": [
    "# plot edge embeddings concat\n",
    "\n",
    "for group in tqdm(groups_id):\n",
    "    df_edge_embeddings_concat = pd.read_csv(\"output/{}/edge_embeddings/edge-embeddings_concat_{}_{}_{}.csv\".format(exp, method, group, option), index_col=[0, 1])\n",
    "\n",
    "    x = df_edge_embeddings_concat.iloc[:, 0]\n",
    "    y = df_edge_embeddings_concat.iloc[:, 1]\n",
    "    z = df_edge_embeddings_concat.iloc[:, 2]\n",
    "\n",
    "    # Creating figure\n",
    "    fig = plt.figure(figsize=(10, 7))\n",
    "    ax = plt.axes(projection=\"3d\")\n",
    "\n",
    "    # Creating plot\n",
    "    ax.scatter3D(x, y, z, c=df_edge_embeddings_concat.iloc[:, -1], alpha=0.1)\n",
    "    # plt.title(\"Dimension: {}\".format(dimension))\n",
    "\n",
    "    # show plot\n",
    "    plt.savefig(\"output/{}/plots/edge-embeddings_concat_{}_{}_{}.png\".format(exp, method, group, option))\n",
    "    # plt.show()\n",
    "    plt.close()"
   ]
  },
  {
   "attachments": {},
   "cell_type": "markdown",
   "metadata": {},
   "source": [
    "### Outliers detection"
   ]
  },
  {
   "cell_type": "code",
   "execution_count": null,
   "metadata": {
    "notebookRunGroups": {
     "groupValue": ""
    }
   },
   "outputs": [
    {
     "data": {
      "text/plain": [
       "' df_edge_embeddings_concat = pd.read_csv(\"output/edge_embeddings/edge-embeddings_concat_{}_{}_{}_{}.csv\".format(group, method, dimension, \"L2\"), index_col=[0, 1])\\n\\nX_train = df_edge_embeddings_concat.iloc[:, :-1]\\nclusterer = hdbscan.HDBSCAN(min_cluster_size=100, core_dist_n_jobs=-1).fit(X_train)\\n\\nthreshold = pd.Series(clusterer.outlier_scores_).quantile(0.9)\\noutliers = np.where(clusterer.outlier_scores_ > threshold)[0]\\nprint(len(outliers))\\noutliers\\n\\ninliers = np.setdiff1d(np.arange(len(df_edge_embeddings_concat)), outliers)\\nprint(len(inliers))\\ninliers '"
      ]
     },
     "execution_count": 10,
     "metadata": {},
     "output_type": "execute_result"
    },
    {
     "name": "stdout",
     "output_type": "stream",
     "text": [
      "time: 3.64 ms (started: 2023-06-09 08:17:13 -05:00)\n"
     ]
    }
   ],
   "source": [
    "# Outlier detection (HDBSCAN)\n",
    "\n",
    "\"\"\" df_edge_embeddings_concat = pd.read_csv(\"output/edge_embeddings/edge-embeddings_concat_{}_{}_{}_{}.csv\".format(group, method, dimension, \"L2\"), index_col=[0, 1])\n",
    "\n",
    "X_train = df_edge_embeddings_concat.iloc[:, :-1]\n",
    "clusterer = hdbscan.HDBSCAN(min_cluster_size=100, core_dist_n_jobs=-1).fit(X_train)\n",
    "\n",
    "threshold = pd.Series(clusterer.outlier_scores_).quantile(0.9)\n",
    "outliers = np.where(clusterer.outlier_scores_ > threshold)[0]\n",
    "print(len(outliers))\n",
    "outliers\n",
    "\n",
    "inliers = np.setdiff1d(np.arange(len(df_edge_embeddings_concat)), outliers)\n",
    "print(len(inliers))\n",
    "inliers \"\"\""
   ]
  },
  {
   "cell_type": "code",
   "execution_count": null,
   "metadata": {},
   "outputs": [
    {
     "name": "stderr",
     "output_type": "stream",
     "text": [
      "100%|██████████| 3/3 [01:00<00:00, 20.28s/it]"
     ]
    },
    {
     "name": "stdout",
     "output_type": "stream",
     "text": [
      "time: 1min (started: 2023-06-09 08:17:14 -05:00)\n"
     ]
    },
    {
     "name": "stderr",
     "output_type": "stream",
     "text": [
      "\n"
     ]
    }
   ],
   "source": [
    "# outlier detection (ECOD)\n",
    "\n",
    "dict_df_edge_embeddings_concat_outlier = {}\n",
    "dict_df_edge_embeddings_concat_filter = {}\n",
    "\n",
    "for group in tqdm(groups_id):\n",
    "    df_edge_embeddings_concat = pd.read_csv(\"output/{}/edge_embeddings/edge-embeddings_concat_{}_{}_{}.csv\".format(exp, method, group, option), index_col=[0, 1])\n",
    "\n",
    "    X_train = df_edge_embeddings_concat.iloc[:, :-1]\n",
    "\n",
    "    clf = ECOD()\n",
    "    clf.fit(X_train)\n",
    "\n",
    "    X_train[\"labels\"] = clf.labels_ # binary labels (0: inliers, 1: outliers)\n",
    "\n",
    "    df_edge_embeddings_concat_filter = df_edge_embeddings_concat.copy()\n",
    "    df_edge_embeddings_concat_filter[\"labels\"] = clf.labels_\n",
    "    df_edge_embeddings_concat_filter = df_edge_embeddings_concat_filter[df_edge_embeddings_concat_filter[\"labels\"] == 0]\n",
    "    df_edge_embeddings_concat_filter = df_edge_embeddings_concat_filter.iloc[:, :-1]\n",
    "\n",
    "    dict_df_edge_embeddings_concat_outlier[group] = X_train\n",
    "    dict_df_edge_embeddings_concat_filter[group] = df_edge_embeddings_concat_filter"
   ]
  },
  {
   "cell_type": "code",
   "execution_count": null,
   "metadata": {},
   "outputs": [
    {
     "data": {
      "text/html": [
       "<div>\n",
       "<style scoped>\n",
       "    .dataframe tbody tr th:only-of-type {\n",
       "        vertical-align: middle;\n",
       "    }\n",
       "\n",
       "    .dataframe tbody tr th {\n",
       "        vertical-align: top;\n",
       "    }\n",
       "\n",
       "    .dataframe thead th {\n",
       "        text-align: right;\n",
       "    }\n",
       "</style>\n",
       "<table border=\"1\" class=\"dataframe\">\n",
       "  <thead>\n",
       "    <tr style=\"text-align: right;\">\n",
       "      <th></th>\n",
       "      <th></th>\n",
       "      <th>0</th>\n",
       "      <th>1</th>\n",
       "      <th>2</th>\n",
       "      <th>subgroup</th>\n",
       "    </tr>\n",
       "  </thead>\n",
       "  <tbody>\n",
       "    <tr>\n",
       "      <th rowspan=\"4\" valign=\"top\">0</th>\n",
       "      <th>3</th>\n",
       "      <td>0.783019</td>\n",
       "      <td>0.024875</td>\n",
       "      <td>0.354545</td>\n",
       "      <td>0</td>\n",
       "    </tr>\n",
       "    <tr>\n",
       "      <th>6</th>\n",
       "      <td>0.000378</td>\n",
       "      <td>0.239430</td>\n",
       "      <td>0.066928</td>\n",
       "      <td>0</td>\n",
       "    </tr>\n",
       "    <tr>\n",
       "      <th>7</th>\n",
       "      <td>2.496010</td>\n",
       "      <td>0.103704</td>\n",
       "      <td>0.548030</td>\n",
       "      <td>0</td>\n",
       "    </tr>\n",
       "    <tr>\n",
       "      <th>10</th>\n",
       "      <td>0.492603</td>\n",
       "      <td>0.250157</td>\n",
       "      <td>0.101900</td>\n",
       "      <td>0</td>\n",
       "    </tr>\n",
       "    <tr>\n",
       "      <th>1</th>\n",
       "      <th>131</th>\n",
       "      <td>2.037267</td>\n",
       "      <td>0.176170</td>\n",
       "      <td>0.041174</td>\n",
       "      <td>0</td>\n",
       "    </tr>\n",
       "  </tbody>\n",
       "</table>\n",
       "</div>"
      ],
      "text/plain": [
       "              0         1         2  subgroup\n",
       "0 3    0.783019  0.024875  0.354545         0\n",
       "  6    0.000378  0.239430  0.066928         0\n",
       "  7    2.496010  0.103704  0.548030         0\n",
       "  10   0.492603  0.250157  0.101900         0\n",
       "1 131  2.037267  0.176170  0.041174         0"
      ]
     },
     "execution_count": 12,
     "metadata": {},
     "output_type": "execute_result"
    },
    {
     "name": "stdout",
     "output_type": "stream",
     "text": [
      "time: 12.5 ms (started: 2023-06-09 08:18:15 -05:00)\n"
     ]
    }
   ],
   "source": [
    "df_edge_embeddings_concat_filter = dict_df_edge_embeddings_concat_filter[groups_id[0]]\n",
    "df_edge_embeddings_concat_filter.head()"
   ]
  },
  {
   "cell_type": "code",
   "execution_count": null,
   "metadata": {
    "notebookRunGroups": {
     "groupValue": ""
    }
   },
   "outputs": [
    {
     "name": "stderr",
     "output_type": "stream",
     "text": [
      "  0%|          | 0/3 [00:00<?, ?it/s]"
     ]
    },
    {
     "name": "stdout",
     "output_type": "stream",
     "text": [
      "Total: 12232238\n",
      "Num. of inliers: 11009014\n",
      "Num. of inliers: 1223224\n"
     ]
    },
    {
     "name": "stderr",
     "output_type": "stream",
     "text": [
      " 33%|███▎      | 1/3 [04:59<09:58, 299.35s/it]"
     ]
    },
    {
     "name": "stdout",
     "output_type": "stream",
     "text": [
      "Total: 17089033\n",
      "Num. of inliers: 15380129\n",
      "Num. of inliers: 1708904\n"
     ]
    },
    {
     "name": "stderr",
     "output_type": "stream",
     "text": [
      " 67%|██████▋   | 2/3 [11:59<06:10, 370.65s/it]"
     ]
    },
    {
     "name": "stdout",
     "output_type": "stream",
     "text": [
      "Total: 6044291\n",
      "Num. of inliers: 5439862\n",
      "Num. of inliers: 604429\n"
     ]
    },
    {
     "name": "stderr",
     "output_type": "stream",
     "text": [
      "100%|██████████| 3/3 [14:27<00:00, 289.19s/it]"
     ]
    },
    {
     "name": "stdout",
     "output_type": "stream",
     "text": [
      "time: 14min 27s (started: 2023-06-09 08:18:15 -05:00)\n"
     ]
    },
    {
     "name": "stderr",
     "output_type": "stream",
     "text": [
      "\n"
     ]
    }
   ],
   "source": [
    "# plot outliers/inliers\n",
    "\n",
    "for group in tqdm(groups_id):\n",
    "    fig = plt.figure(figsize = (10, 7))\n",
    "    ax = plt.axes(projection =\"3d\")\n",
    "\n",
    "    df_aux = dict_df_edge_embeddings_concat_outlier[group]\n",
    "    print(\"Total:\", len(df_aux))\n",
    "    \n",
    "    temp = df_aux[df_aux[\"labels\"] == 0]\n",
    "    x = temp.iloc[:, 0]\n",
    "    y = temp.iloc[:, 1]\n",
    "    z = temp.iloc[:, 2]\n",
    "    ax.scatter3D(x, y, z, c=\"red\", alpha=0.005)\n",
    "    print(\"Num. of inliers:\", len(temp))\n",
    "\n",
    "    temp = df_aux[df_aux[\"labels\"] == 1]\n",
    "    x = temp.iloc[:, 0]\n",
    "    y = temp.iloc[:, 1]\n",
    "    z = temp.iloc[:, 2]\n",
    "    ax.scatter3D(x, y, z, c=\"gray\", alpha=0.005)\n",
    "    print(\"Num. of inliers:\", len(temp))\n",
    "\n",
    "    # show plot\n",
    "    plt.savefig(\"output/{}/plots/edge-embeddings_outlier_{}_{}_{}.png\".format(exp, method, group, option))\n",
    "    # plt.show()\n",
    "    plt.close()"
   ]
  },
  {
   "attachments": {},
   "cell_type": "markdown",
   "metadata": {},
   "source": [
    "###  Filter common edges"
   ]
  },
  {
   "cell_type": "code",
   "execution_count": null,
   "metadata": {},
   "outputs": [
    {
     "name": "stdout",
     "output_type": "stream",
     "text": [
      "{'WT': ['1', '2', '3', '4', '5'], 'zwf1^': ['1', '2', '3'], 'pck1^': ['1', '2']}\n",
      "{'WT': ['1', '2', '3', '4', '5'], 'zwf1^': ['1', '2', '3'], 'pck1^': ['1', '2']}\n",
      "time: 736 µs (started: 2023-06-09 08:32:42 -05:00)\n"
     ]
    }
   ],
   "source": [
    "print(subgroups_id)\n",
    "print(subgroups_id_op)\n"
   ]
  },
  {
   "cell_type": "code",
   "execution_count": null,
   "metadata": {},
   "outputs": [
    {
     "name": "stderr",
     "output_type": "stream",
     "text": [
      "11009014it [04:53, 37543.78it/s]it/s]\n",
      "15380129it [06:49, 37516.62it/s]3, 301.77s/it]\n",
      "5439862it [02:26, 37147.44it/s]12, 372.04s/it]\n",
      "100%|██████████| 3/3 [14:34<00:00, 291.52s/it]"
     ]
    },
    {
     "name": "stdout",
     "output_type": "stream",
     "text": [
      "time: 14min 34s (started: 2023-06-09 08:32:42 -05:00)\n"
     ]
    },
    {
     "name": "stderr",
     "output_type": "stream",
     "text": [
      "\n"
     ]
    }
   ],
   "source": [
    "# mapping idx with id\n",
    "\n",
    "for group in tqdm(groups_id):\n",
    "    dict_df_nodes = {}\n",
    "    for subgroup in subgroups_id_op[group]:\n",
    "        df_nodes = pd.read_csv(\"output/{}/preprocessing/graphs_data/nodes_data_{}_{}.csv\".format(exp, group, subgroup),\n",
    "                               dtype={\"id\": \"string\"})\n",
    "        dict_df_nodes[subgroup] = df_nodes\n",
    "    \n",
    "    # mapping\n",
    "    df_edge_embeddings_concat_filter = dict_df_edge_embeddings_concat_filter[group]\n",
    "    list_index = []\n",
    "    \n",
    "    for row in tqdm(df_edge_embeddings_concat_filter.itertuples()):\n",
    "        df_nodes = dict_df_nodes[subgroups_id_op[group][row[-1]]]\n",
    "        list_index.append((df_nodes.iloc[row[0][0], -1], df_nodes.iloc[row[0][1], -1]))\n",
    "    \n",
    "    # set new index\n",
    "    df_edge_embeddings_concat_filter.set_index([pd.Index(list_index)], inplace=True)"
   ]
  },
  {
   "cell_type": "code",
   "execution_count": null,
   "metadata": {},
   "outputs": [
    {
     "data": {
      "text/html": [
       "<div>\n",
       "<style scoped>\n",
       "    .dataframe tbody tr th:only-of-type {\n",
       "        vertical-align: middle;\n",
       "    }\n",
       "\n",
       "    .dataframe tbody tr th {\n",
       "        vertical-align: top;\n",
       "    }\n",
       "\n",
       "    .dataframe thead th {\n",
       "        text-align: right;\n",
       "    }\n",
       "</style>\n",
       "<table border=\"1\" class=\"dataframe\">\n",
       "  <thead>\n",
       "    <tr style=\"text-align: right;\">\n",
       "      <th></th>\n",
       "      <th></th>\n",
       "      <th>0</th>\n",
       "      <th>1</th>\n",
       "      <th>2</th>\n",
       "      <th>subgroup</th>\n",
       "    </tr>\n",
       "  </thead>\n",
       "  <tbody>\n",
       "    <tr>\n",
       "      <th rowspan=\"4\" valign=\"top\">59.0049</th>\n",
       "      <th>369.1213</th>\n",
       "      <td>0.783019</td>\n",
       "      <td>0.024875</td>\n",
       "      <td>0.354545</td>\n",
       "      <td>0</td>\n",
       "    </tr>\n",
       "    <tr>\n",
       "      <th>503.0807</th>\n",
       "      <td>0.000378</td>\n",
       "      <td>0.239430</td>\n",
       "      <td>0.066928</td>\n",
       "      <td>0</td>\n",
       "    </tr>\n",
       "    <tr>\n",
       "      <th>558.4273</th>\n",
       "      <td>2.496010</td>\n",
       "      <td>0.103704</td>\n",
       "      <td>0.548030</td>\n",
       "      <td>0</td>\n",
       "    </tr>\n",
       "    <tr>\n",
       "      <th>977.8237</th>\n",
       "      <td>0.492603</td>\n",
       "      <td>0.250157</td>\n",
       "      <td>0.101900</td>\n",
       "      <td>0</td>\n",
       "    </tr>\n",
       "    <tr>\n",
       "      <th>274.0123</th>\n",
       "      <th>191.046</th>\n",
       "      <td>2.037267</td>\n",
       "      <td>0.176170</td>\n",
       "      <td>0.041174</td>\n",
       "      <td>0</td>\n",
       "    </tr>\n",
       "  </tbody>\n",
       "</table>\n",
       "</div>"
      ],
      "text/plain": [
       "                          0         1         2  subgroup\n",
       "59.0049  369.1213  0.783019  0.024875  0.354545         0\n",
       "         503.0807  0.000378  0.239430  0.066928         0\n",
       "         558.4273  2.496010  0.103704  0.548030         0\n",
       "         977.8237  0.492603  0.250157  0.101900         0\n",
       "274.0123 191.046   2.037267  0.176170  0.041174         0"
      ]
     },
     "execution_count": 16,
     "metadata": {},
     "output_type": "execute_result"
    },
    {
     "name": "stdout",
     "output_type": "stream",
     "text": [
      "time: 11.9 ms (started: 2023-06-09 08:47:17 -05:00)\n"
     ]
    }
   ],
   "source": [
    "df_edge_embeddings_concat_filter = dict_df_edge_embeddings_concat_filter[groups_id[0]]\n",
    "df_edge_embeddings_concat_filter.head()"
   ]
  },
  {
   "cell_type": "code",
   "execution_count": null,
   "metadata": {},
   "outputs": [
    {
     "name": "stdout",
     "output_type": "stream",
     "text": [
      "time: 619 µs (started: 2023-06-09 08:47:17 -05:00)\n"
     ]
    }
   ],
   "source": [
    "# format id\n",
    "if option:\n",
    "    for group in tqdm(groups_id):\n",
    "        # format\n",
    "        df_edge_embeddings_concat_filter = dict_df_edge_embeddings_concat_filter[group]\n",
    "        list_index = []\n",
    "\n",
    "        for row in tqdm(df_edge_embeddings_concat_filter.itertuples()):\n",
    "            list_index.append((row[0][0][1:], row[0][1][1:]))\n",
    "        \n",
    "        # set new index\n",
    "        df_edge_embeddings_concat_filter.set_index([pd.Index(list_index)], inplace=True)\n",
    "        df_edge_embeddings_concat_filter"
   ]
  },
  {
   "cell_type": "code",
   "execution_count": null,
   "metadata": {},
   "outputs": [
    {
     "data": {
      "text/html": [
       "<div>\n",
       "<style scoped>\n",
       "    .dataframe tbody tr th:only-of-type {\n",
       "        vertical-align: middle;\n",
       "    }\n",
       "\n",
       "    .dataframe tbody tr th {\n",
       "        vertical-align: top;\n",
       "    }\n",
       "\n",
       "    .dataframe thead th {\n",
       "        text-align: right;\n",
       "    }\n",
       "</style>\n",
       "<table border=\"1\" class=\"dataframe\">\n",
       "  <thead>\n",
       "    <tr style=\"text-align: right;\">\n",
       "      <th></th>\n",
       "      <th></th>\n",
       "      <th>0</th>\n",
       "      <th>1</th>\n",
       "      <th>2</th>\n",
       "      <th>subgroup</th>\n",
       "    </tr>\n",
       "  </thead>\n",
       "  <tbody>\n",
       "    <tr>\n",
       "      <th rowspan=\"4\" valign=\"top\">59.0049</th>\n",
       "      <th>369.1213</th>\n",
       "      <td>0.783019</td>\n",
       "      <td>0.024875</td>\n",
       "      <td>0.354545</td>\n",
       "      <td>0</td>\n",
       "    </tr>\n",
       "    <tr>\n",
       "      <th>503.0807</th>\n",
       "      <td>0.000378</td>\n",
       "      <td>0.239430</td>\n",
       "      <td>0.066928</td>\n",
       "      <td>0</td>\n",
       "    </tr>\n",
       "    <tr>\n",
       "      <th>558.4273</th>\n",
       "      <td>2.496010</td>\n",
       "      <td>0.103704</td>\n",
       "      <td>0.548030</td>\n",
       "      <td>0</td>\n",
       "    </tr>\n",
       "    <tr>\n",
       "      <th>977.8237</th>\n",
       "      <td>0.492603</td>\n",
       "      <td>0.250157</td>\n",
       "      <td>0.101900</td>\n",
       "      <td>0</td>\n",
       "    </tr>\n",
       "    <tr>\n",
       "      <th>274.0123</th>\n",
       "      <th>191.046</th>\n",
       "      <td>2.037267</td>\n",
       "      <td>0.176170</td>\n",
       "      <td>0.041174</td>\n",
       "      <td>0</td>\n",
       "    </tr>\n",
       "  </tbody>\n",
       "</table>\n",
       "</div>"
      ],
      "text/plain": [
       "                          0         1         2  subgroup\n",
       "59.0049  369.1213  0.783019  0.024875  0.354545         0\n",
       "         503.0807  0.000378  0.239430  0.066928         0\n",
       "         558.4273  2.496010  0.103704  0.548030         0\n",
       "         977.8237  0.492603  0.250157  0.101900         0\n",
       "274.0123 191.046   2.037267  0.176170  0.041174         0"
      ]
     },
     "execution_count": 18,
     "metadata": {},
     "output_type": "execute_result"
    },
    {
     "name": "stdout",
     "output_type": "stream",
     "text": [
      "time: 7.19 ms (started: 2023-06-09 08:47:17 -05:00)\n"
     ]
    }
   ],
   "source": [
    "df_edge_embeddings_concat_filter = dict_df_edge_embeddings_concat_filter[groups_id[0]]\n",
    "df_edge_embeddings_concat_filter.head()"
   ]
  },
  {
   "cell_type": "code",
   "execution_count": null,
   "metadata": {},
   "outputs": [
    {
     "data": {
      "text/plain": [
       "MultiIndex([( '59.0049', '369.1213'),\n",
       "            ( '59.0049', '503.0807'),\n",
       "            ( '59.0049', '558.4273'),\n",
       "            ( '59.0049', '977.8237'),\n",
       "            ('274.0123',  '191.046')],\n",
       "           )"
      ]
     },
     "execution_count": 19,
     "metadata": {},
     "output_type": "execute_result"
    },
    {
     "name": "stdout",
     "output_type": "stream",
     "text": [
      "time: 4.1 ms (started: 2023-06-09 08:47:18 -05:00)\n"
     ]
    }
   ],
   "source": [
    "df_edge_embeddings_concat_filter.index[:5]"
   ]
  },
  {
   "cell_type": "code",
   "execution_count": null,
   "metadata": {},
   "outputs": [
    {
     "name": "stdout",
     "output_type": "stream",
     "text": [
      "time: 1.08 ms (started: 2023-06-09 08:47:18 -05:00)\n"
     ]
    }
   ],
   "source": [
    "# filter diferente edges\n",
    "\n",
    "if option:\n",
    "    for group in tqdm(groups_id):\n",
    "        df_edge_embeddings_concat_filter = dict_df_edge_embeddings_concat_filter[group]\n",
    "        df_edge_embeddings_concat_filter = df_edge_embeddings_concat_filter[df_edge_embeddings_concat_filter.index.get_level_values(0) != df_edge_embeddings_concat_filter.index.get_level_values(1)]\n",
    "        dict_df_edge_embeddings_concat_filter[group] = df_edge_embeddings_concat_filter"
   ]
  },
  {
   "cell_type": "code",
   "execution_count": null,
   "metadata": {},
   "outputs": [
    {
     "name": "stdout",
     "output_type": "stream",
     "text": [
      "(11009014, 4)\n"
     ]
    },
    {
     "data": {
      "text/html": [
       "<div>\n",
       "<style scoped>\n",
       "    .dataframe tbody tr th:only-of-type {\n",
       "        vertical-align: middle;\n",
       "    }\n",
       "\n",
       "    .dataframe tbody tr th {\n",
       "        vertical-align: top;\n",
       "    }\n",
       "\n",
       "    .dataframe thead th {\n",
       "        text-align: right;\n",
       "    }\n",
       "</style>\n",
       "<table border=\"1\" class=\"dataframe\">\n",
       "  <thead>\n",
       "    <tr style=\"text-align: right;\">\n",
       "      <th></th>\n",
       "      <th></th>\n",
       "      <th>0</th>\n",
       "      <th>1</th>\n",
       "      <th>2</th>\n",
       "      <th>subgroup</th>\n",
       "    </tr>\n",
       "  </thead>\n",
       "  <tbody>\n",
       "    <tr>\n",
       "      <th rowspan=\"4\" valign=\"top\">59.0049</th>\n",
       "      <th>369.1213</th>\n",
       "      <td>0.783019</td>\n",
       "      <td>0.024875</td>\n",
       "      <td>0.354545</td>\n",
       "      <td>0</td>\n",
       "    </tr>\n",
       "    <tr>\n",
       "      <th>503.0807</th>\n",
       "      <td>0.000378</td>\n",
       "      <td>0.239430</td>\n",
       "      <td>0.066928</td>\n",
       "      <td>0</td>\n",
       "    </tr>\n",
       "    <tr>\n",
       "      <th>558.4273</th>\n",
       "      <td>2.496010</td>\n",
       "      <td>0.103704</td>\n",
       "      <td>0.548030</td>\n",
       "      <td>0</td>\n",
       "    </tr>\n",
       "    <tr>\n",
       "      <th>977.8237</th>\n",
       "      <td>0.492603</td>\n",
       "      <td>0.250157</td>\n",
       "      <td>0.101900</td>\n",
       "      <td>0</td>\n",
       "    </tr>\n",
       "    <tr>\n",
       "      <th>274.0123</th>\n",
       "      <th>191.046</th>\n",
       "      <td>2.037267</td>\n",
       "      <td>0.176170</td>\n",
       "      <td>0.041174</td>\n",
       "      <td>0</td>\n",
       "    </tr>\n",
       "  </tbody>\n",
       "</table>\n",
       "</div>"
      ],
      "text/plain": [
       "                          0         1         2  subgroup\n",
       "59.0049  369.1213  0.783019  0.024875  0.354545         0\n",
       "         503.0807  0.000378  0.239430  0.066928         0\n",
       "         558.4273  2.496010  0.103704  0.548030         0\n",
       "         977.8237  0.492603  0.250157  0.101900         0\n",
       "274.0123 191.046   2.037267  0.176170  0.041174         0"
      ]
     },
     "execution_count": 21,
     "metadata": {},
     "output_type": "execute_result"
    },
    {
     "name": "stdout",
     "output_type": "stream",
     "text": [
      "time: 8.51 ms (started: 2023-06-09 08:47:18 -05:00)\n"
     ]
    }
   ],
   "source": [
    "df_edge_embeddings_concat_filter = dict_df_edge_embeddings_concat_filter[groups_id[0]]\n",
    "print(df_edge_embeddings_concat_filter.shape)\n",
    "df_edge_embeddings_concat_filter.head()"
   ]
  },
  {
   "cell_type": "code",
   "execution_count": null,
   "metadata": {},
   "outputs": [
    {
     "name": "stderr",
     "output_type": "stream",
     "text": [
      "100%|██████████| 3/3 [00:14<00:00,  4.82s/it]"
     ]
    },
    {
     "name": "stdout",
     "output_type": "stream",
     "text": [
      "time: 14.5 s (started: 2023-06-09 08:47:18 -05:00)\n"
     ]
    },
    {
     "name": "stderr",
     "output_type": "stream",
     "text": [
      "\n"
     ]
    }
   ],
   "source": [
    "# count edges and filter by count\n",
    "\n",
    "dict_df_edges_filter = {}\n",
    "for group in tqdm(groups_id):\n",
    "    # count\n",
    "    df_edge_embeddings_concat_filter = dict_df_edge_embeddings_concat_filter[group]\n",
    "\n",
    "    df_edge_embeddings_concat_filter.reset_index(inplace=True)\n",
    "    df_edge_embeddings_concat_filter = df_edge_embeddings_concat_filter[[\"level_0\", \"level_1\"]].value_counts().to_frame()\n",
    "    df_edge_embeddings_concat_filter.reset_index(inplace=True)\n",
    "    df_edge_embeddings_concat_filter.columns = [\"source\", \"target\", \"count\"]\n",
    "\n",
    "    # filter\n",
    "    df_edge_embeddings_concat_filter = df_edge_embeddings_concat_filter[df_edge_embeddings_concat_filter[\"count\"] == len(subgroups_id[group])]\n",
    "    df_edge_embeddings_concat_filter = df_edge_embeddings_concat_filter.iloc[:, [0, 1]]\n",
    "    dict_df_edges_filter[group] = df_edge_embeddings_concat_filter"
   ]
  },
  {
   "cell_type": "code",
   "execution_count": null,
   "metadata": {},
   "outputs": [
    {
     "data": {
      "text/html": [
       "<div>\n",
       "<style scoped>\n",
       "    .dataframe tbody tr th:only-of-type {\n",
       "        vertical-align: middle;\n",
       "    }\n",
       "\n",
       "    .dataframe tbody tr th {\n",
       "        vertical-align: top;\n",
       "    }\n",
       "\n",
       "    .dataframe thead th {\n",
       "        text-align: right;\n",
       "    }\n",
       "</style>\n",
       "<table border=\"1\" class=\"dataframe\">\n",
       "  <thead>\n",
       "    <tr style=\"text-align: right;\">\n",
       "      <th></th>\n",
       "      <th>source</th>\n",
       "      <th>target</th>\n",
       "    </tr>\n",
       "  </thead>\n",
       "  <tbody>\n",
       "    <tr>\n",
       "      <th>0</th>\n",
       "      <td>384.0997</td>\n",
       "      <td>460.0954</td>\n",
       "    </tr>\n",
       "    <tr>\n",
       "      <th>1</th>\n",
       "      <td>690.4982</td>\n",
       "      <td>799.4705</td>\n",
       "    </tr>\n",
       "    <tr>\n",
       "      <th>2</th>\n",
       "      <td>719.4862</td>\n",
       "      <td>820.5967</td>\n",
       "    </tr>\n",
       "    <tr>\n",
       "      <th>3</th>\n",
       "      <td>377.0857</td>\n",
       "      <td>481.1227</td>\n",
       "    </tr>\n",
       "    <tr>\n",
       "      <th>4</th>\n",
       "      <td>719.4862</td>\n",
       "      <td>819.5543</td>\n",
       "    </tr>\n",
       "  </tbody>\n",
       "</table>\n",
       "</div>"
      ],
      "text/plain": [
       "     source    target\n",
       "0  384.0997  460.0954\n",
       "1  690.4982  799.4705\n",
       "2  719.4862  820.5967\n",
       "3  377.0857  481.1227\n",
       "4  719.4862  819.5543"
      ]
     },
     "execution_count": 23,
     "metadata": {},
     "output_type": "execute_result"
    },
    {
     "name": "stdout",
     "output_type": "stream",
     "text": [
      "time: 8.66 ms (started: 2023-06-09 08:47:33 -05:00)\n"
     ]
    }
   ],
   "source": [
    "df_edges_filter = dict_df_edges_filter[groups_id[0]]\n",
    "df_edges_filter.head()"
   ]
  },
  {
   "cell_type": "code",
   "execution_count": null,
   "metadata": {},
   "outputs": [
    {
     "name": "stdout",
     "output_type": "stream",
     "text": [
      "<class 'pandas.core.frame.DataFrame'>\n",
      "Int64Index: 28840 entries, 0 to 28839\n",
      "Data columns (total 2 columns):\n",
      " #   Column  Non-Null Count  Dtype \n",
      "---  ------  --------------  ----- \n",
      " 0   source  28840 non-null  object\n",
      " 1   target  28840 non-null  object\n",
      "dtypes: object(2)\n",
      "memory usage: 675.9+ KB\n",
      "time: 19.7 ms (started: 2023-06-09 08:47:33 -05:00)\n"
     ]
    }
   ],
   "source": [
    "df_edges_filter.info()"
   ]
  },
  {
   "cell_type": "code",
   "execution_count": null,
   "metadata": {},
   "outputs": [
    {
     "name": "stderr",
     "output_type": "stream",
     "text": [
      "100%|██████████| 3/3 [00:00<00:00, 43.88it/s]"
     ]
    },
    {
     "name": "stdout",
     "output_type": "stream",
     "text": [
      "time: 71.9 ms (started: 2023-06-09 08:47:33 -05:00)\n"
     ]
    },
    {
     "name": "stderr",
     "output_type": "stream",
     "text": [
      "\n"
     ]
    }
   ],
   "source": [
    "# change data type\n",
    "for group in tqdm(groups_id):\n",
    "    df_edges_filter = dict_df_edges_filter[group]\n",
    "    df_edges_filter[[\"source\", \"target\"]] = df_edges_filter[[\"source\", \"target\"]].astype(\"string\")"
   ]
  },
  {
   "cell_type": "code",
   "execution_count": null,
   "metadata": {},
   "outputs": [
    {
     "data": {
      "text/html": [
       "<div>\n",
       "<style scoped>\n",
       "    .dataframe tbody tr th:only-of-type {\n",
       "        vertical-align: middle;\n",
       "    }\n",
       "\n",
       "    .dataframe tbody tr th {\n",
       "        vertical-align: top;\n",
       "    }\n",
       "\n",
       "    .dataframe thead th {\n",
       "        text-align: right;\n",
       "    }\n",
       "</style>\n",
       "<table border=\"1\" class=\"dataframe\">\n",
       "  <thead>\n",
       "    <tr style=\"text-align: right;\">\n",
       "      <th></th>\n",
       "      <th>source</th>\n",
       "      <th>target</th>\n",
       "    </tr>\n",
       "  </thead>\n",
       "  <tbody>\n",
       "    <tr>\n",
       "      <th>0</th>\n",
       "      <td>384.0997</td>\n",
       "      <td>460.0954</td>\n",
       "    </tr>\n",
       "    <tr>\n",
       "      <th>1</th>\n",
       "      <td>690.4982</td>\n",
       "      <td>799.4705</td>\n",
       "    </tr>\n",
       "    <tr>\n",
       "      <th>2</th>\n",
       "      <td>719.4862</td>\n",
       "      <td>820.5967</td>\n",
       "    </tr>\n",
       "    <tr>\n",
       "      <th>3</th>\n",
       "      <td>377.0857</td>\n",
       "      <td>481.1227</td>\n",
       "    </tr>\n",
       "    <tr>\n",
       "      <th>4</th>\n",
       "      <td>719.4862</td>\n",
       "      <td>819.5543</td>\n",
       "    </tr>\n",
       "  </tbody>\n",
       "</table>\n",
       "</div>"
      ],
      "text/plain": [
       "     source    target\n",
       "0  384.0997  460.0954\n",
       "1  690.4982  799.4705\n",
       "2  719.4862  820.5967\n",
       "3  377.0857  481.1227\n",
       "4  719.4862  819.5543"
      ]
     },
     "execution_count": 26,
     "metadata": {},
     "output_type": "execute_result"
    },
    {
     "name": "stdout",
     "output_type": "stream",
     "text": [
      "time: 8.92 ms (started: 2023-06-09 08:47:33 -05:00)\n"
     ]
    }
   ],
   "source": [
    "df_edges_filter = dict_df_edges_filter[groups_id[0]]\n",
    "df_edges_filter.head()"
   ]
  },
  {
   "cell_type": "code",
   "execution_count": null,
   "metadata": {},
   "outputs": [
    {
     "name": "stdout",
     "output_type": "stream",
     "text": [
      "<class 'pandas.core.frame.DataFrame'>\n",
      "Int64Index: 28840 entries, 0 to 28839\n",
      "Data columns (total 2 columns):\n",
      " #   Column  Non-Null Count  Dtype \n",
      "---  ------  --------------  ----- \n",
      " 0   source  28840 non-null  string\n",
      " 1   target  28840 non-null  string\n",
      "dtypes: string(2)\n",
      "memory usage: 675.9 KB\n",
      "time: 17 ms (started: 2023-06-09 08:47:33 -05:00)\n"
     ]
    }
   ],
   "source": [
    "df_edges_filter.info()"
   ]
  },
  {
   "cell_type": "code",
   "execution_count": null,
   "metadata": {
    "notebookRunGroups": {
     "groupValue": "2"
    }
   },
   "outputs": [
    {
     "name": "stderr",
     "output_type": "stream",
     "text": [
      "100%|██████████| 5/5 [00:21<00:00,  4.28s/it]\n",
      "100%|██████████| 3/3 [00:33<00:00, 11.28s/it]\n",
      "100%|██████████| 2/2 [00:12<00:00,  6.10s/it]\n",
      "100%|██████████| 3/3 [01:08<00:00, 22.98s/it]\n"
     ]
    },
    {
     "data": {
      "text/html": [
       "<div>\n",
       "<style scoped>\n",
       "    .dataframe tbody tr th:only-of-type {\n",
       "        vertical-align: middle;\n",
       "    }\n",
       "\n",
       "    .dataframe tbody tr th {\n",
       "        vertical-align: top;\n",
       "    }\n",
       "\n",
       "    .dataframe thead th {\n",
       "        text-align: right;\n",
       "    }\n",
       "</style>\n",
       "<table border=\"1\" class=\"dataframe\">\n",
       "  <thead>\n",
       "    <tr style=\"text-align: right;\">\n",
       "      <th></th>\n",
       "      <th>source</th>\n",
       "      <th>target</th>\n",
       "      <th>subgroup1</th>\n",
       "      <th>subgroup2</th>\n",
       "      <th>subgroup3</th>\n",
       "      <th>subgroup4</th>\n",
       "      <th>subgroup5</th>\n",
       "    </tr>\n",
       "  </thead>\n",
       "  <tbody>\n",
       "    <tr>\n",
       "      <th>25653</th>\n",
       "      <td>109.0407</td>\n",
       "      <td>114.056</td>\n",
       "      <td>0.684680</td>\n",
       "      <td>0.654750</td>\n",
       "      <td>0.527725</td>\n",
       "      <td>0.859966</td>\n",
       "      <td>0.823646</td>\n",
       "    </tr>\n",
       "    <tr>\n",
       "      <th>26195</th>\n",
       "      <td>109.0407</td>\n",
       "      <td>127.0513</td>\n",
       "      <td>0.791174</td>\n",
       "      <td>0.792589</td>\n",
       "      <td>0.782065</td>\n",
       "      <td>0.917810</td>\n",
       "      <td>0.870420</td>\n",
       "    </tr>\n",
       "    <tr>\n",
       "      <th>26183</th>\n",
       "      <td>109.0407</td>\n",
       "      <td>131.0462</td>\n",
       "      <td>0.802158</td>\n",
       "      <td>0.721020</td>\n",
       "      <td>0.613603</td>\n",
       "      <td>0.872517</td>\n",
       "      <td>0.867231</td>\n",
       "    </tr>\n",
       "    <tr>\n",
       "      <th>26226</th>\n",
       "      <td>109.0407</td>\n",
       "      <td>132.086</td>\n",
       "      <td>0.764665</td>\n",
       "      <td>0.614573</td>\n",
       "      <td>0.603960</td>\n",
       "      <td>0.893537</td>\n",
       "      <td>0.878882</td>\n",
       "    </tr>\n",
       "    <tr>\n",
       "      <th>26213</th>\n",
       "      <td>109.0407</td>\n",
       "      <td>135.0311</td>\n",
       "      <td>0.725125</td>\n",
       "      <td>0.726942</td>\n",
       "      <td>0.835541</td>\n",
       "      <td>0.930601</td>\n",
       "      <td>0.916594</td>\n",
       "    </tr>\n",
       "  </tbody>\n",
       "</table>\n",
       "</div>"
      ],
      "text/plain": [
       "         source    target  subgroup1  subgroup2  subgroup3  subgroup4  \\\n",
       "25653  109.0407   114.056   0.684680   0.654750   0.527725   0.859966   \n",
       "26195  109.0407  127.0513   0.791174   0.792589   0.782065   0.917810   \n",
       "26183  109.0407  131.0462   0.802158   0.721020   0.613603   0.872517   \n",
       "26226  109.0407   132.086   0.764665   0.614573   0.603960   0.893537   \n",
       "26213  109.0407  135.0311   0.725125   0.726942   0.835541   0.930601   \n",
       "\n",
       "       subgroup5  \n",
       "25653   0.823646  \n",
       "26195   0.870420  \n",
       "26183   0.867231  \n",
       "26226   0.878882  \n",
       "26213   0.916594  "
      ]
     },
     "execution_count": 28,
     "metadata": {},
     "output_type": "execute_result"
    },
    {
     "name": "stdout",
     "output_type": "stream",
     "text": [
      "time: 1min 9s (started: 2023-06-09 08:47:33 -05:00)\n"
     ]
    }
   ],
   "source": [
    "# get weight by subgroups\n",
    "\n",
    "dict_df_edges_filter_weight = get_weight_global(dict_df_edges_filter, exp, groups_id, subgroups_id)\n",
    "df_edges_filter_weight = dict_df_edges_filter_weight[groups_id[0]]\n",
    "df_edges_filter_weight.head()"
   ]
  },
  {
   "cell_type": "code",
   "execution_count": null,
   "metadata": {},
   "outputs": [
    {
     "data": {
      "text/html": [
       "<div>\n",
       "<style scoped>\n",
       "    .dataframe tbody tr th:only-of-type {\n",
       "        vertical-align: middle;\n",
       "    }\n",
       "\n",
       "    .dataframe tbody tr th {\n",
       "        vertical-align: top;\n",
       "    }\n",
       "\n",
       "    .dataframe thead th {\n",
       "        text-align: right;\n",
       "    }\n",
       "</style>\n",
       "<table border=\"1\" class=\"dataframe\">\n",
       "  <thead>\n",
       "    <tr style=\"text-align: right;\">\n",
       "      <th></th>\n",
       "      <th>source</th>\n",
       "      <th>target</th>\n",
       "      <th>subgroup1</th>\n",
       "      <th>subgroup2</th>\n",
       "      <th>subgroup3</th>\n",
       "      <th>subgroup4</th>\n",
       "      <th>subgroup5</th>\n",
       "    </tr>\n",
       "  </thead>\n",
       "  <tbody>\n",
       "    <tr>\n",
       "      <th>25653</th>\n",
       "      <td>109.0407</td>\n",
       "      <td>114.056</td>\n",
       "      <td>0.684680</td>\n",
       "      <td>0.654750</td>\n",
       "      <td>0.527725</td>\n",
       "      <td>0.859966</td>\n",
       "      <td>0.823646</td>\n",
       "    </tr>\n",
       "    <tr>\n",
       "      <th>26195</th>\n",
       "      <td>109.0407</td>\n",
       "      <td>127.0513</td>\n",
       "      <td>0.791174</td>\n",
       "      <td>0.792589</td>\n",
       "      <td>0.782065</td>\n",
       "      <td>0.917810</td>\n",
       "      <td>0.870420</td>\n",
       "    </tr>\n",
       "    <tr>\n",
       "      <th>26183</th>\n",
       "      <td>109.0407</td>\n",
       "      <td>131.0462</td>\n",
       "      <td>0.802158</td>\n",
       "      <td>0.721020</td>\n",
       "      <td>0.613603</td>\n",
       "      <td>0.872517</td>\n",
       "      <td>0.867231</td>\n",
       "    </tr>\n",
       "    <tr>\n",
       "      <th>26226</th>\n",
       "      <td>109.0407</td>\n",
       "      <td>132.086</td>\n",
       "      <td>0.764665</td>\n",
       "      <td>0.614573</td>\n",
       "      <td>0.603960</td>\n",
       "      <td>0.893537</td>\n",
       "      <td>0.878882</td>\n",
       "    </tr>\n",
       "    <tr>\n",
       "      <th>26213</th>\n",
       "      <td>109.0407</td>\n",
       "      <td>135.0311</td>\n",
       "      <td>0.725125</td>\n",
       "      <td>0.726942</td>\n",
       "      <td>0.835541</td>\n",
       "      <td>0.930601</td>\n",
       "      <td>0.916594</td>\n",
       "    </tr>\n",
       "  </tbody>\n",
       "</table>\n",
       "</div>"
      ],
      "text/plain": [
       "         source    target  subgroup1  subgroup2  subgroup3  subgroup4  \\\n",
       "25653  109.0407   114.056   0.684680   0.654750   0.527725   0.859966   \n",
       "26195  109.0407  127.0513   0.791174   0.792589   0.782065   0.917810   \n",
       "26183  109.0407  131.0462   0.802158   0.721020   0.613603   0.872517   \n",
       "26226  109.0407   132.086   0.764665   0.614573   0.603960   0.893537   \n",
       "26213  109.0407  135.0311   0.725125   0.726942   0.835541   0.930601   \n",
       "\n",
       "       subgroup5  \n",
       "25653   0.823646  \n",
       "26195   0.870420  \n",
       "26183   0.867231  \n",
       "26226   0.878882  \n",
       "26213   0.916594  "
      ]
     },
     "execution_count": 29,
     "metadata": {},
     "output_type": "execute_result"
    },
    {
     "name": "stdout",
     "output_type": "stream",
     "text": [
      "time: 15.1 ms (started: 2023-06-09 08:48:42 -05:00)\n"
     ]
    }
   ],
   "source": [
    "df_edges_filter_weight = dict_df_edges_filter_weight[groups_id[0]]\n",
    "df_edges_filter_weight.head()"
   ]
  },
  {
   "attachments": {},
   "cell_type": "markdown",
   "metadata": {},
   "source": [
    "### Filter by STD and average weight"
   ]
  },
  {
   "cell_type": "code",
   "execution_count": null,
   "metadata": {
    "notebookRunGroups": {
     "groupValue": "2"
    }
   },
   "outputs": [
    {
     "name": "stderr",
     "output_type": "stream",
     "text": [
      "100%|██████████| 3/3 [00:13<00:00,  4.65s/it]\n"
     ]
    },
    {
     "data": {
      "text/html": [
       "<div>\n",
       "<style scoped>\n",
       "    .dataframe tbody tr th:only-of-type {\n",
       "        vertical-align: middle;\n",
       "    }\n",
       "\n",
       "    .dataframe tbody tr th {\n",
       "        vertical-align: top;\n",
       "    }\n",
       "\n",
       "    .dataframe thead th {\n",
       "        text-align: right;\n",
       "    }\n",
       "</style>\n",
       "<table border=\"1\" class=\"dataframe\">\n",
       "  <thead>\n",
       "    <tr style=\"text-align: right;\">\n",
       "      <th></th>\n",
       "      <th>source</th>\n",
       "      <th>target</th>\n",
       "      <th>weight</th>\n",
       "    </tr>\n",
       "  </thead>\n",
       "  <tbody>\n",
       "    <tr>\n",
       "      <th>0</th>\n",
       "      <td>109.0407</td>\n",
       "      <td>114.056</td>\n",
       "      <td>0.710154</td>\n",
       "    </tr>\n",
       "    <tr>\n",
       "      <th>1</th>\n",
       "      <td>109.0407</td>\n",
       "      <td>127.0513</td>\n",
       "      <td>0.830812</td>\n",
       "    </tr>\n",
       "    <tr>\n",
       "      <th>2</th>\n",
       "      <td>109.0407</td>\n",
       "      <td>131.0462</td>\n",
       "      <td>0.775306</td>\n",
       "    </tr>\n",
       "    <tr>\n",
       "      <th>3</th>\n",
       "      <td>109.0407</td>\n",
       "      <td>132.086</td>\n",
       "      <td>0.751123</td>\n",
       "    </tr>\n",
       "    <tr>\n",
       "      <th>4</th>\n",
       "      <td>109.0407</td>\n",
       "      <td>135.0311</td>\n",
       "      <td>0.826961</td>\n",
       "    </tr>\n",
       "  </tbody>\n",
       "</table>\n",
       "</div>"
      ],
      "text/plain": [
       "     source    target    weight\n",
       "0  109.0407   114.056  0.710154\n",
       "1  109.0407  127.0513  0.830812\n",
       "2  109.0407  131.0462  0.775306\n",
       "3  109.0407   132.086  0.751123\n",
       "4  109.0407  135.0311  0.826961"
      ]
     },
     "execution_count": 30,
     "metadata": {},
     "output_type": "execute_result"
    },
    {
     "name": "stdout",
     "output_type": "stream",
     "text": [
      "time: 14 s (started: 2023-06-09 08:48:43 -05:00)\n"
     ]
    }
   ],
   "source": [
    "dict_df_common_edges = std_global(dict_df_edges_filter_weight, exp, method, groups_id, option, th=0.3, plot=True, save=True)\n",
    "dict_df_common_edges[groups_id[0]].head()"
   ]
  },
  {
   "cell_type": "code",
   "execution_count": null,
   "metadata": {},
   "outputs": [
    {
     "data": {
      "text/html": [
       "<div>\n",
       "<style scoped>\n",
       "    .dataframe tbody tr th:only-of-type {\n",
       "        vertical-align: middle;\n",
       "    }\n",
       "\n",
       "    .dataframe tbody tr th {\n",
       "        vertical-align: top;\n",
       "    }\n",
       "\n",
       "    .dataframe thead th {\n",
       "        text-align: right;\n",
       "    }\n",
       "</style>\n",
       "<table border=\"1\" class=\"dataframe\">\n",
       "  <thead>\n",
       "    <tr style=\"text-align: right;\">\n",
       "      <th></th>\n",
       "      <th>source</th>\n",
       "      <th>target</th>\n",
       "      <th>weight</th>\n",
       "    </tr>\n",
       "  </thead>\n",
       "  <tbody>\n",
       "    <tr>\n",
       "      <th>0</th>\n",
       "      <td>109.0407</td>\n",
       "      <td>114.056</td>\n",
       "      <td>0.710154</td>\n",
       "    </tr>\n",
       "    <tr>\n",
       "      <th>1</th>\n",
       "      <td>109.0407</td>\n",
       "      <td>127.0513</td>\n",
       "      <td>0.830812</td>\n",
       "    </tr>\n",
       "    <tr>\n",
       "      <th>2</th>\n",
       "      <td>109.0407</td>\n",
       "      <td>131.0462</td>\n",
       "      <td>0.775306</td>\n",
       "    </tr>\n",
       "    <tr>\n",
       "      <th>3</th>\n",
       "      <td>109.0407</td>\n",
       "      <td>132.086</td>\n",
       "      <td>0.751123</td>\n",
       "    </tr>\n",
       "    <tr>\n",
       "      <th>4</th>\n",
       "      <td>109.0407</td>\n",
       "      <td>135.0311</td>\n",
       "      <td>0.826961</td>\n",
       "    </tr>\n",
       "  </tbody>\n",
       "</table>\n",
       "</div>"
      ],
      "text/plain": [
       "     source    target    weight\n",
       "0  109.0407   114.056  0.710154\n",
       "1  109.0407  127.0513  0.830812\n",
       "2  109.0407  131.0462  0.775306\n",
       "3  109.0407   132.086  0.751123\n",
       "4  109.0407  135.0311  0.826961"
      ]
     },
     "execution_count": 31,
     "metadata": {},
     "output_type": "execute_result"
    },
    {
     "name": "stdout",
     "output_type": "stream",
     "text": [
      "time: 30.3 ms (started: 2023-06-09 08:48:57 -05:00)\n"
     ]
    }
   ],
   "source": [
    "df_common_edges = pd.read_csv(\"output/{}/common_edges/common_edges_{}_{}_{}.csv\".format(exp, method, groups_id[0], option),\n",
    "                              dtype={\"source\": \"string\", \"target\": \"string\"})\n",
    "df_common_edges.head()"
   ]
  },
  {
   "cell_type": "code",
   "execution_count": null,
   "metadata": {},
   "outputs": [
    {
     "name": "stderr",
     "output_type": "stream",
     "text": [
      "  0%|          | 0/3 [00:00<?, ?it/s]"
     ]
    },
    {
     "name": "stdout",
     "output_type": "stream",
     "text": [
      "Group: WT\n",
      "Num. nodes: 2305\n",
      "Num. edges: 28617\n",
      "\n"
     ]
    },
    {
     "name": "stderr",
     "output_type": "stream",
     "text": [
      " 67%|██████▋   | 2/3 [00:01<00:00,  1.94it/s]"
     ]
    },
    {
     "name": "stdout",
     "output_type": "stream",
     "text": [
      "Group: zwf1^\n",
      "Num. nodes: 4875\n",
      "Num. edges: 495251\n",
      "\n"
     ]
    },
    {
     "name": "stderr",
     "output_type": "stream",
     "text": [
      "100%|██████████| 3/3 [00:01<00:00,  1.57it/s]"
     ]
    },
    {
     "name": "stdout",
     "output_type": "stream",
     "text": [
      "Group: pck1^\n",
      "Num. nodes: 5276\n",
      "Num. edges: 445248\n",
      "\n",
      "time: 1.91 s (started: 2023-06-09 08:48:57 -05:00)\n"
     ]
    },
    {
     "name": "stderr",
     "output_type": "stream",
     "text": [
      "\n"
     ]
    }
   ],
   "source": [
    "# show details\n",
    "\n",
    "for group in tqdm(groups_id):\n",
    "    df_common_edges = pd.read_csv(\"output/{}/common_edges/common_edges_{}_{}_{}.csv\".format(exp, method, group, option))\n",
    "    \n",
    "    G = nx.from_pandas_edgelist(df_common_edges, \"source\", \"target\", edge_attr=[\"weight\"])\n",
    "    print(\"Group: {}\".format(group))\n",
    "    graph_detail(G)"
   ]
  }
 ],
 "metadata": {
  "kernelspec": {
   "display_name": "Python 3 (ipykernel)",
   "language": "python",
   "name": "python3"
  },
  "language_info": {
   "codemirror_mode": {
    "name": "ipython",
    "version": 3
   },
   "file_extension": ".py",
   "mimetype": "text/x-python",
   "name": "python",
   "nbconvert_exporter": "python",
   "pygments_lexer": "ipython3",
   "version": "3.10.11"
  },
  "orig_nbformat": 4
 },
 "nbformat": 4,
 "nbformat_minor": 2
}
